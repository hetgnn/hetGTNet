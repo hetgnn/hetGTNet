{
 "cells": [
  {
   "cell_type": "code",
   "execution_count": 1,
   "metadata": {},
   "outputs": [
    {
     "name": "stderr",
     "output_type": "stream",
     "text": [
      "C:\\Users\\chaof\\Anaconda3\\lib\\site-packages\\torch\\utils\\cpp_extension.py:305: UserWarning: Error checking compiler version for cl: [WinError 2] The system cannot find the file specified\n",
      "  warnings.warn(f'Error checking compiler version for {compiler}: {error}')\n"
     ]
    }
   ],
   "source": [
    "from train_simpleHGN import main\n",
    "import numpy as np"
   ]
  },
  {
   "cell_type": "code",
   "execution_count": 2,
   "metadata": {},
   "outputs": [],
   "source": [
    "class config:\n",
    "    dataset = 'ACM'\n",
    "    data_path = '../GTN/data/'\n",
    "    epoch = 500\n",
    "    patience = 100\n",
    "    n_hid = 64\n",
    "    edge_dim = 64\n",
    "    num_heads = 1\n",
    "    dropout = 0.5\n",
    "    dropout2 = 0.5\n",
    "    lr = 0.01\n",
    "    weight_decay = 0\n",
    "    hop = 20\n",
    "    negative_slope = 0.05\n",
    "    beta = 0.05\n",
    "    num_test = 30\n",
    "    filter_pct = 0.1 # remove the top and bottom filer_pct points before obtaining statistics of test accuracy\n",
    "    average = 'macro' # 'f1 average: can choose either macro or micro.'\n",
    "    log_step = 1000 # training log step\n",
    "    \n",
    "args = config()"
   ]
  },
  {
   "cell_type": "code",
   "execution_count": 3,
   "metadata": {
    "scrolled": false
   },
   "outputs": [
    {
     "name": "stdout",
     "output_type": "stream",
     "text": [
      "\n",
      "start testing on ACM dataset\n",
      "#Parameters: 375625\n",
      "total time = 38.139, train time/epoch = 0.32909, best_val_f1 (macro) = 0.174, best_test_f1 (macro) = 0.237\n",
      "#Parameters: 375625\n",
      "total time = 61.300, train time/epoch = 0.33129, best_val_f1 (macro) = 0.326, best_test_f1 (macro) = 0.341\n",
      "#Parameters: 375625\n",
      "total time = 34.828, train time/epoch = 0.29971, best_val_f1 (macro) = 0.173, best_test_f1 (macro) = 0.138\n",
      "#Parameters: 375625\n",
      "total time = 36.089, train time/epoch = 0.31110, best_val_f1 (macro) = 0.167, best_test_f1 (macro) = 0.117\n",
      "#Parameters: 375625\n",
      "total time = 36.230, train time/epoch = 0.31203, best_val_f1 (macro) = 0.167, best_test_f1 (macro) = 0.235\n",
      "#Parameters: 375625\n",
      "total time = 42.730, train time/epoch = 0.30894, best_val_f1 (macro) = 0.334, best_test_f1 (macro) = 0.317\n",
      "#Parameters: 375625\n",
      "total time = 34.448, train time/epoch = 0.29644, best_val_f1 (macro) = 0.167, best_test_f1 (macro) = 0.235\n",
      "#Parameters: 375625\n",
      "total time = 35.423, train time/epoch = 0.29260, best_val_f1 (macro) = 0.403, best_test_f1 (macro) = 0.322\n",
      "#Parameters: 375625\n",
      "total time = 35.604, train time/epoch = 0.30463, best_val_f1 (macro) = 0.449, best_test_f1 (macro) = 0.506\n",
      "#Parameters: 375625\n",
      "total time = 37.258, train time/epoch = 0.30622, best_val_f1 (macro) = 0.198, best_test_f1 (macro) = 0.156\n",
      "#Parameters: 375625\n",
      "total time = 36.641, train time/epoch = 0.30898, best_val_f1 (macro) = 0.312, best_test_f1 (macro) = 0.244\n",
      "#Parameters: 375625\n",
      "total time = 34.456, train time/epoch = 0.29607, best_val_f1 (macro) = 0.167, best_test_f1 (macro) = 0.131\n",
      "#Parameters: 375625\n",
      "total time = 36.420, train time/epoch = 0.31444, best_val_f1 (macro) = 0.194, best_test_f1 (macro) = 0.251\n",
      "#Parameters: 375625\n",
      "total time = 33.944, train time/epoch = 0.29147, best_val_f1 (macro) = 0.167, best_test_f1 (macro) = 0.117\n",
      "#Parameters: 375625\n",
      "total time = 40.456, train time/epoch = 0.29972, best_val_f1 (macro) = 0.287, best_test_f1 (macro) = 0.241\n",
      "#Parameters: 375625\n",
      "total time = 35.252, train time/epoch = 0.30012, best_val_f1 (macro) = 0.429, best_test_f1 (macro) = 0.398\n",
      "#Parameters: 375625\n",
      "total time = 34.913, train time/epoch = 0.30000, best_val_f1 (macro) = 0.167, best_test_f1 (macro) = 0.131\n",
      "#Parameters: 375625\n",
      "total time = 35.065, train time/epoch = 0.29271, best_val_f1 (macro) = 0.198, best_test_f1 (macro) = 0.167\n",
      "#Parameters: 375625\n",
      "total time = 36.115, train time/epoch = 0.31174, best_val_f1 (macro) = 0.167, best_test_f1 (macro) = 0.123\n",
      "#Parameters: 375625\n",
      "total time = 39.297, train time/epoch = 0.29910, best_val_f1 (macro) = 0.380, best_test_f1 (macro) = 0.328\n",
      "#Parameters: 375625\n",
      "total time = 35.071, train time/epoch = 0.29863, best_val_f1 (macro) = 0.193, best_test_f1 (macro) = 0.151\n",
      "#Parameters: 375625\n",
      "total time = 35.996, train time/epoch = 0.31007, best_val_f1 (macro) = 0.186, best_test_f1 (macro) = 0.160\n",
      "#Parameters: 375625\n",
      "total time = 62.792, train time/epoch = 0.32175, best_val_f1 (macro) = 0.628, best_test_f1 (macro) = 0.597\n",
      "#Parameters: 375625\n",
      "total time = 37.215, train time/epoch = 0.29081, best_val_f1 (macro) = 0.271, best_test_f1 (macro) = 0.239\n",
      "#Parameters: 375625\n",
      "total time = 35.498, train time/epoch = 0.30550, best_val_f1 (macro) = 0.167, best_test_f1 (macro) = 0.235\n",
      "#Parameters: 375625\n",
      "total time = 35.563, train time/epoch = 0.30263, best_val_f1 (macro) = 0.187, best_test_f1 (macro) = 0.247\n",
      "#Parameters: 375625\n",
      "total time = 37.345, train time/epoch = 0.29852, best_val_f1 (macro) = 0.192, best_test_f1 (macro) = 0.149\n",
      "#Parameters: 375625\n",
      "total time = 41.207, train time/epoch = 0.33413, best_val_f1 (macro) = 0.250, best_test_f1 (macro) = 0.196\n",
      "#Parameters: 375625\n",
      "total time = 42.118, train time/epoch = 0.29490, best_val_f1 (macro) = 0.304, best_test_f1 (macro) = 0.254\n",
      "#Parameters: 375625\n",
      "total time = 36.615, train time/epoch = 0.31604, best_val_f1 (macro) = 0.167, best_test_f1 (macro) = 0.131\n",
      "test macro-f1 (mean, std):  0.23637630210999822 0.11267041840253304\n",
      "test macro-f1 (mean, std) after filter:  0.21801658808058869 0.06536195992419815\n",
      "\n",
      "start testing on IMDB dataset\n",
      "#Parameters: 450121\n",
      "total time = 60.351, train time/epoch = 0.29115, best_val_f1 (macro) = 0.346, best_test_f1 (macro) = 0.289\n",
      "#Parameters: 450121\n",
      "total time = 75.517, train time/epoch = 0.30756, best_val_f1 (macro) = 0.325, best_test_f1 (macro) = 0.266\n",
      "#Parameters: 450121\n",
      "total time = 67.568, train time/epoch = 0.27901, best_val_f1 (macro) = 0.304, best_test_f1 (macro) = 0.308\n",
      "#Parameters: 450121\n",
      "total time = 32.638, train time/epoch = 0.25391, best_val_f1 (macro) = 0.238, best_test_f1 (macro) = 0.243\n",
      "#Parameters: 450121\n",
      "total time = 44.162, train time/epoch = 0.30282, best_val_f1 (macro) = 0.254, best_test_f1 (macro) = 0.247\n",
      "#Parameters: 450121\n",
      "total time = 64.756, train time/epoch = 0.30037, best_val_f1 (macro) = 0.312, best_test_f1 (macro) = 0.293\n",
      "#Parameters: 450121\n",
      "total time = 41.679, train time/epoch = 0.25067, best_val_f1 (macro) = 0.383, best_test_f1 (macro) = 0.344\n",
      "#Parameters: 450121\n",
      "total time = 45.686, train time/epoch = 0.28869, best_val_f1 (macro) = 0.306, best_test_f1 (macro) = 0.321\n",
      "#Parameters: 450121\n",
      "total time = 37.506, train time/epoch = 0.29986, best_val_f1 (macro) = 0.314, best_test_f1 (macro) = 0.307\n",
      "#Parameters: 450121\n",
      "total time = 96.765, train time/epoch = 0.29168, best_val_f1 (macro) = 0.332, best_test_f1 (macro) = 0.331\n",
      "#Parameters: 450121\n",
      "total time = 68.975, train time/epoch = 0.26575, best_val_f1 (macro) = 0.318, best_test_f1 (macro) = 0.291\n",
      "#Parameters: 450121\n",
      "total time = 49.607, train time/epoch = 0.29772, best_val_f1 (macro) = 0.324, best_test_f1 (macro) = 0.289\n",
      "#Parameters: 450121\n",
      "total time = 96.136, train time/epoch = 0.32041, best_val_f1 (macro) = 0.394, best_test_f1 (macro) = 0.331\n",
      "#Parameters: 450121\n",
      "total time = 65.432, train time/epoch = 0.26799, best_val_f1 (macro) = 0.281, best_test_f1 (macro) = 0.283\n",
      "#Parameters: 450121\n",
      "total time = 31.104, train time/epoch = 0.25656, best_val_f1 (macro) = 0.264, best_test_f1 (macro) = 0.267\n",
      "#Parameters: 450121\n",
      "total time = 57.930, train time/epoch = 0.25432, best_val_f1 (macro) = 0.290, best_test_f1 (macro) = 0.256\n",
      "#Parameters: 450121\n",
      "total time = 38.278, train time/epoch = 0.27207, best_val_f1 (macro) = 0.375, best_test_f1 (macro) = 0.347\n",
      "#Parameters: 450121\n",
      "total time = 36.561, train time/epoch = 0.29857, best_val_f1 (macro) = 0.260, best_test_f1 (macro) = 0.238\n",
      "#Parameters: 450121\n",
      "total time = 42.317, train time/epoch = 0.29479, best_val_f1 (macro) = 0.245, best_test_f1 (macro) = 0.249\n",
      "#Parameters: 450121\n",
      "total time = 37.698, train time/epoch = 0.25863, best_val_f1 (macro) = 0.214, best_test_f1 (macro) = 0.253\n",
      "#Parameters: 450121\n",
      "total time = 57.155, train time/epoch = 0.25453, best_val_f1 (macro) = 0.231, best_test_f1 (macro) = 0.238\n",
      "#Parameters: 450121\n",
      "total time = 34.110, train time/epoch = 0.26205, best_val_f1 (macro) = 0.185, best_test_f1 (macro) = 0.200\n",
      "#Parameters: 450121\n",
      "total time = 46.639, train time/epoch = 0.25847, best_val_f1 (macro) = 0.267, best_test_f1 (macro) = 0.260\n",
      "#Parameters: 450121\n",
      "total time = 34.780, train time/epoch = 0.25776, best_val_f1 (macro) = 0.195, best_test_f1 (macro) = 0.217\n",
      "#Parameters: 450121\n",
      "total time = 30.073, train time/epoch = 0.25308, best_val_f1 (macro) = 0.167, best_test_f1 (macro) = 0.135\n",
      "#Parameters: 450121\n",
      "total time = 47.200, train time/epoch = 0.29976, best_val_f1 (macro) = 0.271, best_test_f1 (macro) = 0.250\n",
      "#Parameters: 450121\n",
      "total time = 48.594, train time/epoch = 0.29607, best_val_f1 (macro) = 0.303, best_test_f1 (macro) = 0.283\n",
      "#Parameters: 450121\n",
      "total time = 36.689, train time/epoch = 0.25826, best_val_f1 (macro) = 0.329, best_test_f1 (macro) = 0.338\n",
      "#Parameters: 450121\n",
      "total time = 36.584, train time/epoch = 0.30033, best_val_f1 (macro) = 0.298, best_test_f1 (macro) = 0.274\n",
      "#Parameters: 450121\n",
      "total time = 47.340, train time/epoch = 0.30592, best_val_f1 (macro) = 0.350, best_test_f1 (macro) = 0.323\n",
      "test macro-f1 (mean, std):  0.2757145775764246 0.045976325312768074\n",
      "test macro-f1 (mean, std) after filter:  0.2787418256007322 0.02920469844296403\n",
      "\n",
      "start testing on DBLP dataset\n",
      "#Parameters: 275404\n",
      "total time = 51.361, train time/epoch = 0.41871, best_val_f1 (macro) = 0.126, best_test_f1 (macro) = 0.150\n",
      "#Parameters: 275404\n",
      "total time = 54.616, train time/epoch = 0.46489, best_val_f1 (macro) = 0.324, best_test_f1 (macro) = 0.366\n",
      "#Parameters: 275404\n"
     ]
    },
    {
     "name": "stdout",
     "output_type": "stream",
     "text": [
      "total time = 55.981, train time/epoch = 0.39465, best_val_f1 (macro) = 0.345, best_test_f1 (macro) = 0.363\n",
      "#Parameters: 275404\n",
      "total time = 53.631, train time/epoch = 0.45508, best_val_f1 (macro) = 0.299, best_test_f1 (macro) = 0.336\n",
      "#Parameters: 275404\n",
      "total time = 50.084, train time/epoch = 0.39969, best_val_f1 (macro) = 0.345, best_test_f1 (macro) = 0.319\n",
      "#Parameters: 275404\n",
      "total time = 66.933, train time/epoch = 0.38290, best_val_f1 (macro) = 0.375, best_test_f1 (macro) = 0.408\n",
      "#Parameters: 275404\n",
      "total time = 47.391, train time/epoch = 0.40859, best_val_f1 (macro) = 0.306, best_test_f1 (macro) = 0.323\n",
      "#Parameters: 275404\n",
      "total time = 52.286, train time/epoch = 0.43985, best_val_f1 (macro) = 0.291, best_test_f1 (macro) = 0.311\n",
      "#Parameters: 275404\n",
      "total time = 80.642, train time/epoch = 0.43749, best_val_f1 (macro) = 0.295, best_test_f1 (macro) = 0.311\n",
      "#Parameters: 275404\n",
      "total time = 48.210, train time/epoch = 0.40785, best_val_f1 (macro) = 0.136, best_test_f1 (macro) = 0.160\n",
      "#Parameters: 275404\n",
      "total time = 48.612, train time/epoch = 0.39846, best_val_f1 (macro) = 0.168, best_test_f1 (macro) = 0.199\n",
      "#Parameters: 275404\n",
      "total time = 52.069, train time/epoch = 0.44787, best_val_f1 (macro) = 0.244, best_test_f1 (macro) = 0.283\n",
      "#Parameters: 275404\n",
      "total time = 49.376, train time/epoch = 0.42084, best_val_f1 (macro) = 0.128, best_test_f1 (macro) = 0.144\n",
      "#Parameters: 275404\n",
      "total time = 56.656, train time/epoch = 0.44530, best_val_f1 (macro) = 0.331, best_test_f1 (macro) = 0.368\n",
      "#Parameters: 275404\n",
      "total time = 49.199, train time/epoch = 0.39977, best_val_f1 (macro) = 0.316, best_test_f1 (macro) = 0.301\n",
      "#Parameters: 275404\n",
      "total time = 55.204, train time/epoch = 0.42746, best_val_f1 (macro) = 0.128, best_test_f1 (macro) = 0.140\n",
      "#Parameters: 275404\n",
      "total time = 48.943, train time/epoch = 0.40550, best_val_f1 (macro) = 0.116, best_test_f1 (macro) = 0.133\n",
      "#Parameters: 275404\n",
      "total time = 47.077, train time/epoch = 0.39628, best_val_f1 (macro) = 0.334, best_test_f1 (macro) = 0.367\n",
      "#Parameters: 275404\n",
      "total time = 47.797, train time/epoch = 0.39877, best_val_f1 (macro) = 0.133, best_test_f1 (macro) = 0.158\n",
      "#Parameters: 275404\n",
      "total time = 49.142, train time/epoch = 0.41685, best_val_f1 (macro) = 0.127, best_test_f1 (macro) = 0.145\n",
      "#Parameters: 275404\n",
      "total time = 53.322, train time/epoch = 0.45285, best_val_f1 (macro) = 0.305, best_test_f1 (macro) = 0.273\n",
      "#Parameters: 275404\n",
      "total time = 51.891, train time/epoch = 0.42048, best_val_f1 (macro) = 0.331, best_test_f1 (macro) = 0.361\n",
      "#Parameters: 275404\n",
      "total time = 46.282, train time/epoch = 0.40208, best_val_f1 (macro) = 0.153, best_test_f1 (macro) = 0.161\n",
      "#Parameters: 275404\n",
      "total time = 57.020, train time/epoch = 0.41157, best_val_f1 (macro) = 0.186, best_test_f1 (macro) = 0.215\n",
      "#Parameters: 275404\n",
      "total time = 47.470, train time/epoch = 0.40367, best_val_f1 (macro) = 0.315, best_test_f1 (macro) = 0.357\n",
      "#Parameters: 275404\n",
      "total time = 50.247, train time/epoch = 0.42746, best_val_f1 (macro) = 0.268, best_test_f1 (macro) = 0.297\n",
      "#Parameters: 275404\n",
      "total time = 48.520, train time/epoch = 0.40480, best_val_f1 (macro) = 0.349, best_test_f1 (macro) = 0.371\n",
      "#Parameters: 275404\n",
      "total time = 50.816, train time/epoch = 0.43555, best_val_f1 (macro) = 0.359, best_test_f1 (macro) = 0.389\n",
      "#Parameters: 275404\n",
      "total time = 52.328, train time/epoch = 0.45468, best_val_f1 (macro) = 0.110, best_test_f1 (macro) = 0.103\n",
      "#Parameters: 275404\n",
      "total time = 48.712, train time/epoch = 0.39952, best_val_f1 (macro) = 0.120, best_test_f1 (macro) = 0.134\n",
      "test macro-f1 (mean, std):  0.2647789499901754 0.09705137667117432\n",
      "test macro-f1 (mean, std) after filter:  0.2669484900908077 0.0852632327695859\n"
     ]
    }
   ],
   "source": [
    "f1s = []\n",
    "datasets = ['ACM', 'IMDB', 'DBLP']\n",
    "for dataset in datasets:\n",
    "    args.dataset = dataset\n",
    "    print('\\nstart testing on ' + dataset + ' dataset')\n",
    "    f1s.append(main(args))"
   ]
  },
  {
   "cell_type": "code",
   "execution_count": 4,
   "metadata": {},
   "outputs": [],
   "source": [
    "f1s = np.array(f1s)"
   ]
  },
  {
   "cell_type": "code",
   "execution_count": 6,
   "metadata": {},
   "outputs": [],
   "source": [
    "def remove_edge_pts(accs, pct=0.1):\n",
    "    accs = sorted(list(accs))\n",
    "    N = len(accs)\n",
    "    M = int(N * pct)\n",
    "    accs = np.array(accs[M:N-M])\n",
    "    return accs"
   ]
  },
  {
   "cell_type": "code",
   "execution_count": 7,
   "metadata": {},
   "outputs": [
    {
     "data": {
      "text/plain": [
       "(0.2929165794627466, 0.07513582342888175)"
      ]
     },
     "execution_count": 7,
     "metadata": {},
     "output_type": "execute_result"
    }
   ],
   "source": [
    "# remove some unstable results\n",
    "f1_ACM = f1s[0][f1s[0] > 0.2]\n",
    "f1 = remove_edge_pts(f1_ACM, pct=args.filter_pct)\n",
    "f1.mean(), f1.std()"
   ]
  },
  {
   "cell_type": "code",
   "execution_count": 8,
   "metadata": {},
   "outputs": [
    {
     "data": {
      "text/plain": [
       "(0.33495010497887945, 0.03420330370217081)"
      ]
     },
     "execution_count": 8,
     "metadata": {},
     "output_type": "execute_result"
    }
   ],
   "source": [
    "f1_DBLP = f1s[2][f1s[2] > 0.2]\n",
    "f1 = remove_edge_pts(f1_DBLP, pct=args.filter_pct)\n",
    "f1.mean(), f1.std()"
   ]
  },
  {
   "cell_type": "code",
   "execution_count": null,
   "metadata": {},
   "outputs": [],
   "source": []
  }
 ],
 "metadata": {
  "kernelspec": {
   "display_name": "Python 3",
   "language": "python",
   "name": "python3"
  },
  "language_info": {
   "codemirror_mode": {
    "name": "ipython",
    "version": 3
   },
   "file_extension": ".py",
   "mimetype": "text/x-python",
   "name": "python",
   "nbconvert_exporter": "python",
   "pygments_lexer": "ipython3",
   "version": "3.8.8"
  }
 },
 "nbformat": 4,
 "nbformat_minor": 4
}
