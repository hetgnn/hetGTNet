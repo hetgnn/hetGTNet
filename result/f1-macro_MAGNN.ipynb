{
 "cells": [
  {
   "cell_type": "code",
   "execution_count": 1,
   "metadata": {},
   "outputs": [
    {
     "name": "stderr",
     "output_type": "stream",
     "text": [
      "Using backend: pytorch\n"
     ]
    }
   ],
   "source": [
    "root_dir = '../MAGNN' # dir of the source code\n",
    "import sys\n",
    "sys.path.append(root_dir)\n",
    "from main import main\n",
    "import numpy as np\n",
    "import warnings\n",
    "warnings.filterwarnings('ignore')"
   ]
  },
  {
   "cell_type": "code",
   "execution_count": 2,
   "metadata": {},
   "outputs": [],
   "source": [
    "class config:\n",
    "    dataset = 'ACM'\n",
    "    data_path = '../MAGNN/data/'\n",
    "    save_path = '../MAGNN/checkpoint/' # path for saving models\n",
    "    feats_type = 2\n",
    "    layers = 2\n",
    "    hidden_dim = 8\n",
    "    num_heads = 8\n",
    "    attn_vec_dim = 128\n",
    "    rnn_type = 'RotatE0'\n",
    "    dropout = 0.5\n",
    "    learning_rate = 0.005\n",
    "    weight_decay = 0.001\n",
    "    epoch = 100\n",
    "    patience = 10\n",
    "    batch_size = 8\n",
    "    samples = 100\n",
    "    repeat = 30\n",
    "    average = 'macro' # 'f1 average: can choose either macro or micro.'\n",
    "    filter_pct = 0.1 # remove the top and bottom filer_pct points before obtaining statistics of test accuracy\n",
    "    log_step = 1000 # training log step\n",
    "    \n",
    "args = config()"
   ]
  },
  {
   "cell_type": "code",
   "execution_count": 3,
   "metadata": {
    "scrolled": false
   },
   "outputs": [
    {
     "name": "stdout",
     "output_type": "stream",
     "text": [
      "\n",
      "start testing on ACM dataset\n",
      "model folder exists!\n",
      "total time = 36.513, train time/epoch = 0.71658, best_val_f1 (macro) = 0.920, test_f1 (macro) = 0.910\n",
      "total time = 36.491, train time/epoch = 0.67659, best_val_f1 (macro) = 0.920, test_f1 (macro) = 0.908\n",
      "total time = 36.488, train time/epoch = 0.67633, best_val_f1 (macro) = 0.920, test_f1 (macro) = 0.907\n",
      "total time = 32.393, train time/epoch = 0.67724, best_val_f1 (macro) = 0.933, test_f1 (macro) = 0.914\n",
      "total time = 27.421, train time/epoch = 0.67674, best_val_f1 (macro) = 0.934, test_f1 (macro) = 0.912\n",
      "total time = 34.852, train time/epoch = 0.67707, best_val_f1 (macro) = 0.930, test_f1 (macro) = 0.907\n",
      "total time = 35.701, train time/epoch = 0.67686, best_val_f1 (macro) = 0.933, test_f1 (macro) = 0.908\n",
      "total time = 29.090, train time/epoch = 0.67736, best_val_f1 (macro) = 0.920, test_f1 (macro) = 0.910\n",
      "total time = 50.548, train time/epoch = 0.67692, best_val_f1 (macro) = 0.924, test_f1 (macro) = 0.910\n",
      "total time = 40.630, train time/epoch = 0.67677, best_val_f1 (macro) = 0.923, test_f1 (macro) = 0.899\n",
      "total time = 37.354, train time/epoch = 0.67726, best_val_f1 (macro) = 0.947, test_f1 (macro) = 0.911\n",
      "total time = 23.294, train time/epoch = 0.67678, best_val_f1 (macro) = 0.927, test_f1 (macro) = 0.907\n",
      "total time = 38.991, train time/epoch = 0.67684, best_val_f1 (macro) = 0.943, test_f1 (macro) = 0.899\n",
      "total time = 41.510, train time/epoch = 0.67738, best_val_f1 (macro) = 0.930, test_f1 (macro) = 0.894\n",
      "total time = 20.832, train time/epoch = 0.67740, best_val_f1 (macro) = 0.917, test_f1 (macro) = 0.889\n",
      "total time = 24.130, train time/epoch = 0.67674, best_val_f1 (macro) = 0.920, test_f1 (macro) = 0.912\n",
      "total time = 29.077, train time/epoch = 0.67700, best_val_f1 (macro) = 0.927, test_f1 (macro) = 0.911\n",
      "total time = 31.563, train time/epoch = 0.67715, best_val_f1 (macro) = 0.920, test_f1 (macro) = 0.911\n",
      "total time = 33.217, train time/epoch = 0.67717, best_val_f1 (macro) = 0.917, test_f1 (macro) = 0.898\n",
      "total time = 41.446, train time/epoch = 0.67684, best_val_f1 (macro) = 0.933, test_f1 (macro) = 0.901\n",
      "total time = 45.588, train time/epoch = 0.67695, best_val_f1 (macro) = 0.924, test_f1 (macro) = 0.902\n",
      "total time = 23.293, train time/epoch = 0.67708, best_val_f1 (macro) = 0.930, test_f1 (macro) = 0.900\n",
      "total time = 29.909, train time/epoch = 0.67681, best_val_f1 (macro) = 0.910, test_f1 (macro) = 0.908\n",
      "total time = 27.427, train time/epoch = 0.67689, best_val_f1 (macro) = 0.930, test_f1 (macro) = 0.896\n",
      "total time = 23.297, train time/epoch = 0.67679, best_val_f1 (macro) = 0.917, test_f1 (macro) = 0.921\n",
      "total time = 24.137, train time/epoch = 0.67732, best_val_f1 (macro) = 0.933, test_f1 (macro) = 0.915\n",
      "total time = 44.755, train time/epoch = 0.67678, best_val_f1 (macro) = 0.940, test_f1 (macro) = 0.915\n",
      "total time = 57.974, train time/epoch = 0.67672, best_val_f1 (macro) = 0.934, test_f1 (macro) = 0.908\n",
      "total time = 33.206, train time/epoch = 0.67722, best_val_f1 (macro) = 0.937, test_f1 (macro) = 0.915\n",
      "total time = 37.328, train time/epoch = 0.67679, best_val_f1 (macro) = 0.920, test_f1 (macro) = 0.903\n",
      "----------------------------------------------------------------\n",
      "test macro-f1 (mean, std):  0.9066668877624102 0.007168984382210211\n",
      "test macro-f1 (mean, std) after filter:  0.9070849169204754 0.004855890123600954\n",
      "\n",
      "start testing on IMDB dataset\n",
      "model folder exists!\n",
      "total time = 8.104, train time/epoch = 0.16832, best_val_f1 (macro) = 0.609, test_f1 (macro) = 0.584\n",
      "total time = 6.974, train time/epoch = 0.16493, best_val_f1 (macro) = 0.620, test_f1 (macro) = 0.581\n",
      "total time = 5.673, train time/epoch = 0.16424, best_val_f1 (macro) = 0.623, test_f1 (macro) = 0.594\n",
      "total time = 6.928, train time/epoch = 0.16443, best_val_f1 (macro) = 0.613, test_f1 (macro) = 0.576\n",
      "total time = 12.260, train time/epoch = 0.16556, best_val_f1 (macro) = 0.632, test_f1 (macro) = 0.576\n",
      "total time = 10.520, train time/epoch = 0.16475, best_val_f1 (macro) = 0.624, test_f1 (macro) = 0.594\n",
      "total time = 4.873, train time/epoch = 0.16464, best_val_f1 (macro) = 0.614, test_f1 (macro) = 0.587\n",
      "total time = 5.529, train time/epoch = 0.16583, best_val_f1 (macro) = 0.607, test_f1 (macro) = 0.586\n",
      "total time = 10.493, train time/epoch = 0.16463, best_val_f1 (macro) = 0.608, test_f1 (macro) = 0.581\n",
      "total time = 7.178, train time/epoch = 0.16456, best_val_f1 (macro) = 0.610, test_f1 (macro) = 0.595\n",
      "total time = 9.691, train time/epoch = 0.16480, best_val_f1 (macro) = 0.655, test_f1 (macro) = 0.585\n",
      "total time = 6.568, train time/epoch = 0.16505, best_val_f1 (macro) = 0.630, test_f1 (macro) = 0.582\n",
      "total time = 6.771, train time/epoch = 0.16538, best_val_f1 (macro) = 0.619, test_f1 (macro) = 0.580\n",
      "total time = 4.453, train time/epoch = 0.16482, best_val_f1 (macro) = 0.616, test_f1 (macro) = 0.597\n",
      "total time = 7.786, train time/epoch = 0.16467, best_val_f1 (macro) = 0.628, test_f1 (macro) = 0.568\n",
      "total time = 5.271, train time/epoch = 0.16515, best_val_f1 (macro) = 0.623, test_f1 (macro) = 0.584\n",
      "total time = 8.207, train time/epoch = 0.16482, best_val_f1 (macro) = 0.615, test_f1 (macro) = 0.594\n",
      "total time = 7.136, train time/epoch = 0.16469, best_val_f1 (macro) = 0.607, test_f1 (macro) = 0.594\n",
      "total time = 5.282, train time/epoch = 0.16438, best_val_f1 (macro) = 0.632, test_f1 (macro) = 0.585\n",
      "total time = 5.282, train time/epoch = 0.16486, best_val_f1 (macro) = 0.624, test_f1 (macro) = 0.587\n",
      "total time = 9.938, train time/epoch = 0.16537, best_val_f1 (macro) = 0.634, test_f1 (macro) = 0.582\n",
      "total time = 5.900, train time/epoch = 0.16493, best_val_f1 (macro) = 0.617, test_f1 (macro) = 0.591\n",
      "total time = 7.164, train time/epoch = 0.16453, best_val_f1 (macro) = 0.626, test_f1 (macro) = 0.579\n",
      "total time = 5.886, train time/epoch = 0.16453, best_val_f1 (macro) = 0.636, test_f1 (macro) = 0.597\n",
      "total time = 7.802, train time/epoch = 0.16490, best_val_f1 (macro) = 0.615, test_f1 (macro) = 0.587\n",
      "total time = 11.985, train time/epoch = 0.16491, best_val_f1 (macro) = 0.626, test_f1 (macro) = 0.588\n",
      "total time = 8.238, train time/epoch = 0.16544, best_val_f1 (macro) = 0.623, test_f1 (macro) = 0.589\n",
      "total time = 8.210, train time/epoch = 0.16517, best_val_f1 (macro) = 0.618, test_f1 (macro) = 0.587\n",
      "total time = 6.844, train time/epoch = 0.16682, best_val_f1 (macro) = 0.628, test_f1 (macro) = 0.586\n",
      "total time = 4.665, train time/epoch = 0.16554, best_val_f1 (macro) = 0.625, test_f1 (macro) = 0.597\n",
      "----------------------------------------------------------------\n",
      "test macro-f1 (mean, std):  0.5864868051403808 0.006968025993256811\n",
      "test macro-f1 (mean, std) after filter:  0.5867954457315528 0.004776375334784153\n",
      "\n",
      "start testing on DBLP dataset\n",
      "model folder exists!\n",
      "total time = 498.776, train time/epoch = 15.62798, best_val_f1 (macro) = 0.940, test_f1 (macro) = 0.927\n",
      "total time = 525.621, train time/epoch = 16.37157, best_val_f1 (macro) = 0.957, test_f1 (macro) = 0.931\n",
      "total time = 411.356, train time/epoch = 16.43331, best_val_f1 (macro) = 0.948, test_f1 (macro) = 0.933\n",
      "total time = 438.400, train time/epoch = 16.62153, best_val_f1 (macro) = 0.948, test_f1 (macro) = 0.914\n",
      "total time = 366.130, train time/epoch = 16.52921, best_val_f1 (macro) = 0.947, test_f1 (macro) = 0.934\n",
      "total time = 365.917, train time/epoch = 16.39358, best_val_f1 (macro) = 0.955, test_f1 (macro) = 0.933\n",
      "total time = 445.329, train time/epoch = 16.98605, best_val_f1 (macro) = 0.945, test_f1 (macro) = 0.923\n",
      "total time = 352.537, train time/epoch = 15.91403, best_val_f1 (macro) = 0.940, test_f1 (macro) = 0.934\n",
      "total time = 432.693, train time/epoch = 15.60174, best_val_f1 (macro) = 0.945, test_f1 (macro) = 0.930\n",
      "total time = 389.296, train time/epoch = 15.60426, best_val_f1 (macro) = 0.945, test_f1 (macro) = 0.922\n",
      "total time = 346.023, train time/epoch = 15.61511, best_val_f1 (macro) = 0.950, test_f1 (macro) = 0.930\n",
      "total time = 367.838, train time/epoch = 15.61943, best_val_f1 (macro) = 0.942, test_f1 (macro) = 0.940\n",
      "total time = 324.059, train time/epoch = 15.59124, best_val_f1 (macro) = 0.940, test_f1 (macro) = 0.934\n",
      "total time = 324.253, train time/epoch = 15.60253, best_val_f1 (macro) = 0.938, test_f1 (macro) = 0.931\n",
      "total time = 367.406, train time/epoch = 15.59762, best_val_f1 (macro) = 0.950, test_f1 (macro) = 0.926\n"
     ]
    },
    {
     "name": "stdout",
     "output_type": "stream",
     "text": [
      "total time = 562.755, train time/epoch = 15.59599, best_val_f1 (macro) = 0.948, test_f1 (macro) = 0.928\n",
      "total time = 476.132, train time/epoch = 15.60517, best_val_f1 (macro) = 0.942, test_f1 (macro) = 0.933\n",
      "total time = 410.884, train time/epoch = 15.60107, best_val_f1 (macro) = 0.962, test_f1 (macro) = 0.927\n",
      "total time = 432.126, train time/epoch = 15.58758, best_val_f1 (macro) = 0.943, test_f1 (macro) = 0.925\n",
      "total time = 410.935, train time/epoch = 15.60511, best_val_f1 (macro) = 0.945, test_f1 (macro) = 0.932\n",
      "total time = 345.531, train time/epoch = 15.58761, best_val_f1 (macro) = 0.940, test_f1 (macro) = 0.925\n",
      "total time = 324.207, train time/epoch = 15.60855, best_val_f1 (macro) = 0.940, test_f1 (macro) = 0.934\n",
      "total time = 367.332, train time/epoch = 15.58903, best_val_f1 (macro) = 0.945, test_f1 (macro) = 0.936\n",
      "total time = 519.328, train time/epoch = 15.59707, best_val_f1 (macro) = 0.950, test_f1 (macro) = 0.924\n",
      "total time = 280.766, train time/epoch = 15.59794, best_val_f1 (macro) = 0.947, test_f1 (macro) = 0.926\n",
      "total time = 475.755, train time/epoch = 15.58852, best_val_f1 (macro) = 0.943, test_f1 (macro) = 0.934\n",
      "total time = 389.102, train time/epoch = 15.59927, best_val_f1 (macro) = 0.945, test_f1 (macro) = 0.926\n",
      "total time = 324.389, train time/epoch = 15.60200, best_val_f1 (macro) = 0.943, test_f1 (macro) = 0.931\n",
      "total time = 476.686, train time/epoch = 15.62027, best_val_f1 (macro) = 0.950, test_f1 (macro) = 0.935\n",
      "total time = 389.299, train time/epoch = 15.60246, best_val_f1 (macro) = 0.945, test_f1 (macro) = 0.928\n",
      "----------------------------------------------------------------\n",
      "test macro-f1 (mean, std):  0.9295128438031857 0.005181487931595653\n",
      "test macro-f1 (mean, std) after filter:  0.9298611482402004 0.0033822636382661417\n"
     ]
    }
   ],
   "source": [
    "f1s = []\n",
    "datasets = ['ACM', 'IMDB', 'DBLP']\n",
    "for dataset in datasets:\n",
    "    args.dataset = dataset\n",
    "    print('\\nstart testing on ' + dataset + ' dataset')\n",
    "    f1s.append(main(args))"
   ]
  },
  {
   "cell_type": "code",
   "execution_count": 4,
   "metadata": {},
   "outputs": [],
   "source": [
    "f1s = np.array(f1s)\n",
    "np.savetxt('f1-macro_MAGNN.txt',f1s)"
   ]
  }
 ],
 "metadata": {
  "kernelspec": {
   "display_name": "Python 3",
   "language": "python",
   "name": "python3"
  },
  "language_info": {
   "codemirror_mode": {
    "name": "ipython",
    "version": 3
   },
   "file_extension": ".py",
   "mimetype": "text/x-python",
   "name": "python",
   "nbconvert_exporter": "python",
   "pygments_lexer": "ipython3",
   "version": "3.8.8"
  }
 },
 "nbformat": 4,
 "nbformat_minor": 4
}
