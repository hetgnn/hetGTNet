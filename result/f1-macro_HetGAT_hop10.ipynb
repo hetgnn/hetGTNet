{
 "cells": [
  {
   "cell_type": "code",
   "execution_count": 1,
   "metadata": {},
   "outputs": [
    {
     "name": "stderr",
     "output_type": "stream",
     "text": [
      "Using backend: pytorch\n"
     ]
    }
   ],
   "source": [
    "root_dir = '..' # dir of the source code\n",
    "import sys\n",
    "sys.path.append(root_dir)\n",
    "from train import main\n",
    "import numpy as np"
   ]
  },
  {
   "cell_type": "code",
   "execution_count": 2,
   "metadata": {},
   "outputs": [],
   "source": [
    "class config:\n",
    "    data = 'ACM'\n",
    "    data_path = '../data/preprocessed/'\n",
    "    model = 'HetGAT'\n",
    "    target_node_type = 'paper'\n",
    "    n_hid = 64\n",
    "    dropout = 0.8\n",
    "    dropout2 = 0.2\n",
    "    learning_rate = 0.005\n",
    "    weight_decay = 0#5e-5\n",
    "    patience = 100\n",
    "    num_iter = 500\n",
    "    num_test = 30\n",
    "    hop = 10\n",
    "    filter_pct = 0.1 # remove the top and bottom filer_pct points before obtaining statistics of test accuracy\n",
    "    log_step = 1000 # training log step\n",
    "    layer_wise = True\n",
    "    average = 'macro' # 'f1 average: can choose either macro or micro.'\n",
    "\n",
    "args = config()"
   ]
  },
  {
   "cell_type": "code",
   "execution_count": 3,
   "metadata": {
    "scrolled": false
   },
   "outputs": [
    {
     "name": "stdout",
     "output_type": "stream",
     "text": [
      "\n",
      "start testing on ACM dataset\n",
      "total time = 32.248, train time/epoch = 0.11459, best_val_f1 (macro) = 0.903, test_f1 (macro) = 0.853\n",
      "total time = 25.967, train time/epoch = 0.11344, best_val_f1 (macro) = 0.744, test_f1 (macro) = 0.724\n",
      "total time = 36.841, train time/epoch = 0.11287, best_val_f1 (macro) = 0.920, test_f1 (macro) = 0.908\n",
      "total time = 36.880, train time/epoch = 0.11226, best_val_f1 (macro) = 0.917, test_f1 (macro) = 0.894\n",
      "total time = 35.473, train time/epoch = 0.11176, best_val_f1 (macro) = 0.918, test_f1 (macro) = 0.904\n",
      "total time = 34.621, train time/epoch = 0.11208, best_val_f1 (macro) = 0.914, test_f1 (macro) = 0.907\n",
      "total time = 38.166, train time/epoch = 0.11311, best_val_f1 (macro) = 0.921, test_f1 (macro) = 0.906\n",
      "total time = 37.947, train time/epoch = 0.11249, best_val_f1 (macro) = 0.804, test_f1 (macro) = 0.827\n",
      "total time = 25.552, train time/epoch = 0.11405, best_val_f1 (macro) = 0.911, test_f1 (macro) = 0.898\n",
      "total time = 28.715, train time/epoch = 0.11475, best_val_f1 (macro) = 0.757, test_f1 (macro) = 0.702\n",
      "total time = 35.144, train time/epoch = 0.11392, best_val_f1 (macro) = 0.870, test_f1 (macro) = 0.830\n",
      "total time = 31.850, train time/epoch = 0.11421, best_val_f1 (macro) = 0.897, test_f1 (macro) = 0.860\n",
      "total time = 45.024, train time/epoch = 0.11446, best_val_f1 (macro) = 0.924, test_f1 (macro) = 0.905\n",
      "total time = 22.180, train time/epoch = 0.11287, best_val_f1 (macro) = 0.903, test_f1 (macro) = 0.861\n",
      "total time = 43.477, train time/epoch = 0.11297, best_val_f1 (macro) = 0.914, test_f1 (macro) = 0.904\n",
      "total time = 38.808, train time/epoch = 0.11351, best_val_f1 (macro) = 0.917, test_f1 (macro) = 0.896\n",
      "total time = 30.836, train time/epoch = 0.11248, best_val_f1 (macro) = 0.863, test_f1 (macro) = 0.837\n",
      "total time = 46.861, train time/epoch = 0.11368, best_val_f1 (macro) = 0.924, test_f1 (macro) = 0.908\n",
      "total time = 36.116, train time/epoch = 0.11400, best_val_f1 (macro) = 0.896, test_f1 (macro) = 0.875\n",
      "total time = 35.713, train time/epoch = 0.11309, best_val_f1 (macro) = 0.921, test_f1 (macro) = 0.897\n",
      "total time = 15.021, train time/epoch = 0.11895, best_val_f1 (macro) = 0.681, test_f1 (macro) = 0.670\n",
      "total time = 23.179, train time/epoch = 0.11365, best_val_f1 (macro) = 0.894, test_f1 (macro) = 0.874\n",
      "total time = 29.435, train time/epoch = 0.11492, best_val_f1 (macro) = 0.906, test_f1 (macro) = 0.871\n",
      "total time = 24.798, train time/epoch = 0.11366, best_val_f1 (macro) = 0.874, test_f1 (macro) = 0.842\n",
      "total time = 46.961, train time/epoch = 0.11241, best_val_f1 (macro) = 0.924, test_f1 (macro) = 0.902\n",
      "total time = 34.665, train time/epoch = 0.11231, best_val_f1 (macro) = 0.908, test_f1 (macro) = 0.907\n",
      "total time = 33.628, train time/epoch = 0.11193, best_val_f1 (macro) = 0.917, test_f1 (macro) = 0.903\n",
      "total time = 32.204, train time/epoch = 0.11162, best_val_f1 (macro) = 0.914, test_f1 (macro) = 0.905\n",
      "total time = 31.708, train time/epoch = 0.11171, best_val_f1 (macro) = 0.917, test_f1 (macro) = 0.904\n",
      "total time = 30.440, train time/epoch = 0.11145, best_val_f1 (macro) = 0.914, test_f1 (macro) = 0.912\n",
      "test macro-f1 (mean, std):  0.8662208939619346 0.06171764857412876\n",
      "test macro-f1 (mean, std) after filter:  0.881773046492722 0.026861495879443045\n",
      "\n",
      "start testing on IMDB dataset\n",
      "total time = 22.672, train time/epoch = 0.09222, best_val_f1 (macro) = 0.475, test_f1 (macro) = 0.486\n",
      "total time = 21.297, train time/epoch = 0.09320, best_val_f1 (macro) = 0.571, test_f1 (macro) = 0.565\n",
      "total time = 14.207, train time/epoch = 0.09275, best_val_f1 (macro) = 0.515, test_f1 (macro) = 0.505\n",
      "total time = 16.958, train time/epoch = 0.09340, best_val_f1 (macro) = 0.547, test_f1 (macro) = 0.531\n",
      "total time = 15.143, train time/epoch = 0.09278, best_val_f1 (macro) = 0.484, test_f1 (macro) = 0.494\n",
      "total time = 26.669, train time/epoch = 0.09255, best_val_f1 (macro) = 0.548, test_f1 (macro) = 0.558\n",
      "total time = 29.948, train time/epoch = 0.09280, best_val_f1 (macro) = 0.573, test_f1 (macro) = 0.540\n",
      "total time = 34.788, train time/epoch = 0.09371, best_val_f1 (macro) = 0.551, test_f1 (macro) = 0.539\n",
      "total time = 35.681, train time/epoch = 0.09279, best_val_f1 (macro) = 0.537, test_f1 (macro) = 0.527\n",
      "total time = 24.915, train time/epoch = 0.09250, best_val_f1 (macro) = 0.523, test_f1 (macro) = 0.510\n",
      "total time = 25.546, train time/epoch = 0.09274, best_val_f1 (macro) = 0.523, test_f1 (macro) = 0.486\n",
      "total time = 17.932, train time/epoch = 0.09231, best_val_f1 (macro) = 0.548, test_f1 (macro) = 0.558\n",
      "total time = 34.321, train time/epoch = 0.09284, best_val_f1 (macro) = 0.529, test_f1 (macro) = 0.483\n",
      "total time = 27.231, train time/epoch = 0.09220, best_val_f1 (macro) = 0.544, test_f1 (macro) = 0.547\n",
      "total time = 24.949, train time/epoch = 0.09252, best_val_f1 (macro) = 0.557, test_f1 (macro) = 0.577\n",
      "total time = 18.670, train time/epoch = 0.09261, best_val_f1 (macro) = 0.533, test_f1 (macro) = 0.527\n",
      "total time = 21.610, train time/epoch = 0.09362, best_val_f1 (macro) = 0.535, test_f1 (macro) = 0.528\n",
      "total time = 30.773, train time/epoch = 0.09333, best_val_f1 (macro) = 0.562, test_f1 (macro) = 0.532\n",
      "total time = 14.465, train time/epoch = 0.09360, best_val_f1 (macro) = 0.582, test_f1 (macro) = 0.542\n",
      "total time = 18.448, train time/epoch = 0.09273, best_val_f1 (macro) = 0.464, test_f1 (macro) = 0.463\n",
      "total time = 13.080, train time/epoch = 0.09289, best_val_f1 (macro) = 0.530, test_f1 (macro) = 0.503\n",
      "total time = 15.110, train time/epoch = 0.09401, best_val_f1 (macro) = 0.533, test_f1 (macro) = 0.493\n",
      "total time = 27.581, train time/epoch = 0.09252, best_val_f1 (macro) = 0.541, test_f1 (macro) = 0.543\n",
      "total time = 37.821, train time/epoch = 0.09270, best_val_f1 (macro) = 0.537, test_f1 (macro) = 0.538\n",
      "total time = 32.726, train time/epoch = 0.09251, best_val_f1 (macro) = 0.504, test_f1 (macro) = 0.459\n",
      "total time = 21.627, train time/epoch = 0.09308, best_val_f1 (macro) = 0.462, test_f1 (macro) = 0.472\n",
      "total time = 34.554, train time/epoch = 0.09289, best_val_f1 (macro) = 0.523, test_f1 (macro) = 0.465\n",
      "total time = 13.850, train time/epoch = 0.09262, best_val_f1 (macro) = 0.534, test_f1 (macro) = 0.511\n",
      "total time = 14.809, train time/epoch = 0.09217, best_val_f1 (macro) = 0.552, test_f1 (macro) = 0.527\n",
      "total time = 26.890, train time/epoch = 0.09217, best_val_f1 (macro) = 0.511, test_f1 (macro) = 0.474\n",
      "test macro-f1 (mean, std):  0.5161462946210157 0.032188114474013235\n",
      "test macro-f1 (mean, std) after filter:  0.5165325752286307 0.02468300403663546\n",
      "\n",
      "start testing on DBLP dataset\n",
      "total time = 43.597, train time/epoch = 0.19509, best_val_f1 (macro) = 0.948, test_f1 (macro) = 0.911\n",
      "total time = 54.284, train time/epoch = 0.19001, best_val_f1 (macro) = 0.948, test_f1 (macro) = 0.913\n",
      "total time = 34.467, train time/epoch = 0.18831, best_val_f1 (macro) = 0.931, test_f1 (macro) = 0.913\n",
      "total time = 34.027, train time/epoch = 0.18706, best_val_f1 (macro) = 0.955, test_f1 (macro) = 0.930\n",
      "total time = 37.708, train time/epoch = 0.18983, best_val_f1 (macro) = 0.950, test_f1 (macro) = 0.929\n",
      "total time = 42.189, train time/epoch = 0.19075, best_val_f1 (macro) = 0.953, test_f1 (macro) = 0.926\n",
      "total time = 41.460, train time/epoch = 0.18502, best_val_f1 (macro) = 0.923, test_f1 (macro) = 0.915\n",
      "total time = 45.653, train time/epoch = 0.18783, best_val_f1 (macro) = 0.952, test_f1 (macro) = 0.915\n",
      "total time = 33.594, train time/epoch = 0.18832, best_val_f1 (macro) = 0.943, test_f1 (macro) = 0.924\n",
      "total time = 33.233, train time/epoch = 0.18494, best_val_f1 (macro) = 0.950, test_f1 (macro) = 0.922\n",
      "total time = 50.321, train time/epoch = 0.18578, best_val_f1 (macro) = 0.945, test_f1 (macro) = 0.914\n",
      "total time = 34.344, train time/epoch = 0.18480, best_val_f1 (macro) = 0.953, test_f1 (macro) = 0.930\n",
      "total time = 39.257, train time/epoch = 0.18742, best_val_f1 (macro) = 0.945, test_f1 (macro) = 0.928\n",
      "total time = 47.550, train time/epoch = 0.18455, best_val_f1 (macro) = 0.933, test_f1 (macro) = 0.898\n",
      "total time = 42.377, train time/epoch = 0.18713, best_val_f1 (macro) = 0.945, test_f1 (macro) = 0.919\n",
      "total time = 33.346, train time/epoch = 0.18687, best_val_f1 (macro) = 0.963, test_f1 (macro) = 0.933\n",
      "total time = 41.128, train time/epoch = 0.18769, best_val_f1 (macro) = 0.953, test_f1 (macro) = 0.931\n"
     ]
    },
    {
     "name": "stdout",
     "output_type": "stream",
     "text": [
      "total time = 34.898, train time/epoch = 0.18546, best_val_f1 (macro) = 0.948, test_f1 (macro) = 0.922\n",
      "total time = 40.106, train time/epoch = 0.18605, best_val_f1 (macro) = 0.948, test_f1 (macro) = 0.921\n",
      "total time = 53.126, train time/epoch = 0.18891, best_val_f1 (macro) = 0.953, test_f1 (macro) = 0.926\n",
      "total time = 59.435, train time/epoch = 0.18580, best_val_f1 (macro) = 0.960, test_f1 (macro) = 0.920\n",
      "total time = 41.208, train time/epoch = 0.18497, best_val_f1 (macro) = 0.950, test_f1 (macro) = 0.924\n",
      "total time = 31.442, train time/epoch = 0.18469, best_val_f1 (macro) = 0.955, test_f1 (macro) = 0.926\n",
      "total time = 45.341, train time/epoch = 0.18444, best_val_f1 (macro) = 0.940, test_f1 (macro) = 0.921\n",
      "total time = 94.137, train time/epoch = 0.18526, best_val_f1 (macro) = 0.953, test_f1 (macro) = 0.929\n",
      "total time = 57.351, train time/epoch = 0.18537, best_val_f1 (macro) = 0.943, test_f1 (macro) = 0.914\n",
      "total time = 46.675, train time/epoch = 0.18653, best_val_f1 (macro) = 0.955, test_f1 (macro) = 0.931\n",
      "total time = 80.257, train time/epoch = 0.18666, best_val_f1 (macro) = 0.945, test_f1 (macro) = 0.916\n",
      "total time = 36.115, train time/epoch = 0.18611, best_val_f1 (macro) = 0.945, test_f1 (macro) = 0.921\n",
      "total time = 40.768, train time/epoch = 0.18487, best_val_f1 (macro) = 0.955, test_f1 (macro) = 0.933\n",
      "test macro-f1 (mean, std):  0.9218907838648897 0.007891415857017033\n",
      "test macro-f1 (mean, std) after filter:  0.9223769098593012 0.005642379431693181\n"
     ]
    }
   ],
   "source": [
    "f1s = []\n",
    "datasets = ['ACM', 'IMDB', 'DBLP']\n",
    "for dataset in datasets:\n",
    "    args.data = dataset\n",
    "    if dataset == 'ACM':\n",
    "        args.dropout = 0.8\n",
    "        args.dropout2 = 0.2\n",
    "        weight_decay = 5e-5\n",
    "        args.target_node_type = 'paper'\n",
    "        print('\\nstart testing on ' + dataset + ' dataset')\n",
    "        f1s.append(main(args))\n",
    "    elif dataset == 'IMDB':\n",
    "        args.dropout = 0.8\n",
    "        args.dropout2 = 0.2\n",
    "        weight_decay = 5e-5#0\n",
    "        args.target_node_type = 'movie'\n",
    "        print('\\nstart testing on ' + dataset + ' dataset')\n",
    "        f1s.append(main(args))\n",
    "    elif dataset == 'DBLP':\n",
    "        args.dropout = 0\n",
    "        args.dropout2 = 0\n",
    "        weight_decay = 5e-5\n",
    "        args.target_node_type = 'author'\n",
    "        print('\\nstart testing on ' + dataset + ' dataset')\n",
    "        f1s.append(main(args))"
   ]
  },
  {
   "cell_type": "code",
   "execution_count": 4,
   "metadata": {},
   "outputs": [],
   "source": [
    "f1s = np.array(f1s)"
   ]
  },
  {
   "cell_type": "code",
   "execution_count": null,
   "metadata": {},
   "outputs": [],
   "source": []
  }
 ],
 "metadata": {
  "kernelspec": {
   "display_name": "Python 3",
   "language": "python",
   "name": "python3"
  },
  "language_info": {
   "codemirror_mode": {
    "name": "ipython",
    "version": 3
   },
   "file_extension": ".py",
   "mimetype": "text/x-python",
   "name": "python",
   "nbconvert_exporter": "python",
   "pygments_lexer": "ipython3",
   "version": "3.8.8"
  }
 },
 "nbformat": 4,
 "nbformat_minor": 4
}
