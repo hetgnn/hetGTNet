{
 "cells": [
  {
   "cell_type": "code",
   "execution_count": 1,
   "metadata": {},
   "outputs": [
    {
     "name": "stderr",
     "output_type": "stream",
     "text": [
      "Using backend: pytorch\n"
     ]
    }
   ],
   "source": [
    "root_dir = '../MAGNN' # dir of the source code\n",
    "import sys\n",
    "sys.path.append(root_dir)\n",
    "from main import main\n",
    "import numpy as np\n",
    "import warnings\n",
    "warnings.filterwarnings('ignore')"
   ]
  },
  {
   "cell_type": "code",
   "execution_count": 2,
   "metadata": {},
   "outputs": [],
   "source": [
    "class config:\n",
    "    dataset = 'ACM'\n",
    "    data_path = '../MAGNN/data/'\n",
    "    save_path = '../MAGNN/checkpoint/' # path for saving models\n",
    "    feats_type = 2\n",
    "    layers = 2\n",
    "    hidden_dim = 8\n",
    "    num_heads = 8\n",
    "    attn_vec_dim = 128\n",
    "    rnn_type = 'RotatE0'\n",
    "    dropout = 0.5\n",
    "    learning_rate = 0.005\n",
    "    weight_decay = 0.001\n",
    "    epoch = 100\n",
    "    patience = 10\n",
    "    batch_size = 8\n",
    "    samples = 100\n",
    "    repeat = 30\n",
    "    average = 'micro' # 'f1 average: can choose either macro or micro.'\n",
    "    filter_pct = 0.1 # remove the top and bottom filer_pct points before obtaining statistics of test accuracy\n",
    "    log_step = 1000 # training log step\n",
    "    \n",
    "args = config()"
   ]
  },
  {
   "cell_type": "code",
   "execution_count": 3,
   "metadata": {
    "scrolled": false
   },
   "outputs": [
    {
     "name": "stdout",
     "output_type": "stream",
     "text": [
      "\n",
      "start testing on ACM dataset\n",
      "model folder exists!\n",
      "total time = 38.898, train time/epoch = 0.71150, best_val_f1 (micro) = 0.927, test_f1 (micro) = 0.909\n",
      "total time = 51.414, train time/epoch = 0.67703, best_val_f1 (micro) = 0.930, test_f1 (micro) = 0.918\n",
      "total time = 21.645, train time/epoch = 0.67659, best_val_f1 (micro) = 0.927, test_f1 (micro) = 0.904\n",
      "total time = 34.864, train time/epoch = 0.67684, best_val_f1 (micro) = 0.917, test_f1 (micro) = 0.903\n",
      "total time = 25.810, train time/epoch = 0.67778, best_val_f1 (micro) = 0.923, test_f1 (micro) = 0.903\n",
      "total time = 39.848, train time/epoch = 0.67735, best_val_f1 (micro) = 0.937, test_f1 (micro) = 0.910\n",
      "total time = 31.596, train time/epoch = 0.67770, best_val_f1 (micro) = 0.927, test_f1 (micro) = 0.906\n",
      "total time = 37.385, train time/epoch = 0.67766, best_val_f1 (micro) = 0.933, test_f1 (micro) = 0.902\n",
      "total time = 24.155, train time/epoch = 0.67755, best_val_f1 (micro) = 0.920, test_f1 (micro) = 0.909\n",
      "total time = 29.914, train time/epoch = 0.67736, best_val_f1 (micro) = 0.930, test_f1 (micro) = 0.918\n",
      "total time = 34.055, train time/epoch = 0.67727, best_val_f1 (micro) = 0.920, test_f1 (micro) = 0.897\n",
      "total time = 48.943, train time/epoch = 0.67740, best_val_f1 (micro) = 0.927, test_f1 (micro) = 0.918\n",
      "total time = 27.442, train time/epoch = 0.67731, best_val_f1 (micro) = 0.927, test_f1 (micro) = 0.913\n",
      "total time = 37.358, train time/epoch = 0.67725, best_val_f1 (micro) = 0.923, test_f1 (micro) = 0.903\n",
      "total time = 34.868, train time/epoch = 0.67716, best_val_f1 (micro) = 0.933, test_f1 (micro) = 0.916\n",
      "total time = 45.622, train time/epoch = 0.67741, best_val_f1 (micro) = 0.930, test_f1 (micro) = 0.909\n",
      "total time = 29.106, train time/epoch = 0.67739, best_val_f1 (micro) = 0.933, test_f1 (micro) = 0.909\n",
      "total time = 34.030, train time/epoch = 0.67694, best_val_f1 (micro) = 0.927, test_f1 (micro) = 0.916\n",
      "total time = 43.160, train time/epoch = 0.67745, best_val_f1 (micro) = 0.923, test_f1 (micro) = 0.899\n",
      "total time = 35.701, train time/epoch = 0.67703, best_val_f1 (micro) = 0.927, test_f1 (micro) = 0.918\n",
      "total time = 38.186, train time/epoch = 0.67714, best_val_f1 (micro) = 0.927, test_f1 (micro) = 0.903\n",
      "total time = 36.585, train time/epoch = 0.67745, best_val_f1 (micro) = 0.940, test_f1 (micro) = 0.916\n",
      "total time = 27.411, train time/epoch = 0.67702, best_val_f1 (micro) = 0.927, test_f1 (micro) = 0.910\n",
      "total time = 48.094, train time/epoch = 0.67727, best_val_f1 (micro) = 0.933, test_f1 (micro) = 0.903\n",
      "total time = 35.715, train time/epoch = 0.67760, best_val_f1 (micro) = 0.927, test_f1 (micro) = 0.912\n",
      "total time = 36.520, train time/epoch = 0.67689, best_val_f1 (micro) = 0.930, test_f1 (micro) = 0.901\n",
      "total time = 23.313, train time/epoch = 0.67698, best_val_f1 (micro) = 0.923, test_f1 (micro) = 0.897\n",
      "total time = 41.482, train time/epoch = 0.67706, best_val_f1 (micro) = 0.920, test_f1 (micro) = 0.907\n",
      "total time = 32.410, train time/epoch = 0.67735, best_val_f1 (micro) = 0.933, test_f1 (micro) = 0.908\n",
      "total time = 41.487, train time/epoch = 0.67706, best_val_f1 (micro) = 0.910, test_f1 (micro) = 0.905\n",
      "----------------------------------------------------------------\n",
      "test micro-f1 (mean, std):  0.908143635780699 0.006320682293806103\n",
      "test micro-f1 (mean, std) after filter:  0.9081970717110185 0.004937260198480395\n",
      "\n",
      "start testing on IMDB dataset\n",
      "model folder exists!\n",
      "total time = 8.195, train time/epoch = 0.16944, best_val_f1 (micro) = 0.633, test_f1 (micro) = 0.585\n",
      "total time = 5.970, train time/epoch = 0.16563, best_val_f1 (micro) = 0.630, test_f1 (micro) = 0.582\n",
      "total time = 8.874, train time/epoch = 0.16550, best_val_f1 (micro) = 0.620, test_f1 (micro) = 0.588\n",
      "total time = 5.533, train time/epoch = 0.16520, best_val_f1 (micro) = 0.610, test_f1 (micro) = 0.596\n",
      "total time = 9.906, train time/epoch = 0.16536, best_val_f1 (micro) = 0.607, test_f1 (micro) = 0.583\n",
      "total time = 4.281, train time/epoch = 0.16633, best_val_f1 (micro) = 0.627, test_f1 (micro) = 0.589\n",
      "total time = 6.157, train time/epoch = 0.16541, best_val_f1 (micro) = 0.613, test_f1 (micro) = 0.599\n",
      "total time = 7.449, train time/epoch = 0.16600, best_val_f1 (micro) = 0.623, test_f1 (micro) = 0.589\n",
      "total time = 5.236, train time/epoch = 0.16891, best_val_f1 (micro) = 0.613, test_f1 (micro) = 0.589\n",
      "total time = 10.165, train time/epoch = 0.16577, best_val_f1 (micro) = 0.637, test_f1 (micro) = 0.586\n",
      "total time = 13.695, train time/epoch = 0.16516, best_val_f1 (micro) = 0.640, test_f1 (micro) = 0.573\n",
      "total time = 5.102, train time/epoch = 0.16537, best_val_f1 (micro) = 0.633, test_f1 (micro) = 0.601\n",
      "total time = 6.980, train time/epoch = 0.16507, best_val_f1 (micro) = 0.637, test_f1 (micro) = 0.586\n",
      "total time = 3.193, train time/epoch = 0.16516, best_val_f1 (micro) = 0.617, test_f1 (micro) = 0.541\n",
      "total time = 7.210, train time/epoch = 0.16531, best_val_f1 (micro) = 0.620, test_f1 (micro) = 0.585\n",
      "total time = 10.193, train time/epoch = 0.16635, best_val_f1 (micro) = 0.620, test_f1 (micro) = 0.590\n",
      "total time = 5.761, train time/epoch = 0.16597, best_val_f1 (micro) = 0.603, test_f1 (micro) = 0.604\n",
      "total time = 4.686, train time/epoch = 0.16573, best_val_f1 (micro) = 0.597, test_f1 (micro) = 0.573\n",
      "total time = 5.314, train time/epoch = 0.16554, best_val_f1 (micro) = 0.590, test_f1 (micro) = 0.556\n",
      "total time = 8.074, train time/epoch = 0.16604, best_val_f1 (micro) = 0.643, test_f1 (micro) = 0.588\n",
      "total time = 10.587, train time/epoch = 0.16590, best_val_f1 (micro) = 0.623, test_f1 (micro) = 0.583\n",
      "total time = 6.149, train time/epoch = 0.16561, best_val_f1 (micro) = 0.607, test_f1 (micro) = 0.578\n",
      "total time = 9.360, train time/epoch = 0.16596, best_val_f1 (micro) = 0.627, test_f1 (micro) = 0.594\n",
      "total time = 13.789, train time/epoch = 0.16673, best_val_f1 (micro) = 0.633, test_f1 (micro) = 0.580\n",
      "total time = 4.914, train time/epoch = 0.16614, best_val_f1 (micro) = 0.610, test_f1 (micro) = 0.605\n",
      "total time = 6.189, train time/epoch = 0.16601, best_val_f1 (micro) = 0.640, test_f1 (micro) = 0.591\n",
      "total time = 11.633, train time/epoch = 0.16574, best_val_f1 (micro) = 0.637, test_f1 (micro) = 0.593\n",
      "total time = 5.536, train time/epoch = 0.16574, best_val_f1 (micro) = 0.593, test_f1 (micro) = 0.591\n",
      "total time = 4.487, train time/epoch = 0.16565, best_val_f1 (micro) = 0.613, test_f1 (micro) = 0.594\n",
      "total time = 4.698, train time/epoch = 0.16570, best_val_f1 (micro) = 0.627, test_f1 (micro) = 0.573\n",
      "----------------------------------------------------------------\n",
      "test micro-f1 (mean, std):  0.585463114011238 0.01294446879727959\n",
      "test micro-f1 (mean, std) after filter:  0.586867862969005 0.006512528312671817\n",
      "\n",
      "start testing on DBLP dataset\n",
      "model folder exists!\n",
      "total time = 499.561, train time/epoch = 15.66278, best_val_f1 (micro) = 0.950, test_f1 (micro) = 0.926\n",
      "total time = 325.387, train time/epoch = 15.65439, best_val_f1 (micro) = 0.945, test_f1 (micro) = 0.935\n",
      "total time = 347.503, train time/epoch = 15.67606, best_val_f1 (micro) = 0.948, test_f1 (micro) = 0.937\n",
      "total time = 589.337, train time/epoch = 15.71022, best_val_f1 (micro) = 0.945, test_f1 (micro) = 0.935\n",
      "total time = 463.150, train time/epoch = 15.76734, best_val_f1 (micro) = 0.943, test_f1 (micro) = 0.935\n",
      "total time = 331.209, train time/epoch = 16.92319, best_val_f1 (micro) = 0.945, test_f1 (micro) = 0.943\n",
      "total time = 365.903, train time/epoch = 16.36485, best_val_f1 (micro) = 0.950, test_f1 (micro) = 0.930\n",
      "total time = 601.803, train time/epoch = 16.64779, best_val_f1 (micro) = 0.943, test_f1 (micro) = 0.935\n",
      "total time = 674.921, train time/epoch = 15.69069, best_val_f1 (micro) = 0.945, test_f1 (micro) = 0.937\n",
      "total time = 391.288, train time/epoch = 15.68044, best_val_f1 (micro) = 0.945, test_f1 (micro) = 0.939\n",
      "total time = 490.129, train time/epoch = 16.08006, best_val_f1 (micro) = 0.945, test_f1 (micro) = 0.938\n",
      "total time = 330.662, train time/epoch = 15.85884, best_val_f1 (micro) = 0.940, test_f1 (micro) = 0.934\n",
      "total time = 482.592, train time/epoch = 15.82739, best_val_f1 (micro) = 0.945, test_f1 (micro) = 0.938\n",
      "total time = 398.741, train time/epoch = 15.96508, best_val_f1 (micro) = 0.945, test_f1 (micro) = 0.936\n",
      "total time = 352.460, train time/epoch = 15.86794, best_val_f1 (micro) = 0.950, test_f1 (micro) = 0.932\n"
     ]
    },
    {
     "name": "stdout",
     "output_type": "stream",
     "text": [
      "total time = 522.813, train time/epoch = 15.69517, best_val_f1 (micro) = 0.943, test_f1 (micro) = 0.938\n",
      "total time = 526.750, train time/epoch = 15.81144, best_val_f1 (micro) = 0.948, test_f1 (micro) = 0.940\n",
      "total time = 416.938, train time/epoch = 15.84228, best_val_f1 (micro) = 0.953, test_f1 (micro) = 0.937\n",
      "total time = 482.408, train time/epoch = 15.84513, best_val_f1 (micro) = 0.945, test_f1 (micro) = 0.937\n",
      "total time = 414.992, train time/epoch = 15.74762, best_val_f1 (micro) = 0.945, test_f1 (micro) = 0.940\n",
      "total time = 328.122, train time/epoch = 15.84087, best_val_f1 (micro) = 0.940, test_f1 (micro) = 0.936\n",
      "total time = 304.801, train time/epoch = 15.71453, best_val_f1 (micro) = 0.943, test_f1 (micro) = 0.931\n",
      "total time = 348.551, train time/epoch = 15.72673, best_val_f1 (micro) = 0.940, test_f1 (micro) = 0.940\n",
      "total time = 328.367, train time/epoch = 15.77683, best_val_f1 (micro) = 0.948, test_f1 (micro) = 0.943\n",
      "total time = 460.000, train time/epoch = 15.80301, best_val_f1 (micro) = 0.945, test_f1 (micro) = 0.929\n",
      "total time = 501.286, train time/epoch = 15.70733, best_val_f1 (micro) = 0.940, test_f1 (micro) = 0.935\n",
      "total time = 415.014, train time/epoch = 15.75217, best_val_f1 (micro) = 0.948, test_f1 (micro) = 0.937\n",
      "total time = 325.658, train time/epoch = 15.68078, best_val_f1 (micro) = 0.932, test_f1 (micro) = 0.934\n",
      "total time = 555.059, train time/epoch = 15.93341, best_val_f1 (micro) = 0.945, test_f1 (micro) = 0.932\n",
      "total time = 435.822, train time/epoch = 15.72063, best_val_f1 (micro) = 0.953, test_f1 (micro) = 0.939\n",
      "----------------------------------------------------------------\n",
      "test micro-f1 (mean, std):  0.9360401353401002 0.003703060912356066\n",
      "test micro-f1 (mean, std) after filter:  0.9362676467156691 0.002321570214511605\n"
     ]
    }
   ],
   "source": [
    "f1s = []\n",
    "datasets = ['ACM', 'IMDB', 'DBLP']\n",
    "for dataset in datasets:\n",
    "    args.dataset = dataset\n",
    "    print('\\nstart testing on ' + dataset + ' dataset')\n",
    "    f1s.append(main(args))"
   ]
  },
  {
   "cell_type": "code",
   "execution_count": 4,
   "metadata": {},
   "outputs": [],
   "source": [
    "f1s = np.array(f1s)\n",
    "np.savetxt('f1-micro_MAGNN.txt',f1s)"
   ]
  }
 ],
 "metadata": {
  "kernelspec": {
   "display_name": "Python 3",
   "language": "python",
   "name": "python3"
  },
  "language_info": {
   "codemirror_mode": {
    "name": "ipython",
    "version": 3
   },
   "file_extension": ".py",
   "mimetype": "text/x-python",
   "name": "python",
   "nbconvert_exporter": "python",
   "pygments_lexer": "ipython3",
   "version": "3.8.8"
  }
 },
 "nbformat": 4,
 "nbformat_minor": 4
}
