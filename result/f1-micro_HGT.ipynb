{
 "cells": [
  {
   "cell_type": "code",
   "execution_count": 1,
   "metadata": {},
   "outputs": [
    {
     "name": "stderr",
     "output_type": "stream",
     "text": [
      "Using backend: pytorch\n"
     ]
    }
   ],
   "source": [
    "root_dir = '..' # dir of the source code\n",
    "import sys\n",
    "sys.path.append(root_dir)\n",
    "from train import main\n",
    "import numpy as np"
   ]
  },
  {
   "cell_type": "code",
   "execution_count": 2,
   "metadata": {},
   "outputs": [],
   "source": [
    "class config:\n",
    "    data = 'ACM'\n",
    "    data_path = '../data/preprocessed/'\n",
    "    model = 'HGT'\n",
    "    target_node_type = 'paper'\n",
    "    n_hid = 64\n",
    "    num_heads = 4\n",
    "    learning_rate = 0.005\n",
    "    weight_decay = 5e-5\n",
    "    patience = 100\n",
    "    num_iter = 500\n",
    "    num_test = 30\n",
    "    hop = 2\n",
    "    filter_pct = 0.1 # remove the top and bottom filer_pct points before obtaining statistics of test accuracy\n",
    "    log_step = 1000 # training log step\n",
    "    average = 'micro' # 'f1 average: can choose either macro or micro.'\n",
    "\n",
    "args = config()"
   ]
  },
  {
   "cell_type": "code",
   "execution_count": 3,
   "metadata": {},
   "outputs": [
    {
     "name": "stdout",
     "output_type": "stream",
     "text": [
      "\n",
      "start testing on ACM dataset\n",
      "total time = 8.640, train time/epoch = 0.05002, best_val_f1 (micro) = 0.907, test_f1 (micro) = 0.855\n",
      "total time = 9.894, train time/epoch = 0.04544, best_val_f1 (micro) = 0.893, test_f1 (micro) = 0.855\n",
      "total time = 9.099, train time/epoch = 0.04538, best_val_f1 (micro) = 0.913, test_f1 (micro) = 0.884\n",
      "total time = 9.420, train time/epoch = 0.04567, best_val_f1 (micro) = 0.893, test_f1 (micro) = 0.845\n",
      "total time = 7.779, train time/epoch = 0.04541, best_val_f1 (micro) = 0.897, test_f1 (micro) = 0.849\n",
      "total time = 7.924, train time/epoch = 0.04643, best_val_f1 (micro) = 0.903, test_f1 (micro) = 0.903\n",
      "total time = 7.586, train time/epoch = 0.04471, best_val_f1 (micro) = 0.910, test_f1 (micro) = 0.881\n",
      "total time = 9.676, train time/epoch = 0.04531, best_val_f1 (micro) = 0.907, test_f1 (micro) = 0.865\n",
      "total time = 7.573, train time/epoch = 0.04524, best_val_f1 (micro) = 0.900, test_f1 (micro) = 0.889\n",
      "total time = 7.729, train time/epoch = 0.04451, best_val_f1 (micro) = 0.893, test_f1 (micro) = 0.847\n",
      "total time = 8.712, train time/epoch = 0.04502, best_val_f1 (micro) = 0.897, test_f1 (micro) = 0.857\n",
      "total time = 8.802, train time/epoch = 0.04537, best_val_f1 (micro) = 0.910, test_f1 (micro) = 0.889\n",
      "total time = 8.784, train time/epoch = 0.04596, best_val_f1 (micro) = 0.910, test_f1 (micro) = 0.874\n",
      "total time = 7.809, train time/epoch = 0.04714, best_val_f1 (micro) = 0.900, test_f1 (micro) = 0.866\n",
      "total time = 9.729, train time/epoch = 0.04717, best_val_f1 (micro) = 0.907, test_f1 (micro) = 0.899\n",
      "total time = 9.014, train time/epoch = 0.04824, best_val_f1 (micro) = 0.900, test_f1 (micro) = 0.899\n",
      "total time = 8.933, train time/epoch = 0.04546, best_val_f1 (micro) = 0.903, test_f1 (micro) = 0.869\n",
      "total time = 7.820, train time/epoch = 0.04471, best_val_f1 (micro) = 0.893, test_f1 (micro) = 0.886\n",
      "total time = 7.841, train time/epoch = 0.04499, best_val_f1 (micro) = 0.897, test_f1 (micro) = 0.838\n",
      "total time = 8.561, train time/epoch = 0.04516, best_val_f1 (micro) = 0.903, test_f1 (micro) = 0.862\n",
      "total time = 8.431, train time/epoch = 0.04478, best_val_f1 (micro) = 0.910, test_f1 (micro) = 0.888\n",
      "total time = 9.044, train time/epoch = 0.04454, best_val_f1 (micro) = 0.900, test_f1 (micro) = 0.895\n",
      "total time = 9.926, train time/epoch = 0.04459, best_val_f1 (micro) = 0.900, test_f1 (micro) = 0.889\n",
      "total time = 8.859, train time/epoch = 0.04447, best_val_f1 (micro) = 0.880, test_f1 (micro) = 0.864\n",
      "total time = 9.047, train time/epoch = 0.04446, best_val_f1 (micro) = 0.903, test_f1 (micro) = 0.869\n",
      "total time = 9.250, train time/epoch = 0.04587, best_val_f1 (micro) = 0.900, test_f1 (micro) = 0.865\n",
      "total time = 8.372, train time/epoch = 0.04713, best_val_f1 (micro) = 0.910, test_f1 (micro) = 0.871\n",
      "total time = 8.366, train time/epoch = 0.04900, best_val_f1 (micro) = 0.907, test_f1 (micro) = 0.868\n",
      "total time = 8.104, train time/epoch = 0.04454, best_val_f1 (micro) = 0.887, test_f1 (micro) = 0.867\n",
      "total time = 7.762, train time/epoch = 0.04450, best_val_f1 (micro) = 0.903, test_f1 (micro) = 0.903\n",
      "test micro-f1 (mean, std):  0.8730896654910764 0.017851903880204138\n",
      "test micro-f1 (mean, std) after filter:  0.8731831783691355 0.013525196338433208\n",
      "\n",
      "start testing on IMDB dataset\n",
      "total time = 7.349, train time/epoch = 0.04323, best_val_f1 (micro) = 0.593, test_f1 (micro) = 0.560\n",
      "total time = 9.929, train time/epoch = 0.04393, best_val_f1 (micro) = 0.623, test_f1 (micro) = 0.572\n",
      "total time = 8.196, train time/epoch = 0.04379, best_val_f1 (micro) = 0.623, test_f1 (micro) = 0.563\n",
      "total time = 8.083, train time/epoch = 0.04601, best_val_f1 (micro) = 0.587, test_f1 (micro) = 0.543\n",
      "total time = 8.000, train time/epoch = 0.04685, best_val_f1 (micro) = 0.593, test_f1 (micro) = 0.567\n",
      "total time = 8.769, train time/epoch = 0.04388, best_val_f1 (micro) = 0.617, test_f1 (micro) = 0.566\n",
      "total time = 9.342, train time/epoch = 0.04361, best_val_f1 (micro) = 0.620, test_f1 (micro) = 0.576\n",
      "total time = 10.474, train time/epoch = 0.04428, best_val_f1 (micro) = 0.607, test_f1 (micro) = 0.542\n",
      "total time = 10.747, train time/epoch = 0.04367, best_val_f1 (micro) = 0.607, test_f1 (micro) = 0.554\n",
      "total time = 8.626, train time/epoch = 0.04399, best_val_f1 (micro) = 0.597, test_f1 (micro) = 0.563\n",
      "total time = 10.523, train time/epoch = 0.04377, best_val_f1 (micro) = 0.593, test_f1 (micro) = 0.556\n",
      "total time = 7.722, train time/epoch = 0.04398, best_val_f1 (micro) = 0.610, test_f1 (micro) = 0.565\n",
      "total time = 7.527, train time/epoch = 0.04362, best_val_f1 (micro) = 0.587, test_f1 (micro) = 0.558\n",
      "total time = 10.686, train time/epoch = 0.04368, best_val_f1 (micro) = 0.587, test_f1 (micro) = 0.547\n",
      "total time = 10.835, train time/epoch = 0.04370, best_val_f1 (micro) = 0.590, test_f1 (micro) = 0.550\n",
      "total time = 11.074, train time/epoch = 0.04360, best_val_f1 (micro) = 0.597, test_f1 (micro) = 0.543\n",
      "total time = 7.470, train time/epoch = 0.04369, best_val_f1 (micro) = 0.577, test_f1 (micro) = 0.545\n",
      "total time = 10.445, train time/epoch = 0.04394, best_val_f1 (micro) = 0.603, test_f1 (micro) = 0.561\n",
      "total time = 9.035, train time/epoch = 0.04342, best_val_f1 (micro) = 0.577, test_f1 (micro) = 0.546\n",
      "total time = 10.640, train time/epoch = 0.04555, best_val_f1 (micro) = 0.593, test_f1 (micro) = 0.554\n",
      "total time = 9.044, train time/epoch = 0.04652, best_val_f1 (micro) = 0.597, test_f1 (micro) = 0.564\n",
      "total time = 8.884, train time/epoch = 0.04388, best_val_f1 (micro) = 0.597, test_f1 (micro) = 0.569\n",
      "total time = 9.014, train time/epoch = 0.04404, best_val_f1 (micro) = 0.580, test_f1 (micro) = 0.538\n",
      "total time = 11.090, train time/epoch = 0.04351, best_val_f1 (micro) = 0.590, test_f1 (micro) = 0.563\n",
      "total time = 7.776, train time/epoch = 0.04437, best_val_f1 (micro) = 0.603, test_f1 (micro) = 0.568\n",
      "total time = 9.243, train time/epoch = 0.04349, best_val_f1 (micro) = 0.617, test_f1 (micro) = 0.578\n",
      "total time = 7.382, train time/epoch = 0.04361, best_val_f1 (micro) = 0.573, test_f1 (micro) = 0.545\n",
      "total time = 11.142, train time/epoch = 0.04386, best_val_f1 (micro) = 0.613, test_f1 (micro) = 0.559\n",
      "total time = 9.096, train time/epoch = 0.04581, best_val_f1 (micro) = 0.603, test_f1 (micro) = 0.546\n",
      "total time = 8.633, train time/epoch = 0.04458, best_val_f1 (micro) = 0.637, test_f1 (micro) = 0.573\n",
      "test micro-f1 (mean, std):  0.5577487765089723 0.010987864090875262\n",
      "test micro-f1 (mean, std) after filter:  0.5576173645096972 0.00864387858834414\n",
      "\n",
      "start testing on DBLP dataset\n",
      "total time = 17.985, train time/epoch = 0.09856, best_val_f1 (micro) = 0.930, test_f1 (micro) = 0.928\n",
      "total time = 17.370, train time/epoch = 0.09611, best_val_f1 (micro) = 0.920, test_f1 (micro) = 0.913\n",
      "total time = 17.891, train time/epoch = 0.09576, best_val_f1 (micro) = 0.922, test_f1 (micro) = 0.918\n",
      "total time = 17.079, train time/epoch = 0.09678, best_val_f1 (micro) = 0.922, test_f1 (micro) = 0.927\n",
      "total time = 17.871, train time/epoch = 0.09867, best_val_f1 (micro) = 0.925, test_f1 (micro) = 0.921\n",
      "total time = 19.534, train time/epoch = 0.09595, best_val_f1 (micro) = 0.917, test_f1 (micro) = 0.914\n",
      "total time = 18.121, train time/epoch = 0.09603, best_val_f1 (micro) = 0.943, test_f1 (micro) = 0.933\n",
      "total time = 30.377, train time/epoch = 0.09905, best_val_f1 (micro) = 0.930, test_f1 (micro) = 0.917\n",
      "total time = 17.922, train time/epoch = 0.09683, best_val_f1 (micro) = 0.938, test_f1 (micro) = 0.930\n",
      "total time = 17.533, train time/epoch = 0.09629, best_val_f1 (micro) = 0.922, test_f1 (micro) = 0.916\n",
      "total time = 17.973, train time/epoch = 0.09892, best_val_f1 (micro) = 0.930, test_f1 (micro) = 0.930\n",
      "total time = 18.325, train time/epoch = 0.09572, best_val_f1 (micro) = 0.943, test_f1 (micro) = 0.930\n",
      "total time = 32.395, train time/epoch = 0.09856, best_val_f1 (micro) = 0.920, test_f1 (micro) = 0.917\n",
      "total time = 17.707, train time/epoch = 0.09760, best_val_f1 (micro) = 0.927, test_f1 (micro) = 0.919\n",
      "total time = 18.396, train time/epoch = 0.09826, best_val_f1 (micro) = 0.920, test_f1 (micro) = 0.900\n",
      "total time = 33.848, train time/epoch = 0.09779, best_val_f1 (micro) = 0.917, test_f1 (micro) = 0.917\n",
      "total time = 16.765, train time/epoch = 0.09552, best_val_f1 (micro) = 0.905, test_f1 (micro) = 0.909\n"
     ]
    },
    {
     "name": "stdout",
     "output_type": "stream",
     "text": [
      "total time = 17.230, train time/epoch = 0.09616, best_val_f1 (micro) = 0.938, test_f1 (micro) = 0.940\n",
      "total time = 29.602, train time/epoch = 0.09692, best_val_f1 (micro) = 0.935, test_f1 (micro) = 0.928\n",
      "total time = 18.229, train time/epoch = 0.09848, best_val_f1 (micro) = 0.930, test_f1 (micro) = 0.930\n",
      "total time = 17.677, train time/epoch = 0.09579, best_val_f1 (micro) = 0.940, test_f1 (micro) = 0.929\n",
      "total time = 25.674, train time/epoch = 0.09705, best_val_f1 (micro) = 0.925, test_f1 (micro) = 0.909\n",
      "total time = 18.164, train time/epoch = 0.09795, best_val_f1 (micro) = 0.927, test_f1 (micro) = 0.927\n",
      "total time = 18.095, train time/epoch = 0.09615, best_val_f1 (micro) = 0.935, test_f1 (micro) = 0.922\n",
      "total time = 17.354, train time/epoch = 0.09603, best_val_f1 (micro) = 0.927, test_f1 (micro) = 0.917\n",
      "total time = 19.048, train time/epoch = 0.09574, best_val_f1 (micro) = 0.943, test_f1 (micro) = 0.928\n",
      "total time = 17.911, train time/epoch = 0.10064, best_val_f1 (micro) = 0.927, test_f1 (micro) = 0.910\n",
      "total time = 16.930, train time/epoch = 0.09524, best_val_f1 (micro) = 0.915, test_f1 (micro) = 0.921\n",
      "total time = 17.869, train time/epoch = 0.09644, best_val_f1 (micro) = 0.927, test_f1 (micro) = 0.920\n",
      "total time = 17.386, train time/epoch = 0.09684, best_val_f1 (micro) = 0.922, test_f1 (micro) = 0.928\n",
      "test micro-f1 (mean, std):  0.9216310815540775 0.008701930657641908\n",
      "test micro-f1 (mean, std) after filter:  0.9219460973048652 0.006117801292596629\n"
     ]
    }
   ],
   "source": [
    "f1s = []\n",
    "datasets = ['ACM', 'IMDB', 'DBLP']\n",
    "for dataset in datasets:\n",
    "    args.data = dataset\n",
    "    if dataset == 'ACM':\n",
    "        args.hop = 2\n",
    "        args.num_heads = 4\n",
    "        args.target_node_type = 'paper'\n",
    "        print('\\nstart testing on ' + dataset + ' dataset')\n",
    "        f1s.append(main(args))\n",
    "    elif dataset == 'IMDB':\n",
    "        args.hop = 2\n",
    "        args.num_heads = 4\n",
    "        args.target_node_type = 'movie'\n",
    "        print('\\nstart testing on ' + dataset + ' dataset')\n",
    "        f1s.append(main(args))\n",
    "    elif dataset == 'DBLP':\n",
    "        args.hop = 3\n",
    "        args.num_heads = 4\n",
    "        args.target_node_type = 'author'\n",
    "        print('\\nstart testing on ' + dataset + ' dataset')\n",
    "        f1s.append(main(args))"
   ]
  },
  {
   "cell_type": "code",
   "execution_count": 4,
   "metadata": {},
   "outputs": [],
   "source": [
    "f1s = np.array(f1s)\n",
    "np.savetxt('f1-micro_HGT.txt',f1s)"
   ]
  },
  {
   "cell_type": "code",
   "execution_count": null,
   "metadata": {},
   "outputs": [],
   "source": []
  }
 ],
 "metadata": {
  "kernelspec": {
   "display_name": "Python 3",
   "language": "python",
   "name": "python3"
  },
  "language_info": {
   "codemirror_mode": {
    "name": "ipython",
    "version": 3
   },
   "file_extension": ".py",
   "mimetype": "text/x-python",
   "name": "python",
   "nbconvert_exporter": "python",
   "pygments_lexer": "ipython3",
   "version": "3.8.8"
  }
 },
 "nbformat": 4,
 "nbformat_minor": 4
}
