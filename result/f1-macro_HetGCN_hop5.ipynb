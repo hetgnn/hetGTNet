{
 "cells": [
  {
   "cell_type": "code",
   "execution_count": 1,
   "metadata": {},
   "outputs": [
    {
     "name": "stderr",
     "output_type": "stream",
     "text": [
      "Using backend: pytorch\n"
     ]
    }
   ],
   "source": [
    "root_dir = '..' # dir of the source code\n",
    "import sys\n",
    "sys.path.append(root_dir)\n",
    "from train import main\n",
    "import numpy as np"
   ]
  },
  {
   "cell_type": "code",
   "execution_count": 2,
   "metadata": {},
   "outputs": [],
   "source": [
    "class config:\n",
    "    data = 'ACM'\n",
    "    data_path = '../data/preprocessed/'\n",
    "    model = 'HetGCN'\n",
    "    target_node_type = 'paper'\n",
    "    n_hid = 64\n",
    "    dropout = 0.5\n",
    "    learning_rate = 0.005\n",
    "    weight_decay = 1e-5\n",
    "    patience = 100\n",
    "    num_iter = 500\n",
    "    num_test = 30\n",
    "    hop = 5\n",
    "    filter_pct = 0.1 # remove the top and bottom filer_pct points before obtaining statistics of test accuracy\n",
    "    log_step = 1000 # training log step\n",
    "    layer_wise = True\n",
    "    average = 'macro' # 'f1 average: can choose either macro or micro.'\n",
    "\n",
    "args = config()"
   ]
  },
  {
   "cell_type": "code",
   "execution_count": 3,
   "metadata": {
    "scrolled": false
   },
   "outputs": [
    {
     "name": "stdout",
     "output_type": "stream",
     "text": [
      "\n",
      "start testing on DBLP dataset\n",
      "total time = 16.719, train time/epoch = 0.06940, best_val_f1 (macro) = 0.935, test_f1 (macro) = 0.912\n",
      "total time = 15.247, train time/epoch = 0.06404, best_val_f1 (macro) = 0.925, test_f1 (macro) = 0.906\n",
      "total time = 20.472, train time/epoch = 0.06335, best_val_f1 (macro) = 0.878, test_f1 (macro) = 0.879\n",
      "total time = 14.768, train time/epoch = 0.06508, best_val_f1 (macro) = 0.915, test_f1 (macro) = 0.889\n",
      "total time = 13.827, train time/epoch = 0.06577, best_val_f1 (macro) = 0.923, test_f1 (macro) = 0.911\n",
      "total time = 16.911, train time/epoch = 0.06615, best_val_f1 (macro) = 0.918, test_f1 (macro) = 0.907\n",
      "total time = 16.871, train time/epoch = 0.06597, best_val_f1 (macro) = 0.908, test_f1 (macro) = 0.902\n",
      "total time = 15.143, train time/epoch = 0.06409, best_val_f1 (macro) = 0.906, test_f1 (macro) = 0.900\n",
      "total time = 14.180, train time/epoch = 0.06412, best_val_f1 (macro) = 0.945, test_f1 (macro) = 0.913\n",
      "total time = 12.510, train time/epoch = 0.06395, best_val_f1 (macro) = 0.928, test_f1 (macro) = 0.913\n",
      "total time = 14.272, train time/epoch = 0.06361, best_val_f1 (macro) = 0.935, test_f1 (macro) = 0.914\n",
      "total time = 13.507, train time/epoch = 0.06464, best_val_f1 (macro) = 0.933, test_f1 (macro) = 0.924\n",
      "total time = 16.826, train time/epoch = 0.06587, best_val_f1 (macro) = 0.891, test_f1 (macro) = 0.882\n",
      "total time = 14.129, train time/epoch = 0.06433, best_val_f1 (macro) = 0.920, test_f1 (macro) = 0.896\n",
      "total time = 14.312, train time/epoch = 0.06479, best_val_f1 (macro) = 0.908, test_f1 (macro) = 0.887\n",
      "total time = 14.268, train time/epoch = 0.06492, best_val_f1 (macro) = 0.926, test_f1 (macro) = 0.905\n",
      "total time = 16.037, train time/epoch = 0.06396, best_val_f1 (macro) = 0.912, test_f1 (macro) = 0.903\n",
      "total time = 14.189, train time/epoch = 0.06310, best_val_f1 (macro) = 0.908, test_f1 (macro) = 0.886\n",
      "total time = 14.006, train time/epoch = 0.06373, best_val_f1 (macro) = 0.933, test_f1 (macro) = 0.917\n",
      "total time = 13.705, train time/epoch = 0.06370, best_val_f1 (macro) = 0.908, test_f1 (macro) = 0.896\n",
      "total time = 13.499, train time/epoch = 0.06352, best_val_f1 (macro) = 0.934, test_f1 (macro) = 0.910\n",
      "total time = 16.220, train time/epoch = 0.06384, best_val_f1 (macro) = 0.909, test_f1 (macro) = 0.893\n",
      "total time = 12.909, train time/epoch = 0.06450, best_val_f1 (macro) = 0.938, test_f1 (macro) = 0.931\n",
      "total time = 21.218, train time/epoch = 0.06376, best_val_f1 (macro) = 0.900, test_f1 (macro) = 0.889\n",
      "total time = 24.839, train time/epoch = 0.06332, best_val_f1 (macro) = 0.888, test_f1 (macro) = 0.885\n",
      "total time = 13.314, train time/epoch = 0.06412, best_val_f1 (macro) = 0.931, test_f1 (macro) = 0.908\n",
      "total time = 14.902, train time/epoch = 0.06333, best_val_f1 (macro) = 0.891, test_f1 (macro) = 0.860\n",
      "total time = 17.244, train time/epoch = 0.06366, best_val_f1 (macro) = 0.888, test_f1 (macro) = 0.863\n",
      "total time = 13.839, train time/epoch = 0.06462, best_val_f1 (macro) = 0.923, test_f1 (macro) = 0.908\n",
      "total time = 17.871, train time/epoch = 0.06467, best_val_f1 (macro) = 0.898, test_f1 (macro) = 0.881\n",
      "test macro-f1 (mean, std):  0.8990877761363595 0.01630244694294694\n",
      "test macro-f1 (mean, std) after filter:  0.8999124378788798 0.010750915433448036\n",
      "\n",
      "start testing on IMDB dataset\n",
      "total time = 13.377, train time/epoch = 0.03995, best_val_f1 (macro) = 0.551, test_f1 (macro) = 0.506\n",
      "total time = 8.989, train time/epoch = 0.04009, best_val_f1 (macro) = 0.533, test_f1 (macro) = 0.542\n",
      "total time = 14.515, train time/epoch = 0.03920, best_val_f1 (macro) = 0.551, test_f1 (macro) = 0.484\n",
      "total time = 28.627, train time/epoch = 0.03909, best_val_f1 (macro) = 0.539, test_f1 (macro) = 0.511\n",
      "total time = 8.291, train time/epoch = 0.03886, best_val_f1 (macro) = 0.553, test_f1 (macro) = 0.552\n",
      "total time = 14.523, train time/epoch = 0.03881, best_val_f1 (macro) = 0.528, test_f1 (macro) = 0.490\n",
      "total time = 11.303, train time/epoch = 0.03922, best_val_f1 (macro) = 0.511, test_f1 (macro) = 0.464\n",
      "total time = 18.454, train time/epoch = 0.03930, best_val_f1 (macro) = 0.535, test_f1 (macro) = 0.506\n",
      "total time = 7.272, train time/epoch = 0.03911, best_val_f1 (macro) = 0.553, test_f1 (macro) = 0.545\n",
      "total time = 6.587, train time/epoch = 0.03928, best_val_f1 (macro) = 0.549, test_f1 (macro) = 0.550\n",
      "total time = 14.996, train time/epoch = 0.03914, best_val_f1 (macro) = 0.537, test_f1 (macro) = 0.516\n",
      "total time = 7.783, train time/epoch = 0.03915, best_val_f1 (macro) = 0.540, test_f1 (macro) = 0.496\n",
      "total time = 10.195, train time/epoch = 0.03963, best_val_f1 (macro) = 0.502, test_f1 (macro) = 0.457\n",
      "total time = 15.535, train time/epoch = 0.03934, best_val_f1 (macro) = 0.508, test_f1 (macro) = 0.494\n",
      "total time = 14.670, train time/epoch = 0.03982, best_val_f1 (macro) = 0.513, test_f1 (macro) = 0.483\n",
      "total time = 15.965, train time/epoch = 0.04000, best_val_f1 (macro) = 0.548, test_f1 (macro) = 0.497\n",
      "total time = 11.395, train time/epoch = 0.03995, best_val_f1 (macro) = 0.501, test_f1 (macro) = 0.464\n",
      "total time = 16.443, train time/epoch = 0.03919, best_val_f1 (macro) = 0.489, test_f1 (macro) = 0.480\n",
      "total time = 28.738, train time/epoch = 0.03929, best_val_f1 (macro) = 0.554, test_f1 (macro) = 0.525\n",
      "total time = 11.241, train time/epoch = 0.03900, best_val_f1 (macro) = 0.544, test_f1 (macro) = 0.493\n",
      "total time = 19.005, train time/epoch = 0.03915, best_val_f1 (macro) = 0.520, test_f1 (macro) = 0.488\n",
      "total time = 7.906, train time/epoch = 0.03949, best_val_f1 (macro) = 0.480, test_f1 (macro) = 0.453\n",
      "total time = 14.270, train time/epoch = 0.03918, best_val_f1 (macro) = 0.577, test_f1 (macro) = 0.545\n",
      "total time = 8.444, train time/epoch = 0.03981, best_val_f1 (macro) = 0.532, test_f1 (macro) = 0.521\n",
      "total time = 10.244, train time/epoch = 0.03935, best_val_f1 (macro) = 0.531, test_f1 (macro) = 0.516\n",
      "total time = 8.086, train time/epoch = 0.03949, best_val_f1 (macro) = 0.483, test_f1 (macro) = 0.454\n",
      "total time = 6.528, train time/epoch = 0.03911, best_val_f1 (macro) = 0.557, test_f1 (macro) = 0.564\n",
      "total time = 8.121, train time/epoch = 0.03936, best_val_f1 (macro) = 0.525, test_f1 (macro) = 0.465\n",
      "total time = 10.850, train time/epoch = 0.03947, best_val_f1 (macro) = 0.463, test_f1 (macro) = 0.434\n",
      "total time = 9.208, train time/epoch = 0.03928, best_val_f1 (macro) = 0.561, test_f1 (macro) = 0.536\n",
      "test macro-f1 (mean, std):  0.501012650609196 0.03350798885025627\n",
      "test macro-f1 (mean, std) after filter:  0.5010101084049543 0.02566757262207637\n",
      "\n",
      "start testing on ACM dataset\n",
      "total time = 9.923, train time/epoch = 0.04043, best_val_f1 (macro) = 0.907, test_f1 (macro) = 0.869\n",
      "total time = 11.934, train time/epoch = 0.04012, best_val_f1 (macro) = 0.917, test_f1 (macro) = 0.889\n",
      "total time = 9.910, train time/epoch = 0.03987, best_val_f1 (macro) = 0.907, test_f1 (macro) = 0.877\n",
      "total time = 9.530, train time/epoch = 0.03998, best_val_f1 (macro) = 0.907, test_f1 (macro) = 0.886\n",
      "total time = 10.212, train time/epoch = 0.03998, best_val_f1 (macro) = 0.907, test_f1 (macro) = 0.894\n",
      "total time = 7.760, train time/epoch = 0.03957, best_val_f1 (macro) = 0.914, test_f1 (macro) = 0.901\n",
      "total time = 10.234, train time/epoch = 0.03959, best_val_f1 (macro) = 0.920, test_f1 (macro) = 0.905\n",
      "total time = 10.757, train time/epoch = 0.03959, best_val_f1 (macro) = 0.900, test_f1 (macro) = 0.879\n",
      "total time = 12.014, train time/epoch = 0.03947, best_val_f1 (macro) = 0.904, test_f1 (macro) = 0.887\n",
      "total time = 9.008, train time/epoch = 0.03934, best_val_f1 (macro) = 0.907, test_f1 (macro) = 0.876\n",
      "total time = 11.228, train time/epoch = 0.03945, best_val_f1 (macro) = 0.910, test_f1 (macro) = 0.879\n",
      "total time = 11.881, train time/epoch = 0.03936, best_val_f1 (macro) = 0.906, test_f1 (macro) = 0.879\n",
      "total time = 8.381, train time/epoch = 0.03959, best_val_f1 (macro) = 0.914, test_f1 (macro) = 0.899\n",
      "total time = 10.609, train time/epoch = 0.04009, best_val_f1 (macro) = 0.914, test_f1 (macro) = 0.878\n",
      "total time = 8.544, train time/epoch = 0.03969, best_val_f1 (macro) = 0.910, test_f1 (macro) = 0.883\n",
      "total time = 9.493, train time/epoch = 0.03935, best_val_f1 (macro) = 0.910, test_f1 (macro) = 0.888\n",
      "total time = 10.578, train time/epoch = 0.03937, best_val_f1 (macro) = 0.916, test_f1 (macro) = 0.877\n"
     ]
    },
    {
     "name": "stdout",
     "output_type": "stream",
     "text": [
      "total time = 10.878, train time/epoch = 0.03984, best_val_f1 (macro) = 0.901, test_f1 (macro) = 0.884\n",
      "total time = 8.538, train time/epoch = 0.04032, best_val_f1 (macro) = 0.917, test_f1 (macro) = 0.875\n",
      "total time = 9.374, train time/epoch = 0.03963, best_val_f1 (macro) = 0.910, test_f1 (macro) = 0.877\n",
      "total time = 6.916, train time/epoch = 0.04006, best_val_f1 (macro) = 0.917, test_f1 (macro) = 0.878\n",
      "total time = 8.713, train time/epoch = 0.04056, best_val_f1 (macro) = 0.907, test_f1 (macro) = 0.877\n",
      "total time = 11.263, train time/epoch = 0.04005, best_val_f1 (macro) = 0.913, test_f1 (macro) = 0.888\n",
      "total time = 10.367, train time/epoch = 0.03987, best_val_f1 (macro) = 0.908, test_f1 (macro) = 0.886\n",
      "total time = 9.604, train time/epoch = 0.04011, best_val_f1 (macro) = 0.910, test_f1 (macro) = 0.887\n",
      "total time = 7.931, train time/epoch = 0.03995, best_val_f1 (macro) = 0.920, test_f1 (macro) = 0.871\n",
      "total time = 10.572, train time/epoch = 0.03941, best_val_f1 (macro) = 0.897, test_f1 (macro) = 0.873\n",
      "total time = 15.800, train time/epoch = 0.03961, best_val_f1 (macro) = 0.900, test_f1 (macro) = 0.862\n",
      "total time = 11.796, train time/epoch = 0.03972, best_val_f1 (macro) = 0.907, test_f1 (macro) = 0.878\n",
      "total time = 12.634, train time/epoch = 0.03949, best_val_f1 (macro) = 0.908, test_f1 (macro) = 0.865\n",
      "test macro-f1 (mean, std):  0.8814819916565071 0.009817220569916045\n",
      "test macro-f1 (mean, std) after filter:  0.8810077333173986 0.00579693349064872\n"
     ]
    }
   ],
   "source": [
    "f1s = []\n",
    "datasets = ['DBLP', 'IMDB', 'ACM']\n",
    "for dataset in datasets:\n",
    "    args.data = dataset\n",
    "    if dataset == 'ACM':\n",
    "        args.dropout = 0.5\n",
    "        args.target_node_type = 'paper'\n",
    "        print('\\nstart testing on ' + dataset + ' dataset')\n",
    "        f1s.append(main(args))\n",
    "    elif dataset == 'IMDB':\n",
    "        args.dropout = 0.5\n",
    "        args.target_node_type = 'movie'\n",
    "        print('\\nstart testing on ' + dataset + ' dataset')\n",
    "        f1s.append(main(args))\n",
    "    elif dataset == 'DBLP':\n",
    "        args.dropout = 0\n",
    "        args.target_node_type = 'author'\n",
    "        print('\\nstart testing on ' + dataset + ' dataset')\n",
    "        f1s.append(main(args))"
   ]
  },
  {
   "cell_type": "code",
   "execution_count": 4,
   "metadata": {},
   "outputs": [],
   "source": [
    "f1s = np.array(f1s)"
   ]
  },
  {
   "cell_type": "code",
   "execution_count": null,
   "metadata": {},
   "outputs": [],
   "source": []
  }
 ],
 "metadata": {
  "kernelspec": {
   "display_name": "Python 3",
   "language": "python",
   "name": "python3"
  },
  "language_info": {
   "codemirror_mode": {
    "name": "ipython",
    "version": 3
   },
   "file_extension": ".py",
   "mimetype": "text/x-python",
   "name": "python",
   "nbconvert_exporter": "python",
   "pygments_lexer": "ipython3",
   "version": "3.8.8"
  }
 },
 "nbformat": 4,
 "nbformat_minor": 4
}
