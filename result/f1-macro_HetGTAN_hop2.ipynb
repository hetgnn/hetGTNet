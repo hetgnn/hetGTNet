{
 "cells": [
  {
   "cell_type": "code",
   "execution_count": 1,
   "metadata": {},
   "outputs": [
    {
     "name": "stderr",
     "output_type": "stream",
     "text": [
      "Using backend: pytorch\n"
     ]
    }
   ],
   "source": [
    "root_dir = '..' # dir of the source code\n",
    "import sys\n",
    "sys.path.append(root_dir)\n",
    "from train import main\n",
    "import numpy as np"
   ]
  },
  {
   "cell_type": "code",
   "execution_count": 2,
   "metadata": {},
   "outputs": [],
   "source": [
    "class config:\n",
    "    data = 'ACM'\n",
    "    data_path = '../data/preprocessed/'\n",
    "    model = 'HetGTAN'\n",
    "    target_node_type = 'paper'\n",
    "    n_hid = 64\n",
    "    num_heads = 8\n",
    "    dropout = 0.8\n",
    "    dropout2 = 0.2\n",
    "    learning_rate = 0.005\n",
    "    weight_decay = 5e-5\n",
    "    patience = 100\n",
    "    num_iter = 500\n",
    "    num_test = 30\n",
    "    hop = 2\n",
    "    filter_pct = 0.1 # remove the top and bottom filer_pct points before obtaining statistics of test accuracy\n",
    "    log_step = 1000 # training log step\n",
    "    layer_wise = True\n",
    "    average = 'macro' # 'f1 average: can choose either macro or micro.'\n",
    "\n",
    "args = config()"
   ]
  },
  {
   "cell_type": "code",
   "execution_count": 3,
   "metadata": {
    "scrolled": false
   },
   "outputs": [
    {
     "name": "stdout",
     "output_type": "stream",
     "text": [
      "\n",
      "start testing on ACM dataset\n",
      "total time = 4.654, train time/epoch = 0.01929, best_val_f1 (macro) = 0.927, test_f1 (macro) = 0.917\n",
      "total time = 4.863, train time/epoch = 0.01568, best_val_f1 (macro) = 0.930, test_f1 (macro) = 0.919\n",
      "total time = 4.220, train time/epoch = 0.01562, best_val_f1 (macro) = 0.930, test_f1 (macro) = 0.924\n",
      "total time = 3.664, train time/epoch = 0.01563, best_val_f1 (macro) = 0.927, test_f1 (macro) = 0.925\n",
      "total time = 3.887, train time/epoch = 0.01554, best_val_f1 (macro) = 0.930, test_f1 (macro) = 0.914\n",
      "total time = 5.223, train time/epoch = 0.01552, best_val_f1 (macro) = 0.927, test_f1 (macro) = 0.918\n",
      "total time = 4.728, train time/epoch = 0.01555, best_val_f1 (macro) = 0.927, test_f1 (macro) = 0.921\n",
      "total time = 4.253, train time/epoch = 0.01572, best_val_f1 (macro) = 0.930, test_f1 (macro) = 0.921\n",
      "total time = 4.512, train time/epoch = 0.01581, best_val_f1 (macro) = 0.930, test_f1 (macro) = 0.923\n",
      "total time = 2.895, train time/epoch = 0.01567, best_val_f1 (macro) = 0.926, test_f1 (macro) = 0.894\n",
      "total time = 2.569, train time/epoch = 0.01580, best_val_f1 (macro) = 0.930, test_f1 (macro) = 0.887\n",
      "total time = 3.963, train time/epoch = 0.01561, best_val_f1 (macro) = 0.930, test_f1 (macro) = 0.912\n",
      "total time = 3.000, train time/epoch = 0.01566, best_val_f1 (macro) = 0.933, test_f1 (macro) = 0.895\n",
      "total time = 3.004, train time/epoch = 0.01598, best_val_f1 (macro) = 0.927, test_f1 (macro) = 0.924\n",
      "total time = 5.938, train time/epoch = 0.01564, best_val_f1 (macro) = 0.930, test_f1 (macro) = 0.920\n",
      "total time = 2.277, train time/epoch = 0.01555, best_val_f1 (macro) = 0.933, test_f1 (macro) = 0.899\n",
      "total time = 3.632, train time/epoch = 0.01565, best_val_f1 (macro) = 0.937, test_f1 (macro) = 0.928\n",
      "total time = 5.212, train time/epoch = 0.01571, best_val_f1 (macro) = 0.927, test_f1 (macro) = 0.922\n",
      "total time = 3.055, train time/epoch = 0.01576, best_val_f1 (macro) = 0.927, test_f1 (macro) = 0.922\n",
      "total time = 5.464, train time/epoch = 0.01577, best_val_f1 (macro) = 0.930, test_f1 (macro) = 0.922\n",
      "total time = 3.394, train time/epoch = 0.01562, best_val_f1 (macro) = 0.924, test_f1 (macro) = 0.908\n",
      "total time = 3.574, train time/epoch = 0.01563, best_val_f1 (macro) = 0.926, test_f1 (macro) = 0.904\n",
      "total time = 3.448, train time/epoch = 0.01558, best_val_f1 (macro) = 0.930, test_f1 (macro) = 0.921\n",
      "total time = 3.433, train time/epoch = 0.01575, best_val_f1 (macro) = 0.927, test_f1 (macro) = 0.923\n",
      "total time = 2.296, train time/epoch = 0.01558, best_val_f1 (macro) = 0.933, test_f1 (macro) = 0.889\n",
      "total time = 3.972, train time/epoch = 0.01564, best_val_f1 (macro) = 0.924, test_f1 (macro) = 0.913\n",
      "total time = 3.400, train time/epoch = 0.01559, best_val_f1 (macro) = 0.927, test_f1 (macro) = 0.929\n",
      "total time = 4.150, train time/epoch = 0.01562, best_val_f1 (macro) = 0.924, test_f1 (macro) = 0.921\n",
      "total time = 3.280, train time/epoch = 0.01592, best_val_f1 (macro) = 0.923, test_f1 (macro) = 0.926\n",
      "total time = 4.041, train time/epoch = 0.01627, best_val_f1 (macro) = 0.930, test_f1 (macro) = 0.913\n",
      "test macro-f1 (mean, std):  0.9151768413022624 0.011447398273071322\n",
      "test macro-f1 (mean, std) after filter:  0.916738159424458 0.007879710643569465\n",
      "\n",
      "start testing on IMDB dataset\n",
      "total time = 3.170, train time/epoch = 0.01352, best_val_f1 (macro) = 0.637, test_f1 (macro) = 0.595\n",
      "total time = 3.905, train time/epoch = 0.01360, best_val_f1 (macro) = 0.633, test_f1 (macro) = 0.581\n",
      "total time = 4.373, train time/epoch = 0.01362, best_val_f1 (macro) = 0.648, test_f1 (macro) = 0.585\n",
      "total time = 4.688, train time/epoch = 0.01342, best_val_f1 (macro) = 0.630, test_f1 (macro) = 0.590\n",
      "total time = 2.815, train time/epoch = 0.01344, best_val_f1 (macro) = 0.646, test_f1 (macro) = 0.595\n",
      "total time = 3.518, train time/epoch = 0.01342, best_val_f1 (macro) = 0.636, test_f1 (macro) = 0.578\n",
      "total time = 2.952, train time/epoch = 0.01345, best_val_f1 (macro) = 0.647, test_f1 (macro) = 0.599\n",
      "total time = 3.156, train time/epoch = 0.01352, best_val_f1 (macro) = 0.614, test_f1 (macro) = 0.564\n",
      "total time = 5.004, train time/epoch = 0.01372, best_val_f1 (macro) = 0.634, test_f1 (macro) = 0.579\n",
      "total time = 3.149, train time/epoch = 0.01362, best_val_f1 (macro) = 0.634, test_f1 (macro) = 0.577\n",
      "total time = 3.666, train time/epoch = 0.01357, best_val_f1 (macro) = 0.632, test_f1 (macro) = 0.594\n",
      "total time = 3.322, train time/epoch = 0.01360, best_val_f1 (macro) = 0.639, test_f1 (macro) = 0.568\n",
      "total time = 3.031, train time/epoch = 0.01356, best_val_f1 (macro) = 0.640, test_f1 (macro) = 0.597\n",
      "total time = 4.637, train time/epoch = 0.01341, best_val_f1 (macro) = 0.642, test_f1 (macro) = 0.581\n",
      "total time = 3.249, train time/epoch = 0.01348, best_val_f1 (macro) = 0.638, test_f1 (macro) = 0.594\n",
      "total time = 2.813, train time/epoch = 0.01350, best_val_f1 (macro) = 0.627, test_f1 (macro) = 0.595\n",
      "total time = 3.514, train time/epoch = 0.01382, best_val_f1 (macro) = 0.640, test_f1 (macro) = 0.577\n",
      "total time = 2.614, train time/epoch = 0.01363, best_val_f1 (macro) = 0.636, test_f1 (macro) = 0.593\n",
      "total time = 4.833, train time/epoch = 0.01371, best_val_f1 (macro) = 0.630, test_f1 (macro) = 0.583\n",
      "total time = 3.159, train time/epoch = 0.01370, best_val_f1 (macro) = 0.624, test_f1 (macro) = 0.593\n",
      "total time = 2.989, train time/epoch = 0.01367, best_val_f1 (macro) = 0.626, test_f1 (macro) = 0.588\n",
      "total time = 2.689, train time/epoch = 0.01352, best_val_f1 (macro) = 0.644, test_f1 (macro) = 0.607\n",
      "total time = 3.108, train time/epoch = 0.01357, best_val_f1 (macro) = 0.638, test_f1 (macro) = 0.593\n",
      "total time = 4.505, train time/epoch = 0.01353, best_val_f1 (macro) = 0.617, test_f1 (macro) = 0.566\n",
      "total time = 2.697, train time/epoch = 0.01351, best_val_f1 (macro) = 0.623, test_f1 (macro) = 0.593\n",
      "total time = 3.304, train time/epoch = 0.01346, best_val_f1 (macro) = 0.640, test_f1 (macro) = 0.597\n",
      "total time = 2.648, train time/epoch = 0.01348, best_val_f1 (macro) = 0.635, test_f1 (macro) = 0.583\n",
      "total time = 3.373, train time/epoch = 0.01342, best_val_f1 (macro) = 0.644, test_f1 (macro) = 0.587\n",
      "total time = 2.605, train time/epoch = 0.01363, best_val_f1 (macro) = 0.625, test_f1 (macro) = 0.607\n",
      "total time = 3.274, train time/epoch = 0.01369, best_val_f1 (macro) = 0.627, test_f1 (macro) = 0.574\n",
      "test macro-f1 (mean, std):  0.5870767222867681 0.010843042622284344\n",
      "test macro-f1 (mean, std) after filter:  0.5875578695070162 0.007181811125126371\n",
      "\n",
      "start testing on DBLP dataset\n",
      "total time = 7.082, train time/epoch = 0.02111, best_val_f1 (macro) = 0.943, test_f1 (macro) = 0.929\n",
      "total time = 7.306, train time/epoch = 0.02109, best_val_f1 (macro) = 0.942, test_f1 (macro) = 0.938\n",
      "total time = 12.503, train time/epoch = 0.02112, best_val_f1 (macro) = 0.948, test_f1 (macro) = 0.935\n",
      "total time = 11.660, train time/epoch = 0.02123, best_val_f1 (macro) = 0.950, test_f1 (macro) = 0.939\n",
      "total time = 10.204, train time/epoch = 0.02107, best_val_f1 (macro) = 0.945, test_f1 (macro) = 0.935\n",
      "total time = 7.518, train time/epoch = 0.02107, best_val_f1 (macro) = 0.937, test_f1 (macro) = 0.930\n",
      "total time = 11.907, train time/epoch = 0.02099, best_val_f1 (macro) = 0.948, test_f1 (macro) = 0.936\n",
      "total time = 11.797, train time/epoch = 0.02126, best_val_f1 (macro) = 0.950, test_f1 (macro) = 0.939\n",
      "total time = 10.835, train time/epoch = 0.02112, best_val_f1 (macro) = 0.950, test_f1 (macro) = 0.933\n",
      "total time = 9.966, train time/epoch = 0.02103, best_val_f1 (macro) = 0.950, test_f1 (macro) = 0.938\n",
      "total time = 7.109, train time/epoch = 0.02110, best_val_f1 (macro) = 0.948, test_f1 (macro) = 0.931\n",
      "total time = 9.176, train time/epoch = 0.02132, best_val_f1 (macro) = 0.948, test_f1 (macro) = 0.940\n",
      "total time = 9.766, train time/epoch = 0.02126, best_val_f1 (macro) = 0.945, test_f1 (macro) = 0.934\n",
      "total time = 9.990, train time/epoch = 0.02120, best_val_f1 (macro) = 0.948, test_f1 (macro) = 0.936\n",
      "total time = 12.011, train time/epoch = 0.02118, best_val_f1 (macro) = 0.948, test_f1 (macro) = 0.939\n",
      "total time = 7.190, train time/epoch = 0.02130, best_val_f1 (macro) = 0.945, test_f1 (macro) = 0.929\n",
      "total time = 8.741, train time/epoch = 0.02114, best_val_f1 (macro) = 0.942, test_f1 (macro) = 0.925\n",
      "total time = 9.498, train time/epoch = 0.02115, best_val_f1 (macro) = 0.945, test_f1 (macro) = 0.939\n"
     ]
    },
    {
     "name": "stdout",
     "output_type": "stream",
     "text": [
      "total time = 8.600, train time/epoch = 0.02106, best_val_f1 (macro) = 0.948, test_f1 (macro) = 0.938\n",
      "total time = 8.643, train time/epoch = 0.02152, best_val_f1 (macro) = 0.943, test_f1 (macro) = 0.934\n",
      "total time = 11.805, train time/epoch = 0.02120, best_val_f1 (macro) = 0.948, test_f1 (macro) = 0.936\n",
      "total time = 5.150, train time/epoch = 0.02119, best_val_f1 (macro) = 0.920, test_f1 (macro) = 0.919\n",
      "total time = 8.004, train time/epoch = 0.02108, best_val_f1 (macro) = 0.950, test_f1 (macro) = 0.935\n",
      "total time = 10.933, train time/epoch = 0.02133, best_val_f1 (macro) = 0.942, test_f1 (macro) = 0.937\n",
      "total time = 8.317, train time/epoch = 0.02119, best_val_f1 (macro) = 0.945, test_f1 (macro) = 0.932\n",
      "total time = 12.121, train time/epoch = 0.02114, best_val_f1 (macro) = 0.945, test_f1 (macro) = 0.943\n",
      "total time = 12.327, train time/epoch = 0.02120, best_val_f1 (macro) = 0.945, test_f1 (macro) = 0.937\n",
      "total time = 5.518, train time/epoch = 0.02139, best_val_f1 (macro) = 0.922, test_f1 (macro) = 0.926\n",
      "total time = 9.117, train time/epoch = 0.02159, best_val_f1 (macro) = 0.950, test_f1 (macro) = 0.932\n",
      "total time = 9.389, train time/epoch = 0.02128, best_val_f1 (macro) = 0.947, test_f1 (macro) = 0.927\n",
      "test macro-f1 (mean, std):  0.9340356892567571 0.005103452391561436\n",
      "test macro-f1 (mean, std) after filter:  0.9345338991884655 0.0034043997394240352\n"
     ]
    }
   ],
   "source": [
    "f1s = []\n",
    "datasets = ['ACM', 'IMDB', 'DBLP']\n",
    "for dataset in datasets:\n",
    "    args.data = dataset\n",
    "    if dataset == 'ACM':\n",
    "        args.target_node_type = 'paper'\n",
    "        print('\\nstart testing on ' + dataset + ' dataset')\n",
    "        f1s.append(main(args))\n",
    "    elif dataset == 'IMDB':\n",
    "        args.target_node_type = 'movie'\n",
    "        print('\\nstart testing on ' + dataset + ' dataset')\n",
    "        f1s.append(main(args))\n",
    "    elif dataset == 'DBLP':\n",
    "        args.target_node_type = 'author'\n",
    "        print('\\nstart testing on ' + dataset + ' dataset')\n",
    "        f1s.append(main(args))"
   ]
  },
  {
   "cell_type": "code",
   "execution_count": 4,
   "metadata": {},
   "outputs": [],
   "source": [
    "f1s = np.array(f1s)"
   ]
  },
  {
   "cell_type": "code",
   "execution_count": null,
   "metadata": {},
   "outputs": [],
   "source": []
  }
 ],
 "metadata": {
  "kernelspec": {
   "display_name": "Python 3",
   "language": "python",
   "name": "python3"
  },
  "language_info": {
   "codemirror_mode": {
    "name": "ipython",
    "version": 3
   },
   "file_extension": ".py",
   "mimetype": "text/x-python",
   "name": "python",
   "nbconvert_exporter": "python",
   "pygments_lexer": "ipython3",
   "version": "3.8.8"
  }
 },
 "nbformat": 4,
 "nbformat_minor": 4
}
