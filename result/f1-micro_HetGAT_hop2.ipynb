{
 "cells": [
  {
   "cell_type": "code",
   "execution_count": 1,
   "metadata": {},
   "outputs": [
    {
     "name": "stderr",
     "output_type": "stream",
     "text": [
      "Using backend: pytorch\n"
     ]
    }
   ],
   "source": [
    "root_dir = '..' # dir of the source code\n",
    "import sys\n",
    "sys.path.append(root_dir)\n",
    "from train import main\n",
    "import numpy as np"
   ]
  },
  {
   "cell_type": "code",
   "execution_count": 2,
   "metadata": {},
   "outputs": [],
   "source": [
    "class config:\n",
    "    data = 'ACM'\n",
    "    data_path = '../data/preprocessed/'\n",
    "    model = 'HetGAT'\n",
    "    target_node_type = 'paper'\n",
    "    n_hid = 64\n",
    "    dropout = 0.8\n",
    "    dropout2 = 0.2\n",
    "    learning_rate = 0.005\n",
    "    weight_decay = 5e-5\n",
    "    patience = 100\n",
    "    num_iter = 500\n",
    "    num_test = 30\n",
    "    hop = 2\n",
    "    filter_pct = 0.1 # remove the top and bottom filer_pct points before obtaining statistics of test accuracy\n",
    "    log_step = 1000 # training log step\n",
    "    layer_wise = True\n",
    "    average = 'micro' # 'f1 average: can choose either macro or micro.'\n",
    "\n",
    "args = config()"
   ]
  },
  {
   "cell_type": "code",
   "execution_count": 3,
   "metadata": {
    "scrolled": false
   },
   "outputs": [
    {
     "name": "stdout",
     "output_type": "stream",
     "text": [
      "\n",
      "start testing on ACM dataset\n",
      "total time = 4.063, train time/epoch = 0.02624, best_val_f1 (micro) = 0.927, test_f1 (micro) = 0.922\n",
      "total time = 3.195, train time/epoch = 0.02104, best_val_f1 (micro) = 0.927, test_f1 (micro) = 0.930\n",
      "total time = 3.208, train time/epoch = 0.02116, best_val_f1 (micro) = 0.927, test_f1 (micro) = 0.919\n",
      "total time = 3.288, train time/epoch = 0.02120, best_val_f1 (micro) = 0.927, test_f1 (micro) = 0.917\n",
      "total time = 3.462, train time/epoch = 0.02120, best_val_f1 (micro) = 0.930, test_f1 (micro) = 0.912\n",
      "total time = 3.146, train time/epoch = 0.02104, best_val_f1 (micro) = 0.927, test_f1 (micro) = 0.911\n",
      "total time = 2.868, train time/epoch = 0.02114, best_val_f1 (micro) = 0.927, test_f1 (micro) = 0.903\n",
      "total time = 3.538, train time/epoch = 0.02148, best_val_f1 (micro) = 0.920, test_f1 (micro) = 0.911\n",
      "total time = 3.161, train time/epoch = 0.02106, best_val_f1 (micro) = 0.920, test_f1 (micro) = 0.911\n",
      "total time = 3.440, train time/epoch = 0.02118, best_val_f1 (micro) = 0.923, test_f1 (micro) = 0.918\n",
      "total time = 3.691, train time/epoch = 0.02131, best_val_f1 (micro) = 0.930, test_f1 (micro) = 0.928\n",
      "total time = 4.324, train time/epoch = 0.02134, best_val_f1 (micro) = 0.930, test_f1 (micro) = 0.919\n",
      "total time = 3.431, train time/epoch = 0.02132, best_val_f1 (micro) = 0.930, test_f1 (micro) = 0.922\n",
      "total time = 3.320, train time/epoch = 0.02123, best_val_f1 (micro) = 0.923, test_f1 (micro) = 0.919\n",
      "total time = 3.367, train time/epoch = 0.02115, best_val_f1 (micro) = 0.920, test_f1 (micro) = 0.922\n",
      "total time = 3.641, train time/epoch = 0.02114, best_val_f1 (micro) = 0.923, test_f1 (micro) = 0.928\n",
      "total time = 3.586, train time/epoch = 0.02114, best_val_f1 (micro) = 0.933, test_f1 (micro) = 0.915\n",
      "total time = 3.098, train time/epoch = 0.02119, best_val_f1 (micro) = 0.923, test_f1 (micro) = 0.923\n",
      "total time = 3.411, train time/epoch = 0.02111, best_val_f1 (micro) = 0.923, test_f1 (micro) = 0.912\n",
      "total time = 2.901, train time/epoch = 0.02115, best_val_f1 (micro) = 0.920, test_f1 (micro) = 0.887\n",
      "total time = 3.471, train time/epoch = 0.02114, best_val_f1 (micro) = 0.930, test_f1 (micro) = 0.921\n",
      "total time = 3.899, train time/epoch = 0.02121, best_val_f1 (micro) = 0.930, test_f1 (micro) = 0.901\n",
      "total time = 2.935, train time/epoch = 0.02120, best_val_f1 (micro) = 0.923, test_f1 (micro) = 0.906\n",
      "total time = 4.220, train time/epoch = 0.02143, best_val_f1 (micro) = 0.933, test_f1 (micro) = 0.918\n",
      "total time = 5.138, train time/epoch = 0.02259, best_val_f1 (micro) = 0.933, test_f1 (micro) = 0.920\n",
      "total time = 3.967, train time/epoch = 0.02234, best_val_f1 (micro) = 0.927, test_f1 (micro) = 0.923\n",
      "total time = 3.538, train time/epoch = 0.02190, best_val_f1 (micro) = 0.923, test_f1 (micro) = 0.928\n",
      "total time = 3.517, train time/epoch = 0.02190, best_val_f1 (micro) = 0.923, test_f1 (micro) = 0.926\n",
      "total time = 3.564, train time/epoch = 0.02153, best_val_f1 (micro) = 0.927, test_f1 (micro) = 0.914\n",
      "total time = 3.176, train time/epoch = 0.02173, best_val_f1 (micro) = 0.923, test_f1 (micro) = 0.892\n",
      "test micro-f1 (mean, std):  0.9158490969327776 0.010027884124278333\n",
      "test micro-f1 (mean, std) after filter:  0.9170674361440633 0.006109014678648192\n",
      "\n",
      "start testing on IMDB dataset\n",
      "total time = 3.163, train time/epoch = 0.01820, best_val_f1 (micro) = 0.620, test_f1 (micro) = 0.588\n",
      "total time = 6.063, train time/epoch = 0.01768, best_val_f1 (micro) = 0.620, test_f1 (micro) = 0.558\n",
      "total time = 3.197, train time/epoch = 0.01777, best_val_f1 (micro) = 0.637, test_f1 (micro) = 0.595\n",
      "total time = 4.019, train time/epoch = 0.01779, best_val_f1 (micro) = 0.627, test_f1 (micro) = 0.558\n",
      "total time = 2.878, train time/epoch = 0.01801, best_val_f1 (micro) = 0.630, test_f1 (micro) = 0.601\n",
      "total time = 4.062, train time/epoch = 0.01817, best_val_f1 (micro) = 0.617, test_f1 (micro) = 0.569\n",
      "total time = 4.670, train time/epoch = 0.01798, best_val_f1 (micro) = 0.623, test_f1 (micro) = 0.565\n",
      "total time = 3.159, train time/epoch = 0.01791, best_val_f1 (micro) = 0.633, test_f1 (micro) = 0.605\n",
      "total time = 3.434, train time/epoch = 0.01788, best_val_f1 (micro) = 0.620, test_f1 (micro) = 0.579\n",
      "total time = 2.799, train time/epoch = 0.01800, best_val_f1 (micro) = 0.633, test_f1 (micro) = 0.602\n",
      "total time = 3.557, train time/epoch = 0.01821, best_val_f1 (micro) = 0.623, test_f1 (micro) = 0.577\n",
      "total time = 3.183, train time/epoch = 0.01785, best_val_f1 (micro) = 0.637, test_f1 (micro) = 0.582\n",
      "total time = 4.823, train time/epoch = 0.01806, best_val_f1 (micro) = 0.627, test_f1 (micro) = 0.569\n",
      "total time = 4.731, train time/epoch = 0.01775, best_val_f1 (micro) = 0.647, test_f1 (micro) = 0.544\n",
      "total time = 2.777, train time/epoch = 0.01781, best_val_f1 (micro) = 0.640, test_f1 (micro) = 0.601\n",
      "total time = 3.245, train time/epoch = 0.01815, best_val_f1 (micro) = 0.630, test_f1 (micro) = 0.578\n",
      "total time = 2.787, train time/epoch = 0.01826, best_val_f1 (micro) = 0.623, test_f1 (micro) = 0.596\n",
      "total time = 3.325, train time/epoch = 0.01830, best_val_f1 (micro) = 0.630, test_f1 (micro) = 0.582\n",
      "total time = 3.256, train time/epoch = 0.01797, best_val_f1 (micro) = 0.623, test_f1 (micro) = 0.572\n",
      "total time = 3.090, train time/epoch = 0.01785, best_val_f1 (micro) = 0.610, test_f1 (micro) = 0.580\n",
      "total time = 3.276, train time/epoch = 0.01800, best_val_f1 (micro) = 0.620, test_f1 (micro) = 0.576\n",
      "total time = 3.044, train time/epoch = 0.01803, best_val_f1 (micro) = 0.623, test_f1 (micro) = 0.583\n",
      "total time = 5.938, train time/epoch = 0.01779, best_val_f1 (micro) = 0.620, test_f1 (micro) = 0.569\n",
      "total time = 4.390, train time/epoch = 0.01775, best_val_f1 (micro) = 0.617, test_f1 (micro) = 0.571\n",
      "total time = 3.390, train time/epoch = 0.01781, best_val_f1 (micro) = 0.613, test_f1 (micro) = 0.570\n",
      "total time = 5.635, train time/epoch = 0.01796, best_val_f1 (micro) = 0.620, test_f1 (micro) = 0.576\n",
      "total time = 3.190, train time/epoch = 0.01843, best_val_f1 (micro) = 0.627, test_f1 (micro) = 0.597\n",
      "total time = 5.502, train time/epoch = 0.01790, best_val_f1 (micro) = 0.630, test_f1 (micro) = 0.574\n",
      "total time = 5.642, train time/epoch = 0.01782, best_val_f1 (micro) = 0.617, test_f1 (micro) = 0.566\n",
      "total time = 3.546, train time/epoch = 0.01786, best_val_f1 (micro) = 0.620, test_f1 (micro) = 0.568\n",
      "test micro-f1 (mean, std):  0.5784121805328983 0.014446996136923273\n",
      "test micro-f1 (mean, std) after filter:  0.5784620264636579 0.010217159783860834\n",
      "\n",
      "start testing on DBLP dataset\n",
      "total time = 3.981, train time/epoch = 0.02358, best_val_f1 (micro) = 0.932, test_f1 (micro) = 0.933\n",
      "total time = 4.000, train time/epoch = 0.02367, best_val_f1 (micro) = 0.922, test_f1 (micro) = 0.930\n",
      "total time = 3.906, train time/epoch = 0.02360, best_val_f1 (micro) = 0.938, test_f1 (micro) = 0.935\n",
      "total time = 3.842, train time/epoch = 0.02363, best_val_f1 (micro) = 0.932, test_f1 (micro) = 0.935\n",
      "total time = 3.815, train time/epoch = 0.02360, best_val_f1 (micro) = 0.940, test_f1 (micro) = 0.928\n",
      "total time = 3.950, train time/epoch = 0.02399, best_val_f1 (micro) = 0.938, test_f1 (micro) = 0.938\n",
      "total time = 3.852, train time/epoch = 0.02403, best_val_f1 (micro) = 0.943, test_f1 (micro) = 0.938\n",
      "total time = 4.083, train time/epoch = 0.02367, best_val_f1 (micro) = 0.943, test_f1 (micro) = 0.940\n",
      "total time = 3.888, train time/epoch = 0.02369, best_val_f1 (micro) = 0.943, test_f1 (micro) = 0.947\n",
      "total time = 3.890, train time/epoch = 0.02379, best_val_f1 (micro) = 0.940, test_f1 (micro) = 0.943\n",
      "total time = 4.052, train time/epoch = 0.02393, best_val_f1 (micro) = 0.938, test_f1 (micro) = 0.934\n",
      "total time = 3.809, train time/epoch = 0.02352, best_val_f1 (micro) = 0.948, test_f1 (micro) = 0.941\n",
      "total time = 3.844, train time/epoch = 0.02355, best_val_f1 (micro) = 0.938, test_f1 (micro) = 0.938\n",
      "total time = 4.280, train time/epoch = 0.02352, best_val_f1 (micro) = 0.932, test_f1 (micro) = 0.931\n",
      "total time = 4.057, train time/epoch = 0.02392, best_val_f1 (micro) = 0.932, test_f1 (micro) = 0.928\n",
      "total time = 3.883, train time/epoch = 0.02395, best_val_f1 (micro) = 0.948, test_f1 (micro) = 0.945\n",
      "total time = 3.875, train time/epoch = 0.02383, best_val_f1 (micro) = 0.940, test_f1 (micro) = 0.936\n",
      "total time = 3.854, train time/epoch = 0.02369, best_val_f1 (micro) = 0.932, test_f1 (micro) = 0.939\n"
     ]
    },
    {
     "name": "stdout",
     "output_type": "stream",
     "text": [
      "total time = 3.887, train time/epoch = 0.02368, best_val_f1 (micro) = 0.943, test_f1 (micro) = 0.943\n",
      "total time = 4.000, train time/epoch = 0.02379, best_val_f1 (micro) = 0.945, test_f1 (micro) = 0.936\n",
      "total time = 3.983, train time/epoch = 0.02382, best_val_f1 (micro) = 0.938, test_f1 (micro) = 0.944\n",
      "total time = 4.043, train time/epoch = 0.02363, best_val_f1 (micro) = 0.945, test_f1 (micro) = 0.933\n",
      "total time = 4.175, train time/epoch = 0.02363, best_val_f1 (micro) = 0.925, test_f1 (micro) = 0.921\n",
      "total time = 4.046, train time/epoch = 0.02368, best_val_f1 (micro) = 0.943, test_f1 (micro) = 0.941\n",
      "total time = 3.829, train time/epoch = 0.02385, best_val_f1 (micro) = 0.940, test_f1 (micro) = 0.931\n",
      "total time = 3.956, train time/epoch = 0.02417, best_val_f1 (micro) = 0.953, test_f1 (micro) = 0.932\n",
      "total time = 4.148, train time/epoch = 0.02413, best_val_f1 (micro) = 0.948, test_f1 (micro) = 0.941\n",
      "total time = 3.919, train time/epoch = 0.02362, best_val_f1 (micro) = 0.935, test_f1 (micro) = 0.941\n",
      "total time = 4.155, train time/epoch = 0.02367, best_val_f1 (micro) = 0.950, test_f1 (micro) = 0.933\n",
      "total time = 4.322, train time/epoch = 0.02361, best_val_f1 (micro) = 0.935, test_f1 (micro) = 0.926\n",
      "test micro-f1 (mean, std):  0.9360284680900711 0.006060920222137288\n",
      "test micro-f1 (mean, std) after filter:  0.9362822307782056 0.004171526292942763\n"
     ]
    }
   ],
   "source": [
    "f1s = []\n",
    "datasets = ['ACM', 'IMDB', 'DBLP']\n",
    "for dataset in datasets:\n",
    "    args.data = dataset\n",
    "    if dataset == 'ACM':\n",
    "        args.dropout = 0.8\n",
    "        args.dropout2 = 0.2\n",
    "        args.target_node_type = 'paper'\n",
    "        print('\\nstart testing on ' + dataset + ' dataset')\n",
    "        f1s.append(main(args))\n",
    "    elif dataset == 'IMDB':\n",
    "        args.dropout = 0.8\n",
    "        args.dropout2 = 0.2\n",
    "        args.target_node_type = 'movie'\n",
    "        print('\\nstart testing on ' + dataset + ' dataset')\n",
    "        f1s.append(main(args))\n",
    "    elif dataset == 'DBLP':\n",
    "        args.dropout = 0\n",
    "        args.dropout2 = 0\n",
    "        args.target_node_type = 'author'\n",
    "        print('\\nstart testing on ' + dataset + ' dataset')\n",
    "        f1s.append(main(args))"
   ]
  },
  {
   "cell_type": "code",
   "execution_count": 4,
   "metadata": {},
   "outputs": [],
   "source": [
    "f1s = np.array(f1s)"
   ]
  },
  {
   "cell_type": "code",
   "execution_count": null,
   "metadata": {},
   "outputs": [],
   "source": []
  }
 ],
 "metadata": {
  "kernelspec": {
   "display_name": "Python 3",
   "language": "python",
   "name": "python3"
  },
  "language_info": {
   "codemirror_mode": {
    "name": "ipython",
    "version": 3
   },
   "file_extension": ".py",
   "mimetype": "text/x-python",
   "name": "python",
   "nbconvert_exporter": "python",
   "pygments_lexer": "ipython3",
   "version": "3.8.8"
  }
 },
 "nbformat": 4,
 "nbformat_minor": 4
}
