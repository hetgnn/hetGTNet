{
 "cells": [
  {
   "cell_type": "code",
   "execution_count": 1,
   "metadata": {},
   "outputs": [
    {
     "name": "stderr",
     "output_type": "stream",
     "text": [
      "Using backend: pytorch\n"
     ]
    }
   ],
   "source": [
    "root_dir = '..' # dir of the source code\n",
    "import sys\n",
    "sys.path.append(root_dir)\n",
    "from train import main\n",
    "import numpy as np"
   ]
  },
  {
   "cell_type": "code",
   "execution_count": 2,
   "metadata": {},
   "outputs": [],
   "source": [
    "class config:\n",
    "    data = 'ACM'\n",
    "    data_path = '../data/preprocessed/'\n",
    "    model = 'HAN'\n",
    "    target_node_type = 'paper'\n",
    "    n_hid = 64\n",
    "    num_heads = 8\n",
    "    dropout = 0.6\n",
    "    learning_rate = 0.005\n",
    "    weight_decay = 0.001\n",
    "    patience = 100\n",
    "    num_iter = 500\n",
    "    num_test = 30\n",
    "    hop = 5\n",
    "    filter_pct = 0.1 # remove the top and bottom filer_pct points before obtaining statistics of test accuracy\n",
    "    log_step = 1000 # training log step\n",
    "    average = 'macro' # 'f1 average: can choose either macro or micro.'\n",
    "\n",
    "args = config()"
   ]
  },
  {
   "cell_type": "code",
   "execution_count": 3,
   "metadata": {
    "scrolled": false
   },
   "outputs": [
    {
     "name": "stdout",
     "output_type": "stream",
     "text": [
      "\n",
      "start testing on ACM dataset\n",
      "total time = 111.663, train time/epoch = 0.20056, best_val_f1 (macro) = 0.828, test_f1 (macro) = 0.752\n",
      "total time = 123.813, train time/epoch = 0.19869, best_val_f1 (macro) = 0.851, test_f1 (macro) = 0.789\n",
      "total time = 142.246, train time/epoch = 0.19866, best_val_f1 (macro) = 0.867, test_f1 (macro) = 0.812\n",
      "total time = 93.415, train time/epoch = 0.19898, best_val_f1 (macro) = 0.851, test_f1 (macro) = 0.798\n",
      "total time = 53.547, train time/epoch = 0.19906, best_val_f1 (macro) = 0.789, test_f1 (macro) = 0.703\n",
      "total time = 105.528, train time/epoch = 0.19866, best_val_f1 (macro) = 0.843, test_f1 (macro) = 0.770\n",
      "total time = 77.476, train time/epoch = 0.19902, best_val_f1 (macro) = 0.851, test_f1 (macro) = 0.787\n",
      "total time = 142.329, train time/epoch = 0.19878, best_val_f1 (macro) = 0.881, test_f1 (macro) = 0.816\n",
      "total time = 138.733, train time/epoch = 0.19905, best_val_f1 (macro) = 0.887, test_f1 (macro) = 0.817\n",
      "total time = 74.574, train time/epoch = 0.19887, best_val_f1 (macro) = 0.815, test_f1 (macro) = 0.755\n",
      "total time = 105.644, train time/epoch = 0.19880, best_val_f1 (macro) = 0.841, test_f1 (macro) = 0.808\n",
      "total time = 93.833, train time/epoch = 0.19868, best_val_f1 (macro) = 0.888, test_f1 (macro) = 0.815\n",
      "total time = 139.403, train time/epoch = 0.19880, best_val_f1 (macro) = 0.891, test_f1 (macro) = 0.820\n",
      "total time = 46.966, train time/epoch = 0.19888, best_val_f1 (macro) = 0.795, test_f1 (macro) = 0.733\n",
      "total time = 118.173, train time/epoch = 0.19888, best_val_f1 (macro) = 0.828, test_f1 (macro) = 0.798\n",
      "total time = 47.871, train time/epoch = 0.19926, best_val_f1 (macro) = 0.542, test_f1 (macro) = 0.584\n",
      "total time = 81.924, train time/epoch = 0.19863, best_val_f1 (macro) = 0.802, test_f1 (macro) = 0.800\n",
      "total time = 48.121, train time/epoch = 0.19898, best_val_f1 (macro) = 0.812, test_f1 (macro) = 0.730\n",
      "total time = 137.403, train time/epoch = 0.19869, best_val_f1 (macro) = 0.871, test_f1 (macro) = 0.799\n",
      "total time = 142.218, train time/epoch = 0.19868, best_val_f1 (macro) = 0.874, test_f1 (macro) = 0.800\n",
      "total time = 142.379, train time/epoch = 0.19880, best_val_f1 (macro) = 0.843, test_f1 (macro) = 0.811\n",
      "total time = 116.926, train time/epoch = 0.19868, best_val_f1 (macro) = 0.817, test_f1 (macro) = 0.785\n",
      "total time = 36.192, train time/epoch = 0.19929, best_val_f1 (macro) = 0.674, test_f1 (macro) = 0.724\n",
      "total time = 142.199, train time/epoch = 0.19862, best_val_f1 (macro) = 0.881, test_f1 (macro) = 0.817\n",
      "total time = 103.853, train time/epoch = 0.19857, best_val_f1 (macro) = 0.826, test_f1 (macro) = 0.804\n",
      "total time = 111.289, train time/epoch = 0.19878, best_val_f1 (macro) = 0.819, test_f1 (macro) = 0.752\n",
      "total time = 66.681, train time/epoch = 0.19897, best_val_f1 (macro) = 0.823, test_f1 (macro) = 0.732\n",
      "total time = 142.274, train time/epoch = 0.19869, best_val_f1 (macro) = 0.887, test_f1 (macro) = 0.817\n",
      "total time = 142.273, train time/epoch = 0.19871, best_val_f1 (macro) = 0.888, test_f1 (macro) = 0.821\n",
      "total time = 111.032, train time/epoch = 0.19888, best_val_f1 (macro) = 0.822, test_f1 (macro) = 0.758\n",
      "test macro-f1 (mean, std):  0.7769019607136419 0.04912750605737174\n",
      "test macro-f1 (mean, std) after filter:  0.7849009442863036 0.02877801658084361\n",
      "\n",
      "start testing on IMDB dataset\n",
      "total time = 17.040, train time/epoch = 0.04663, best_val_f1 (macro) = 0.576, test_f1 (macro) = 0.560\n",
      "total time = 9.548, train time/epoch = 0.04796, best_val_f1 (macro) = 0.439, test_f1 (macro) = 0.459\n",
      "total time = 12.404, train time/epoch = 0.04809, best_val_f1 (macro) = 0.603, test_f1 (macro) = 0.570\n",
      "total time = 14.331, train time/epoch = 0.04794, best_val_f1 (macro) = 0.567, test_f1 (macro) = 0.582\n",
      "total time = 10.356, train time/epoch = 0.04784, best_val_f1 (macro) = 0.582, test_f1 (macro) = 0.540\n",
      "total time = 19.732, train time/epoch = 0.04759, best_val_f1 (macro) = 0.575, test_f1 (macro) = 0.557\n",
      "total time = 19.440, train time/epoch = 0.04766, best_val_f1 (macro) = 0.587, test_f1 (macro) = 0.567\n",
      "total time = 19.147, train time/epoch = 0.04811, best_val_f1 (macro) = 0.557, test_f1 (macro) = 0.578\n",
      "total time = 12.932, train time/epoch = 0.04772, best_val_f1 (macro) = 0.586, test_f1 (macro) = 0.527\n",
      "total time = 13.692, train time/epoch = 0.04840, best_val_f1 (macro) = 0.603, test_f1 (macro) = 0.521\n",
      "total time = 15.737, train time/epoch = 0.04782, best_val_f1 (macro) = 0.587, test_f1 (macro) = 0.564\n",
      "total time = 11.127, train time/epoch = 0.04833, best_val_f1 (macro) = 0.566, test_f1 (macro) = 0.467\n",
      "total time = 15.093, train time/epoch = 0.04763, best_val_f1 (macro) = 0.580, test_f1 (macro) = 0.568\n",
      "total time = 11.925, train time/epoch = 0.04764, best_val_f1 (macro) = 0.587, test_f1 (macro) = 0.550\n",
      "total time = 12.382, train time/epoch = 0.04773, best_val_f1 (macro) = 0.587, test_f1 (macro) = 0.541\n",
      "total time = 16.466, train time/epoch = 0.04817, best_val_f1 (macro) = 0.583, test_f1 (macro) = 0.571\n",
      "total time = 14.545, train time/epoch = 0.04770, best_val_f1 (macro) = 0.579, test_f1 (macro) = 0.573\n",
      "total time = 17.252, train time/epoch = 0.04762, best_val_f1 (macro) = 0.583, test_f1 (macro) = 0.561\n",
      "total time = 18.965, train time/epoch = 0.04782, best_val_f1 (macro) = 0.572, test_f1 (macro) = 0.566\n",
      "total time = 14.736, train time/epoch = 0.04820, best_val_f1 (macro) = 0.576, test_f1 (macro) = 0.579\n",
      "total time = 15.007, train time/epoch = 0.04785, best_val_f1 (macro) = 0.596, test_f1 (macro) = 0.574\n",
      "total time = 16.894, train time/epoch = 0.04768, best_val_f1 (macro) = 0.586, test_f1 (macro) = 0.554\n",
      "total time = 14.964, train time/epoch = 0.04809, best_val_f1 (macro) = 0.579, test_f1 (macro) = 0.560\n",
      "total time = 21.902, train time/epoch = 0.04781, best_val_f1 (macro) = 0.590, test_f1 (macro) = 0.576\n",
      "total time = 13.187, train time/epoch = 0.04780, best_val_f1 (macro) = 0.594, test_f1 (macro) = 0.558\n",
      "total time = 17.557, train time/epoch = 0.04785, best_val_f1 (macro) = 0.583, test_f1 (macro) = 0.576\n",
      "total time = 14.796, train time/epoch = 0.04793, best_val_f1 (macro) = 0.584, test_f1 (macro) = 0.566\n",
      "total time = 12.140, train time/epoch = 0.04791, best_val_f1 (macro) = 0.578, test_f1 (macro) = 0.498\n",
      "total time = 17.390, train time/epoch = 0.04761, best_val_f1 (macro) = 0.573, test_f1 (macro) = 0.566\n",
      "total time = 17.054, train time/epoch = 0.04800, best_val_f1 (macro) = 0.586, test_f1 (macro) = 0.570\n",
      "test macro-f1 (mean, std):  0.5532825182270826 0.03031723401220747\n",
      "test macro-f1 (mean, std) after filter:  0.5598075039767029 0.01431197151789097\n",
      "\n",
      "start testing on DBLP dataset\n",
      "total time = 224.317, train time/epoch = 0.53705, best_val_f1 (macro) = 0.930, test_f1 (macro) = 0.916\n",
      "total time = 368.222, train time/epoch = 0.53739, best_val_f1 (macro) = 0.935, test_f1 (macro) = 0.910\n",
      "total time = 235.343, train time/epoch = 0.53768, best_val_f1 (macro) = 0.930, test_f1 (macro) = 0.915\n",
      "total time = 384.282, train time/epoch = 0.53714, best_val_f1 (macro) = 0.933, test_f1 (macro) = 0.906\n",
      "total time = 362.776, train time/epoch = 0.53724, best_val_f1 (macro) = 0.937, test_f1 (macro) = 0.916\n",
      "total time = 222.829, train time/epoch = 0.53721, best_val_f1 (macro) = 0.894, test_f1 (macro) = 0.849\n",
      "total time = 275.887, train time/epoch = 0.53719, best_val_f1 (macro) = 0.935, test_f1 (macro) = 0.907\n",
      "total time = 192.317, train time/epoch = 0.53795, best_val_f1 (macro) = 0.917, test_f1 (macro) = 0.906\n",
      "total time = 239.019, train time/epoch = 0.53719, best_val_f1 (macro) = 0.922, test_f1 (macro) = 0.905\n",
      "total time = 233.725, train time/epoch = 0.53745, best_val_f1 (macro) = 0.927, test_f1 (macro) = 0.916\n",
      "total time = 259.813, train time/epoch = 0.53738, best_val_f1 (macro) = 0.930, test_f1 (macro) = 0.908\n",
      "total time = 311.333, train time/epoch = 0.53744, best_val_f1 (macro) = 0.923, test_f1 (macro) = 0.899\n",
      "total time = 222.189, train time/epoch = 0.53749, best_val_f1 (macro) = 0.925, test_f1 (macro) = 0.913\n",
      "total time = 275.861, train time/epoch = 0.53718, best_val_f1 (macro) = 0.935, test_f1 (macro) = 0.913\n",
      "total time = 384.370, train time/epoch = 0.53710, best_val_f1 (macro) = 0.930, test_f1 (macro) = 0.907\n",
      "total time = 219.787, train time/epoch = 0.53730, best_val_f1 (macro) = 0.935, test_f1 (macro) = 0.914\n",
      "total time = 373.734, train time/epoch = 0.53759, best_val_f1 (macro) = 0.935, test_f1 (macro) = 0.912\n"
     ]
    },
    {
     "name": "stdout",
     "output_type": "stream",
     "text": [
      "total time = 308.912, train time/epoch = 0.53842, best_val_f1 (macro) = 0.933, test_f1 (macro) = 0.913\n",
      "total time = 338.776, train time/epoch = 0.53809, best_val_f1 (macro) = 0.933, test_f1 (macro) = 0.914\n",
      "total time = 341.157, train time/epoch = 0.53834, best_val_f1 (macro) = 0.930, test_f1 (macro) = 0.908\n",
      "total time = 314.279, train time/epoch = 0.53828, best_val_f1 (macro) = 0.930, test_f1 (macro) = 0.910\n",
      "total time = 242.443, train time/epoch = 0.53814, best_val_f1 (macro) = 0.935, test_f1 (macro) = 0.909\n",
      "total time = 188.429, train time/epoch = 0.53771, best_val_f1 (macro) = 0.930, test_f1 (macro) = 0.909\n",
      "total time = 191.446, train time/epoch = 0.53763, best_val_f1 (macro) = 0.938, test_f1 (macro) = 0.894\n",
      "total time = 384.217, train time/epoch = 0.53712, best_val_f1 (macro) = 0.938, test_f1 (macro) = 0.908\n",
      "total time = 268.570, train time/epoch = 0.53795, best_val_f1 (macro) = 0.935, test_f1 (macro) = 0.910\n",
      "total time = 279.232, train time/epoch = 0.53767, best_val_f1 (macro) = 0.933, test_f1 (macro) = 0.889\n",
      "total time = 223.869, train time/epoch = 0.53782, best_val_f1 (macro) = 0.938, test_f1 (macro) = 0.906\n",
      "total time = 384.074, train time/epoch = 0.53702, best_val_f1 (macro) = 0.935, test_f1 (macro) = 0.908\n",
      "total time = 324.153, train time/epoch = 0.53702, best_val_f1 (macro) = 0.930, test_f1 (macro) = 0.916\n",
      "test macro-f1 (mean, std):  0.9068578679236227 0.012377924782060807\n",
      "test macro-f1 (mean, std) after filter:  0.9093681222810629 0.003740800409398276\n"
     ]
    }
   ],
   "source": [
    "f1s = []\n",
    "datasets = ['ACM', 'IMDB', 'DBLP']\n",
    "for dataset in datasets:\n",
    "    args.data = dataset\n",
    "    if dataset == 'ACM':\n",
    "        args.target_node_type = 'paper'\n",
    "        print('\\nstart testing on ' + dataset + ' dataset')\n",
    "        f1s.append(main(args))\n",
    "    elif dataset == 'IMDB':\n",
    "        args.target_node_type = 'movie'\n",
    "        print('\\nstart testing on ' + dataset + ' dataset')\n",
    "        f1s.append(main(args))\n",
    "    elif dataset == 'DBLP':\n",
    "        args.target_node_type = 'author'\n",
    "        print('\\nstart testing on ' + dataset + ' dataset')\n",
    "        f1s.append(main(args))"
   ]
  },
  {
   "cell_type": "code",
   "execution_count": 4,
   "metadata": {},
   "outputs": [],
   "source": [
    "f1s = np.array(f1s)\n",
    "np.savetxt('f1_ACM_hop5.txt',f1s)"
   ]
  },
  {
   "cell_type": "code",
   "execution_count": null,
   "metadata": {},
   "outputs": [],
   "source": []
  }
 ],
 "metadata": {
  "kernelspec": {
   "display_name": "Python 3",
   "language": "python",
   "name": "python3"
  },
  "language_info": {
   "codemirror_mode": {
    "name": "ipython",
    "version": 3
   },
   "file_extension": ".py",
   "mimetype": "text/x-python",
   "name": "python",
   "nbconvert_exporter": "python",
   "pygments_lexer": "ipython3",
   "version": "3.8.8"
  }
 },
 "nbformat": 4,
 "nbformat_minor": 4
}
