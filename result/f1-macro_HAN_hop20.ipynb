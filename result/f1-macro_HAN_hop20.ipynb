{
 "cells": [
  {
   "cell_type": "code",
   "execution_count": 1,
   "metadata": {},
   "outputs": [],
   "source": [
    "root_dir = '..' # dir of the source code\n",
    "import sys\n",
    "sys.path.append(root_dir)\n",
    "from train import main\n",
    "import numpy as np"
   ]
  },
  {
   "cell_type": "code",
   "execution_count": 2,
   "metadata": {},
   "outputs": [],
   "source": [
    "class config:\n",
    "    data = 'ACM'\n",
    "    data_path = '../data/preprocessed/'\n",
    "    model = 'HAN'\n",
    "    target_node_type = 'paper'\n",
    "    n_hid = 64\n",
    "    num_heads = 8\n",
    "    dropout = 0.4\n",
    "    learning_rate = 0.005\n",
    "    weight_decay = 1e-4\n",
    "    patience = 100\n",
    "    num_iter = 500\n",
    "    num_test = 30\n",
    "    hop = 20\n",
    "    filter_pct = 0.1 # remove the top and bottom filer_pct points before obtaining statistics of test accuracy\n",
    "    log_step = 1000 # training log step\n",
    "    average = 'macro' # 'f1 average: can choose either macro or micro.'\n",
    "\n",
    "args = config()"
   ]
  },
  {
   "cell_type": "code",
   "execution_count": 3,
   "metadata": {
    "scrolled": false
   },
   "outputs": [
    {
     "name": "stdout",
     "output_type": "stream",
     "text": [
      "\n",
      "start testing on ACM dataset\n",
      "total time = 229.621, train time/epoch = 0.78600, best_val_f1 (macro) = 0.287, test_f1 (macro) = 0.356\n",
      "total time = 121.208, train time/epoch = 0.78635, best_val_f1 (macro) = 0.485, test_f1 (macro) = 0.453\n",
      "total time = 115.272, train time/epoch = 0.78470, best_val_f1 (macro) = 0.167, test_f1 (macro) = 0.234\n",
      "total time = 115.449, train time/epoch = 0.78530, best_val_f1 (macro) = 0.167, test_f1 (macro) = 0.117\n",
      "total time = 115.127, train time/epoch = 0.78278, best_val_f1 (macro) = 0.515, test_f1 (macro) = 0.564\n",
      "total time = 115.425, train time/epoch = 0.78512, best_val_f1 (macro) = 0.167, test_f1 (macro) = 0.131\n",
      "total time = 120.109, train time/epoch = 0.78653, best_val_f1 (macro) = 0.222, test_f1 (macro) = 0.176\n",
      "total time = 138.011, train time/epoch = 0.78546, best_val_f1 (macro) = 0.522, test_f1 (macro) = 0.578\n",
      "total time = 132.064, train time/epoch = 0.78365, best_val_f1 (macro) = 0.212, test_f1 (macro) = 0.268\n",
      "total time = 115.314, train time/epoch = 0.78464, best_val_f1 (macro) = 0.167, test_f1 (macro) = 0.117\n",
      "total time = 129.823, train time/epoch = 0.78344, best_val_f1 (macro) = 0.512, test_f1 (macro) = 0.577\n",
      "total time = 115.404, train time/epoch = 0.78511, best_val_f1 (macro) = 0.167, test_f1 (macro) = 0.118\n",
      "total time = 138.853, train time/epoch = 0.78378, best_val_f1 (macro) = 0.174, test_f1 (macro) = 0.145\n",
      "total time = 115.369, train time/epoch = 0.78549, best_val_f1 (macro) = 0.167, test_f1 (macro) = 0.117\n",
      "total time = 200.533, train time/epoch = 0.78196, best_val_f1 (macro) = 0.440, test_f1 (macro) = 0.419\n",
      "total time = 148.228, train time/epoch = 0.78552, best_val_f1 (macro) = 0.524, test_f1 (macro) = 0.462\n",
      "total time = 115.047, train time/epoch = 0.78303, best_val_f1 (macro) = 0.167, test_f1 (macro) = 0.117\n",
      "total time = 154.995, train time/epoch = 0.78463, best_val_f1 (macro) = 0.224, test_f1 (macro) = 0.276\n",
      "total time = 198.379, train time/epoch = 0.78206, best_val_f1 (macro) = 0.539, test_f1 (macro) = 0.580\n",
      "total time = 120.024, train time/epoch = 0.78584, best_val_f1 (macro) = 0.512, test_f1 (macro) = 0.576\n",
      "total time = 119.621, train time/epoch = 0.78260, best_val_f1 (macro) = 0.511, test_f1 (macro) = 0.470\n",
      "total time = 176.391, train time/epoch = 0.78474, best_val_f1 (macro) = 0.452, test_f1 (macro) = 0.411\n",
      "total time = 115.133, train time/epoch = 0.78325, best_val_f1 (macro) = 0.167, test_f1 (macro) = 0.117\n",
      "total time = 115.488, train time/epoch = 0.78605, best_val_f1 (macro) = 0.167, test_f1 (macro) = 0.235\n",
      "total time = 178.259, train time/epoch = 0.78291, best_val_f1 (macro) = 0.234, test_f1 (macro) = 0.288\n",
      "total time = 202.317, train time/epoch = 0.78415, best_val_f1 (macro) = 0.523, test_f1 (macro) = 0.578\n",
      "total time = 135.308, train time/epoch = 0.78303, best_val_f1 (macro) = 0.510, test_f1 (macro) = 0.464\n",
      "total time = 134.647, train time/epoch = 0.78515, best_val_f1 (macro) = 0.515, test_f1 (macro) = 0.469\n",
      "total time = 127.460, train time/epoch = 0.78332, best_val_f1 (macro) = 0.227, test_f1 (macro) = 0.275\n",
      "total time = 137.989, train time/epoch = 0.78527, best_val_f1 (macro) = 0.511, test_f1 (macro) = 0.561\n",
      "test macro-f1 (mean, std):  0.3416563230600552 0.17471351771384813\n",
      "test macro-f1 (mean, std) after filter:  0.34004852178570677 0.15751534468992454\n",
      "\n",
      "start testing on IMDB dataset\n",
      "total time = 57.478, train time/epoch = 0.18639, best_val_f1 (macro) = 0.289, test_f1 (macro) = 0.245\n",
      "total time = 28.453, train time/epoch = 0.18856, best_val_f1 (macro) = 0.195, test_f1 (macro) = 0.148\n",
      "total time = 36.431, train time/epoch = 0.18791, best_val_f1 (macro) = 0.208, test_f1 (macro) = 0.230\n",
      "total time = 31.027, train time/epoch = 0.18836, best_val_f1 (macro) = 0.186, test_f1 (macro) = 0.193\n",
      "total time = 49.583, train time/epoch = 0.18792, best_val_f1 (macro) = 0.239, test_f1 (macro) = 0.256\n",
      "total time = 39.942, train time/epoch = 0.18741, best_val_f1 (macro) = 0.292, test_f1 (macro) = 0.308\n",
      "total time = 32.601, train time/epoch = 0.18819, best_val_f1 (macro) = 0.222, test_f1 (macro) = 0.240\n",
      "total time = 83.703, train time/epoch = 0.18827, best_val_f1 (macro) = 0.319, test_f1 (macro) = 0.303\n",
      "total time = 30.662, train time/epoch = 0.18823, best_val_f1 (macro) = 0.305, test_f1 (macro) = 0.295\n",
      "total time = 48.369, train time/epoch = 0.18897, best_val_f1 (macro) = 0.280, test_f1 (macro) = 0.306\n",
      "total time = 48.449, train time/epoch = 0.18807, best_val_f1 (macro) = 0.204, test_f1 (macro) = 0.234\n",
      "total time = 55.339, train time/epoch = 0.19166, best_val_f1 (macro) = 0.289, test_f1 (macro) = 0.270\n",
      "total time = 37.556, train time/epoch = 0.19737, best_val_f1 (macro) = 0.244, test_f1 (macro) = 0.259\n",
      "total time = 28.480, train time/epoch = 0.18799, best_val_f1 (macro) = 0.198, test_f1 (macro) = 0.205\n",
      "total time = 42.006, train time/epoch = 0.18919, best_val_f1 (macro) = 0.246, test_f1 (macro) = 0.247\n",
      "total time = 55.617, train time/epoch = 0.18754, best_val_f1 (macro) = 0.340, test_f1 (macro) = 0.343\n",
      "total time = 58.327, train time/epoch = 0.18849, best_val_f1 (macro) = 0.284, test_f1 (macro) = 0.266\n",
      "total time = 56.195, train time/epoch = 0.18890, best_val_f1 (macro) = 0.248, test_f1 (macro) = 0.261\n",
      "total time = 62.011, train time/epoch = 0.18943, best_val_f1 (macro) = 0.266, test_f1 (macro) = 0.238\n",
      "total time = 47.370, train time/epoch = 0.18894, best_val_f1 (macro) = 0.206, test_f1 (macro) = 0.217\n",
      "total time = 48.805, train time/epoch = 0.18831, best_val_f1 (macro) = 0.259, test_f1 (macro) = 0.221\n",
      "total time = 31.554, train time/epoch = 0.18812, best_val_f1 (macro) = 0.180, test_f1 (macro) = 0.157\n",
      "total time = 36.867, train time/epoch = 0.18842, best_val_f1 (macro) = 0.211, test_f1 (macro) = 0.182\n",
      "total time = 50.559, train time/epoch = 0.18538, best_val_f1 (macro) = 0.224, test_f1 (macro) = 0.228\n",
      "total time = 37.699, train time/epoch = 0.18881, best_val_f1 (macro) = 0.221, test_f1 (macro) = 0.245\n",
      "total time = 52.257, train time/epoch = 0.18757, best_val_f1 (macro) = 0.222, test_f1 (macro) = 0.236\n",
      "total time = 42.941, train time/epoch = 0.18839, best_val_f1 (macro) = 0.201, test_f1 (macro) = 0.157\n",
      "total time = 42.099, train time/epoch = 0.18795, best_val_f1 (macro) = 0.240, test_f1 (macro) = 0.226\n",
      "total time = 36.895, train time/epoch = 0.18876, best_val_f1 (macro) = 0.207, test_f1 (macro) = 0.213\n",
      "total time = 53.808, train time/epoch = 0.18842, best_val_f1 (macro) = 0.216, test_f1 (macro) = 0.223\n",
      "test macro-f1 (mean, std):  0.238449419441191 0.045051981751989524\n",
      "test macro-f1 (mean, std) after filter:  0.2389173761506451 0.028126546288724782\n",
      "\n",
      "start testing on DBLP dataset\n",
      "total time = 154.781, train time/epoch = 0.74655, best_val_f1 (macro) = 0.100, test_f1 (macro) = 0.067\n",
      "total time = 154.700, train time/epoch = 0.74383, best_val_f1 (macro) = 0.100, test_f1 (macro) = 0.110\n",
      "total time = 154.637, train time/epoch = 0.74389, best_val_f1 (macro) = 0.100, test_f1 (macro) = 0.119\n",
      "total time = 154.587, train time/epoch = 0.74400, best_val_f1 (macro) = 0.100, test_f1 (macro) = 0.110\n",
      "total time = 154.676, train time/epoch = 0.74335, best_val_f1 (macro) = 0.100, test_f1 (macro) = 0.099\n",
      "total time = 154.718, train time/epoch = 0.74412, best_val_f1 (macro) = 0.100, test_f1 (macro) = 0.099\n",
      "total time = 154.668, train time/epoch = 0.74468, best_val_f1 (macro) = 0.100, test_f1 (macro) = 0.119\n",
      "total time = 154.740, train time/epoch = 0.74560, best_val_f1 (macro) = 0.100, test_f1 (macro) = 0.067\n",
      "total time = 154.776, train time/epoch = 0.74479, best_val_f1 (macro) = 0.100, test_f1 (macro) = 0.110\n",
      "total time = 154.755, train time/epoch = 0.74488, best_val_f1 (macro) = 0.100, test_f1 (macro) = 0.099\n",
      "total time = 154.648, train time/epoch = 0.74345, best_val_f1 (macro) = 0.100, test_f1 (macro) = 0.067\n",
      "total time = 154.663, train time/epoch = 0.74331, best_val_f1 (macro) = 0.100, test_f1 (macro) = 0.099\n",
      "total time = 154.724, train time/epoch = 0.74520, best_val_f1 (macro) = 0.100, test_f1 (macro) = 0.119\n",
      "total time = 154.734, train time/epoch = 0.74437, best_val_f1 (macro) = 0.100, test_f1 (macro) = 0.110\n",
      "total time = 154.665, train time/epoch = 0.74478, best_val_f1 (macro) = 0.100, test_f1 (macro) = 0.119\n",
      "total time = 154.634, train time/epoch = 0.74398, best_val_f1 (macro) = 0.100, test_f1 (macro) = 0.099\n",
      "total time = 154.724, train time/epoch = 0.74298, best_val_f1 (macro) = 0.100, test_f1 (macro) = 0.110\n"
     ]
    },
    {
     "name": "stdout",
     "output_type": "stream",
     "text": [
      "total time = 154.677, train time/epoch = 0.74596, best_val_f1 (macro) = 0.100, test_f1 (macro) = 0.099\n",
      "total time = 154.706, train time/epoch = 0.74428, best_val_f1 (macro) = 0.100, test_f1 (macro) = 0.067\n",
      "total time = 154.795, train time/epoch = 0.74450, best_val_f1 (macro) = 0.100, test_f1 (macro) = 0.119\n",
      "total time = 154.781, train time/epoch = 0.74518, best_val_f1 (macro) = 0.100, test_f1 (macro) = 0.067\n",
      "total time = 154.739, train time/epoch = 0.74430, best_val_f1 (macro) = 0.100, test_f1 (macro) = 0.099\n",
      "total time = 154.661, train time/epoch = 0.74366, best_val_f1 (macro) = 0.100, test_f1 (macro) = 0.067\n",
      "total time = 154.693, train time/epoch = 0.74427, best_val_f1 (macro) = 0.100, test_f1 (macro) = 0.099\n",
      "total time = 154.746, train time/epoch = 0.74461, best_val_f1 (macro) = 0.100, test_f1 (macro) = 0.119\n",
      "total time = 154.724, train time/epoch = 0.74506, best_val_f1 (macro) = 0.100, test_f1 (macro) = 0.110\n",
      "total time = 154.633, train time/epoch = 0.74392, best_val_f1 (macro) = 0.100, test_f1 (macro) = 0.119\n",
      "total time = 154.614, train time/epoch = 0.74377, best_val_f1 (macro) = 0.100, test_f1 (macro) = 0.110\n",
      "total time = 154.741, train time/epoch = 0.74372, best_val_f1 (macro) = 0.100, test_f1 (macro) = 0.099\n",
      "total time = 154.615, train time/epoch = 0.74326, best_val_f1 (macro) = 0.100, test_f1 (macro) = 0.067\n",
      "test macro-f1 (mean, std):  0.09906745990715672 0.019000831190211027\n",
      "test macro-f1 (mean, std) after filter:  0.10047732905926206 0.016485472377968144\n"
     ]
    }
   ],
   "source": [
    "f1s = []\n",
    "datasets = ['ACM', 'IMDB', 'DBLP']\n",
    "for dataset in datasets:\n",
    "    args.data = dataset\n",
    "    if dataset == 'ACM':\n",
    "        args.target_node_type = 'paper'\n",
    "        print('\\nstart testing on ' + dataset + ' dataset')\n",
    "        f1s.append(main(args))\n",
    "    elif dataset == 'IMDB':\n",
    "        args.target_node_type = 'movie'\n",
    "        print('\\nstart testing on ' + dataset + ' dataset')\n",
    "        f1s.append(main(args))\n",
    "    elif dataset == 'DBLP':\n",
    "        args.num_heads = 1\n",
    "        args.target_node_type = 'author'\n",
    "        print('\\nstart testing on ' + dataset + ' dataset')\n",
    "        f1s.append(main(args))"
   ]
  },
  {
   "cell_type": "code",
   "execution_count": 4,
   "metadata": {},
   "outputs": [],
   "source": [
    "f1s = np.array(f1s)\n",
    "np.savetxt('f1_ACM_hop20.txt',f1s)"
   ]
  },
  {
   "cell_type": "code",
   "execution_count": 9,
   "metadata": {},
   "outputs": [
    {
     "data": {
      "text/plain": [
       "(0.439253551597688, 0.10978656089867266)"
      ]
     },
     "execution_count": 9,
     "metadata": {},
     "output_type": "execute_result"
    }
   ],
   "source": [
    "from utils import remove_edge_pts\n",
    "# remove some unstable results\n",
    "f1_ACM = f1s[0][f1s[0] > 0.2]\n",
    "f1 = remove_edge_pts(f1_ACM, pct=args.filter_pct)\n",
    "f1.mean(), f1.std()"
   ]
  },
  {
   "cell_type": "code",
   "execution_count": 5,
   "metadata": {},
   "outputs": [],
   "source": [
    "# remove anomaly points with value <= 0.7\n",
    "f1_DBLP = f1s[-1]\n",
    "f1_DBLP = f1_DBLP[f1_DBLP > 0.7]"
   ]
  },
  {
   "cell_type": "code",
   "execution_count": 6,
   "metadata": {},
   "outputs": [],
   "source": [
    "def remove_edge_pts(accs, pct=0.1):\n",
    "    accs = sorted(list(accs))\n",
    "    N = len(accs)\n",
    "    M = int(N * pct)\n",
    "    accs = np.array(accs[M:N-M])\n",
    "    return accs"
   ]
  },
  {
   "cell_type": "code",
   "execution_count": null,
   "metadata": {},
   "outputs": [],
   "source": []
  }
 ],
 "metadata": {
  "kernelspec": {
   "display_name": "Python 3",
   "language": "python",
   "name": "python3"
  },
  "language_info": {
   "codemirror_mode": {
    "name": "ipython",
    "version": 3
   },
   "file_extension": ".py",
   "mimetype": "text/x-python",
   "name": "python",
   "nbconvert_exporter": "python",
   "pygments_lexer": "ipython3",
   "version": "3.8.8"
  }
 },
 "nbformat": 4,
 "nbformat_minor": 4
}
