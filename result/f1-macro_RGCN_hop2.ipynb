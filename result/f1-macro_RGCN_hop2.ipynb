{
 "cells": [
  {
   "cell_type": "code",
   "execution_count": 1,
   "metadata": {},
   "outputs": [
    {
     "name": "stderr",
     "output_type": "stream",
     "text": [
      "Using backend: pytorch\n"
     ]
    }
   ],
   "source": [
    "root_dir = '..' # dir of the source code\n",
    "import sys\n",
    "sys.path.append(root_dir)\n",
    "from train import main\n",
    "import numpy as np"
   ]
  },
  {
   "cell_type": "code",
   "execution_count": 2,
   "metadata": {},
   "outputs": [],
   "source": [
    "class config:\n",
    "    data = 'ACM'\n",
    "    data_path = '../data/preprocessed/'\n",
    "    model = 'RGCN'\n",
    "    n_hid = 64\n",
    "    dropout = 0.5\n",
    "    learning_rate = 0.005\n",
    "    weight_decay = 1e-5\n",
    "    patience = 100\n",
    "    num_iter = 500\n",
    "    num_test = 30\n",
    "    hop = 2\n",
    "    num_bases = 5 # num bases for RGCN\n",
    "    filter_pct = 0.1 # remove the top and bottom filer_pct points before obtaining statistics of test accuracy\n",
    "    log_step = 1000 # training log step\n",
    "    average = 'macro' # 'f1 average: can choose either macro or micro.'\n",
    "\n",
    "args = config()"
   ]
  },
  {
   "cell_type": "code",
   "execution_count": 3,
   "metadata": {
    "scrolled": false
   },
   "outputs": [
    {
     "name": "stdout",
     "output_type": "stream",
     "text": [
      "\n",
      "start testing on ACM dataset\n",
      "total time = 4.183, train time/epoch = 0.02737, best_val_f1 (macro) = 0.927, test_f1 (macro) = 0.915\n",
      "total time = 4.363, train time/epoch = 0.02402, best_val_f1 (macro) = 0.923, test_f1 (macro) = 0.917\n",
      "total time = 4.876, train time/epoch = 0.02606, best_val_f1 (macro) = 0.923, test_f1 (macro) = 0.919\n",
      "total time = 4.829, train time/epoch = 0.02661, best_val_f1 (macro) = 0.920, test_f1 (macro) = 0.921\n",
      "total time = 5.972, train time/epoch = 0.02647, best_val_f1 (macro) = 0.917, test_f1 (macro) = 0.911\n",
      "total time = 4.308, train time/epoch = 0.02628, best_val_f1 (macro) = 0.920, test_f1 (macro) = 0.925\n",
      "total time = 4.667, train time/epoch = 0.02712, best_val_f1 (macro) = 0.927, test_f1 (macro) = 0.918\n",
      "total time = 5.030, train time/epoch = 0.02666, best_val_f1 (macro) = 0.920, test_f1 (macro) = 0.912\n",
      "total time = 4.344, train time/epoch = 0.02671, best_val_f1 (macro) = 0.920, test_f1 (macro) = 0.925\n",
      "total time = 7.007, train time/epoch = 0.02677, best_val_f1 (macro) = 0.923, test_f1 (macro) = 0.899\n",
      "total time = 7.739, train time/epoch = 0.02667, best_val_f1 (macro) = 0.923, test_f1 (macro) = 0.905\n",
      "total time = 5.149, train time/epoch = 0.02608, best_val_f1 (macro) = 0.923, test_f1 (macro) = 0.917\n",
      "total time = 4.231, train time/epoch = 0.02550, best_val_f1 (macro) = 0.921, test_f1 (macro) = 0.921\n",
      "total time = 4.030, train time/epoch = 0.02541, best_val_f1 (macro) = 0.923, test_f1 (macro) = 0.925\n",
      "total time = 6.783, train time/epoch = 0.02580, best_val_f1 (macro) = 0.923, test_f1 (macro) = 0.898\n",
      "total time = 4.910, train time/epoch = 0.02544, best_val_f1 (macro) = 0.916, test_f1 (macro) = 0.912\n",
      "total time = 4.034, train time/epoch = 0.02546, best_val_f1 (macro) = 0.923, test_f1 (macro) = 0.866\n",
      "total time = 4.525, train time/epoch = 0.02558, best_val_f1 (macro) = 0.930, test_f1 (macro) = 0.921\n",
      "total time = 4.440, train time/epoch = 0.02580, best_val_f1 (macro) = 0.921, test_f1 (macro) = 0.923\n",
      "total time = 4.962, train time/epoch = 0.02552, best_val_f1 (macro) = 0.914, test_f1 (macro) = 0.918\n",
      "total time = 4.684, train time/epoch = 0.02562, best_val_f1 (macro) = 0.920, test_f1 (macro) = 0.919\n",
      "total time = 4.262, train time/epoch = 0.02633, best_val_f1 (macro) = 0.927, test_f1 (macro) = 0.912\n",
      "total time = 4.133, train time/epoch = 0.02641, best_val_f1 (macro) = 0.923, test_f1 (macro) = 0.908\n",
      "total time = 4.449, train time/epoch = 0.02620, best_val_f1 (macro) = 0.920, test_f1 (macro) = 0.922\n",
      "total time = 5.039, train time/epoch = 0.02655, best_val_f1 (macro) = 0.920, test_f1 (macro) = 0.905\n",
      "total time = 4.678, train time/epoch = 0.02668, best_val_f1 (macro) = 0.917, test_f1 (macro) = 0.919\n",
      "total time = 4.486, train time/epoch = 0.02614, best_val_f1 (macro) = 0.923, test_f1 (macro) = 0.916\n",
      "total time = 4.800, train time/epoch = 0.02556, best_val_f1 (macro) = 0.923, test_f1 (macro) = 0.915\n",
      "total time = 4.423, train time/epoch = 0.02578, best_val_f1 (macro) = 0.923, test_f1 (macro) = 0.922\n",
      "total time = 4.756, train time/epoch = 0.02605, best_val_f1 (macro) = 0.920, test_f1 (macro) = 0.917\n",
      "test macro-f1 (mean, std):  0.9140637830533905 0.011307679694403208\n",
      "test macro-f1 (mean, std) after filter:  0.9159929809575948 0.005019118891215612\n",
      "\n",
      "start testing on IMDB dataset\n",
      "total time = 4.340, train time/epoch = 0.02714, best_val_f1 (macro) = 0.613, test_f1 (macro) = 0.589\n",
      "total time = 4.317, train time/epoch = 0.02699, best_val_f1 (macro) = 0.629, test_f1 (macro) = 0.597\n",
      "total time = 7.009, train time/epoch = 0.02701, best_val_f1 (macro) = 0.622, test_f1 (macro) = 0.568\n",
      "total time = 6.742, train time/epoch = 0.02682, best_val_f1 (macro) = 0.617, test_f1 (macro) = 0.569\n",
      "total time = 4.653, train time/epoch = 0.02674, best_val_f1 (macro) = 0.622, test_f1 (macro) = 0.587\n",
      "total time = 4.524, train time/epoch = 0.02680, best_val_f1 (macro) = 0.612, test_f1 (macro) = 0.580\n",
      "total time = 4.166, train time/epoch = 0.02598, best_val_f1 (macro) = 0.617, test_f1 (macro) = 0.596\n",
      "total time = 4.178, train time/epoch = 0.02586, best_val_f1 (macro) = 0.623, test_f1 (macro) = 0.590\n",
      "total time = 9.405, train time/epoch = 0.02595, best_val_f1 (macro) = 0.625, test_f1 (macro) = 0.577\n",
      "total time = 5.587, train time/epoch = 0.02564, best_val_f1 (macro) = 0.619, test_f1 (macro) = 0.570\n",
      "total time = 6.774, train time/epoch = 0.02558, best_val_f1 (macro) = 0.621, test_f1 (macro) = 0.571\n",
      "total time = 8.961, train time/epoch = 0.02598, best_val_f1 (macro) = 0.625, test_f1 (macro) = 0.567\n",
      "total time = 4.369, train time/epoch = 0.02672, best_val_f1 (macro) = 0.614, test_f1 (macro) = 0.585\n",
      "total time = 4.381, train time/epoch = 0.02623, best_val_f1 (macro) = 0.633, test_f1 (macro) = 0.590\n",
      "total time = 4.293, train time/epoch = 0.02675, best_val_f1 (macro) = 0.621, test_f1 (macro) = 0.596\n",
      "total time = 4.044, train time/epoch = 0.02615, best_val_f1 (macro) = 0.613, test_f1 (macro) = 0.579\n",
      "total time = 4.058, train time/epoch = 0.02600, best_val_f1 (macro) = 0.625, test_f1 (macro) = 0.586\n",
      "total time = 4.218, train time/epoch = 0.02615, best_val_f1 (macro) = 0.630, test_f1 (macro) = 0.585\n",
      "total time = 4.827, train time/epoch = 0.02632, best_val_f1 (macro) = 0.613, test_f1 (macro) = 0.585\n",
      "total time = 4.180, train time/epoch = 0.02651, best_val_f1 (macro) = 0.634, test_f1 (macro) = 0.587\n",
      "total time = 4.161, train time/epoch = 0.02664, best_val_f1 (macro) = 0.636, test_f1 (macro) = 0.574\n",
      "total time = 4.216, train time/epoch = 0.02608, best_val_f1 (macro) = 0.619, test_f1 (macro) = 0.583\n",
      "total time = 4.195, train time/epoch = 0.02623, best_val_f1 (macro) = 0.636, test_f1 (macro) = 0.576\n",
      "total time = 7.043, train time/epoch = 0.02625, best_val_f1 (macro) = 0.622, test_f1 (macro) = 0.573\n",
      "total time = 4.217, train time/epoch = 0.02683, best_val_f1 (macro) = 0.615, test_f1 (macro) = 0.564\n",
      "total time = 4.277, train time/epoch = 0.02724, best_val_f1 (macro) = 0.621, test_f1 (macro) = 0.591\n",
      "total time = 8.043, train time/epoch = 0.02700, best_val_f1 (macro) = 0.623, test_f1 (macro) = 0.555\n",
      "total time = 6.756, train time/epoch = 0.02623, best_val_f1 (macro) = 0.634, test_f1 (macro) = 0.564\n",
      "total time = 4.413, train time/epoch = 0.02708, best_val_f1 (macro) = 0.619, test_f1 (macro) = 0.581\n",
      "total time = 3.982, train time/epoch = 0.02578, best_val_f1 (macro) = 0.630, test_f1 (macro) = 0.585\n",
      "test macro-f1 (mean, std):  0.5799973583539882 0.010540284827613938\n",
      "test macro-f1 (mean, std) after filter:  0.5803211367196431 0.0076068602645742315\n",
      "\n",
      "start testing on DBLP dataset\n",
      "total time = 5.683, train time/epoch = 0.03316, best_val_f1 (macro) = 0.945, test_f1 (macro) = 0.939\n",
      "total time = 5.911, train time/epoch = 0.03344, best_val_f1 (macro) = 0.930, test_f1 (macro) = 0.927\n",
      "total time = 6.706, train time/epoch = 0.03293, best_val_f1 (macro) = 0.943, test_f1 (macro) = 0.924\n",
      "total time = 5.666, train time/epoch = 0.03318, best_val_f1 (macro) = 0.935, test_f1 (macro) = 0.936\n",
      "total time = 5.837, train time/epoch = 0.03299, best_val_f1 (macro) = 0.930, test_f1 (macro) = 0.926\n",
      "total time = 5.786, train time/epoch = 0.03303, best_val_f1 (macro) = 0.933, test_f1 (macro) = 0.929\n",
      "total time = 5.833, train time/epoch = 0.03310, best_val_f1 (macro) = 0.940, test_f1 (macro) = 0.931\n",
      "total time = 5.606, train time/epoch = 0.03281, best_val_f1 (macro) = 0.928, test_f1 (macro) = 0.922\n",
      "total time = 5.610, train time/epoch = 0.03315, best_val_f1 (macro) = 0.938, test_f1 (macro) = 0.936\n",
      "total time = 5.686, train time/epoch = 0.03325, best_val_f1 (macro) = 0.945, test_f1 (macro) = 0.934\n",
      "total time = 5.705, train time/epoch = 0.03340, best_val_f1 (macro) = 0.938, test_f1 (macro) = 0.933\n",
      "total time = 5.640, train time/epoch = 0.03274, best_val_f1 (macro) = 0.940, test_f1 (macro) = 0.937\n",
      "total time = 5.712, train time/epoch = 0.03343, best_val_f1 (macro) = 0.945, test_f1 (macro) = 0.934\n",
      "total time = 5.760, train time/epoch = 0.03287, best_val_f1 (macro) = 0.935, test_f1 (macro) = 0.928\n",
      "total time = 6.052, train time/epoch = 0.03307, best_val_f1 (macro) = 0.935, test_f1 (macro) = 0.922\n",
      "total time = 6.143, train time/epoch = 0.03358, best_val_f1 (macro) = 0.935, test_f1 (macro) = 0.924\n",
      "total time = 5.663, train time/epoch = 0.03416, best_val_f1 (macro) = 0.935, test_f1 (macro) = 0.931\n",
      "total time = 5.884, train time/epoch = 0.03452, best_val_f1 (macro) = 0.938, test_f1 (macro) = 0.935\n"
     ]
    },
    {
     "name": "stdout",
     "output_type": "stream",
     "text": [
      "total time = 6.283, train time/epoch = 0.03441, best_val_f1 (macro) = 0.925, test_f1 (macro) = 0.916\n",
      "total time = 6.250, train time/epoch = 0.03452, best_val_f1 (macro) = 0.930, test_f1 (macro) = 0.923\n",
      "total time = 5.746, train time/epoch = 0.03428, best_val_f1 (macro) = 0.942, test_f1 (macro) = 0.937\n",
      "total time = 5.790, train time/epoch = 0.03300, best_val_f1 (macro) = 0.940, test_f1 (macro) = 0.932\n",
      "total time = 5.681, train time/epoch = 0.03399, best_val_f1 (macro) = 0.915, test_f1 (macro) = 0.895\n",
      "total time = 5.783, train time/epoch = 0.03335, best_val_f1 (macro) = 0.915, test_f1 (macro) = 0.908\n",
      "total time = 5.817, train time/epoch = 0.03292, best_val_f1 (macro) = 0.935, test_f1 (macro) = 0.928\n",
      "total time = 5.589, train time/epoch = 0.03269, best_val_f1 (macro) = 0.943, test_f1 (macro) = 0.934\n",
      "total time = 5.875, train time/epoch = 0.03269, best_val_f1 (macro) = 0.933, test_f1 (macro) = 0.917\n",
      "total time = 5.820, train time/epoch = 0.03303, best_val_f1 (macro) = 0.927, test_f1 (macro) = 0.928\n",
      "total time = 5.979, train time/epoch = 0.03301, best_val_f1 (macro) = 0.935, test_f1 (macro) = 0.915\n",
      "total time = 5.700, train time/epoch = 0.03301, best_val_f1 (macro) = 0.933, test_f1 (macro) = 0.920\n",
      "test macro-f1 (mean, std):  0.9266974602507279 0.009533475504323277\n",
      "test macro-f1 (mean, std) after filter:  0.9279195210271073 0.005815052502899037\n"
     ]
    }
   ],
   "source": [
    "f1s = []\n",
    "datasets = ['ACM', 'IMDB', 'DBLP']\n",
    "for dataset in datasets:\n",
    "    args.data = dataset\n",
    "    if dataset == 'ACM':\n",
    "        args.dropout = 0.5\n",
    "        print('\\nstart testing on ' + dataset + ' dataset')\n",
    "        f1s.append(main(args))\n",
    "    elif dataset == 'IMDB':\n",
    "        args.dropout = 0.5\n",
    "        print('\\nstart testing on ' + dataset + ' dataset')\n",
    "        f1s.append(main(args))\n",
    "    elif dataset == 'DBLP':\n",
    "        args.dropout = 0\n",
    "        print('\\nstart testing on ' + dataset + ' dataset')\n",
    "        f1s.append(main(args))"
   ]
  },
  {
   "cell_type": "code",
   "execution_count": null,
   "metadata": {},
   "outputs": [],
   "source": []
  }
 ],
 "metadata": {
  "kernelspec": {
   "display_name": "Python 3",
   "language": "python",
   "name": "python3"
  },
  "language_info": {
   "codemirror_mode": {
    "name": "ipython",
    "version": 3
   },
   "file_extension": ".py",
   "mimetype": "text/x-python",
   "name": "python",
   "nbconvert_exporter": "python",
   "pygments_lexer": "ipython3",
   "version": "3.8.8"
  }
 },
 "nbformat": 4,
 "nbformat_minor": 4
}
