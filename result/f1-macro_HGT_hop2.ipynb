{
 "cells": [
  {
   "cell_type": "code",
   "execution_count": 1,
   "metadata": {},
   "outputs": [
    {
     "name": "stderr",
     "output_type": "stream",
     "text": [
      "Using backend: pytorch\n"
     ]
    }
   ],
   "source": [
    "root_dir = '..' # dir of the source code\n",
    "import sys\n",
    "sys.path.append(root_dir)\n",
    "from train import main\n",
    "import numpy as np"
   ]
  },
  {
   "cell_type": "code",
   "execution_count": 2,
   "metadata": {},
   "outputs": [],
   "source": [
    "class config:\n",
    "    data = 'ACM'\n",
    "    data_path = '../data/preprocessed/'\n",
    "    model = 'HGT'\n",
    "    target_node_type = 'paper'\n",
    "    n_hid = 64\n",
    "    num_heads = 4\n",
    "    learning_rate = 0.005\n",
    "    weight_decay = 5e-5\n",
    "    patience = 100\n",
    "    num_iter = 500\n",
    "    num_test = 30\n",
    "    hop = 2\n",
    "    filter_pct = 0.1 # remove the top and bottom filer_pct points before obtaining statistics of test accuracy\n",
    "    log_step = 1000 # training log step\n",
    "    average = 'macro' # 'f1 average: can choose either macro or micro.'\n",
    "\n",
    "args = config()"
   ]
  },
  {
   "cell_type": "code",
   "execution_count": 3,
   "metadata": {},
   "outputs": [
    {
     "name": "stdout",
     "output_type": "stream",
     "text": [
      "\n",
      "start testing on ACM dataset\n",
      "total time = 10.583, train time/epoch = 0.06292, best_val_f1 (macro) = 0.900, test_f1 (macro) = 0.852\n",
      "total time = 8.317, train time/epoch = 0.04388, best_val_f1 (macro) = 0.893, test_f1 (macro) = 0.877\n",
      "total time = 8.257, train time/epoch = 0.04534, best_val_f1 (macro) = 0.880, test_f1 (macro) = 0.875\n",
      "total time = 7.315, train time/epoch = 0.04521, best_val_f1 (macro) = 0.893, test_f1 (macro) = 0.843\n",
      "total time = 8.783, train time/epoch = 0.04481, best_val_f1 (macro) = 0.877, test_f1 (macro) = 0.880\n",
      "total time = 8.162, train time/epoch = 0.04418, best_val_f1 (macro) = 0.904, test_f1 (macro) = 0.868\n",
      "total time = 9.655, train time/epoch = 0.04388, best_val_f1 (macro) = 0.903, test_f1 (macro) = 0.868\n",
      "total time = 10.892, train time/epoch = 0.04380, best_val_f1 (macro) = 0.907, test_f1 (macro) = 0.884\n",
      "total time = 8.076, train time/epoch = 0.04361, best_val_f1 (macro) = 0.897, test_f1 (macro) = 0.887\n",
      "total time = 7.825, train time/epoch = 0.04570, best_val_f1 (macro) = 0.903, test_f1 (macro) = 0.874\n",
      "total time = 7.584, train time/epoch = 0.04583, best_val_f1 (macro) = 0.902, test_f1 (macro) = 0.853\n",
      "total time = 8.327, train time/epoch = 0.04500, best_val_f1 (macro) = 0.917, test_f1 (macro) = 0.898\n",
      "total time = 8.674, train time/epoch = 0.04555, best_val_f1 (macro) = 0.903, test_f1 (macro) = 0.864\n",
      "total time = 10.886, train time/epoch = 0.04577, best_val_f1 (macro) = 0.904, test_f1 (macro) = 0.889\n",
      "total time = 9.499, train time/epoch = 0.04382, best_val_f1 (macro) = 0.896, test_f1 (macro) = 0.852\n",
      "total time = 8.567, train time/epoch = 0.04345, best_val_f1 (macro) = 0.880, test_f1 (macro) = 0.868\n",
      "total time = 7.452, train time/epoch = 0.04391, best_val_f1 (macro) = 0.914, test_f1 (macro) = 0.893\n",
      "total time = 7.876, train time/epoch = 0.04433, best_val_f1 (macro) = 0.910, test_f1 (macro) = 0.869\n",
      "total time = 9.411, train time/epoch = 0.04399, best_val_f1 (macro) = 0.903, test_f1 (macro) = 0.865\n",
      "total time = 14.309, train time/epoch = 0.04397, best_val_f1 (macro) = 0.896, test_f1 (macro) = 0.854\n",
      "total time = 7.482, train time/epoch = 0.04395, best_val_f1 (macro) = 0.904, test_f1 (macro) = 0.891\n",
      "total time = 8.633, train time/epoch = 0.04405, best_val_f1 (macro) = 0.897, test_f1 (macro) = 0.871\n",
      "total time = 8.053, train time/epoch = 0.04413, best_val_f1 (macro) = 0.903, test_f1 (macro) = 0.856\n",
      "total time = 8.680, train time/epoch = 0.04487, best_val_f1 (macro) = 0.896, test_f1 (macro) = 0.873\n",
      "total time = 7.821, train time/epoch = 0.04453, best_val_f1 (macro) = 0.894, test_f1 (macro) = 0.873\n",
      "total time = 7.847, train time/epoch = 0.04417, best_val_f1 (macro) = 0.913, test_f1 (macro) = 0.879\n",
      "total time = 9.909, train time/epoch = 0.04509, best_val_f1 (macro) = 0.893, test_f1 (macro) = 0.858\n",
      "total time = 8.713, train time/epoch = 0.04784, best_val_f1 (macro) = 0.906, test_f1 (macro) = 0.879\n",
      "total time = 11.890, train time/epoch = 0.04702, best_val_f1 (macro) = 0.903, test_f1 (macro) = 0.866\n",
      "total time = 8.524, train time/epoch = 0.04535, best_val_f1 (macro) = 0.887, test_f1 (macro) = 0.872\n",
      "test macro-f1 (mean, std):  0.8710276288656424 0.013327132336886642\n",
      "test macro-f1 (mean, std) after filter:  0.870918846305336 0.00954073197169549\n",
      "\n",
      "start testing on IMDB dataset\n",
      "total time = 9.073, train time/epoch = 0.04450, best_val_f1 (macro) = 0.617, test_f1 (macro) = 0.571\n",
      "total time = 8.837, train time/epoch = 0.04336, best_val_f1 (macro) = 0.549, test_f1 (macro) = 0.530\n",
      "total time = 8.657, train time/epoch = 0.04390, best_val_f1 (macro) = 0.583, test_f1 (macro) = 0.568\n",
      "total time = 9.657, train time/epoch = 0.04723, best_val_f1 (macro) = 0.601, test_f1 (macro) = 0.570\n",
      "total time = 9.126, train time/epoch = 0.04384, best_val_f1 (macro) = 0.590, test_f1 (macro) = 0.550\n",
      "total time = 10.546, train time/epoch = 0.04488, best_val_f1 (macro) = 0.613, test_f1 (macro) = 0.572\n",
      "total time = 9.668, train time/epoch = 0.04394, best_val_f1 (macro) = 0.600, test_f1 (macro) = 0.555\n",
      "total time = 10.010, train time/epoch = 0.04854, best_val_f1 (macro) = 0.627, test_f1 (macro) = 0.564\n",
      "total time = 10.296, train time/epoch = 0.04437, best_val_f1 (macro) = 0.588, test_f1 (macro) = 0.547\n",
      "total time = 9.557, train time/epoch = 0.04325, best_val_f1 (macro) = 0.624, test_f1 (macro) = 0.565\n",
      "total time = 10.772, train time/epoch = 0.04642, best_val_f1 (macro) = 0.613, test_f1 (macro) = 0.570\n",
      "total time = 10.911, train time/epoch = 0.04630, best_val_f1 (macro) = 0.578, test_f1 (macro) = 0.555\n",
      "total time = 9.973, train time/epoch = 0.04767, best_val_f1 (macro) = 0.619, test_f1 (macro) = 0.555\n",
      "total time = 9.732, train time/epoch = 0.04865, best_val_f1 (macro) = 0.570, test_f1 (macro) = 0.549\n",
      "total time = 11.159, train time/epoch = 0.04857, best_val_f1 (macro) = 0.596, test_f1 (macro) = 0.560\n",
      "total time = 11.868, train time/epoch = 0.04877, best_val_f1 (macro) = 0.587, test_f1 (macro) = 0.553\n",
      "total time = 12.660, train time/epoch = 0.04789, best_val_f1 (macro) = 0.591, test_f1 (macro) = 0.553\n",
      "total time = 9.859, train time/epoch = 0.04859, best_val_f1 (macro) = 0.578, test_f1 (macro) = 0.541\n",
      "total time = 9.236, train time/epoch = 0.04811, best_val_f1 (macro) = 0.596, test_f1 (macro) = 0.562\n",
      "total time = 9.862, train time/epoch = 0.04413, best_val_f1 (macro) = 0.623, test_f1 (macro) = 0.571\n",
      "total time = 10.805, train time/epoch = 0.04426, best_val_f1 (macro) = 0.601, test_f1 (macro) = 0.570\n",
      "total time = 12.363, train time/epoch = 0.04865, best_val_f1 (macro) = 0.586, test_f1 (macro) = 0.560\n",
      "total time = 9.820, train time/epoch = 0.04809, best_val_f1 (macro) = 0.631, test_f1 (macro) = 0.567\n",
      "total time = 11.202, train time/epoch = 0.04586, best_val_f1 (macro) = 0.597, test_f1 (macro) = 0.547\n",
      "total time = 13.526, train time/epoch = 0.04553, best_val_f1 (macro) = 0.568, test_f1 (macro) = 0.547\n",
      "total time = 11.632, train time/epoch = 0.04494, best_val_f1 (macro) = 0.611, test_f1 (macro) = 0.568\n",
      "total time = 9.663, train time/epoch = 0.04790, best_val_f1 (macro) = 0.571, test_f1 (macro) = 0.537\n",
      "total time = 9.913, train time/epoch = 0.04740, best_val_f1 (macro) = 0.608, test_f1 (macro) = 0.564\n",
      "total time = 11.260, train time/epoch = 0.04556, best_val_f1 (macro) = 0.630, test_f1 (macro) = 0.572\n",
      "total time = 8.855, train time/epoch = 0.04589, best_val_f1 (macro) = 0.601, test_f1 (macro) = 0.576\n",
      "test macro-f1 (mean, std):  0.5590207647198039 0.011524547544656727\n",
      "test macro-f1 (mean, std) after filter:  0.5601304793547126 0.008291985057150167\n",
      "\n",
      "start testing on DBLP dataset\n",
      "total time = 11.650, train time/epoch = 0.05939, best_val_f1 (macro) = 0.922, test_f1 (macro) = 0.895\n",
      "total time = 13.438, train time/epoch = 0.06271, best_val_f1 (macro) = 0.912, test_f1 (macro) = 0.898\n",
      "total time = 10.625, train time/epoch = 0.05798, best_val_f1 (macro) = 0.908, test_f1 (macro) = 0.896\n",
      "total time = 15.738, train time/epoch = 0.05789, best_val_f1 (macro) = 0.903, test_f1 (macro) = 0.883\n",
      "total time = 11.875, train time/epoch = 0.05834, best_val_f1 (macro) = 0.928, test_f1 (macro) = 0.905\n",
      "total time = 10.961, train time/epoch = 0.05834, best_val_f1 (macro) = 0.910, test_f1 (macro) = 0.892\n",
      "total time = 11.662, train time/epoch = 0.05769, best_val_f1 (macro) = 0.931, test_f1 (macro) = 0.902\n",
      "total time = 10.770, train time/epoch = 0.05736, best_val_f1 (macro) = 0.903, test_f1 (macro) = 0.905\n",
      "total time = 16.837, train time/epoch = 0.05880, best_val_f1 (macro) = 0.908, test_f1 (macro) = 0.891\n",
      "total time = 11.862, train time/epoch = 0.05817, best_val_f1 (macro) = 0.910, test_f1 (macro) = 0.891\n",
      "total time = 10.964, train time/epoch = 0.05740, best_val_f1 (macro) = 0.930, test_f1 (macro) = 0.929\n",
      "total time = 11.200, train time/epoch = 0.05829, best_val_f1 (macro) = 0.913, test_f1 (macro) = 0.915\n",
      "total time = 11.077, train time/epoch = 0.05732, best_val_f1 (macro) = 0.928, test_f1 (macro) = 0.914\n",
      "total time = 11.219, train time/epoch = 0.05773, best_val_f1 (macro) = 0.915, test_f1 (macro) = 0.904\n",
      "total time = 11.332, train time/epoch = 0.05768, best_val_f1 (macro) = 0.910, test_f1 (macro) = 0.891\n",
      "total time = 11.519, train time/epoch = 0.05698, best_val_f1 (macro) = 0.900, test_f1 (macro) = 0.886\n",
      "total time = 10.990, train time/epoch = 0.05747, best_val_f1 (macro) = 0.903, test_f1 (macro) = 0.893\n"
     ]
    },
    {
     "name": "stdout",
     "output_type": "stream",
     "text": [
      "total time = 11.245, train time/epoch = 0.05741, best_val_f1 (macro) = 0.928, test_f1 (macro) = 0.903\n",
      "total time = 10.366, train time/epoch = 0.05703, best_val_f1 (macro) = 0.895, test_f1 (macro) = 0.886\n",
      "total time = 12.210, train time/epoch = 0.05938, best_val_f1 (macro) = 0.913, test_f1 (macro) = 0.896\n",
      "total time = 14.696, train time/epoch = 0.05777, best_val_f1 (macro) = 0.905, test_f1 (macro) = 0.885\n",
      "total time = 11.652, train time/epoch = 0.05840, best_val_f1 (macro) = 0.935, test_f1 (macro) = 0.920\n",
      "total time = 12.730, train time/epoch = 0.05795, best_val_f1 (macro) = 0.928, test_f1 (macro) = 0.896\n",
      "total time = 11.379, train time/epoch = 0.05773, best_val_f1 (macro) = 0.925, test_f1 (macro) = 0.908\n",
      "total time = 13.937, train time/epoch = 0.06391, best_val_f1 (macro) = 0.918, test_f1 (macro) = 0.899\n",
      "total time = 11.903, train time/epoch = 0.05963, best_val_f1 (macro) = 0.915, test_f1 (macro) = 0.891\n",
      "total time = 12.544, train time/epoch = 0.06615, best_val_f1 (macro) = 0.899, test_f1 (macro) = 0.887\n",
      "total time = 11.299, train time/epoch = 0.05909, best_val_f1 (macro) = 0.905, test_f1 (macro) = 0.897\n",
      "total time = 11.904, train time/epoch = 0.05773, best_val_f1 (macro) = 0.900, test_f1 (macro) = 0.892\n",
      "total time = 11.949, train time/epoch = 0.05864, best_val_f1 (macro) = 0.920, test_f1 (macro) = 0.904\n",
      "test macro-f1 (mean, std):  0.8984329793560222 0.010705238082832512\n",
      "test macro-f1 (mean, std) after filter:  0.8972943369815588 0.006963951269272357\n"
     ]
    }
   ],
   "source": [
    "f1s = []\n",
    "datasets = ['ACM', 'IMDB', 'DBLP']\n",
    "for dataset in datasets:\n",
    "    args.data = dataset\n",
    "    if dataset == 'ACM':\n",
    "        args.target_node_type = 'paper'\n",
    "        print('\\nstart testing on ' + dataset + ' dataset')\n",
    "        f1s.append(main(args))\n",
    "    elif dataset == 'IMDB':\n",
    "        args.target_node_type = 'movie'\n",
    "        print('\\nstart testing on ' + dataset + ' dataset')\n",
    "        f1s.append(main(args))\n",
    "    elif dataset == 'DBLP':\n",
    "        args.target_node_type = 'author'\n",
    "        print('\\nstart testing on ' + dataset + ' dataset')\n",
    "        f1s.append(main(args))"
   ]
  },
  {
   "cell_type": "code",
   "execution_count": 4,
   "metadata": {},
   "outputs": [],
   "source": [
    "f1s = np.array(f1s)"
   ]
  },
  {
   "cell_type": "code",
   "execution_count": null,
   "metadata": {},
   "outputs": [],
   "source": []
  }
 ],
 "metadata": {
  "kernelspec": {
   "display_name": "Python 3",
   "language": "python",
   "name": "python3"
  },
  "language_info": {
   "codemirror_mode": {
    "name": "ipython",
    "version": 3
   },
   "file_extension": ".py",
   "mimetype": "text/x-python",
   "name": "python",
   "nbconvert_exporter": "python",
   "pygments_lexer": "ipython3",
   "version": "3.8.8"
  }
 },
 "nbformat": 4,
 "nbformat_minor": 4
}
