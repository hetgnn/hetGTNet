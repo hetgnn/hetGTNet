{
 "cells": [
  {
   "cell_type": "code",
   "execution_count": 1,
   "metadata": {},
   "outputs": [
    {
     "name": "stderr",
     "output_type": "stream",
     "text": [
      "Using backend: pytorch\n"
     ]
    }
   ],
   "source": [
    "root_dir = '..' # dir of the source code\n",
    "import sys\n",
    "sys.path.append(root_dir)\n",
    "from train import main\n",
    "import numpy as np"
   ]
  },
  {
   "cell_type": "code",
   "execution_count": 2,
   "metadata": {},
   "outputs": [],
   "source": [
    "class config:\n",
    "    data = 'ACM'\n",
    "    data_path = '../data/preprocessed/'\n",
    "    model = 'HetGAT'\n",
    "    target_node_type = 'paper'\n",
    "    n_hid = 64\n",
    "    dropout = 0.8\n",
    "    dropout2 = 0.2\n",
    "    learning_rate = 0.005\n",
    "    weight_decay = 5e-5\n",
    "    patience = 100\n",
    "    num_iter = 500\n",
    "    num_test = 30\n",
    "    hop = 5\n",
    "    filter_pct = 0.1 # remove the top and bottom filer_pct points before obtaining statistics of test accuracy\n",
    "    log_step = 1000 # training log step\n",
    "    layer_wise = True\n",
    "    average = 'macro' # 'f1 average: can choose either macro or micro.'\n",
    "\n",
    "args = config()"
   ]
  },
  {
   "cell_type": "code",
   "execution_count": 3,
   "metadata": {
    "scrolled": false
   },
   "outputs": [
    {
     "name": "stdout",
     "output_type": "stream",
     "text": [
      "\n",
      "start testing on ACM dataset\n",
      "total time = 10.354, train time/epoch = 0.06079, best_val_f1 (macro) = 0.927, test_f1 (macro) = 0.918\n",
      "total time = 14.777, train time/epoch = 0.05779, best_val_f1 (macro) = 0.927, test_f1 (macro) = 0.903\n",
      "total time = 11.027, train time/epoch = 0.05971, best_val_f1 (macro) = 0.927, test_f1 (macro) = 0.916\n",
      "total time = 9.160, train time/epoch = 0.05713, best_val_f1 (macro) = 0.927, test_f1 (macro) = 0.907\n",
      "total time = 10.798, train time/epoch = 0.05729, best_val_f1 (macro) = 0.930, test_f1 (macro) = 0.916\n",
      "total time = 10.319, train time/epoch = 0.05654, best_val_f1 (macro) = 0.927, test_f1 (macro) = 0.917\n",
      "total time = 10.648, train time/epoch = 0.05736, best_val_f1 (macro) = 0.930, test_f1 (macro) = 0.911\n",
      "total time = 9.282, train time/epoch = 0.05622, best_val_f1 (macro) = 0.930, test_f1 (macro) = 0.918\n",
      "total time = 11.644, train time/epoch = 0.05633, best_val_f1 (macro) = 0.921, test_f1 (macro) = 0.908\n",
      "total time = 10.453, train time/epoch = 0.05698, best_val_f1 (macro) = 0.924, test_f1 (macro) = 0.921\n",
      "total time = 10.462, train time/epoch = 0.05666, best_val_f1 (macro) = 0.921, test_f1 (macro) = 0.920\n",
      "total time = 8.663, train time/epoch = 0.05696, best_val_f1 (macro) = 0.933, test_f1 (macro) = 0.909\n",
      "total time = 9.048, train time/epoch = 0.05597, best_val_f1 (macro) = 0.927, test_f1 (macro) = 0.886\n",
      "total time = 9.166, train time/epoch = 0.05591, best_val_f1 (macro) = 0.927, test_f1 (macro) = 0.910\n",
      "total time = 9.384, train time/epoch = 0.05683, best_val_f1 (macro) = 0.927, test_f1 (macro) = 0.909\n",
      "total time = 8.387, train time/epoch = 0.05605, best_val_f1 (macro) = 0.927, test_f1 (macro) = 0.915\n",
      "total time = 9.473, train time/epoch = 0.05611, best_val_f1 (macro) = 0.930, test_f1 (macro) = 0.918\n",
      "total time = 9.625, train time/epoch = 0.05585, best_val_f1 (macro) = 0.924, test_f1 (macro) = 0.918\n",
      "total time = 10.339, train time/epoch = 0.05598, best_val_f1 (macro) = 0.920, test_f1 (macro) = 0.909\n",
      "total time = 9.815, train time/epoch = 0.05612, best_val_f1 (macro) = 0.927, test_f1 (macro) = 0.920\n",
      "total time = 9.827, train time/epoch = 0.05616, best_val_f1 (macro) = 0.923, test_f1 (macro) = 0.911\n",
      "total time = 12.569, train time/epoch = 0.05589, best_val_f1 (macro) = 0.920, test_f1 (macro) = 0.902\n",
      "total time = 10.123, train time/epoch = 0.05594, best_val_f1 (macro) = 0.927, test_f1 (macro) = 0.916\n",
      "total time = 9.570, train time/epoch = 0.05629, best_val_f1 (macro) = 0.930, test_f1 (macro) = 0.911\n",
      "total time = 9.530, train time/epoch = 0.05653, best_val_f1 (macro) = 0.927, test_f1 (macro) = 0.918\n",
      "total time = 16.675, train time/epoch = 0.05653, best_val_f1 (macro) = 0.924, test_f1 (macro) = 0.910\n",
      "total time = 9.331, train time/epoch = 0.05610, best_val_f1 (macro) = 0.924, test_f1 (macro) = 0.922\n",
      "total time = 8.570, train time/epoch = 0.05602, best_val_f1 (macro) = 0.927, test_f1 (macro) = 0.902\n",
      "total time = 8.178, train time/epoch = 0.05619, best_val_f1 (macro) = 0.926, test_f1 (macro) = 0.911\n",
      "total time = 13.705, train time/epoch = 0.05641, best_val_f1 (macro) = 0.927, test_f1 (macro) = 0.909\n",
      "test macro-f1 (mean, std):  0.9120640437273492 0.007320924751354042\n",
      "test macro-f1 (mean, std) after filter:  0.9128403637114414 0.004386437054579821\n",
      "\n",
      "start testing on IMDB dataset\n",
      "total time = 10.230, train time/epoch = 0.04644, best_val_f1 (macro) = 0.556, test_f1 (macro) = 0.545\n",
      "total time = 7.826, train time/epoch = 0.04672, best_val_f1 (macro) = 0.594, test_f1 (macro) = 0.584\n",
      "total time = 8.003, train time/epoch = 0.04644, best_val_f1 (macro) = 0.603, test_f1 (macro) = 0.586\n",
      "total time = 7.754, train time/epoch = 0.04670, best_val_f1 (macro) = 0.606, test_f1 (macro) = 0.598\n",
      "total time = 19.350, train time/epoch = 0.04640, best_val_f1 (macro) = 0.593, test_f1 (macro) = 0.560\n",
      "total time = 7.121, train time/epoch = 0.04644, best_val_f1 (macro) = 0.611, test_f1 (macro) = 0.601\n",
      "total time = 10.149, train time/epoch = 0.04629, best_val_f1 (macro) = 0.583, test_f1 (macro) = 0.567\n",
      "total time = 11.309, train time/epoch = 0.04711, best_val_f1 (macro) = 0.580, test_f1 (macro) = 0.570\n",
      "total time = 9.568, train time/epoch = 0.04659, best_val_f1 (macro) = 0.595, test_f1 (macro) = 0.578\n",
      "total time = 11.529, train time/epoch = 0.04648, best_val_f1 (macro) = 0.582, test_f1 (macro) = 0.537\n",
      "total time = 8.922, train time/epoch = 0.04625, best_val_f1 (macro) = 0.573, test_f1 (macro) = 0.575\n",
      "total time = 6.944, train time/epoch = 0.04638, best_val_f1 (macro) = 0.602, test_f1 (macro) = 0.603\n",
      "total time = 7.340, train time/epoch = 0.04675, best_val_f1 (macro) = 0.628, test_f1 (macro) = 0.597\n",
      "total time = 16.322, train time/epoch = 0.04688, best_val_f1 (macro) = 0.568, test_f1 (macro) = 0.545\n",
      "total time = 11.053, train time/epoch = 0.04659, best_val_f1 (macro) = 0.563, test_f1 (macro) = 0.553\n",
      "total time = 7.840, train time/epoch = 0.04647, best_val_f1 (macro) = 0.591, test_f1 (macro) = 0.583\n",
      "total time = 13.859, train time/epoch = 0.04638, best_val_f1 (macro) = 0.583, test_f1 (macro) = 0.556\n",
      "total time = 9.311, train time/epoch = 0.04625, best_val_f1 (macro) = 0.574, test_f1 (macro) = 0.551\n",
      "total time = 11.580, train time/epoch = 0.04627, best_val_f1 (macro) = 0.593, test_f1 (macro) = 0.556\n",
      "total time = 7.077, train time/epoch = 0.04652, best_val_f1 (macro) = 0.574, test_f1 (macro) = 0.556\n",
      "total time = 7.802, train time/epoch = 0.04626, best_val_f1 (macro) = 0.600, test_f1 (macro) = 0.590\n",
      "total time = 17.337, train time/epoch = 0.04689, best_val_f1 (macro) = 0.581, test_f1 (macro) = 0.550\n",
      "total time = 12.435, train time/epoch = 0.04704, best_val_f1 (macro) = 0.549, test_f1 (macro) = 0.534\n",
      "total time = 11.598, train time/epoch = 0.04621, best_val_f1 (macro) = 0.593, test_f1 (macro) = 0.553\n",
      "total time = 13.066, train time/epoch = 0.04663, best_val_f1 (macro) = 0.568, test_f1 (macro) = 0.533\n",
      "total time = 12.042, train time/epoch = 0.04633, best_val_f1 (macro) = 0.585, test_f1 (macro) = 0.550\n",
      "total time = 12.035, train time/epoch = 0.04629, best_val_f1 (macro) = 0.583, test_f1 (macro) = 0.565\n",
      "total time = 16.369, train time/epoch = 0.04659, best_val_f1 (macro) = 0.581, test_f1 (macro) = 0.557\n",
      "total time = 11.128, train time/epoch = 0.04673, best_val_f1 (macro) = 0.582, test_f1 (macro) = 0.537\n",
      "total time = 8.313, train time/epoch = 0.04683, best_val_f1 (macro) = 0.591, test_f1 (macro) = 0.579\n",
      "test macro-f1 (mean, std):  0.5649300057371399 0.020634270559280864\n",
      "test macro-f1 (mean, std) after filter:  0.5642571250730614 0.015989549294173313\n",
      "\n",
      "start testing on DBLP dataset\n",
      "total time = 14.208, train time/epoch = 0.08489, best_val_f1 (macro) = 0.940, test_f1 (macro) = 0.922\n",
      "total time = 13.570, train time/epoch = 0.08543, best_val_f1 (macro) = 0.931, test_f1 (macro) = 0.921\n",
      "total time = 14.105, train time/epoch = 0.08604, best_val_f1 (macro) = 0.931, test_f1 (macro) = 0.922\n",
      "total time = 15.442, train time/epoch = 0.08709, best_val_f1 (macro) = 0.926, test_f1 (macro) = 0.910\n",
      "total time = 14.297, train time/epoch = 0.08590, best_val_f1 (macro) = 0.943, test_f1 (macro) = 0.924\n",
      "total time = 14.148, train time/epoch = 0.08508, best_val_f1 (macro) = 0.945, test_f1 (macro) = 0.938\n",
      "total time = 13.926, train time/epoch = 0.08558, best_val_f1 (macro) = 0.940, test_f1 (macro) = 0.939\n",
      "total time = 14.444, train time/epoch = 0.08560, best_val_f1 (macro) = 0.948, test_f1 (macro) = 0.939\n",
      "total time = 13.596, train time/epoch = 0.08487, best_val_f1 (macro) = 0.950, test_f1 (macro) = 0.929\n",
      "total time = 14.433, train time/epoch = 0.08483, best_val_f1 (macro) = 0.925, test_f1 (macro) = 0.924\n",
      "total time = 14.564, train time/epoch = 0.08495, best_val_f1 (macro) = 0.935, test_f1 (macro) = 0.928\n",
      "total time = 13.368, train time/epoch = 0.08479, best_val_f1 (macro) = 0.948, test_f1 (macro) = 0.929\n",
      "total time = 15.720, train time/epoch = 0.08570, best_val_f1 (macro) = 0.945, test_f1 (macro) = 0.921\n",
      "total time = 13.420, train time/epoch = 0.08510, best_val_f1 (macro) = 0.950, test_f1 (macro) = 0.943\n",
      "total time = 12.974, train time/epoch = 0.08487, best_val_f1 (macro) = 0.940, test_f1 (macro) = 0.923\n",
      "total time = 13.478, train time/epoch = 0.08475, best_val_f1 (macro) = 0.948, test_f1 (macro) = 0.928\n",
      "total time = 13.727, train time/epoch = 0.08504, best_val_f1 (macro) = 0.938, test_f1 (macro) = 0.924\n"
     ]
    },
    {
     "name": "stdout",
     "output_type": "stream",
     "text": [
      "total time = 15.928, train time/epoch = 0.08503, best_val_f1 (macro) = 0.933, test_f1 (macro) = 0.922\n",
      "total time = 13.672, train time/epoch = 0.08470, best_val_f1 (macro) = 0.940, test_f1 (macro) = 0.928\n",
      "total time = 13.671, train time/epoch = 0.08464, best_val_f1 (macro) = 0.933, test_f1 (macro) = 0.930\n",
      "total time = 14.146, train time/epoch = 0.08506, best_val_f1 (macro) = 0.940, test_f1 (macro) = 0.939\n",
      "total time = 15.163, train time/epoch = 0.08547, best_val_f1 (macro) = 0.940, test_f1 (macro) = 0.932\n",
      "total time = 13.244, train time/epoch = 0.08529, best_val_f1 (macro) = 0.940, test_f1 (macro) = 0.928\n",
      "total time = 13.588, train time/epoch = 0.08467, best_val_f1 (macro) = 0.948, test_f1 (macro) = 0.934\n",
      "total time = 15.417, train time/epoch = 0.08560, best_val_f1 (macro) = 0.943, test_f1 (macro) = 0.941\n",
      "total time = 14.442, train time/epoch = 0.08614, best_val_f1 (macro) = 0.950, test_f1 (macro) = 0.942\n",
      "total time = 14.052, train time/epoch = 0.08718, best_val_f1 (macro) = 0.948, test_f1 (macro) = 0.922\n",
      "total time = 13.417, train time/epoch = 0.08710, best_val_f1 (macro) = 0.953, test_f1 (macro) = 0.934\n",
      "total time = 13.361, train time/epoch = 0.08473, best_val_f1 (macro) = 0.938, test_f1 (macro) = 0.924\n",
      "total time = 14.123, train time/epoch = 0.08484, best_val_f1 (macro) = 0.928, test_f1 (macro) = 0.920\n",
      "test macro-f1 (mean, std):  0.9286734766857044 0.007874536256147903\n",
      "test macro-f1 (mean, std) after filter:  0.9285328476874462 0.006005833944513962\n"
     ]
    }
   ],
   "source": [
    "f1s = []\n",
    "datasets = ['ACM', 'IMDB', 'DBLP']\n",
    "for dataset in datasets:\n",
    "    args.data = dataset\n",
    "    if dataset == 'ACM':\n",
    "        args.dropout = 0.8\n",
    "        args.dropout2 = 0.2\n",
    "        args.target_node_type = 'paper'\n",
    "        print('\\nstart testing on ' + dataset + ' dataset')\n",
    "        f1s.append(main(args))\n",
    "    elif dataset == 'IMDB':\n",
    "        args.dropout = 0.8\n",
    "        args.dropout2 = 0.2\n",
    "        args.target_node_type = 'movie'\n",
    "        print('\\nstart testing on ' + dataset + ' dataset')\n",
    "        f1s.append(main(args))\n",
    "    elif dataset == 'DBLP':\n",
    "        args.dropout = 0\n",
    "        args.dropout2 = 0\n",
    "        args.target_node_type = 'author'\n",
    "        print('\\nstart testing on ' + dataset + ' dataset')\n",
    "        f1s.append(main(args))"
   ]
  },
  {
   "cell_type": "code",
   "execution_count": 4,
   "metadata": {},
   "outputs": [],
   "source": [
    "f1s = np.array(f1s)"
   ]
  },
  {
   "cell_type": "code",
   "execution_count": null,
   "metadata": {},
   "outputs": [],
   "source": []
  }
 ],
 "metadata": {
  "kernelspec": {
   "display_name": "Python 3",
   "language": "python",
   "name": "python3"
  },
  "language_info": {
   "codemirror_mode": {
    "name": "ipython",
    "version": 3
   },
   "file_extension": ".py",
   "mimetype": "text/x-python",
   "name": "python",
   "nbconvert_exporter": "python",
   "pygments_lexer": "ipython3",
   "version": "3.8.8"
  }
 },
 "nbformat": 4,
 "nbformat_minor": 4
}
