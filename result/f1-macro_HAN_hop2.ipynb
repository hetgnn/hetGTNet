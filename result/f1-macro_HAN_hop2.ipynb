{
 "cells": [
  {
   "cell_type": "code",
   "execution_count": 1,
   "metadata": {},
   "outputs": [
    {
     "name": "stderr",
     "output_type": "stream",
     "text": [
      "Using backend: pytorch\n"
     ]
    }
   ],
   "source": [
    "root_dir = '..' # dir of the source code\n",
    "import sys\n",
    "sys.path.append(root_dir)\n",
    "from train import main\n",
    "import numpy as np"
   ]
  },
  {
   "cell_type": "code",
   "execution_count": 2,
   "metadata": {},
   "outputs": [],
   "source": [
    "class config:\n",
    "    data = 'ACM'\n",
    "    data_path = '../data/preprocessed/'\n",
    "    model = 'HAN'\n",
    "    target_node_type = 'paper'\n",
    "    n_hid = 64\n",
    "    num_heads = 8\n",
    "    dropout = 0.6\n",
    "    learning_rate = 0.005\n",
    "    weight_decay = 0.001\n",
    "    patience = 100\n",
    "    num_iter = 500\n",
    "    num_test = 30\n",
    "    hop = 2\n",
    "    filter_pct = 0.1 # remove the top and bottom filer_pct points before obtaining statistics of test accuracy\n",
    "    log_step = 1000 # training log step\n",
    "    average = 'macro' # 'f1 average: can choose either macro or micro.'\n",
    "\n",
    "args = config()"
   ]
  },
  {
   "cell_type": "code",
   "execution_count": 3,
   "metadata": {
    "scrolled": false
   },
   "outputs": [
    {
     "name": "stdout",
     "output_type": "stream",
     "text": [
      "\n",
      "start testing on ACM dataset\n",
      "total time = 16.799, train time/epoch = 0.08664, best_val_f1 (macro) = 0.930, test_f1 (macro) = 0.908\n",
      "total time = 20.650, train time/epoch = 0.08139, best_val_f1 (macro) = 0.927, test_f1 (macro) = 0.899\n",
      "total time = 31.683, train time/epoch = 0.08130, best_val_f1 (macro) = 0.930, test_f1 (macro) = 0.896\n",
      "total time = 17.871, train time/epoch = 0.08147, best_val_f1 (macro) = 0.930, test_f1 (macro) = 0.902\n",
      "total time = 27.636, train time/epoch = 0.08147, best_val_f1 (macro) = 0.937, test_f1 (macro) = 0.897\n",
      "total time = 23.154, train time/epoch = 0.08144, best_val_f1 (macro) = 0.934, test_f1 (macro) = 0.901\n",
      "total time = 15.879, train time/epoch = 0.08164, best_val_f1 (macro) = 0.927, test_f1 (macro) = 0.907\n",
      "total time = 14.737, train time/epoch = 0.08178, best_val_f1 (macro) = 0.930, test_f1 (macro) = 0.908\n",
      "total time = 19.057, train time/epoch = 0.08147, best_val_f1 (macro) = 0.934, test_f1 (macro) = 0.901\n",
      "total time = 18.611, train time/epoch = 0.08166, best_val_f1 (macro) = 0.934, test_f1 (macro) = 0.896\n",
      "total time = 18.018, train time/epoch = 0.08159, best_val_f1 (macro) = 0.937, test_f1 (macro) = 0.901\n",
      "total time = 15.332, train time/epoch = 0.08167, best_val_f1 (macro) = 0.933, test_f1 (macro) = 0.910\n",
      "total time = 22.999, train time/epoch = 0.08134, best_val_f1 (macro) = 0.930, test_f1 (macro) = 0.905\n",
      "total time = 15.071, train time/epoch = 0.08161, best_val_f1 (macro) = 0.934, test_f1 (macro) = 0.913\n",
      "total time = 24.027, train time/epoch = 0.08164, best_val_f1 (macro) = 0.934, test_f1 (macro) = 0.895\n",
      "total time = 17.172, train time/epoch = 0.08150, best_val_f1 (macro) = 0.930, test_f1 (macro) = 0.896\n",
      "total time = 17.276, train time/epoch = 0.08147, best_val_f1 (macro) = 0.937, test_f1 (macro) = 0.901\n",
      "total time = 16.042, train time/epoch = 0.08176, best_val_f1 (macro) = 0.934, test_f1 (macro) = 0.908\n",
      "total time = 24.573, train time/epoch = 0.08159, best_val_f1 (macro) = 0.927, test_f1 (macro) = 0.897\n",
      "total time = 21.472, train time/epoch = 0.08130, best_val_f1 (macro) = 0.934, test_f1 (macro) = 0.897\n",
      "total time = 27.152, train time/epoch = 0.08144, best_val_f1 (macro) = 0.930, test_f1 (macro) = 0.900\n",
      "total time = 20.883, train time/epoch = 0.08135, best_val_f1 (macro) = 0.940, test_f1 (macro) = 0.896\n",
      "total time = 14.699, train time/epoch = 0.08162, best_val_f1 (macro) = 0.933, test_f1 (macro) = 0.907\n",
      "total time = 19.656, train time/epoch = 0.08159, best_val_f1 (macro) = 0.930, test_f1 (macro) = 0.895\n",
      "total time = 16.222, train time/epoch = 0.08151, best_val_f1 (macro) = 0.934, test_f1 (macro) = 0.909\n",
      "total time = 19.645, train time/epoch = 0.08150, best_val_f1 (macro) = 0.930, test_f1 (macro) = 0.897\n",
      "total time = 21.759, train time/epoch = 0.08153, best_val_f1 (macro) = 0.930, test_f1 (macro) = 0.898\n",
      "total time = 24.726, train time/epoch = 0.08162, best_val_f1 (macro) = 0.930, test_f1 (macro) = 0.899\n",
      "total time = 15.043, train time/epoch = 0.08149, best_val_f1 (macro) = 0.930, test_f1 (macro) = 0.908\n",
      "total time = 18.513, train time/epoch = 0.08177, best_val_f1 (macro) = 0.934, test_f1 (macro) = 0.898\n",
      "test macro-f1 (mean, std):  0.9014850940896202 0.00518014571788569\n",
      "test macro-f1 (mean, std) after filter:  0.9011313349019793 0.00425975020792828\n",
      "\n",
      "start testing on IMDB dataset\n",
      "total time = 5.386, train time/epoch = 0.01963, best_val_f1 (macro) = 0.631, test_f1 (macro) = 0.568\n",
      "total time = 3.840, train time/epoch = 0.02102, best_val_f1 (macro) = 0.634, test_f1 (macro) = 0.590\n",
      "total time = 3.824, train time/epoch = 0.02112, best_val_f1 (macro) = 0.655, test_f1 (macro) = 0.585\n",
      "total time = 3.859, train time/epoch = 0.02109, best_val_f1 (macro) = 0.633, test_f1 (macro) = 0.594\n",
      "total time = 4.350, train time/epoch = 0.02097, best_val_f1 (macro) = 0.627, test_f1 (macro) = 0.580\n",
      "total time = 4.534, train time/epoch = 0.02113, best_val_f1 (macro) = 0.633, test_f1 (macro) = 0.573\n",
      "total time = 4.406, train time/epoch = 0.02115, best_val_f1 (macro) = 0.626, test_f1 (macro) = 0.573\n",
      "total time = 4.330, train time/epoch = 0.02173, best_val_f1 (macro) = 0.619, test_f1 (macro) = 0.564\n",
      "total time = 4.710, train time/epoch = 0.02099, best_val_f1 (macro) = 0.653, test_f1 (macro) = 0.586\n",
      "total time = 4.650, train time/epoch = 0.02105, best_val_f1 (macro) = 0.632, test_f1 (macro) = 0.575\n",
      "total time = 4.731, train time/epoch = 0.02135, best_val_f1 (macro) = 0.637, test_f1 (macro) = 0.576\n",
      "total time = 4.342, train time/epoch = 0.02092, best_val_f1 (macro) = 0.637, test_f1 (macro) = 0.584\n",
      "total time = 4.502, train time/epoch = 0.02063, best_val_f1 (macro) = 0.627, test_f1 (macro) = 0.578\n",
      "total time = 3.751, train time/epoch = 0.02103, best_val_f1 (macro) = 0.622, test_f1 (macro) = 0.579\n",
      "total time = 3.690, train time/epoch = 0.02117, best_val_f1 (macro) = 0.621, test_f1 (macro) = 0.589\n",
      "total time = 5.023, train time/epoch = 0.02102, best_val_f1 (macro) = 0.624, test_f1 (macro) = 0.567\n",
      "total time = 4.140, train time/epoch = 0.02072, best_val_f1 (macro) = 0.628, test_f1 (macro) = 0.566\n",
      "total time = 5.843, train time/epoch = 0.02076, best_val_f1 (macro) = 0.644, test_f1 (macro) = 0.572\n",
      "total time = 3.748, train time/epoch = 0.02065, best_val_f1 (macro) = 0.634, test_f1 (macro) = 0.588\n",
      "total time = 4.442, train time/epoch = 0.02054, best_val_f1 (macro) = 0.632, test_f1 (macro) = 0.568\n",
      "total time = 5.579, train time/epoch = 0.02102, best_val_f1 (macro) = 0.634, test_f1 (macro) = 0.572\n",
      "total time = 4.506, train time/epoch = 0.02122, best_val_f1 (macro) = 0.645, test_f1 (macro) = 0.561\n",
      "total time = 4.374, train time/epoch = 0.02110, best_val_f1 (macro) = 0.639, test_f1 (macro) = 0.574\n",
      "total time = 4.935, train time/epoch = 0.02145, best_val_f1 (macro) = 0.627, test_f1 (macro) = 0.575\n",
      "total time = 4.483, train time/epoch = 0.02090, best_val_f1 (macro) = 0.643, test_f1 (macro) = 0.562\n",
      "total time = 3.949, train time/epoch = 0.02101, best_val_f1 (macro) = 0.629, test_f1 (macro) = 0.581\n",
      "total time = 3.893, train time/epoch = 0.02104, best_val_f1 (macro) = 0.632, test_f1 (macro) = 0.584\n",
      "total time = 4.525, train time/epoch = 0.02105, best_val_f1 (macro) = 0.627, test_f1 (macro) = 0.562\n",
      "total time = 3.814, train time/epoch = 0.02189, best_val_f1 (macro) = 0.635, test_f1 (macro) = 0.579\n",
      "total time = 4.635, train time/epoch = 0.02105, best_val_f1 (macro) = 0.621, test_f1 (macro) = 0.566\n",
      "test macro-f1 (mean, std):  0.575839976831768 0.008963545332441711\n",
      "test macro-f1 (mean, std) after filter:  0.5756702111262336 0.0068102565931105735\n",
      "\n",
      "start testing on DBLP dataset\n",
      "total time = 104.671, train time/epoch = 0.21595, best_val_f1 (macro) = 0.942, test_f1 (macro) = 0.918\n",
      "total time = 85.119, train time/epoch = 0.21585, best_val_f1 (macro) = 0.940, test_f1 (macro) = 0.919\n",
      "total time = 91.069, train time/epoch = 0.21590, best_val_f1 (macro) = 0.943, test_f1 (macro) = 0.912\n",
      "total time = 103.090, train time/epoch = 0.21582, best_val_f1 (macro) = 0.940, test_f1 (macro) = 0.923\n",
      "total time = 75.330, train time/epoch = 0.21613, best_val_f1 (macro) = 0.942, test_f1 (macro) = 0.929\n",
      "total time = 66.919, train time/epoch = 0.21610, best_val_f1 (macro) = 0.940, test_f1 (macro) = 0.922\n",
      "total time = 117.445, train time/epoch = 0.21596, best_val_f1 (macro) = 0.945, test_f1 (macro) = 0.924\n",
      "total time = 77.679, train time/epoch = 0.21895, best_val_f1 (macro) = 0.942, test_f1 (macro) = 0.925\n",
      "total time = 103.670, train time/epoch = 0.22341, best_val_f1 (macro) = 0.938, test_f1 (macro) = 0.913\n",
      "total time = 54.135, train time/epoch = 0.21700, best_val_f1 (macro) = 0.942, test_f1 (macro) = 0.926\n",
      "total time = 88.969, train time/epoch = 0.21614, best_val_f1 (macro) = 0.940, test_f1 (macro) = 0.913\n",
      "total time = 81.544, train time/epoch = 0.21620, best_val_f1 (macro) = 0.940, test_f1 (macro) = 0.915\n",
      "total time = 123.347, train time/epoch = 0.21925, best_val_f1 (macro) = 0.945, test_f1 (macro) = 0.920\n",
      "total time = 96.383, train time/epoch = 0.21929, best_val_f1 (macro) = 0.945, test_f1 (macro) = 0.916\n",
      "total time = 65.774, train time/epoch = 0.22142, best_val_f1 (macro) = 0.942, test_f1 (macro) = 0.920\n",
      "total time = 62.152, train time/epoch = 0.23913, best_val_f1 (macro) = 0.938, test_f1 (macro) = 0.909\n",
      "total time = 104.109, train time/epoch = 0.23308, best_val_f1 (macro) = 0.940, test_f1 (macro) = 0.915\n"
     ]
    },
    {
     "name": "stdout",
     "output_type": "stream",
     "text": [
      "total time = 83.288, train time/epoch = 0.22160, best_val_f1 (macro) = 0.942, test_f1 (macro) = 0.921\n",
      "total time = 118.501, train time/epoch = 0.22434, best_val_f1 (macro) = 0.945, test_f1 (macro) = 0.912\n",
      "total time = 110.031, train time/epoch = 0.22720, best_val_f1 (macro) = 0.940, test_f1 (macro) = 0.920\n",
      "total time = 66.337, train time/epoch = 0.23080, best_val_f1 (macro) = 0.942, test_f1 (macro) = 0.922\n",
      "total time = 93.962, train time/epoch = 0.22937, best_val_f1 (macro) = 0.947, test_f1 (macro) = 0.922\n",
      "total time = 55.752, train time/epoch = 0.22958, best_val_f1 (macro) = 0.940, test_f1 (macro) = 0.923\n",
      "total time = 44.478, train time/epoch = 0.23098, best_val_f1 (macro) = 0.938, test_f1 (macro) = 0.913\n",
      "total time = 99.395, train time/epoch = 0.22684, best_val_f1 (macro) = 0.945, test_f1 (macro) = 0.920\n",
      "total time = 77.481, train time/epoch = 0.22578, best_val_f1 (macro) = 0.945, test_f1 (macro) = 0.924\n",
      "total time = 91.303, train time/epoch = 0.22481, best_val_f1 (macro) = 0.943, test_f1 (macro) = 0.919\n",
      "total time = 94.593, train time/epoch = 0.22492, best_val_f1 (macro) = 0.940, test_f1 (macro) = 0.911\n",
      "total time = 96.449, train time/epoch = 0.22905, best_val_f1 (macro) = 0.940, test_f1 (macro) = 0.924\n",
      "total time = 73.380, train time/epoch = 0.22600, best_val_f1 (macro) = 0.942, test_f1 (macro) = 0.923\n",
      "test macro-f1 (mean, std):  0.9191745955847989 0.005034276514227823\n",
      "test macro-f1 (mean, std) after filter:  0.9192362893351461 0.003871292426784776\n"
     ]
    }
   ],
   "source": [
    "f1s = []\n",
    "datasets = ['ACM', 'IMDB', 'DBLP']\n",
    "for dataset in datasets:\n",
    "    args.data = dataset\n",
    "    if dataset == 'ACM':\n",
    "        args.target_node_type = 'paper'\n",
    "        print('\\nstart testing on ' + dataset + ' dataset')\n",
    "        f1s.append(main(args))\n",
    "    elif dataset == 'IMDB':\n",
    "        args.target_node_type = 'movie'\n",
    "        print('\\nstart testing on ' + dataset + ' dataset')\n",
    "        f1s.append(main(args))\n",
    "    elif dataset == 'DBLP':\n",
    "        args.target_node_type = 'author'\n",
    "        print('\\nstart testing on ' + dataset + ' dataset')\n",
    "        f1s.append(main(args))"
   ]
  },
  {
   "cell_type": "code",
   "execution_count": 4,
   "metadata": {},
   "outputs": [],
   "source": [
    "f1s = np.array(f1s)\n",
    "np.savetxt('f1_ACM_hop1.txt',f1s)"
   ]
  },
  {
   "cell_type": "code",
   "execution_count": null,
   "metadata": {},
   "outputs": [],
   "source": []
  }
 ],
 "metadata": {
  "kernelspec": {
   "display_name": "Python 3",
   "language": "python",
   "name": "python3"
  },
  "language_info": {
   "codemirror_mode": {
    "name": "ipython",
    "version": 3
   },
   "file_extension": ".py",
   "mimetype": "text/x-python",
   "name": "python",
   "nbconvert_exporter": "python",
   "pygments_lexer": "ipython3",
   "version": "3.8.8"
  }
 },
 "nbformat": 4,
 "nbformat_minor": 4
}
