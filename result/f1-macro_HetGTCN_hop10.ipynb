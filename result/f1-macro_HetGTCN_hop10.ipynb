{
 "cells": [
  {
   "cell_type": "code",
   "execution_count": 1,
   "metadata": {},
   "outputs": [
    {
     "name": "stderr",
     "output_type": "stream",
     "text": [
      "Using backend: pytorch\n"
     ]
    }
   ],
   "source": [
    "root_dir = '..' # dir of the source code\n",
    "import sys\n",
    "sys.path.append(root_dir)\n",
    "from train import main\n",
    "import numpy as np"
   ]
  },
  {
   "cell_type": "code",
   "execution_count": 2,
   "metadata": {},
   "outputs": [],
   "source": [
    "class config:\n",
    "    data = 'ACM'\n",
    "    data_path = '../data/preprocessed/'\n",
    "    model = 'HetGTCN'\n",
    "    target_node_type = 'paper'\n",
    "    n_hid = 64\n",
    "    dropout = 0.8\n",
    "    dropout2 = 0.6\n",
    "    learning_rate = 0.005\n",
    "    weight_decay = 1e-5\n",
    "    patience = 100\n",
    "    num_iter = 500\n",
    "    num_test = 30\n",
    "    hop = 10\n",
    "    filter_pct = 0.1 # remove the top and bottom filer_pct points before obtaining statistics of test accuracy\n",
    "    log_step = 1000 # training log step\n",
    "    layer_wise = True\n",
    "    average = 'macro' # 'f1 average: can choose either macro or micro.'\n",
    "\n",
    "args = config()"
   ]
  },
  {
   "cell_type": "code",
   "execution_count": 3,
   "metadata": {
    "scrolled": false
   },
   "outputs": [
    {
     "name": "stdout",
     "output_type": "stream",
     "text": [
      "\n",
      "start testing on ACM dataset\n",
      "total time = 19.726, train time/epoch = 0.07907, best_val_f1 (macro) = 0.927, test_f1 (macro) = 0.921\n",
      "total time = 31.465, train time/epoch = 0.07313, best_val_f1 (macro) = 0.930, test_f1 (macro) = 0.924\n",
      "total time = 11.026, train time/epoch = 0.07313, best_val_f1 (macro) = 0.943, test_f1 (macro) = 0.896\n",
      "total time = 15.526, train time/epoch = 0.07340, best_val_f1 (macro) = 0.933, test_f1 (macro) = 0.912\n",
      "total time = 15.207, train time/epoch = 0.07298, best_val_f1 (macro) = 0.927, test_f1 (macro) = 0.922\n",
      "total time = 22.202, train time/epoch = 0.07319, best_val_f1 (macro) = 0.930, test_f1 (macro) = 0.917\n",
      "total time = 21.452, train time/epoch = 0.07377, best_val_f1 (macro) = 0.930, test_f1 (macro) = 0.924\n",
      "total time = 13.653, train time/epoch = 0.07399, best_val_f1 (macro) = 0.927, test_f1 (macro) = 0.928\n",
      "total time = 24.257, train time/epoch = 0.07385, best_val_f1 (macro) = 0.933, test_f1 (macro) = 0.924\n",
      "total time = 12.897, train time/epoch = 0.07344, best_val_f1 (macro) = 0.937, test_f1 (macro) = 0.919\n",
      "total time = 36.801, train time/epoch = 0.07273, best_val_f1 (macro) = 0.934, test_f1 (macro) = 0.922\n",
      "total time = 31.519, train time/epoch = 0.07327, best_val_f1 (macro) = 0.933, test_f1 (macro) = 0.923\n",
      "total time = 25.039, train time/epoch = 0.07467, best_val_f1 (macro) = 0.933, test_f1 (macro) = 0.926\n",
      "total time = 28.859, train time/epoch = 0.07410, best_val_f1 (macro) = 0.930, test_f1 (macro) = 0.928\n",
      "total time = 22.002, train time/epoch = 0.07353, best_val_f1 (macro) = 0.933, test_f1 (macro) = 0.926\n",
      "total time = 44.079, train time/epoch = 0.07393, best_val_f1 (macro) = 0.930, test_f1 (macro) = 0.913\n",
      "total time = 17.378, train time/epoch = 0.07279, best_val_f1 (macro) = 0.936, test_f1 (macro) = 0.921\n",
      "total time = 19.173, train time/epoch = 0.07285, best_val_f1 (macro) = 0.930, test_f1 (macro) = 0.927\n",
      "total time = 21.444, train time/epoch = 0.07310, best_val_f1 (macro) = 0.927, test_f1 (macro) = 0.925\n",
      "total time = 21.138, train time/epoch = 0.07272, best_val_f1 (macro) = 0.930, test_f1 (macro) = 0.924\n",
      "total time = 15.045, train time/epoch = 0.07316, best_val_f1 (macro) = 0.933, test_f1 (macro) = 0.923\n",
      "total time = 29.283, train time/epoch = 0.07296, best_val_f1 (macro) = 0.930, test_f1 (macro) = 0.918\n",
      "total time = 11.872, train time/epoch = 0.07302, best_val_f1 (macro) = 0.933, test_f1 (macro) = 0.912\n",
      "total time = 30.141, train time/epoch = 0.07391, best_val_f1 (macro) = 0.930, test_f1 (macro) = 0.927\n",
      "total time = 20.437, train time/epoch = 0.07397, best_val_f1 (macro) = 0.927, test_f1 (macro) = 0.926\n",
      "total time = 28.006, train time/epoch = 0.07375, best_val_f1 (macro) = 0.927, test_f1 (macro) = 0.926\n",
      "total time = 20.927, train time/epoch = 0.07316, best_val_f1 (macro) = 0.933, test_f1 (macro) = 0.926\n",
      "total time = 12.355, train time/epoch = 0.07289, best_val_f1 (macro) = 0.933, test_f1 (macro) = 0.927\n",
      "total time = 13.321, train time/epoch = 0.07298, best_val_f1 (macro) = 0.940, test_f1 (macro) = 0.920\n",
      "total time = 17.513, train time/epoch = 0.07293, best_val_f1 (macro) = 0.937, test_f1 (macro) = 0.923\n",
      "test macro-f1 (mean, std):  0.9217110092996647 0.006449001665816584\n",
      "test macro-f1 (mean, std) after filter:  0.9228592456698688 0.0033650921522235264\n",
      "\n",
      "start testing on IMDB dataset\n",
      "total time = 16.667, train time/epoch = 0.07266, best_val_f1 (macro) = 0.654, test_f1 (macro) = 0.612\n",
      "total time = 14.420, train time/epoch = 0.07192, best_val_f1 (macro) = 0.619, test_f1 (macro) = 0.605\n",
      "total time = 23.514, train time/epoch = 0.07283, best_val_f1 (macro) = 0.618, test_f1 (macro) = 0.598\n",
      "total time = 22.808, train time/epoch = 0.07392, best_val_f1 (macro) = 0.643, test_f1 (macro) = 0.612\n",
      "total time = 26.115, train time/epoch = 0.07394, best_val_f1 (macro) = 0.633, test_f1 (macro) = 0.599\n",
      "total time = 21.219, train time/epoch = 0.07257, best_val_f1 (macro) = 0.640, test_f1 (macro) = 0.611\n",
      "total time = 20.137, train time/epoch = 0.07271, best_val_f1 (macro) = 0.651, test_f1 (macro) = 0.619\n",
      "total time = 16.661, train time/epoch = 0.07226, best_val_f1 (macro) = 0.612, test_f1 (macro) = 0.595\n",
      "total time = 16.279, train time/epoch = 0.07289, best_val_f1 (macro) = 0.607, test_f1 (macro) = 0.596\n",
      "total time = 17.623, train time/epoch = 0.07191, best_val_f1 (macro) = 0.621, test_f1 (macro) = 0.605\n",
      "total time = 22.809, train time/epoch = 0.07225, best_val_f1 (macro) = 0.642, test_f1 (macro) = 0.622\n",
      "total time = 17.414, train time/epoch = 0.07275, best_val_f1 (macro) = 0.638, test_f1 (macro) = 0.612\n",
      "total time = 17.881, train time/epoch = 0.07301, best_val_f1 (macro) = 0.646, test_f1 (macro) = 0.615\n",
      "total time = 27.632, train time/epoch = 0.07427, best_val_f1 (macro) = 0.647, test_f1 (macro) = 0.611\n",
      "total time = 22.816, train time/epoch = 0.07326, best_val_f1 (macro) = 0.633, test_f1 (macro) = 0.608\n",
      "total time = 17.741, train time/epoch = 0.07322, best_val_f1 (macro) = 0.647, test_f1 (macro) = 0.606\n",
      "total time = 20.703, train time/epoch = 0.07233, best_val_f1 (macro) = 0.654, test_f1 (macro) = 0.612\n",
      "total time = 23.730, train time/epoch = 0.07260, best_val_f1 (macro) = 0.646, test_f1 (macro) = 0.622\n",
      "total time = 28.680, train time/epoch = 0.07269, best_val_f1 (macro) = 0.624, test_f1 (macro) = 0.595\n",
      "total time = 18.780, train time/epoch = 0.07230, best_val_f1 (macro) = 0.650, test_f1 (macro) = 0.614\n",
      "total time = 17.883, train time/epoch = 0.07436, best_val_f1 (macro) = 0.624, test_f1 (macro) = 0.605\n",
      "total time = 17.170, train time/epoch = 0.07358, best_val_f1 (macro) = 0.645, test_f1 (macro) = 0.619\n",
      "total time = 45.589, train time/epoch = 0.07250, best_val_f1 (macro) = 0.625, test_f1 (macro) = 0.577\n",
      "total time = 21.325, train time/epoch = 0.07150, best_val_f1 (macro) = 0.648, test_f1 (macro) = 0.606\n",
      "total time = 20.215, train time/epoch = 0.07202, best_val_f1 (macro) = 0.638, test_f1 (macro) = 0.614\n",
      "total time = 21.553, train time/epoch = 0.07186, best_val_f1 (macro) = 0.651, test_f1 (macro) = 0.615\n",
      "total time = 24.169, train time/epoch = 0.07266, best_val_f1 (macro) = 0.648, test_f1 (macro) = 0.598\n",
      "total time = 33.879, train time/epoch = 0.07318, best_val_f1 (macro) = 0.620, test_f1 (macro) = 0.582\n",
      "total time = 20.274, train time/epoch = 0.07357, best_val_f1 (macro) = 0.643, test_f1 (macro) = 0.612\n",
      "total time = 32.955, train time/epoch = 0.07346, best_val_f1 (macro) = 0.651, test_f1 (macro) = 0.596\n",
      "test macro-f1 (mean, std):  0.6064642883986425 0.010693296762969984\n",
      "test macro-f1 (mean, std) after filter:  0.6073768552542987 0.006989891806152406\n",
      "\n",
      "start testing on DBLP dataset\n",
      "total time = 59.471, train time/epoch = 0.12616, best_val_f1 (macro) = 0.945, test_f1 (macro) = 0.943\n",
      "total time = 56.621, train time/epoch = 0.12714, best_val_f1 (macro) = 0.943, test_f1 (macro) = 0.943\n",
      "total time = 92.117, train time/epoch = 0.12763, best_val_f1 (macro) = 0.950, test_f1 (macro) = 0.946\n",
      "total time = 70.250, train time/epoch = 0.12826, best_val_f1 (macro) = 0.953, test_f1 (macro) = 0.941\n",
      "total time = 49.352, train time/epoch = 0.12654, best_val_f1 (macro) = 0.945, test_f1 (macro) = 0.941\n",
      "total time = 56.675, train time/epoch = 0.12803, best_val_f1 (macro) = 0.945, test_f1 (macro) = 0.942\n",
      "total time = 75.634, train time/epoch = 0.12746, best_val_f1 (macro) = 0.948, test_f1 (macro) = 0.941\n",
      "total time = 52.572, train time/epoch = 0.12691, best_val_f1 (macro) = 0.948, test_f1 (macro) = 0.944\n",
      "total time = 46.630, train time/epoch = 0.12779, best_val_f1 (macro) = 0.945, test_f1 (macro) = 0.938\n",
      "total time = 57.779, train time/epoch = 0.12736, best_val_f1 (macro) = 0.940, test_f1 (macro) = 0.943\n",
      "total time = 65.618, train time/epoch = 0.12988, best_val_f1 (macro) = 0.948, test_f1 (macro) = 0.944\n",
      "total time = 75.375, train time/epoch = 0.12844, best_val_f1 (macro) = 0.950, test_f1 (macro) = 0.946\n",
      "total time = 47.731, train time/epoch = 0.12721, best_val_f1 (macro) = 0.950, test_f1 (macro) = 0.942\n",
      "total time = 57.121, train time/epoch = 0.12830, best_val_f1 (macro) = 0.953, test_f1 (macro) = 0.943\n",
      "total time = 49.371, train time/epoch = 0.12763, best_val_f1 (macro) = 0.947, test_f1 (macro) = 0.941\n",
      "total time = 55.362, train time/epoch = 0.12895, best_val_f1 (macro) = 0.942, test_f1 (macro) = 0.945\n",
      "total time = 58.719, train time/epoch = 0.12643, best_val_f1 (macro) = 0.948, test_f1 (macro) = 0.943\n"
     ]
    },
    {
     "name": "stdout",
     "output_type": "stream",
     "text": [
      "total time = 46.623, train time/epoch = 0.12933, best_val_f1 (macro) = 0.945, test_f1 (macro) = 0.943\n",
      "total time = 57.412, train time/epoch = 0.12602, best_val_f1 (macro) = 0.948, test_f1 (macro) = 0.941\n",
      "total time = 54.618, train time/epoch = 0.12636, best_val_f1 (macro) = 0.948, test_f1 (macro) = 0.943\n",
      "total time = 49.112, train time/epoch = 0.12594, best_val_f1 (macro) = 0.948, test_f1 (macro) = 0.943\n",
      "total time = 91.545, train time/epoch = 0.12535, best_val_f1 (macro) = 0.948, test_f1 (macro) = 0.943\n",
      "total time = 43.599, train time/epoch = 0.12645, best_val_f1 (macro) = 0.950, test_f1 (macro) = 0.942\n",
      "total time = 73.610, train time/epoch = 0.12632, best_val_f1 (macro) = 0.948, test_f1 (macro) = 0.944\n",
      "total time = 58.935, train time/epoch = 0.12544, best_val_f1 (macro) = 0.940, test_f1 (macro) = 0.945\n",
      "total time = 55.954, train time/epoch = 0.12745, best_val_f1 (macro) = 0.945, test_f1 (macro) = 0.944\n",
      "total time = 54.047, train time/epoch = 0.12772, best_val_f1 (macro) = 0.948, test_f1 (macro) = 0.943\n",
      "total time = 50.643, train time/epoch = 0.12713, best_val_f1 (macro) = 0.948, test_f1 (macro) = 0.943\n",
      "total time = 49.654, train time/epoch = 0.12603, best_val_f1 (macro) = 0.943, test_f1 (macro) = 0.941\n",
      "total time = 57.924, train time/epoch = 0.12769, best_val_f1 (macro) = 0.947, test_f1 (macro) = 0.939\n",
      "test macro-f1 (mean, std):  0.9426190875536918 0.0017015222697813726\n",
      "test macro-f1 (mean, std) after filter:  0.9426379804687217 0.0010668032454127716\n"
     ]
    }
   ],
   "source": [
    "f1s = []\n",
    "datasets = ['ACM', 'IMDB', 'DBLP']\n",
    "for dataset in datasets:\n",
    "    args.data = dataset\n",
    "    if dataset == 'ACM':\n",
    "        args.target_node_type = 'paper'\n",
    "        print('\\nstart testing on ' + dataset + ' dataset')\n",
    "        f1s.append(main(args))\n",
    "    elif dataset == 'IMDB':\n",
    "        args.target_node_type = 'movie'\n",
    "        print('\\nstart testing on ' + dataset + ' dataset')\n",
    "        f1s.append(main(args))\n",
    "    elif dataset == 'DBLP':\n",
    "        args.target_node_type = 'author'\n",
    "        print('\\nstart testing on ' + dataset + ' dataset')\n",
    "        f1s.append(main(args))"
   ]
  },
  {
   "cell_type": "code",
   "execution_count": 4,
   "metadata": {},
   "outputs": [],
   "source": [
    "f1s = np.array(f1s)"
   ]
  },
  {
   "cell_type": "code",
   "execution_count": null,
   "metadata": {},
   "outputs": [],
   "source": []
  }
 ],
 "metadata": {
  "kernelspec": {
   "display_name": "Python 3",
   "language": "python",
   "name": "python3"
  },
  "language_info": {
   "codemirror_mode": {
    "name": "ipython",
    "version": 3
   },
   "file_extension": ".py",
   "mimetype": "text/x-python",
   "name": "python",
   "nbconvert_exporter": "python",
   "pygments_lexer": "ipython3",
   "version": "3.8.8"
  }
 },
 "nbformat": 4,
 "nbformat_minor": 4
}
