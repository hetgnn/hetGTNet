{
 "cells": [
  {
   "cell_type": "code",
   "execution_count": 1,
   "metadata": {},
   "outputs": [
    {
     "name": "stderr",
     "output_type": "stream",
     "text": [
      "Using backend: pytorch\n"
     ]
    }
   ],
   "source": [
    "root_dir = '..' # dir of the source code\n",
    "import sys\n",
    "sys.path.append(root_dir)\n",
    "from train_homo import main\n",
    "import numpy as np"
   ]
  },
  {
   "cell_type": "code",
   "execution_count": 2,
   "metadata": {},
   "outputs": [],
   "source": [
    "class config:\n",
    "    data = 'ACM'\n",
    "    data_path = '../data/preprocessed/'\n",
    "    model = 'GCN'\n",
    "    n_hid = 64\n",
    "    dropout = 0.5\n",
    "    learning_rate = 0.005\n",
    "    weight_decay = 5e-5\n",
    "    patience = 100\n",
    "    num_iter = 500\n",
    "    num_test = 30\n",
    "    hop = 2\n",
    "    filter_pct = 0.1 # remove the top and bottom filer_pct points before obtaining statistics of test accuracy\n",
    "    log_step = 1000 # training log step\n",
    "    average = 'macro' # 'f1 average: can choose either macro or micro.'\n",
    "\n",
    "args = config()"
   ]
  },
  {
   "cell_type": "code",
   "execution_count": 3,
   "metadata": {
    "scrolled": false
   },
   "outputs": [
    {
     "name": "stdout",
     "output_type": "stream",
     "text": [
      "\n",
      "start testing on ACM dataset\n",
      "total time = 2.198, train time/epoch = 0.01317, best_val_f1 (macro) = 0.923, test_f1 (macro) = 0.909\n",
      "total time = 1.234, train time/epoch = 0.00579, best_val_f1 (macro) = 0.920, test_f1 (macro) = 0.897\n",
      "total time = 1.299, train time/epoch = 0.00589, best_val_f1 (macro) = 0.923, test_f1 (macro) = 0.898\n",
      "total time = 1.250, train time/epoch = 0.00603, best_val_f1 (macro) = 0.923, test_f1 (macro) = 0.895\n",
      "total time = 1.323, train time/epoch = 0.00619, best_val_f1 (macro) = 0.923, test_f1 (macro) = 0.903\n",
      "total time = 1.208, train time/epoch = 0.00608, best_val_f1 (macro) = 0.913, test_f1 (macro) = 0.902\n",
      "total time = 1.140, train time/epoch = 0.00589, best_val_f1 (macro) = 0.920, test_f1 (macro) = 0.900\n",
      "total time = 1.291, train time/epoch = 0.00586, best_val_f1 (macro) = 0.913, test_f1 (macro) = 0.911\n",
      "total time = 1.282, train time/epoch = 0.00587, best_val_f1 (macro) = 0.920, test_f1 (macro) = 0.900\n",
      "total time = 1.236, train time/epoch = 0.00592, best_val_f1 (macro) = 0.916, test_f1 (macro) = 0.894\n",
      "total time = 1.226, train time/epoch = 0.00589, best_val_f1 (macro) = 0.920, test_f1 (macro) = 0.911\n",
      "total time = 1.159, train time/epoch = 0.00580, best_val_f1 (macro) = 0.920, test_f1 (macro) = 0.895\n",
      "total time = 1.247, train time/epoch = 0.00587, best_val_f1 (macro) = 0.923, test_f1 (macro) = 0.894\n",
      "total time = 1.151, train time/epoch = 0.00586, best_val_f1 (macro) = 0.916, test_f1 (macro) = 0.889\n",
      "total time = 1.215, train time/epoch = 0.00582, best_val_f1 (macro) = 0.916, test_f1 (macro) = 0.890\n",
      "total time = 1.217, train time/epoch = 0.00584, best_val_f1 (macro) = 0.920, test_f1 (macro) = 0.909\n",
      "total time = 1.256, train time/epoch = 0.00592, best_val_f1 (macro) = 0.923, test_f1 (macro) = 0.898\n",
      "total time = 1.291, train time/epoch = 0.00584, best_val_f1 (macro) = 0.917, test_f1 (macro) = 0.897\n",
      "total time = 1.257, train time/epoch = 0.00585, best_val_f1 (macro) = 0.920, test_f1 (macro) = 0.907\n",
      "total time = 1.238, train time/epoch = 0.00590, best_val_f1 (macro) = 0.917, test_f1 (macro) = 0.914\n",
      "total time = 1.246, train time/epoch = 0.00585, best_val_f1 (macro) = 0.916, test_f1 (macro) = 0.916\n",
      "total time = 1.231, train time/epoch = 0.00593, best_val_f1 (macro) = 0.916, test_f1 (macro) = 0.913\n",
      "total time = 1.345, train time/epoch = 0.00588, best_val_f1 (macro) = 0.923, test_f1 (macro) = 0.908\n",
      "total time = 1.267, train time/epoch = 0.00593, best_val_f1 (macro) = 0.916, test_f1 (macro) = 0.911\n",
      "total time = 1.316, train time/epoch = 0.00589, best_val_f1 (macro) = 0.920, test_f1 (macro) = 0.913\n",
      "total time = 1.249, train time/epoch = 0.00587, best_val_f1 (macro) = 0.920, test_f1 (macro) = 0.915\n",
      "total time = 1.271, train time/epoch = 0.00585, best_val_f1 (macro) = 0.917, test_f1 (macro) = 0.909\n",
      "total time = 1.250, train time/epoch = 0.00592, best_val_f1 (macro) = 0.914, test_f1 (macro) = 0.896\n",
      "total time = 1.164, train time/epoch = 0.00591, best_val_f1 (macro) = 0.916, test_f1 (macro) = 0.900\n",
      "total time = 1.400, train time/epoch = 0.00589, best_val_f1 (macro) = 0.920, test_f1 (macro) = 0.902\n",
      "test macro-f1 (mean, std):  0.9031618922376657 0.00794202380259677\n",
      "test macro-f1 (mean, std) after filter:  0.9032388739624727 0.006453290189753056\n",
      "\n",
      "start testing on IMDB dataset\n",
      "total time = 1.373, train time/epoch = 0.00562, best_val_f1 (macro) = 0.603, test_f1 (macro) = 0.566\n",
      "total time = 1.273, train time/epoch = 0.00558, best_val_f1 (macro) = 0.603, test_f1 (macro) = 0.567\n",
      "total time = 1.163, train time/epoch = 0.00560, best_val_f1 (macro) = 0.606, test_f1 (macro) = 0.586\n",
      "total time = 1.201, train time/epoch = 0.00560, best_val_f1 (macro) = 0.606, test_f1 (macro) = 0.591\n",
      "total time = 1.256, train time/epoch = 0.00569, best_val_f1 (macro) = 0.609, test_f1 (macro) = 0.571\n",
      "total time = 3.294, train time/epoch = 0.00575, best_val_f1 (macro) = 0.605, test_f1 (macro) = 0.559\n",
      "total time = 1.266, train time/epoch = 0.00561, best_val_f1 (macro) = 0.604, test_f1 (macro) = 0.576\n",
      "total time = 1.141, train time/epoch = 0.00563, best_val_f1 (macro) = 0.625, test_f1 (macro) = 0.573\n",
      "total time = 1.241, train time/epoch = 0.00558, best_val_f1 (macro) = 0.619, test_f1 (macro) = 0.572\n",
      "total time = 1.180, train time/epoch = 0.00562, best_val_f1 (macro) = 0.636, test_f1 (macro) = 0.581\n",
      "total time = 1.276, train time/epoch = 0.00562, best_val_f1 (macro) = 0.610, test_f1 (macro) = 0.565\n",
      "total time = 1.172, train time/epoch = 0.00558, best_val_f1 (macro) = 0.609, test_f1 (macro) = 0.591\n",
      "total time = 1.224, train time/epoch = 0.00559, best_val_f1 (macro) = 0.606, test_f1 (macro) = 0.583\n",
      "total time = 1.117, train time/epoch = 0.00561, best_val_f1 (macro) = 0.613, test_f1 (macro) = 0.597\n",
      "total time = 1.225, train time/epoch = 0.00563, best_val_f1 (macro) = 0.617, test_f1 (macro) = 0.551\n",
      "total time = 1.219, train time/epoch = 0.00603, best_val_f1 (macro) = 0.620, test_f1 (macro) = 0.588\n",
      "total time = 1.332, train time/epoch = 0.00559, best_val_f1 (macro) = 0.593, test_f1 (macro) = 0.568\n",
      "total time = 1.140, train time/epoch = 0.00556, best_val_f1 (macro) = 0.626, test_f1 (macro) = 0.587\n",
      "total time = 1.226, train time/epoch = 0.00561, best_val_f1 (macro) = 0.617, test_f1 (macro) = 0.563\n",
      "total time = 1.249, train time/epoch = 0.00562, best_val_f1 (macro) = 0.592, test_f1 (macro) = 0.569\n",
      "total time = 1.891, train time/epoch = 0.00562, best_val_f1 (macro) = 0.606, test_f1 (macro) = 0.570\n",
      "total time = 1.270, train time/epoch = 0.00562, best_val_f1 (macro) = 0.603, test_f1 (macro) = 0.568\n",
      "total time = 1.328, train time/epoch = 0.00560, best_val_f1 (macro) = 0.625, test_f1 (macro) = 0.554\n",
      "total time = 1.135, train time/epoch = 0.00569, best_val_f1 (macro) = 0.617, test_f1 (macro) = 0.589\n",
      "total time = 1.174, train time/epoch = 0.00604, best_val_f1 (macro) = 0.621, test_f1 (macro) = 0.573\n",
      "total time = 1.165, train time/epoch = 0.00589, best_val_f1 (macro) = 0.626, test_f1 (macro) = 0.569\n",
      "total time = 1.196, train time/epoch = 0.00586, best_val_f1 (macro) = 0.621, test_f1 (macro) = 0.574\n",
      "total time = 1.206, train time/epoch = 0.00595, best_val_f1 (macro) = 0.618, test_f1 (macro) = 0.571\n",
      "total time = 1.251, train time/epoch = 0.00565, best_val_f1 (macro) = 0.612, test_f1 (macro) = 0.564\n",
      "total time = 1.290, train time/epoch = 0.00565, best_val_f1 (macro) = 0.604, test_f1 (macro) = 0.565\n",
      "test macro-f1 (mean, std):  0.5733569765387397 0.011232517812635887\n",
      "test macro-f1 (mean, std) after filter:  0.5732258975405767 0.007956088897489267\n",
      "\n",
      "start testing on DBLP dataset\n",
      "total time = 1.989, train time/epoch = 0.00905, best_val_f1 (macro) = 0.860, test_f1 (macro) = 0.840\n",
      "total time = 2.036, train time/epoch = 0.00908, best_val_f1 (macro) = 0.857, test_f1 (macro) = 0.842\n",
      "total time = 2.088, train time/epoch = 0.00931, best_val_f1 (macro) = 0.853, test_f1 (macro) = 0.841\n",
      "total time = 2.049, train time/epoch = 0.00932, best_val_f1 (macro) = 0.858, test_f1 (macro) = 0.837\n",
      "total time = 2.021, train time/epoch = 0.00945, best_val_f1 (macro) = 0.845, test_f1 (macro) = 0.842\n",
      "total time = 2.169, train time/epoch = 0.00911, best_val_f1 (macro) = 0.850, test_f1 (macro) = 0.832\n",
      "total time = 2.021, train time/epoch = 0.00934, best_val_f1 (macro) = 0.860, test_f1 (macro) = 0.845\n",
      "total time = 2.013, train time/epoch = 0.00912, best_val_f1 (macro) = 0.850, test_f1 (macro) = 0.836\n",
      "total time = 1.990, train time/epoch = 0.00907, best_val_f1 (macro) = 0.855, test_f1 (macro) = 0.840\n",
      "total time = 1.993, train time/epoch = 0.00905, best_val_f1 (macro) = 0.850, test_f1 (macro) = 0.839\n",
      "total time = 2.005, train time/epoch = 0.00906, best_val_f1 (macro) = 0.842, test_f1 (macro) = 0.840\n",
      "total time = 2.054, train time/epoch = 0.00912, best_val_f1 (macro) = 0.856, test_f1 (macro) = 0.838\n",
      "total time = 1.866, train time/epoch = 0.00904, best_val_f1 (macro) = 0.853, test_f1 (macro) = 0.837\n",
      "total time = 1.906, train time/epoch = 0.00900, best_val_f1 (macro) = 0.843, test_f1 (macro) = 0.838\n",
      "total time = 1.926, train time/epoch = 0.00909, best_val_f1 (macro) = 0.857, test_f1 (macro) = 0.846\n",
      "total time = 1.987, train time/epoch = 0.00904, best_val_f1 (macro) = 0.848, test_f1 (macro) = 0.829\n",
      "total time = 1.960, train time/epoch = 0.00905, best_val_f1 (macro) = 0.845, test_f1 (macro) = 0.837\n",
      "total time = 2.009, train time/epoch = 0.00934, best_val_f1 (macro) = 0.863, test_f1 (macro) = 0.839\n"
     ]
    },
    {
     "name": "stdout",
     "output_type": "stream",
     "text": [
      "total time = 2.118, train time/epoch = 0.00954, best_val_f1 (macro) = 0.858, test_f1 (macro) = 0.842\n",
      "total time = 2.062, train time/epoch = 0.00931, best_val_f1 (macro) = 0.850, test_f1 (macro) = 0.840\n",
      "total time = 1.953, train time/epoch = 0.00939, best_val_f1 (macro) = 0.856, test_f1 (macro) = 0.842\n",
      "total time = 1.963, train time/epoch = 0.00915, best_val_f1 (macro) = 0.845, test_f1 (macro) = 0.836\n",
      "total time = 2.053, train time/epoch = 0.00927, best_val_f1 (macro) = 0.835, test_f1 (macro) = 0.837\n",
      "total time = 2.057, train time/epoch = 0.00926, best_val_f1 (macro) = 0.847, test_f1 (macro) = 0.834\n",
      "total time = 2.260, train time/epoch = 0.00904, best_val_f1 (macro) = 0.839, test_f1 (macro) = 0.827\n",
      "total time = 2.063, train time/epoch = 0.00908, best_val_f1 (macro) = 0.848, test_f1 (macro) = 0.831\n",
      "total time = 2.161, train time/epoch = 0.00963, best_val_f1 (macro) = 0.850, test_f1 (macro) = 0.834\n",
      "total time = 2.025, train time/epoch = 0.00929, best_val_f1 (macro) = 0.853, test_f1 (macro) = 0.843\n",
      "total time = 1.976, train time/epoch = 0.00899, best_val_f1 (macro) = 0.840, test_f1 (macro) = 0.838\n",
      "total time = 2.010, train time/epoch = 0.00906, best_val_f1 (macro) = 0.850, test_f1 (macro) = 0.841\n",
      "test macro-f1 (mean, std):  0.8380377658296777 0.004311716586060572\n",
      "test macro-f1 (mean, std) after filter:  0.8384019153722247 0.00275631369401514\n"
     ]
    }
   ],
   "source": [
    "f1s = []\n",
    "datasets = ['ACM', 'IMDB', 'DBLP']\n",
    "for dataset in datasets:\n",
    "    args.data = dataset\n",
    "    if dataset == 'ACM':\n",
    "        print('\\nstart testing on ' + dataset + ' dataset')\n",
    "        f1s.append(main(args))\n",
    "    elif dataset == 'IMDB':\n",
    "        print('\\nstart testing on ' + dataset + ' dataset')\n",
    "        f1s.append(main(args))\n",
    "    elif dataset == 'DBLP':\n",
    "        print('\\nstart testing on ' + dataset + ' dataset')\n",
    "        f1s.append(main(args))"
   ]
  },
  {
   "cell_type": "code",
   "execution_count": 4,
   "metadata": {},
   "outputs": [],
   "source": [
    "f1s = np.array(f1s)"
   ]
  },
  {
   "cell_type": "code",
   "execution_count": null,
   "metadata": {},
   "outputs": [],
   "source": []
  }
 ],
 "metadata": {
  "kernelspec": {
   "display_name": "Python 3",
   "language": "python",
   "name": "python3"
  },
  "language_info": {
   "codemirror_mode": {
    "name": "ipython",
    "version": 3
   },
   "file_extension": ".py",
   "mimetype": "text/x-python",
   "name": "python",
   "nbconvert_exporter": "python",
   "pygments_lexer": "ipython3",
   "version": "3.8.8"
  }
 },
 "nbformat": 4,
 "nbformat_minor": 4
}
