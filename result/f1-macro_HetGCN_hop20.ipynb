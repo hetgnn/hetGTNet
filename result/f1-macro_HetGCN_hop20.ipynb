{
 "cells": [
  {
   "cell_type": "code",
   "execution_count": 1,
   "metadata": {},
   "outputs": [
    {
     "name": "stderr",
     "output_type": "stream",
     "text": [
      "Using backend: pytorch\n"
     ]
    }
   ],
   "source": [
    "root_dir = '..' # dir of the source code\n",
    "import sys\n",
    "sys.path.append(root_dir)\n",
    "from train import main\n",
    "import numpy as np"
   ]
  },
  {
   "cell_type": "code",
   "execution_count": 2,
   "metadata": {},
   "outputs": [],
   "source": [
    "class config:\n",
    "    data = 'ACM'\n",
    "    data_path = '../data/preprocessed/'\n",
    "    model = 'HetGCN'\n",
    "    target_node_type = 'paper'\n",
    "    n_hid = 64\n",
    "    dropout = 0.5\n",
    "    learning_rate = 0.005\n",
    "    weight_decay = 0\n",
    "    patience = 100\n",
    "    num_iter = 500\n",
    "    num_test = 30\n",
    "    hop = 20\n",
    "    filter_pct = 0.1 # remove the top and bottom filer_pct points before obtaining statistics of test accuracy\n",
    "    log_step = 1000 # training log step\n",
    "    layer_wise = True\n",
    "    average = 'macro' # 'f1 average: can choose either macro or micro.'\n",
    "\n",
    "args = config()"
   ]
  },
  {
   "cell_type": "code",
   "execution_count": 3,
   "metadata": {
    "scrolled": false
   },
   "outputs": [
    {
     "name": "stdout",
     "output_type": "stream",
     "text": [
      "\n",
      "start testing on ACM dataset\n",
      "total time = 32.076, train time/epoch = 0.16198, best_val_f1 (macro) = 0.525, test_f1 (macro) = 0.567\n",
      "total time = 34.307, train time/epoch = 0.15441, best_val_f1 (macro) = 0.510, test_f1 (macro) = 0.537\n",
      "total time = 109.546, train time/epoch = 0.15506, best_val_f1 (macro) = 0.901, test_f1 (macro) = 0.861\n",
      "total time = 51.080, train time/epoch = 0.15382, best_val_f1 (macro) = 0.772, test_f1 (macro) = 0.731\n",
      "total time = 22.168, train time/epoch = 0.15388, best_val_f1 (macro) = 0.167, test_f1 (macro) = 0.117\n",
      "total time = 69.310, train time/epoch = 0.15617, best_val_f1 (macro) = 0.634, test_f1 (macro) = 0.670\n",
      "total time = 95.069, train time/epoch = 0.15442, best_val_f1 (macro) = 0.907, test_f1 (macro) = 0.867\n",
      "total time = 36.012, train time/epoch = 0.15545, best_val_f1 (macro) = 0.570, test_f1 (macro) = 0.608\n",
      "total time = 33.469, train time/epoch = 0.15690, best_val_f1 (macro) = 0.524, test_f1 (macro) = 0.580\n",
      "total time = 81.077, train time/epoch = 0.15472, best_val_f1 (macro) = 0.896, test_f1 (macro) = 0.843\n",
      "total time = 48.469, train time/epoch = 0.15537, best_val_f1 (macro) = 0.528, test_f1 (macro) = 0.570\n",
      "total time = 99.449, train time/epoch = 0.15578, best_val_f1 (macro) = 0.898, test_f1 (macro) = 0.872\n",
      "total time = 80.920, train time/epoch = 0.15500, best_val_f1 (macro) = 0.871, test_f1 (macro) = 0.841\n",
      "total time = 39.971, train time/epoch = 0.15630, best_val_f1 (macro) = 0.525, test_f1 (macro) = 0.452\n",
      "total time = 36.378, train time/epoch = 0.15712, best_val_f1 (macro) = 0.528, test_f1 (macro) = 0.571\n",
      "total time = 30.116, train time/epoch = 0.15462, best_val_f1 (macro) = 0.525, test_f1 (macro) = 0.568\n",
      "total time = 28.571, train time/epoch = 0.15580, best_val_f1 (macro) = 0.528, test_f1 (macro) = 0.567\n",
      "total time = 99.507, train time/epoch = 0.15621, best_val_f1 (macro) = 0.888, test_f1 (macro) = 0.864\n",
      "total time = 55.983, train time/epoch = 0.15604, best_val_f1 (macro) = 0.745, test_f1 (macro) = 0.697\n",
      "total time = 35.024, train time/epoch = 0.15512, best_val_f1 (macro) = 0.539, test_f1 (macro) = 0.581\n",
      "total time = 104.625, train time/epoch = 0.15525, best_val_f1 (macro) = 0.821, test_f1 (macro) = 0.795\n",
      "total time = 30.592, train time/epoch = 0.15584, best_val_f1 (macro) = 0.517, test_f1 (macro) = 0.546\n",
      "total time = 74.331, train time/epoch = 0.15441, best_val_f1 (macro) = 0.888, test_f1 (macro) = 0.860\n",
      "total time = 94.866, train time/epoch = 0.15605, best_val_f1 (macro) = 0.882, test_f1 (macro) = 0.868\n",
      "total time = 30.984, train time/epoch = 0.15466, best_val_f1 (macro) = 0.463, test_f1 (macro) = 0.387\n",
      "total time = 67.103, train time/epoch = 0.15474, best_val_f1 (macro) = 0.871, test_f1 (macro) = 0.864\n",
      "total time = 39.728, train time/epoch = 0.15442, best_val_f1 (macro) = 0.622, test_f1 (macro) = 0.623\n",
      "total time = 31.090, train time/epoch = 0.15731, best_val_f1 (macro) = 0.497, test_f1 (macro) = 0.488\n",
      "total time = 36.166, train time/epoch = 0.15611, best_val_f1 (macro) = 0.529, test_f1 (macro) = 0.580\n",
      "total time = 32.273, train time/epoch = 0.15453, best_val_f1 (macro) = 0.174, test_f1 (macro) = 0.235\n",
      "test macro-f1 (mean, std):  0.6403865262378354 0.19063063922239126\n",
      "test macro-f1 (mean, std) after filter:  0.6610530598443897 0.13234933700529478\n",
      "\n",
      "start testing on IMDB dataset\n",
      "total time = 21.949, train time/epoch = 0.15280, best_val_f1 (macro) = 0.167, test_f1 (macro) = 0.180\n",
      "total time = 22.275, train time/epoch = 0.15510, best_val_f1 (macro) = 0.167, test_f1 (macro) = 0.180\n",
      "total time = 22.237, train time/epoch = 0.15486, best_val_f1 (macro) = 0.167, test_f1 (macro) = 0.135\n",
      "total time = 22.122, train time/epoch = 0.15383, best_val_f1 (macro) = 0.167, test_f1 (macro) = 0.135\n",
      "total time = 22.696, train time/epoch = 0.15772, best_val_f1 (macro) = 0.167, test_f1 (macro) = 0.182\n",
      "total time = 74.987, train time/epoch = 0.15543, best_val_f1 (macro) = 0.422, test_f1 (macro) = 0.406\n",
      "total time = 22.159, train time/epoch = 0.15438, best_val_f1 (macro) = 0.167, test_f1 (macro) = 0.182\n",
      "total time = 22.198, train time/epoch = 0.15455, best_val_f1 (macro) = 0.167, test_f1 (macro) = 0.135\n",
      "total time = 22.197, train time/epoch = 0.15425, best_val_f1 (macro) = 0.167, test_f1 (macro) = 0.135\n",
      "total time = 22.268, train time/epoch = 0.15486, best_val_f1 (macro) = 0.167, test_f1 (macro) = 0.135\n",
      "total time = 35.507, train time/epoch = 0.15643, best_val_f1 (macro) = 0.299, test_f1 (macro) = 0.310\n",
      "total time = 22.696, train time/epoch = 0.15767, best_val_f1 (macro) = 0.167, test_f1 (macro) = 0.180\n",
      "total time = 22.113, train time/epoch = 0.15417, best_val_f1 (macro) = 0.167, test_f1 (macro) = 0.182\n",
      "total time = 22.108, train time/epoch = 0.15393, best_val_f1 (macro) = 0.167, test_f1 (macro) = 0.180\n",
      "total time = 22.232, train time/epoch = 0.15468, best_val_f1 (macro) = 0.167, test_f1 (macro) = 0.135\n",
      "total time = 22.144, train time/epoch = 0.15437, best_val_f1 (macro) = 0.167, test_f1 (macro) = 0.182\n",
      "total time = 22.378, train time/epoch = 0.15570, best_val_f1 (macro) = 0.167, test_f1 (macro) = 0.135\n",
      "total time = 22.231, train time/epoch = 0.15459, best_val_f1 (macro) = 0.167, test_f1 (macro) = 0.135\n",
      "total time = 63.754, train time/epoch = 0.15695, best_val_f1 (macro) = 0.447, test_f1 (macro) = 0.414\n",
      "total time = 33.516, train time/epoch = 0.15359, best_val_f1 (macro) = 0.237, test_f1 (macro) = 0.251\n",
      "total time = 22.203, train time/epoch = 0.15442, best_val_f1 (macro) = 0.167, test_f1 (macro) = 0.180\n",
      "total time = 22.113, train time/epoch = 0.15383, best_val_f1 (macro) = 0.167, test_f1 (macro) = 0.182\n",
      "total time = 22.244, train time/epoch = 0.15477, best_val_f1 (macro) = 0.167, test_f1 (macro) = 0.182\n",
      "total time = 22.302, train time/epoch = 0.15520, best_val_f1 (macro) = 0.167, test_f1 (macro) = 0.135\n",
      "total time = 22.346, train time/epoch = 0.15531, best_val_f1 (macro) = 0.167, test_f1 (macro) = 0.182\n",
      "total time = 22.656, train time/epoch = 0.15749, best_val_f1 (macro) = 0.167, test_f1 (macro) = 0.135\n",
      "total time = 37.263, train time/epoch = 0.15457, best_val_f1 (macro) = 0.292, test_f1 (macro) = 0.316\n",
      "total time = 22.164, train time/epoch = 0.15416, best_val_f1 (macro) = 0.167, test_f1 (macro) = 0.135\n",
      "total time = 22.098, train time/epoch = 0.15394, best_val_f1 (macro) = 0.167, test_f1 (macro) = 0.180\n",
      "total time = 22.201, train time/epoch = 0.15443, best_val_f1 (macro) = 0.167, test_f1 (macro) = 0.182\n",
      "test macro-f1 (mean, std):  0.19067536871219073 0.07414122968404172\n",
      "test macro-f1 (mean, std) after filter:  0.17411254284877808 0.0393334299468829\n",
      "\n",
      "start testing on DBLP dataset\n",
      "total time = 39.647, train time/epoch = 0.27034, best_val_f1 (macro) = 0.100, test_f1 (macro) = 0.119\n",
      "total time = 39.927, train time/epoch = 0.27229, best_val_f1 (macro) = 0.100, test_f1 (macro) = 0.110\n",
      "total time = 40.064, train time/epoch = 0.27316, best_val_f1 (macro) = 0.100, test_f1 (macro) = 0.099\n",
      "total time = 39.731, train time/epoch = 0.27099, best_val_f1 (macro) = 0.100, test_f1 (macro) = 0.110\n",
      "total time = 39.849, train time/epoch = 0.27184, best_val_f1 (macro) = 0.100, test_f1 (macro) = 0.119\n",
      "total time = 39.759, train time/epoch = 0.27135, best_val_f1 (macro) = 0.100, test_f1 (macro) = 0.067\n",
      "total time = 39.786, train time/epoch = 0.27144, best_val_f1 (macro) = 0.100, test_f1 (macro) = 0.119\n",
      "total time = 39.993, train time/epoch = 0.27275, best_val_f1 (macro) = 0.100, test_f1 (macro) = 0.119\n",
      "total time = 40.234, train time/epoch = 0.27425, best_val_f1 (macro) = 0.100, test_f1 (macro) = 0.099\n",
      "total time = 75.820, train time/epoch = 0.27004, best_val_f1 (macro) = 0.125, test_f1 (macro) = 0.139\n",
      "total time = 39.763, train time/epoch = 0.27136, best_val_f1 (macro) = 0.100, test_f1 (macro) = 0.119\n",
      "total time = 39.719, train time/epoch = 0.27084, best_val_f1 (macro) = 0.100, test_f1 (macro) = 0.110\n",
      "total time = 40.126, train time/epoch = 0.27376, best_val_f1 (macro) = 0.100, test_f1 (macro) = 0.119\n",
      "total time = 40.236, train time/epoch = 0.27431, best_val_f1 (macro) = 0.100, test_f1 (macro) = 0.110\n",
      "total time = 39.825, train time/epoch = 0.27169, best_val_f1 (macro) = 0.100, test_f1 (macro) = 0.119\n",
      "total time = 39.711, train time/epoch = 0.27090, best_val_f1 (macro) = 0.100, test_f1 (macro) = 0.119\n",
      "total time = 39.704, train time/epoch = 0.27094, best_val_f1 (macro) = 0.100, test_f1 (macro) = 0.119\n"
     ]
    },
    {
     "name": "stdout",
     "output_type": "stream",
     "text": [
      "total time = 39.730, train time/epoch = 0.27101, best_val_f1 (macro) = 0.100, test_f1 (macro) = 0.110\n",
      "total time = 39.953, train time/epoch = 0.27246, best_val_f1 (macro) = 0.100, test_f1 (macro) = 0.099\n",
      "total time = 40.135, train time/epoch = 0.27366, best_val_f1 (macro) = 0.100, test_f1 (macro) = 0.110\n",
      "total time = 39.918, train time/epoch = 0.27241, best_val_f1 (macro) = 0.100, test_f1 (macro) = 0.099\n",
      "total time = 39.673, train time/epoch = 0.27080, best_val_f1 (macro) = 0.100, test_f1 (macro) = 0.099\n",
      "total time = 39.669, train time/epoch = 0.27059, best_val_f1 (macro) = 0.100, test_f1 (macro) = 0.110\n",
      "total time = 69.479, train time/epoch = 0.27136, best_val_f1 (macro) = 0.120, test_f1 (macro) = 0.118\n",
      "total time = 40.133, train time/epoch = 0.27369, best_val_f1 (macro) = 0.100, test_f1 (macro) = 0.110\n",
      "total time = 39.942, train time/epoch = 0.27241, best_val_f1 (macro) = 0.100, test_f1 (macro) = 0.067\n",
      "total time = 39.782, train time/epoch = 0.27148, best_val_f1 (macro) = 0.100, test_f1 (macro) = 0.119\n",
      "total time = 39.669, train time/epoch = 0.27046, best_val_f1 (macro) = 0.100, test_f1 (macro) = 0.067\n",
      "total time = 39.816, train time/epoch = 0.27166, best_val_f1 (macro) = 0.100, test_f1 (macro) = 0.110\n",
      "total time = 39.745, train time/epoch = 0.27109, best_val_f1 (macro) = 0.100, test_f1 (macro) = 0.110\n",
      "test macro-f1 (mean, std):  0.10840221016378725 0.016066286032608346\n",
      "test macro-f1 (mean, std) after filter:  0.11135173443589132 0.007457091010107755\n"
     ]
    }
   ],
   "source": [
    "f1s = []\n",
    "datasets = ['ACM', 'IMDB', 'DBLP']\n",
    "for dataset in datasets:\n",
    "    args.data = dataset\n",
    "    if dataset == 'ACM':\n",
    "        args.dropout = 0.5\n",
    "        args.target_node_type = 'paper'\n",
    "        print('\\nstart testing on ' + dataset + ' dataset')\n",
    "        f1s.append(main(args))\n",
    "    elif dataset == 'IMDB':\n",
    "        args.dropout = 0.5\n",
    "        args.target_node_type = 'movie'\n",
    "        print('\\nstart testing on ' + dataset + ' dataset')\n",
    "        f1s.append(main(args))\n",
    "    elif dataset == 'DBLP':\n",
    "        args.dropout = 0\n",
    "        args.target_node_type = 'author'\n",
    "        print('\\nstart testing on ' + dataset + ' dataset')\n",
    "        f1s.append(main(args))"
   ]
  },
  {
   "cell_type": "code",
   "execution_count": 4,
   "metadata": {},
   "outputs": [],
   "source": [
    "f1s = np.array(f1s)"
   ]
  },
  {
   "cell_type": "code",
   "execution_count": 5,
   "metadata": {},
   "outputs": [
    {
     "data": {
      "text/plain": [
       "(0.7989068982465033, 0.08396533303379296)"
      ]
     },
     "execution_count": 5,
     "metadata": {},
     "output_type": "execute_result"
    }
   ],
   "source": [
    "from utils import remove_edge_pts\n",
    "# remove some unstable results\n",
    "f1_ACM = f1s[0][f1s[0] > 0.6]\n",
    "f1 = remove_edge_pts(f1_ACM, pct=args.filter_pct)\n",
    "f1.mean(), f1.std()"
   ]
  },
  {
   "cell_type": "code",
   "execution_count": 6,
   "metadata": {},
   "outputs": [
    {
     "data": {
      "text/plain": [
       "(0.3392965998865502, 0.06205970121385553)"
      ]
     },
     "execution_count": 6,
     "metadata": {},
     "output_type": "execute_result"
    }
   ],
   "source": [
    "f1_IMDB = f1s[1][f1s[1] > 0.2]\n",
    "f1 = remove_edge_pts(f1_IMDB, pct=args.filter_pct)\n",
    "f1.mean(), f1.std()"
   ]
  },
  {
   "cell_type": "code",
   "execution_count": 7,
   "metadata": {},
   "outputs": [
    {
     "data": {
      "text/plain": [
       "(0.11532603507887634, 0.004474884643716537)"
      ]
     },
     "execution_count": 7,
     "metadata": {},
     "output_type": "execute_result"
    }
   ],
   "source": [
    "f1_DBLP = f1s[2][f1s[2] > 0.1]\n",
    "f1 = remove_edge_pts(f1_DBLP, pct=args.filter_pct)\n",
    "f1.mean(), f1.std()"
   ]
  },
  {
   "cell_type": "code",
   "execution_count": null,
   "metadata": {},
   "outputs": [],
   "source": []
  }
 ],
 "metadata": {
  "kernelspec": {
   "display_name": "Python 3",
   "language": "python",
   "name": "python3"
  },
  "language_info": {
   "codemirror_mode": {
    "name": "ipython",
    "version": 3
   },
   "file_extension": ".py",
   "mimetype": "text/x-python",
   "name": "python",
   "nbconvert_exporter": "python",
   "pygments_lexer": "ipython3",
   "version": "3.8.8"
  }
 },
 "nbformat": 4,
 "nbformat_minor": 4
}
