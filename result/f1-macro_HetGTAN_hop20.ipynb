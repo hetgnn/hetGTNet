{
 "cells": [
  {
   "cell_type": "code",
   "execution_count": 1,
   "metadata": {},
   "outputs": [
    {
     "name": "stderr",
     "output_type": "stream",
     "text": [
      "Using backend: pytorch\n"
     ]
    }
   ],
   "source": [
    "root_dir = '..' # dir of the source code\n",
    "import sys\n",
    "sys.path.append(root_dir)\n",
    "from train import main\n",
    "import numpy as np"
   ]
  },
  {
   "cell_type": "code",
   "execution_count": 2,
   "metadata": {},
   "outputs": [],
   "source": [
    "class config:\n",
    "    data = 'ACM'\n",
    "    data_path = '../data/preprocessed/'\n",
    "    model = 'HetGTAN'\n",
    "    target_node_type = 'paper'\n",
    "    n_hid = 64\n",
    "    dropout = 0.8\n",
    "    dropout2 = 0.2\n",
    "    learning_rate = 0.005\n",
    "    weight_decay = 5e-5\n",
    "    patience = 100\n",
    "    num_iter = 500\n",
    "    num_test = 30\n",
    "    hop = 20\n",
    "    filter_pct = 0.1 # remove the top and bottom filer_pct points before obtaining statistics of test accuracy\n",
    "    log_step = 1000 # training log step\n",
    "    layer_wise = True\n",
    "    average = 'macro' # 'f1 average: can choose either macro or micro.'\n",
    "\n",
    "args = config()"
   ]
  },
  {
   "cell_type": "code",
   "execution_count": 3,
   "metadata": {
    "scrolled": false
   },
   "outputs": [
    {
     "name": "stdout",
     "output_type": "stream",
     "text": [
      "\n",
      "start testing on ACM dataset\n",
      "total time = 28.763, train time/epoch = 0.14545, best_val_f1 (macro) = 0.937, test_f1 (macro) = 0.921\n",
      "total time = 46.994, train time/epoch = 0.13950, best_val_f1 (macro) = 0.930, test_f1 (macro) = 0.913\n",
      "total time = 33.453, train time/epoch = 0.14243, best_val_f1 (macro) = 0.930, test_f1 (macro) = 0.918\n",
      "total time = 41.075, train time/epoch = 0.13917, best_val_f1 (macro) = 0.930, test_f1 (macro) = 0.923\n",
      "total time = 25.678, train time/epoch = 0.14763, best_val_f1 (macro) = 0.930, test_f1 (macro) = 0.919\n",
      "total time = 23.486, train time/epoch = 0.13758, best_val_f1 (macro) = 0.930, test_f1 (macro) = 0.922\n",
      "total time = 24.002, train time/epoch = 0.13745, best_val_f1 (macro) = 0.927, test_f1 (macro) = 0.919\n",
      "total time = 33.993, train time/epoch = 0.13909, best_val_f1 (macro) = 0.927, test_f1 (macro) = 0.922\n",
      "total time = 18.839, train time/epoch = 0.13831, best_val_f1 (macro) = 0.929, test_f1 (macro) = 0.886\n",
      "total time = 45.908, train time/epoch = 0.13826, best_val_f1 (macro) = 0.930, test_f1 (macro) = 0.922\n",
      "total time = 33.074, train time/epoch = 0.14144, best_val_f1 (macro) = 0.927, test_f1 (macro) = 0.922\n",
      "total time = 30.674, train time/epoch = 0.14523, best_val_f1 (macro) = 0.924, test_f1 (macro) = 0.929\n",
      "total time = 23.652, train time/epoch = 0.14963, best_val_f1 (macro) = 0.926, test_f1 (macro) = 0.914\n",
      "total time = 38.567, train time/epoch = 0.15407, best_val_f1 (macro) = 0.923, test_f1 (macro) = 0.922\n",
      "total time = 40.744, train time/epoch = 0.14886, best_val_f1 (macro) = 0.934, test_f1 (macro) = 0.921\n",
      "total time = 34.691, train time/epoch = 0.15049, best_val_f1 (macro) = 0.927, test_f1 (macro) = 0.920\n",
      "total time = 20.571, train time/epoch = 0.15249, best_val_f1 (macro) = 0.937, test_f1 (macro) = 0.900\n",
      "total time = 26.932, train time/epoch = 0.15482, best_val_f1 (macro) = 0.930, test_f1 (macro) = 0.920\n",
      "total time = 31.274, train time/epoch = 0.15279, best_val_f1 (macro) = 0.937, test_f1 (macro) = 0.917\n",
      "total time = 52.606, train time/epoch = 0.14559, best_val_f1 (macro) = 0.927, test_f1 (macro) = 0.914\n",
      "total time = 34.550, train time/epoch = 0.14220, best_val_f1 (macro) = 0.934, test_f1 (macro) = 0.912\n",
      "total time = 50.182, train time/epoch = 0.14310, best_val_f1 (macro) = 0.927, test_f1 (macro) = 0.915\n",
      "total time = 47.003, train time/epoch = 0.14632, best_val_f1 (macro) = 0.927, test_f1 (macro) = 0.919\n",
      "total time = 32.603, train time/epoch = 0.15244, best_val_f1 (macro) = 0.924, test_f1 (macro) = 0.921\n",
      "total time = 19.547, train time/epoch = 0.14665, best_val_f1 (macro) = 0.930, test_f1 (macro) = 0.882\n",
      "total time = 43.339, train time/epoch = 0.14947, best_val_f1 (macro) = 0.934, test_f1 (macro) = 0.925\n",
      "total time = 28.613, train time/epoch = 0.14247, best_val_f1 (macro) = 0.936, test_f1 (macro) = 0.912\n",
      "total time = 27.543, train time/epoch = 0.14654, best_val_f1 (macro) = 0.940, test_f1 (macro) = 0.926\n",
      "total time = 37.996, train time/epoch = 0.14424, best_val_f1 (macro) = 0.933, test_f1 (macro) = 0.913\n",
      "total time = 38.221, train time/epoch = 0.15715, best_val_f1 (macro) = 0.930, test_f1 (macro) = 0.927\n",
      "test macro-f1 (mean, std):  0.9165348005539241 0.010404146955652203\n",
      "test macro-f1 (mean, std) after filter:  0.918636929552334 0.0037929258925718775\n",
      "\n",
      "start testing on IMDB dataset\n",
      "total time = 26.230, train time/epoch = 0.12996, best_val_f1 (macro) = 0.620, test_f1 (macro) = 0.600\n",
      "total time = 21.402, train time/epoch = 0.12601, best_val_f1 (macro) = 0.647, test_f1 (macro) = 0.604\n",
      "total time = 22.864, train time/epoch = 0.12400, best_val_f1 (macro) = 0.647, test_f1 (macro) = 0.619\n",
      "total time = 22.953, train time/epoch = 0.12553, best_val_f1 (macro) = 0.637, test_f1 (macro) = 0.613\n",
      "total time = 25.311, train time/epoch = 0.12556, best_val_f1 (macro) = 0.651, test_f1 (macro) = 0.614\n",
      "total time = 24.551, train time/epoch = 0.13288, best_val_f1 (macro) = 0.636, test_f1 (macro) = 0.611\n",
      "total time = 23.979, train time/epoch = 0.12880, best_val_f1 (macro) = 0.632, test_f1 (macro) = 0.613\n",
      "total time = 25.954, train time/epoch = 0.12861, best_val_f1 (macro) = 0.638, test_f1 (macro) = 0.609\n",
      "total time = 29.050, train time/epoch = 0.12561, best_val_f1 (macro) = 0.628, test_f1 (macro) = 0.576\n",
      "total time = 19.967, train time/epoch = 0.12445, best_val_f1 (macro) = 0.632, test_f1 (macro) = 0.608\n",
      "total time = 21.642, train time/epoch = 0.12448, best_val_f1 (macro) = 0.644, test_f1 (macro) = 0.612\n",
      "total time = 21.706, train time/epoch = 0.12504, best_val_f1 (macro) = 0.644, test_f1 (macro) = 0.612\n",
      "total time = 24.389, train time/epoch = 0.12879, best_val_f1 (macro) = 0.637, test_f1 (macro) = 0.611\n",
      "total time = 21.615, train time/epoch = 0.12765, best_val_f1 (macro) = 0.646, test_f1 (macro) = 0.613\n",
      "total time = 21.218, train time/epoch = 0.11845, best_val_f1 (macro) = 0.646, test_f1 (macro) = 0.607\n",
      "total time = 25.935, train time/epoch = 0.11969, best_val_f1 (macro) = 0.633, test_f1 (macro) = 0.593\n",
      "total time = 24.025, train time/epoch = 0.12225, best_val_f1 (macro) = 0.645, test_f1 (macro) = 0.610\n",
      "total time = 23.414, train time/epoch = 0.11610, best_val_f1 (macro) = 0.642, test_f1 (macro) = 0.611\n",
      "total time = 21.249, train time/epoch = 0.12611, best_val_f1 (macro) = 0.646, test_f1 (macro) = 0.611\n",
      "total time = 23.124, train time/epoch = 0.12255, best_val_f1 (macro) = 0.632, test_f1 (macro) = 0.600\n",
      "total time = 19.669, train time/epoch = 0.12163, best_val_f1 (macro) = 0.625, test_f1 (macro) = 0.612\n",
      "total time = 22.574, train time/epoch = 0.11976, best_val_f1 (macro) = 0.630, test_f1 (macro) = 0.606\n",
      "total time = 18.939, train time/epoch = 0.11603, best_val_f1 (macro) = 0.614, test_f1 (macro) = 0.606\n",
      "total time = 29.423, train time/epoch = 0.11720, best_val_f1 (macro) = 0.638, test_f1 (macro) = 0.599\n",
      "total time = 21.349, train time/epoch = 0.11546, best_val_f1 (macro) = 0.632, test_f1 (macro) = 0.613\n",
      "total time = 24.667, train time/epoch = 0.11673, best_val_f1 (macro) = 0.628, test_f1 (macro) = 0.608\n",
      "total time = 19.980, train time/epoch = 0.11669, best_val_f1 (macro) = 0.639, test_f1 (macro) = 0.606\n",
      "total time = 30.469, train time/epoch = 0.11574, best_val_f1 (macro) = 0.619, test_f1 (macro) = 0.590\n",
      "total time = 22.609, train time/epoch = 0.11587, best_val_f1 (macro) = 0.627, test_f1 (macro) = 0.602\n",
      "total time = 17.905, train time/epoch = 0.11557, best_val_f1 (macro) = 0.633, test_f1 (macro) = 0.600\n",
      "test macro-f1 (mean, std):  0.6063604912442871 0.008535545966976693\n",
      "test macro-f1 (mean, std) after filter:  0.6077550302290252 0.004545726462492642\n",
      "\n",
      "start testing on DBLP dataset\n",
      "total time = 44.792, train time/epoch = 0.23187, best_val_f1 (macro) = 0.963, test_f1 (macro) = 0.945\n",
      "total time = 44.993, train time/epoch = 0.23159, best_val_f1 (macro) = 0.955, test_f1 (macro) = 0.943\n",
      "total time = 46.014, train time/epoch = 0.23242, best_val_f1 (macro) = 0.955, test_f1 (macro) = 0.942\n",
      "total time = 42.315, train time/epoch = 0.23202, best_val_f1 (macro) = 0.953, test_f1 (macro) = 0.944\n",
      "total time = 42.380, train time/epoch = 0.23225, best_val_f1 (macro) = 0.958, test_f1 (macro) = 0.945\n",
      "total time = 43.417, train time/epoch = 0.24055, best_val_f1 (macro) = 0.953, test_f1 (macro) = 0.945\n",
      "total time = 50.960, train time/epoch = 0.23463, best_val_f1 (macro) = 0.960, test_f1 (macro) = 0.930\n",
      "total time = 47.263, train time/epoch = 0.23451, best_val_f1 (macro) = 0.960, test_f1 (macro) = 0.948\n",
      "total time = 40.215, train time/epoch = 0.23176, best_val_f1 (macro) = 0.958, test_f1 (macro) = 0.942\n",
      "total time = 42.682, train time/epoch = 0.23394, best_val_f1 (macro) = 0.960, test_f1 (macro) = 0.942\n",
      "total time = 46.406, train time/epoch = 0.23639, best_val_f1 (macro) = 0.958, test_f1 (macro) = 0.945\n",
      "total time = 38.142, train time/epoch = 0.23423, best_val_f1 (macro) = 0.950, test_f1 (macro) = 0.940\n",
      "total time = 46.569, train time/epoch = 0.23384, best_val_f1 (macro) = 0.965, test_f1 (macro) = 0.942\n",
      "total time = 39.674, train time/epoch = 0.23041, best_val_f1 (macro) = 0.957, test_f1 (macro) = 0.941\n",
      "total time = 37.891, train time/epoch = 0.23038, best_val_f1 (macro) = 0.953, test_f1 (macro) = 0.942\n",
      "total time = 38.165, train time/epoch = 0.23020, best_val_f1 (macro) = 0.953, test_f1 (macro) = 0.945\n",
      "total time = 39.445, train time/epoch = 0.23083, best_val_f1 (macro) = 0.958, test_f1 (macro) = 0.942\n"
     ]
    },
    {
     "name": "stdout",
     "output_type": "stream",
     "text": [
      "total time = 44.537, train time/epoch = 0.24689, best_val_f1 (macro) = 0.958, test_f1 (macro) = 0.943\n",
      "total time = 51.879, train time/epoch = 0.25293, best_val_f1 (macro) = 0.960, test_f1 (macro) = 0.945\n",
      "total time = 40.619, train time/epoch = 0.24438, best_val_f1 (macro) = 0.953, test_f1 (macro) = 0.940\n",
      "total time = 48.572, train time/epoch = 0.24480, best_val_f1 (macro) = 0.955, test_f1 (macro) = 0.941\n",
      "total time = 47.558, train time/epoch = 0.24635, best_val_f1 (macro) = 0.958, test_f1 (macro) = 0.948\n",
      "total time = 54.646, train time/epoch = 0.24048, best_val_f1 (macro) = 0.955, test_f1 (macro) = 0.945\n",
      "total time = 44.753, train time/epoch = 0.24279, best_val_f1 (macro) = 0.955, test_f1 (macro) = 0.939\n",
      "total time = 42.694, train time/epoch = 0.23957, best_val_f1 (macro) = 0.960, test_f1 (macro) = 0.944\n",
      "total time = 46.581, train time/epoch = 0.24060, best_val_f1 (macro) = 0.958, test_f1 (macro) = 0.943\n",
      "total time = 45.656, train time/epoch = 0.24244, best_val_f1 (macro) = 0.955, test_f1 (macro) = 0.946\n",
      "total time = 38.749, train time/epoch = 0.24240, best_val_f1 (macro) = 0.955, test_f1 (macro) = 0.939\n",
      "total time = 46.994, train time/epoch = 0.24518, best_val_f1 (macro) = 0.958, test_f1 (macro) = 0.945\n",
      "total time = 41.616, train time/epoch = 0.24709, best_val_f1 (macro) = 0.955, test_f1 (macro) = 0.944\n",
      "test macro-f1 (mean, std):  0.942893701910805 0.003223427895552104\n",
      "test macro-f1 (mean, std) after filter:  0.9432051726433887 0.001687621443835887\n"
     ]
    }
   ],
   "source": [
    "f1s = []\n",
    "datasets = ['ACM', 'IMDB', 'DBLP']\n",
    "for dataset in datasets:\n",
    "    args.data = dataset\n",
    "    if dataset == 'ACM':\n",
    "        args.dropout = 0.8\n",
    "        args.dropout2 = 0\n",
    "        args.target_node_type = 'paper'\n",
    "        print('\\nstart testing on ' + dataset + ' dataset')\n",
    "        f1s.append(main(args))\n",
    "    elif dataset == 'IMDB':\n",
    "        args.dropout = 0.8\n",
    "        args.dropout2 = 0.2\n",
    "        args.target_node_type = 'movie'\n",
    "        print('\\nstart testing on ' + dataset + ' dataset')\n",
    "        f1s.append(main(args))\n",
    "    elif dataset == 'DBLP':\n",
    "        args.dropout = 0\n",
    "        args.dropout2 = 0\n",
    "        args.target_node_type = 'author'\n",
    "        print('\\nstart testing on ' + dataset + ' dataset')\n",
    "        f1s.append(main(args))"
   ]
  },
  {
   "cell_type": "code",
   "execution_count": 4,
   "metadata": {},
   "outputs": [],
   "source": [
    "f1s = np.array(f1s)"
   ]
  },
  {
   "cell_type": "code",
   "execution_count": null,
   "metadata": {},
   "outputs": [],
   "source": []
  }
 ],
 "metadata": {
  "kernelspec": {
   "display_name": "Python 3",
   "language": "python",
   "name": "python3"
  },
  "language_info": {
   "codemirror_mode": {
    "name": "ipython",
    "version": 3
   },
   "file_extension": ".py",
   "mimetype": "text/x-python",
   "name": "python",
   "nbconvert_exporter": "python",
   "pygments_lexer": "ipython3",
   "version": "3.8.8"
  }
 },
 "nbformat": 4,
 "nbformat_minor": 4
}
