{
 "cells": [
  {
   "cell_type": "code",
   "execution_count": 1,
   "metadata": {},
   "outputs": [
    {
     "name": "stderr",
     "output_type": "stream",
     "text": [
      "Using backend: pytorch\n"
     ]
    }
   ],
   "source": [
    "root_dir = '..' # dir of the source code\n",
    "import sys\n",
    "sys.path.append(root_dir)\n",
    "from train import main\n",
    "import numpy as np"
   ]
  },
  {
   "cell_type": "code",
   "execution_count": 2,
   "metadata": {},
   "outputs": [],
   "source": [
    "class config:\n",
    "    data = 'ACM'\n",
    "    data_path = '../data/preprocessed/'\n",
    "    model = 'HetGTCN'\n",
    "    target_node_type = 'paper'\n",
    "    n_hid = 64\n",
    "    dropout = 0.8\n",
    "    dropout2 = 0.6\n",
    "    learning_rate = 0.005\n",
    "    weight_decay = 1e-5\n",
    "    patience = 100\n",
    "    num_iter = 500\n",
    "    num_test = 30\n",
    "    hop = 20\n",
    "    filter_pct = 0.1 # remove the top and bottom filer_pct points before obtaining statistics of test accuracy\n",
    "    log_step = 1000 # training log step\n",
    "    layer_wise = True\n",
    "    average = 'macro' # 'f1 average: can choose either macro or micro.'\n",
    "\n",
    "args = config()"
   ]
  },
  {
   "cell_type": "code",
   "execution_count": 3,
   "metadata": {
    "scrolled": false
   },
   "outputs": [
    {
     "name": "stdout",
     "output_type": "stream",
     "text": [
      "\n",
      "start testing on ACM dataset\n",
      "total time = 34.646, train time/epoch = 0.15866, best_val_f1 (macro) = 0.936, test_f1 (macro) = 0.922\n",
      "total time = 39.627, train time/epoch = 0.15721, best_val_f1 (macro) = 0.927, test_f1 (macro) = 0.919\n",
      "total time = 45.042, train time/epoch = 0.15908, best_val_f1 (macro) = 0.930, test_f1 (macro) = 0.920\n",
      "total time = 26.468, train time/epoch = 0.16187, best_val_f1 (macro) = 0.923, test_f1 (macro) = 0.889\n",
      "total time = 43.043, train time/epoch = 0.15372, best_val_f1 (macro) = 0.930, test_f1 (macro) = 0.929\n",
      "total time = 45.531, train time/epoch = 0.15222, best_val_f1 (macro) = 0.933, test_f1 (macro) = 0.929\n",
      "total time = 31.735, train time/epoch = 0.14994, best_val_f1 (macro) = 0.930, test_f1 (macro) = 0.924\n",
      "total time = 42.456, train time/epoch = 0.15166, best_val_f1 (macro) = 0.930, test_f1 (macro) = 0.924\n",
      "total time = 28.208, train time/epoch = 0.15264, best_val_f1 (macro) = 0.933, test_f1 (macro) = 0.932\n",
      "total time = 31.099, train time/epoch = 0.15066, best_val_f1 (macro) = 0.930, test_f1 (macro) = 0.922\n",
      "total time = 47.611, train time/epoch = 0.15652, best_val_f1 (macro) = 0.933, test_f1 (macro) = 0.923\n",
      "total time = 50.749, train time/epoch = 0.15566, best_val_f1 (macro) = 0.933, test_f1 (macro) = 0.920\n",
      "total time = 41.388, train time/epoch = 0.15162, best_val_f1 (macro) = 0.930, test_f1 (macro) = 0.925\n",
      "total time = 24.590, train time/epoch = 0.15477, best_val_f1 (macro) = 0.937, test_f1 (macro) = 0.914\n",
      "total time = 54.757, train time/epoch = 0.14924, best_val_f1 (macro) = 0.933, test_f1 (macro) = 0.921\n",
      "total time = 30.083, train time/epoch = 0.14925, best_val_f1 (macro) = 0.933, test_f1 (macro) = 0.926\n",
      "total time = 28.802, train time/epoch = 0.15339, best_val_f1 (macro) = 0.933, test_f1 (macro) = 0.926\n",
      "total time = 33.230, train time/epoch = 0.15076, best_val_f1 (macro) = 0.927, test_f1 (macro) = 0.924\n",
      "total time = 37.430, train time/epoch = 0.15220, best_val_f1 (macro) = 0.933, test_f1 (macro) = 0.927\n",
      "total time = 42.765, train time/epoch = 0.15253, best_val_f1 (macro) = 0.927, test_f1 (macro) = 0.927\n",
      "total time = 41.355, train time/epoch = 0.14989, best_val_f1 (macro) = 0.930, test_f1 (macro) = 0.922\n",
      "total time = 38.104, train time/epoch = 0.15075, best_val_f1 (macro) = 0.930, test_f1 (macro) = 0.927\n",
      "total time = 25.737, train time/epoch = 0.15097, best_val_f1 (macro) = 0.930, test_f1 (macro) = 0.920\n",
      "total time = 35.089, train time/epoch = 0.15158, best_val_f1 (macro) = 0.933, test_f1 (macro) = 0.922\n",
      "total time = 31.439, train time/epoch = 0.15230, best_val_f1 (macro) = 0.927, test_f1 (macro) = 0.925\n",
      "total time = 108.912, train time/epoch = 0.15322, best_val_f1 (macro) = 0.933, test_f1 (macro) = 0.918\n",
      "total time = 35.153, train time/epoch = 0.15548, best_val_f1 (macro) = 0.933, test_f1 (macro) = 0.924\n",
      "total time = 29.719, train time/epoch = 0.15925, best_val_f1 (macro) = 0.930, test_f1 (macro) = 0.907\n",
      "total time = 43.039, train time/epoch = 0.15305, best_val_f1 (macro) = 0.930, test_f1 (macro) = 0.930\n",
      "total time = 51.628, train time/epoch = 0.15653, best_val_f1 (macro) = 0.930, test_f1 (macro) = 0.927\n",
      "test macro-f1 (mean, std):  0.9221873837214559 0.0077113992406714965\n",
      "test macro-f1 (mean, std) after filter:  0.9234952685888643 0.002842169060901093\n",
      "\n",
      "start testing on IMDB dataset\n",
      "total time = 41.522, train time/epoch = 0.15114, best_val_f1 (macro) = 0.612, test_f1 (macro) = 0.597\n",
      "total time = 57.208, train time/epoch = 0.14951, best_val_f1 (macro) = 0.634, test_f1 (macro) = 0.606\n",
      "total time = 45.107, train time/epoch = 0.15310, best_val_f1 (macro) = 0.638, test_f1 (macro) = 0.609\n",
      "total time = 102.599, train time/epoch = 0.15150, best_val_f1 (macro) = 0.607, test_f1 (macro) = 0.575\n",
      "total time = 39.552, train time/epoch = 0.15508, best_val_f1 (macro) = 0.651, test_f1 (macro) = 0.613\n",
      "total time = 52.329, train time/epoch = 0.15636, best_val_f1 (macro) = 0.640, test_f1 (macro) = 0.602\n",
      "total time = 46.549, train time/epoch = 0.15437, best_val_f1 (macro) = 0.634, test_f1 (macro) = 0.609\n",
      "total time = 48.883, train time/epoch = 0.15479, best_val_f1 (macro) = 0.639, test_f1 (macro) = 0.600\n",
      "total time = 37.239, train time/epoch = 0.15697, best_val_f1 (macro) = 0.609, test_f1 (macro) = 0.599\n",
      "total time = 51.995, train time/epoch = 0.15422, best_val_f1 (macro) = 0.646, test_f1 (macro) = 0.605\n",
      "total time = 49.646, train time/epoch = 0.15706, best_val_f1 (macro) = 0.657, test_f1 (macro) = 0.613\n",
      "total time = 37.386, train time/epoch = 0.15635, best_val_f1 (macro) = 0.645, test_f1 (macro) = 0.612\n",
      "total time = 44.980, train time/epoch = 0.16443, best_val_f1 (macro) = 0.643, test_f1 (macro) = 0.604\n",
      "total time = 33.351, train time/epoch = 0.15517, best_val_f1 (macro) = 0.630, test_f1 (macro) = 0.614\n",
      "total time = 38.649, train time/epoch = 0.15785, best_val_f1 (macro) = 0.631, test_f1 (macro) = 0.606\n",
      "total time = 35.023, train time/epoch = 0.15686, best_val_f1 (macro) = 0.648, test_f1 (macro) = 0.615\n",
      "total time = 42.139, train time/epoch = 0.15035, best_val_f1 (macro) = 0.647, test_f1 (macro) = 0.616\n",
      "total time = 40.618, train time/epoch = 0.14499, best_val_f1 (macro) = 0.633, test_f1 (macro) = 0.608\n",
      "total time = 47.150, train time/epoch = 0.14462, best_val_f1 (macro) = 0.637, test_f1 (macro) = 0.604\n",
      "total time = 54.457, train time/epoch = 0.14661, best_val_f1 (macro) = 0.655, test_f1 (macro) = 0.615\n",
      "total time = 52.347, train time/epoch = 0.14436, best_val_f1 (macro) = 0.633, test_f1 (macro) = 0.608\n",
      "total time = 53.587, train time/epoch = 0.14431, best_val_f1 (macro) = 0.626, test_f1 (macro) = 0.599\n",
      "total time = 39.536, train time/epoch = 0.14547, best_val_f1 (macro) = 0.618, test_f1 (macro) = 0.595\n",
      "total time = 50.278, train time/epoch = 0.14607, best_val_f1 (macro) = 0.640, test_f1 (macro) = 0.609\n",
      "total time = 27.023, train time/epoch = 0.14398, best_val_f1 (macro) = 0.608, test_f1 (macro) = 0.599\n",
      "total time = 35.458, train time/epoch = 0.14412, best_val_f1 (macro) = 0.636, test_f1 (macro) = 0.612\n",
      "total time = 33.562, train time/epoch = 0.14397, best_val_f1 (macro) = 0.624, test_f1 (macro) = 0.594\n",
      "total time = 42.702, train time/epoch = 0.14636, best_val_f1 (macro) = 0.616, test_f1 (macro) = 0.597\n",
      "total time = 60.630, train time/epoch = 0.14588, best_val_f1 (macro) = 0.622, test_f1 (macro) = 0.597\n",
      "total time = 33.511, train time/epoch = 0.14461, best_val_f1 (macro) = 0.621, test_f1 (macro) = 0.598\n",
      "test macro-f1 (mean, std):  0.6043327155913976 0.008575314500784149\n",
      "test macro-f1 (mean, std) after filter:  0.6049637649278342 0.005742988025263931\n",
      "\n",
      "start testing on DBLP dataset\n",
      "total time = 88.564, train time/epoch = 0.25876, best_val_f1 (macro) = 0.945, test_f1 (macro) = 0.938\n",
      "total time = 104.703, train time/epoch = 0.25991, best_val_f1 (macro) = 0.948, test_f1 (macro) = 0.945\n",
      "total time = 69.675, train time/epoch = 0.25936, best_val_f1 (macro) = 0.940, test_f1 (macro) = 0.938\n",
      "total time = 129.289, train time/epoch = 0.27066, best_val_f1 (macro) = 0.948, test_f1 (macro) = 0.943\n",
      "total time = 135.252, train time/epoch = 0.27564, best_val_f1 (macro) = 0.950, test_f1 (macro) = 0.945\n",
      "total time = 109.534, train time/epoch = 0.28061, best_val_f1 (macro) = 0.948, test_f1 (macro) = 0.946\n",
      "total time = 106.949, train time/epoch = 0.27924, best_val_f1 (macro) = 0.940, test_f1 (macro) = 0.944\n",
      "total time = 173.100, train time/epoch = 0.27688, best_val_f1 (macro) = 0.948, test_f1 (macro) = 0.942\n",
      "total time = 145.274, train time/epoch = 0.27786, best_val_f1 (macro) = 0.950, test_f1 (macro) = 0.944\n",
      "total time = 125.050, train time/epoch = 0.27745, best_val_f1 (macro) = 0.955, test_f1 (macro) = 0.945\n",
      "total time = 121.593, train time/epoch = 0.27795, best_val_f1 (macro) = 0.950, test_f1 (macro) = 0.943\n",
      "total time = 132.974, train time/epoch = 0.28057, best_val_f1 (macro) = 0.943, test_f1 (macro) = 0.942\n",
      "total time = 155.703, train time/epoch = 0.28671, best_val_f1 (macro) = 0.948, test_f1 (macro) = 0.941\n",
      "total time = 153.027, train time/epoch = 0.27258, best_val_f1 (macro) = 0.948, test_f1 (macro) = 0.944\n",
      "total time = 390.499, train time/epoch = 0.93237, best_val_f1 (macro) = 0.948, test_f1 (macro) = 0.943\n",
      "total time = 757.573, train time/epoch = 1.41479, best_val_f1 (macro) = 0.948, test_f1 (macro) = 0.944\n",
      "total time = 683.068, train time/epoch = 1.62295, best_val_f1 (macro) = 0.950, test_f1 (macro) = 0.942\n"
     ]
    },
    {
     "name": "stdout",
     "output_type": "stream",
     "text": [
      "total time = 578.919, train time/epoch = 1.34283, best_val_f1 (macro) = 0.940, test_f1 (macro) = 0.942\n",
      "total time = 334.876, train time/epoch = 1.20730, best_val_f1 (macro) = 0.940, test_f1 (macro) = 0.936\n",
      "total time = 495.609, train time/epoch = 1.35077, best_val_f1 (macro) = 0.948, test_f1 (macro) = 0.941\n",
      "total time = 631.540, train time/epoch = 1.46091, best_val_f1 (macro) = 0.947, test_f1 (macro) = 0.942\n",
      "total time = 807.332, train time/epoch = 1.45481, best_val_f1 (macro) = 0.943, test_f1 (macro) = 0.942\n",
      "total time = 628.581, train time/epoch = 1.52814, best_val_f1 (macro) = 0.940, test_f1 (macro) = 0.941\n",
      "total time = 463.974, train time/epoch = 1.10137, best_val_f1 (macro) = 0.947, test_f1 (macro) = 0.942\n",
      "total time = 155.686, train time/epoch = 0.26337, best_val_f1 (macro) = 0.948, test_f1 (macro) = 0.946\n",
      "total time = 108.118, train time/epoch = 0.25852, best_val_f1 (macro) = 0.940, test_f1 (macro) = 0.940\n",
      "total time = 117.965, train time/epoch = 0.25957, best_val_f1 (macro) = 0.948, test_f1 (macro) = 0.946\n",
      "total time = 112.489, train time/epoch = 0.25832, best_val_f1 (macro) = 0.948, test_f1 (macro) = 0.940\n",
      "total time = 83.635, train time/epoch = 0.26212, best_val_f1 (macro) = 0.948, test_f1 (macro) = 0.939\n",
      "total time = 120.175, train time/epoch = 0.26100, best_val_f1 (macro) = 0.943, test_f1 (macro) = 0.943\n",
      "test macro-f1 (mean, std):  0.9422742588272737 0.0024325573397905847\n",
      "test macro-f1 (mean, std) after filter:  0.9424285057372392 0.0015297720810740496\n"
     ]
    }
   ],
   "source": [
    "f1s = []\n",
    "datasets = ['ACM', 'IMDB', 'DBLP']\n",
    "for dataset in datasets:\n",
    "    args.data = dataset\n",
    "    if dataset == 'ACM':\n",
    "        args.target_node_type = 'paper'\n",
    "        print('\\nstart testing on ' + dataset + ' dataset')\n",
    "        f1s.append(main(args))\n",
    "    elif dataset == 'IMDB':\n",
    "        args.target_node_type = 'movie'\n",
    "        print('\\nstart testing on ' + dataset + ' dataset')\n",
    "        f1s.append(main(args))\n",
    "    elif dataset == 'DBLP':\n",
    "        args.target_node_type = 'author'\n",
    "        print('\\nstart testing on ' + dataset + ' dataset')\n",
    "        f1s.append(main(args))"
   ]
  },
  {
   "cell_type": "code",
   "execution_count": 4,
   "metadata": {},
   "outputs": [],
   "source": [
    "f1s = np.array(f1s)"
   ]
  },
  {
   "cell_type": "code",
   "execution_count": null,
   "metadata": {},
   "outputs": [],
   "source": []
  }
 ],
 "metadata": {
  "kernelspec": {
   "display_name": "Python 3",
   "language": "python",
   "name": "python3"
  },
  "language_info": {
   "codemirror_mode": {
    "name": "ipython",
    "version": 3
   },
   "file_extension": ".py",
   "mimetype": "text/x-python",
   "name": "python",
   "nbconvert_exporter": "python",
   "pygments_lexer": "ipython3",
   "version": "3.8.8"
  }
 },
 "nbformat": 4,
 "nbformat_minor": 4
}
