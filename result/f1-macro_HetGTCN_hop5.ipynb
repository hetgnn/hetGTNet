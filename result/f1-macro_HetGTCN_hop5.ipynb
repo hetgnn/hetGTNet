{
 "cells": [
  {
   "cell_type": "code",
   "execution_count": 1,
   "metadata": {},
   "outputs": [
    {
     "name": "stderr",
     "output_type": "stream",
     "text": [
      "Using backend: pytorch\n"
     ]
    }
   ],
   "source": [
    "root_dir = '..' # dir of the source code\n",
    "import sys\n",
    "sys.path.append(root_dir)\n",
    "from train import main\n",
    "import numpy as np"
   ]
  },
  {
   "cell_type": "code",
   "execution_count": 2,
   "metadata": {},
   "outputs": [],
   "source": [
    "class config:\n",
    "    data = 'ACM'\n",
    "    data_path = '../data/preprocessed/'\n",
    "    model = 'HetGTCN'\n",
    "    target_node_type = 'paper'\n",
    "    n_hid = 64\n",
    "    dropout = 0.8\n",
    "    dropout2 = 0.6\n",
    "    learning_rate = 0.005\n",
    "    weight_decay = 1e-5\n",
    "    patience = 100\n",
    "    num_iter = 500\n",
    "    num_test = 30\n",
    "    hop = 5\n",
    "    filter_pct = 0.1 # remove the top and bottom filer_pct points before obtaining statistics of test accuracy\n",
    "    log_step = 1000 # training log step\n",
    "    layer_wise = True\n",
    "    average = 'macro' # 'f1 average: can choose either macro or micro.'\n",
    "\n",
    "args = config()"
   ]
  },
  {
   "cell_type": "code",
   "execution_count": 3,
   "metadata": {
    "scrolled": false
   },
   "outputs": [
    {
     "name": "stdout",
     "output_type": "stream",
     "text": [
      "\n",
      "start testing on ACM dataset\n",
      "total time = 13.981, train time/epoch = 0.04072, best_val_f1 (macro) = 0.933, test_f1 (macro) = 0.924\n",
      "total time = 11.948, train time/epoch = 0.03814, best_val_f1 (macro) = 0.930, test_f1 (macro) = 0.923\n",
      "total time = 17.244, train time/epoch = 0.03883, best_val_f1 (macro) = 0.933, test_f1 (macro) = 0.921\n",
      "total time = 11.516, train time/epoch = 0.03842, best_val_f1 (macro) = 0.930, test_f1 (macro) = 0.928\n",
      "total time = 14.323, train time/epoch = 0.03732, best_val_f1 (macro) = 0.933, test_f1 (macro) = 0.926\n",
      "total time = 9.354, train time/epoch = 0.03730, best_val_f1 (macro) = 0.933, test_f1 (macro) = 0.928\n",
      "total time = 12.120, train time/epoch = 0.03731, best_val_f1 (macro) = 0.933, test_f1 (macro) = 0.916\n",
      "total time = 11.929, train time/epoch = 0.03777, best_val_f1 (macro) = 0.933, test_f1 (macro) = 0.920\n",
      "total time = 15.765, train time/epoch = 0.03773, best_val_f1 (macro) = 0.933, test_f1 (macro) = 0.921\n",
      "total time = 7.909, train time/epoch = 0.03761, best_val_f1 (macro) = 0.927, test_f1 (macro) = 0.924\n",
      "total time = 14.568, train time/epoch = 0.03774, best_val_f1 (macro) = 0.930, test_f1 (macro) = 0.924\n",
      "total time = 12.311, train time/epoch = 0.03749, best_val_f1 (macro) = 0.930, test_f1 (macro) = 0.924\n",
      "total time = 8.079, train time/epoch = 0.03722, best_val_f1 (macro) = 0.933, test_f1 (macro) = 0.921\n",
      "total time = 12.522, train time/epoch = 0.03733, best_val_f1 (macro) = 0.933, test_f1 (macro) = 0.926\n",
      "total time = 8.933, train time/epoch = 0.03716, best_val_f1 (macro) = 0.933, test_f1 (macro) = 0.921\n",
      "total time = 15.481, train time/epoch = 0.03718, best_val_f1 (macro) = 0.933, test_f1 (macro) = 0.923\n",
      "total time = 14.996, train time/epoch = 0.03715, best_val_f1 (macro) = 0.933, test_f1 (macro) = 0.922\n",
      "total time = 14.333, train time/epoch = 0.03716, best_val_f1 (macro) = 0.936, test_f1 (macro) = 0.923\n",
      "total time = 14.262, train time/epoch = 0.03731, best_val_f1 (macro) = 0.937, test_f1 (macro) = 0.922\n",
      "total time = 10.348, train time/epoch = 0.03719, best_val_f1 (macro) = 0.930, test_f1 (macro) = 0.931\n",
      "total time = 17.480, train time/epoch = 0.03736, best_val_f1 (macro) = 0.930, test_f1 (macro) = 0.919\n",
      "total time = 18.404, train time/epoch = 0.03724, best_val_f1 (macro) = 0.933, test_f1 (macro) = 0.923\n",
      "total time = 11.449, train time/epoch = 0.03795, best_val_f1 (macro) = 0.933, test_f1 (macro) = 0.925\n",
      "total time = 12.174, train time/epoch = 0.03777, best_val_f1 (macro) = 0.933, test_f1 (macro) = 0.925\n",
      "total time = 8.453, train time/epoch = 0.03761, best_val_f1 (macro) = 0.933, test_f1 (macro) = 0.926\n",
      "total time = 6.190, train time/epoch = 0.03769, best_val_f1 (macro) = 0.933, test_f1 (macro) = 0.914\n",
      "total time = 9.104, train time/epoch = 0.03788, best_val_f1 (macro) = 0.930, test_f1 (macro) = 0.913\n",
      "total time = 21.153, train time/epoch = 0.03726, best_val_f1 (macro) = 0.933, test_f1 (macro) = 0.921\n",
      "total time = 6.548, train time/epoch = 0.03721, best_val_f1 (macro) = 0.937, test_f1 (macro) = 0.921\n",
      "total time = 12.561, train time/epoch = 0.03728, best_val_f1 (macro) = 0.937, test_f1 (macro) = 0.923\n",
      "test macro-f1 (mean, std):  0.9226314434091669 0.0038158930389210464\n",
      "test macro-f1 (mean, std) after filter:  0.9228895875163428 0.0019277949021421575\n",
      "\n",
      "start testing on IMDB dataset\n",
      "total time = 11.971, train time/epoch = 0.03617, best_val_f1 (macro) = 0.636, test_f1 (macro) = 0.594\n",
      "total time = 13.012, train time/epoch = 0.03648, best_val_f1 (macro) = 0.648, test_f1 (macro) = 0.607\n",
      "total time = 15.610, train time/epoch = 0.03639, best_val_f1 (macro) = 0.641, test_f1 (macro) = 0.604\n",
      "total time = 10.643, train time/epoch = 0.03636, best_val_f1 (macro) = 0.610, test_f1 (macro) = 0.594\n",
      "total time = 13.419, train time/epoch = 0.03651, best_val_f1 (macro) = 0.648, test_f1 (macro) = 0.616\n",
      "total time = 9.365, train time/epoch = 0.03665, best_val_f1 (macro) = 0.644, test_f1 (macro) = 0.608\n",
      "total time = 12.620, train time/epoch = 0.03647, best_val_f1 (macro) = 0.640, test_f1 (macro) = 0.614\n",
      "total time = 10.151, train time/epoch = 0.03656, best_val_f1 (macro) = 0.630, test_f1 (macro) = 0.613\n",
      "total time = 8.187, train time/epoch = 0.03718, best_val_f1 (macro) = 0.626, test_f1 (macro) = 0.590\n",
      "total time = 12.691, train time/epoch = 0.03686, best_val_f1 (macro) = 0.639, test_f1 (macro) = 0.600\n",
      "total time = 9.661, train time/epoch = 0.03744, best_val_f1 (macro) = 0.637, test_f1 (macro) = 0.610\n",
      "total time = 13.286, train time/epoch = 0.03707, best_val_f1 (macro) = 0.622, test_f1 (macro) = 0.601\n",
      "total time = 8.860, train time/epoch = 0.03731, best_val_f1 (macro) = 0.638, test_f1 (macro) = 0.615\n",
      "total time = 9.823, train time/epoch = 0.03735, best_val_f1 (macro) = 0.639, test_f1 (macro) = 0.603\n",
      "total time = 8.838, train time/epoch = 0.03673, best_val_f1 (macro) = 0.627, test_f1 (macro) = 0.617\n",
      "total time = 8.795, train time/epoch = 0.03659, best_val_f1 (macro) = 0.640, test_f1 (macro) = 0.618\n",
      "total time = 11.195, train time/epoch = 0.03651, best_val_f1 (macro) = 0.629, test_f1 (macro) = 0.602\n",
      "total time = 11.386, train time/epoch = 0.03641, best_val_f1 (macro) = 0.650, test_f1 (macro) = 0.603\n",
      "total time = 9.585, train time/epoch = 0.03628, best_val_f1 (macro) = 0.619, test_f1 (macro) = 0.601\n",
      "total time = 11.891, train time/epoch = 0.03650, best_val_f1 (macro) = 0.640, test_f1 (macro) = 0.605\n",
      "total time = 12.427, train time/epoch = 0.03646, best_val_f1 (macro) = 0.612, test_f1 (macro) = 0.598\n",
      "total time = 8.713, train time/epoch = 0.03641, best_val_f1 (macro) = 0.631, test_f1 (macro) = 0.617\n",
      "total time = 9.138, train time/epoch = 0.03689, best_val_f1 (macro) = 0.644, test_f1 (macro) = 0.602\n",
      "total time = 11.927, train time/epoch = 0.03657, best_val_f1 (macro) = 0.604, test_f1 (macro) = 0.598\n",
      "total time = 11.233, train time/epoch = 0.03642, best_val_f1 (macro) = 0.647, test_f1 (macro) = 0.606\n",
      "total time = 10.744, train time/epoch = 0.03658, best_val_f1 (macro) = 0.648, test_f1 (macro) = 0.604\n",
      "total time = 13.424, train time/epoch = 0.03651, best_val_f1 (macro) = 0.642, test_f1 (macro) = 0.608\n",
      "total time = 14.843, train time/epoch = 0.03651, best_val_f1 (macro) = 0.637, test_f1 (macro) = 0.603\n",
      "total time = 10.823, train time/epoch = 0.03721, best_val_f1 (macro) = 0.618, test_f1 (macro) = 0.596\n",
      "total time = 12.850, train time/epoch = 0.03701, best_val_f1 (macro) = 0.643, test_f1 (macro) = 0.604\n",
      "test macro-f1 (mean, std):  0.6050194119381882 0.007391989377869893\n",
      "test macro-f1 (mean, std) after filter:  0.6050174217662727 0.005372728574282568\n",
      "\n",
      "start testing on DBLP dataset\n",
      "total time = 28.638, train time/epoch = 0.06062, best_val_f1 (macro) = 0.948, test_f1 (macro) = 0.942\n",
      "total time = 27.031, train time/epoch = 0.06017, best_val_f1 (macro) = 0.950, test_f1 (macro) = 0.941\n",
      "total time = 31.351, train time/epoch = 0.05993, best_val_f1 (macro) = 0.948, test_f1 (macro) = 0.943\n",
      "total time = 36.911, train time/epoch = 0.06019, best_val_f1 (macro) = 0.948, test_f1 (macro) = 0.941\n",
      "total time = 25.781, train time/epoch = 0.06021, best_val_f1 (macro) = 0.948, test_f1 (macro) = 0.942\n",
      "total time = 18.893, train time/epoch = 0.06013, best_val_f1 (macro) = 0.937, test_f1 (macro) = 0.938\n",
      "total time = 28.682, train time/epoch = 0.06001, best_val_f1 (macro) = 0.935, test_f1 (macro) = 0.948\n",
      "total time = 31.196, train time/epoch = 0.06047, best_val_f1 (macro) = 0.950, test_f1 (macro) = 0.943\n",
      "total time = 24.261, train time/epoch = 0.06083, best_val_f1 (macro) = 0.940, test_f1 (macro) = 0.938\n",
      "total time = 32.989, train time/epoch = 0.06063, best_val_f1 (macro) = 0.950, test_f1 (macro) = 0.944\n",
      "total time = 33.306, train time/epoch = 0.06004, best_val_f1 (macro) = 0.945, test_f1 (macro) = 0.943\n",
      "total time = 27.079, train time/epoch = 0.06027, best_val_f1 (macro) = 0.948, test_f1 (macro) = 0.944\n",
      "total time = 19.841, train time/epoch = 0.05997, best_val_f1 (macro) = 0.943, test_f1 (macro) = 0.938\n",
      "total time = 34.121, train time/epoch = 0.06006, best_val_f1 (macro) = 0.948, test_f1 (macro) = 0.945\n",
      "total time = 29.797, train time/epoch = 0.06027, best_val_f1 (macro) = 0.950, test_f1 (macro) = 0.942\n",
      "total time = 21.059, train time/epoch = 0.06043, best_val_f1 (macro) = 0.938, test_f1 (macro) = 0.937\n",
      "total time = 28.734, train time/epoch = 0.06066, best_val_f1 (macro) = 0.950, test_f1 (macro) = 0.948\n"
     ]
    },
    {
     "name": "stdout",
     "output_type": "stream",
     "text": [
      "total time = 26.053, train time/epoch = 0.06104, best_val_f1 (macro) = 0.943, test_f1 (macro) = 0.943\n",
      "total time = 45.230, train time/epoch = 0.06015, best_val_f1 (macro) = 0.950, test_f1 (macro) = 0.945\n",
      "total time = 27.920, train time/epoch = 0.06017, best_val_f1 (macro) = 0.943, test_f1 (macro) = 0.938\n",
      "total time = 23.735, train time/epoch = 0.06005, best_val_f1 (macro) = 0.945, test_f1 (macro) = 0.941\n",
      "total time = 21.539, train time/epoch = 0.06018, best_val_f1 (macro) = 0.945, test_f1 (macro) = 0.938\n",
      "total time = 27.819, train time/epoch = 0.06009, best_val_f1 (macro) = 0.942, test_f1 (macro) = 0.944\n",
      "total time = 18.550, train time/epoch = 0.06052, best_val_f1 (macro) = 0.947, test_f1 (macro) = 0.939\n",
      "total time = 34.369, train time/epoch = 0.06011, best_val_f1 (macro) = 0.948, test_f1 (macro) = 0.943\n",
      "total time = 32.536, train time/epoch = 0.06064, best_val_f1 (macro) = 0.945, test_f1 (macro) = 0.946\n",
      "total time = 34.475, train time/epoch = 0.06067, best_val_f1 (macro) = 0.950, test_f1 (macro) = 0.945\n",
      "total time = 27.945, train time/epoch = 0.06018, best_val_f1 (macro) = 0.955, test_f1 (macro) = 0.943\n",
      "total time = 34.313, train time/epoch = 0.06011, best_val_f1 (macro) = 0.945, test_f1 (macro) = 0.943\n",
      "total time = 29.332, train time/epoch = 0.05987, best_val_f1 (macro) = 0.950, test_f1 (macro) = 0.943\n",
      "test macro-f1 (mean, std):  0.9423008940093676 0.0028587257862303147\n",
      "test macro-f1 (mean, std) after filter:  0.9422909927111687 0.00208374950996684\n"
     ]
    }
   ],
   "source": [
    "f1s = []\n",
    "datasets = ['ACM', 'IMDB', 'DBLP']\n",
    "for dataset in datasets:\n",
    "    args.data = dataset\n",
    "    if dataset == 'ACM':\n",
    "        args.target_node_type = 'paper'\n",
    "        print('\\nstart testing on ' + dataset + ' dataset')\n",
    "        f1s.append(main(args))\n",
    "    elif dataset == 'IMDB':\n",
    "        args.target_node_type = 'movie'\n",
    "        print('\\nstart testing on ' + dataset + ' dataset')\n",
    "        f1s.append(main(args))\n",
    "    elif dataset == 'DBLP':\n",
    "        args.target_node_type = 'author'\n",
    "        print('\\nstart testing on ' + dataset + ' dataset')\n",
    "        f1s.append(main(args))"
   ]
  },
  {
   "cell_type": "code",
   "execution_count": 4,
   "metadata": {},
   "outputs": [],
   "source": [
    "f1s = np.array(f1s)"
   ]
  },
  {
   "cell_type": "code",
   "execution_count": null,
   "metadata": {},
   "outputs": [],
   "source": []
  }
 ],
 "metadata": {
  "kernelspec": {
   "display_name": "Python 3",
   "language": "python",
   "name": "python3"
  },
  "language_info": {
   "codemirror_mode": {
    "name": "ipython",
    "version": 3
   },
   "file_extension": ".py",
   "mimetype": "text/x-python",
   "name": "python",
   "nbconvert_exporter": "python",
   "pygments_lexer": "ipython3",
   "version": "3.8.8"
  }
 },
 "nbformat": 4,
 "nbformat_minor": 4
}
