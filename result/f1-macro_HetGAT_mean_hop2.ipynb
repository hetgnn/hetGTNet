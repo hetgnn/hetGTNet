{
 "cells": [
  {
   "cell_type": "code",
   "execution_count": 1,
   "metadata": {},
   "outputs": [
    {
     "name": "stderr",
     "output_type": "stream",
     "text": [
      "Using backend: pytorch\n"
     ]
    }
   ],
   "source": [
    "root_dir = '..' # dir of the source code\n",
    "import sys\n",
    "sys.path.append(root_dir)\n",
    "from train import main\n",
    "import numpy as np"
   ]
  },
  {
   "cell_type": "code",
   "execution_count": 2,
   "metadata": {},
   "outputs": [],
   "source": [
    "class config:\n",
    "    data = 'ACM'\n",
    "    data_path = '../data/preprocessed/'\n",
    "    model = 'HetGAT_mean'\n",
    "    target_node_type = 'paper'\n",
    "    n_hid = 64\n",
    "    dropout = 0.8\n",
    "    dropout2 = 0.2\n",
    "    learning_rate = 0.005\n",
    "    weight_decay = 5e-5\n",
    "    patience = 100\n",
    "    num_iter = 500\n",
    "    num_test = 30\n",
    "    hop = 2\n",
    "    filter_pct = 0.1 # remove the top and bottom filer_pct points before obtaining statistics of test accuracy\n",
    "    log_step = 1000 # training log step\n",
    "    layer_wise = True\n",
    "    average = 'macro' # 'f1 average: can choose either macro or micro.'\n",
    "\n",
    "args = config()"
   ]
  },
  {
   "cell_type": "code",
   "execution_count": 3,
   "metadata": {
    "scrolled": false
   },
   "outputs": [
    {
     "name": "stdout",
     "output_type": "stream",
     "text": [
      "\n",
      "start testing on ACM dataset\n",
      "total time = 6.231, train time/epoch = 0.02090, best_val_f1 (macro) = 0.937, test_f1 (macro) = 0.920\n",
      "total time = 4.264, train time/epoch = 0.01820, best_val_f1 (macro) = 0.930, test_f1 (macro) = 0.917\n",
      "total time = 2.807, train time/epoch = 0.01868, best_val_f1 (macro) = 0.936, test_f1 (macro) = 0.924\n",
      "total time = 3.178, train time/epoch = 0.01820, best_val_f1 (macro) = 0.933, test_f1 (macro) = 0.904\n",
      "total time = 3.078, train time/epoch = 0.01814, best_val_f1 (macro) = 0.927, test_f1 (macro) = 0.927\n",
      "total time = 4.689, train time/epoch = 0.01808, best_val_f1 (macro) = 0.930, test_f1 (macro) = 0.905\n",
      "total time = 3.391, train time/epoch = 0.01811, best_val_f1 (macro) = 0.927, test_f1 (macro) = 0.924\n",
      "total time = 3.090, train time/epoch = 0.01805, best_val_f1 (macro) = 0.930, test_f1 (macro) = 0.925\n",
      "total time = 2.784, train time/epoch = 0.01811, best_val_f1 (macro) = 0.930, test_f1 (macro) = 0.914\n",
      "total time = 3.148, train time/epoch = 0.01797, best_val_f1 (macro) = 0.923, test_f1 (macro) = 0.921\n",
      "total time = 3.087, train time/epoch = 0.01816, best_val_f1 (macro) = 0.930, test_f1 (macro) = 0.918\n",
      "total time = 2.958, train time/epoch = 0.01844, best_val_f1 (macro) = 0.930, test_f1 (macro) = 0.925\n",
      "total time = 3.051, train time/epoch = 0.01846, best_val_f1 (macro) = 0.927, test_f1 (macro) = 0.928\n",
      "total time = 2.951, train time/epoch = 0.01838, best_val_f1 (macro) = 0.930, test_f1 (macro) = 0.905\n",
      "total time = 2.782, train time/epoch = 0.01826, best_val_f1 (macro) = 0.927, test_f1 (macro) = 0.925\n",
      "total time = 2.956, train time/epoch = 0.01805, best_val_f1 (macro) = 0.930, test_f1 (macro) = 0.925\n",
      "total time = 2.836, train time/epoch = 0.01832, best_val_f1 (macro) = 0.930, test_f1 (macro) = 0.925\n",
      "total time = 2.794, train time/epoch = 0.01817, best_val_f1 (macro) = 0.924, test_f1 (macro) = 0.930\n",
      "total time = 2.938, train time/epoch = 0.01814, best_val_f1 (macro) = 0.930, test_f1 (macro) = 0.919\n",
      "total time = 4.516, train time/epoch = 0.01839, best_val_f1 (macro) = 0.929, test_f1 (macro) = 0.902\n",
      "total time = 2.712, train time/epoch = 0.01876, best_val_f1 (macro) = 0.920, test_f1 (macro) = 0.913\n",
      "total time = 3.824, train time/epoch = 0.01959, best_val_f1 (macro) = 0.924, test_f1 (macro) = 0.918\n",
      "total time = 3.238, train time/epoch = 0.01813, best_val_f1 (macro) = 0.930, test_f1 (macro) = 0.911\n",
      "total time = 3.082, train time/epoch = 0.01818, best_val_f1 (macro) = 0.924, test_f1 (macro) = 0.919\n",
      "total time = 3.215, train time/epoch = 0.01815, best_val_f1 (macro) = 0.927, test_f1 (macro) = 0.917\n",
      "total time = 2.742, train time/epoch = 0.01809, best_val_f1 (macro) = 0.926, test_f1 (macro) = 0.893\n",
      "total time = 3.591, train time/epoch = 0.01835, best_val_f1 (macro) = 0.924, test_f1 (macro) = 0.918\n",
      "total time = 3.876, train time/epoch = 0.01848, best_val_f1 (macro) = 0.924, test_f1 (macro) = 0.922\n",
      "total time = 2.854, train time/epoch = 0.01861, best_val_f1 (macro) = 0.930, test_f1 (macro) = 0.904\n",
      "total time = 4.570, train time/epoch = 0.01823, best_val_f1 (macro) = 0.930, test_f1 (macro) = 0.913\n",
      "test macro-f1 (mean, std):  0.9170820536542205 0.008892290264073002\n",
      "test macro-f1 (mean, std) after filter:  0.9178894422846188 0.006345539987659965\n",
      "\n",
      "start testing on IMDB dataset\n",
      "total time = 2.832, train time/epoch = 0.01476, best_val_f1 (macro) = 0.641, test_f1 (macro) = 0.588\n",
      "total time = 2.585, train time/epoch = 0.01484, best_val_f1 (macro) = 0.639, test_f1 (macro) = 0.597\n",
      "total time = 3.815, train time/epoch = 0.01461, best_val_f1 (macro) = 0.643, test_f1 (macro) = 0.576\n",
      "total time = 2.444, train time/epoch = 0.01465, best_val_f1 (macro) = 0.627, test_f1 (macro) = 0.601\n",
      "total time = 2.966, train time/epoch = 0.01481, best_val_f1 (macro) = 0.623, test_f1 (macro) = 0.586\n",
      "total time = 2.843, train time/epoch = 0.01462, best_val_f1 (macro) = 0.634, test_f1 (macro) = 0.587\n",
      "total time = 3.255, train time/epoch = 0.01465, best_val_f1 (macro) = 0.618, test_f1 (macro) = 0.582\n",
      "total time = 3.088, train time/epoch = 0.01462, best_val_f1 (macro) = 0.631, test_f1 (macro) = 0.566\n",
      "total time = 2.703, train time/epoch = 0.01474, best_val_f1 (macro) = 0.633, test_f1 (macro) = 0.593\n",
      "total time = 3.578, train time/epoch = 0.01481, best_val_f1 (macro) = 0.612, test_f1 (macro) = 0.572\n",
      "total time = 2.681, train time/epoch = 0.01533, best_val_f1 (macro) = 0.622, test_f1 (macro) = 0.585\n",
      "total time = 2.699, train time/epoch = 0.01495, best_val_f1 (macro) = 0.631, test_f1 (macro) = 0.588\n",
      "total time = 2.769, train time/epoch = 0.01483, best_val_f1 (macro) = 0.622, test_f1 (macro) = 0.585\n",
      "total time = 4.064, train time/epoch = 0.01474, best_val_f1 (macro) = 0.633, test_f1 (macro) = 0.570\n",
      "total time = 2.882, train time/epoch = 0.01480, best_val_f1 (macro) = 0.627, test_f1 (macro) = 0.586\n",
      "total time = 2.836, train time/epoch = 0.01517, best_val_f1 (macro) = 0.626, test_f1 (macro) = 0.592\n",
      "total time = 2.797, train time/epoch = 0.01507, best_val_f1 (macro) = 0.650, test_f1 (macro) = 0.592\n",
      "total time = 4.271, train time/epoch = 0.01470, best_val_f1 (macro) = 0.618, test_f1 (macro) = 0.574\n",
      "total time = 2.680, train time/epoch = 0.01475, best_val_f1 (macro) = 0.635, test_f1 (macro) = 0.590\n",
      "total time = 2.583, train time/epoch = 0.01470, best_val_f1 (macro) = 0.634, test_f1 (macro) = 0.596\n",
      "total time = 2.891, train time/epoch = 0.01483, best_val_f1 (macro) = 0.633, test_f1 (macro) = 0.577\n",
      "total time = 2.843, train time/epoch = 0.01476, best_val_f1 (macro) = 0.630, test_f1 (macro) = 0.581\n",
      "total time = 2.790, train time/epoch = 0.01474, best_val_f1 (macro) = 0.624, test_f1 (macro) = 0.562\n",
      "total time = 3.210, train time/epoch = 0.01496, best_val_f1 (macro) = 0.617, test_f1 (macro) = 0.575\n",
      "total time = 3.010, train time/epoch = 0.01490, best_val_f1 (macro) = 0.644, test_f1 (macro) = 0.579\n",
      "total time = 2.703, train time/epoch = 0.01493, best_val_f1 (macro) = 0.627, test_f1 (macro) = 0.589\n",
      "total time = 3.063, train time/epoch = 0.01472, best_val_f1 (macro) = 0.630, test_f1 (macro) = 0.571\n",
      "total time = 2.706, train time/epoch = 0.01485, best_val_f1 (macro) = 0.619, test_f1 (macro) = 0.594\n",
      "total time = 2.842, train time/epoch = 0.01470, best_val_f1 (macro) = 0.637, test_f1 (macro) = 0.590\n",
      "total time = 3.083, train time/epoch = 0.01471, best_val_f1 (macro) = 0.630, test_f1 (macro) = 0.574\n",
      "test macro-f1 (mean, std):  0.5832744236795152 0.009638296460363257\n",
      "test macro-f1 (mean, std) after filter:  0.5836255634306085 0.007059039636358459\n",
      "\n",
      "start testing on DBLP dataset\n",
      "total time = 3.586, train time/epoch = 0.02077, best_val_f1 (macro) = 0.915, test_f1 (macro) = 0.889\n",
      "total time = 3.324, train time/epoch = 0.02013, best_val_f1 (macro) = 0.915, test_f1 (macro) = 0.902\n",
      "total time = 3.705, train time/epoch = 0.02014, best_val_f1 (macro) = 0.915, test_f1 (macro) = 0.896\n",
      "total time = 14.082, train time/epoch = 0.02037, best_val_f1 (macro) = 0.933, test_f1 (macro) = 0.912\n",
      "total time = 3.378, train time/epoch = 0.02070, best_val_f1 (macro) = 0.916, test_f1 (macro) = 0.920\n",
      "total time = 3.358, train time/epoch = 0.02083, best_val_f1 (macro) = 0.933, test_f1 (macro) = 0.920\n",
      "total time = 3.377, train time/epoch = 0.02034, best_val_f1 (macro) = 0.922, test_f1 (macro) = 0.916\n",
      "total time = 3.658, train time/epoch = 0.02068, best_val_f1 (macro) = 0.917, test_f1 (macro) = 0.907\n",
      "total time = 3.349, train time/epoch = 0.02036, best_val_f1 (macro) = 0.920, test_f1 (macro) = 0.902\n",
      "total time = 3.424, train time/epoch = 0.02048, best_val_f1 (macro) = 0.923, test_f1 (macro) = 0.910\n",
      "total time = 3.732, train time/epoch = 0.02011, best_val_f1 (macro) = 0.923, test_f1 (macro) = 0.893\n",
      "total time = 4.954, train time/epoch = 0.02011, best_val_f1 (macro) = 0.930, test_f1 (macro) = 0.907\n",
      "total time = 9.131, train time/epoch = 0.02030, best_val_f1 (macro) = 0.930, test_f1 (macro) = 0.906\n",
      "total time = 3.307, train time/epoch = 0.02023, best_val_f1 (macro) = 0.920, test_f1 (macro) = 0.911\n",
      "total time = 3.577, train time/epoch = 0.02036, best_val_f1 (macro) = 0.918, test_f1 (macro) = 0.910\n",
      "total time = 3.349, train time/epoch = 0.02023, best_val_f1 (macro) = 0.921, test_f1 (macro) = 0.915\n",
      "total time = 3.267, train time/epoch = 0.02019, best_val_f1 (macro) = 0.928, test_f1 (macro) = 0.916\n",
      "total time = 3.266, train time/epoch = 0.02013, best_val_f1 (macro) = 0.925, test_f1 (macro) = 0.908\n"
     ]
    },
    {
     "name": "stdout",
     "output_type": "stream",
     "text": [
      "total time = 10.187, train time/epoch = 0.02012, best_val_f1 (macro) = 0.925, test_f1 (macro) = 0.904\n",
      "total time = 3.607, train time/epoch = 0.02000, best_val_f1 (macro) = 0.920, test_f1 (macro) = 0.905\n",
      "total time = 3.470, train time/epoch = 0.02008, best_val_f1 (macro) = 0.915, test_f1 (macro) = 0.906\n",
      "total time = 3.300, train time/epoch = 0.02000, best_val_f1 (macro) = 0.915, test_f1 (macro) = 0.909\n",
      "total time = 3.249, train time/epoch = 0.02002, best_val_f1 (macro) = 0.918, test_f1 (macro) = 0.899\n",
      "total time = 3.363, train time/epoch = 0.02026, best_val_f1 (macro) = 0.930, test_f1 (macro) = 0.920\n",
      "total time = 3.262, train time/epoch = 0.02030, best_val_f1 (macro) = 0.918, test_f1 (macro) = 0.899\n",
      "total time = 6.581, train time/epoch = 0.02019, best_val_f1 (macro) = 0.910, test_f1 (macro) = 0.900\n",
      "total time = 3.706, train time/epoch = 0.02016, best_val_f1 (macro) = 0.930, test_f1 (macro) = 0.909\n",
      "total time = 10.115, train time/epoch = 0.02028, best_val_f1 (macro) = 0.930, test_f1 (macro) = 0.901\n",
      "total time = 3.258, train time/epoch = 0.02008, best_val_f1 (macro) = 0.925, test_f1 (macro) = 0.909\n",
      "total time = 4.000, train time/epoch = 0.02027, best_val_f1 (macro) = 0.917, test_f1 (macro) = 0.901\n",
      "test macro-f1 (mean, std):  0.9067197306768751 0.007772957891480899\n",
      "test macro-f1 (mean, std) after filter:  0.9068028643588706 0.005123541821392698\n"
     ]
    }
   ],
   "source": [
    "f1s = []\n",
    "datasets = ['ACM', 'IMDB', 'DBLP']\n",
    "for dataset in datasets:\n",
    "    args.data = dataset\n",
    "    if dataset == 'ACM':\n",
    "        args.dropout = 0.8\n",
    "        args.dropout2 = 0.2\n",
    "        args.target_node_type = 'paper'\n",
    "        print('\\nstart testing on ' + dataset + ' dataset')\n",
    "        f1s.append(main(args))\n",
    "    elif dataset == 'IMDB':\n",
    "        args.dropout = 0.8\n",
    "        args.dropout2 = 0.2\n",
    "        args.target_node_type = 'movie'\n",
    "        print('\\nstart testing on ' + dataset + ' dataset')\n",
    "        f1s.append(main(args))\n",
    "    elif dataset == 'DBLP':\n",
    "        args.dropout = 0\n",
    "        args.dropout2 = 0\n",
    "        args.target_node_type = 'author'\n",
    "        print('\\nstart testing on ' + dataset + ' dataset')\n",
    "        f1s.append(main(args))"
   ]
  },
  {
   "cell_type": "code",
   "execution_count": 4,
   "metadata": {},
   "outputs": [],
   "source": [
    "f1s = np.array(f1s)"
   ]
  },
  {
   "cell_type": "code",
   "execution_count": null,
   "metadata": {},
   "outputs": [],
   "source": []
  }
 ],
 "metadata": {
  "kernelspec": {
   "display_name": "Python 3",
   "language": "python",
   "name": "python3"
  },
  "language_info": {
   "codemirror_mode": {
    "name": "ipython",
    "version": 3
   },
   "file_extension": ".py",
   "mimetype": "text/x-python",
   "name": "python",
   "nbconvert_exporter": "python",
   "pygments_lexer": "ipython3",
   "version": "3.8.8"
  }
 },
 "nbformat": 4,
 "nbformat_minor": 4
}
