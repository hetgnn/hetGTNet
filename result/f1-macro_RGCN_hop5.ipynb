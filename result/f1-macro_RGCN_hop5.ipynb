{
 "cells": [
  {
   "cell_type": "code",
   "execution_count": 1,
   "metadata": {},
   "outputs": [
    {
     "name": "stderr",
     "output_type": "stream",
     "text": [
      "Using backend: pytorch\n"
     ]
    }
   ],
   "source": [
    "root_dir = '..' # dir of the source code\n",
    "import sys\n",
    "sys.path.append(root_dir)\n",
    "from train import main\n",
    "import numpy as np"
   ]
  },
  {
   "cell_type": "code",
   "execution_count": 2,
   "metadata": {},
   "outputs": [],
   "source": [
    "class config:\n",
    "    data = 'ACM'\n",
    "    data_path = '../data/preprocessed/'\n",
    "    model = 'RGCN'\n",
    "    n_hid = 64\n",
    "    dropout = 0.5\n",
    "    learning_rate = 0.005\n",
    "    weight_decay = 1e-5\n",
    "    patience = 100\n",
    "    num_iter = 500\n",
    "    num_test = 30\n",
    "    hop = 5\n",
    "    num_bases = 5 # num bases for RGCN\n",
    "    filter_pct = 0.1 # remove the top and bottom filer_pct points before obtaining statistics of test accuracy\n",
    "    log_step = 1000 # training log step\n",
    "    average = 'macro' # 'f1 average: can choose either macro or micro.'\n",
    "\n",
    "args = config()"
   ]
  },
  {
   "cell_type": "code",
   "execution_count": 3,
   "metadata": {
    "scrolled": false
   },
   "outputs": [
    {
     "name": "stdout",
     "output_type": "stream",
     "text": [
      "\n",
      "start testing on ACM dataset\n",
      "#Parameters: 465141\n",
      "total time = 10.538, train time/epoch = 0.05162, best_val_f1 (macro) = 0.907, test_f1 (macro) = 0.890\n",
      "total time = 12.840, train time/epoch = 0.05392, best_val_f1 (macro) = 0.917, test_f1 (macro) = 0.885\n",
      "total time = 12.290, train time/epoch = 0.05183, best_val_f1 (macro) = 0.914, test_f1 (macro) = 0.912\n",
      "total time = 18.090, train time/epoch = 0.05089, best_val_f1 (macro) = 0.917, test_f1 (macro) = 0.899\n",
      "total time = 12.673, train time/epoch = 0.05094, best_val_f1 (macro) = 0.907, test_f1 (macro) = 0.890\n",
      "total time = 13.359, train time/epoch = 0.05196, best_val_f1 (macro) = 0.917, test_f1 (macro) = 0.898\n",
      "total time = 13.036, train time/epoch = 0.05180, best_val_f1 (macro) = 0.927, test_f1 (macro) = 0.918\n",
      "total time = 11.211, train time/epoch = 0.05165, best_val_f1 (macro) = 0.914, test_f1 (macro) = 0.904\n",
      "total time = 12.779, train time/epoch = 0.05269, best_val_f1 (macro) = 0.901, test_f1 (macro) = 0.900\n",
      "total time = 12.058, train time/epoch = 0.05431, best_val_f1 (macro) = 0.914, test_f1 (macro) = 0.914\n",
      "total time = 12.179, train time/epoch = 0.05408, best_val_f1 (macro) = 0.917, test_f1 (macro) = 0.881\n",
      "total time = 13.153, train time/epoch = 0.05111, best_val_f1 (macro) = 0.927, test_f1 (macro) = 0.908\n",
      "total time = 11.821, train time/epoch = 0.05109, best_val_f1 (macro) = 0.917, test_f1 (macro) = 0.905\n",
      "total time = 11.930, train time/epoch = 0.05061, best_val_f1 (macro) = 0.923, test_f1 (macro) = 0.889\n",
      "total time = 12.699, train time/epoch = 0.05138, best_val_f1 (macro) = 0.914, test_f1 (macro) = 0.917\n",
      "total time = 14.051, train time/epoch = 0.05223, best_val_f1 (macro) = 0.927, test_f1 (macro) = 0.919\n",
      "total time = 16.882, train time/epoch = 0.05220, best_val_f1 (macro) = 0.920, test_f1 (macro) = 0.898\n",
      "total time = 13.838, train time/epoch = 0.05485, best_val_f1 (macro) = 0.913, test_f1 (macro) = 0.883\n",
      "total time = 14.164, train time/epoch = 0.05450, best_val_f1 (macro) = 0.921, test_f1 (macro) = 0.899\n",
      "total time = 11.729, train time/epoch = 0.05225, best_val_f1 (macro) = 0.914, test_f1 (macro) = 0.874\n",
      "total time = 10.948, train time/epoch = 0.05107, best_val_f1 (macro) = 0.924, test_f1 (macro) = 0.912\n",
      "total time = 12.103, train time/epoch = 0.05134, best_val_f1 (macro) = 0.927, test_f1 (macro) = 0.901\n",
      "total time = 13.378, train time/epoch = 0.05105, best_val_f1 (macro) = 0.924, test_f1 (macro) = 0.910\n",
      "total time = 13.101, train time/epoch = 0.05204, best_val_f1 (macro) = 0.920, test_f1 (macro) = 0.916\n",
      "total time = 12.134, train time/epoch = 0.05281, best_val_f1 (macro) = 0.920, test_f1 (macro) = 0.889\n",
      "total time = 12.981, train time/epoch = 0.05257, best_val_f1 (macro) = 0.917, test_f1 (macro) = 0.901\n",
      "total time = 13.644, train time/epoch = 0.05396, best_val_f1 (macro) = 0.910, test_f1 (macro) = 0.897\n",
      "total time = 13.097, train time/epoch = 0.05395, best_val_f1 (macro) = 0.914, test_f1 (macro) = 0.906\n",
      "total time = 13.301, train time/epoch = 0.05277, best_val_f1 (macro) = 0.917, test_f1 (macro) = 0.901\n",
      "total time = 10.562, train time/epoch = 0.05099, best_val_f1 (macro) = 0.920, test_f1 (macro) = 0.905\n",
      "test macro-f1 (mean, std):  0.9007521156161334 0.011550192361940565\n",
      "test macro-f1 (mean, std) after filter:  0.9012321025270422 0.008359929392081644\n",
      "\n",
      "start testing on IMDB dataset\n",
      "#Parameters: 688629\n",
      "total time = 9.473, train time/epoch = 0.05167, best_val_f1 (macro) = 0.570, test_f1 (macro) = 0.569\n",
      "total time = 10.482, train time/epoch = 0.05206, best_val_f1 (macro) = 0.576, test_f1 (macro) = 0.541\n",
      "total time = 9.873, train time/epoch = 0.05343, best_val_f1 (macro) = 0.564, test_f1 (macro) = 0.583\n",
      "total time = 9.999, train time/epoch = 0.05282, best_val_f1 (macro) = 0.592, test_f1 (macro) = 0.574\n",
      "total time = 10.137, train time/epoch = 0.05234, best_val_f1 (macro) = 0.571, test_f1 (macro) = 0.574\n",
      "total time = 10.771, train time/epoch = 0.05212, best_val_f1 (macro) = 0.581, test_f1 (macro) = 0.555\n",
      "total time = 9.899, train time/epoch = 0.05120, best_val_f1 (macro) = 0.589, test_f1 (macro) = 0.559\n",
      "total time = 9.467, train time/epoch = 0.05164, best_val_f1 (macro) = 0.586, test_f1 (macro) = 0.571\n",
      "total time = 10.132, train time/epoch = 0.05239, best_val_f1 (macro) = 0.599, test_f1 (macro) = 0.564\n",
      "total time = 10.027, train time/epoch = 0.05217, best_val_f1 (macro) = 0.567, test_f1 (macro) = 0.544\n",
      "total time = 9.153, train time/epoch = 0.05241, best_val_f1 (macro) = 0.577, test_f1 (macro) = 0.582\n",
      "total time = 12.706, train time/epoch = 0.05227, best_val_f1 (macro) = 0.582, test_f1 (macro) = 0.537\n",
      "total time = 10.789, train time/epoch = 0.05220, best_val_f1 (macro) = 0.576, test_f1 (macro) = 0.541\n",
      "total time = 9.736, train time/epoch = 0.05229, best_val_f1 (macro) = 0.596, test_f1 (macro) = 0.567\n",
      "total time = 9.700, train time/epoch = 0.05252, best_val_f1 (macro) = 0.601, test_f1 (macro) = 0.570\n",
      "total time = 9.635, train time/epoch = 0.05253, best_val_f1 (macro) = 0.622, test_f1 (macro) = 0.583\n",
      "total time = 9.465, train time/epoch = 0.05280, best_val_f1 (macro) = 0.575, test_f1 (macro) = 0.565\n",
      "total time = 9.122, train time/epoch = 0.05226, best_val_f1 (macro) = 0.602, test_f1 (macro) = 0.561\n",
      "total time = 10.156, train time/epoch = 0.05176, best_val_f1 (macro) = 0.549, test_f1 (macro) = 0.546\n",
      "total time = 9.513, train time/epoch = 0.05187, best_val_f1 (macro) = 0.608, test_f1 (macro) = 0.560\n",
      "total time = 9.027, train time/epoch = 0.05209, best_val_f1 (macro) = 0.564, test_f1 (macro) = 0.557\n",
      "total time = 9.573, train time/epoch = 0.05222, best_val_f1 (macro) = 0.588, test_f1 (macro) = 0.561\n",
      "total time = 9.211, train time/epoch = 0.05236, best_val_f1 (macro) = 0.570, test_f1 (macro) = 0.575\n",
      "total time = 9.465, train time/epoch = 0.05241, best_val_f1 (macro) = 0.580, test_f1 (macro) = 0.565\n",
      "total time = 14.630, train time/epoch = 0.05231, best_val_f1 (macro) = 0.558, test_f1 (macro) = 0.514\n",
      "total time = 9.296, train time/epoch = 0.05232, best_val_f1 (macro) = 0.548, test_f1 (macro) = 0.530\n",
      "total time = 9.235, train time/epoch = 0.05236, best_val_f1 (macro) = 0.598, test_f1 (macro) = 0.563\n",
      "total time = 9.360, train time/epoch = 0.05232, best_val_f1 (macro) = 0.587, test_f1 (macro) = 0.558\n",
      "total time = 9.611, train time/epoch = 0.05236, best_val_f1 (macro) = 0.595, test_f1 (macro) = 0.544\n",
      "total time = 9.520, train time/epoch = 0.05232, best_val_f1 (macro) = 0.595, test_f1 (macro) = 0.565\n",
      "test macro-f1 (mean, std):  0.5592216676724878 0.015900564061554035\n",
      "test macro-f1 (mean, std) after filter:  0.56030601199666 0.010245040757225262\n",
      "\n",
      "start testing on DBLP dataset\n",
      "#Parameters: 167759\n",
      "total time = 11.073, train time/epoch = 0.06485, best_val_f1 (macro) = 0.948, test_f1 (macro) = 0.930\n",
      "total time = 12.148, train time/epoch = 0.06384, best_val_f1 (macro) = 0.938, test_f1 (macro) = 0.926\n",
      "total time = 11.562, train time/epoch = 0.06326, best_val_f1 (macro) = 0.955, test_f1 (macro) = 0.939\n",
      "total time = 11.585, train time/epoch = 0.06331, best_val_f1 (macro) = 0.950, test_f1 (macro) = 0.932\n",
      "total time = 11.890, train time/epoch = 0.06352, best_val_f1 (macro) = 0.955, test_f1 (macro) = 0.933\n",
      "total time = 13.471, train time/epoch = 0.06333, best_val_f1 (macro) = 0.945, test_f1 (macro) = 0.926\n",
      "total time = 11.505, train time/epoch = 0.06342, best_val_f1 (macro) = 0.933, test_f1 (macro) = 0.924\n",
      "total time = 11.580, train time/epoch = 0.06332, best_val_f1 (macro) = 0.928, test_f1 (macro) = 0.926\n",
      "total time = 13.001, train time/epoch = 0.06469, best_val_f1 (macro) = 0.945, test_f1 (macro) = 0.933\n",
      "total time = 12.569, train time/epoch = 0.06585, best_val_f1 (macro) = 0.938, test_f1 (macro) = 0.922\n",
      "total time = 11.729, train time/epoch = 0.06540, best_val_f1 (macro) = 0.950, test_f1 (macro) = 0.940\n",
      "total time = 11.440, train time/epoch = 0.06408, best_val_f1 (macro) = 0.943, test_f1 (macro) = 0.932\n",
      "total time = 11.627, train time/epoch = 0.06310, best_val_f1 (macro) = 0.948, test_f1 (macro) = 0.926\n",
      "total time = 11.554, train time/epoch = 0.06314, best_val_f1 (macro) = 0.952, test_f1 (macro) = 0.943\n",
      "total time = 12.269, train time/epoch = 0.06343, best_val_f1 (macro) = 0.943, test_f1 (macro) = 0.926\n",
      "total time = 11.663, train time/epoch = 0.06322, best_val_f1 (macro) = 0.945, test_f1 (macro) = 0.930\n",
      "total time = 11.575, train time/epoch = 0.06325, best_val_f1 (macro) = 0.938, test_f1 (macro) = 0.927\n"
     ]
    },
    {
     "name": "stdout",
     "output_type": "stream",
     "text": [
      "total time = 11.070, train time/epoch = 0.06316, best_val_f1 (macro) = 0.948, test_f1 (macro) = 0.938\n",
      "total time = 11.871, train time/epoch = 0.06333, best_val_f1 (macro) = 0.945, test_f1 (macro) = 0.940\n",
      "total time = 11.889, train time/epoch = 0.06341, best_val_f1 (macro) = 0.950, test_f1 (macro) = 0.927\n",
      "total time = 11.766, train time/epoch = 0.06341, best_val_f1 (macro) = 0.950, test_f1 (macro) = 0.935\n",
      "total time = 11.396, train time/epoch = 0.06345, best_val_f1 (macro) = 0.948, test_f1 (macro) = 0.937\n",
      "total time = 10.834, train time/epoch = 0.06391, best_val_f1 (macro) = 0.938, test_f1 (macro) = 0.929\n",
      "total time = 11.882, train time/epoch = 0.06338, best_val_f1 (macro) = 0.943, test_f1 (macro) = 0.933\n",
      "total time = 12.147, train time/epoch = 0.06322, best_val_f1 (macro) = 0.943, test_f1 (macro) = 0.930\n",
      "total time = 11.773, train time/epoch = 0.06339, best_val_f1 (macro) = 0.948, test_f1 (macro) = 0.925\n",
      "total time = 11.110, train time/epoch = 0.06333, best_val_f1 (macro) = 0.947, test_f1 (macro) = 0.944\n",
      "total time = 12.434, train time/epoch = 0.06331, best_val_f1 (macro) = 0.950, test_f1 (macro) = 0.931\n",
      "total time = 11.284, train time/epoch = 0.06329, best_val_f1 (macro) = 0.950, test_f1 (macro) = 0.937\n",
      "total time = 11.107, train time/epoch = 0.06334, best_val_f1 (macro) = 0.952, test_f1 (macro) = 0.944\n",
      "test macro-f1 (mean, std):  0.9322022182263373 0.006185614728928539\n",
      "test macro-f1 (mean, std) after filter:  0.9318201216112909 0.004594902203899084\n"
     ]
    }
   ],
   "source": [
    "f1s = []\n",
    "datasets = ['ACM', 'IMDB', 'DBLP']\n",
    "for dataset in datasets:\n",
    "    args.data = dataset\n",
    "    if dataset == 'ACM':\n",
    "        args.dropout = 0.5\n",
    "        print('\\nstart testing on ' + dataset + ' dataset')\n",
    "        f1s.append(main(args))\n",
    "    elif dataset == 'IMDB':\n",
    "        args.dropout = 0.5\n",
    "        print('\\nstart testing on ' + dataset + ' dataset')\n",
    "        f1s.append(main(args))\n",
    "    elif dataset == 'DBLP':\n",
    "        args.dropout = 0\n",
    "        print('\\nstart testing on ' + dataset + ' dataset')\n",
    "        f1s.append(main(args))"
   ]
  },
  {
   "cell_type": "code",
   "execution_count": null,
   "metadata": {},
   "outputs": [],
   "source": []
  }
 ],
 "metadata": {
  "kernelspec": {
   "display_name": "Python 3",
   "language": "python",
   "name": "python3"
  },
  "language_info": {
   "codemirror_mode": {
    "name": "ipython",
    "version": 3
   },
   "file_extension": ".py",
   "mimetype": "text/x-python",
   "name": "python",
   "nbconvert_exporter": "python",
   "pygments_lexer": "ipython3",
   "version": "3.8.8"
  }
 },
 "nbformat": 4,
 "nbformat_minor": 4
}
