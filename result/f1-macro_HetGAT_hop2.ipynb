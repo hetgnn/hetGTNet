{
 "cells": [
  {
   "cell_type": "code",
   "execution_count": 1,
   "metadata": {},
   "outputs": [
    {
     "name": "stderr",
     "output_type": "stream",
     "text": [
      "Using backend: pytorch\n"
     ]
    }
   ],
   "source": [
    "root_dir = '..' # dir of the source code\n",
    "import sys\n",
    "sys.path.append(root_dir)\n",
    "from train import main\n",
    "import numpy as np"
   ]
  },
  {
   "cell_type": "code",
   "execution_count": 2,
   "metadata": {},
   "outputs": [],
   "source": [
    "class config:\n",
    "    data = 'ACM'\n",
    "    data_path = '../data/preprocessed/'\n",
    "    model = 'HetGAT'\n",
    "    target_node_type = 'paper'\n",
    "    n_hid = 64\n",
    "    dropout = 0.8\n",
    "    dropout2 = 0.2\n",
    "    learning_rate = 0.005\n",
    "    weight_decay = 5e-5\n",
    "    patience = 100\n",
    "    num_iter = 500\n",
    "    num_test = 30\n",
    "    hop = 2\n",
    "    filter_pct = 0.1 # remove the top and bottom filer_pct points before obtaining statistics of test accuracy\n",
    "    log_step = 1000 # training log step\n",
    "    layer_wise = True\n",
    "    average = 'macro' # 'f1 average: can choose either macro or micro.'\n",
    "\n",
    "args = config()"
   ]
  },
  {
   "cell_type": "code",
   "execution_count": 3,
   "metadata": {
    "scrolled": false
   },
   "outputs": [
    {
     "name": "stdout",
     "output_type": "stream",
     "text": [
      "\n",
      "start testing on ACM dataset\n",
      "total time = 4.027, train time/epoch = 0.02724, best_val_f1 (macro) = 0.926, test_f1 (macro) = 0.901\n",
      "total time = 3.632, train time/epoch = 0.02162, best_val_f1 (macro) = 0.923, test_f1 (macro) = 0.899\n",
      "total time = 3.382, train time/epoch = 0.02200, best_val_f1 (macro) = 0.923, test_f1 (macro) = 0.914\n",
      "total time = 3.636, train time/epoch = 0.02199, best_val_f1 (macro) = 0.927, test_f1 (macro) = 0.919\n",
      "total time = 3.397, train time/epoch = 0.02188, best_val_f1 (macro) = 0.926, test_f1 (macro) = 0.895\n",
      "total time = 3.695, train time/epoch = 0.02163, best_val_f1 (macro) = 0.924, test_f1 (macro) = 0.923\n",
      "total time = 3.364, train time/epoch = 0.02133, best_val_f1 (macro) = 0.923, test_f1 (macro) = 0.916\n",
      "total time = 2.953, train time/epoch = 0.02132, best_val_f1 (macro) = 0.920, test_f1 (macro) = 0.916\n",
      "total time = 3.367, train time/epoch = 0.02141, best_val_f1 (macro) = 0.917, test_f1 (macro) = 0.931\n",
      "total time = 3.273, train time/epoch = 0.02128, best_val_f1 (macro) = 0.927, test_f1 (macro) = 0.922\n",
      "total time = 3.907, train time/epoch = 0.02147, best_val_f1 (macro) = 0.930, test_f1 (macro) = 0.922\n",
      "total time = 3.329, train time/epoch = 0.02178, best_val_f1 (macro) = 0.923, test_f1 (macro) = 0.927\n",
      "total time = 3.321, train time/epoch = 0.02183, best_val_f1 (macro) = 0.927, test_f1 (macro) = 0.910\n",
      "total time = 3.370, train time/epoch = 0.02180, best_val_f1 (macro) = 0.927, test_f1 (macro) = 0.909\n",
      "total time = 3.339, train time/epoch = 0.02150, best_val_f1 (macro) = 0.930, test_f1 (macro) = 0.912\n",
      "total time = 3.448, train time/epoch = 0.02149, best_val_f1 (macro) = 0.937, test_f1 (macro) = 0.920\n",
      "total time = 3.601, train time/epoch = 0.02145, best_val_f1 (macro) = 0.927, test_f1 (macro) = 0.929\n",
      "total time = 3.324, train time/epoch = 0.02141, best_val_f1 (macro) = 0.924, test_f1 (macro) = 0.919\n",
      "total time = 3.290, train time/epoch = 0.02138, best_val_f1 (macro) = 0.930, test_f1 (macro) = 0.917\n",
      "total time = 3.054, train time/epoch = 0.02124, best_val_f1 (macro) = 0.923, test_f1 (macro) = 0.915\n",
      "total time = 3.411, train time/epoch = 0.02183, best_val_f1 (macro) = 0.927, test_f1 (macro) = 0.918\n",
      "total time = 4.192, train time/epoch = 0.02137, best_val_f1 (macro) = 0.927, test_f1 (macro) = 0.919\n",
      "total time = 3.727, train time/epoch = 0.02136, best_val_f1 (macro) = 0.930, test_f1 (macro) = 0.918\n",
      "total time = 3.443, train time/epoch = 0.02150, best_val_f1 (macro) = 0.920, test_f1 (macro) = 0.923\n",
      "total time = 3.205, train time/epoch = 0.02167, best_val_f1 (macro) = 0.917, test_f1 (macro) = 0.909\n",
      "total time = 4.082, train time/epoch = 0.02172, best_val_f1 (macro) = 0.926, test_f1 (macro) = 0.920\n",
      "total time = 3.725, train time/epoch = 0.02158, best_val_f1 (macro) = 0.927, test_f1 (macro) = 0.921\n",
      "total time = 3.584, train time/epoch = 0.02165, best_val_f1 (macro) = 0.923, test_f1 (macro) = 0.912\n",
      "total time = 3.650, train time/epoch = 0.02152, best_val_f1 (macro) = 0.934, test_f1 (macro) = 0.920\n",
      "total time = 3.921, train time/epoch = 0.02151, best_val_f1 (macro) = 0.930, test_f1 (macro) = 0.920\n",
      "test macro-f1 (mean, std):  0.9165020646627585 0.0079511483097176\n",
      "test macro-f1 (mean, std) after filter:  0.9171857253898016 0.004206212815682983\n",
      "\n",
      "start testing on IMDB dataset\n",
      "total time = 3.251, train time/epoch = 0.01805, best_val_f1 (macro) = 0.621, test_f1 (macro) = 0.594\n",
      "total time = 3.215, train time/epoch = 0.01832, best_val_f1 (macro) = 0.615, test_f1 (macro) = 0.587\n",
      "total time = 3.813, train time/epoch = 0.01848, best_val_f1 (macro) = 0.645, test_f1 (macro) = 0.588\n",
      "total time = 11.538, train time/epoch = 0.01828, best_val_f1 (macro) = 0.622, test_f1 (macro) = 0.568\n",
      "total time = 3.242, train time/epoch = 0.01856, best_val_f1 (macro) = 0.632, test_f1 (macro) = 0.593\n",
      "total time = 3.909, train time/epoch = 0.01833, best_val_f1 (macro) = 0.620, test_f1 (macro) = 0.577\n",
      "total time = 3.236, train time/epoch = 0.01839, best_val_f1 (macro) = 0.616, test_f1 (macro) = 0.598\n",
      "total time = 3.073, train time/epoch = 0.02042, best_val_f1 (macro) = 0.617, test_f1 (macro) = 0.581\n",
      "total time = 3.213, train time/epoch = 0.01860, best_val_f1 (macro) = 0.606, test_f1 (macro) = 0.596\n",
      "total time = 3.233, train time/epoch = 0.01808, best_val_f1 (macro) = 0.615, test_f1 (macro) = 0.600\n",
      "total time = 4.085, train time/epoch = 0.01854, best_val_f1 (macro) = 0.620, test_f1 (macro) = 0.578\n",
      "total time = 3.600, train time/epoch = 0.02028, best_val_f1 (macro) = 0.631, test_f1 (macro) = 0.597\n",
      "total time = 3.637, train time/epoch = 0.01910, best_val_f1 (macro) = 0.625, test_f1 (macro) = 0.591\n",
      "total time = 3.047, train time/epoch = 0.01812, best_val_f1 (macro) = 0.627, test_f1 (macro) = 0.602\n",
      "total time = 4.857, train time/epoch = 0.01895, best_val_f1 (macro) = 0.633, test_f1 (macro) = 0.571\n",
      "total time = 3.233, train time/epoch = 0.01906, best_val_f1 (macro) = 0.628, test_f1 (macro) = 0.597\n",
      "total time = 5.501, train time/epoch = 0.01871, best_val_f1 (macro) = 0.631, test_f1 (macro) = 0.575\n",
      "total time = 4.670, train time/epoch = 0.01862, best_val_f1 (macro) = 0.639, test_f1 (macro) = 0.563\n",
      "total time = 3.405, train time/epoch = 0.01828, best_val_f1 (macro) = 0.623, test_f1 (macro) = 0.580\n",
      "total time = 3.168, train time/epoch = 0.01820, best_val_f1 (macro) = 0.610, test_f1 (macro) = 0.580\n",
      "total time = 2.739, train time/epoch = 0.01800, best_val_f1 (macro) = 0.607, test_f1 (macro) = 0.596\n",
      "total time = 4.107, train time/epoch = 0.01850, best_val_f1 (macro) = 0.635, test_f1 (macro) = 0.585\n",
      "total time = 8.895, train time/epoch = 0.01828, best_val_f1 (macro) = 0.622, test_f1 (macro) = 0.557\n",
      "total time = 7.287, train time/epoch = 0.01824, best_val_f1 (macro) = 0.640, test_f1 (macro) = 0.558\n",
      "total time = 3.319, train time/epoch = 0.01808, best_val_f1 (macro) = 0.627, test_f1 (macro) = 0.580\n",
      "total time = 5.191, train time/epoch = 0.01811, best_val_f1 (macro) = 0.634, test_f1 (macro) = 0.569\n",
      "total time = 3.283, train time/epoch = 0.01818, best_val_f1 (macro) = 0.618, test_f1 (macro) = 0.584\n",
      "total time = 2.879, train time/epoch = 0.01896, best_val_f1 (macro) = 0.633, test_f1 (macro) = 0.598\n",
      "total time = 4.435, train time/epoch = 0.01818, best_val_f1 (macro) = 0.621, test_f1 (macro) = 0.575\n",
      "total time = 4.722, train time/epoch = 0.01805, best_val_f1 (macro) = 0.632, test_f1 (macro) = 0.575\n",
      "test macro-f1 (mean, std):  0.5831779161002048 0.01254090818229993\n",
      "test macro-f1 (mean, std) after filter:  0.5840299623217746 0.009421428300160788\n",
      "\n",
      "start testing on DBLP dataset\n",
      "total time = 3.912, train time/epoch = 0.02412, best_val_f1 (macro) = 0.948, test_f1 (macro) = 0.935\n",
      "total time = 3.937, train time/epoch = 0.02401, best_val_f1 (macro) = 0.940, test_f1 (macro) = 0.933\n",
      "total time = 3.872, train time/epoch = 0.02422, best_val_f1 (macro) = 0.940, test_f1 (macro) = 0.936\n",
      "total time = 3.948, train time/epoch = 0.02424, best_val_f1 (macro) = 0.938, test_f1 (macro) = 0.917\n",
      "total time = 4.019, train time/epoch = 0.02443, best_val_f1 (macro) = 0.935, test_f1 (macro) = 0.934\n",
      "total time = 3.959, train time/epoch = 0.02428, best_val_f1 (macro) = 0.940, test_f1 (macro) = 0.931\n",
      "total time = 4.038, train time/epoch = 0.02406, best_val_f1 (macro) = 0.945, test_f1 (macro) = 0.916\n",
      "total time = 3.855, train time/epoch = 0.02390, best_val_f1 (macro) = 0.948, test_f1 (macro) = 0.926\n",
      "total time = 3.894, train time/epoch = 0.02395, best_val_f1 (macro) = 0.945, test_f1 (macro) = 0.940\n",
      "total time = 3.952, train time/epoch = 0.02394, best_val_f1 (macro) = 0.940, test_f1 (macro) = 0.935\n",
      "total time = 3.888, train time/epoch = 0.02397, best_val_f1 (macro) = 0.942, test_f1 (macro) = 0.931\n",
      "total time = 4.040, train time/epoch = 0.02381, best_val_f1 (macro) = 0.940, test_f1 (macro) = 0.921\n",
      "total time = 3.937, train time/epoch = 0.02411, best_val_f1 (macro) = 0.945, test_f1 (macro) = 0.934\n",
      "total time = 3.834, train time/epoch = 0.02421, best_val_f1 (macro) = 0.942, test_f1 (macro) = 0.917\n",
      "total time = 4.265, train time/epoch = 0.02402, best_val_f1 (macro) = 0.943, test_f1 (macro) = 0.912\n",
      "total time = 4.025, train time/epoch = 0.02400, best_val_f1 (macro) = 0.930, test_f1 (macro) = 0.925\n",
      "total time = 4.228, train time/epoch = 0.02399, best_val_f1 (macro) = 0.943, test_f1 (macro) = 0.934\n",
      "total time = 4.121, train time/epoch = 0.02393, best_val_f1 (macro) = 0.935, test_f1 (macro) = 0.920\n"
     ]
    },
    {
     "name": "stdout",
     "output_type": "stream",
     "text": [
      "total time = 4.013, train time/epoch = 0.02384, best_val_f1 (macro) = 0.935, test_f1 (macro) = 0.923\n",
      "total time = 4.559, train time/epoch = 0.02416, best_val_f1 (macro) = 0.950, test_f1 (macro) = 0.920\n",
      "total time = 4.115, train time/epoch = 0.02412, best_val_f1 (macro) = 0.933, test_f1 (macro) = 0.927\n",
      "total time = 4.261, train time/epoch = 0.02472, best_val_f1 (macro) = 0.933, test_f1 (macro) = 0.927\n",
      "total time = 4.613, train time/epoch = 0.02489, best_val_f1 (macro) = 0.942, test_f1 (macro) = 0.923\n",
      "total time = 4.608, train time/epoch = 0.02487, best_val_f1 (macro) = 0.948, test_f1 (macro) = 0.924\n",
      "total time = 3.861, train time/epoch = 0.02402, best_val_f1 (macro) = 0.945, test_f1 (macro) = 0.928\n",
      "total time = 3.942, train time/epoch = 0.02414, best_val_f1 (macro) = 0.948, test_f1 (macro) = 0.932\n",
      "total time = 3.882, train time/epoch = 0.02394, best_val_f1 (macro) = 0.943, test_f1 (macro) = 0.925\n",
      "total time = 3.873, train time/epoch = 0.02381, best_val_f1 (macro) = 0.942, test_f1 (macro) = 0.942\n",
      "total time = 3.939, train time/epoch = 0.02384, best_val_f1 (macro) = 0.943, test_f1 (macro) = 0.940\n",
      "total time = 3.993, train time/epoch = 0.02440, best_val_f1 (macro) = 0.940, test_f1 (macro) = 0.924\n",
      "test macro-f1 (mean, std):  0.9276950575070853 0.007597814073300434\n",
      "test macro-f1 (mean, std) after filter:  0.9276635395324773 0.005473964311197416\n"
     ]
    }
   ],
   "source": [
    "f1s = []\n",
    "datasets = ['ACM', 'IMDB', 'DBLP']\n",
    "for dataset in datasets:\n",
    "    args.data = dataset\n",
    "    if dataset == 'ACM':\n",
    "        args.dropout = 0.8\n",
    "        args.dropout2 = 0.2\n",
    "        args.target_node_type = 'paper'\n",
    "        print('\\nstart testing on ' + dataset + ' dataset')\n",
    "        f1s.append(main(args))\n",
    "    elif dataset == 'IMDB':\n",
    "        args.dropout = 0.8\n",
    "        args.dropout2 = 0.2\n",
    "        args.target_node_type = 'movie'\n",
    "        print('\\nstart testing on ' + dataset + ' dataset')\n",
    "        f1s.append(main(args))\n",
    "    elif dataset == 'DBLP':\n",
    "        args.dropout = 0\n",
    "        args.dropout2 = 0\n",
    "        args.target_node_type = 'author'\n",
    "        print('\\nstart testing on ' + dataset + ' dataset')\n",
    "        f1s.append(main(args))"
   ]
  },
  {
   "cell_type": "code",
   "execution_count": 4,
   "metadata": {},
   "outputs": [],
   "source": [
    "f1s = np.array(f1s)"
   ]
  },
  {
   "cell_type": "code",
   "execution_count": null,
   "metadata": {},
   "outputs": [],
   "source": []
  }
 ],
 "metadata": {
  "kernelspec": {
   "display_name": "Python 3",
   "language": "python",
   "name": "python3"
  },
  "language_info": {
   "codemirror_mode": {
    "name": "ipython",
    "version": 3
   },
   "file_extension": ".py",
   "mimetype": "text/x-python",
   "name": "python",
   "nbconvert_exporter": "python",
   "pygments_lexer": "ipython3",
   "version": "3.8.8"
  }
 },
 "nbformat": 4,
 "nbformat_minor": 4
}
