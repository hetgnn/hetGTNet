{
 "cells": [
  {
   "cell_type": "code",
   "execution_count": 1,
   "metadata": {},
   "outputs": [
    {
     "name": "stderr",
     "output_type": "stream",
     "text": [
      "Using backend: pytorch\n"
     ]
    }
   ],
   "source": [
    "root_dir = '..' # dir of the source code\n",
    "import sys\n",
    "sys.path.append(root_dir)\n",
    "from train import main\n",
    "import numpy as np"
   ]
  },
  {
   "cell_type": "code",
   "execution_count": 2,
   "metadata": {},
   "outputs": [],
   "source": [
    "class config:\n",
    "    data = 'ACM'\n",
    "    data_path = '../data/preprocessed/'\n",
    "    model = 'RGCN'\n",
    "    n_hid = 64\n",
    "    dropout = 0.5\n",
    "    learning_rate = 0.005\n",
    "    weight_decay = 1e-5\n",
    "    patience = 100\n",
    "    num_iter = 500\n",
    "    num_test = 30\n",
    "    hop = 10\n",
    "    num_bases = 5 # num bases for RGCN\n",
    "    filter_pct = 0.1 # remove the top and bottom filer_pct points before obtaining statistics of test accuracy\n",
    "    log_step = 1000 # training log step\n",
    "    average = 'macro' # 'f1 average: can choose either macro or micro.'\n",
    "\n",
    "args = config()"
   ]
  },
  {
   "cell_type": "code",
   "execution_count": 3,
   "metadata": {
    "scrolled": false
   },
   "outputs": [
    {
     "name": "stdout",
     "output_type": "stream",
     "text": [
      "\n",
      "start testing on ACM dataset\n",
      "total time = 32.001, train time/epoch = 0.09325, best_val_f1 (macro) = 0.678, test_f1 (macro) = 0.613\n",
      "total time = 58.373, train time/epoch = 0.09447, best_val_f1 (macro) = 0.881, test_f1 (macro) = 0.825\n",
      "total time = 34.960, train time/epoch = 0.09504, best_val_f1 (macro) = 0.697, test_f1 (macro) = 0.686\n",
      "total time = 61.863, train time/epoch = 0.09549, best_val_f1 (macro) = 0.795, test_f1 (macro) = 0.738\n",
      "total time = 14.987, train time/epoch = 0.09540, best_val_f1 (macro) = 0.329, test_f1 (macro) = 0.354\n",
      "total time = 33.403, train time/epoch = 0.09492, best_val_f1 (macro) = 0.675, test_f1 (macro) = 0.636\n",
      "total time = 32.381, train time/epoch = 0.09519, best_val_f1 (macro) = 0.651, test_f1 (macro) = 0.655\n",
      "total time = 67.356, train time/epoch = 0.09468, best_val_f1 (macro) = 0.867, test_f1 (macro) = 0.802\n",
      "total time = 63.210, train time/epoch = 0.09485, best_val_f1 (macro) = 0.829, test_f1 (macro) = 0.824\n",
      "total time = 34.490, train time/epoch = 0.09485, best_val_f1 (macro) = 0.696, test_f1 (macro) = 0.669\n",
      "total time = 55.645, train time/epoch = 0.09525, best_val_f1 (macro) = 0.862, test_f1 (macro) = 0.840\n",
      "total time = 68.353, train time/epoch = 0.09471, best_val_f1 (macro) = 0.784, test_f1 (macro) = 0.772\n",
      "total time = 48.362, train time/epoch = 0.09491, best_val_f1 (macro) = 0.866, test_f1 (macro) = 0.856\n",
      "total time = 37.102, train time/epoch = 0.09565, best_val_f1 (macro) = 0.738, test_f1 (macro) = 0.672\n",
      "total time = 53.573, train time/epoch = 0.09428, best_val_f1 (macro) = 0.736, test_f1 (macro) = 0.685\n",
      "total time = 13.820, train time/epoch = 0.09229, best_val_f1 (macro) = 0.443, test_f1 (macro) = 0.402\n",
      "total time = 36.864, train time/epoch = 0.09364, best_val_f1 (macro) = 0.687, test_f1 (macro) = 0.653\n",
      "total time = 34.928, train time/epoch = 0.09458, best_val_f1 (macro) = 0.723, test_f1 (macro) = 0.662\n",
      "total time = 32.780, train time/epoch = 0.09475, best_val_f1 (macro) = 0.746, test_f1 (macro) = 0.688\n",
      "total time = 22.314, train time/epoch = 0.09607, best_val_f1 (macro) = 0.604, test_f1 (macro) = 0.557\n",
      "total time = 51.876, train time/epoch = 0.09491, best_val_f1 (macro) = 0.884, test_f1 (macro) = 0.863\n",
      "total time = 52.951, train time/epoch = 0.09535, best_val_f1 (macro) = 0.764, test_f1 (macro) = 0.698\n",
      "total time = 57.845, train time/epoch = 0.09469, best_val_f1 (macro) = 0.848, test_f1 (macro) = 0.811\n",
      "total time = 38.545, train time/epoch = 0.09154, best_val_f1 (macro) = 0.732, test_f1 (macro) = 0.690\n",
      "total time = 59.265, train time/epoch = 0.09503, best_val_f1 (macro) = 0.888, test_f1 (macro) = 0.868\n",
      "total time = 41.573, train time/epoch = 0.09476, best_val_f1 (macro) = 0.863, test_f1 (macro) = 0.860\n",
      "total time = 28.965, train time/epoch = 0.08851, best_val_f1 (macro) = 0.659, test_f1 (macro) = 0.650\n",
      "total time = 14.454, train time/epoch = 0.09539, best_val_f1 (macro) = 0.523, test_f1 (macro) = 0.559\n",
      "total time = 34.204, train time/epoch = 0.09928, best_val_f1 (macro) = 0.663, test_f1 (macro) = 0.611\n",
      "total time = 68.251, train time/epoch = 0.09465, best_val_f1 (macro) = 0.842, test_f1 (macro) = 0.844\n",
      "test macro-f1 (mean, std):  0.7013668735797567 0.1270926022224105\n",
      "test macro-f1 (mean, std) after filter:  0.714099454013974 0.08422261568421656\n",
      "\n",
      "start testing on IMDB dataset\n",
      "total time = 63.867, train time/epoch = 0.09590, best_val_f1 (macro) = 0.416, test_f1 (macro) = 0.355\n",
      "total time = 43.030, train time/epoch = 0.09533, best_val_f1 (macro) = 0.277, test_f1 (macro) = 0.245\n",
      "total time = 51.069, train time/epoch = 0.09519, best_val_f1 (macro) = 0.303, test_f1 (macro) = 0.275\n",
      "total time = 14.474, train time/epoch = 0.09449, best_val_f1 (macro) = 0.272, test_f1 (macro) = 0.240\n",
      "total time = 25.375, train time/epoch = 0.09551, best_val_f1 (macro) = 0.288, test_f1 (macro) = 0.237\n",
      "total time = 33.413, train time/epoch = 0.09564, best_val_f1 (macro) = 0.347, test_f1 (macro) = 0.328\n",
      "total time = 36.987, train time/epoch = 0.09546, best_val_f1 (macro) = 0.333, test_f1 (macro) = 0.300\n",
      "total time = 24.202, train time/epoch = 0.09555, best_val_f1 (macro) = 0.450, test_f1 (macro) = 0.420\n",
      "total time = 69.390, train time/epoch = 0.09591, best_val_f1 (macro) = 0.327, test_f1 (macro) = 0.291\n",
      "total time = 55.421, train time/epoch = 0.09555, best_val_f1 (macro) = 0.306, test_f1 (macro) = 0.292\n",
      "total time = 51.278, train time/epoch = 0.09551, best_val_f1 (macro) = 0.333, test_f1 (macro) = 0.323\n",
      "total time = 30.156, train time/epoch = 0.09653, best_val_f1 (macro) = 0.375, test_f1 (macro) = 0.372\n",
      "total time = 25.317, train time/epoch = 0.09423, best_val_f1 (macro) = 0.300, test_f1 (macro) = 0.261\n",
      "total time = 18.079, train time/epoch = 0.09543, best_val_f1 (macro) = 0.272, test_f1 (macro) = 0.237\n",
      "total time = 24.892, train time/epoch = 0.09564, best_val_f1 (macro) = 0.327, test_f1 (macro) = 0.279\n",
      "total time = 26.392, train time/epoch = 0.09558, best_val_f1 (macro) = 0.367, test_f1 (macro) = 0.352\n",
      "total time = 25.163, train time/epoch = 0.09562, best_val_f1 (macro) = 0.409, test_f1 (macro) = 0.324\n",
      "total time = 27.259, train time/epoch = 0.09572, best_val_f1 (macro) = 0.365, test_f1 (macro) = 0.347\n",
      "total time = 39.697, train time/epoch = 0.09484, best_val_f1 (macro) = 0.293, test_f1 (macro) = 0.292\n",
      "total time = 46.775, train time/epoch = 0.09513, best_val_f1 (macro) = 0.327, test_f1 (macro) = 0.301\n",
      "total time = 38.641, train time/epoch = 0.09433, best_val_f1 (macro) = 0.300, test_f1 (macro) = 0.263\n",
      "total time = 55.251, train time/epoch = 0.09519, best_val_f1 (macro) = 0.395, test_f1 (macro) = 0.379\n",
      "total time = 23.684, train time/epoch = 0.09590, best_val_f1 (macro) = 0.256, test_f1 (macro) = 0.223\n",
      "total time = 27.851, train time/epoch = 0.09483, best_val_f1 (macro) = 0.334, test_f1 (macro) = 0.310\n",
      "total time = 27.079, train time/epoch = 0.09553, best_val_f1 (macro) = 0.265, test_f1 (macro) = 0.229\n",
      "total time = 18.925, train time/epoch = 0.09573, best_val_f1 (macro) = 0.218, test_f1 (macro) = 0.173\n",
      "total time = 27.016, train time/epoch = 0.09528, best_val_f1 (macro) = 0.310, test_f1 (macro) = 0.287\n",
      "total time = 17.359, train time/epoch = 0.09465, best_val_f1 (macro) = 0.258, test_f1 (macro) = 0.251\n",
      "total time = 25.237, train time/epoch = 0.09648, best_val_f1 (macro) = 0.306, test_f1 (macro) = 0.321\n",
      "total time = 55.212, train time/epoch = 0.09663, best_val_f1 (macro) = 0.310, test_f1 (macro) = 0.285\n",
      "test macro-f1 (mean, std):  0.2930898204524429 0.052711968373016393\n",
      "test macro-f1 (mean, std) after filter:  0.29156291630308245 0.035459903517291426\n",
      "\n",
      "start testing on DBLP dataset\n",
      "total time = 28.338, train time/epoch = 0.11919, best_val_f1 (macro) = 0.950, test_f1 (macro) = 0.921\n",
      "total time = 32.721, train time/epoch = 0.11560, best_val_f1 (macro) = 0.955, test_f1 (macro) = 0.947\n",
      "total time = 33.538, train time/epoch = 0.11545, best_val_f1 (macro) = 0.958, test_f1 (macro) = 0.937\n",
      "total time = 28.954, train time/epoch = 0.11718, best_val_f1 (macro) = 0.950, test_f1 (macro) = 0.930\n",
      "total time = 39.892, train time/epoch = 0.11588, best_val_f1 (macro) = 0.955, test_f1 (macro) = 0.930\n",
      "total time = 32.305, train time/epoch = 0.11676, best_val_f1 (macro) = 0.950, test_f1 (macro) = 0.931\n",
      "total time = 28.715, train time/epoch = 0.11625, best_val_f1 (macro) = 0.953, test_f1 (macro) = 0.930\n",
      "total time = 29.651, train time/epoch = 0.11724, best_val_f1 (macro) = 0.955, test_f1 (macro) = 0.936\n",
      "total time = 27.770, train time/epoch = 0.11611, best_val_f1 (macro) = 0.958, test_f1 (macro) = 0.931\n",
      "total time = 36.143, train time/epoch = 0.11661, best_val_f1 (macro) = 0.955, test_f1 (macro) = 0.940\n",
      "total time = 25.301, train time/epoch = 0.11745, best_val_f1 (macro) = 0.951, test_f1 (macro) = 0.932\n",
      "total time = 24.457, train time/epoch = 0.11737, best_val_f1 (macro) = 0.953, test_f1 (macro) = 0.926\n",
      "total time = 29.723, train time/epoch = 0.11668, best_val_f1 (macro) = 0.953, test_f1 (macro) = 0.928\n",
      "total time = 37.370, train time/epoch = 0.11612, best_val_f1 (macro) = 0.948, test_f1 (macro) = 0.928\n",
      "total time = 27.996, train time/epoch = 0.11613, best_val_f1 (macro) = 0.950, test_f1 (macro) = 0.928\n",
      "total time = 30.835, train time/epoch = 0.11756, best_val_f1 (macro) = 0.948, test_f1 (macro) = 0.936\n",
      "total time = 30.636, train time/epoch = 0.11690, best_val_f1 (macro) = 0.958, test_f1 (macro) = 0.942\n"
     ]
    },
    {
     "name": "stdout",
     "output_type": "stream",
     "text": [
      "total time = 27.742, train time/epoch = 0.11662, best_val_f1 (macro) = 0.960, test_f1 (macro) = 0.935\n",
      "total time = 37.555, train time/epoch = 0.11731, best_val_f1 (macro) = 0.950, test_f1 (macro) = 0.931\n",
      "total time = 26.190, train time/epoch = 0.11678, best_val_f1 (macro) = 0.943, test_f1 (macro) = 0.923\n",
      "total time = 25.719, train time/epoch = 0.11595, best_val_f1 (macro) = 0.953, test_f1 (macro) = 0.932\n",
      "total time = 28.251, train time/epoch = 0.11724, best_val_f1 (macro) = 0.952, test_f1 (macro) = 0.933\n",
      "total time = 31.252, train time/epoch = 0.11783, best_val_f1 (macro) = 0.955, test_f1 (macro) = 0.937\n",
      "total time = 25.787, train time/epoch = 0.11625, best_val_f1 (macro) = 0.955, test_f1 (macro) = 0.919\n",
      "total time = 24.344, train time/epoch = 0.11530, best_val_f1 (macro) = 0.948, test_f1 (macro) = 0.926\n",
      "total time = 33.634, train time/epoch = 0.11836, best_val_f1 (macro) = 0.955, test_f1 (macro) = 0.913\n",
      "total time = 28.714, train time/epoch = 0.11620, best_val_f1 (macro) = 0.963, test_f1 (macro) = 0.935\n",
      "total time = 27.689, train time/epoch = 0.11843, best_val_f1 (macro) = 0.948, test_f1 (macro) = 0.926\n",
      "total time = 37.587, train time/epoch = 0.11670, best_val_f1 (macro) = 0.958, test_f1 (macro) = 0.932\n",
      "total time = 30.666, train time/epoch = 0.11707, best_val_f1 (macro) = 0.955, test_f1 (macro) = 0.937\n",
      "test macro-f1 (mean, std):  0.9310828306891951 0.006867935833487664\n",
      "test macro-f1 (mean, std) after filter:  0.9312907700448712 0.003979256612763107\n"
     ]
    }
   ],
   "source": [
    "f1s = []\n",
    "datasets = ['ACM', 'IMDB', 'DBLP']\n",
    "for dataset in datasets:\n",
    "    args.data = dataset\n",
    "    if dataset == 'ACM':\n",
    "        args.dropout = 0.5\n",
    "        print('\\nstart testing on ' + dataset + ' dataset')\n",
    "        f1s.append(main(args))\n",
    "    elif dataset == 'IMDB':\n",
    "        args.dropout = 0.5\n",
    "        print('\\nstart testing on ' + dataset + ' dataset')\n",
    "        f1s.append(main(args))\n",
    "    elif dataset == 'DBLP':\n",
    "        args.dropout = 0\n",
    "        print('\\nstart testing on ' + dataset + ' dataset')\n",
    "        f1s.append(main(args))"
   ]
  },
  {
   "cell_type": "code",
   "execution_count": null,
   "metadata": {},
   "outputs": [],
   "source": []
  }
 ],
 "metadata": {
  "kernelspec": {
   "display_name": "Python 3",
   "language": "python",
   "name": "python3"
  },
  "language_info": {
   "codemirror_mode": {
    "name": "ipython",
    "version": 3
   },
   "file_extension": ".py",
   "mimetype": "text/x-python",
   "name": "python",
   "nbconvert_exporter": "python",
   "pygments_lexer": "ipython3",
   "version": "3.8.8"
  }
 },
 "nbformat": 4,
 "nbformat_minor": 4
}
