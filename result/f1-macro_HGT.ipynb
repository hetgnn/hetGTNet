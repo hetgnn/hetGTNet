{
 "cells": [
  {
   "cell_type": "code",
   "execution_count": 1,
   "metadata": {},
   "outputs": [
    {
     "name": "stderr",
     "output_type": "stream",
     "text": [
      "Using backend: pytorch\n"
     ]
    }
   ],
   "source": [
    "root_dir = '..' # dir of the source code\n",
    "import sys\n",
    "sys.path.append(root_dir)\n",
    "from train import main\n",
    "import numpy as np"
   ]
  },
  {
   "cell_type": "code",
   "execution_count": 2,
   "metadata": {},
   "outputs": [],
   "source": [
    "class config:\n",
    "    data = 'ACM'\n",
    "    data_path = '../data/preprocessed/'\n",
    "    model = 'HGT'\n",
    "    target_node_type = 'paper'\n",
    "    n_hid = 64\n",
    "    num_heads = 4\n",
    "    learning_rate = 0.005\n",
    "    weight_decay = 5e-5\n",
    "    patience = 100\n",
    "    num_iter = 500\n",
    "    num_test = 30\n",
    "    hop = 2\n",
    "    filter_pct = 0.1 # remove the top and bottom filer_pct points before obtaining statistics of test accuracy\n",
    "    log_step = 1000 # training log step\n",
    "    average = 'macro' # 'f1 average: can choose either macro or micro.'\n",
    "\n",
    "args = config()"
   ]
  },
  {
   "cell_type": "code",
   "execution_count": 3,
   "metadata": {},
   "outputs": [
    {
     "name": "stdout",
     "output_type": "stream",
     "text": [
      "\n",
      "start testing on ACM dataset\n",
      "total time = 11.981, train time/epoch = 0.05062, best_val_f1 (macro) = 0.896, test_f1 (macro) = 0.848\n",
      "total time = 10.170, train time/epoch = 0.04469, best_val_f1 (macro) = 0.913, test_f1 (macro) = 0.871\n",
      "total time = 8.120, train time/epoch = 0.04697, best_val_f1 (macro) = 0.907, test_f1 (macro) = 0.886\n",
      "total time = 7.790, train time/epoch = 0.04583, best_val_f1 (macro) = 0.903, test_f1 (macro) = 0.871\n",
      "total time = 9.557, train time/epoch = 0.04475, best_val_f1 (macro) = 0.893, test_f1 (macro) = 0.855\n",
      "total time = 8.027, train time/epoch = 0.04437, best_val_f1 (macro) = 0.893, test_f1 (macro) = 0.874\n",
      "total time = 8.232, train time/epoch = 0.04567, best_val_f1 (macro) = 0.899, test_f1 (macro) = 0.838\n",
      "total time = 9.405, train time/epoch = 0.04498, best_val_f1 (macro) = 0.907, test_f1 (macro) = 0.879\n",
      "total time = 7.680, train time/epoch = 0.04441, best_val_f1 (macro) = 0.890, test_f1 (macro) = 0.852\n",
      "total time = 7.536, train time/epoch = 0.04503, best_val_f1 (macro) = 0.900, test_f1 (macro) = 0.877\n",
      "total time = 8.385, train time/epoch = 0.04509, best_val_f1 (macro) = 0.904, test_f1 (macro) = 0.900\n",
      "total time = 9.125, train time/epoch = 0.04527, best_val_f1 (macro) = 0.900, test_f1 (macro) = 0.869\n",
      "total time = 8.935, train time/epoch = 0.04461, best_val_f1 (macro) = 0.907, test_f1 (macro) = 0.885\n",
      "total time = 9.495, train time/epoch = 0.04430, best_val_f1 (macro) = 0.889, test_f1 (macro) = 0.856\n",
      "total time = 8.551, train time/epoch = 0.04480, best_val_f1 (macro) = 0.893, test_f1 (macro) = 0.860\n",
      "total time = 8.363, train time/epoch = 0.04527, best_val_f1 (macro) = 0.907, test_f1 (macro) = 0.867\n",
      "total time = 9.849, train time/epoch = 0.04506, best_val_f1 (macro) = 0.910, test_f1 (macro) = 0.881\n",
      "total time = 9.426, train time/epoch = 0.04468, best_val_f1 (macro) = 0.903, test_f1 (macro) = 0.887\n",
      "total time = 10.886, train time/epoch = 0.04466, best_val_f1 (macro) = 0.896, test_f1 (macro) = 0.867\n",
      "total time = 8.333, train time/epoch = 0.04458, best_val_f1 (macro) = 0.881, test_f1 (macro) = 0.868\n",
      "total time = 8.868, train time/epoch = 0.04437, best_val_f1 (macro) = 0.913, test_f1 (macro) = 0.877\n",
      "total time = 8.739, train time/epoch = 0.04467, best_val_f1 (macro) = 0.887, test_f1 (macro) = 0.887\n",
      "total time = 8.162, train time/epoch = 0.04443, best_val_f1 (macro) = 0.904, test_f1 (macro) = 0.883\n",
      "total time = 8.737, train time/epoch = 0.04499, best_val_f1 (macro) = 0.899, test_f1 (macro) = 0.858\n",
      "total time = 8.924, train time/epoch = 0.04460, best_val_f1 (macro) = 0.907, test_f1 (macro) = 0.882\n",
      "total time = 8.166, train time/epoch = 0.04461, best_val_f1 (macro) = 0.880, test_f1 (macro) = 0.862\n",
      "total time = 8.896, train time/epoch = 0.04443, best_val_f1 (macro) = 0.890, test_f1 (macro) = 0.864\n",
      "total time = 9.192, train time/epoch = 0.04423, best_val_f1 (macro) = 0.890, test_f1 (macro) = 0.871\n",
      "total time = 8.224, train time/epoch = 0.04443, best_val_f1 (macro) = 0.909, test_f1 (macro) = 0.862\n",
      "total time = 7.922, train time/epoch = 0.04502, best_val_f1 (macro) = 0.914, test_f1 (macro) = 0.901\n",
      "test macro-f1 (mean, std):  0.8712548294664251 0.014324069073562425\n",
      "test macro-f1 (mean, std) after filter:  0.8713070574061762 0.009587561218606728\n",
      "\n",
      "start testing on IMDB dataset\n",
      "total time = 8.911, train time/epoch = 0.04365, best_val_f1 (macro) = 0.593, test_f1 (macro) = 0.548\n",
      "total time = 11.529, train time/epoch = 0.04341, best_val_f1 (macro) = 0.600, test_f1 (macro) = 0.565\n",
      "total time = 8.956, train time/epoch = 0.04349, best_val_f1 (macro) = 0.619, test_f1 (macro) = 0.569\n",
      "total time = 9.443, train time/epoch = 0.04437, best_val_f1 (macro) = 0.595, test_f1 (macro) = 0.539\n",
      "total time = 10.457, train time/epoch = 0.04345, best_val_f1 (macro) = 0.590, test_f1 (macro) = 0.559\n",
      "total time = 7.732, train time/epoch = 0.04336, best_val_f1 (macro) = 0.598, test_f1 (macro) = 0.569\n",
      "total time = 8.211, train time/epoch = 0.04446, best_val_f1 (macro) = 0.603, test_f1 (macro) = 0.580\n",
      "total time = 10.385, train time/epoch = 0.04460, best_val_f1 (macro) = 0.599, test_f1 (macro) = 0.560\n",
      "total time = 9.290, train time/epoch = 0.04373, best_val_f1 (macro) = 0.613, test_f1 (macro) = 0.564\n",
      "total time = 8.773, train time/epoch = 0.04377, best_val_f1 (macro) = 0.618, test_f1 (macro) = 0.568\n",
      "total time = 7.835, train time/epoch = 0.04391, best_val_f1 (macro) = 0.613, test_f1 (macro) = 0.578\n",
      "total time = 7.598, train time/epoch = 0.04359, best_val_f1 (macro) = 0.586, test_f1 (macro) = 0.564\n",
      "total time = 12.579, train time/epoch = 0.04407, best_val_f1 (macro) = 0.586, test_f1 (macro) = 0.559\n",
      "total time = 8.726, train time/epoch = 0.04417, best_val_f1 (macro) = 0.609, test_f1 (macro) = 0.569\n",
      "total time = 7.783, train time/epoch = 0.04357, best_val_f1 (macro) = 0.601, test_f1 (macro) = 0.572\n",
      "total time = 9.578, train time/epoch = 0.04323, best_val_f1 (macro) = 0.618, test_f1 (macro) = 0.557\n",
      "total time = 7.627, train time/epoch = 0.04353, best_val_f1 (macro) = 0.616, test_f1 (macro) = 0.569\n",
      "total time = 11.936, train time/epoch = 0.04332, best_val_f1 (macro) = 0.572, test_f1 (macro) = 0.545\n",
      "total time = 9.098, train time/epoch = 0.04364, best_val_f1 (macro) = 0.611, test_f1 (macro) = 0.570\n",
      "total time = 9.143, train time/epoch = 0.04433, best_val_f1 (macro) = 0.582, test_f1 (macro) = 0.553\n",
      "total time = 9.430, train time/epoch = 0.04372, best_val_f1 (macro) = 0.595, test_f1 (macro) = 0.577\n",
      "total time = 7.590, train time/epoch = 0.04359, best_val_f1 (macro) = 0.613, test_f1 (macro) = 0.564\n",
      "total time = 10.571, train time/epoch = 0.04340, best_val_f1 (macro) = 0.581, test_f1 (macro) = 0.566\n",
      "total time = 10.040, train time/epoch = 0.04409, best_val_f1 (macro) = 0.614, test_f1 (macro) = 0.567\n",
      "total time = 10.531, train time/epoch = 0.04381, best_val_f1 (macro) = 0.586, test_f1 (macro) = 0.552\n",
      "total time = 9.904, train time/epoch = 0.04440, best_val_f1 (macro) = 0.597, test_f1 (macro) = 0.559\n",
      "total time = 9.328, train time/epoch = 0.04426, best_val_f1 (macro) = 0.586, test_f1 (macro) = 0.563\n",
      "total time = 7.575, train time/epoch = 0.04384, best_val_f1 (macro) = 0.622, test_f1 (macro) = 0.562\n",
      "total time = 11.959, train time/epoch = 0.04373, best_val_f1 (macro) = 0.597, test_f1 (macro) = 0.560\n",
      "total time = 15.910, train time/epoch = 0.04414, best_val_f1 (macro) = 0.557, test_f1 (macro) = 0.541\n",
      "test macro-f1 (mean, std):  0.5622567370477527 0.009897333597810226\n",
      "test macro-f1 (mean, std) after filter:  0.5628020909972039 0.006107573066555795\n",
      "\n",
      "start testing on DBLP dataset\n",
      "total time = 17.051, train time/epoch = 0.09672, best_val_f1 (macro) = 0.925, test_f1 (macro) = 0.909\n",
      "total time = 17.396, train time/epoch = 0.09634, best_val_f1 (macro) = 0.920, test_f1 (macro) = 0.905\n",
      "total time = 23.052, train time/epoch = 0.09614, best_val_f1 (macro) = 0.925, test_f1 (macro) = 0.907\n",
      "total time = 18.610, train time/epoch = 0.09634, best_val_f1 (macro) = 0.922, test_f1 (macro) = 0.919\n",
      "total time = 18.449, train time/epoch = 0.09558, best_val_f1 (macro) = 0.918, test_f1 (macro) = 0.904\n",
      "total time = 18.400, train time/epoch = 0.10101, best_val_f1 (macro) = 0.935, test_f1 (macro) = 0.928\n",
      "total time = 18.334, train time/epoch = 0.09576, best_val_f1 (macro) = 0.915, test_f1 (macro) = 0.904\n",
      "total time = 18.158, train time/epoch = 0.09602, best_val_f1 (macro) = 0.933, test_f1 (macro) = 0.909\n",
      "total time = 37.244, train time/epoch = 0.09673, best_val_f1 (macro) = 0.927, test_f1 (macro) = 0.907\n",
      "total time = 18.081, train time/epoch = 0.09677, best_val_f1 (macro) = 0.935, test_f1 (macro) = 0.924\n",
      "total time = 17.455, train time/epoch = 0.09642, best_val_f1 (macro) = 0.932, test_f1 (macro) = 0.927\n",
      "total time = 18.364, train time/epoch = 0.09558, best_val_f1 (macro) = 0.930, test_f1 (macro) = 0.917\n",
      "total time = 17.570, train time/epoch = 0.09626, best_val_f1 (macro) = 0.951, test_f1 (macro) = 0.925\n",
      "total time = 35.115, train time/epoch = 0.10121, best_val_f1 (macro) = 0.930, test_f1 (macro) = 0.908\n",
      "total time = 18.844, train time/epoch = 0.10130, best_val_f1 (macro) = 0.914, test_f1 (macro) = 0.905\n",
      "total time = 17.318, train time/epoch = 0.09894, best_val_f1 (macro) = 0.943, test_f1 (macro) = 0.929\n",
      "total time = 17.854, train time/epoch = 0.09565, best_val_f1 (macro) = 0.925, test_f1 (macro) = 0.910\n"
     ]
    },
    {
     "name": "stdout",
     "output_type": "stream",
     "text": [
      "total time = 17.180, train time/epoch = 0.09650, best_val_f1 (macro) = 0.950, test_f1 (macro) = 0.928\n",
      "total time = 18.183, train time/epoch = 0.09721, best_val_f1 (macro) = 0.922, test_f1 (macro) = 0.920\n",
      "total time = 17.267, train time/epoch = 0.09760, best_val_f1 (macro) = 0.935, test_f1 (macro) = 0.920\n",
      "total time = 17.408, train time/epoch = 0.09545, best_val_f1 (macro) = 0.928, test_f1 (macro) = 0.904\n",
      "total time = 17.346, train time/epoch = 0.09608, best_val_f1 (macro) = 0.927, test_f1 (macro) = 0.921\n",
      "total time = 17.532, train time/epoch = 0.09604, best_val_f1 (macro) = 0.927, test_f1 (macro) = 0.925\n",
      "total time = 18.258, train time/epoch = 0.09697, best_val_f1 (macro) = 0.945, test_f1 (macro) = 0.929\n",
      "total time = 21.062, train time/epoch = 0.09554, best_val_f1 (macro) = 0.925, test_f1 (macro) = 0.901\n",
      "total time = 17.467, train time/epoch = 0.09581, best_val_f1 (macro) = 0.940, test_f1 (macro) = 0.930\n",
      "total time = 17.542, train time/epoch = 0.09531, best_val_f1 (macro) = 0.930, test_f1 (macro) = 0.915\n",
      "total time = 16.934, train time/epoch = 0.09865, best_val_f1 (macro) = 0.940, test_f1 (macro) = 0.924\n",
      "total time = 26.680, train time/epoch = 0.09586, best_val_f1 (macro) = 0.920, test_f1 (macro) = 0.906\n",
      "total time = 17.683, train time/epoch = 0.09938, best_val_f1 (macro) = 0.933, test_f1 (macro) = 0.924\n",
      "test macro-f1 (mean, std):  0.9161238179485067 0.00943104475548033\n",
      "test macro-f1 (mean, std) after filter:  0.9160669990964405 0.008247171251755224\n"
     ]
    }
   ],
   "source": [
    "f1s = []\n",
    "datasets = ['ACM', 'IMDB', 'DBLP']\n",
    "for dataset in datasets:\n",
    "    args.data = dataset\n",
    "    if dataset == 'ACM':\n",
    "        args.hop = 2\n",
    "        args.num_heads = 4\n",
    "        args.target_node_type = 'paper'\n",
    "        print('\\nstart testing on ' + dataset + ' dataset')\n",
    "        f1s.append(main(args))\n",
    "    elif dataset == 'IMDB':\n",
    "        args.hop = 2\n",
    "        args.num_heads = 4\n",
    "        args.target_node_type = 'movie'\n",
    "        print('\\nstart testing on ' + dataset + ' dataset')\n",
    "        f1s.append(main(args))\n",
    "    elif dataset == 'DBLP':\n",
    "        args.hop = 3\n",
    "        args.num_heads = 4\n",
    "        args.target_node_type = 'author'\n",
    "        print('\\nstart testing on ' + dataset + ' dataset')\n",
    "        f1s.append(main(args))"
   ]
  },
  {
   "cell_type": "code",
   "execution_count": 4,
   "metadata": {},
   "outputs": [],
   "source": [
    "f1s = np.array(f1s)\n",
    "np.savetxt('f1-macro_HGT.txt',f1s)"
   ]
  },
  {
   "cell_type": "code",
   "execution_count": null,
   "metadata": {},
   "outputs": [],
   "source": []
  }
 ],
 "metadata": {
  "kernelspec": {
   "display_name": "Python 3",
   "language": "python",
   "name": "python3"
  },
  "language_info": {
   "codemirror_mode": {
    "name": "ipython",
    "version": 3
   },
   "file_extension": ".py",
   "mimetype": "text/x-python",
   "name": "python",
   "nbconvert_exporter": "python",
   "pygments_lexer": "ipython3",
   "version": "3.8.8"
  }
 },
 "nbformat": 4,
 "nbformat_minor": 4
}
