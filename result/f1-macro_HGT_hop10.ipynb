{
 "cells": [
  {
   "cell_type": "code",
   "execution_count": 1,
   "metadata": {},
   "outputs": [
    {
     "name": "stderr",
     "output_type": "stream",
     "text": [
      "Using backend: pytorch\n"
     ]
    }
   ],
   "source": [
    "root_dir = '..' # dir of the source code\n",
    "import sys\n",
    "sys.path.append(root_dir)\n",
    "from train import main\n",
    "import numpy as np"
   ]
  },
  {
   "cell_type": "code",
   "execution_count": 2,
   "metadata": {},
   "outputs": [],
   "source": [
    "class config:\n",
    "    data = 'ACM'\n",
    "    data_path = '../data/preprocessed/'\n",
    "    model = 'HGT'\n",
    "    target_node_type = 'paper'\n",
    "    n_hid = 64\n",
    "    num_heads = 4\n",
    "    learning_rate = 0.005\n",
    "    weight_decay = 5e-5\n",
    "    patience = 100\n",
    "    num_iter = 500\n",
    "    num_test = 30\n",
    "    hop = 10\n",
    "    filter_pct = 0.1 # remove the top and bottom filer_pct points before obtaining statistics of test accuracy\n",
    "    log_step = 1000 # training log step\n",
    "    average = 'macro' # 'f1 average: can choose either macro or micro.'\n",
    "\n",
    "args = config()"
   ]
  },
  {
   "cell_type": "code",
   "execution_count": 3,
   "metadata": {},
   "outputs": [
    {
     "name": "stdout",
     "output_type": "stream",
     "text": [
      "\n",
      "start testing on ACM dataset\n",
      "total time = 42.685, train time/epoch = 0.23896, best_val_f1 (macro) = 0.923, test_f1 (macro) = 0.888\n",
      "total time = 37.233, train time/epoch = 0.23530, best_val_f1 (macro) = 0.920, test_f1 (macro) = 0.890\n",
      "total time = 40.240, train time/epoch = 0.22959, best_val_f1 (macro) = 0.917, test_f1 (macro) = 0.887\n",
      "total time = 40.651, train time/epoch = 0.22849, best_val_f1 (macro) = 0.921, test_f1 (macro) = 0.904\n",
      "total time = 37.939, train time/epoch = 0.23014, best_val_f1 (macro) = 0.920, test_f1 (macro) = 0.905\n",
      "total time = 41.466, train time/epoch = 0.22991, best_val_f1 (macro) = 0.917, test_f1 (macro) = 0.885\n",
      "total time = 37.272, train time/epoch = 0.22963, best_val_f1 (macro) = 0.903, test_f1 (macro) = 0.849\n",
      "total time = 76.288, train time/epoch = 0.22988, best_val_f1 (macro) = 0.907, test_f1 (macro) = 0.888\n",
      "total time = 43.146, train time/epoch = 0.22793, best_val_f1 (macro) = 0.914, test_f1 (macro) = 0.867\n",
      "total time = 36.586, train time/epoch = 0.22740, best_val_f1 (macro) = 0.913, test_f1 (macro) = 0.875\n",
      "total time = 43.832, train time/epoch = 0.22826, best_val_f1 (macro) = 0.913, test_f1 (macro) = 0.890\n",
      "total time = 42.388, train time/epoch = 0.22936, best_val_f1 (macro) = 0.904, test_f1 (macro) = 0.901\n",
      "total time = 36.838, train time/epoch = 0.22948, best_val_f1 (macro) = 0.903, test_f1 (macro) = 0.859\n",
      "total time = 38.509, train time/epoch = 0.22724, best_val_f1 (macro) = 0.917, test_f1 (macro) = 0.921\n",
      "total time = 39.196, train time/epoch = 0.22731, best_val_f1 (macro) = 0.911, test_f1 (macro) = 0.905\n",
      "total time = 41.935, train time/epoch = 0.22660, best_val_f1 (macro) = 0.923, test_f1 (macro) = 0.901\n",
      "total time = 38.147, train time/epoch = 0.22754, best_val_f1 (macro) = 0.911, test_f1 (macro) = 0.903\n",
      "total time = 41.327, train time/epoch = 0.22861, best_val_f1 (macro) = 0.916, test_f1 (macro) = 0.885\n",
      "total time = 79.522, train time/epoch = 0.22806, best_val_f1 (macro) = 0.917, test_f1 (macro) = 0.889\n",
      "total time = 105.154, train time/epoch = 0.22969, best_val_f1 (macro) = 0.904, test_f1 (macro) = 0.881\n",
      "total time = 41.347, train time/epoch = 0.22913, best_val_f1 (macro) = 0.907, test_f1 (macro) = 0.886\n",
      "total time = 39.815, train time/epoch = 0.22809, best_val_f1 (macro) = 0.923, test_f1 (macro) = 0.863\n",
      "total time = 69.234, train time/epoch = 0.22732, best_val_f1 (macro) = 0.916, test_f1 (macro) = 0.877\n",
      "total time = 39.251, train time/epoch = 0.22833, best_val_f1 (macro) = 0.900, test_f1 (macro) = 0.880\n",
      "total time = 45.499, train time/epoch = 0.22803, best_val_f1 (macro) = 0.903, test_f1 (macro) = 0.883\n",
      "total time = 40.423, train time/epoch = 0.22730, best_val_f1 (macro) = 0.913, test_f1 (macro) = 0.880\n",
      "total time = 40.254, train time/epoch = 0.22976, best_val_f1 (macro) = 0.897, test_f1 (macro) = 0.886\n",
      "total time = 36.782, train time/epoch = 0.22848, best_val_f1 (macro) = 0.913, test_f1 (macro) = 0.898\n",
      "total time = 42.732, train time/epoch = 0.22725, best_val_f1 (macro) = 0.907, test_f1 (macro) = 0.897\n",
      "total time = 44.899, train time/epoch = 0.22862, best_val_f1 (macro) = 0.910, test_f1 (macro) = 0.884\n",
      "test macro-f1 (mean, std):  0.8870594499423968 0.01479079509820388\n",
      "test macro-f1 (mean, std) after filter:  0.8878417117069679 0.009076525177762704\n",
      "\n",
      "start testing on IMDB dataset\n",
      "total time = 37.955, train time/epoch = 0.22701, best_val_f1 (macro) = 0.594, test_f1 (macro) = 0.557\n",
      "total time = 42.337, train time/epoch = 0.22645, best_val_f1 (macro) = 0.615, test_f1 (macro) = 0.557\n",
      "total time = 50.560, train time/epoch = 0.22675, best_val_f1 (macro) = 0.609, test_f1 (macro) = 0.563\n",
      "total time = 51.423, train time/epoch = 0.22657, best_val_f1 (macro) = 0.621, test_f1 (macro) = 0.559\n",
      "total time = 51.970, train time/epoch = 0.22567, best_val_f1 (macro) = 0.612, test_f1 (macro) = 0.566\n",
      "total time = 39.711, train time/epoch = 0.22743, best_val_f1 (macro) = 0.619, test_f1 (macro) = 0.558\n",
      "total time = 58.830, train time/epoch = 0.22646, best_val_f1 (macro) = 0.624, test_f1 (macro) = 0.562\n",
      "total time = 38.342, train time/epoch = 0.22714, best_val_f1 (macro) = 0.589, test_f1 (macro) = 0.554\n",
      "total time = 38.593, train time/epoch = 0.22700, best_val_f1 (macro) = 0.604, test_f1 (macro) = 0.563\n",
      "total time = 42.199, train time/epoch = 0.22562, best_val_f1 (macro) = 0.607, test_f1 (macro) = 0.548\n",
      "total time = 55.522, train time/epoch = 0.22602, best_val_f1 (macro) = 0.602, test_f1 (macro) = 0.566\n",
      "total time = 50.628, train time/epoch = 0.22557, best_val_f1 (macro) = 0.611, test_f1 (macro) = 0.573\n",
      "total time = 41.909, train time/epoch = 0.22526, best_val_f1 (macro) = 0.589, test_f1 (macro) = 0.556\n",
      "total time = 54.431, train time/epoch = 0.22697, best_val_f1 (macro) = 0.599, test_f1 (macro) = 0.553\n",
      "total time = 38.822, train time/epoch = 0.22810, best_val_f1 (macro) = 0.603, test_f1 (macro) = 0.574\n",
      "total time = 45.754, train time/epoch = 0.22688, best_val_f1 (macro) = 0.606, test_f1 (macro) = 0.566\n",
      "total time = 40.250, train time/epoch = 0.22891, best_val_f1 (macro) = 0.586, test_f1 (macro) = 0.552\n",
      "total time = 54.915, train time/epoch = 0.22614, best_val_f1 (macro) = 0.573, test_f1 (macro) = 0.558\n",
      "total time = 45.894, train time/epoch = 0.22595, best_val_f1 (macro) = 0.632, test_f1 (macro) = 0.571\n",
      "total time = 49.577, train time/epoch = 0.22693, best_val_f1 (macro) = 0.602, test_f1 (macro) = 0.572\n",
      "total time = 40.773, train time/epoch = 0.22611, best_val_f1 (macro) = 0.599, test_f1 (macro) = 0.563\n",
      "total time = 49.249, train time/epoch = 0.22779, best_val_f1 (macro) = 0.601, test_f1 (macro) = 0.564\n",
      "total time = 40.667, train time/epoch = 0.22752, best_val_f1 (macro) = 0.578, test_f1 (macro) = 0.555\n",
      "total time = 50.342, train time/epoch = 0.22593, best_val_f1 (macro) = 0.619, test_f1 (macro) = 0.572\n",
      "total time = 48.750, train time/epoch = 0.22720, best_val_f1 (macro) = 0.588, test_f1 (macro) = 0.547\n",
      "total time = 42.932, train time/epoch = 0.22550, best_val_f1 (macro) = 0.605, test_f1 (macro) = 0.559\n",
      "total time = 41.777, train time/epoch = 0.22853, best_val_f1 (macro) = 0.604, test_f1 (macro) = 0.564\n",
      "total time = 45.470, train time/epoch = 0.22723, best_val_f1 (macro) = 0.613, test_f1 (macro) = 0.559\n",
      "total time = 47.622, train time/epoch = 0.22835, best_val_f1 (macro) = 0.615, test_f1 (macro) = 0.576\n",
      "total time = 65.493, train time/epoch = 0.22653, best_val_f1 (macro) = 0.595, test_f1 (macro) = 0.540\n",
      "test macro-f1 (mean, std):  0.5608961313741632 0.008329843529041715\n",
      "test macro-f1 (mean, std) after filter:  0.5612447796582998 0.005596768655755362\n",
      "\n",
      "start testing on DBLP dataset\n",
      "total time = 65.500, train time/epoch = 0.37502, best_val_f1 (macro) = 0.925, test_f1 (macro) = 0.904\n",
      "total time = 69.346, train time/epoch = 0.37462, best_val_f1 (macro) = 0.935, test_f1 (macro) = 0.931\n",
      "total time = 72.502, train time/epoch = 0.37677, best_val_f1 (macro) = 0.935, test_f1 (macro) = 0.928\n",
      "total time = 71.239, train time/epoch = 0.37528, best_val_f1 (macro) = 0.940, test_f1 (macro) = 0.923\n",
      "total time = 66.029, train time/epoch = 0.37750, best_val_f1 (macro) = 0.943, test_f1 (macro) = 0.928\n",
      "total time = 96.318, train time/epoch = 0.37613, best_val_f1 (macro) = 0.935, test_f1 (macro) = 0.924\n",
      "total time = 65.351, train time/epoch = 0.37666, best_val_f1 (macro) = 0.938, test_f1 (macro) = 0.916\n",
      "total time = 71.667, train time/epoch = 0.37764, best_val_f1 (macro) = 0.938, test_f1 (macro) = 0.924\n",
      "total time = 68.766, train time/epoch = 0.37685, best_val_f1 (macro) = 0.945, test_f1 (macro) = 0.931\n",
      "total time = 68.364, train time/epoch = 0.37760, best_val_f1 (macro) = 0.943, test_f1 (macro) = 0.922\n",
      "total time = 87.979, train time/epoch = 0.37616, best_val_f1 (macro) = 0.945, test_f1 (macro) = 0.923\n",
      "total time = 116.355, train time/epoch = 0.37747, best_val_f1 (macro) = 0.935, test_f1 (macro) = 0.919\n",
      "total time = 70.242, train time/epoch = 0.37632, best_val_f1 (macro) = 0.933, test_f1 (macro) = 0.928\n",
      "total time = 93.751, train time/epoch = 0.37537, best_val_f1 (macro) = 0.948, test_f1 (macro) = 0.922\n",
      "total time = 100.971, train time/epoch = 0.37640, best_val_f1 (macro) = 0.913, test_f1 (macro) = 0.904\n",
      "total time = 68.199, train time/epoch = 0.37679, best_val_f1 (macro) = 0.942, test_f1 (macro) = 0.924\n",
      "total time = 71.470, train time/epoch = 0.37723, best_val_f1 (macro) = 0.935, test_f1 (macro) = 0.918\n"
     ]
    },
    {
     "name": "stdout",
     "output_type": "stream",
     "text": [
      "total time = 69.672, train time/epoch = 0.37898, best_val_f1 (macro) = 0.931, test_f1 (macro) = 0.917\n",
      "total time = 67.663, train time/epoch = 0.37742, best_val_f1 (macro) = 0.927, test_f1 (macro) = 0.916\n",
      "total time = 72.750, train time/epoch = 0.37786, best_val_f1 (macro) = 0.930, test_f1 (macro) = 0.920\n",
      "total time = 68.597, train time/epoch = 0.37664, best_val_f1 (macro) = 0.935, test_f1 (macro) = 0.917\n",
      "total time = 70.305, train time/epoch = 0.37672, best_val_f1 (macro) = 0.935, test_f1 (macro) = 0.922\n",
      "total time = 70.811, train time/epoch = 0.37601, best_val_f1 (macro) = 0.943, test_f1 (macro) = 0.919\n",
      "total time = 67.876, train time/epoch = 0.37747, best_val_f1 (macro) = 0.938, test_f1 (macro) = 0.926\n",
      "total time = 73.950, train time/epoch = 0.37553, best_val_f1 (macro) = 0.943, test_f1 (macro) = 0.911\n",
      "total time = 72.206, train time/epoch = 0.37763, best_val_f1 (macro) = 0.937, test_f1 (macro) = 0.919\n",
      "total time = 69.381, train time/epoch = 0.37738, best_val_f1 (macro) = 0.937, test_f1 (macro) = 0.928\n",
      "total time = 67.405, train time/epoch = 0.37935, best_val_f1 (macro) = 0.945, test_f1 (macro) = 0.934\n",
      "total time = 72.305, train time/epoch = 0.37694, best_val_f1 (macro) = 0.933, test_f1 (macro) = 0.914\n",
      "total time = 84.581, train time/epoch = 0.37771, best_val_f1 (macro) = 0.930, test_f1 (macro) = 0.906\n",
      "test macro-f1 (mean, std):  0.9205595931288494 0.0075496951388707816\n",
      "test macro-f1 (mean, std) after filter:  0.9210975385944115 0.004581939523701219\n"
     ]
    }
   ],
   "source": [
    "f1s = []\n",
    "datasets = ['ACM', 'IMDB', 'DBLP']\n",
    "for dataset in datasets:\n",
    "    args.data = dataset\n",
    "    if dataset == 'ACM':\n",
    "        args.target_node_type = 'paper'\n",
    "        print('\\nstart testing on ' + dataset + ' dataset')\n",
    "        f1s.append(main(args))\n",
    "    elif dataset == 'IMDB':\n",
    "        args.target_node_type = 'movie'\n",
    "        print('\\nstart testing on ' + dataset + ' dataset')\n",
    "        f1s.append(main(args))\n",
    "    elif dataset == 'DBLP':\n",
    "        args.target_node_type = 'author'\n",
    "        print('\\nstart testing on ' + dataset + ' dataset')\n",
    "        f1s.append(main(args))"
   ]
  },
  {
   "cell_type": "code",
   "execution_count": 4,
   "metadata": {},
   "outputs": [],
   "source": [
    "f1s = np.array(f1s)"
   ]
  },
  {
   "cell_type": "code",
   "execution_count": null,
   "metadata": {},
   "outputs": [],
   "source": []
  }
 ],
 "metadata": {
  "kernelspec": {
   "display_name": "Python 3",
   "language": "python",
   "name": "python3"
  },
  "language_info": {
   "codemirror_mode": {
    "name": "ipython",
    "version": 3
   },
   "file_extension": ".py",
   "mimetype": "text/x-python",
   "name": "python",
   "nbconvert_exporter": "python",
   "pygments_lexer": "ipython3",
   "version": "3.8.8"
  }
 },
 "nbformat": 4,
 "nbformat_minor": 4
}
