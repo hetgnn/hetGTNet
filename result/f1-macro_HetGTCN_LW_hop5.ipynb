{
 "cells": [
  {
   "cell_type": "code",
   "execution_count": 1,
   "metadata": {},
   "outputs": [
    {
     "name": "stderr",
     "output_type": "stream",
     "text": [
      "Using backend: pytorch\n"
     ]
    }
   ],
   "source": [
    "root_dir = '..' # dir of the source code\n",
    "import sys\n",
    "sys.path.append(root_dir)\n",
    "from train import main\n",
    "import numpy as np"
   ]
  },
  {
   "cell_type": "code",
   "execution_count": 2,
   "metadata": {},
   "outputs": [],
   "source": [
    "class config:\n",
    "    data = 'ACM'\n",
    "    data_path = '../data/preprocessed/'\n",
    "    model = 'HetGTCN_LW'\n",
    "    target_node_type = 'paper'\n",
    "    n_hid = 64\n",
    "    dropout = 0.8\n",
    "    dropout2 = 0.6\n",
    "    learning_rate = 0.005\n",
    "    weight_decay = 1e-5\n",
    "    patience = 100\n",
    "    num_iter = 500\n",
    "    num_test = 30\n",
    "    hop = 5\n",
    "    filter_pct = 0.1 # remove the top and bottom filer_pct points before obtaining statistics of test accuracy\n",
    "    log_step = 1000 # training log step\n",
    "    layer_wise = True\n",
    "    average = 'macro' # 'f1 average: can choose either macro or micro.'\n",
    "\n",
    "args = config()"
   ]
  },
  {
   "cell_type": "code",
   "execution_count": 3,
   "metadata": {
    "scrolled": false
   },
   "outputs": [
    {
     "name": "stdout",
     "output_type": "stream",
     "text": [
      "\n",
      "start testing on ACM dataset\n",
      "total time = 13.100, train time/epoch = 0.03994, best_val_f1 (macro) = 0.930, test_f1 (macro) = 0.925\n",
      "total time = 7.295, train time/epoch = 0.03364, best_val_f1 (macro) = 0.930, test_f1 (macro) = 0.926\n",
      "total time = 9.062, train time/epoch = 0.03382, best_val_f1 (macro) = 0.930, test_f1 (macro) = 0.927\n",
      "total time = 8.408, train time/epoch = 0.03455, best_val_f1 (macro) = 0.934, test_f1 (macro) = 0.930\n",
      "total time = 13.529, train time/epoch = 0.03396, best_val_f1 (macro) = 0.937, test_f1 (macro) = 0.930\n",
      "total time = 7.359, train time/epoch = 0.03393, best_val_f1 (macro) = 0.930, test_f1 (macro) = 0.923\n",
      "total time = 12.678, train time/epoch = 0.03455, best_val_f1 (macro) = 0.927, test_f1 (macro) = 0.928\n",
      "total time = 10.704, train time/epoch = 0.03421, best_val_f1 (macro) = 0.933, test_f1 (macro) = 0.927\n",
      "total time = 17.591, train time/epoch = 0.03554, best_val_f1 (macro) = 0.937, test_f1 (macro) = 0.920\n",
      "total time = 7.650, train time/epoch = 0.03558, best_val_f1 (macro) = 0.933, test_f1 (macro) = 0.921\n",
      "total time = 7.418, train time/epoch = 0.03549, best_val_f1 (macro) = 0.930, test_f1 (macro) = 0.922\n",
      "total time = 10.309, train time/epoch = 0.03554, best_val_f1 (macro) = 0.927, test_f1 (macro) = 0.925\n",
      "total time = 9.620, train time/epoch = 0.03726, best_val_f1 (macro) = 0.914, test_f1 (macro) = 0.883\n",
      "total time = 10.096, train time/epoch = 0.03899, best_val_f1 (macro) = 0.907, test_f1 (macro) = 0.890\n",
      "total time = 6.094, train time/epoch = 0.03579, best_val_f1 (macro) = 0.933, test_f1 (macro) = 0.910\n",
      "total time = 8.398, train time/epoch = 0.03532, best_val_f1 (macro) = 0.930, test_f1 (macro) = 0.921\n",
      "total time = 8.000, train time/epoch = 0.03541, best_val_f1 (macro) = 0.930, test_f1 (macro) = 0.891\n",
      "total time = 6.718, train time/epoch = 0.03539, best_val_f1 (macro) = 0.933, test_f1 (macro) = 0.921\n",
      "total time = 11.275, train time/epoch = 0.03510, best_val_f1 (macro) = 0.933, test_f1 (macro) = 0.929\n",
      "total time = 6.740, train time/epoch = 0.03492, best_val_f1 (macro) = 0.917, test_f1 (macro) = 0.917\n",
      "total time = 8.287, train time/epoch = 0.03460, best_val_f1 (macro) = 0.934, test_f1 (macro) = 0.929\n",
      "total time = 6.066, train time/epoch = 0.03500, best_val_f1 (macro) = 0.937, test_f1 (macro) = 0.911\n",
      "total time = 7.156, train time/epoch = 0.03439, best_val_f1 (macro) = 0.914, test_f1 (macro) = 0.876\n",
      "total time = 16.352, train time/epoch = 0.03403, best_val_f1 (macro) = 0.933, test_f1 (macro) = 0.923\n",
      "total time = 8.166, train time/epoch = 0.03524, best_val_f1 (macro) = 0.907, test_f1 (macro) = 0.883\n",
      "total time = 5.901, train time/epoch = 0.03470, best_val_f1 (macro) = 0.933, test_f1 (macro) = 0.898\n",
      "total time = 17.570, train time/epoch = 0.03453, best_val_f1 (macro) = 0.930, test_f1 (macro) = 0.926\n",
      "total time = 7.625, train time/epoch = 0.03438, best_val_f1 (macro) = 0.930, test_f1 (macro) = 0.922\n",
      "total time = 8.911, train time/epoch = 0.03425, best_val_f1 (macro) = 0.930, test_f1 (macro) = 0.928\n",
      "total time = 6.670, train time/epoch = 0.03409, best_val_f1 (macro) = 0.910, test_f1 (macro) = 0.873\n",
      "test macro-f1 (mean, std):  0.9145106712802458 0.017430671740485102\n",
      "test macro-f1 (mean, std) after filter:  0.9172481443512458 0.01302644439884864\n",
      "\n",
      "start testing on IMDB dataset\n",
      "total time = 9.219, train time/epoch = 0.03328, best_val_f1 (macro) = 0.650, test_f1 (macro) = 0.603\n",
      "total time = 9.676, train time/epoch = 0.03434, best_val_f1 (macro) = 0.641, test_f1 (macro) = 0.612\n",
      "total time = 9.226, train time/epoch = 0.03418, best_val_f1 (macro) = 0.654, test_f1 (macro) = 0.618\n",
      "total time = 6.538, train time/epoch = 0.03395, best_val_f1 (macro) = 0.596, test_f1 (macro) = 0.538\n",
      "total time = 11.206, train time/epoch = 0.03406, best_val_f1 (macro) = 0.630, test_f1 (macro) = 0.608\n",
      "total time = 9.243, train time/epoch = 0.03420, best_val_f1 (macro) = 0.622, test_f1 (macro) = 0.604\n",
      "total time = 9.990, train time/epoch = 0.03402, best_val_f1 (macro) = 0.644, test_f1 (macro) = 0.618\n",
      "total time = 12.852, train time/epoch = 0.03445, best_val_f1 (macro) = 0.644, test_f1 (macro) = 0.598\n",
      "total time = 8.077, train time/epoch = 0.03387, best_val_f1 (macro) = 0.638, test_f1 (macro) = 0.592\n",
      "total time = 10.699, train time/epoch = 0.03397, best_val_f1 (macro) = 0.623, test_f1 (macro) = 0.603\n",
      "total time = 10.838, train time/epoch = 0.03371, best_val_f1 (macro) = 0.624, test_f1 (macro) = 0.595\n",
      "total time = 12.183, train time/epoch = 0.03369, best_val_f1 (macro) = 0.644, test_f1 (macro) = 0.607\n",
      "total time = 8.745, train time/epoch = 0.03337, best_val_f1 (macro) = 0.641, test_f1 (macro) = 0.612\n",
      "total time = 7.178, train time/epoch = 0.03505, best_val_f1 (macro) = 0.623, test_f1 (macro) = 0.598\n",
      "total time = 13.804, train time/epoch = 0.03372, best_val_f1 (macro) = 0.613, test_f1 (macro) = 0.585\n",
      "total time = 11.893, train time/epoch = 0.03419, best_val_f1 (macro) = 0.641, test_f1 (macro) = 0.599\n",
      "total time = 13.336, train time/epoch = 0.03353, best_val_f1 (macro) = 0.630, test_f1 (macro) = 0.593\n",
      "total time = 14.420, train time/epoch = 0.03371, best_val_f1 (macro) = 0.623, test_f1 (macro) = 0.599\n",
      "total time = 10.743, train time/epoch = 0.03341, best_val_f1 (macro) = 0.648, test_f1 (macro) = 0.616\n",
      "total time = 10.860, train time/epoch = 0.03387, best_val_f1 (macro) = 0.624, test_f1 (macro) = 0.603\n",
      "total time = 13.202, train time/epoch = 0.03398, best_val_f1 (macro) = 0.621, test_f1 (macro) = 0.584\n",
      "total time = 13.553, train time/epoch = 0.03419, best_val_f1 (macro) = 0.634, test_f1 (macro) = 0.609\n",
      "total time = 14.695, train time/epoch = 0.03444, best_val_f1 (macro) = 0.636, test_f1 (macro) = 0.599\n",
      "total time = 13.083, train time/epoch = 0.03342, best_val_f1 (macro) = 0.644, test_f1 (macro) = 0.615\n",
      "total time = 10.925, train time/epoch = 0.03326, best_val_f1 (macro) = 0.649, test_f1 (macro) = 0.596\n",
      "total time = 9.154, train time/epoch = 0.03363, best_val_f1 (macro) = 0.633, test_f1 (macro) = 0.607\n",
      "total time = 12.944, train time/epoch = 0.03353, best_val_f1 (macro) = 0.632, test_f1 (macro) = 0.595\n",
      "total time = 8.783, train time/epoch = 0.03370, best_val_f1 (macro) = 0.634, test_f1 (macro) = 0.603\n",
      "total time = 9.194, train time/epoch = 0.03403, best_val_f1 (macro) = 0.624, test_f1 (macro) = 0.594\n",
      "total time = 9.089, train time/epoch = 0.03363, best_val_f1 (macro) = 0.593, test_f1 (macro) = 0.566\n",
      "test macro-f1 (mean, std):  0.598968761278275 0.015703861392828967\n",
      "test macro-f1 (mean, std) after filter:  0.601242951063668 0.007198975024184343\n",
      "\n",
      "start testing on DBLP dataset\n",
      "total time = 40.901, train time/epoch = 0.05313, best_val_f1 (macro) = 0.920, test_f1 (macro) = 0.928\n",
      "total time = 35.421, train time/epoch = 0.05330, best_val_f1 (macro) = 0.947, test_f1 (macro) = 0.942\n",
      "total time = 42.045, train time/epoch = 0.05464, best_val_f1 (macro) = 0.947, test_f1 (macro) = 0.942\n",
      "total time = 29.193, train time/epoch = 0.05359, best_val_f1 (macro) = 0.950, test_f1 (macro) = 0.940\n",
      "total time = 35.124, train time/epoch = 0.05376, best_val_f1 (macro) = 0.935, test_f1 (macro) = 0.941\n",
      "total time = 39.489, train time/epoch = 0.05312, best_val_f1 (macro) = 0.950, test_f1 (macro) = 0.945\n",
      "total time = 40.623, train time/epoch = 0.05388, best_val_f1 (macro) = 0.943, test_f1 (macro) = 0.940\n",
      "total time = 14.494, train time/epoch = 0.05358, best_val_f1 (macro) = 0.880, test_f1 (macro) = 0.866\n",
      "total time = 29.520, train time/epoch = 0.05350, best_val_f1 (macro) = 0.945, test_f1 (macro) = 0.942\n",
      "total time = 28.151, train time/epoch = 0.05332, best_val_f1 (macro) = 0.947, test_f1 (macro) = 0.936\n",
      "total time = 18.997, train time/epoch = 0.05450, best_val_f1 (macro) = 0.878, test_f1 (macro) = 0.873\n",
      "total time = 27.234, train time/epoch = 0.05266, best_val_f1 (macro) = 0.940, test_f1 (macro) = 0.937\n",
      "total time = 40.564, train time/epoch = 0.05270, best_val_f1 (macro) = 0.947, test_f1 (macro) = 0.942\n",
      "total time = 40.673, train time/epoch = 0.05282, best_val_f1 (macro) = 0.917, test_f1 (macro) = 0.916\n",
      "total time = 31.438, train time/epoch = 0.05281, best_val_f1 (macro) = 0.942, test_f1 (macro) = 0.945\n",
      "total time = 36.763, train time/epoch = 0.05352, best_val_f1 (macro) = 0.948, test_f1 (macro) = 0.941\n",
      "total time = 40.997, train time/epoch = 0.05329, best_val_f1 (macro) = 0.915, test_f1 (macro) = 0.923\n"
     ]
    },
    {
     "name": "stdout",
     "output_type": "stream",
     "text": [
      "total time = 32.774, train time/epoch = 0.05324, best_val_f1 (macro) = 0.948, test_f1 (macro) = 0.941\n",
      "total time = 39.915, train time/epoch = 0.05361, best_val_f1 (macro) = 0.900, test_f1 (macro) = 0.909\n",
      "total time = 33.616, train time/epoch = 0.05323, best_val_f1 (macro) = 0.942, test_f1 (macro) = 0.942\n",
      "total time = 30.291, train time/epoch = 0.05290, best_val_f1 (macro) = 0.942, test_f1 (macro) = 0.936\n",
      "total time = 37.866, train time/epoch = 0.05311, best_val_f1 (macro) = 0.950, test_f1 (macro) = 0.942\n",
      "total time = 38.738, train time/epoch = 0.05261, best_val_f1 (macro) = 0.952, test_f1 (macro) = 0.941\n",
      "total time = 36.825, train time/epoch = 0.05237, best_val_f1 (macro) = 0.945, test_f1 (macro) = 0.943\n",
      "total time = 40.377, train time/epoch = 0.05247, best_val_f1 (macro) = 0.922, test_f1 (macro) = 0.927\n",
      "total time = 29.902, train time/epoch = 0.05281, best_val_f1 (macro) = 0.945, test_f1 (macro) = 0.943\n",
      "total time = 39.681, train time/epoch = 0.05295, best_val_f1 (macro) = 0.940, test_f1 (macro) = 0.941\n",
      "total time = 30.873, train time/epoch = 0.05317, best_val_f1 (macro) = 0.948, test_f1 (macro) = 0.941\n",
      "total time = 36.062, train time/epoch = 0.05296, best_val_f1 (macro) = 0.953, test_f1 (macro) = 0.944\n",
      "total time = 32.752, train time/epoch = 0.05258, best_val_f1 (macro) = 0.942, test_f1 (macro) = 0.937\n",
      "test macro-f1 (mean, std):  0.9328586763674768 0.0189759450103576\n",
      "test macro-f1 (mean, std) after filter:  0.9376514736136276 0.0069762575758848915\n"
     ]
    }
   ],
   "source": [
    "f1s = []\n",
    "datasets = ['ACM', 'IMDB', 'DBLP']\n",
    "for dataset in datasets:\n",
    "    args.data = dataset\n",
    "    if dataset == 'ACM':\n",
    "        args.target_node_type = 'paper'\n",
    "        print('\\nstart testing on ' + dataset + ' dataset')\n",
    "        f1s.append(main(args))\n",
    "    elif dataset == 'IMDB':\n",
    "        args.target_node_type = 'movie'\n",
    "        print('\\nstart testing on ' + dataset + ' dataset')\n",
    "        f1s.append(main(args))\n",
    "    elif dataset == 'DBLP':\n",
    "        args.target_node_type = 'author'\n",
    "        print('\\nstart testing on ' + dataset + ' dataset')\n",
    "        f1s.append(main(args))"
   ]
  },
  {
   "cell_type": "code",
   "execution_count": 4,
   "metadata": {},
   "outputs": [],
   "source": [
    "f1s = np.array(f1s)"
   ]
  },
  {
   "cell_type": "code",
   "execution_count": null,
   "metadata": {},
   "outputs": [],
   "source": []
  }
 ],
 "metadata": {
  "kernelspec": {
   "display_name": "Python 3",
   "language": "python",
   "name": "python3"
  },
  "language_info": {
   "codemirror_mode": {
    "name": "ipython",
    "version": 3
   },
   "file_extension": ".py",
   "mimetype": "text/x-python",
   "name": "python",
   "nbconvert_exporter": "python",
   "pygments_lexer": "ipython3",
   "version": "3.8.8"
  }
 },
 "nbformat": 4,
 "nbformat_minor": 4
}
