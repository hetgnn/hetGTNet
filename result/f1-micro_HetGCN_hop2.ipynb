{
 "cells": [
  {
   "cell_type": "code",
   "execution_count": 1,
   "metadata": {},
   "outputs": [
    {
     "name": "stderr",
     "output_type": "stream",
     "text": [
      "Using backend: pytorch\n"
     ]
    }
   ],
   "source": [
    "root_dir = '..' # dir of the source code\n",
    "import sys\n",
    "sys.path.append(root_dir)\n",
    "from train import main\n",
    "import numpy as np"
   ]
  },
  {
   "cell_type": "code",
   "execution_count": 2,
   "metadata": {},
   "outputs": [],
   "source": [
    "class config:\n",
    "    data = 'ACM'\n",
    "    data_path = '../data/preprocessed/'\n",
    "    model = 'HetGCN'\n",
    "    target_node_type = 'paper'\n",
    "    n_hid = 64\n",
    "    dropout = 0.5\n",
    "    learning_rate = 0.005\n",
    "    weight_decay = 1e-5\n",
    "    patience = 100\n",
    "    num_iter = 500\n",
    "    num_test = 30\n",
    "    hop = 2\n",
    "    filter_pct = 0.1 # remove the top and bottom filer_pct points before obtaining statistics of test accuracy\n",
    "    log_step = 1000 # training log step\n",
    "    layer_wise = True\n",
    "    average = 'micro' # 'f1 average: can choose either macro or micro.'\n",
    "\n",
    "args = config()"
   ]
  },
  {
   "cell_type": "code",
   "execution_count": 3,
   "metadata": {
    "scrolled": false
   },
   "outputs": [
    {
     "name": "stdout",
     "output_type": "stream",
     "text": [
      "\n",
      "start testing on ACM dataset\n",
      "total time = 3.892, train time/epoch = 0.02412, best_val_f1 (micro) = 0.927, test_f1 (micro) = 0.915\n",
      "total time = 3.071, train time/epoch = 0.01646, best_val_f1 (micro) = 0.923, test_f1 (micro) = 0.921\n",
      "total time = 2.872, train time/epoch = 0.01606, best_val_f1 (micro) = 0.927, test_f1 (micro) = 0.909\n",
      "total time = 2.747, train time/epoch = 0.01607, best_val_f1 (micro) = 0.920, test_f1 (micro) = 0.876\n",
      "total time = 2.970, train time/epoch = 0.01601, best_val_f1 (micro) = 0.913, test_f1 (micro) = 0.917\n",
      "total time = 3.015, train time/epoch = 0.01601, best_val_f1 (micro) = 0.920, test_f1 (micro) = 0.918\n",
      "total time = 2.934, train time/epoch = 0.01591, best_val_f1 (micro) = 0.920, test_f1 (micro) = 0.916\n",
      "total time = 3.118, train time/epoch = 0.01603, best_val_f1 (micro) = 0.930, test_f1 (micro) = 0.919\n",
      "total time = 2.975, train time/epoch = 0.01633, best_val_f1 (micro) = 0.923, test_f1 (micro) = 0.901\n",
      "total time = 2.999, train time/epoch = 0.01621, best_val_f1 (micro) = 0.923, test_f1 (micro) = 0.926\n",
      "total time = 3.009, train time/epoch = 0.01615, best_val_f1 (micro) = 0.927, test_f1 (micro) = 0.909\n",
      "total time = 2.791, train time/epoch = 0.01595, best_val_f1 (micro) = 0.920, test_f1 (micro) = 0.892\n",
      "total time = 3.021, train time/epoch = 0.01600, best_val_f1 (micro) = 0.927, test_f1 (micro) = 0.902\n",
      "total time = 2.908, train time/epoch = 0.01593, best_val_f1 (micro) = 0.923, test_f1 (micro) = 0.912\n",
      "total time = 2.907, train time/epoch = 0.01594, best_val_f1 (micro) = 0.923, test_f1 (micro) = 0.909\n",
      "total time = 2.953, train time/epoch = 0.01586, best_val_f1 (micro) = 0.930, test_f1 (micro) = 0.927\n",
      "total time = 2.981, train time/epoch = 0.01588, best_val_f1 (micro) = 0.933, test_f1 (micro) = 0.899\n",
      "total time = 2.822, train time/epoch = 0.01604, best_val_f1 (micro) = 0.927, test_f1 (micro) = 0.896\n",
      "total time = 2.611, train time/epoch = 0.01620, best_val_f1 (micro) = 0.927, test_f1 (micro) = 0.875\n",
      "total time = 2.875, train time/epoch = 0.01606, best_val_f1 (micro) = 0.923, test_f1 (micro) = 0.883\n",
      "total time = 2.933, train time/epoch = 0.01652, best_val_f1 (micro) = 0.927, test_f1 (micro) = 0.905\n",
      "total time = 2.810, train time/epoch = 0.01594, best_val_f1 (micro) = 0.927, test_f1 (micro) = 0.903\n",
      "total time = 2.984, train time/epoch = 0.01596, best_val_f1 (micro) = 0.917, test_f1 (micro) = 0.885\n",
      "total time = 2.906, train time/epoch = 0.01592, best_val_f1 (micro) = 0.927, test_f1 (micro) = 0.928\n",
      "total time = 3.027, train time/epoch = 0.01592, best_val_f1 (micro) = 0.927, test_f1 (micro) = 0.914\n",
      "total time = 2.823, train time/epoch = 0.01587, best_val_f1 (micro) = 0.917, test_f1 (micro) = 0.911\n",
      "total time = 2.941, train time/epoch = 0.01630, best_val_f1 (micro) = 0.923, test_f1 (micro) = 0.899\n",
      "total time = 2.939, train time/epoch = 0.01600, best_val_f1 (micro) = 0.927, test_f1 (micro) = 0.919\n",
      "total time = 2.834, train time/epoch = 0.01615, best_val_f1 (micro) = 0.923, test_f1 (micro) = 0.908\n",
      "total time = 2.869, train time/epoch = 0.01607, best_val_f1 (micro) = 0.923, test_f1 (micro) = 0.896\n",
      "test micro-f1 (mean, std):  0.9062733782195147 0.013965825668568984\n",
      "test micro-f1 (mean, std) after filter:  0.9072352249652665 0.00930552628458356\n",
      "\n",
      "start testing on IMDB dataset\n",
      "total time = 5.391, train time/epoch = 0.01558, best_val_f1 (micro) = 0.630, test_f1 (micro) = 0.578\n",
      "total time = 4.060, train time/epoch = 0.01589, best_val_f1 (micro) = 0.617, test_f1 (micro) = 0.560\n",
      "total time = 2.945, train time/epoch = 0.01585, best_val_f1 (micro) = 0.623, test_f1 (micro) = 0.568\n",
      "total time = 3.501, train time/epoch = 0.01605, best_val_f1 (micro) = 0.627, test_f1 (micro) = 0.577\n",
      "total time = 3.573, train time/epoch = 0.01607, best_val_f1 (micro) = 0.617, test_f1 (micro) = 0.586\n",
      "total time = 3.154, train time/epoch = 0.01599, best_val_f1 (micro) = 0.630, test_f1 (micro) = 0.569\n",
      "total time = 3.057, train time/epoch = 0.01636, best_val_f1 (micro) = 0.620, test_f1 (micro) = 0.569\n",
      "total time = 3.427, train time/epoch = 0.01640, best_val_f1 (micro) = 0.640, test_f1 (micro) = 0.583\n",
      "total time = 2.948, train time/epoch = 0.01589, best_val_f1 (micro) = 0.593, test_f1 (micro) = 0.566\n",
      "total time = 6.428, train time/epoch = 0.01603, best_val_f1 (micro) = 0.623, test_f1 (micro) = 0.572\n",
      "total time = 3.374, train time/epoch = 0.01596, best_val_f1 (micro) = 0.633, test_f1 (micro) = 0.578\n",
      "total time = 3.104, train time/epoch = 0.01585, best_val_f1 (micro) = 0.627, test_f1 (micro) = 0.567\n",
      "total time = 4.220, train time/epoch = 0.01599, best_val_f1 (micro) = 0.640, test_f1 (micro) = 0.573\n",
      "total time = 2.794, train time/epoch = 0.01593, best_val_f1 (micro) = 0.617, test_f1 (micro) = 0.587\n",
      "total time = 3.050, train time/epoch = 0.01631, best_val_f1 (micro) = 0.623, test_f1 (micro) = 0.584\n",
      "total time = 2.772, train time/epoch = 0.01617, best_val_f1 (micro) = 0.623, test_f1 (micro) = 0.566\n",
      "total time = 3.334, train time/epoch = 0.01601, best_val_f1 (micro) = 0.613, test_f1 (micro) = 0.565\n",
      "total time = 3.292, train time/epoch = 0.01597, best_val_f1 (micro) = 0.620, test_f1 (micro) = 0.555\n",
      "total time = 6.053, train time/epoch = 0.01574, best_val_f1 (micro) = 0.613, test_f1 (micro) = 0.568\n",
      "total time = 3.265, train time/epoch = 0.01561, best_val_f1 (micro) = 0.623, test_f1 (micro) = 0.577\n",
      "total time = 2.819, train time/epoch = 0.01557, best_val_f1 (micro) = 0.623, test_f1 (micro) = 0.589\n",
      "total time = 3.293, train time/epoch = 0.01562, best_val_f1 (micro) = 0.627, test_f1 (micro) = 0.564\n",
      "total time = 2.972, train time/epoch = 0.01591, best_val_f1 (micro) = 0.620, test_f1 (micro) = 0.572\n",
      "total time = 5.470, train time/epoch = 0.01592, best_val_f1 (micro) = 0.617, test_f1 (micro) = 0.589\n",
      "total time = 3.073, train time/epoch = 0.01564, best_val_f1 (micro) = 0.633, test_f1 (micro) = 0.584\n",
      "total time = 3.226, train time/epoch = 0.01568, best_val_f1 (micro) = 0.633, test_f1 (micro) = 0.579\n",
      "total time = 5.054, train time/epoch = 0.01563, best_val_f1 (micro) = 0.600, test_f1 (micro) = 0.546\n",
      "total time = 5.528, train time/epoch = 0.01587, best_val_f1 (micro) = 0.623, test_f1 (micro) = 0.584\n",
      "total time = 5.215, train time/epoch = 0.01586, best_val_f1 (micro) = 0.623, test_f1 (micro) = 0.562\n",
      "total time = 2.967, train time/epoch = 0.01599, best_val_f1 (micro) = 0.617, test_f1 (micro) = 0.587\n",
      "test micro-f1 (mean, std):  0.573436650353453 0.010616211353785338\n",
      "test micro-f1 (mean, std) after filter:  0.5740438644190683 0.007669936323698314\n",
      "\n",
      "start testing on DBLP dataset\n",
      "total time = 4.661, train time/epoch = 0.02183, best_val_f1 (micro) = 0.925, test_f1 (micro) = 0.939\n",
      "total time = 4.554, train time/epoch = 0.02217, best_val_f1 (micro) = 0.930, test_f1 (micro) = 0.932\n",
      "total time = 4.277, train time/epoch = 0.02236, best_val_f1 (micro) = 0.935, test_f1 (micro) = 0.932\n",
      "total time = 4.874, train time/epoch = 0.02232, best_val_f1 (micro) = 0.930, test_f1 (micro) = 0.931\n",
      "total time = 5.635, train time/epoch = 0.02220, best_val_f1 (micro) = 0.940, test_f1 (micro) = 0.922\n",
      "total time = 4.518, train time/epoch = 0.02278, best_val_f1 (micro) = 0.935, test_f1 (micro) = 0.943\n",
      "total time = 4.307, train time/epoch = 0.02184, best_val_f1 (micro) = 0.940, test_f1 (micro) = 0.939\n",
      "total time = 4.313, train time/epoch = 0.02190, best_val_f1 (micro) = 0.935, test_f1 (micro) = 0.938\n",
      "total time = 4.558, train time/epoch = 0.02188, best_val_f1 (micro) = 0.930, test_f1 (micro) = 0.932\n",
      "total time = 5.096, train time/epoch = 0.02233, best_val_f1 (micro) = 0.932, test_f1 (micro) = 0.925\n",
      "total time = 4.402, train time/epoch = 0.02268, best_val_f1 (micro) = 0.938, test_f1 (micro) = 0.933\n",
      "total time = 4.225, train time/epoch = 0.02198, best_val_f1 (micro) = 0.927, test_f1 (micro) = 0.931\n",
      "total time = 4.727, train time/epoch = 0.02219, best_val_f1 (micro) = 0.938, test_f1 (micro) = 0.929\n",
      "total time = 4.374, train time/epoch = 0.02234, best_val_f1 (micro) = 0.938, test_f1 (micro) = 0.929\n",
      "total time = 4.202, train time/epoch = 0.02156, best_val_f1 (micro) = 0.932, test_f1 (micro) = 0.931\n",
      "total time = 5.286, train time/epoch = 0.02173, best_val_f1 (micro) = 0.938, test_f1 (micro) = 0.914\n",
      "total time = 5.064, train time/epoch = 0.02249, best_val_f1 (micro) = 0.935, test_f1 (micro) = 0.920\n",
      "total time = 4.578, train time/epoch = 0.02172, best_val_f1 (micro) = 0.930, test_f1 (micro) = 0.939\n"
     ]
    },
    {
     "name": "stdout",
     "output_type": "stream",
     "text": [
      "total time = 4.564, train time/epoch = 0.02194, best_val_f1 (micro) = 0.935, test_f1 (micro) = 0.942\n",
      "total time = 4.647, train time/epoch = 0.02183, best_val_f1 (micro) = 0.940, test_f1 (micro) = 0.935\n",
      "total time = 4.584, train time/epoch = 0.02216, best_val_f1 (micro) = 0.922, test_f1 (micro) = 0.933\n",
      "total time = 4.793, train time/epoch = 0.02185, best_val_f1 (micro) = 0.932, test_f1 (micro) = 0.931\n",
      "total time = 4.416, train time/epoch = 0.02259, best_val_f1 (micro) = 0.930, test_f1 (micro) = 0.930\n",
      "total time = 4.667, train time/epoch = 0.02172, best_val_f1 (micro) = 0.935, test_f1 (micro) = 0.929\n",
      "total time = 4.382, train time/epoch = 0.02195, best_val_f1 (micro) = 0.935, test_f1 (micro) = 0.940\n",
      "total time = 4.499, train time/epoch = 0.02222, best_val_f1 (micro) = 0.932, test_f1 (micro) = 0.932\n",
      "total time = 4.295, train time/epoch = 0.02208, best_val_f1 (micro) = 0.932, test_f1 (micro) = 0.935\n",
      "total time = 4.989, train time/epoch = 0.02185, best_val_f1 (micro) = 0.935, test_f1 (micro) = 0.918\n",
      "total time = 4.556, train time/epoch = 0.02237, best_val_f1 (micro) = 0.932, test_f1 (micro) = 0.924\n",
      "total time = 4.468, train time/epoch = 0.02241, best_val_f1 (micro) = 0.935, test_f1 (micro) = 0.945\n",
      "test micro-f1 (mean, std):  0.9317932563294831 0.0071975113182471745\n",
      "test micro-f1 (mean, std) after filter:  0.9321403570178508 0.004642751041211302\n"
     ]
    }
   ],
   "source": [
    "f1s = []\n",
    "datasets = ['ACM', 'IMDB', 'DBLP']\n",
    "for dataset in datasets:\n",
    "    args.data = dataset\n",
    "    if dataset == 'ACM':\n",
    "        args.dropout = 0.5\n",
    "        args.target_node_type = 'paper'\n",
    "        print('\\nstart testing on ' + dataset + ' dataset')\n",
    "        f1s.append(main(args))\n",
    "    elif dataset == 'IMDB':\n",
    "        args.dropout = 0.5\n",
    "        args.target_node_type = 'movie'\n",
    "        print('\\nstart testing on ' + dataset + ' dataset')\n",
    "        f1s.append(main(args))\n",
    "    elif dataset == 'DBLP':\n",
    "        args.dropout = 0\n",
    "        args.target_node_type = 'author'\n",
    "        print('\\nstart testing on ' + dataset + ' dataset')\n",
    "        f1s.append(main(args))"
   ]
  },
  {
   "cell_type": "code",
   "execution_count": 4,
   "metadata": {},
   "outputs": [],
   "source": [
    "f1s = np.array(f1s)"
   ]
  },
  {
   "cell_type": "code",
   "execution_count": null,
   "metadata": {},
   "outputs": [],
   "source": []
  }
 ],
 "metadata": {
  "kernelspec": {
   "display_name": "Python 3",
   "language": "python",
   "name": "python3"
  },
  "language_info": {
   "codemirror_mode": {
    "name": "ipython",
    "version": 3
   },
   "file_extension": ".py",
   "mimetype": "text/x-python",
   "name": "python",
   "nbconvert_exporter": "python",
   "pygments_lexer": "ipython3",
   "version": "3.8.8"
  }
 },
 "nbformat": 4,
 "nbformat_minor": 4
}
