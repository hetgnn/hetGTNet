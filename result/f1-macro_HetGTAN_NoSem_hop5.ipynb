{
 "cells": [
  {
   "cell_type": "code",
   "execution_count": 1,
   "metadata": {},
   "outputs": [
    {
     "name": "stderr",
     "output_type": "stream",
     "text": [
      "Using backend: pytorch\n"
     ]
    }
   ],
   "source": [
    "root_dir = '..' # dir of the source code\n",
    "import sys\n",
    "sys.path.append(root_dir)\n",
    "from train import main\n",
    "import numpy as np"
   ]
  },
  {
   "cell_type": "code",
   "execution_count": 2,
   "metadata": {},
   "outputs": [],
   "source": [
    "class config:\n",
    "    data = 'ACM'\n",
    "    data_path = '../data/preprocessed/'\n",
    "    model = 'HetGTAN_NoSem'\n",
    "    target_node_type = 'paper'\n",
    "    n_hid = 64\n",
    "    dropout = 0.8\n",
    "    dropout2 = 0.2\n",
    "    learning_rate = 0.005\n",
    "    weight_decay = 5e-5\n",
    "    patience = 100\n",
    "    num_iter = 500\n",
    "    num_test = 30\n",
    "    hop = 5\n",
    "    filter_pct = 0.1 # remove the top and bottom filer_pct points before obtaining statistics of test accuracy\n",
    "    log_step = 1000 # training log step\n",
    "    layer_wise = True\n",
    "    average = 'macro' # 'f1 average: can choose either macro or micro.'\n",
    "\n",
    "args = config()"
   ]
  },
  {
   "cell_type": "code",
   "execution_count": 3,
   "metadata": {
    "scrolled": false
   },
   "outputs": [
    {
     "name": "stdout",
     "output_type": "stream",
     "text": [
      "\n",
      "start testing on ACM dataset\n",
      "total time = 16.732, train time/epoch = 0.03166, best_val_f1 (macro) = 0.937, test_f1 (macro) = 0.912\n",
      "total time = 8.577, train time/epoch = 0.03014, best_val_f1 (macro) = 0.933, test_f1 (macro) = 0.922\n",
      "total time = 6.897, train time/epoch = 0.02989, best_val_f1 (macro) = 0.934, test_f1 (macro) = 0.922\n",
      "total time = 8.024, train time/epoch = 0.03001, best_val_f1 (macro) = 0.930, test_f1 (macro) = 0.916\n",
      "total time = 8.193, train time/epoch = 0.03017, best_val_f1 (macro) = 0.933, test_f1 (macro) = 0.922\n",
      "total time = 8.912, train time/epoch = 0.02985, best_val_f1 (macro) = 0.940, test_f1 (macro) = 0.916\n",
      "total time = 9.438, train time/epoch = 0.02966, best_val_f1 (macro) = 0.930, test_f1 (macro) = 0.923\n",
      "total time = 7.271, train time/epoch = 0.03018, best_val_f1 (macro) = 0.927, test_f1 (macro) = 0.918\n",
      "total time = 12.231, train time/epoch = 0.03097, best_val_f1 (macro) = 0.933, test_f1 (macro) = 0.924\n",
      "total time = 5.370, train time/epoch = 0.02969, best_val_f1 (macro) = 0.930, test_f1 (macro) = 0.908\n",
      "total time = 7.382, train time/epoch = 0.02962, best_val_f1 (macro) = 0.943, test_f1 (macro) = 0.918\n",
      "total time = 9.787, train time/epoch = 0.03057, best_val_f1 (macro) = 0.933, test_f1 (macro) = 0.916\n",
      "total time = 4.206, train time/epoch = 0.03049, best_val_f1 (macro) = 0.933, test_f1 (macro) = 0.910\n",
      "total time = 9.352, train time/epoch = 0.02971, best_val_f1 (macro) = 0.934, test_f1 (macro) = 0.924\n",
      "total time = 6.894, train time/epoch = 0.03036, best_val_f1 (macro) = 0.933, test_f1 (macro) = 0.922\n",
      "total time = 8.508, train time/epoch = 0.03008, best_val_f1 (macro) = 0.930, test_f1 (macro) = 0.906\n",
      "total time = 6.902, train time/epoch = 0.02972, best_val_f1 (macro) = 0.930, test_f1 (macro) = 0.921\n",
      "total time = 12.357, train time/epoch = 0.02958, best_val_f1 (macro) = 0.937, test_f1 (macro) = 0.918\n",
      "total time = 10.390, train time/epoch = 0.02985, best_val_f1 (macro) = 0.933, test_f1 (macro) = 0.921\n",
      "total time = 6.104, train time/epoch = 0.03046, best_val_f1 (macro) = 0.934, test_f1 (macro) = 0.917\n",
      "total time = 8.313, train time/epoch = 0.02973, best_val_f1 (macro) = 0.934, test_f1 (macro) = 0.923\n",
      "total time = 6.089, train time/epoch = 0.02988, best_val_f1 (macro) = 0.936, test_f1 (macro) = 0.915\n",
      "total time = 8.558, train time/epoch = 0.02983, best_val_f1 (macro) = 0.930, test_f1 (macro) = 0.917\n",
      "total time = 7.753, train time/epoch = 0.02971, best_val_f1 (macro) = 0.933, test_f1 (macro) = 0.915\n",
      "total time = 4.124, train time/epoch = 0.02983, best_val_f1 (macro) = 0.933, test_f1 (macro) = 0.907\n",
      "total time = 7.611, train time/epoch = 0.02973, best_val_f1 (macro) = 0.930, test_f1 (macro) = 0.918\n",
      "total time = 7.385, train time/epoch = 0.03010, best_val_f1 (macro) = 0.930, test_f1 (macro) = 0.921\n",
      "total time = 9.788, train time/epoch = 0.02979, best_val_f1 (macro) = 0.937, test_f1 (macro) = 0.916\n",
      "total time = 6.460, train time/epoch = 0.02968, best_val_f1 (macro) = 0.930, test_f1 (macro) = 0.918\n",
      "total time = 5.477, train time/epoch = 0.02998, best_val_f1 (macro) = 0.933, test_f1 (macro) = 0.914\n",
      "test macro-f1 (mean, std):  0.9173775690040931 0.004906654119805023\n",
      "test macro-f1 (mean, std) after filter:  0.917859188189084 0.0033106398917508223\n",
      "\n",
      "start testing on IMDB dataset\n",
      "total time = 7.100, train time/epoch = 0.02368, best_val_f1 (macro) = 0.644, test_f1 (macro) = 0.591\n",
      "total time = 4.563, train time/epoch = 0.02384, best_val_f1 (macro) = 0.637, test_f1 (macro) = 0.616\n",
      "total time = 6.339, train time/epoch = 0.02376, best_val_f1 (macro) = 0.631, test_f1 (macro) = 0.600\n",
      "total time = 4.264, train time/epoch = 0.02376, best_val_f1 (macro) = 0.644, test_f1 (macro) = 0.602\n",
      "total time = 4.963, train time/epoch = 0.02376, best_val_f1 (macro) = 0.637, test_f1 (macro) = 0.613\n",
      "total time = 4.620, train time/epoch = 0.02379, best_val_f1 (macro) = 0.635, test_f1 (macro) = 0.612\n",
      "total time = 4.175, train time/epoch = 0.02401, best_val_f1 (macro) = 0.636, test_f1 (macro) = 0.591\n",
      "total time = 5.482, train time/epoch = 0.02378, best_val_f1 (macro) = 0.638, test_f1 (macro) = 0.598\n",
      "total time = 4.777, train time/epoch = 0.02366, best_val_f1 (macro) = 0.638, test_f1 (macro) = 0.610\n",
      "total time = 6.480, train time/epoch = 0.02371, best_val_f1 (macro) = 0.640, test_f1 (macro) = 0.613\n",
      "total time = 4.272, train time/epoch = 0.02362, best_val_f1 (macro) = 0.633, test_f1 (macro) = 0.599\n",
      "total time = 4.428, train time/epoch = 0.02362, best_val_f1 (macro) = 0.636, test_f1 (macro) = 0.601\n",
      "total time = 4.708, train time/epoch = 0.02373, best_val_f1 (macro) = 0.642, test_f1 (macro) = 0.605\n",
      "total time = 4.429, train time/epoch = 0.02363, best_val_f1 (macro) = 0.646, test_f1 (macro) = 0.619\n",
      "total time = 5.223, train time/epoch = 0.02377, best_val_f1 (macro) = 0.644, test_f1 (macro) = 0.605\n",
      "total time = 6.116, train time/epoch = 0.02388, best_val_f1 (macro) = 0.633, test_f1 (macro) = 0.599\n",
      "total time = 4.374, train time/epoch = 0.02385, best_val_f1 (macro) = 0.642, test_f1 (macro) = 0.597\n",
      "total time = 8.122, train time/epoch = 0.02391, best_val_f1 (macro) = 0.623, test_f1 (macro) = 0.580\n",
      "total time = 5.355, train time/epoch = 0.02409, best_val_f1 (macro) = 0.654, test_f1 (macro) = 0.593\n",
      "total time = 4.816, train time/epoch = 0.02374, best_val_f1 (macro) = 0.638, test_f1 (macro) = 0.607\n",
      "total time = 5.699, train time/epoch = 0.02379, best_val_f1 (macro) = 0.637, test_f1 (macro) = 0.603\n",
      "total time = 3.847, train time/epoch = 0.02380, best_val_f1 (macro) = 0.639, test_f1 (macro) = 0.600\n",
      "total time = 5.137, train time/epoch = 0.02394, best_val_f1 (macro) = 0.640, test_f1 (macro) = 0.608\n",
      "total time = 5.221, train time/epoch = 0.02407, best_val_f1 (macro) = 0.630, test_f1 (macro) = 0.610\n",
      "total time = 4.863, train time/epoch = 0.02374, best_val_f1 (macro) = 0.634, test_f1 (macro) = 0.611\n",
      "total time = 4.491, train time/epoch = 0.02378, best_val_f1 (macro) = 0.645, test_f1 (macro) = 0.605\n",
      "total time = 4.517, train time/epoch = 0.02367, best_val_f1 (macro) = 0.645, test_f1 (macro) = 0.610\n",
      "total time = 5.702, train time/epoch = 0.02374, best_val_f1 (macro) = 0.637, test_f1 (macro) = 0.608\n",
      "total time = 4.749, train time/epoch = 0.02381, best_val_f1 (macro) = 0.611, test_f1 (macro) = 0.596\n",
      "total time = 6.053, train time/epoch = 0.02364, best_val_f1 (macro) = 0.643, test_f1 (macro) = 0.603\n",
      "test macro-f1 (mean, std):  0.6035578472320295 0.008315046314657867\n",
      "test macro-f1 (mean, std) after filter:  0.6040145257259699 0.005439030232543997\n",
      "\n",
      "start testing on DBLP dataset\n",
      "total time = 7.810, train time/epoch = 0.04374, best_val_f1 (macro) = 0.960, test_f1 (macro) = 0.944\n",
      "total time = 7.612, train time/epoch = 0.04369, best_val_f1 (macro) = 0.958, test_f1 (macro) = 0.947\n",
      "total time = 7.932, train time/epoch = 0.04345, best_val_f1 (macro) = 0.955, test_f1 (macro) = 0.944\n",
      "total time = 7.704, train time/epoch = 0.04348, best_val_f1 (macro) = 0.957, test_f1 (macro) = 0.941\n",
      "total time = 8.109, train time/epoch = 0.04337, best_val_f1 (macro) = 0.958, test_f1 (macro) = 0.937\n",
      "total time = 8.285, train time/epoch = 0.04416, best_val_f1 (macro) = 0.958, test_f1 (macro) = 0.940\n",
      "total time = 7.845, train time/epoch = 0.04365, best_val_f1 (macro) = 0.963, test_f1 (macro) = 0.944\n",
      "total time = 8.507, train time/epoch = 0.04374, best_val_f1 (macro) = 0.960, test_f1 (macro) = 0.937\n",
      "total time = 7.425, train time/epoch = 0.04346, best_val_f1 (macro) = 0.960, test_f1 (macro) = 0.934\n",
      "total time = 7.614, train time/epoch = 0.04393, best_val_f1 (macro) = 0.963, test_f1 (macro) = 0.940\n",
      "total time = 8.687, train time/epoch = 0.04362, best_val_f1 (macro) = 0.960, test_f1 (macro) = 0.942\n",
      "total time = 7.293, train time/epoch = 0.04336, best_val_f1 (macro) = 0.958, test_f1 (macro) = 0.942\n",
      "total time = 8.382, train time/epoch = 0.04365, best_val_f1 (macro) = 0.963, test_f1 (macro) = 0.938\n",
      "total time = 7.893, train time/epoch = 0.04358, best_val_f1 (macro) = 0.960, test_f1 (macro) = 0.944\n",
      "total time = 7.539, train time/epoch = 0.04347, best_val_f1 (macro) = 0.963, test_f1 (macro) = 0.946\n",
      "total time = 8.953, train time/epoch = 0.04360, best_val_f1 (macro) = 0.958, test_f1 (macro) = 0.942\n",
      "total time = 8.662, train time/epoch = 0.04321, best_val_f1 (macro) = 0.958, test_f1 (macro) = 0.934\n",
      "total time = 7.818, train time/epoch = 0.04343, best_val_f1 (macro) = 0.960, test_f1 (macro) = 0.941\n"
     ]
    },
    {
     "name": "stdout",
     "output_type": "stream",
     "text": [
      "total time = 7.306, train time/epoch = 0.04358, best_val_f1 (macro) = 0.958, test_f1 (macro) = 0.938\n",
      "total time = 7.436, train time/epoch = 0.04357, best_val_f1 (macro) = 0.963, test_f1 (macro) = 0.938\n",
      "total time = 7.357, train time/epoch = 0.04332, best_val_f1 (macro) = 0.955, test_f1 (macro) = 0.944\n",
      "total time = 8.859, train time/epoch = 0.04454, best_val_f1 (macro) = 0.960, test_f1 (macro) = 0.938\n",
      "total time = 7.815, train time/epoch = 0.04404, best_val_f1 (macro) = 0.955, test_f1 (macro) = 0.940\n",
      "total time = 8.673, train time/epoch = 0.04369, best_val_f1 (macro) = 0.960, test_f1 (macro) = 0.938\n",
      "total time = 7.959, train time/epoch = 0.04351, best_val_f1 (macro) = 0.960, test_f1 (macro) = 0.944\n",
      "total time = 8.487, train time/epoch = 0.04477, best_val_f1 (macro) = 0.960, test_f1 (macro) = 0.944\n",
      "total time = 8.448, train time/epoch = 0.04367, best_val_f1 (macro) = 0.960, test_f1 (macro) = 0.945\n",
      "total time = 8.689, train time/epoch = 0.04396, best_val_f1 (macro) = 0.958, test_f1 (macro) = 0.935\n",
      "total time = 7.513, train time/epoch = 0.04371, best_val_f1 (macro) = 0.960, test_f1 (macro) = 0.945\n",
      "total time = 8.456, train time/epoch = 0.04438, best_val_f1 (macro) = 0.960, test_f1 (macro) = 0.943\n",
      "test macro-f1 (mean, std):  0.9410530639537094 0.0035385945575943127\n",
      "test macro-f1 (mean, std) after filter:  0.9412596104670476 0.0026065067781964424\n"
     ]
    }
   ],
   "source": [
    "f1s = []\n",
    "datasets = ['ACM', 'IMDB', 'DBLP']\n",
    "for dataset in datasets:\n",
    "    args.data = dataset\n",
    "    if dataset == 'ACM':\n",
    "        args.dropout = 0.8\n",
    "        args.dropout2 = 0.2\n",
    "        args.target_node_type = 'paper'\n",
    "        print('\\nstart testing on ' + dataset + ' dataset')\n",
    "        f1s.append(main(args))\n",
    "    elif dataset == 'IMDB':\n",
    "        args.dropout = 0.8\n",
    "        args.dropout2 = 0.2\n",
    "        args.target_node_type = 'movie'\n",
    "        print('\\nstart testing on ' + dataset + ' dataset')\n",
    "        f1s.append(main(args))\n",
    "    elif dataset == 'DBLP':\n",
    "        args.dropout = 0\n",
    "        args.dropout2 = 0\n",
    "        args.target_node_type = 'author'\n",
    "        print('\\nstart testing on ' + dataset + ' dataset')\n",
    "        f1s.append(main(args))"
   ]
  },
  {
   "cell_type": "code",
   "execution_count": 4,
   "metadata": {},
   "outputs": [],
   "source": [
    "f1s = np.array(f1s)"
   ]
  },
  {
   "cell_type": "code",
   "execution_count": null,
   "metadata": {},
   "outputs": [],
   "source": []
  }
 ],
 "metadata": {
  "kernelspec": {
   "display_name": "Python 3",
   "language": "python",
   "name": "python3"
  },
  "language_info": {
   "codemirror_mode": {
    "name": "ipython",
    "version": 3
   },
   "file_extension": ".py",
   "mimetype": "text/x-python",
   "name": "python",
   "nbconvert_exporter": "python",
   "pygments_lexer": "ipython3",
   "version": "3.8.8"
  }
 },
 "nbformat": 4,
 "nbformat_minor": 4
}
