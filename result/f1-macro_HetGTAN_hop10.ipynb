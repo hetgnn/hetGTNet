{
 "cells": [
  {
   "cell_type": "code",
   "execution_count": 1,
   "metadata": {},
   "outputs": [
    {
     "name": "stderr",
     "output_type": "stream",
     "text": [
      "Using backend: pytorch\n"
     ]
    }
   ],
   "source": [
    "root_dir = '..' # dir of the source code\n",
    "import sys\n",
    "sys.path.append(root_dir)\n",
    "from train import main\n",
    "import numpy as np"
   ]
  },
  {
   "cell_type": "code",
   "execution_count": 2,
   "metadata": {},
   "outputs": [],
   "source": [
    "class config:\n",
    "    data = 'ACM'\n",
    "    data_path = '../data/preprocessed/'\n",
    "    model = 'HetGTAN'\n",
    "    target_node_type = 'paper'\n",
    "    n_hid = 64\n",
    "    dropout = 0.8\n",
    "    dropout2 = 0.2\n",
    "    learning_rate = 0.005\n",
    "    weight_decay = 5e-5\n",
    "    patience = 100\n",
    "    num_iter = 500\n",
    "    num_test = 30\n",
    "    hop = 10\n",
    "    filter_pct = 0.1 # remove the top and bottom filer_pct points before obtaining statistics of test accuracy\n",
    "    log_step = 1000 # training log step\n",
    "    layer_wise = True\n",
    "    average = 'macro' # 'f1 average: can choose either macro or micro.'\n",
    "\n",
    "args = config()"
   ]
  },
  {
   "cell_type": "code",
   "execution_count": 3,
   "metadata": {
    "scrolled": false
   },
   "outputs": [
    {
     "name": "stdout",
     "output_type": "stream",
     "text": [
      "\n",
      "start testing on IMDB dataset\n",
      "total time = 11.428, train time/epoch = 0.06402, best_val_f1 (macro) = 0.627, test_f1 (macro) = 0.612\n",
      "total time = 10.558, train time/epoch = 0.05881, best_val_f1 (macro) = 0.642, test_f1 (macro) = 0.610\n",
      "total time = 12.302, train time/epoch = 0.05965, best_val_f1 (macro) = 0.636, test_f1 (macro) = 0.604\n",
      "total time = 12.573, train time/epoch = 0.06699, best_val_f1 (macro) = 0.642, test_f1 (macro) = 0.597\n",
      "total time = 11.615, train time/epoch = 0.06760, best_val_f1 (macro) = 0.641, test_f1 (macro) = 0.612\n",
      "total time = 10.369, train time/epoch = 0.05923, best_val_f1 (macro) = 0.648, test_f1 (macro) = 0.611\n",
      "total time = 10.883, train time/epoch = 0.05894, best_val_f1 (macro) = 0.625, test_f1 (macro) = 0.615\n",
      "total time = 10.405, train time/epoch = 0.05853, best_val_f1 (macro) = 0.637, test_f1 (macro) = 0.607\n",
      "total time = 12.002, train time/epoch = 0.05845, best_val_f1 (macro) = 0.632, test_f1 (macro) = 0.599\n",
      "total time = 13.126, train time/epoch = 0.05856, best_val_f1 (macro) = 0.618, test_f1 (macro) = 0.604\n",
      "total time = 9.682, train time/epoch = 0.05874, best_val_f1 (macro) = 0.629, test_f1 (macro) = 0.612\n",
      "total time = 11.270, train time/epoch = 0.05842, best_val_f1 (macro) = 0.639, test_f1 (macro) = 0.614\n",
      "total time = 15.091, train time/epoch = 0.05876, best_val_f1 (macro) = 0.635, test_f1 (macro) = 0.595\n",
      "total time = 10.796, train time/epoch = 0.05849, best_val_f1 (macro) = 0.629, test_f1 (macro) = 0.611\n",
      "total time = 11.517, train time/epoch = 0.05841, best_val_f1 (macro) = 0.645, test_f1 (macro) = 0.617\n",
      "total time = 13.829, train time/epoch = 0.05884, best_val_f1 (macro) = 0.642, test_f1 (macro) = 0.580\n",
      "total time = 13.475, train time/epoch = 0.05943, best_val_f1 (macro) = 0.635, test_f1 (macro) = 0.583\n",
      "total time = 13.893, train time/epoch = 0.05878, best_val_f1 (macro) = 0.628, test_f1 (macro) = 0.603\n",
      "total time = 10.166, train time/epoch = 0.05948, best_val_f1 (macro) = 0.632, test_f1 (macro) = 0.605\n",
      "total time = 13.333, train time/epoch = 0.05916, best_val_f1 (macro) = 0.627, test_f1 (macro) = 0.578\n",
      "total time = 11.275, train time/epoch = 0.05899, best_val_f1 (macro) = 0.640, test_f1 (macro) = 0.606\n",
      "total time = 10.716, train time/epoch = 0.05987, best_val_f1 (macro) = 0.637, test_f1 (macro) = 0.609\n",
      "total time = 10.512, train time/epoch = 0.05897, best_val_f1 (macro) = 0.631, test_f1 (macro) = 0.607\n",
      "total time = 12.013, train time/epoch = 0.05894, best_val_f1 (macro) = 0.631, test_f1 (macro) = 0.610\n",
      "total time = 10.248, train time/epoch = 0.05901, best_val_f1 (macro) = 0.638, test_f1 (macro) = 0.602\n",
      "total time = 21.798, train time/epoch = 0.06164, best_val_f1 (macro) = 0.644, test_f1 (macro) = 0.586\n",
      "total time = 11.897, train time/epoch = 0.06337, best_val_f1 (macro) = 0.633, test_f1 (macro) = 0.607\n",
      "total time = 12.412, train time/epoch = 0.06244, best_val_f1 (macro) = 0.643, test_f1 (macro) = 0.605\n",
      "total time = 14.296, train time/epoch = 0.06268, best_val_f1 (macro) = 0.637, test_f1 (macro) = 0.609\n",
      "total time = 11.591, train time/epoch = 0.06267, best_val_f1 (macro) = 0.636, test_f1 (macro) = 0.612\n",
      "test macro-f1 (mean, std):  0.6040907999354856 0.010117334042335953\n",
      "test macro-f1 (mean, std) after filter:  0.6056475600401781 0.006228673476746088\n",
      "\n",
      "start testing on ACM dataset\n",
      "total time = 10.193, train time/epoch = 0.07275, best_val_f1 (macro) = 0.929, test_f1 (macro) = 0.901\n",
      "total time = 13.382, train time/epoch = 0.07384, best_val_f1 (macro) = 0.934, test_f1 (macro) = 0.918\n",
      "total time = 11.216, train time/epoch = 0.07363, best_val_f1 (macro) = 0.923, test_f1 (macro) = 0.927\n",
      "total time = 17.076, train time/epoch = 0.07426, best_val_f1 (macro) = 0.937, test_f1 (macro) = 0.919\n",
      "total time = 14.931, train time/epoch = 0.07445, best_val_f1 (macro) = 0.930, test_f1 (macro) = 0.917\n",
      "total time = 10.471, train time/epoch = 0.07638, best_val_f1 (macro) = 0.926, test_f1 (macro) = 0.898\n",
      "total time = 16.024, train time/epoch = 0.07216, best_val_f1 (macro) = 0.930, test_f1 (macro) = 0.924\n",
      "total time = 17.143, train time/epoch = 0.07091, best_val_f1 (macro) = 0.937, test_f1 (macro) = 0.922\n",
      "total time = 17.545, train time/epoch = 0.07112, best_val_f1 (macro) = 0.930, test_f1 (macro) = 0.927\n",
      "total time = 18.180, train time/epoch = 0.07119, best_val_f1 (macro) = 0.930, test_f1 (macro) = 0.922\n",
      "total time = 15.364, train time/epoch = 0.07067, best_val_f1 (macro) = 0.930, test_f1 (macro) = 0.923\n",
      "total time = 10.104, train time/epoch = 0.07164, best_val_f1 (macro) = 0.933, test_f1 (macro) = 0.889\n",
      "total time = 10.985, train time/epoch = 0.07141, best_val_f1 (macro) = 0.930, test_f1 (macro) = 0.926\n",
      "total time = 15.033, train time/epoch = 0.07096, best_val_f1 (macro) = 0.940, test_f1 (macro) = 0.929\n",
      "total time = 17.013, train time/epoch = 0.07037, best_val_f1 (macro) = 0.937, test_f1 (macro) = 0.925\n",
      "total time = 10.700, train time/epoch = 0.07038, best_val_f1 (macro) = 0.924, test_f1 (macro) = 0.926\n",
      "total time = 14.950, train time/epoch = 0.06972, best_val_f1 (macro) = 0.937, test_f1 (macro) = 0.926\n",
      "total time = 14.813, train time/epoch = 0.06994, best_val_f1 (macro) = 0.933, test_f1 (macro) = 0.919\n",
      "total time = 18.168, train time/epoch = 0.06995, best_val_f1 (macro) = 0.934, test_f1 (macro) = 0.922\n",
      "total time = 25.212, train time/epoch = 0.06956, best_val_f1 (macro) = 0.934, test_f1 (macro) = 0.913\n",
      "total time = 23.214, train time/epoch = 0.06986, best_val_f1 (macro) = 0.934, test_f1 (macro) = 0.919\n",
      "total time = 22.676, train time/epoch = 0.06953, best_val_f1 (macro) = 0.937, test_f1 (macro) = 0.919\n",
      "total time = 12.151, train time/epoch = 0.06975, best_val_f1 (macro) = 0.924, test_f1 (macro) = 0.918\n",
      "total time = 14.631, train time/epoch = 0.06952, best_val_f1 (macro) = 0.930, test_f1 (macro) = 0.924\n",
      "total time = 15.499, train time/epoch = 0.07008, best_val_f1 (macro) = 0.934, test_f1 (macro) = 0.925\n",
      "total time = 15.489, train time/epoch = 0.06963, best_val_f1 (macro) = 0.933, test_f1 (macro) = 0.914\n",
      "total time = 9.578, train time/epoch = 0.06948, best_val_f1 (macro) = 0.933, test_f1 (macro) = 0.883\n",
      "total time = 31.030, train time/epoch = 0.06980, best_val_f1 (macro) = 0.930, test_f1 (macro) = 0.921\n",
      "total time = 10.641, train time/epoch = 0.06999, best_val_f1 (macro) = 0.917, test_f1 (macro) = 0.890\n",
      "total time = 15.120, train time/epoch = 0.07009, best_val_f1 (macro) = 0.930, test_f1 (macro) = 0.920\n",
      "test macro-f1 (mean, std):  0.9168931260289566 0.011786461974808829\n",
      "test macro-f1 (mean, std) after filter:  0.9192417151356141 0.006854946298487992\n",
      "\n",
      "start testing on DBLP dataset\n",
      "total time = 21.784, train time/epoch = 0.11368, best_val_f1 (macro) = 0.963, test_f1 (macro) = 0.942\n",
      "total time = 21.412, train time/epoch = 0.11341, best_val_f1 (macro) = 0.953, test_f1 (macro) = 0.942\n",
      "total time = 20.797, train time/epoch = 0.11418, best_val_f1 (macro) = 0.958, test_f1 (macro) = 0.942\n",
      "total time = 21.211, train time/epoch = 0.11296, best_val_f1 (macro) = 0.953, test_f1 (macro) = 0.945\n",
      "total time = 20.777, train time/epoch = 0.11304, best_val_f1 (macro) = 0.963, test_f1 (macro) = 0.944\n",
      "total time = 19.274, train time/epoch = 0.11300, best_val_f1 (macro) = 0.960, test_f1 (macro) = 0.946\n",
      "total time = 21.229, train time/epoch = 0.11306, best_val_f1 (macro) = 0.953, test_f1 (macro) = 0.943\n",
      "total time = 21.476, train time/epoch = 0.11289, best_val_f1 (macro) = 0.958, test_f1 (macro) = 0.948\n",
      "total time = 19.883, train time/epoch = 0.11298, best_val_f1 (macro) = 0.958, test_f1 (macro) = 0.940\n",
      "total time = 20.310, train time/epoch = 0.11296, best_val_f1 (macro) = 0.953, test_f1 (macro) = 0.943\n",
      "total time = 20.791, train time/epoch = 0.11312, best_val_f1 (macro) = 0.955, test_f1 (macro) = 0.945\n",
      "total time = 20.908, train time/epoch = 0.11303, best_val_f1 (macro) = 0.960, test_f1 (macro) = 0.943\n",
      "total time = 21.557, train time/epoch = 0.11333, best_val_f1 (macro) = 0.958, test_f1 (macro) = 0.945\n",
      "total time = 19.500, train time/epoch = 0.11346, best_val_f1 (macro) = 0.960, test_f1 (macro) = 0.944\n",
      "total time = 21.007, train time/epoch = 0.11364, best_val_f1 (macro) = 0.955, test_f1 (macro) = 0.946\n",
      "total time = 23.483, train time/epoch = 0.11599, best_val_f1 (macro) = 0.958, test_f1 (macro) = 0.946\n",
      "total time = 22.880, train time/epoch = 0.11682, best_val_f1 (macro) = 0.958, test_f1 (macro) = 0.944\n"
     ]
    },
    {
     "name": "stdout",
     "output_type": "stream",
     "text": [
      "total time = 19.709, train time/epoch = 0.11599, best_val_f1 (macro) = 0.952, test_f1 (macro) = 0.944\n",
      "total time = 21.355, train time/epoch = 0.11489, best_val_f1 (macro) = 0.958, test_f1 (macro) = 0.944\n",
      "total time = 19.413, train time/epoch = 0.11500, best_val_f1 (macro) = 0.955, test_f1 (macro) = 0.943\n",
      "total time = 21.255, train time/epoch = 0.11420, best_val_f1 (macro) = 0.963, test_f1 (macro) = 0.944\n",
      "total time = 22.942, train time/epoch = 0.11447, best_val_f1 (macro) = 0.960, test_f1 (macro) = 0.945\n",
      "total time = 20.203, train time/epoch = 0.11327, best_val_f1 (macro) = 0.953, test_f1 (macro) = 0.935\n",
      "total time = 19.284, train time/epoch = 0.11409, best_val_f1 (macro) = 0.955, test_f1 (macro) = 0.941\n",
      "total time = 22.242, train time/epoch = 0.11818, best_val_f1 (macro) = 0.958, test_f1 (macro) = 0.948\n",
      "total time = 20.096, train time/epoch = 0.11633, best_val_f1 (macro) = 0.948, test_f1 (macro) = 0.941\n",
      "total time = 21.202, train time/epoch = 0.11568, best_val_f1 (macro) = 0.953, test_f1 (macro) = 0.942\n",
      "total time = 20.822, train time/epoch = 0.11425, best_val_f1 (macro) = 0.953, test_f1 (macro) = 0.946\n",
      "total time = 22.437, train time/epoch = 0.11320, best_val_f1 (macro) = 0.960, test_f1 (macro) = 0.938\n",
      "total time = 21.443, train time/epoch = 0.11357, best_val_f1 (macro) = 0.955, test_f1 (macro) = 0.945\n",
      "test macro-f1 (mean, std):  0.9435267607223261 0.002785202184451815\n",
      "test macro-f1 (mean, std) after filter:  0.9438068160234883 0.001521712331273498\n"
     ]
    }
   ],
   "source": [
    "f1s = []\n",
    "datasets = ['IMDB', 'ACM', 'DBLP']\n",
    "for dataset in datasets:\n",
    "    args.data = dataset\n",
    "    if dataset == 'ACM':\n",
    "        args.dropout = 0.8\n",
    "        args.dropout2 = 0.2\n",
    "        args.target_node_type = 'paper'\n",
    "        print('\\nstart testing on ' + dataset + ' dataset')\n",
    "        f1s.append(main(args))\n",
    "    elif dataset == 'IMDB':\n",
    "        args.dropout = 0.8\n",
    "        args.dropout2 = 0.2\n",
    "        args.target_node_type = 'movie'\n",
    "        print('\\nstart testing on ' + dataset + ' dataset')\n",
    "        f1s.append(main(args))\n",
    "    elif dataset == 'DBLP':\n",
    "        args.dropout = 0\n",
    "        args.dropout2 = 0\n",
    "        args.target_node_type = 'author'\n",
    "        print('\\nstart testing on ' + dataset + ' dataset')\n",
    "        f1s.append(main(args))"
   ]
  },
  {
   "cell_type": "code",
   "execution_count": 4,
   "metadata": {},
   "outputs": [],
   "source": [
    "f1s = np.array(f1s)"
   ]
  },
  {
   "cell_type": "code",
   "execution_count": null,
   "metadata": {},
   "outputs": [],
   "source": []
  }
 ],
 "metadata": {
  "kernelspec": {
   "display_name": "Python 3",
   "language": "python",
   "name": "python3"
  },
  "language_info": {
   "codemirror_mode": {
    "name": "ipython",
    "version": 3
   },
   "file_extension": ".py",
   "mimetype": "text/x-python",
   "name": "python",
   "nbconvert_exporter": "python",
   "pygments_lexer": "ipython3",
   "version": "3.8.8"
  }
 },
 "nbformat": 4,
 "nbformat_minor": 4
}
