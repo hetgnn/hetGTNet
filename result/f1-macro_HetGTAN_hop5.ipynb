{
 "cells": [
  {
   "cell_type": "code",
   "execution_count": 1,
   "metadata": {},
   "outputs": [
    {
     "name": "stderr",
     "output_type": "stream",
     "text": [
      "Using backend: pytorch\n"
     ]
    }
   ],
   "source": [
    "root_dir = '..' # dir of the source code\n",
    "import sys\n",
    "sys.path.append(root_dir)\n",
    "from train import main\n",
    "import numpy as np"
   ]
  },
  {
   "cell_type": "code",
   "execution_count": 2,
   "metadata": {},
   "outputs": [],
   "source": [
    "class config:\n",
    "    data = 'ACM'\n",
    "    data_path = '../data/preprocessed/'\n",
    "    model = 'HetGTAN'\n",
    "    target_node_type = 'paper'\n",
    "    n_hid = 64\n",
    "    num_heads = 8\n",
    "    dropout = 0.8\n",
    "    dropout2 = 0.2\n",
    "    learning_rate = 0.005\n",
    "    weight_decay = 5e-5\n",
    "    patience = 100\n",
    "    num_iter = 500\n",
    "    num_test = 30\n",
    "    hop = 5\n",
    "    filter_pct = 0.1 # remove the top and bottom filer_pct points before obtaining statistics of test accuracy\n",
    "    log_step = 1000 # training log step\n",
    "    layer_wise = True\n",
    "    average = 'macro' # 'f1 average: can choose either macro or micro.'\n",
    "\n",
    "args = config()"
   ]
  },
  {
   "cell_type": "code",
   "execution_count": 3,
   "metadata": {
    "scrolled": false
   },
   "outputs": [
    {
     "name": "stdout",
     "output_type": "stream",
     "text": [
      "\n",
      "start testing on ACM dataset\n",
      "total time = 9.021, train time/epoch = 0.04080, best_val_f1 (macro) = 0.930, test_f1 (macro) = 0.930\n",
      "total time = 11.926, train time/epoch = 0.03631, best_val_f1 (macro) = 0.930, test_f1 (macro) = 0.923\n",
      "total time = 8.174, train time/epoch = 0.03618, best_val_f1 (macro) = 0.930, test_f1 (macro) = 0.924\n",
      "total time = 10.524, train time/epoch = 0.03634, best_val_f1 (macro) = 0.930, test_f1 (macro) = 0.923\n",
      "total time = 13.909, train time/epoch = 0.03651, best_val_f1 (macro) = 0.927, test_f1 (macro) = 0.923\n",
      "total time = 7.143, train time/epoch = 0.03637, best_val_f1 (macro) = 0.930, test_f1 (macro) = 0.928\n",
      "total time = 7.155, train time/epoch = 0.03663, best_val_f1 (macro) = 0.927, test_f1 (macro) = 0.924\n",
      "total time = 10.452, train time/epoch = 0.03641, best_val_f1 (macro) = 0.937, test_f1 (macro) = 0.918\n",
      "total time = 11.988, train time/epoch = 0.03640, best_val_f1 (macro) = 0.934, test_f1 (macro) = 0.926\n",
      "total time = 10.854, train time/epoch = 0.03647, best_val_f1 (macro) = 0.930, test_f1 (macro) = 0.921\n",
      "total time = 7.562, train time/epoch = 0.03633, best_val_f1 (macro) = 0.930, test_f1 (macro) = 0.909\n",
      "total time = 14.485, train time/epoch = 0.03627, best_val_f1 (macro) = 0.927, test_f1 (macro) = 0.915\n",
      "total time = 6.170, train time/epoch = 0.03658, best_val_f1 (macro) = 0.927, test_f1 (macro) = 0.921\n",
      "total time = 7.233, train time/epoch = 0.03630, best_val_f1 (macro) = 0.933, test_f1 (macro) = 0.927\n",
      "total time = 23.783, train time/epoch = 0.03632, best_val_f1 (macro) = 0.937, test_f1 (macro) = 0.909\n",
      "total time = 9.375, train time/epoch = 0.03672, best_val_f1 (macro) = 0.930, test_f1 (macro) = 0.924\n",
      "total time = 11.634, train time/epoch = 0.03665, best_val_f1 (macro) = 0.930, test_f1 (macro) = 0.921\n",
      "total time = 12.404, train time/epoch = 0.03677, best_val_f1 (macro) = 0.930, test_f1 (macro) = 0.920\n",
      "total time = 8.217, train time/epoch = 0.03645, best_val_f1 (macro) = 0.930, test_f1 (macro) = 0.927\n",
      "total time = 7.543, train time/epoch = 0.03668, best_val_f1 (macro) = 0.930, test_f1 (macro) = 0.923\n",
      "total time = 8.619, train time/epoch = 0.03671, best_val_f1 (macro) = 0.933, test_f1 (macro) = 0.922\n",
      "total time = 7.815, train time/epoch = 0.03653, best_val_f1 (macro) = 0.937, test_f1 (macro) = 0.927\n",
      "total time = 10.399, train time/epoch = 0.03632, best_val_f1 (macro) = 0.930, test_f1 (macro) = 0.923\n",
      "total time = 8.204, train time/epoch = 0.03644, best_val_f1 (macro) = 0.930, test_f1 (macro) = 0.930\n",
      "total time = 9.490, train time/epoch = 0.03678, best_val_f1 (macro) = 0.933, test_f1 (macro) = 0.924\n",
      "total time = 7.112, train time/epoch = 0.03646, best_val_f1 (macro) = 0.934, test_f1 (macro) = 0.929\n",
      "total time = 10.494, train time/epoch = 0.03627, best_val_f1 (macro) = 0.937, test_f1 (macro) = 0.925\n",
      "total time = 10.070, train time/epoch = 0.03628, best_val_f1 (macro) = 0.927, test_f1 (macro) = 0.920\n",
      "total time = 9.535, train time/epoch = 0.03649, best_val_f1 (macro) = 0.930, test_f1 (macro) = 0.922\n",
      "total time = 9.443, train time/epoch = 0.03657, best_val_f1 (macro) = 0.934, test_f1 (macro) = 0.920\n",
      "test macro-f1 (mean, std):  0.9225416485825758 0.00493013164254317\n",
      "test macro-f1 (mean, std) after filter:  0.9231264683689581 0.002559190125298906\n",
      "\n",
      "start testing on IMDB dataset\n",
      "total time = 5.583, train time/epoch = 0.03087, best_val_f1 (macro) = 0.638, test_f1 (macro) = 0.612\n",
      "total time = 5.157, train time/epoch = 0.03092, best_val_f1 (macro) = 0.625, test_f1 (macro) = 0.611\n",
      "total time = 5.763, train time/epoch = 0.03047, best_val_f1 (macro) = 0.650, test_f1 (macro) = 0.616\n",
      "total time = 7.941, train time/epoch = 0.03058, best_val_f1 (macro) = 0.638, test_f1 (macro) = 0.605\n",
      "total time = 5.929, train time/epoch = 0.03053, best_val_f1 (macro) = 0.655, test_f1 (macro) = 0.623\n",
      "total time = 6.406, train time/epoch = 0.03052, best_val_f1 (macro) = 0.636, test_f1 (macro) = 0.608\n",
      "total time = 5.998, train time/epoch = 0.03040, best_val_f1 (macro) = 0.649, test_f1 (macro) = 0.609\n",
      "total time = 6.716, train time/epoch = 0.03038, best_val_f1 (macro) = 0.627, test_f1 (macro) = 0.609\n",
      "total time = 6.841, train time/epoch = 0.03035, best_val_f1 (macro) = 0.641, test_f1 (macro) = 0.615\n",
      "total time = 5.145, train time/epoch = 0.03061, best_val_f1 (macro) = 0.632, test_f1 (macro) = 0.597\n",
      "total time = 6.724, train time/epoch = 0.03083, best_val_f1 (macro) = 0.630, test_f1 (macro) = 0.607\n",
      "total time = 6.511, train time/epoch = 0.03059, best_val_f1 (macro) = 0.621, test_f1 (macro) = 0.614\n",
      "total time = 7.260, train time/epoch = 0.03054, best_val_f1 (macro) = 0.633, test_f1 (macro) = 0.587\n",
      "total time = 7.522, train time/epoch = 0.03042, best_val_f1 (macro) = 0.635, test_f1 (macro) = 0.595\n",
      "total time = 7.884, train time/epoch = 0.03049, best_val_f1 (macro) = 0.627, test_f1 (macro) = 0.604\n",
      "total time = 6.646, train time/epoch = 0.03090, best_val_f1 (macro) = 0.644, test_f1 (macro) = 0.610\n",
      "total time = 5.733, train time/epoch = 0.03080, best_val_f1 (macro) = 0.648, test_f1 (macro) = 0.613\n",
      "total time = 7.218, train time/epoch = 0.03056, best_val_f1 (macro) = 0.636, test_f1 (macro) = 0.573\n",
      "total time = 6.335, train time/epoch = 0.03040, best_val_f1 (macro) = 0.637, test_f1 (macro) = 0.614\n",
      "total time = 5.741, train time/epoch = 0.03086, best_val_f1 (macro) = 0.634, test_f1 (macro) = 0.613\n",
      "total time = 6.333, train time/epoch = 0.03065, best_val_f1 (macro) = 0.654, test_f1 (macro) = 0.616\n",
      "total time = 6.970, train time/epoch = 0.03056, best_val_f1 (macro) = 0.642, test_f1 (macro) = 0.598\n",
      "total time = 11.253, train time/epoch = 0.03051, best_val_f1 (macro) = 0.630, test_f1 (macro) = 0.585\n",
      "total time = 7.286, train time/epoch = 0.03048, best_val_f1 (macro) = 0.631, test_f1 (macro) = 0.588\n",
      "total time = 5.904, train time/epoch = 0.03054, best_val_f1 (macro) = 0.637, test_f1 (macro) = 0.616\n",
      "total time = 6.087, train time/epoch = 0.03079, best_val_f1 (macro) = 0.632, test_f1 (macro) = 0.606\n",
      "total time = 6.469, train time/epoch = 0.03103, best_val_f1 (macro) = 0.640, test_f1 (macro) = 0.615\n",
      "total time = 6.344, train time/epoch = 0.03114, best_val_f1 (macro) = 0.629, test_f1 (macro) = 0.608\n",
      "total time = 5.523, train time/epoch = 0.03035, best_val_f1 (macro) = 0.632, test_f1 (macro) = 0.616\n",
      "total time = 5.786, train time/epoch = 0.03043, best_val_f1 (macro) = 0.649, test_f1 (macro) = 0.616\n",
      "test macro-f1 (mean, std):  0.6066067266974395 0.011137294567826453\n",
      "test macro-f1 (mean, std) after filter:  0.6082317071401601 0.007256833283694828\n",
      "\n",
      "start testing on DBLP dataset\n",
      "total time = 10.557, train time/epoch = 0.05420, best_val_f1 (macro) = 0.958, test_f1 (macro) = 0.941\n",
      "total time = 10.916, train time/epoch = 0.05413, best_val_f1 (macro) = 0.955, test_f1 (macro) = 0.944\n",
      "total time = 9.837, train time/epoch = 0.05429, best_val_f1 (macro) = 0.965, test_f1 (macro) = 0.945\n",
      "total time = 12.213, train time/epoch = 0.05406, best_val_f1 (macro) = 0.958, test_f1 (macro) = 0.933\n",
      "total time = 9.495, train time/epoch = 0.05499, best_val_f1 (macro) = 0.957, test_f1 (macro) = 0.942\n",
      "total time = 10.344, train time/epoch = 0.05430, best_val_f1 (macro) = 0.960, test_f1 (macro) = 0.948\n",
      "total time = 10.502, train time/epoch = 0.05434, best_val_f1 (macro) = 0.955, test_f1 (macro) = 0.946\n",
      "total time = 10.385, train time/epoch = 0.05409, best_val_f1 (macro) = 0.955, test_f1 (macro) = 0.945\n",
      "total time = 10.814, train time/epoch = 0.05497, best_val_f1 (macro) = 0.953, test_f1 (macro) = 0.947\n",
      "total time = 11.138, train time/epoch = 0.05471, best_val_f1 (macro) = 0.958, test_f1 (macro) = 0.943\n",
      "total time = 10.930, train time/epoch = 0.05471, best_val_f1 (macro) = 0.960, test_f1 (macro) = 0.948\n",
      "total time = 10.417, train time/epoch = 0.05430, best_val_f1 (macro) = 0.963, test_f1 (macro) = 0.945\n",
      "total time = 11.481, train time/epoch = 0.05450, best_val_f1 (macro) = 0.950, test_f1 (macro) = 0.941\n",
      "total time = 11.106, train time/epoch = 0.05447, best_val_f1 (macro) = 0.965, test_f1 (macro) = 0.944\n",
      "total time = 9.712, train time/epoch = 0.05447, best_val_f1 (macro) = 0.958, test_f1 (macro) = 0.948\n",
      "total time = 10.334, train time/epoch = 0.05468, best_val_f1 (macro) = 0.965, test_f1 (macro) = 0.948\n",
      "total time = 9.658, train time/epoch = 0.05461, best_val_f1 (macro) = 0.958, test_f1 (macro) = 0.945\n"
     ]
    },
    {
     "name": "stdout",
     "output_type": "stream",
     "text": [
      "total time = 10.799, train time/epoch = 0.05438, best_val_f1 (macro) = 0.965, test_f1 (macro) = 0.947\n",
      "total time = 10.963, train time/epoch = 0.05444, best_val_f1 (macro) = 0.958, test_f1 (macro) = 0.938\n",
      "total time = 9.976, train time/epoch = 0.05430, best_val_f1 (macro) = 0.958, test_f1 (macro) = 0.946\n",
      "total time = 10.304, train time/epoch = 0.05452, best_val_f1 (macro) = 0.960, test_f1 (macro) = 0.946\n",
      "total time = 11.505, train time/epoch = 0.05463, best_val_f1 (macro) = 0.953, test_f1 (macro) = 0.936\n",
      "total time = 9.999, train time/epoch = 0.05440, best_val_f1 (macro) = 0.965, test_f1 (macro) = 0.943\n",
      "total time = 9.896, train time/epoch = 0.05422, best_val_f1 (macro) = 0.958, test_f1 (macro) = 0.945\n",
      "total time = 10.304, train time/epoch = 0.05448, best_val_f1 (macro) = 0.963, test_f1 (macro) = 0.948\n",
      "total time = 10.310, train time/epoch = 0.05451, best_val_f1 (macro) = 0.958, test_f1 (macro) = 0.943\n",
      "total time = 10.168, train time/epoch = 0.05459, best_val_f1 (macro) = 0.948, test_f1 (macro) = 0.940\n",
      "total time = 10.620, train time/epoch = 0.05462, best_val_f1 (macro) = 0.958, test_f1 (macro) = 0.948\n",
      "total time = 9.547, train time/epoch = 0.05435, best_val_f1 (macro) = 0.963, test_f1 (macro) = 0.945\n",
      "total time = 10.873, train time/epoch = 0.05438, best_val_f1 (macro) = 0.955, test_f1 (macro) = 0.943\n",
      "test macro-f1 (mean, std):  0.9439594728934522 0.0036406386576059505\n",
      "test macro-f1 (mean, std) after filter:  0.9444862812880434 0.002197158838881073\n"
     ]
    }
   ],
   "source": [
    "f1s = []\n",
    "datasets = ['ACM', 'IMDB', 'DBLP']\n",
    "for dataset in datasets:\n",
    "    args.data = dataset\n",
    "    if dataset == 'ACM':\n",
    "        args.dropout = 0.8\n",
    "        args.dropout2 = 0.2\n",
    "        args.target_node_type = 'paper'\n",
    "        print('\\nstart testing on ' + dataset + ' dataset')\n",
    "        f1s.append(main(args))\n",
    "    elif dataset == 'IMDB':\n",
    "        args.dropout = 0.8\n",
    "        args.dropout2 = 0.2\n",
    "        args.target_node_type = 'movie'\n",
    "        print('\\nstart testing on ' + dataset + ' dataset')\n",
    "        f1s.append(main(args))\n",
    "    elif dataset == 'DBLP':\n",
    "        args.dropout = 0\n",
    "        args.dropout2 = 0\n",
    "        args.target_node_type = 'author'\n",
    "        print('\\nstart testing on ' + dataset + ' dataset')\n",
    "        f1s.append(main(args))"
   ]
  },
  {
   "cell_type": "code",
   "execution_count": 4,
   "metadata": {},
   "outputs": [],
   "source": [
    "f1s = np.array(f1s)"
   ]
  },
  {
   "cell_type": "code",
   "execution_count": null,
   "metadata": {},
   "outputs": [],
   "source": []
  }
 ],
 "metadata": {
  "kernelspec": {
   "display_name": "Python 3",
   "language": "python",
   "name": "python3"
  },
  "language_info": {
   "codemirror_mode": {
    "name": "ipython",
    "version": 3
   },
   "file_extension": ".py",
   "mimetype": "text/x-python",
   "name": "python",
   "nbconvert_exporter": "python",
   "pygments_lexer": "ipython3",
   "version": "3.8.8"
  }
 },
 "nbformat": 4,
 "nbformat_minor": 4
}
