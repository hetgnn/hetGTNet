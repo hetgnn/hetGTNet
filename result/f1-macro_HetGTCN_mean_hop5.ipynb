{
 "cells": [
  {
   "cell_type": "code",
   "execution_count": 1,
   "metadata": {},
   "outputs": [
    {
     "name": "stderr",
     "output_type": "stream",
     "text": [
      "Using backend: pytorch\n"
     ]
    }
   ],
   "source": [
    "root_dir = '..' # dir of the source code\n",
    "import sys\n",
    "sys.path.append(root_dir)\n",
    "from train import main\n",
    "import numpy as np"
   ]
  },
  {
   "cell_type": "code",
   "execution_count": 2,
   "metadata": {},
   "outputs": [],
   "source": [
    "class config:\n",
    "    data = 'ACM'\n",
    "    data_path = '../data/preprocessed/'\n",
    "    model = 'HetGTCN_mean'\n",
    "    target_node_type = 'paper'\n",
    "    n_hid = 64\n",
    "    dropout = 0.8\n",
    "    dropout2 = 0.6\n",
    "    learning_rate = 0.005\n",
    "    weight_decay = 1e-5\n",
    "    patience = 100\n",
    "    num_iter = 500\n",
    "    num_test = 30\n",
    "    hop = 5\n",
    "    filter_pct = 0.1 # remove the top and bottom filer_pct points before obtaining statistics of test accuracy\n",
    "    log_step = 1000 # training log step\n",
    "    average = 'macro' # 'f1 average: can choose either macro or micro.'\n",
    "\n",
    "args = config()"
   ]
  },
  {
   "cell_type": "code",
   "execution_count": 3,
   "metadata": {
    "scrolled": false
   },
   "outputs": [
    {
     "name": "stdout",
     "output_type": "stream",
     "text": [
      "\n",
      "start testing on ACM dataset\n",
      "total time = 9.446, train time/epoch = 0.03276, best_val_f1 (macro) = 0.933, test_f1 (macro) = 0.921\n",
      "total time = 7.846, train time/epoch = 0.02827, best_val_f1 (macro) = 0.937, test_f1 (macro) = 0.924\n",
      "total time = 9.967, train time/epoch = 0.02795, best_val_f1 (macro) = 0.933, test_f1 (macro) = 0.926\n",
      "total time = 9.597, train time/epoch = 0.02841, best_val_f1 (macro) = 0.934, test_f1 (macro) = 0.923\n",
      "total time = 14.885, train time/epoch = 0.02851, best_val_f1 (macro) = 0.934, test_f1 (macro) = 0.914\n",
      "total time = 8.615, train time/epoch = 0.02802, best_val_f1 (macro) = 0.940, test_f1 (macro) = 0.925\n",
      "total time = 11.237, train time/epoch = 0.02845, best_val_f1 (macro) = 0.940, test_f1 (macro) = 0.926\n",
      "total time = 10.787, train time/epoch = 0.02826, best_val_f1 (macro) = 0.934, test_f1 (macro) = 0.924\n",
      "total time = 12.002, train time/epoch = 0.02860, best_val_f1 (macro) = 0.933, test_f1 (macro) = 0.916\n",
      "total time = 9.696, train time/epoch = 0.02790, best_val_f1 (macro) = 0.933, test_f1 (macro) = 0.923\n",
      "total time = 7.634, train time/epoch = 0.02795, best_val_f1 (macro) = 0.933, test_f1 (macro) = 0.921\n",
      "total time = 18.542, train time/epoch = 0.02879, best_val_f1 (macro) = 0.934, test_f1 (macro) = 0.921\n",
      "total time = 11.113, train time/epoch = 0.02867, best_val_f1 (macro) = 0.933, test_f1 (macro) = 0.928\n",
      "total time = 12.796, train time/epoch = 0.02875, best_val_f1 (macro) = 0.930, test_f1 (macro) = 0.920\n",
      "total time = 10.546, train time/epoch = 0.02830, best_val_f1 (macro) = 0.934, test_f1 (macro) = 0.924\n",
      "total time = 11.457, train time/epoch = 0.02832, best_val_f1 (macro) = 0.934, test_f1 (macro) = 0.925\n",
      "total time = 12.150, train time/epoch = 0.02867, best_val_f1 (macro) = 0.934, test_f1 (macro) = 0.925\n",
      "total time = 7.483, train time/epoch = 0.02821, best_val_f1 (macro) = 0.933, test_f1 (macro) = 0.923\n",
      "total time = 9.138, train time/epoch = 0.02907, best_val_f1 (macro) = 0.930, test_f1 (macro) = 0.924\n",
      "total time = 6.962, train time/epoch = 0.02889, best_val_f1 (macro) = 0.930, test_f1 (macro) = 0.915\n",
      "total time = 9.489, train time/epoch = 0.02820, best_val_f1 (macro) = 0.930, test_f1 (macro) = 0.921\n",
      "total time = 5.938, train time/epoch = 0.02869, best_val_f1 (macro) = 0.930, test_f1 (macro) = 0.923\n",
      "total time = 11.257, train time/epoch = 0.02807, best_val_f1 (macro) = 0.934, test_f1 (macro) = 0.929\n",
      "total time = 7.424, train time/epoch = 0.02858, best_val_f1 (macro) = 0.930, test_f1 (macro) = 0.926\n",
      "total time = 7.949, train time/epoch = 0.02785, best_val_f1 (macro) = 0.937, test_f1 (macro) = 0.922\n",
      "total time = 8.023, train time/epoch = 0.02836, best_val_f1 (macro) = 0.937, test_f1 (macro) = 0.925\n",
      "total time = 7.808, train time/epoch = 0.02859, best_val_f1 (macro) = 0.937, test_f1 (macro) = 0.923\n",
      "total time = 6.871, train time/epoch = 0.02821, best_val_f1 (macro) = 0.930, test_f1 (macro) = 0.928\n",
      "total time = 10.202, train time/epoch = 0.02851, best_val_f1 (macro) = 0.934, test_f1 (macro) = 0.920\n",
      "total time = 7.636, train time/epoch = 0.02875, best_val_f1 (macro) = 0.933, test_f1 (macro) = 0.924\n",
      "test macro-f1 (mean, std):  0.9230313579207937 0.0035407073930784705\n",
      "test macro-f1 (mean, std) after filter:  0.9234168485035393 0.0017947748528908387\n",
      "\n",
      "start testing on IMDB dataset\n",
      "total time = 9.397, train time/epoch = 0.02599, best_val_f1 (macro) = 0.625, test_f1 (macro) = 0.591\n",
      "total time = 7.982, train time/epoch = 0.02648, best_val_f1 (macro) = 0.620, test_f1 (macro) = 0.591\n",
      "total time = 7.274, train time/epoch = 0.02582, best_val_f1 (macro) = 0.629, test_f1 (macro) = 0.615\n",
      "total time = 11.143, train time/epoch = 0.02602, best_val_f1 (macro) = 0.656, test_f1 (macro) = 0.604\n",
      "total time = 12.048, train time/epoch = 0.02606, best_val_f1 (macro) = 0.646, test_f1 (macro) = 0.608\n",
      "total time = 11.169, train time/epoch = 0.02591, best_val_f1 (macro) = 0.638, test_f1 (macro) = 0.608\n",
      "total time = 15.660, train time/epoch = 0.02602, best_val_f1 (macro) = 0.657, test_f1 (macro) = 0.605\n",
      "total time = 6.728, train time/epoch = 0.02564, best_val_f1 (macro) = 0.629, test_f1 (macro) = 0.606\n",
      "total time = 10.169, train time/epoch = 0.02571, best_val_f1 (macro) = 0.641, test_f1 (macro) = 0.614\n",
      "total time = 11.388, train time/epoch = 0.02568, best_val_f1 (macro) = 0.615, test_f1 (macro) = 0.590\n",
      "total time = 8.876, train time/epoch = 0.02556, best_val_f1 (macro) = 0.644, test_f1 (macro) = 0.615\n",
      "total time = 17.666, train time/epoch = 0.02559, best_val_f1 (macro) = 0.643, test_f1 (macro) = 0.592\n",
      "total time = 8.035, train time/epoch = 0.02619, best_val_f1 (macro) = 0.620, test_f1 (macro) = 0.595\n",
      "total time = 10.775, train time/epoch = 0.02682, best_val_f1 (macro) = 0.642, test_f1 (macro) = 0.606\n",
      "total time = 14.449, train time/epoch = 0.02641, best_val_f1 (macro) = 0.626, test_f1 (macro) = 0.603\n",
      "total time = 6.361, train time/epoch = 0.02661, best_val_f1 (macro) = 0.617, test_f1 (macro) = 0.583\n",
      "total time = 7.280, train time/epoch = 0.02537, best_val_f1 (macro) = 0.634, test_f1 (macro) = 0.604\n",
      "total time = 8.364, train time/epoch = 0.02517, best_val_f1 (macro) = 0.635, test_f1 (macro) = 0.610\n",
      "total time = 11.647, train time/epoch = 0.02534, best_val_f1 (macro) = 0.644, test_f1 (macro) = 0.616\n",
      "total time = 8.700, train time/epoch = 0.02533, best_val_f1 (macro) = 0.648, test_f1 (macro) = 0.606\n",
      "total time = 12.335, train time/epoch = 0.02516, best_val_f1 (macro) = 0.636, test_f1 (macro) = 0.611\n",
      "total time = 8.183, train time/epoch = 0.02591, best_val_f1 (macro) = 0.637, test_f1 (macro) = 0.610\n",
      "total time = 11.500, train time/epoch = 0.02559, best_val_f1 (macro) = 0.636, test_f1 (macro) = 0.609\n",
      "total time = 11.329, train time/epoch = 0.02549, best_val_f1 (macro) = 0.627, test_f1 (macro) = 0.591\n",
      "total time = 13.257, train time/epoch = 0.02568, best_val_f1 (macro) = 0.661, test_f1 (macro) = 0.610\n",
      "total time = 14.867, train time/epoch = 0.02536, best_val_f1 (macro) = 0.638, test_f1 (macro) = 0.595\n",
      "total time = 9.011, train time/epoch = 0.02532, best_val_f1 (macro) = 0.644, test_f1 (macro) = 0.613\n",
      "total time = 9.618, train time/epoch = 0.02624, best_val_f1 (macro) = 0.639, test_f1 (macro) = 0.603\n",
      "total time = 12.114, train time/epoch = 0.02627, best_val_f1 (macro) = 0.641, test_f1 (macro) = 0.610\n",
      "total time = 9.970, train time/epoch = 0.02633, best_val_f1 (macro) = 0.649, test_f1 (macro) = 0.611\n",
      "test macro-f1 (mean, std):  0.6041339705568529 0.008872491628925712\n",
      "test macro-f1 (mean, std) after filter:  0.6047898403498588 0.006863907061095121\n",
      "\n",
      "start testing on DBLP dataset\n",
      "total time = 20.385, train time/epoch = 0.04510, best_val_f1 (macro) = 0.907, test_f1 (macro) = 0.916\n",
      "total time = 20.500, train time/epoch = 0.04444, best_val_f1 (macro) = 0.912, test_f1 (macro) = 0.917\n",
      "total time = 30.508, train time/epoch = 0.04455, best_val_f1 (macro) = 0.910, test_f1 (macro) = 0.921\n",
      "total time = 11.752, train time/epoch = 0.04526, best_val_f1 (macro) = 0.898, test_f1 (macro) = 0.898\n",
      "total time = 19.089, train time/epoch = 0.04460, best_val_f1 (macro) = 0.920, test_f1 (macro) = 0.915\n",
      "total time = 16.070, train time/epoch = 0.04498, best_val_f1 (macro) = 0.910, test_f1 (macro) = 0.914\n",
      "total time = 13.220, train time/epoch = 0.04454, best_val_f1 (macro) = 0.902, test_f1 (macro) = 0.904\n",
      "total time = 20.557, train time/epoch = 0.04556, best_val_f1 (macro) = 0.915, test_f1 (macro) = 0.914\n",
      "total time = 10.898, train time/epoch = 0.04576, best_val_f1 (macro) = 0.895, test_f1 (macro) = 0.895\n",
      "total time = 28.603, train time/epoch = 0.04580, best_val_f1 (macro) = 0.922, test_f1 (macro) = 0.925\n",
      "total time = 21.355, train time/epoch = 0.04514, best_val_f1 (macro) = 0.902, test_f1 (macro) = 0.912\n",
      "total time = 9.067, train time/epoch = 0.04473, best_val_f1 (macro) = 0.903, test_f1 (macro) = 0.897\n",
      "total time = 23.630, train time/epoch = 0.04521, best_val_f1 (macro) = 0.917, test_f1 (macro) = 0.913\n",
      "total time = 30.323, train time/epoch = 0.04540, best_val_f1 (macro) = 0.912, test_f1 (macro) = 0.919\n",
      "total time = 24.261, train time/epoch = 0.04567, best_val_f1 (macro) = 0.912, test_f1 (macro) = 0.922\n",
      "total time = 32.069, train time/epoch = 0.04480, best_val_f1 (macro) = 0.915, test_f1 (macro) = 0.924\n",
      "total time = 20.468, train time/epoch = 0.04503, best_val_f1 (macro) = 0.902, test_f1 (macro) = 0.911\n"
     ]
    },
    {
     "name": "stdout",
     "output_type": "stream",
     "text": [
      "total time = 10.137, train time/epoch = 0.04581, best_val_f1 (macro) = 0.900, test_f1 (macro) = 0.896\n",
      "total time = 19.316, train time/epoch = 0.04559, best_val_f1 (macro) = 0.905, test_f1 (macro) = 0.918\n",
      "total time = 8.459, train time/epoch = 0.04610, best_val_f1 (macro) = 0.900, test_f1 (macro) = 0.884\n",
      "total time = 9.464, train time/epoch = 0.04685, best_val_f1 (macro) = 0.903, test_f1 (macro) = 0.892\n",
      "total time = 16.452, train time/epoch = 0.04498, best_val_f1 (macro) = 0.902, test_f1 (macro) = 0.909\n",
      "total time = 21.986, train time/epoch = 0.04602, best_val_f1 (macro) = 0.905, test_f1 (macro) = 0.919\n",
      "total time = 18.064, train time/epoch = 0.04575, best_val_f1 (macro) = 0.912, test_f1 (macro) = 0.918\n",
      "total time = 21.357, train time/epoch = 0.04566, best_val_f1 (macro) = 0.910, test_f1 (macro) = 0.915\n",
      "total time = 20.735, train time/epoch = 0.04588, best_val_f1 (macro) = 0.902, test_f1 (macro) = 0.911\n",
      "total time = 19.941, train time/epoch = 0.04572, best_val_f1 (macro) = 0.912, test_f1 (macro) = 0.913\n",
      "total time = 32.560, train time/epoch = 0.04640, best_val_f1 (macro) = 0.920, test_f1 (macro) = 0.924\n",
      "total time = 13.461, train time/epoch = 0.04535, best_val_f1 (macro) = 0.905, test_f1 (macro) = 0.902\n",
      "total time = 15.552, train time/epoch = 0.04519, best_val_f1 (macro) = 0.907, test_f1 (macro) = 0.909\n",
      "test macro-f1 (mean, std):  0.9108526353399675 0.010333335381579009\n",
      "test macro-f1 (mean, std) after filter:  0.9117205735563821 0.007332055581822972\n"
     ]
    }
   ],
   "source": [
    "f1s = []\n",
    "datasets = ['ACM', 'IMDB', 'DBLP']\n",
    "for dataset in datasets:\n",
    "    args.data = dataset\n",
    "    if dataset == 'ACM':\n",
    "        args.target_node_type = 'paper'\n",
    "        print('\\nstart testing on ' + dataset + ' dataset')\n",
    "        f1s.append(main(args))\n",
    "    elif dataset == 'IMDB':\n",
    "        args.target_node_type = 'movie'\n",
    "        print('\\nstart testing on ' + dataset + ' dataset')\n",
    "        f1s.append(main(args))\n",
    "    elif dataset == 'DBLP':\n",
    "        args.target_node_type = 'author'\n",
    "        print('\\nstart testing on ' + dataset + ' dataset')\n",
    "        f1s.append(main(args))"
   ]
  },
  {
   "cell_type": "code",
   "execution_count": 4,
   "metadata": {},
   "outputs": [],
   "source": [
    "f1s = np.array(f1s)"
   ]
  },
  {
   "cell_type": "code",
   "execution_count": null,
   "metadata": {},
   "outputs": [],
   "source": []
  }
 ],
 "metadata": {
  "kernelspec": {
   "display_name": "Python 3",
   "language": "python",
   "name": "python3"
  },
  "language_info": {
   "codemirror_mode": {
    "name": "ipython",
    "version": 3
   },
   "file_extension": ".py",
   "mimetype": "text/x-python",
   "name": "python",
   "nbconvert_exporter": "python",
   "pygments_lexer": "ipython3",
   "version": "3.8.8"
  }
 },
 "nbformat": 4,
 "nbformat_minor": 4
}
