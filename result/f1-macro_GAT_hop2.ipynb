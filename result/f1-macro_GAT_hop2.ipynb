{
 "cells": [
  {
   "cell_type": "code",
   "execution_count": 1,
   "metadata": {},
   "outputs": [
    {
     "name": "stderr",
     "output_type": "stream",
     "text": [
      "Using backend: pytorch\n"
     ]
    }
   ],
   "source": [
    "root_dir = '..' # dir of the source code\n",
    "import sys\n",
    "sys.path.append(root_dir)\n",
    "from train_homo import main\n",
    "import numpy as np"
   ]
  },
  {
   "cell_type": "code",
   "execution_count": 2,
   "metadata": {},
   "outputs": [],
   "source": [
    "class config:\n",
    "    data = 'ACM'\n",
    "    data_path = '../data/preprocessed/'\n",
    "    model = 'GAT'\n",
    "    n_hid = 64\n",
    "    num_heads = 1\n",
    "    num_out_heads = 1\n",
    "    dropout = 0.8\n",
    "    dropout2 = 0.2\n",
    "    learning_rate = 0.005\n",
    "    weight_decay = 5e-5\n",
    "    patience = 100\n",
    "    num_iter = 500\n",
    "    num_test = 30\n",
    "    hop = 2\n",
    "    filter_pct = 0.1 # remove the top and bottom filer_pct points before obtaining statistics of test accuracy\n",
    "    log_step = 1000 # training log step\n",
    "    average = 'macro' # 'f1 average: can choose either macro or micro.'\n",
    "\n",
    "args = config()"
   ]
  },
  {
   "cell_type": "code",
   "execution_count": 3,
   "metadata": {
    "scrolled": false
   },
   "outputs": [
    {
     "name": "stdout",
     "output_type": "stream",
     "text": [
      "\n",
      "start testing on ACM dataset\n",
      "total time = 3.472, train time/epoch = 0.01810, best_val_f1 (macro) = 0.937, test_f1 (macro) = 0.919\n",
      "total time = 1.751, train time/epoch = 0.00695, best_val_f1 (macro) = 0.927, test_f1 (macro) = 0.915\n",
      "total time = 1.793, train time/epoch = 0.00652, best_val_f1 (macro) = 0.920, test_f1 (macro) = 0.912\n",
      "total time = 1.863, train time/epoch = 0.00622, best_val_f1 (macro) = 0.920, test_f1 (macro) = 0.907\n",
      "total time = 1.199, train time/epoch = 0.00590, best_val_f1 (macro) = 0.929, test_f1 (macro) = 0.904\n",
      "total time = 1.268, train time/epoch = 0.00599, best_val_f1 (macro) = 0.930, test_f1 (macro) = 0.925\n",
      "total time = 1.387, train time/epoch = 0.00576, best_val_f1 (macro) = 0.934, test_f1 (macro) = 0.918\n",
      "total time = 1.473, train time/epoch = 0.00581, best_val_f1 (macro) = 0.937, test_f1 (macro) = 0.918\n",
      "total time = 1.330, train time/epoch = 0.00576, best_val_f1 (macro) = 0.927, test_f1 (macro) = 0.915\n",
      "total time = 1.310, train time/epoch = 0.00578, best_val_f1 (macro) = 0.930, test_f1 (macro) = 0.922\n",
      "total time = 1.388, train time/epoch = 0.00576, best_val_f1 (macro) = 0.927, test_f1 (macro) = 0.922\n",
      "total time = 1.521, train time/epoch = 0.00582, best_val_f1 (macro) = 0.920, test_f1 (macro) = 0.917\n",
      "total time = 1.191, train time/epoch = 0.00584, best_val_f1 (macro) = 0.930, test_f1 (macro) = 0.922\n",
      "total time = 1.407, train time/epoch = 0.00571, best_val_f1 (macro) = 0.927, test_f1 (macro) = 0.915\n",
      "total time = 1.277, train time/epoch = 0.00583, best_val_f1 (macro) = 0.927, test_f1 (macro) = 0.915\n",
      "total time = 1.136, train time/epoch = 0.00585, best_val_f1 (macro) = 0.926, test_f1 (macro) = 0.865\n",
      "total time = 1.468, train time/epoch = 0.00615, best_val_f1 (macro) = 0.930, test_f1 (macro) = 0.919\n",
      "total time = 1.303, train time/epoch = 0.00588, best_val_f1 (macro) = 0.934, test_f1 (macro) = 0.913\n",
      "total time = 1.343, train time/epoch = 0.00578, best_val_f1 (macro) = 0.933, test_f1 (macro) = 0.917\n",
      "total time = 1.792, train time/epoch = 0.00574, best_val_f1 (macro) = 0.930, test_f1 (macro) = 0.910\n",
      "total time = 1.483, train time/epoch = 0.00640, best_val_f1 (macro) = 0.927, test_f1 (macro) = 0.918\n",
      "total time = 1.220, train time/epoch = 0.00596, best_val_f1 (macro) = 0.926, test_f1 (macro) = 0.908\n",
      "total time = 1.320, train time/epoch = 0.00586, best_val_f1 (macro) = 0.933, test_f1 (macro) = 0.915\n",
      "total time = 1.581, train time/epoch = 0.00583, best_val_f1 (macro) = 0.920, test_f1 (macro) = 0.915\n",
      "total time = 1.216, train time/epoch = 0.00582, best_val_f1 (macro) = 0.923, test_f1 (macro) = 0.891\n",
      "total time = 1.307, train time/epoch = 0.00586, best_val_f1 (macro) = 0.927, test_f1 (macro) = 0.918\n",
      "total time = 1.225, train time/epoch = 0.00581, best_val_f1 (macro) = 0.923, test_f1 (macro) = 0.893\n",
      "total time = 1.522, train time/epoch = 0.00574, best_val_f1 (macro) = 0.927, test_f1 (macro) = 0.919\n",
      "total time = 1.189, train time/epoch = 0.00579, best_val_f1 (macro) = 0.930, test_f1 (macro) = 0.918\n",
      "total time = 1.087, train time/epoch = 0.00561, best_val_f1 (macro) = 0.924, test_f1 (macro) = 0.888\n",
      "test macro-f1 (mean, std):  0.9117700218450259 0.01249653574653484\n",
      "test macro-f1 (mean, std) after filter:  0.9141967527421024 0.006153142129350651\n",
      "\n",
      "start testing on IMDB dataset\n",
      "total time = 2.170, train time/epoch = 0.01182, best_val_f1 (macro) = 0.626, test_f1 (macro) = 0.594\n",
      "total time = 1.474, train time/epoch = 0.00613, best_val_f1 (macro) = 0.632, test_f1 (macro) = 0.578\n",
      "total time = 1.421, train time/epoch = 0.00620, best_val_f1 (macro) = 0.598, test_f1 (macro) = 0.587\n",
      "total time = 1.535, train time/epoch = 0.00646, best_val_f1 (macro) = 0.633, test_f1 (macro) = 0.580\n",
      "total time = 1.309, train time/epoch = 0.00617, best_val_f1 (macro) = 0.599, test_f1 (macro) = 0.574\n",
      "total time = 2.085, train time/epoch = 0.00619, best_val_f1 (macro) = 0.610, test_f1 (macro) = 0.560\n",
      "total time = 1.440, train time/epoch = 0.00614, best_val_f1 (macro) = 0.615, test_f1 (macro) = 0.546\n",
      "total time = 1.768, train time/epoch = 0.00620, best_val_f1 (macro) = 0.602, test_f1 (macro) = 0.546\n",
      "total time = 1.229, train time/epoch = 0.00618, best_val_f1 (macro) = 0.605, test_f1 (macro) = 0.558\n",
      "total time = 1.273, train time/epoch = 0.00623, best_val_f1 (macro) = 0.614, test_f1 (macro) = 0.580\n",
      "total time = 1.384, train time/epoch = 0.00620, best_val_f1 (macro) = 0.619, test_f1 (macro) = 0.586\n",
      "total time = 2.447, train time/epoch = 0.00615, best_val_f1 (macro) = 0.609, test_f1 (macro) = 0.551\n",
      "total time = 1.342, train time/epoch = 0.00617, best_val_f1 (macro) = 0.605, test_f1 (macro) = 0.567\n",
      "total time = 1.831, train time/epoch = 0.00614, best_val_f1 (macro) = 0.612, test_f1 (macro) = 0.562\n",
      "total time = 1.285, train time/epoch = 0.00631, best_val_f1 (macro) = 0.620, test_f1 (macro) = 0.569\n",
      "total time = 2.435, train time/epoch = 0.00658, best_val_f1 (macro) = 0.598, test_f1 (macro) = 0.555\n",
      "total time = 1.292, train time/epoch = 0.00644, best_val_f1 (macro) = 0.623, test_f1 (macro) = 0.573\n",
      "total time = 1.520, train time/epoch = 0.00644, best_val_f1 (macro) = 0.618, test_f1 (macro) = 0.571\n",
      "total time = 1.401, train time/epoch = 0.00643, best_val_f1 (macro) = 0.626, test_f1 (macro) = 0.585\n",
      "total time = 1.545, train time/epoch = 0.00639, best_val_f1 (macro) = 0.594, test_f1 (macro) = 0.543\n",
      "total time = 1.299, train time/epoch = 0.00635, best_val_f1 (macro) = 0.625, test_f1 (macro) = 0.588\n",
      "total time = 1.776, train time/epoch = 0.00648, best_val_f1 (macro) = 0.603, test_f1 (macro) = 0.556\n",
      "total time = 2.295, train time/epoch = 0.00627, best_val_f1 (macro) = 0.605, test_f1 (macro) = 0.562\n",
      "total time = 1.829, train time/epoch = 0.00625, best_val_f1 (macro) = 0.593, test_f1 (macro) = 0.549\n",
      "total time = 1.335, train time/epoch = 0.00627, best_val_f1 (macro) = 0.594, test_f1 (macro) = 0.538\n",
      "total time = 1.321, train time/epoch = 0.00629, best_val_f1 (macro) = 0.620, test_f1 (macro) = 0.581\n",
      "total time = 2.562, train time/epoch = 0.00625, best_val_f1 (macro) = 0.621, test_f1 (macro) = 0.558\n",
      "total time = 1.576, train time/epoch = 0.00631, best_val_f1 (macro) = 0.627, test_f1 (macro) = 0.571\n",
      "total time = 1.944, train time/epoch = 0.00653, best_val_f1 (macro) = 0.614, test_f1 (macro) = 0.563\n",
      "total time = 1.320, train time/epoch = 0.00625, best_val_f1 (macro) = 0.621, test_f1 (macro) = 0.584\n",
      "test macro-f1 (mean, std):  0.5670132124321888 0.015034942219841472\n",
      "test macro-f1 (mean, std) after filter:  0.5672937009206684 0.011833744681923688\n",
      "\n",
      "start testing on DBLP dataset\n",
      "total time = 2.603, train time/epoch = 0.01251, best_val_f1 (macro) = 0.918, test_f1 (macro) = 0.916\n",
      "total time = 1.660, train time/epoch = 0.00715, best_val_f1 (macro) = 0.900, test_f1 (macro) = 0.890\n",
      "total time = 1.694, train time/epoch = 0.00733, best_val_f1 (macro) = 0.903, test_f1 (macro) = 0.879\n",
      "total time = 1.673, train time/epoch = 0.00770, best_val_f1 (macro) = 0.908, test_f1 (macro) = 0.896\n",
      "total time = 1.673, train time/epoch = 0.00719, best_val_f1 (macro) = 0.890, test_f1 (macro) = 0.894\n",
      "total time = 1.647, train time/epoch = 0.00722, best_val_f1 (macro) = 0.910, test_f1 (macro) = 0.911\n",
      "total time = 1.638, train time/epoch = 0.00720, best_val_f1 (macro) = 0.915, test_f1 (macro) = 0.893\n",
      "total time = 1.611, train time/epoch = 0.00722, best_val_f1 (macro) = 0.913, test_f1 (macro) = 0.906\n",
      "total time = 1.609, train time/epoch = 0.00715, best_val_f1 (macro) = 0.910, test_f1 (macro) = 0.904\n",
      "total time = 2.047, train time/epoch = 0.00707, best_val_f1 (macro) = 0.920, test_f1 (macro) = 0.901\n",
      "total time = 1.596, train time/epoch = 0.00713, best_val_f1 (macro) = 0.913, test_f1 (macro) = 0.888\n",
      "total time = 1.573, train time/epoch = 0.00722, best_val_f1 (macro) = 0.910, test_f1 (macro) = 0.879\n",
      "total time = 1.710, train time/epoch = 0.00767, best_val_f1 (macro) = 0.910, test_f1 (macro) = 0.905\n",
      "total time = 1.754, train time/epoch = 0.00744, best_val_f1 (macro) = 0.933, test_f1 (macro) = 0.917\n",
      "total time = 1.741, train time/epoch = 0.00755, best_val_f1 (macro) = 0.917, test_f1 (macro) = 0.900\n",
      "total time = 1.619, train time/epoch = 0.00733, best_val_f1 (macro) = 0.908, test_f1 (macro) = 0.902\n",
      "total time = 1.595, train time/epoch = 0.00712, best_val_f1 (macro) = 0.907, test_f1 (macro) = 0.908\n",
      "total time = 1.628, train time/epoch = 0.00734, best_val_f1 (macro) = 0.915, test_f1 (macro) = 0.897\n"
     ]
    },
    {
     "name": "stdout",
     "output_type": "stream",
     "text": [
      "total time = 1.691, train time/epoch = 0.00730, best_val_f1 (macro) = 0.920, test_f1 (macro) = 0.909\n",
      "total time = 1.652, train time/epoch = 0.00714, best_val_f1 (macro) = 0.917, test_f1 (macro) = 0.884\n",
      "total time = 1.874, train time/epoch = 0.00702, best_val_f1 (macro) = 0.930, test_f1 (macro) = 0.908\n",
      "total time = 1.971, train time/epoch = 0.00702, best_val_f1 (macro) = 0.893, test_f1 (macro) = 0.887\n",
      "total time = 1.732, train time/epoch = 0.00705, best_val_f1 (macro) = 0.925, test_f1 (macro) = 0.919\n",
      "total time = 1.661, train time/epoch = 0.00705, best_val_f1 (macro) = 0.910, test_f1 (macro) = 0.900\n",
      "total time = 1.661, train time/epoch = 0.00704, best_val_f1 (macro) = 0.910, test_f1 (macro) = 0.904\n",
      "total time = 1.717, train time/epoch = 0.00704, best_val_f1 (macro) = 0.888, test_f1 (macro) = 0.871\n",
      "total time = 1.632, train time/epoch = 0.00706, best_val_f1 (macro) = 0.895, test_f1 (macro) = 0.878\n",
      "total time = 1.631, train time/epoch = 0.00700, best_val_f1 (macro) = 0.896, test_f1 (macro) = 0.898\n",
      "total time = 1.599, train time/epoch = 0.00707, best_val_f1 (macro) = 0.917, test_f1 (macro) = 0.902\n",
      "total time = 1.583, train time/epoch = 0.00707, best_val_f1 (macro) = 0.910, test_f1 (macro) = 0.898\n",
      "test macro-f1 (mean, std):  0.8980386425497731 0.011926296967567852\n",
      "test macro-f1 (mean, std) after filter:  0.8984039397646061 0.008179229810800727\n"
     ]
    }
   ],
   "source": [
    "f1s = []\n",
    "datasets = ['ACM', 'IMDB', 'DBLP']\n",
    "for dataset in datasets:\n",
    "    args.data = dataset\n",
    "    if dataset == 'ACM':\n",
    "        args.dropout = 0.8\n",
    "        args.dropout2 = 0.2\n",
    "        print('\\nstart testing on ' + dataset + ' dataset')\n",
    "        f1s.append(main(args))\n",
    "    elif dataset == 'IMDB':\n",
    "        args.dropout = 0.8\n",
    "        args.dropout2 = 0.2\n",
    "        print('\\nstart testing on ' + dataset + ' dataset')\n",
    "        f1s.append(main(args))\n",
    "    elif dataset == 'DBLP':\n",
    "        args.dropout = 0\n",
    "        args.dropout2 = 0\n",
    "        print('\\nstart testing on ' + dataset + ' dataset')\n",
    "        f1s.append(main(args))"
   ]
  },
  {
   "cell_type": "code",
   "execution_count": 4,
   "metadata": {},
   "outputs": [],
   "source": [
    "f1s = np.array(f1s)"
   ]
  },
  {
   "cell_type": "code",
   "execution_count": null,
   "metadata": {},
   "outputs": [],
   "source": []
  }
 ],
 "metadata": {
  "kernelspec": {
   "display_name": "Python 3",
   "language": "python",
   "name": "python3"
  },
  "language_info": {
   "codemirror_mode": {
    "name": "ipython",
    "version": 3
   },
   "file_extension": ".py",
   "mimetype": "text/x-python",
   "name": "python",
   "nbconvert_exporter": "python",
   "pygments_lexer": "ipython3",
   "version": "3.8.8"
  }
 },
 "nbformat": 4,
 "nbformat_minor": 4
}
