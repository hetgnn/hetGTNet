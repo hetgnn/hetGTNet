{
 "cells": [
  {
   "cell_type": "code",
   "execution_count": 1,
   "metadata": {},
   "outputs": [
    {
     "name": "stderr",
     "output_type": "stream",
     "text": [
      "Using backend: pytorch\n"
     ]
    }
   ],
   "source": [
    "root_dir = '..' # dir of the source code\n",
    "import sys\n",
    "sys.path.append(root_dir)\n",
    "from train import main\n",
    "import numpy as np"
   ]
  },
  {
   "cell_type": "code",
   "execution_count": 2,
   "metadata": {},
   "outputs": [],
   "source": [
    "class config:\n",
    "    data = 'ACM'\n",
    "    data_path = '../data/preprocessed/'\n",
    "    model = 'HGT'\n",
    "    target_node_type = 'paper'\n",
    "    n_hid = 64\n",
    "    num_heads = 4\n",
    "    learning_rate = 0.005\n",
    "    weight_decay = 5e-5\n",
    "    patience = 100\n",
    "    num_iter = 500\n",
    "    num_test = 30\n",
    "    hop = 20\n",
    "    filter_pct = 0.1 # remove the top and bottom filer_pct points before obtaining statistics of test accuracy\n",
    "    log_step = 1000 # training log step\n",
    "    average = 'macro' # 'f1 average: can choose either macro or micro.'\n",
    "\n",
    "args = config()"
   ]
  },
  {
   "cell_type": "code",
   "execution_count": 3,
   "metadata": {},
   "outputs": [
    {
     "name": "stdout",
     "output_type": "stream",
     "text": [
      "\n",
      "start testing on ACM dataset\n",
      "total time = 119.543, train time/epoch = 0.45416, best_val_f1 (macro) = 0.700, test_f1 (macro) = 0.625\n",
      "total time = 73.899, train time/epoch = 0.44644, best_val_f1 (macro) = 0.196, test_f1 (macro) = 0.148\n",
      "total time = 76.763, train time/epoch = 0.44410, best_val_f1 (macro) = 0.169, test_f1 (macro) = 0.119\n",
      "total time = 91.473, train time/epoch = 0.44568, best_val_f1 (macro) = 0.878, test_f1 (macro) = 0.827\n",
      "total time = 80.227, train time/epoch = 0.44657, best_val_f1 (macro) = 0.924, test_f1 (macro) = 0.918\n",
      "total time = 69.002, train time/epoch = 0.44701, best_val_f1 (macro) = 0.446, test_f1 (macro) = 0.430\n",
      "total time = 75.330, train time/epoch = 0.44610, best_val_f1 (macro) = 0.720, test_f1 (macro) = 0.742\n",
      "total time = 139.469, train time/epoch = 0.44765, best_val_f1 (macro) = 0.704, test_f1 (macro) = 0.712\n",
      "total time = 181.084, train time/epoch = 0.44693, best_val_f1 (macro) = 0.845, test_f1 (macro) = 0.777\n",
      "total time = 70.371, train time/epoch = 0.44725, best_val_f1 (macro) = 0.533, test_f1 (macro) = 0.440\n",
      "total time = 73.693, train time/epoch = 0.44843, best_val_f1 (macro) = 0.468, test_f1 (macro) = 0.437\n",
      "total time = 119.241, train time/epoch = 0.44780, best_val_f1 (macro) = 0.584, test_f1 (macro) = 0.505\n",
      "total time = 64.888, train time/epoch = 0.44887, best_val_f1 (macro) = 0.167, test_f1 (macro) = 0.235\n",
      "total time = 140.848, train time/epoch = 0.44800, best_val_f1 (macro) = 0.535, test_f1 (macro) = 0.471\n",
      "total time = 80.353, train time/epoch = 0.45039, best_val_f1 (macro) = 0.630, test_f1 (macro) = 0.536\n",
      "total time = 72.958, train time/epoch = 0.44791, best_val_f1 (macro) = 0.499, test_f1 (macro) = 0.407\n",
      "total time = 98.596, train time/epoch = 0.44912, best_val_f1 (macro) = 0.873, test_f1 (macro) = 0.825\n",
      "total time = 104.708, train time/epoch = 0.45070, best_val_f1 (macro) = 0.316, test_f1 (macro) = 0.387\n",
      "total time = 161.790, train time/epoch = 0.44722, best_val_f1 (macro) = 0.842, test_f1 (macro) = 0.770\n",
      "total time = 135.368, train time/epoch = 0.45045, best_val_f1 (macro) = 0.715, test_f1 (macro) = 0.722\n",
      "total time = 74.787, train time/epoch = 0.44764, best_val_f1 (macro) = 0.870, test_f1 (macro) = 0.858\n",
      "total time = 71.207, train time/epoch = 0.44944, best_val_f1 (macro) = 0.711, test_f1 (macro) = 0.747\n",
      "total time = 113.358, train time/epoch = 0.44920, best_val_f1 (macro) = 0.907, test_f1 (macro) = 0.888\n",
      "total time = 147.815, train time/epoch = 0.44705, best_val_f1 (macro) = 0.771, test_f1 (macro) = 0.743\n",
      "total time = 73.945, train time/epoch = 0.45039, best_val_f1 (macro) = 0.522, test_f1 (macro) = 0.583\n",
      "total time = 72.264, train time/epoch = 0.44754, best_val_f1 (macro) = 0.678, test_f1 (macro) = 0.641\n",
      "total time = 86.952, train time/epoch = 0.44798, best_val_f1 (macro) = 0.910, test_f1 (macro) = 0.893\n",
      "total time = 72.886, train time/epoch = 0.45134, best_val_f1 (macro) = 0.787, test_f1 (macro) = 0.829\n",
      "total time = 73.091, train time/epoch = 0.44930, best_val_f1 (macro) = 0.284, test_f1 (macro) = 0.233\n",
      "total time = 84.438, train time/epoch = 0.44808, best_val_f1 (macro) = 0.773, test_f1 (macro) = 0.779\n",
      "test macro-f1 (mean, std):  0.6076020994308142 0.22883645417086648\n",
      "test macro-f1 (mean, std) after filter:  0.6261711065502746 0.17278331523515636\n",
      "\n",
      "start testing on IMDB dataset\n",
      "total time = 92.070, train time/epoch = 0.43351, best_val_f1 (macro) = 0.469, test_f1 (macro) = 0.440\n",
      "total time = 91.050, train time/epoch = 0.43426, best_val_f1 (macro) = 0.617, test_f1 (macro) = 0.574\n",
      "total time = 197.073, train time/epoch = 0.43426, best_val_f1 (macro) = 0.577, test_f1 (macro) = 0.530\n",
      "total time = 86.680, train time/epoch = 0.43350, best_val_f1 (macro) = 0.353, test_f1 (macro) = 0.344\n",
      "total time = 73.121, train time/epoch = 0.43470, best_val_f1 (macro) = 0.311, test_f1 (macro) = 0.293\n",
      "total time = 64.444, train time/epoch = 0.43463, best_val_f1 (macro) = 0.206, test_f1 (macro) = 0.239\n",
      "total time = 74.342, train time/epoch = 0.43414, best_val_f1 (macro) = 0.172, test_f1 (macro) = 0.190\n",
      "total time = 71.656, train time/epoch = 0.43282, best_val_f1 (macro) = 0.403, test_f1 (macro) = 0.405\n",
      "total time = 77.242, train time/epoch = 0.43333, best_val_f1 (macro) = 0.390, test_f1 (macro) = 0.382\n",
      "total time = 99.096, train time/epoch = 0.43429, best_val_f1 (macro) = 0.598, test_f1 (macro) = 0.571\n",
      "total time = 64.404, train time/epoch = 0.43357, best_val_f1 (macro) = 0.332, test_f1 (macro) = 0.293\n",
      "total time = 91.657, train time/epoch = 0.43421, best_val_f1 (macro) = 0.359, test_f1 (macro) = 0.329\n",
      "total time = 94.123, train time/epoch = 0.43438, best_val_f1 (macro) = 0.595, test_f1 (macro) = 0.536\n",
      "total time = 74.756, train time/epoch = 0.43327, best_val_f1 (macro) = 0.177, test_f1 (macro) = 0.196\n",
      "total time = 75.597, train time/epoch = 0.43455, best_val_f1 (macro) = 0.340, test_f1 (macro) = 0.318\n",
      "total time = 69.599, train time/epoch = 0.43572, best_val_f1 (macro) = 0.372, test_f1 (macro) = 0.375\n",
      "total time = 232.700, train time/epoch = 0.43327, best_val_f1 (macro) = 0.589, test_f1 (macro) = 0.555\n",
      "total time = 82.379, train time/epoch = 0.43409, best_val_f1 (macro) = 0.585, test_f1 (macro) = 0.563\n",
      "total time = 71.256, train time/epoch = 0.43401, best_val_f1 (macro) = 0.213, test_f1 (macro) = 0.226\n",
      "total time = 104.645, train time/epoch = 0.43294, best_val_f1 (macro) = 0.598, test_f1 (macro) = 0.547\n",
      "total time = 82.993, train time/epoch = 0.43429, best_val_f1 (macro) = 0.591, test_f1 (macro) = 0.558\n",
      "total time = 68.172, train time/epoch = 0.43394, best_val_f1 (macro) = 0.286, test_f1 (macro) = 0.292\n",
      "total time = 63.414, train time/epoch = 0.43626, best_val_f1 (macro) = 0.167, test_f1 (macro) = 0.182\n",
      "total time = 89.784, train time/epoch = 0.43453, best_val_f1 (macro) = 0.587, test_f1 (macro) = 0.541\n",
      "total time = 100.312, train time/epoch = 0.43443, best_val_f1 (macro) = 0.591, test_f1 (macro) = 0.542\n",
      "total time = 81.116, train time/epoch = 0.43409, best_val_f1 (macro) = 0.326, test_f1 (macro) = 0.320\n",
      "total time = 84.233, train time/epoch = 0.43438, best_val_f1 (macro) = 0.410, test_f1 (macro) = 0.391\n",
      "total time = 76.617, train time/epoch = 0.43261, best_val_f1 (macro) = 0.601, test_f1 (macro) = 0.575\n",
      "total time = 78.057, train time/epoch = 0.43334, best_val_f1 (macro) = 0.594, test_f1 (macro) = 0.562\n",
      "total time = 91.665, train time/epoch = 0.43369, best_val_f1 (macro) = 0.512, test_f1 (macro) = 0.480\n",
      "test macro-f1 (mean, std):  0.4116546056823021 0.134086986037358\n",
      "test macro-f1 (mean, std) after filter:  0.41922264924082914 0.11386073013668294\n",
      "\n",
      "start testing on DBLP dataset\n",
      "total time = 154.336, train time/epoch = 0.77997, best_val_f1 (macro) = 0.928, test_f1 (macro) = 0.917\n",
      "total time = 146.322, train time/epoch = 0.77830, best_val_f1 (macro) = 0.362, test_f1 (macro) = 0.358\n",
      "total time = 132.457, train time/epoch = 0.77981, best_val_f1 (macro) = 0.326, test_f1 (macro) = 0.311\n",
      "total time = 173.186, train time/epoch = 0.78524, best_val_f1 (macro) = 0.945, test_f1 (macro) = 0.922\n",
      "total time = 164.608, train time/epoch = 0.80035, best_val_f1 (macro) = 0.923, test_f1 (macro) = 0.912\n",
      "total time = 232.347, train time/epoch = 0.77789, best_val_f1 (macro) = 0.786, test_f1 (macro) = 0.754\n",
      "total time = 126.678, train time/epoch = 0.77824, best_val_f1 (macro) = 0.491, test_f1 (macro) = 0.425\n",
      "total time = 126.493, train time/epoch = 0.77717, best_val_f1 (macro) = 0.463, test_f1 (macro) = 0.446\n",
      "total time = 202.370, train time/epoch = 0.77933, best_val_f1 (macro) = 0.935, test_f1 (macro) = 0.903\n",
      "total time = 171.581, train time/epoch = 0.77872, best_val_f1 (macro) = 0.935, test_f1 (macro) = 0.921\n",
      "total time = 136.928, train time/epoch = 0.77508, best_val_f1 (macro) = 0.357, test_f1 (macro) = 0.361\n",
      "total time = 160.812, train time/epoch = 0.77465, best_val_f1 (macro) = 0.526, test_f1 (macro) = 0.506\n",
      "total time = 12304.471, train time/epoch = 82.82128, best_val_f1 (macro) = 0.601, test_f1 (macro) = 0.634\n",
      "total time = 157.539, train time/epoch = 0.81975, best_val_f1 (macro) = 0.945, test_f1 (macro) = 0.937\n",
      "total time = 152.558, train time/epoch = 0.77726, best_val_f1 (macro) = 0.905, test_f1 (macro) = 0.902\n",
      "total time = 148.151, train time/epoch = 0.77693, best_val_f1 (macro) = 0.203, test_f1 (macro) = 0.172\n",
      "total time = 180.534, train time/epoch = 0.78074, best_val_f1 (macro) = 0.940, test_f1 (macro) = 0.921\n"
     ]
    },
    {
     "name": "stdout",
     "output_type": "stream",
     "text": [
      "total time = 164.752, train time/epoch = 0.78197, best_val_f1 (macro) = 0.749, test_f1 (macro) = 0.748\n",
      "total time = 159.874, train time/epoch = 0.78025, best_val_f1 (macro) = 0.940, test_f1 (macro) = 0.932\n",
      "total time = 288.427, train time/epoch = 0.77835, best_val_f1 (macro) = 0.896, test_f1 (macro) = 0.885\n",
      "total time = 238.439, train time/epoch = 0.77971, best_val_f1 (macro) = 0.897, test_f1 (macro) = 0.895\n",
      "total time = 178.813, train time/epoch = 0.77739, best_val_f1 (macro) = 0.784, test_f1 (macro) = 0.799\n",
      "total time = 160.074, train time/epoch = 0.77618, best_val_f1 (macro) = 0.925, test_f1 (macro) = 0.906\n",
      "total time = 251.443, train time/epoch = 0.77581, best_val_f1 (macro) = 0.905, test_f1 (macro) = 0.885\n",
      "total time = 159.207, train time/epoch = 0.77761, best_val_f1 (macro) = 0.819, test_f1 (macro) = 0.782\n",
      "total time = 143.652, train time/epoch = 0.77607, best_val_f1 (macro) = 0.677, test_f1 (macro) = 0.685\n",
      "total time = 148.942, train time/epoch = 0.77505, best_val_f1 (macro) = 0.943, test_f1 (macro) = 0.921\n",
      "total time = 125.095, train time/epoch = 0.77549, best_val_f1 (macro) = 0.446, test_f1 (macro) = 0.444\n",
      "total time = 244.016, train time/epoch = 0.78318, best_val_f1 (macro) = 0.917, test_f1 (macro) = 0.899\n",
      "total time = 165.536, train time/epoch = 0.77660, best_val_f1 (macro) = 0.390, test_f1 (macro) = 0.385\n",
      "test macro-f1 (mean, std):  0.7156237792852871 0.23741356173998196\n",
      "test macro-f1 (mean, std) after filter:  0.7431853976647985 0.19870405988939377\n"
     ]
    }
   ],
   "source": [
    "f1s = []\n",
    "datasets = ['ACM', 'IMDB', 'DBLP']\n",
    "for dataset in datasets:\n",
    "    args.data = dataset\n",
    "    if dataset == 'ACM':\n",
    "        args.target_node_type = 'paper'\n",
    "        print('\\nstart testing on ' + dataset + ' dataset')\n",
    "        f1s.append(main(args))\n",
    "    elif dataset == 'IMDB':\n",
    "        args.target_node_type = 'movie'\n",
    "        print('\\nstart testing on ' + dataset + ' dataset')\n",
    "        f1s.append(main(args))\n",
    "    elif dataset == 'DBLP':\n",
    "        args.target_node_type = 'author'\n",
    "        print('\\nstart testing on ' + dataset + ' dataset')\n",
    "        f1s.append(main(args))"
   ]
  },
  {
   "cell_type": "code",
   "execution_count": 4,
   "metadata": {},
   "outputs": [],
   "source": [
    "f1s = np.array(f1s)"
   ]
  },
  {
   "cell_type": "code",
   "execution_count": 7,
   "metadata": {},
   "outputs": [
    {
     "data": {
      "text/plain": [
       "(0.8000647506127005, 0.055039072584399835)"
      ]
     },
     "execution_count": 7,
     "metadata": {},
     "output_type": "execute_result"
    }
   ],
   "source": [
    "from utils import remove_edge_pts\n",
    "# remove some unstable results\n",
    "f1_ACM = f1s[0][f1s[0] > 0.7]\n",
    "f1 = remove_edge_pts(f1_ACM, pct=args.filter_pct)\n",
    "f1.mean(), f1.std()"
   ]
  },
  {
   "cell_type": "code",
   "execution_count": 8,
   "metadata": {},
   "outputs": [
    {
     "data": {
      "text/plain": [
       "(0.5383933051247238, 0.036675931867474844)"
      ]
     },
     "execution_count": 8,
     "metadata": {},
     "output_type": "execute_result"
    }
   ],
   "source": [
    "f1_IMDB = f1s[1][f1s[1] > 0.4]\n",
    "f1 = remove_edge_pts(f1_IMDB, pct=args.filter_pct)\n",
    "f1.mean(), f1.std()"
   ]
  },
  {
   "cell_type": "code",
   "execution_count": 9,
   "metadata": {},
   "outputs": [
    {
     "data": {
      "text/plain": [
       "(0.8856568272571369, 0.0518398138523133)"
      ]
     },
     "execution_count": 9,
     "metadata": {},
     "output_type": "execute_result"
    }
   ],
   "source": [
    "f1_DBLP = f1s[2][f1s[2] > 0.7]\n",
    "f1 = remove_edge_pts(f1_DBLP, pct=args.filter_pct)\n",
    "f1.mean(), f1.std()"
   ]
  },
  {
   "cell_type": "code",
   "execution_count": null,
   "metadata": {},
   "outputs": [],
   "source": []
  }
 ],
 "metadata": {
  "kernelspec": {
   "display_name": "Python 3",
   "language": "python",
   "name": "python3"
  },
  "language_info": {
   "codemirror_mode": {
    "name": "ipython",
    "version": 3
   },
   "file_extension": ".py",
   "mimetype": "text/x-python",
   "name": "python",
   "nbconvert_exporter": "python",
   "pygments_lexer": "ipython3",
   "version": "3.8.8"
  }
 },
 "nbformat": 4,
 "nbformat_minor": 4
}
