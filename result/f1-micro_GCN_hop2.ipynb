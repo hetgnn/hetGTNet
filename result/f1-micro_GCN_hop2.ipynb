{
 "cells": [
  {
   "cell_type": "code",
   "execution_count": 1,
   "metadata": {},
   "outputs": [
    {
     "name": "stderr",
     "output_type": "stream",
     "text": [
      "Using backend: pytorch\n"
     ]
    }
   ],
   "source": [
    "root_dir = '..' # dir of the source code\n",
    "import sys\n",
    "sys.path.append(root_dir)\n",
    "from train_homo import main\n",
    "import numpy as np"
   ]
  },
  {
   "cell_type": "code",
   "execution_count": 2,
   "metadata": {},
   "outputs": [],
   "source": [
    "class config:\n",
    "    data = 'ACM'\n",
    "    data_path = '../data/preprocessed/'\n",
    "    model = 'GCN'\n",
    "    n_hid = 64\n",
    "    dropout = 0.5\n",
    "    learning_rate = 0.005\n",
    "    weight_decay = 5e-5\n",
    "    patience = 100\n",
    "    num_iter = 500\n",
    "    num_test = 30\n",
    "    hop = 2\n",
    "    filter_pct = 0.1 # remove the top and bottom filer_pct points before obtaining statistics of test accuracy\n",
    "    log_step = 1000 # training log step\n",
    "    average = 'micro' # 'f1 average: can choose either macro or micro.'\n",
    "\n",
    "args = config()"
   ]
  },
  {
   "cell_type": "code",
   "execution_count": 3,
   "metadata": {
    "scrolled": false
   },
   "outputs": [
    {
     "name": "stdout",
     "output_type": "stream",
     "text": [
      "\n",
      "start testing on DBLP dataset\n",
      "total time = 2.899, train time/epoch = 0.01600, best_val_f1 (micro) = 0.855, test_f1 (micro) = 0.846\n",
      "total time = 1.958, train time/epoch = 0.00924, best_val_f1 (micro) = 0.853, test_f1 (micro) = 0.849\n",
      "total time = 2.009, train time/epoch = 0.00921, best_val_f1 (micro) = 0.853, test_f1 (micro) = 0.851\n",
      "total time = 1.979, train time/epoch = 0.00921, best_val_f1 (micro) = 0.860, test_f1 (micro) = 0.840\n",
      "total time = 2.023, train time/epoch = 0.00911, best_val_f1 (micro) = 0.850, test_f1 (micro) = 0.852\n",
      "total time = 2.018, train time/epoch = 0.00917, best_val_f1 (micro) = 0.843, test_f1 (micro) = 0.856\n",
      "total time = 2.008, train time/epoch = 0.00914, best_val_f1 (micro) = 0.855, test_f1 (micro) = 0.848\n",
      "total time = 1.950, train time/epoch = 0.00925, best_val_f1 (micro) = 0.860, test_f1 (micro) = 0.855\n",
      "total time = 2.096, train time/epoch = 0.00915, best_val_f1 (micro) = 0.843, test_f1 (micro) = 0.838\n",
      "total time = 2.015, train time/epoch = 0.00924, best_val_f1 (micro) = 0.845, test_f1 (micro) = 0.852\n",
      "total time = 1.914, train time/epoch = 0.00923, best_val_f1 (micro) = 0.860, test_f1 (micro) = 0.846\n",
      "total time = 1.981, train time/epoch = 0.00910, best_val_f1 (micro) = 0.853, test_f1 (micro) = 0.855\n",
      "total time = 2.033, train time/epoch = 0.00909, best_val_f1 (micro) = 0.845, test_f1 (micro) = 0.844\n",
      "total time = 1.959, train time/epoch = 0.00917, best_val_f1 (micro) = 0.860, test_f1 (micro) = 0.848\n",
      "total time = 2.109, train time/epoch = 0.00917, best_val_f1 (micro) = 0.848, test_f1 (micro) = 0.845\n",
      "total time = 1.916, train time/epoch = 0.00902, best_val_f1 (micro) = 0.858, test_f1 (micro) = 0.849\n",
      "total time = 1.963, train time/epoch = 0.00907, best_val_f1 (micro) = 0.853, test_f1 (micro) = 0.851\n",
      "total time = 1.948, train time/epoch = 0.00907, best_val_f1 (micro) = 0.873, test_f1 (micro) = 0.847\n",
      "total time = 1.883, train time/epoch = 0.00905, best_val_f1 (micro) = 0.858, test_f1 (micro) = 0.855\n",
      "total time = 2.013, train time/epoch = 0.00906, best_val_f1 (micro) = 0.845, test_f1 (micro) = 0.852\n",
      "total time = 1.997, train time/epoch = 0.00900, best_val_f1 (micro) = 0.858, test_f1 (micro) = 0.845\n",
      "total time = 1.995, train time/epoch = 0.00902, best_val_f1 (micro) = 0.858, test_f1 (micro) = 0.851\n",
      "total time = 2.017, train time/epoch = 0.00925, best_val_f1 (micro) = 0.848, test_f1 (micro) = 0.855\n",
      "total time = 2.002, train time/epoch = 0.00915, best_val_f1 (micro) = 0.855, test_f1 (micro) = 0.846\n",
      "total time = 2.036, train time/epoch = 0.00905, best_val_f1 (micro) = 0.845, test_f1 (micro) = 0.853\n",
      "total time = 2.039, train time/epoch = 0.00903, best_val_f1 (micro) = 0.838, test_f1 (micro) = 0.854\n",
      "total time = 1.973, train time/epoch = 0.00910, best_val_f1 (micro) = 0.858, test_f1 (micro) = 0.846\n",
      "total time = 1.987, train time/epoch = 0.00908, best_val_f1 (micro) = 0.855, test_f1 (micro) = 0.844\n",
      "total time = 2.036, train time/epoch = 0.00906, best_val_f1 (micro) = 0.850, test_f1 (micro) = 0.848\n",
      "total time = 2.091, train time/epoch = 0.00905, best_val_f1 (micro) = 0.845, test_f1 (micro) = 0.851\n",
      "test micro-f1 (mean, std):  0.8490607863726521 0.004534659504067483\n",
      "test micro-f1 (mean, std) after filter:  0.8493028818107572 0.003212700491024615\n",
      "\n",
      "start testing on IMDB dataset\n",
      "total time = 1.269, train time/epoch = 0.00567, best_val_f1 (micro) = 0.597, test_f1 (micro) = 0.569\n",
      "total time = 1.140, train time/epoch = 0.00561, best_val_f1 (micro) = 0.603, test_f1 (micro) = 0.580\n",
      "total time = 1.213, train time/epoch = 0.00562, best_val_f1 (micro) = 0.613, test_f1 (micro) = 0.563\n",
      "total time = 1.203, train time/epoch = 0.00565, best_val_f1 (micro) = 0.613, test_f1 (micro) = 0.557\n",
      "total time = 1.237, train time/epoch = 0.00568, best_val_f1 (micro) = 0.600, test_f1 (micro) = 0.582\n",
      "total time = 1.108, train time/epoch = 0.00564, best_val_f1 (micro) = 0.603, test_f1 (micro) = 0.588\n",
      "total time = 1.154, train time/epoch = 0.00575, best_val_f1 (micro) = 0.620, test_f1 (micro) = 0.593\n",
      "total time = 1.199, train time/epoch = 0.00557, best_val_f1 (micro) = 0.603, test_f1 (micro) = 0.563\n",
      "total time = 2.609, train time/epoch = 0.00559, best_val_f1 (micro) = 0.607, test_f1 (micro) = 0.557\n",
      "total time = 1.169, train time/epoch = 0.00559, best_val_f1 (micro) = 0.623, test_f1 (micro) = 0.580\n",
      "total time = 1.183, train time/epoch = 0.00555, best_val_f1 (micro) = 0.607, test_f1 (micro) = 0.583\n",
      "total time = 1.163, train time/epoch = 0.00559, best_val_f1 (micro) = 0.603, test_f1 (micro) = 0.591\n",
      "total time = 1.810, train time/epoch = 0.00561, best_val_f1 (micro) = 0.607, test_f1 (micro) = 0.568\n",
      "total time = 1.310, train time/epoch = 0.00558, best_val_f1 (micro) = 0.600, test_f1 (micro) = 0.558\n",
      "total time = 1.133, train time/epoch = 0.00557, best_val_f1 (micro) = 0.613, test_f1 (micro) = 0.564\n",
      "total time = 1.231, train time/epoch = 0.00554, best_val_f1 (micro) = 0.623, test_f1 (micro) = 0.573\n",
      "total time = 1.173, train time/epoch = 0.00567, best_val_f1 (micro) = 0.627, test_f1 (micro) = 0.583\n",
      "total time = 1.221, train time/epoch = 0.00566, best_val_f1 (micro) = 0.600, test_f1 (micro) = 0.587\n",
      "total time = 1.247, train time/epoch = 0.00564, best_val_f1 (micro) = 0.610, test_f1 (micro) = 0.575\n",
      "total time = 2.512, train time/epoch = 0.00565, best_val_f1 (micro) = 0.607, test_f1 (micro) = 0.563\n",
      "total time = 1.253, train time/epoch = 0.00562, best_val_f1 (micro) = 0.610, test_f1 (micro) = 0.572\n",
      "total time = 2.468, train time/epoch = 0.00559, best_val_f1 (micro) = 0.607, test_f1 (micro) = 0.563\n",
      "total time = 1.114, train time/epoch = 0.00558, best_val_f1 (micro) = 0.620, test_f1 (micro) = 0.587\n",
      "total time = 1.412, train time/epoch = 0.00563, best_val_f1 (micro) = 0.603, test_f1 (micro) = 0.557\n",
      "total time = 2.178, train time/epoch = 0.00559, best_val_f1 (micro) = 0.603, test_f1 (micro) = 0.562\n",
      "total time = 1.093, train time/epoch = 0.00562, best_val_f1 (micro) = 0.607, test_f1 (micro) = 0.563\n",
      "total time = 1.324, train time/epoch = 0.00561, best_val_f1 (micro) = 0.607, test_f1 (micro) = 0.568\n",
      "total time = 1.142, train time/epoch = 0.00557, best_val_f1 (micro) = 0.630, test_f1 (micro) = 0.577\n",
      "total time = 1.364, train time/epoch = 0.00558, best_val_f1 (micro) = 0.617, test_f1 (micro) = 0.564\n",
      "total time = 1.146, train time/epoch = 0.00552, best_val_f1 (micro) = 0.613, test_f1 (micro) = 0.602\n",
      "test micro-f1 (mean, std):  0.5731647634584014 0.012060331827429502\n",
      "test micro-f1 (mean, std) after filter:  0.572378557186877 0.009295317890996333\n",
      "\n",
      "start testing on ACM dataset\n",
      "total time = 1.231, train time/epoch = 0.00585, best_val_f1 (micro) = 0.917, test_f1 (micro) = 0.877\n",
      "total time = 1.258, train time/epoch = 0.00616, best_val_f1 (micro) = 0.920, test_f1 (micro) = 0.919\n",
      "total time = 1.240, train time/epoch = 0.00613, best_val_f1 (micro) = 0.920, test_f1 (micro) = 0.895\n",
      "total time = 1.177, train time/epoch = 0.00584, best_val_f1 (micro) = 0.920, test_f1 (micro) = 0.899\n",
      "total time = 1.228, train time/epoch = 0.00587, best_val_f1 (micro) = 0.913, test_f1 (micro) = 0.890\n",
      "total time = 1.239, train time/epoch = 0.00581, best_val_f1 (micro) = 0.920, test_f1 (micro) = 0.885\n",
      "total time = 1.234, train time/epoch = 0.00589, best_val_f1 (micro) = 0.920, test_f1 (micro) = 0.915\n",
      "total time = 1.141, train time/epoch = 0.00598, best_val_f1 (micro) = 0.923, test_f1 (micro) = 0.878\n",
      "total time = 1.241, train time/epoch = 0.00594, best_val_f1 (micro) = 0.927, test_f1 (micro) = 0.898\n",
      "total time = 1.199, train time/epoch = 0.00587, best_val_f1 (micro) = 0.917, test_f1 (micro) = 0.910\n",
      "total time = 1.159, train time/epoch = 0.00589, best_val_f1 (micro) = 0.920, test_f1 (micro) = 0.886\n",
      "total time = 1.296, train time/epoch = 0.00581, best_val_f1 (micro) = 0.920, test_f1 (micro) = 0.917\n",
      "total time = 1.210, train time/epoch = 0.00588, best_val_f1 (micro) = 0.923, test_f1 (micro) = 0.918\n",
      "total time = 1.274, train time/epoch = 0.00585, best_val_f1 (micro) = 0.917, test_f1 (micro) = 0.893\n",
      "total time = 1.219, train time/epoch = 0.00587, best_val_f1 (micro) = 0.920, test_f1 (micro) = 0.918\n",
      "total time = 1.618, train time/epoch = 0.00592, best_val_f1 (micro) = 0.917, test_f1 (micro) = 0.889\n",
      "total time = 1.215, train time/epoch = 0.00607, best_val_f1 (micro) = 0.913, test_f1 (micro) = 0.910\n",
      "total time = 1.253, train time/epoch = 0.00607, best_val_f1 (micro) = 0.917, test_f1 (micro) = 0.899\n"
     ]
    },
    {
     "name": "stdout",
     "output_type": "stream",
     "text": [
      "total time = 1.210, train time/epoch = 0.00603, best_val_f1 (micro) = 0.920, test_f1 (micro) = 0.901\n",
      "total time = 1.296, train time/epoch = 0.00605, best_val_f1 (micro) = 0.917, test_f1 (micro) = 0.913\n",
      "total time = 1.205, train time/epoch = 0.00610, best_val_f1 (micro) = 0.917, test_f1 (micro) = 0.909\n",
      "total time = 1.277, train time/epoch = 0.00601, best_val_f1 (micro) = 0.920, test_f1 (micro) = 0.915\n",
      "total time = 1.307, train time/epoch = 0.00604, best_val_f1 (micro) = 0.917, test_f1 (micro) = 0.920\n",
      "total time = 1.285, train time/epoch = 0.00606, best_val_f1 (micro) = 0.923, test_f1 (micro) = 0.915\n",
      "total time = 1.182, train time/epoch = 0.00607, best_val_f1 (micro) = 0.913, test_f1 (micro) = 0.890\n",
      "total time = 1.251, train time/epoch = 0.00609, best_val_f1 (micro) = 0.920, test_f1 (micro) = 0.902\n",
      "total time = 1.234, train time/epoch = 0.00606, best_val_f1 (micro) = 0.917, test_f1 (micro) = 0.911\n",
      "total time = 1.230, train time/epoch = 0.00610, best_val_f1 (micro) = 0.917, test_f1 (micro) = 0.916\n",
      "total time = 1.237, train time/epoch = 0.00610, best_val_f1 (micro) = 0.920, test_f1 (micro) = 0.893\n",
      "total time = 1.226, train time/epoch = 0.00609, best_val_f1 (micro) = 0.917, test_f1 (micro) = 0.903\n",
      "test micro-f1 (mean, std):  0.9027466068184248 0.012702564748236325\n",
      "test micro-f1 (mean, std) after filter:  0.9036015817035375 0.010041832666078075\n"
     ]
    }
   ],
   "source": [
    "f1s = []\n",
    "datasets = ['DBLP', 'IMDB', 'ACM']\n",
    "for dataset in datasets:\n",
    "    args.data = dataset\n",
    "    if dataset == 'ACM':\n",
    "        print('\\nstart testing on ' + dataset + ' dataset')\n",
    "        f1s.append(main(args))\n",
    "    elif dataset == 'IMDB':\n",
    "        print('\\nstart testing on ' + dataset + ' dataset')\n",
    "        f1s.append(main(args))\n",
    "    elif dataset == 'DBLP':\n",
    "        print('\\nstart testing on ' + dataset + ' dataset')\n",
    "        f1s.append(main(args))"
   ]
  },
  {
   "cell_type": "code",
   "execution_count": 4,
   "metadata": {},
   "outputs": [],
   "source": [
    "f1s = np.array(f1s)"
   ]
  },
  {
   "cell_type": "code",
   "execution_count": null,
   "metadata": {},
   "outputs": [],
   "source": []
  }
 ],
 "metadata": {
  "kernelspec": {
   "display_name": "Python 3",
   "language": "python",
   "name": "python3"
  },
  "language_info": {
   "codemirror_mode": {
    "name": "ipython",
    "version": 3
   },
   "file_extension": ".py",
   "mimetype": "text/x-python",
   "name": "python",
   "nbconvert_exporter": "python",
   "pygments_lexer": "ipython3",
   "version": "3.8.8"
  }
 },
 "nbformat": 4,
 "nbformat_minor": 4
}
