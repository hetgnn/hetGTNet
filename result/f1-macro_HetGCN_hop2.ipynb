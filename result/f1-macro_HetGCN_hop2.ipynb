{
 "cells": [
  {
   "cell_type": "code",
   "execution_count": 1,
   "metadata": {},
   "outputs": [
    {
     "name": "stderr",
     "output_type": "stream",
     "text": [
      "Using backend: pytorch\n"
     ]
    }
   ],
   "source": [
    "root_dir = '..' # dir of the source code\n",
    "import sys\n",
    "sys.path.append(root_dir)\n",
    "from train import main\n",
    "import numpy as np"
   ]
  },
  {
   "cell_type": "code",
   "execution_count": 2,
   "metadata": {},
   "outputs": [],
   "source": [
    "class config:\n",
    "    data = 'ACM'\n",
    "    data_path = '../data/preprocessed/'\n",
    "    model = 'HetGCN'\n",
    "    target_node_type = 'paper'\n",
    "    n_hid = 64\n",
    "    dropout = 0.5\n",
    "    learning_rate = 0.005\n",
    "    weight_decay = 1e-5\n",
    "    patience = 100\n",
    "    num_iter = 500\n",
    "    num_test = 30\n",
    "    hop = 2\n",
    "    filter_pct = 0.1 # remove the top and bottom filer_pct points before obtaining statistics of test accuracy\n",
    "    log_step = 1000 # training log step\n",
    "    layer_wise = True\n",
    "    average = 'macro' # 'f1 average: can choose either macro or micro.'\n",
    "\n",
    "args = config()"
   ]
  },
  {
   "cell_type": "code",
   "execution_count": 3,
   "metadata": {
    "scrolled": false
   },
   "outputs": [
    {
     "name": "stdout",
     "output_type": "stream",
     "text": [
      "\n",
      "start testing on DBLP dataset\n",
      "total time = 5.620, train time/epoch = 0.03085, best_val_f1 (macro) = 0.930, test_f1 (macro) = 0.921\n",
      "total time = 6.231, train time/epoch = 0.02216, best_val_f1 (macro) = 0.932, test_f1 (macro) = 0.911\n",
      "total time = 4.486, train time/epoch = 0.02230, best_val_f1 (macro) = 0.935, test_f1 (macro) = 0.925\n",
      "total time = 4.831, train time/epoch = 0.02238, best_val_f1 (macro) = 0.927, test_f1 (macro) = 0.930\n",
      "total time = 4.436, train time/epoch = 0.02258, best_val_f1 (macro) = 0.940, test_f1 (macro) = 0.931\n",
      "total time = 4.865, train time/epoch = 0.02205, best_val_f1 (macro) = 0.928, test_f1 (macro) = 0.917\n",
      "total time = 5.023, train time/epoch = 0.02211, best_val_f1 (macro) = 0.933, test_f1 (macro) = 0.921\n",
      "total time = 4.586, train time/epoch = 0.02287, best_val_f1 (macro) = 0.935, test_f1 (macro) = 0.916\n",
      "total time = 4.525, train time/epoch = 0.02220, best_val_f1 (macro) = 0.933, test_f1 (macro) = 0.929\n",
      "total time = 4.493, train time/epoch = 0.02260, best_val_f1 (macro) = 0.930, test_f1 (macro) = 0.931\n",
      "total time = 4.826, train time/epoch = 0.02202, best_val_f1 (macro) = 0.933, test_f1 (macro) = 0.916\n",
      "total time = 5.012, train time/epoch = 0.02265, best_val_f1 (macro) = 0.935, test_f1 (macro) = 0.912\n",
      "total time = 4.964, train time/epoch = 0.02240, best_val_f1 (macro) = 0.926, test_f1 (macro) = 0.918\n",
      "total time = 4.303, train time/epoch = 0.02196, best_val_f1 (macro) = 0.940, test_f1 (macro) = 0.933\n",
      "total time = 4.613, train time/epoch = 0.02235, best_val_f1 (macro) = 0.930, test_f1 (macro) = 0.922\n",
      "total time = 4.365, train time/epoch = 0.02217, best_val_f1 (macro) = 0.930, test_f1 (macro) = 0.916\n",
      "total time = 6.112, train time/epoch = 0.02195, best_val_f1 (macro) = 0.928, test_f1 (macro) = 0.894\n",
      "total time = 4.929, train time/epoch = 0.02200, best_val_f1 (macro) = 0.935, test_f1 (macro) = 0.917\n",
      "total time = 5.799, train time/epoch = 0.02175, best_val_f1 (macro) = 0.937, test_f1 (macro) = 0.916\n",
      "total time = 5.955, train time/epoch = 0.02227, best_val_f1 (macro) = 0.923, test_f1 (macro) = 0.893\n",
      "total time = 4.652, train time/epoch = 0.02237, best_val_f1 (macro) = 0.943, test_f1 (macro) = 0.930\n",
      "total time = 5.648, train time/epoch = 0.02201, best_val_f1 (macro) = 0.930, test_f1 (macro) = 0.906\n",
      "total time = 4.574, train time/epoch = 0.02226, best_val_f1 (macro) = 0.931, test_f1 (macro) = 0.925\n",
      "total time = 4.659, train time/epoch = 0.02207, best_val_f1 (macro) = 0.925, test_f1 (macro) = 0.926\n",
      "total time = 4.472, train time/epoch = 0.02240, best_val_f1 (macro) = 0.935, test_f1 (macro) = 0.931\n",
      "total time = 4.455, train time/epoch = 0.02228, best_val_f1 (macro) = 0.925, test_f1 (macro) = 0.915\n",
      "total time = 4.933, train time/epoch = 0.02258, best_val_f1 (macro) = 0.925, test_f1 (macro) = 0.919\n",
      "total time = 4.425, train time/epoch = 0.02229, best_val_f1 (macro) = 0.940, test_f1 (macro) = 0.930\n",
      "total time = 4.585, train time/epoch = 0.02214, best_val_f1 (macro) = 0.938, test_f1 (macro) = 0.934\n",
      "total time = 4.855, train time/epoch = 0.02218, best_val_f1 (macro) = 0.925, test_f1 (macro) = 0.911\n",
      "test macro-f1 (mean, std):  0.9199298331153639 0.01026250175388956\n",
      "test macro-f1 (mean, std) after filter:  0.9211072084555157 0.006555612149570056\n",
      "\n",
      "start testing on IMDB dataset\n",
      "total time = 2.846, train time/epoch = 0.01632, best_val_f1 (macro) = 0.624, test_f1 (macro) = 0.610\n",
      "total time = 2.679, train time/epoch = 0.01578, best_val_f1 (macro) = 0.640, test_f1 (macro) = 0.605\n",
      "total time = 3.025, train time/epoch = 0.01570, best_val_f1 (macro) = 0.624, test_f1 (macro) = 0.591\n",
      "total time = 4.733, train time/epoch = 0.01573, best_val_f1 (macro) = 0.639, test_f1 (macro) = 0.560\n",
      "total time = 2.947, train time/epoch = 0.01596, best_val_f1 (macro) = 0.630, test_f1 (macro) = 0.584\n",
      "total time = 2.954, train time/epoch = 0.01596, best_val_f1 (macro) = 0.626, test_f1 (macro) = 0.568\n",
      "total time = 3.100, train time/epoch = 0.01589, best_val_f1 (macro) = 0.644, test_f1 (macro) = 0.566\n",
      "total time = 2.906, train time/epoch = 0.01597, best_val_f1 (macro) = 0.615, test_f1 (macro) = 0.581\n",
      "total time = 4.787, train time/epoch = 0.01582, best_val_f1 (macro) = 0.629, test_f1 (macro) = 0.576\n",
      "total time = 5.021, train time/epoch = 0.01573, best_val_f1 (macro) = 0.624, test_f1 (macro) = 0.582\n",
      "total time = 5.484, train time/epoch = 0.01602, best_val_f1 (macro) = 0.613, test_f1 (macro) = 0.572\n",
      "total time = 7.039, train time/epoch = 0.01600, best_val_f1 (macro) = 0.632, test_f1 (macro) = 0.574\n",
      "total time = 5.108, train time/epoch = 0.01594, best_val_f1 (macro) = 0.619, test_f1 (macro) = 0.576\n",
      "total time = 6.270, train time/epoch = 0.01587, best_val_f1 (macro) = 0.620, test_f1 (macro) = 0.573\n",
      "total time = 8.942, train time/epoch = 0.01577, best_val_f1 (macro) = 0.632, test_f1 (macro) = 0.584\n",
      "total time = 4.242, train time/epoch = 0.01573, best_val_f1 (macro) = 0.635, test_f1 (macro) = 0.580\n",
      "total time = 5.649, train time/epoch = 0.01596, best_val_f1 (macro) = 0.640, test_f1 (macro) = 0.573\n",
      "total time = 2.845, train time/epoch = 0.01603, best_val_f1 (macro) = 0.610, test_f1 (macro) = 0.588\n",
      "total time = 9.074, train time/epoch = 0.01579, best_val_f1 (macro) = 0.617, test_f1 (macro) = 0.565\n",
      "total time = 2.985, train time/epoch = 0.01581, best_val_f1 (macro) = 0.639, test_f1 (macro) = 0.571\n",
      "total time = 6.637, train time/epoch = 0.01619, best_val_f1 (macro) = 0.627, test_f1 (macro) = 0.583\n",
      "total time = 5.048, train time/epoch = 0.01591, best_val_f1 (macro) = 0.635, test_f1 (macro) = 0.582\n",
      "total time = 5.629, train time/epoch = 0.01631, best_val_f1 (macro) = 0.629, test_f1 (macro) = 0.576\n",
      "total time = 3.774, train time/epoch = 0.01598, best_val_f1 (macro) = 0.611, test_f1 (macro) = 0.566\n",
      "total time = 7.762, train time/epoch = 0.01596, best_val_f1 (macro) = 0.627, test_f1 (macro) = 0.579\n",
      "total time = 4.182, train time/epoch = 0.01585, best_val_f1 (macro) = 0.631, test_f1 (macro) = 0.563\n",
      "total time = 3.007, train time/epoch = 0.01606, best_val_f1 (macro) = 0.631, test_f1 (macro) = 0.562\n",
      "total time = 3.029, train time/epoch = 0.01643, best_val_f1 (macro) = 0.613, test_f1 (macro) = 0.603\n",
      "total time = 2.814, train time/epoch = 0.01653, best_val_f1 (macro) = 0.634, test_f1 (macro) = 0.601\n",
      "total time = 4.289, train time/epoch = 0.01662, best_val_f1 (macro) = 0.629, test_f1 (macro) = 0.581\n",
      "test macro-f1 (mean, std):  0.5791982197375847 0.01261185935871822\n",
      "test macro-f1 (mean, std) after filter:  0.5780438454082747 0.008344189660135405\n",
      "\n",
      "start testing on ACM dataset\n",
      "total time = 3.318, train time/epoch = 0.01673, best_val_f1 (macro) = 0.920, test_f1 (macro) = 0.906\n",
      "total time = 3.286, train time/epoch = 0.01659, best_val_f1 (macro) = 0.923, test_f1 (macro) = 0.909\n",
      "total time = 2.822, train time/epoch = 0.01635, best_val_f1 (macro) = 0.927, test_f1 (macro) = 0.920\n",
      "total time = 2.908, train time/epoch = 0.01642, best_val_f1 (macro) = 0.924, test_f1 (macro) = 0.921\n",
      "total time = 3.177, train time/epoch = 0.01665, best_val_f1 (macro) = 0.927, test_f1 (macro) = 0.915\n",
      "total time = 3.068, train time/epoch = 0.01665, best_val_f1 (macro) = 0.917, test_f1 (macro) = 0.910\n",
      "total time = 3.050, train time/epoch = 0.01635, best_val_f1 (macro) = 0.927, test_f1 (macro) = 0.917\n",
      "total time = 2.758, train time/epoch = 0.01661, best_val_f1 (macro) = 0.933, test_f1 (macro) = 0.883\n",
      "total time = 3.162, train time/epoch = 0.01676, best_val_f1 (macro) = 0.930, test_f1 (macro) = 0.917\n",
      "total time = 3.437, train time/epoch = 0.01650, best_val_f1 (macro) = 0.920, test_f1 (macro) = 0.911\n",
      "total time = 3.059, train time/epoch = 0.01653, best_val_f1 (macro) = 0.923, test_f1 (macro) = 0.904\n",
      "total time = 2.906, train time/epoch = 0.01632, best_val_f1 (macro) = 0.923, test_f1 (macro) = 0.913\n",
      "total time = 3.072, train time/epoch = 0.01680, best_val_f1 (macro) = 0.923, test_f1 (macro) = 0.919\n",
      "total time = 2.888, train time/epoch = 0.01675, best_val_f1 (macro) = 0.923, test_f1 (macro) = 0.896\n",
      "total time = 2.992, train time/epoch = 0.01601, best_val_f1 (macro) = 0.923, test_f1 (macro) = 0.921\n",
      "total time = 2.982, train time/epoch = 0.01610, best_val_f1 (macro) = 0.930, test_f1 (macro) = 0.910\n",
      "total time = 3.120, train time/epoch = 0.01620, best_val_f1 (macro) = 0.920, test_f1 (macro) = 0.911\n",
      "total time = 2.989, train time/epoch = 0.01629, best_val_f1 (macro) = 0.923, test_f1 (macro) = 0.905\n"
     ]
    },
    {
     "name": "stdout",
     "output_type": "stream",
     "text": [
      "total time = 2.928, train time/epoch = 0.01620, best_val_f1 (macro) = 0.926, test_f1 (macro) = 0.911\n",
      "total time = 2.824, train time/epoch = 0.01615, best_val_f1 (macro) = 0.920, test_f1 (macro) = 0.885\n",
      "total time = 2.844, train time/epoch = 0.01606, best_val_f1 (macro) = 0.926, test_f1 (macro) = 0.909\n",
      "total time = 2.959, train time/epoch = 0.01634, best_val_f1 (macro) = 0.917, test_f1 (macro) = 0.905\n",
      "total time = 2.820, train time/epoch = 0.01659, best_val_f1 (macro) = 0.924, test_f1 (macro) = 0.914\n",
      "total time = 2.814, train time/epoch = 0.01602, best_val_f1 (macro) = 0.920, test_f1 (macro) = 0.911\n",
      "total time = 2.911, train time/epoch = 0.01602, best_val_f1 (macro) = 0.924, test_f1 (macro) = 0.908\n",
      "total time = 2.894, train time/epoch = 0.01606, best_val_f1 (macro) = 0.927, test_f1 (macro) = 0.919\n",
      "total time = 2.767, train time/epoch = 0.01620, best_val_f1 (macro) = 0.920, test_f1 (macro) = 0.914\n",
      "total time = 2.949, train time/epoch = 0.01717, best_val_f1 (macro) = 0.930, test_f1 (macro) = 0.895\n",
      "total time = 3.019, train time/epoch = 0.01690, best_val_f1 (macro) = 0.927, test_f1 (macro) = 0.912\n",
      "total time = 3.249, train time/epoch = 0.01674, best_val_f1 (macro) = 0.923, test_f1 (macro) = 0.909\n",
      "test macro-f1 (mean, std):  0.9093961664012593 0.00921701317160571\n",
      "test macro-f1 (mean, std) after filter:  0.9106435500121849 0.0051823014741425285\n"
     ]
    }
   ],
   "source": [
    "f1s = []\n",
    "datasets = ['DBLP', 'IMDB', 'ACM']\n",
    "for dataset in datasets:\n",
    "    args.data = dataset\n",
    "    if dataset == 'ACM':\n",
    "        args.dropout = 0.5\n",
    "        args.target_node_type = 'paper'\n",
    "        print('\\nstart testing on ' + dataset + ' dataset')\n",
    "        f1s.append(main(args))\n",
    "    elif dataset == 'IMDB':\n",
    "        args.dropout = 0.5\n",
    "        args.target_node_type = 'movie'\n",
    "        print('\\nstart testing on ' + dataset + ' dataset')\n",
    "        f1s.append(main(args))\n",
    "    elif dataset == 'DBLP':\n",
    "        args.dropout = 0\n",
    "        args.target_node_type = 'author'\n",
    "        print('\\nstart testing on ' + dataset + ' dataset')\n",
    "        f1s.append(main(args))"
   ]
  },
  {
   "cell_type": "code",
   "execution_count": 4,
   "metadata": {},
   "outputs": [],
   "source": [
    "f1s = np.array(f1s)"
   ]
  },
  {
   "cell_type": "code",
   "execution_count": null,
   "metadata": {},
   "outputs": [],
   "source": []
  }
 ],
 "metadata": {
  "kernelspec": {
   "display_name": "Python 3",
   "language": "python",
   "name": "python3"
  },
  "language_info": {
   "codemirror_mode": {
    "name": "ipython",
    "version": 3
   },
   "file_extension": ".py",
   "mimetype": "text/x-python",
   "name": "python",
   "nbconvert_exporter": "python",
   "pygments_lexer": "ipython3",
   "version": "3.8.8"
  }
 },
 "nbformat": 4,
 "nbformat_minor": 4
}
