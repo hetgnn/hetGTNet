{
 "cells": [
  {
   "cell_type": "code",
   "execution_count": 1,
   "metadata": {},
   "outputs": [
    {
     "name": "stderr",
     "output_type": "stream",
     "text": [
      "Using backend: pytorch\n"
     ]
    }
   ],
   "source": [
    "root_dir = '..' # dir of the source code\n",
    "import sys\n",
    "sys.path.append(root_dir)\n",
    "from train import main\n",
    "import numpy as np"
   ]
  },
  {
   "cell_type": "code",
   "execution_count": 2,
   "metadata": {},
   "outputs": [],
   "source": [
    "class config:\n",
    "    data = 'ACM'\n",
    "    data_path = '../data/preprocessed/'\n",
    "    model = 'HAN'\n",
    "    target_node_type = 'paper'\n",
    "    n_hid = 64\n",
    "    num_heads = 8\n",
    "    dropout = 0.6\n",
    "    learning_rate = 0.005\n",
    "    weight_decay = 0.001\n",
    "    patience = 100\n",
    "    num_iter = 500\n",
    "    num_test = 30\n",
    "    hop = 1\n",
    "    filter_pct = 0.1 # remove the top and bottom filer_pct points before obtaining statistics of test accuracy\n",
    "    log_step = 1000 # training log step\n",
    "    average = 'macro' # 'f1 average: can choose either macro or micro.'\n",
    "\n",
    "args = config()"
   ]
  },
  {
   "cell_type": "code",
   "execution_count": 3,
   "metadata": {
    "scrolled": false
   },
   "outputs": [
    {
     "name": "stdout",
     "output_type": "stream",
     "text": [
      "\n",
      "start testing on ACM dataset\n",
      "total time = 9.635, train time/epoch = 0.04722, best_val_f1 (macro) = 0.916, test_f1 (macro) = 0.902\n",
      "total time = 7.920, train time/epoch = 0.04216, best_val_f1 (macro) = 0.927, test_f1 (macro) = 0.916\n",
      "total time = 7.348, train time/epoch = 0.04188, best_val_f1 (macro) = 0.927, test_f1 (macro) = 0.908\n",
      "total time = 7.824, train time/epoch = 0.04175, best_val_f1 (macro) = 0.933, test_f1 (macro) = 0.911\n",
      "total time = 7.842, train time/epoch = 0.04179, best_val_f1 (macro) = 0.930, test_f1 (macro) = 0.913\n",
      "total time = 7.768, train time/epoch = 0.04176, best_val_f1 (macro) = 0.924, test_f1 (macro) = 0.920\n",
      "total time = 7.532, train time/epoch = 0.04183, best_val_f1 (macro) = 0.924, test_f1 (macro) = 0.913\n",
      "total time = 7.485, train time/epoch = 0.04195, best_val_f1 (macro) = 0.927, test_f1 (macro) = 0.908\n",
      "total time = 7.643, train time/epoch = 0.04168, best_val_f1 (macro) = 0.920, test_f1 (macro) = 0.913\n",
      "total time = 7.890, train time/epoch = 0.04171, best_val_f1 (macro) = 0.924, test_f1 (macro) = 0.915\n",
      "total time = 7.776, train time/epoch = 0.04173, best_val_f1 (macro) = 0.927, test_f1 (macro) = 0.912\n",
      "total time = 6.848, train time/epoch = 0.04165, best_val_f1 (macro) = 0.923, test_f1 (macro) = 0.891\n",
      "total time = 7.998, train time/epoch = 0.04171, best_val_f1 (macro) = 0.927, test_f1 (macro) = 0.913\n",
      "total time = 7.305, train time/epoch = 0.04222, best_val_f1 (macro) = 0.927, test_f1 (macro) = 0.911\n",
      "total time = 7.664, train time/epoch = 0.04218, best_val_f1 (macro) = 0.927, test_f1 (macro) = 0.908\n",
      "total time = 7.945, train time/epoch = 0.04166, best_val_f1 (macro) = 0.924, test_f1 (macro) = 0.913\n",
      "total time = 7.885, train time/epoch = 0.04172, best_val_f1 (macro) = 0.923, test_f1 (macro) = 0.910\n",
      "total time = 8.034, train time/epoch = 0.04222, best_val_f1 (macro) = 0.927, test_f1 (macro) = 0.912\n",
      "total time = 7.550, train time/epoch = 0.04183, best_val_f1 (macro) = 0.923, test_f1 (macro) = 0.915\n",
      "total time = 7.408, train time/epoch = 0.04176, best_val_f1 (macro) = 0.924, test_f1 (macro) = 0.911\n",
      "total time = 8.074, train time/epoch = 0.04169, best_val_f1 (macro) = 0.930, test_f1 (macro) = 0.914\n",
      "total time = 7.161, train time/epoch = 0.04184, best_val_f1 (macro) = 0.927, test_f1 (macro) = 0.917\n",
      "total time = 7.307, train time/epoch = 0.04194, best_val_f1 (macro) = 0.930, test_f1 (macro) = 0.914\n",
      "total time = 7.670, train time/epoch = 0.04191, best_val_f1 (macro) = 0.930, test_f1 (macro) = 0.917\n",
      "total time = 7.536, train time/epoch = 0.04183, best_val_f1 (macro) = 0.923, test_f1 (macro) = 0.917\n",
      "total time = 10.567, train time/epoch = 0.04163, best_val_f1 (macro) = 0.920, test_f1 (macro) = 0.910\n",
      "total time = 7.387, train time/epoch = 0.04171, best_val_f1 (macro) = 0.927, test_f1 (macro) = 0.913\n",
      "total time = 7.361, train time/epoch = 0.04195, best_val_f1 (macro) = 0.927, test_f1 (macro) = 0.909\n",
      "total time = 7.969, train time/epoch = 0.04185, best_val_f1 (macro) = 0.924, test_f1 (macro) = 0.914\n",
      "total time = 7.314, train time/epoch = 0.04190, best_val_f1 (macro) = 0.924, test_f1 (macro) = 0.911\n",
      "test macro-f1 (mean, std):  0.911687882685073 0.0051729827958050065\n",
      "test macro-f1 (mean, std) after filter:  0.912346718634676 0.0022623554177844145\n",
      "\n",
      "start testing on IMDB dataset\n",
      "total time = 4.420, train time/epoch = 0.01074, best_val_f1 (macro) = 0.623, test_f1 (macro) = 0.575\n",
      "total time = 2.034, train time/epoch = 0.01086, best_val_f1 (macro) = 0.622, test_f1 (macro) = 0.579\n",
      "total time = 1.994, train time/epoch = 0.01089, best_val_f1 (macro) = 0.597, test_f1 (macro) = 0.571\n",
      "total time = 2.149, train time/epoch = 0.01106, best_val_f1 (macro) = 0.615, test_f1 (macro) = 0.582\n",
      "total time = 4.483, train time/epoch = 0.01097, best_val_f1 (macro) = 0.616, test_f1 (macro) = 0.574\n",
      "total time = 2.058, train time/epoch = 0.01127, best_val_f1 (macro) = 0.622, test_f1 (macro) = 0.573\n",
      "total time = 1.938, train time/epoch = 0.01123, best_val_f1 (macro) = 0.620, test_f1 (macro) = 0.544\n",
      "total time = 2.146, train time/epoch = 0.01114, best_val_f1 (macro) = 0.597, test_f1 (macro) = 0.580\n",
      "total time = 4.668, train time/epoch = 0.01095, best_val_f1 (macro) = 0.616, test_f1 (macro) = 0.576\n",
      "total time = 3.737, train time/epoch = 0.01101, best_val_f1 (macro) = 0.600, test_f1 (macro) = 0.552\n",
      "total time = 3.714, train time/epoch = 0.01094, best_val_f1 (macro) = 0.614, test_f1 (macro) = 0.578\n",
      "total time = 3.442, train time/epoch = 0.01085, best_val_f1 (macro) = 0.622, test_f1 (macro) = 0.569\n",
      "total time = 2.060, train time/epoch = 0.01093, best_val_f1 (macro) = 0.622, test_f1 (macro) = 0.575\n",
      "total time = 1.957, train time/epoch = 0.01091, best_val_f1 (macro) = 0.611, test_f1 (macro) = 0.533\n",
      "total time = 4.015, train time/epoch = 0.01084, best_val_f1 (macro) = 0.612, test_f1 (macro) = 0.580\n",
      "total time = 2.086, train time/epoch = 0.01116, best_val_f1 (macro) = 0.603, test_f1 (macro) = 0.568\n",
      "total time = 2.007, train time/epoch = 0.01116, best_val_f1 (macro) = 0.619, test_f1 (macro) = 0.580\n",
      "total time = 2.150, train time/epoch = 0.01110, best_val_f1 (macro) = 0.596, test_f1 (macro) = 0.574\n",
      "total time = 2.768, train time/epoch = 0.01101, best_val_f1 (macro) = 0.615, test_f1 (macro) = 0.571\n",
      "total time = 2.023, train time/epoch = 0.01156, best_val_f1 (macro) = 0.601, test_f1 (macro) = 0.565\n",
      "total time = 3.146, train time/epoch = 0.01104, best_val_f1 (macro) = 0.612, test_f1 (macro) = 0.572\n",
      "total time = 2.033, train time/epoch = 0.01104, best_val_f1 (macro) = 0.609, test_f1 (macro) = 0.584\n",
      "total time = 2.244, train time/epoch = 0.01134, best_val_f1 (macro) = 0.621, test_f1 (macro) = 0.583\n",
      "total time = 3.660, train time/epoch = 0.01092, best_val_f1 (macro) = 0.620, test_f1 (macro) = 0.574\n",
      "total time = 1.938, train time/epoch = 0.01088, best_val_f1 (macro) = 0.622, test_f1 (macro) = 0.569\n",
      "total time = 5.439, train time/epoch = 0.01092, best_val_f1 (macro) = 0.615, test_f1 (macro) = 0.578\n",
      "total time = 2.039, train time/epoch = 0.01104, best_val_f1 (macro) = 0.600, test_f1 (macro) = 0.577\n",
      "total time = 2.087, train time/epoch = 0.01110, best_val_f1 (macro) = 0.600, test_f1 (macro) = 0.575\n",
      "total time = 4.413, train time/epoch = 0.01108, best_val_f1 (macro) = 0.604, test_f1 (macro) = 0.571\n",
      "total time = 2.110, train time/epoch = 0.01110, best_val_f1 (macro) = 0.604, test_f1 (macro) = 0.576\n",
      "test macro-f1 (mean, std):  0.57201073267827 0.010915168400163424\n",
      "test macro-f1 (mean, std) after filter:  0.5742604302487166 0.00408017697537863\n",
      "\n",
      "start testing on DBLP dataset\n",
      "total time = 29.345, train time/epoch = 0.10946, best_val_f1 (macro) = 0.947, test_f1 (macro) = 0.919\n",
      "total time = 43.095, train time/epoch = 0.10945, best_val_f1 (macro) = 0.947, test_f1 (macro) = 0.918\n",
      "total time = 28.065, train time/epoch = 0.10933, best_val_f1 (macro) = 0.950, test_f1 (macro) = 0.922\n",
      "total time = 28.319, train time/epoch = 0.10914, best_val_f1 (macro) = 0.945, test_f1 (macro) = 0.925\n",
      "total time = 28.041, train time/epoch = 0.10928, best_val_f1 (macro) = 0.947, test_f1 (macro) = 0.919\n",
      "total time = 28.292, train time/epoch = 0.10902, best_val_f1 (macro) = 0.950, test_f1 (macro) = 0.922\n",
      "total time = 24.839, train time/epoch = 0.10907, best_val_f1 (macro) = 0.945, test_f1 (macro) = 0.924\n",
      "total time = 40.114, train time/epoch = 0.10910, best_val_f1 (macro) = 0.952, test_f1 (macro) = 0.928\n",
      "total time = 27.261, train time/epoch = 0.10932, best_val_f1 (macro) = 0.950, test_f1 (macro) = 0.927\n",
      "total time = 25.166, train time/epoch = 0.10914, best_val_f1 (macro) = 0.947, test_f1 (macro) = 0.928\n",
      "total time = 32.835, train time/epoch = 0.10892, best_val_f1 (macro) = 0.947, test_f1 (macro) = 0.926\n",
      "total time = 41.271, train time/epoch = 0.10880, best_val_f1 (macro) = 0.948, test_f1 (macro) = 0.918\n",
      "total time = 46.501, train time/epoch = 0.10884, best_val_f1 (macro) = 0.947, test_f1 (macro) = 0.922\n",
      "total time = 24.819, train time/epoch = 0.10899, best_val_f1 (macro) = 0.950, test_f1 (macro) = 0.925\n",
      "total time = 38.357, train time/epoch = 0.10886, best_val_f1 (macro) = 0.945, test_f1 (macro) = 0.922\n",
      "total time = 27.818, train time/epoch = 0.10959, best_val_f1 (macro) = 0.947, test_f1 (macro) = 0.925\n",
      "total time = 28.494, train time/epoch = 0.10914, best_val_f1 (macro) = 0.945, test_f1 (macro) = 0.923\n",
      "total time = 26.570, train time/epoch = 0.10907, best_val_f1 (macro) = 0.945, test_f1 (macro) = 0.920\n"
     ]
    },
    {
     "name": "stdout",
     "output_type": "stream",
     "text": [
      "total time = 35.350, train time/epoch = 0.10887, best_val_f1 (macro) = 0.947, test_f1 (macro) = 0.927\n",
      "total time = 38.022, train time/epoch = 0.10885, best_val_f1 (macro) = 0.942, test_f1 (macro) = 0.926\n",
      "total time = 29.191, train time/epoch = 0.10885, best_val_f1 (macro) = 0.950, test_f1 (macro) = 0.927\n",
      "total time = 31.268, train time/epoch = 0.10894, best_val_f1 (macro) = 0.947, test_f1 (macro) = 0.928\n",
      "total time = 28.628, train time/epoch = 0.10908, best_val_f1 (macro) = 0.945, test_f1 (macro) = 0.923\n",
      "total time = 29.105, train time/epoch = 0.10915, best_val_f1 (macro) = 0.945, test_f1 (macro) = 0.922\n",
      "total time = 30.936, train time/epoch = 0.10887, best_val_f1 (macro) = 0.947, test_f1 (macro) = 0.924\n",
      "total time = 26.153, train time/epoch = 0.10933, best_val_f1 (macro) = 0.942, test_f1 (macro) = 0.926\n",
      "total time = 25.013, train time/epoch = 0.10914, best_val_f1 (macro) = 0.943, test_f1 (macro) = 0.925\n",
      "total time = 24.999, train time/epoch = 0.10982, best_val_f1 (macro) = 0.947, test_f1 (macro) = 0.927\n",
      "total time = 28.698, train time/epoch = 0.10985, best_val_f1 (macro) = 0.945, test_f1 (macro) = 0.922\n",
      "total time = 37.540, train time/epoch = 0.10981, best_val_f1 (macro) = 0.948, test_f1 (macro) = 0.925\n",
      "test macro-f1 (mean, std):  0.9238187920465779 0.002961628408656195\n",
      "test macro-f1 (mean, std) after filter:  0.9240121819023416 0.0022004727902746176\n"
     ]
    }
   ],
   "source": [
    "f1s = []\n",
    "datasets = ['ACM', 'IMDB', 'DBLP']\n",
    "for dataset in datasets:\n",
    "    args.data = dataset\n",
    "    if dataset == 'ACM':\n",
    "        args.target_node_type = 'paper'\n",
    "        print('\\nstart testing on ' + dataset + ' dataset')\n",
    "        f1s.append(main(args))\n",
    "    elif dataset == 'IMDB':\n",
    "        args.target_node_type = 'movie'\n",
    "        print('\\nstart testing on ' + dataset + ' dataset')\n",
    "        f1s.append(main(args))\n",
    "    elif dataset == 'DBLP':\n",
    "        args.target_node_type = 'author'\n",
    "        print('\\nstart testing on ' + dataset + ' dataset')\n",
    "        f1s.append(main(args))"
   ]
  },
  {
   "cell_type": "code",
   "execution_count": 4,
   "metadata": {},
   "outputs": [],
   "source": [
    "f1s = np.array(f1s)\n",
    "np.savetxt('f1-macro_ACM_hop1.txt',f1s)"
   ]
  },
  {
   "cell_type": "code",
   "execution_count": null,
   "metadata": {},
   "outputs": [],
   "source": []
  }
 ],
 "metadata": {
  "kernelspec": {
   "display_name": "Python 3",
   "language": "python",
   "name": "python3"
  },
  "language_info": {
   "codemirror_mode": {
    "name": "ipython",
    "version": 3
   },
   "file_extension": ".py",
   "mimetype": "text/x-python",
   "name": "python",
   "nbconvert_exporter": "python",
   "pygments_lexer": "ipython3",
   "version": "3.8.8"
  }
 },
 "nbformat": 4,
 "nbformat_minor": 4
}
