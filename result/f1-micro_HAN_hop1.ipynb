{
 "cells": [
  {
   "cell_type": "code",
   "execution_count": 1,
   "metadata": {},
   "outputs": [
    {
     "name": "stderr",
     "output_type": "stream",
     "text": [
      "Using backend: pytorch\n"
     ]
    }
   ],
   "source": [
    "root_dir = '..' # dir of the source code\n",
    "import sys\n",
    "sys.path.append(root_dir)\n",
    "from train import main\n",
    "import numpy as np"
   ]
  },
  {
   "cell_type": "code",
   "execution_count": 2,
   "metadata": {},
   "outputs": [],
   "source": [
    "class config:\n",
    "    data = 'ACM'\n",
    "    data_path = '../data/preprocessed/'\n",
    "    model = 'HAN'\n",
    "    target_node_type = 'paper'\n",
    "    n_hid = 64\n",
    "    num_heads = 8\n",
    "    dropout = 0.6\n",
    "    learning_rate = 0.005\n",
    "    weight_decay = 0.001\n",
    "    patience = 100\n",
    "    num_iter = 500\n",
    "    num_test = 30\n",
    "    hop = 1\n",
    "    filter_pct = 0.1 # remove the top and bottom filer_pct points before obtaining statistics of test accuracy\n",
    "    log_step = 1000 # training log step\n",
    "    average = 'micro' # 'f1 average: can choose either macro or micro.'\n",
    "\n",
    "args = config()"
   ]
  },
  {
   "cell_type": "code",
   "execution_count": 3,
   "metadata": {
    "scrolled": false
   },
   "outputs": [
    {
     "name": "stdout",
     "output_type": "stream",
     "text": [
      "\n",
      "start testing on ACM dataset\n",
      "total time = 8.089, train time/epoch = 0.04837, best_val_f1 (micro) = 0.927, test_f1 (micro) = 0.911\n",
      "total time = 7.535, train time/epoch = 0.04147, best_val_f1 (micro) = 0.927, test_f1 (micro) = 0.909\n",
      "total time = 7.468, train time/epoch = 0.04152, best_val_f1 (micro) = 0.927, test_f1 (micro) = 0.912\n",
      "total time = 7.592, train time/epoch = 0.04189, best_val_f1 (micro) = 0.930, test_f1 (micro) = 0.912\n",
      "total time = 8.258, train time/epoch = 0.04271, best_val_f1 (micro) = 0.930, test_f1 (micro) = 0.910\n",
      "total time = 7.517, train time/epoch = 0.04147, best_val_f1 (micro) = 0.927, test_f1 (micro) = 0.910\n",
      "total time = 7.282, train time/epoch = 0.04186, best_val_f1 (micro) = 0.927, test_f1 (micro) = 0.911\n",
      "total time = 6.761, train time/epoch = 0.04162, best_val_f1 (micro) = 0.923, test_f1 (micro) = 0.887\n",
      "total time = 7.396, train time/epoch = 0.04176, best_val_f1 (micro) = 0.927, test_f1 (micro) = 0.911\n",
      "total time = 7.361, train time/epoch = 0.04238, best_val_f1 (micro) = 0.923, test_f1 (micro) = 0.913\n",
      "total time = 7.275, train time/epoch = 0.04245, best_val_f1 (micro) = 0.927, test_f1 (micro) = 0.910\n",
      "total time = 7.324, train time/epoch = 0.04210, best_val_f1 (micro) = 0.923, test_f1 (micro) = 0.913\n",
      "total time = 7.919, train time/epoch = 0.04171, best_val_f1 (micro) = 0.933, test_f1 (micro) = 0.912\n",
      "total time = 7.787, train time/epoch = 0.04151, best_val_f1 (micro) = 0.930, test_f1 (micro) = 0.913\n",
      "total time = 8.001, train time/epoch = 0.04143, best_val_f1 (micro) = 0.923, test_f1 (micro) = 0.907\n",
      "total time = 7.653, train time/epoch = 0.04285, best_val_f1 (micro) = 0.927, test_f1 (micro) = 0.910\n",
      "total time = 8.020, train time/epoch = 0.04278, best_val_f1 (micro) = 0.923, test_f1 (micro) = 0.903\n",
      "total time = 7.658, train time/epoch = 0.04220, best_val_f1 (micro) = 0.927, test_f1 (micro) = 0.910\n",
      "total time = 7.867, train time/epoch = 0.04202, best_val_f1 (micro) = 0.927, test_f1 (micro) = 0.912\n",
      "total time = 7.614, train time/epoch = 0.04228, best_val_f1 (micro) = 0.927, test_f1 (micro) = 0.910\n",
      "total time = 7.177, train time/epoch = 0.04162, best_val_f1 (micro) = 0.923, test_f1 (micro) = 0.907\n",
      "total time = 7.119, train time/epoch = 0.04195, best_val_f1 (micro) = 0.927, test_f1 (micro) = 0.908\n",
      "total time = 8.189, train time/epoch = 0.04246, best_val_f1 (micro) = 0.933, test_f1 (micro) = 0.911\n",
      "total time = 7.955, train time/epoch = 0.04212, best_val_f1 (micro) = 0.933, test_f1 (micro) = 0.908\n",
      "total time = 7.357, train time/epoch = 0.04226, best_val_f1 (micro) = 0.927, test_f1 (micro) = 0.913\n",
      "total time = 6.875, train time/epoch = 0.04200, best_val_f1 (micro) = 0.927, test_f1 (micro) = 0.896\n",
      "total time = 7.579, train time/epoch = 0.04250, best_val_f1 (micro) = 0.923, test_f1 (micro) = 0.895\n",
      "total time = 7.819, train time/epoch = 0.04305, best_val_f1 (micro) = 0.923, test_f1 (micro) = 0.916\n",
      "total time = 7.748, train time/epoch = 0.04232, best_val_f1 (micro) = 0.930, test_f1 (micro) = 0.910\n",
      "total time = 7.727, train time/epoch = 0.04225, best_val_f1 (micro) = 0.923, test_f1 (micro) = 0.917\n",
      "test micro-f1 (mean, std):  0.9089131131773005 0.006225421190623193\n",
      "test micro-f1 (mean, std) after filter:  0.9101608421502618 0.002321197705596248\n",
      "\n",
      "start testing on IMDB dataset\n",
      "total time = 2.102, train time/epoch = 0.01082, best_val_f1 (micro) = 0.610, test_f1 (micro) = 0.569\n",
      "total time = 2.050, train time/epoch = 0.01090, best_val_f1 (micro) = 0.610, test_f1 (micro) = 0.568\n",
      "total time = 1.982, train time/epoch = 0.01068, best_val_f1 (micro) = 0.603, test_f1 (micro) = 0.571\n",
      "total time = 2.083, train time/epoch = 0.01118, best_val_f1 (micro) = 0.617, test_f1 (micro) = 0.572\n",
      "total time = 2.163, train time/epoch = 0.01126, best_val_f1 (micro) = 0.623, test_f1 (micro) = 0.576\n",
      "total time = 5.258, train time/epoch = 0.01122, best_val_f1 (micro) = 0.613, test_f1 (micro) = 0.575\n",
      "total time = 2.333, train time/epoch = 0.01111, best_val_f1 (micro) = 0.593, test_f1 (micro) = 0.546\n",
      "total time = 2.034, train time/epoch = 0.01113, best_val_f1 (micro) = 0.603, test_f1 (micro) = 0.577\n",
      "total time = 2.060, train time/epoch = 0.01119, best_val_f1 (micro) = 0.610, test_f1 (micro) = 0.582\n",
      "total time = 2.175, train time/epoch = 0.01161, best_val_f1 (micro) = 0.627, test_f1 (micro) = 0.558\n",
      "total time = 2.179, train time/epoch = 0.01160, best_val_f1 (micro) = 0.620, test_f1 (micro) = 0.572\n",
      "total time = 2.569, train time/epoch = 0.01123, best_val_f1 (micro) = 0.617, test_f1 (micro) = 0.553\n",
      "total time = 2.084, train time/epoch = 0.01112, best_val_f1 (micro) = 0.630, test_f1 (micro) = 0.578\n",
      "total time = 2.074, train time/epoch = 0.01118, best_val_f1 (micro) = 0.597, test_f1 (micro) = 0.576\n",
      "total time = 2.469, train time/epoch = 0.01090, best_val_f1 (micro) = 0.617, test_f1 (micro) = 0.560\n",
      "total time = 3.567, train time/epoch = 0.01085, best_val_f1 (micro) = 0.620, test_f1 (micro) = 0.569\n",
      "total time = 2.112, train time/epoch = 0.01111, best_val_f1 (micro) = 0.600, test_f1 (micro) = 0.578\n",
      "total time = 1.998, train time/epoch = 0.01072, best_val_f1 (micro) = 0.617, test_f1 (micro) = 0.569\n",
      "total time = 3.125, train time/epoch = 0.01078, best_val_f1 (micro) = 0.633, test_f1 (micro) = 0.567\n",
      "total time = 2.032, train time/epoch = 0.01080, best_val_f1 (micro) = 0.617, test_f1 (micro) = 0.590\n",
      "total time = 3.356, train time/epoch = 0.01068, best_val_f1 (micro) = 0.617, test_f1 (micro) = 0.569\n",
      "total time = 2.038, train time/epoch = 0.01071, best_val_f1 (micro) = 0.620, test_f1 (micro) = 0.575\n",
      "total time = 2.077, train time/epoch = 0.01109, best_val_f1 (micro) = 0.610, test_f1 (micro) = 0.585\n",
      "total time = 2.433, train time/epoch = 0.01065, best_val_f1 (micro) = 0.600, test_f1 (micro) = 0.549\n",
      "total time = 2.161, train time/epoch = 0.01189, best_val_f1 (micro) = 0.613, test_f1 (micro) = 0.586\n",
      "total time = 2.802, train time/epoch = 0.01195, best_val_f1 (micro) = 0.613, test_f1 (micro) = 0.568\n",
      "total time = 2.178, train time/epoch = 0.01128, best_val_f1 (micro) = 0.607, test_f1 (micro) = 0.574\n",
      "total time = 2.159, train time/epoch = 0.01130, best_val_f1 (micro) = 0.617, test_f1 (micro) = 0.574\n",
      "total time = 1.952, train time/epoch = 0.01077, best_val_f1 (micro) = 0.627, test_f1 (micro) = 0.588\n",
      "total time = 5.113, train time/epoch = 0.01155, best_val_f1 (micro) = 0.620, test_f1 (micro) = 0.572\n",
      "test micro-f1 (mean, std):  0.5714790647090809 0.010265509702702465\n",
      "test micro-f1 (mean, std) after filter:  0.5721972992568425 0.005939125929091043\n",
      "\n",
      "start testing on DBLP dataset\n",
      "total time = 40.360, train time/epoch = 0.11102, best_val_f1 (micro) = 0.953, test_f1 (micro) = 0.932\n",
      "total time = 28.607, train time/epoch = 0.10960, best_val_f1 (micro) = 0.950, test_f1 (micro) = 0.933\n",
      "total time = 33.362, train time/epoch = 0.11016, best_val_f1 (micro) = 0.943, test_f1 (micro) = 0.925\n",
      "total time = 24.378, train time/epoch = 0.11128, best_val_f1 (micro) = 0.945, test_f1 (micro) = 0.933\n",
      "total time = 26.567, train time/epoch = 0.11026, best_val_f1 (micro) = 0.945, test_f1 (micro) = 0.931\n",
      "total time = 28.621, train time/epoch = 0.11088, best_val_f1 (micro) = 0.948, test_f1 (micro) = 0.932\n",
      "total time = 28.774, train time/epoch = 0.11028, best_val_f1 (micro) = 0.950, test_f1 (micro) = 0.931\n",
      "total time = 29.211, train time/epoch = 0.11062, best_val_f1 (micro) = 0.945, test_f1 (micro) = 0.930\n",
      "total time = 42.350, train time/epoch = 0.11078, best_val_f1 (micro) = 0.945, test_f1 (micro) = 0.933\n",
      "total time = 28.474, train time/epoch = 0.11102, best_val_f1 (micro) = 0.948, test_f1 (micro) = 0.937\n",
      "total time = 42.256, train time/epoch = 0.11052, best_val_f1 (micro) = 0.948, test_f1 (micro) = 0.937\n",
      "total time = 51.475, train time/epoch = 0.10970, best_val_f1 (micro) = 0.948, test_f1 (micro) = 0.936\n",
      "total time = 27.706, train time/epoch = 0.11097, best_val_f1 (micro) = 0.950, test_f1 (micro) = 0.931\n",
      "total time = 29.345, train time/epoch = 0.11123, best_val_f1 (micro) = 0.943, test_f1 (micro) = 0.927\n",
      "total time = 34.196, train time/epoch = 0.11128, best_val_f1 (micro) = 0.953, test_f1 (micro) = 0.934\n",
      "total time = 35.483, train time/epoch = 0.11075, best_val_f1 (micro) = 0.950, test_f1 (micro) = 0.935\n",
      "total time = 30.551, train time/epoch = 0.11206, best_val_f1 (micro) = 0.948, test_f1 (micro) = 0.929\n",
      "total time = 28.761, train time/epoch = 0.11023, best_val_f1 (micro) = 0.948, test_f1 (micro) = 0.935\n"
     ]
    },
    {
     "name": "stdout",
     "output_type": "stream",
     "text": [
      "total time = 26.362, train time/epoch = 0.11017, best_val_f1 (micro) = 0.943, test_f1 (micro) = 0.933\n",
      "total time = 27.175, train time/epoch = 0.11093, best_val_f1 (micro) = 0.950, test_f1 (micro) = 0.931\n",
      "total time = 32.353, train time/epoch = 0.11105, best_val_f1 (micro) = 0.950, test_f1 (micro) = 0.932\n",
      "total time = 38.126, train time/epoch = 0.10965, best_val_f1 (micro) = 0.950, test_f1 (micro) = 0.930\n",
      "total time = 27.239, train time/epoch = 0.10921, best_val_f1 (micro) = 0.948, test_f1 (micro) = 0.930\n",
      "total time = 30.063, train time/epoch = 0.11210, best_val_f1 (micro) = 0.945, test_f1 (micro) = 0.934\n",
      "total time = 30.235, train time/epoch = 0.11154, best_val_f1 (micro) = 0.945, test_f1 (micro) = 0.929\n",
      "total time = 30.710, train time/epoch = 0.10973, best_val_f1 (micro) = 0.948, test_f1 (micro) = 0.930\n",
      "total time = 41.338, train time/epoch = 0.11063, best_val_f1 (micro) = 0.948, test_f1 (micro) = 0.933\n",
      "total time = 26.118, train time/epoch = 0.10979, best_val_f1 (micro) = 0.950, test_f1 (micro) = 0.933\n",
      "total time = 26.461, train time/epoch = 0.10863, best_val_f1 (micro) = 0.950, test_f1 (micro) = 0.931\n",
      "total time = 29.013, train time/epoch = 0.10876, best_val_f1 (micro) = 0.953, test_f1 (micro) = 0.932\n",
      "test micro-f1 (mean, std):  0.9319682650799207 0.00262937988293722\n",
      "test micro-f1 (mean, std) after filter:  0.9320382685800958 0.0015739980822811813\n"
     ]
    }
   ],
   "source": [
    "f1s = []\n",
    "datasets = ['ACM', 'IMDB', 'DBLP']\n",
    "for dataset in datasets:\n",
    "    args.data = dataset\n",
    "    if dataset == 'ACM':\n",
    "        args.target_node_type = 'paper'\n",
    "        print('\\nstart testing on ' + dataset + ' dataset')\n",
    "        f1s.append(main(args))\n",
    "    elif dataset == 'IMDB':\n",
    "        args.target_node_type = 'movie'\n",
    "        print('\\nstart testing on ' + dataset + ' dataset')\n",
    "        f1s.append(main(args))\n",
    "    elif dataset == 'DBLP':\n",
    "        args.target_node_type = 'author'\n",
    "        print('\\nstart testing on ' + dataset + ' dataset')\n",
    "        f1s.append(main(args))"
   ]
  },
  {
   "cell_type": "code",
   "execution_count": 4,
   "metadata": {},
   "outputs": [],
   "source": [
    "f1s = np.array(f1s)\n",
    "np.savetxt('f1-micro_ACM_hop1.txt',f1s)"
   ]
  },
  {
   "cell_type": "code",
   "execution_count": null,
   "metadata": {},
   "outputs": [],
   "source": []
  }
 ],
 "metadata": {
  "kernelspec": {
   "display_name": "Python 3",
   "language": "python",
   "name": "python3"
  },
  "language_info": {
   "codemirror_mode": {
    "name": "ipython",
    "version": 3
   },
   "file_extension": ".py",
   "mimetype": "text/x-python",
   "name": "python",
   "nbconvert_exporter": "python",
   "pygments_lexer": "ipython3",
   "version": "3.8.8"
  }
 },
 "nbformat": 4,
 "nbformat_minor": 4
}
