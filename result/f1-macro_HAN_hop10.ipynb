{
 "cells": [
  {
   "cell_type": "code",
   "execution_count": 1,
   "metadata": {},
   "outputs": [
    {
     "name": "stderr",
     "output_type": "stream",
     "text": [
      "Using backend: pytorch\n"
     ]
    }
   ],
   "source": [
    "root_dir = '..' # dir of the source code\n",
    "import sys\n",
    "sys.path.append(root_dir)\n",
    "from train import main\n",
    "import numpy as np"
   ]
  },
  {
   "cell_type": "code",
   "execution_count": 2,
   "metadata": {},
   "outputs": [],
   "source": [
    "class config:\n",
    "    data = 'ACM'\n",
    "    data_path = '../data/preprocessed/'\n",
    "    model = 'HAN'\n",
    "    target_node_type = 'paper'\n",
    "    n_hid = 64\n",
    "    num_heads = 8\n",
    "    dropout = 0.4\n",
    "    learning_rate = 0.005\n",
    "    weight_decay = 1e-4\n",
    "    patience = 100\n",
    "    num_iter = 500\n",
    "    num_test = 30\n",
    "    hop = 10\n",
    "    filter_pct = 0.1 # remove the top and bottom filer_pct points before obtaining statistics of test accuracy\n",
    "    log_step = 1000 # training log step\n",
    "    average = 'macro' # 'f1 average: can choose either macro or micro.'\n",
    "\n",
    "args = config()"
   ]
  },
  {
   "cell_type": "code",
   "execution_count": 3,
   "metadata": {
    "scrolled": false
   },
   "outputs": [
    {
     "name": "stdout",
     "output_type": "stream",
     "text": [
      "\n",
      "start testing on ACM dataset\n",
      "total time = 265.009, train time/epoch = 0.39996, best_val_f1 (macro) = 0.875, test_f1 (macro) = 0.800\n",
      "total time = 160.833, train time/epoch = 0.40215, best_val_f1 (macro) = 0.808, test_f1 (macro) = 0.762\n",
      "total time = 120.290, train time/epoch = 0.39763, best_val_f1 (macro) = 0.704, test_f1 (macro) = 0.618\n",
      "total time = 283.276, train time/epoch = 0.39680, best_val_f1 (macro) = 0.858, test_f1 (macro) = 0.789\n",
      "total time = 69.765, train time/epoch = 0.39751, best_val_f1 (macro) = 0.754, test_f1 (macro) = 0.666\n",
      "total time = 158.755, train time/epoch = 0.39725, best_val_f1 (macro) = 0.845, test_f1 (macro) = 0.763\n",
      "total time = 108.536, train time/epoch = 0.39862, best_val_f1 (macro) = 0.793, test_f1 (macro) = 0.680\n",
      "total time = 66.517, train time/epoch = 0.39866, best_val_f1 (macro) = 0.766, test_f1 (macro) = 0.693\n",
      "total time = 67.581, train time/epoch = 0.39812, best_val_f1 (macro) = 0.815, test_f1 (macro) = 0.741\n",
      "total time = 283.154, train time/epoch = 0.39676, best_val_f1 (macro) = 0.881, test_f1 (macro) = 0.823\n",
      "total time = 110.653, train time/epoch = 0.39772, best_val_f1 (macro) = 0.755, test_f1 (macro) = 0.685\n",
      "total time = 150.804, train time/epoch = 0.39720, best_val_f1 (macro) = 0.818, test_f1 (macro) = 0.784\n",
      "total time = 218.998, train time/epoch = 0.39733, best_val_f1 (macro) = 0.887, test_f1 (macro) = 0.821\n",
      "total time = 175.227, train time/epoch = 0.39755, best_val_f1 (macro) = 0.878, test_f1 (macro) = 0.804\n",
      "total time = 102.041, train time/epoch = 0.39725, best_val_f1 (macro) = 0.584, test_f1 (macro) = 0.627\n",
      "total time = 106.786, train time/epoch = 0.39803, best_val_f1 (macro) = 0.861, test_f1 (macro) = 0.768\n",
      "total time = 77.925, train time/epoch = 0.39925, best_val_f1 (macro) = 0.683, test_f1 (macro) = 0.633\n",
      "total time = 138.867, train time/epoch = 0.39716, best_val_f1 (macro) = 0.844, test_f1 (macro) = 0.746\n",
      "total time = 283.362, train time/epoch = 0.39700, best_val_f1 (macro) = 0.861, test_f1 (macro) = 0.777\n",
      "total time = 124.764, train time/epoch = 0.39744, best_val_f1 (macro) = 0.860, test_f1 (macro) = 0.766\n",
      "total time = 140.134, train time/epoch = 0.39769, best_val_f1 (macro) = 0.743, test_f1 (macro) = 0.684\n",
      "total time = 191.630, train time/epoch = 0.39906, best_val_f1 (macro) = 0.753, test_f1 (macro) = 0.695\n",
      "total time = 110.124, train time/epoch = 0.39804, best_val_f1 (macro) = 0.857, test_f1 (macro) = 0.770\n",
      "total time = 247.846, train time/epoch = 0.39717, best_val_f1 (macro) = 0.897, test_f1 (macro) = 0.820\n",
      "total time = 91.557, train time/epoch = 0.39882, best_val_f1 (macro) = 0.797, test_f1 (macro) = 0.706\n",
      "total time = 126.635, train time/epoch = 0.39801, best_val_f1 (macro) = 0.868, test_f1 (macro) = 0.807\n",
      "total time = 283.361, train time/epoch = 0.39699, best_val_f1 (macro) = 0.884, test_f1 (macro) = 0.822\n",
      "total time = 166.791, train time/epoch = 0.39767, best_val_f1 (macro) = 0.795, test_f1 (macro) = 0.749\n",
      "total time = 64.690, train time/epoch = 0.39784, best_val_f1 (macro) = 0.733, test_f1 (macro) = 0.677\n",
      "total time = 244.443, train time/epoch = 0.39749, best_val_f1 (macro) = 0.818, test_f1 (macro) = 0.791\n",
      "test macro-f1 (mean, std):  0.7421956557484638 0.06176911813396397\n",
      "test macro-f1 (mean, std) after filter:  0.7467626152596418 0.047500100950975725\n",
      "\n",
      "start testing on IMDB dataset\n",
      "total time = 27.305, train time/epoch = 0.09280, best_val_f1 (macro) = 0.543, test_f1 (macro) = 0.553\n",
      "total time = 39.492, train time/epoch = 0.09422, best_val_f1 (macro) = 0.535, test_f1 (macro) = 0.514\n",
      "total time = 21.521, train time/epoch = 0.09400, best_val_f1 (macro) = 0.571, test_f1 (macro) = 0.571\n",
      "total time = 31.371, train time/epoch = 0.09400, best_val_f1 (macro) = 0.546, test_f1 (macro) = 0.520\n",
      "total time = 41.805, train time/epoch = 0.09458, best_val_f1 (macro) = 0.526, test_f1 (macro) = 0.495\n",
      "total time = 22.604, train time/epoch = 0.09388, best_val_f1 (macro) = 0.576, test_f1 (macro) = 0.559\n",
      "total time = 22.008, train time/epoch = 0.09438, best_val_f1 (macro) = 0.587, test_f1 (macro) = 0.559\n",
      "total time = 27.137, train time/epoch = 0.09463, best_val_f1 (macro) = 0.550, test_f1 (macro) = 0.553\n",
      "total time = 25.265, train time/epoch = 0.09399, best_val_f1 (macro) = 0.544, test_f1 (macro) = 0.515\n",
      "total time = 38.219, train time/epoch = 0.09386, best_val_f1 (macro) = 0.533, test_f1 (macro) = 0.530\n",
      "total time = 22.511, train time/epoch = 0.09413, best_val_f1 (macro) = 0.585, test_f1 (macro) = 0.537\n",
      "total time = 22.064, train time/epoch = 0.09394, best_val_f1 (macro) = 0.584, test_f1 (macro) = 0.522\n",
      "total time = 19.781, train time/epoch = 0.09507, best_val_f1 (macro) = 0.609, test_f1 (macro) = 0.593\n",
      "total time = 41.831, train time/epoch = 0.09406, best_val_f1 (macro) = 0.530, test_f1 (macro) = 0.517\n",
      "total time = 30.212, train time/epoch = 0.09453, best_val_f1 (macro) = 0.564, test_f1 (macro) = 0.521\n",
      "total time = 22.323, train time/epoch = 0.09457, best_val_f1 (macro) = 0.539, test_f1 (macro) = 0.471\n",
      "total time = 27.087, train time/epoch = 0.09492, best_val_f1 (macro) = 0.551, test_f1 (macro) = 0.548\n",
      "total time = 51.755, train time/epoch = 0.09413, best_val_f1 (macro) = 0.527, test_f1 (macro) = 0.498\n",
      "total time = 24.868, train time/epoch = 0.09449, best_val_f1 (macro) = 0.543, test_f1 (macro) = 0.525\n",
      "total time = 29.959, train time/epoch = 0.09440, best_val_f1 (macro) = 0.541, test_f1 (macro) = 0.534\n",
      "total time = 26.601, train time/epoch = 0.09440, best_val_f1 (macro) = 0.592, test_f1 (macro) = 0.555\n",
      "total time = 27.026, train time/epoch = 0.09363, best_val_f1 (macro) = 0.522, test_f1 (macro) = 0.511\n",
      "total time = 29.962, train time/epoch = 0.09460, best_val_f1 (macro) = 0.556, test_f1 (macro) = 0.554\n",
      "total time = 23.247, train time/epoch = 0.09431, best_val_f1 (macro) = 0.568, test_f1 (macro) = 0.547\n",
      "total time = 20.254, train time/epoch = 0.09538, best_val_f1 (macro) = 0.540, test_f1 (macro) = 0.558\n",
      "total time = 20.784, train time/epoch = 0.09376, best_val_f1 (macro) = 0.551, test_f1 (macro) = 0.526\n",
      "total time = 24.273, train time/epoch = 0.09449, best_val_f1 (macro) = 0.567, test_f1 (macro) = 0.530\n",
      "total time = 19.971, train time/epoch = 0.09475, best_val_f1 (macro) = 0.564, test_f1 (macro) = 0.491\n",
      "total time = 36.980, train time/epoch = 0.09379, best_val_f1 (macro) = 0.546, test_f1 (macro) = 0.520\n",
      "total time = 34.971, train time/epoch = 0.09388, best_val_f1 (macro) = 0.540, test_f1 (macro) = 0.523\n",
      "test macro-f1 (mean, std):  0.5316900660411427 0.025525899114541246\n",
      "test macro-f1 (mean, std) after filter:  0.5320988608400398 0.016903496343079846\n",
      "\n",
      "start testing on DBLP dataset\n",
      "total time = 403.821, train time/epoch = 0.84166, best_val_f1 (macro) = 0.930, test_f1 (macro) = 0.907\n",
      "total time = 397.704, train time/epoch = 0.84085, best_val_f1 (macro) = 0.940, test_f1 (macro) = 0.910\n",
      "total time = 484.101, train time/epoch = 0.84132, best_val_f1 (macro) = 0.930, test_f1 (macro) = 0.906\n",
      "total time = 310.363, train time/epoch = 0.84171, best_val_f1 (macro) = 0.831, test_f1 (macro) = 0.809\n",
      "total time = 144.899, train time/epoch = 0.84770, best_val_f1 (macro) = 0.526, test_f1 (macro) = 0.559\n",
      "total time = 566.797, train time/epoch = 0.84131, best_val_f1 (macro) = 0.933, test_f1 (macro) = 0.910\n",
      "total time = 320.561, train time/epoch = 0.84531, best_val_f1 (macro) = 0.937, test_f1 (macro) = 0.919\n",
      "total time = 515.310, train time/epoch = 0.84144, best_val_f1 (macro) = 0.938, test_f1 (macro) = 0.911\n",
      "total time = 527.199, train time/epoch = 0.84114, best_val_f1 (macro) = 0.935, test_f1 (macro) = 0.913\n",
      "total time = 327.104, train time/epoch = 0.84152, best_val_f1 (macro) = 0.906, test_f1 (macro) = 0.871\n",
      "total time = 141.597, train time/epoch = 0.84301, best_val_f1 (macro) = 0.433, test_f1 (macro) = 0.449\n",
      "total time = 425.367, train time/epoch = 0.84150, best_val_f1 (macro) = 0.930, test_f1 (macro) = 0.913\n",
      "total time = 307.011, train time/epoch = 0.84215, best_val_f1 (macro) = 0.933, test_f1 (macro) = 0.914\n",
      "total time = 207.470, train time/epoch = 0.84236, best_val_f1 (macro) = 0.850, test_f1 (macro) = 0.810\n",
      "total time = 362.073, train time/epoch = 0.84183, best_val_f1 (macro) = 0.932, test_f1 (macro) = 0.900\n",
      "total time = 237.332, train time/epoch = 0.84153, best_val_f1 (macro) = 0.907, test_f1 (macro) = 0.876\n",
      "total time = 398.422, train time/epoch = 0.84216, best_val_f1 (macro) = 0.928, test_f1 (macro) = 0.890\n"
     ]
    },
    {
     "name": "stdout",
     "output_type": "stream",
     "text": [
      "total time = 598.952, train time/epoch = 0.84103, best_val_f1 (macro) = 0.935, test_f1 (macro) = 0.911\n",
      "total time = 329.579, train time/epoch = 0.84149, best_val_f1 (macro) = 0.932, test_f1 (macro) = 0.913\n",
      "total time = 470.494, train time/epoch = 0.84064, best_val_f1 (macro) = 0.933, test_f1 (macro) = 0.906\n",
      "total time = 258.861, train time/epoch = 0.84178, best_val_f1 (macro) = 0.881, test_f1 (macro) = 0.845\n",
      "total time = 206.060, train time/epoch = 0.84166, best_val_f1 (macro) = 0.743, test_f1 (macro) = 0.743\n",
      "total time = 148.729, train time/epoch = 0.84240, best_val_f1 (macro) = 0.368, test_f1 (macro) = 0.385\n",
      "total time = 531.558, train time/epoch = 0.84045, best_val_f1 (macro) = 0.935, test_f1 (macro) = 0.908\n",
      "total time = 311.434, train time/epoch = 0.84085, best_val_f1 (macro) = 0.925, test_f1 (macro) = 0.892\n",
      "total time = 122.451, train time/epoch = 0.84298, best_val_f1 (macro) = 0.100, test_f1 (macro) = 0.110\n",
      "total time = 127.188, train time/epoch = 0.84306, best_val_f1 (macro) = 0.349, test_f1 (macro) = 0.361\n",
      "total time = 480.181, train time/epoch = 0.84078, best_val_f1 (macro) = 0.938, test_f1 (macro) = 0.916\n",
      "total time = 413.604, train time/epoch = 0.84166, best_val_f1 (macro) = 0.940, test_f1 (macro) = 0.909\n",
      "total time = 215.901, train time/epoch = 0.84251, best_val_f1 (macro) = 0.818, test_f1 (macro) = 0.785\n",
      "test macro-f1 (mean, std):  0.7983596516968791 0.20417705212869872\n",
      "test macro-f1 (mean, std) after filter:  0.8477128136291446 0.11451918643914517\n"
     ]
    }
   ],
   "source": [
    "f1s = []\n",
    "datasets = ['ACM', 'IMDB', 'DBLP']\n",
    "for dataset in datasets:\n",
    "    args.data = dataset\n",
    "    if dataset == 'ACM':\n",
    "        args.target_node_type = 'paper'\n",
    "        print('\\nstart testing on ' + dataset + ' dataset')\n",
    "        f1s.append(main(args))\n",
    "    elif dataset == 'IMDB':\n",
    "        args.target_node_type = 'movie'\n",
    "        print('\\nstart testing on ' + dataset + ' dataset')\n",
    "        f1s.append(main(args))\n",
    "    elif dataset == 'DBLP':\n",
    "        args.num_heads = 4\n",
    "        args.target_node_type = 'author'\n",
    "        print('\\nstart testing on ' + dataset + ' dataset')\n",
    "        f1s.append(main(args))"
   ]
  },
  {
   "cell_type": "code",
   "execution_count": 4,
   "metadata": {},
   "outputs": [],
   "source": [
    "f1s = np.array(f1s)\n",
    "np.savetxt('f1_ACM_hop10.txt',f1s)"
   ]
  },
  {
   "cell_type": "code",
   "execution_count": 5,
   "metadata": {},
   "outputs": [],
   "source": [
    "# remove anomaly points with value <= 0.7\n",
    "f1_DBLP = f1s[-1]\n",
    "f1_DBLP = f1_DBLP[f1_DBLP > 0.7]"
   ]
  },
  {
   "cell_type": "code",
   "execution_count": 6,
   "metadata": {},
   "outputs": [],
   "source": [
    "def remove_edge_pts(accs, pct=0.1):\n",
    "    accs = sorted(list(accs))\n",
    "    N = len(accs)\n",
    "    M = int(N * pct)\n",
    "    accs = np.array(accs[M:N-M])\n",
    "    return accs"
   ]
  },
  {
   "cell_type": "code",
   "execution_count": 9,
   "metadata": {},
   "outputs": [
    {
     "data": {
      "text/plain": [
       "(0.8834865357906685, 0.046542830234840245)"
      ]
     },
     "execution_count": 9,
     "metadata": {},
     "output_type": "execute_result"
    }
   ],
   "source": [
    "np.mean(f1_DBLP), np.std(f1_DBLP)"
   ]
  },
  {
   "cell_type": "code",
   "execution_count": 12,
   "metadata": {},
   "outputs": [
    {
     "name": "stdout",
     "output_type": "stream",
     "text": [
      "test macro-f1 (mean, std) after filter:  0.8916136860173532 0.03161497892922986\n"
     ]
    }
   ],
   "source": [
    "f1_DBLP = remove_edge_pts(f1_DBLP, args.filter_pct)\n",
    "print('test macro-f1 (mean, std) after filter: ', np.mean(f1_DBLP), np.std(f1_DBLP))"
   ]
  },
  {
   "cell_type": "code",
   "execution_count": null,
   "metadata": {},
   "outputs": [],
   "source": []
  }
 ],
 "metadata": {
  "kernelspec": {
   "display_name": "Python 3",
   "language": "python",
   "name": "python3"
  },
  "language_info": {
   "codemirror_mode": {
    "name": "ipython",
    "version": 3
   },
   "file_extension": ".py",
   "mimetype": "text/x-python",
   "name": "python",
   "nbconvert_exporter": "python",
   "pygments_lexer": "ipython3",
   "version": "3.8.8"
  }
 },
 "nbformat": 4,
 "nbformat_minor": 4
}
