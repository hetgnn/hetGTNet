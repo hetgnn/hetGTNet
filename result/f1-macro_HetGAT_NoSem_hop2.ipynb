{
 "cells": [
  {
   "cell_type": "code",
   "execution_count": 1,
   "metadata": {},
   "outputs": [
    {
     "name": "stderr",
     "output_type": "stream",
     "text": [
      "Using backend: pytorch\n"
     ]
    }
   ],
   "source": [
    "root_dir = '..' # dir of the source code\n",
    "import sys\n",
    "sys.path.append(root_dir)\n",
    "from train import main\n",
    "import numpy as np"
   ]
  },
  {
   "cell_type": "code",
   "execution_count": 2,
   "metadata": {},
   "outputs": [],
   "source": [
    "class config:\n",
    "    data = 'ACM'\n",
    "    data_path = '../data/preprocessed/'\n",
    "    model = 'HetGAT_NoSem'\n",
    "    target_node_type = 'paper'\n",
    "    n_hid = 64\n",
    "    dropout = 0.8\n",
    "    dropout2 = 0.2\n",
    "    learning_rate = 0.005\n",
    "    weight_decay = 5e-5\n",
    "    patience = 100\n",
    "    num_iter = 500\n",
    "    num_test = 30\n",
    "    hop = 2\n",
    "    filter_pct = 0.1 # remove the top and bottom filer_pct points before obtaining statistics of test accuracy\n",
    "    log_step = 1000 # training log step\n",
    "    layer_wise = True\n",
    "    average = 'macro' # 'f1 average: can choose either macro or micro.'\n",
    "\n",
    "args = config()"
   ]
  },
  {
   "cell_type": "code",
   "execution_count": 3,
   "metadata": {
    "scrolled": false
   },
   "outputs": [
    {
     "name": "stdout",
     "output_type": "stream",
     "text": [
      "\n",
      "start testing on ACM dataset\n",
      "total time = 3.502, train time/epoch = 0.02351, best_val_f1 (macro) = 0.927, test_f1 (macro) = 0.922\n",
      "total time = 2.861, train time/epoch = 0.01806, best_val_f1 (macro) = 0.924, test_f1 (macro) = 0.912\n",
      "total time = 2.722, train time/epoch = 0.01801, best_val_f1 (macro) = 0.933, test_f1 (macro) = 0.921\n",
      "total time = 4.212, train time/epoch = 0.01824, best_val_f1 (macro) = 0.927, test_f1 (macro) = 0.917\n",
      "total time = 3.144, train time/epoch = 0.01815, best_val_f1 (macro) = 0.933, test_f1 (macro) = 0.925\n",
      "total time = 5.062, train time/epoch = 0.01875, best_val_f1 (macro) = 0.927, test_f1 (macro) = 0.911\n",
      "total time = 3.161, train time/epoch = 0.01845, best_val_f1 (macro) = 0.930, test_f1 (macro) = 0.923\n",
      "total time = 2.952, train time/epoch = 0.01850, best_val_f1 (macro) = 0.933, test_f1 (macro) = 0.924\n",
      "total time = 5.389, train time/epoch = 0.01865, best_val_f1 (macro) = 0.930, test_f1 (macro) = 0.900\n",
      "total time = 2.979, train time/epoch = 0.01830, best_val_f1 (macro) = 0.930, test_f1 (macro) = 0.924\n",
      "total time = 2.943, train time/epoch = 0.01871, best_val_f1 (macro) = 0.923, test_f1 (macro) = 0.923\n",
      "total time = 3.436, train time/epoch = 0.01886, best_val_f1 (macro) = 0.923, test_f1 (macro) = 0.921\n",
      "total time = 2.715, train time/epoch = 0.01878, best_val_f1 (macro) = 0.923, test_f1 (macro) = 0.920\n",
      "total time = 3.971, train time/epoch = 0.01877, best_val_f1 (macro) = 0.933, test_f1 (macro) = 0.920\n",
      "total time = 2.984, train time/epoch = 0.01807, best_val_f1 (macro) = 0.920, test_f1 (macro) = 0.922\n",
      "total time = 5.235, train time/epoch = 0.01884, best_val_f1 (macro) = 0.927, test_f1 (macro) = 0.905\n",
      "total time = 3.471, train time/epoch = 0.02127, best_val_f1 (macro) = 0.930, test_f1 (macro) = 0.919\n",
      "total time = 4.288, train time/epoch = 0.01865, best_val_f1 (macro) = 0.930, test_f1 (macro) = 0.917\n",
      "total time = 2.750, train time/epoch = 0.01832, best_val_f1 (macro) = 0.923, test_f1 (macro) = 0.920\n",
      "total time = 3.220, train time/epoch = 0.01845, best_val_f1 (macro) = 0.927, test_f1 (macro) = 0.923\n",
      "total time = 3.112, train time/epoch = 0.01865, best_val_f1 (macro) = 0.923, test_f1 (macro) = 0.919\n",
      "total time = 2.684, train time/epoch = 0.01840, best_val_f1 (macro) = 0.923, test_f1 (macro) = 0.914\n",
      "total time = 4.164, train time/epoch = 0.01849, best_val_f1 (macro) = 0.927, test_f1 (macro) = 0.909\n",
      "total time = 2.951, train time/epoch = 0.01844, best_val_f1 (macro) = 0.933, test_f1 (macro) = 0.918\n",
      "total time = 4.366, train time/epoch = 0.01862, best_val_f1 (macro) = 0.926, test_f1 (macro) = 0.913\n",
      "total time = 3.215, train time/epoch = 0.01871, best_val_f1 (macro) = 0.937, test_f1 (macro) = 0.920\n",
      "total time = 3.290, train time/epoch = 0.01851, best_val_f1 (macro) = 0.924, test_f1 (macro) = 0.925\n",
      "total time = 4.443, train time/epoch = 0.01867, best_val_f1 (macro) = 0.920, test_f1 (macro) = 0.916\n",
      "total time = 3.156, train time/epoch = 0.01918, best_val_f1 (macro) = 0.933, test_f1 (macro) = 0.919\n",
      "total time = 2.752, train time/epoch = 0.01805, best_val_f1 (macro) = 0.930, test_f1 (macro) = 0.925\n",
      "test macro-f1 (mean, std):  0.9181915955905031 0.00602807425911207\n",
      "test macro-f1 (mean, std) after filter:  0.9190554341665885 0.003656572908741294\n",
      "\n",
      "start testing on IMDB dataset\n",
      "total time = 2.900, train time/epoch = 0.01464, best_val_f1 (macro) = 0.603, test_f1 (macro) = 0.569\n",
      "total time = 3.894, train time/epoch = 0.01440, best_val_f1 (macro) = 0.608, test_f1 (macro) = 0.556\n",
      "total time = 2.742, train time/epoch = 0.01438, best_val_f1 (macro) = 0.615, test_f1 (macro) = 0.561\n",
      "total time = 2.623, train time/epoch = 0.01430, best_val_f1 (macro) = 0.616, test_f1 (macro) = 0.589\n",
      "total time = 2.281, train time/epoch = 0.01431, best_val_f1 (macro) = 0.636, test_f1 (macro) = 0.589\n",
      "total time = 2.628, train time/epoch = 0.01432, best_val_f1 (macro) = 0.606, test_f1 (macro) = 0.568\n",
      "total time = 3.381, train time/epoch = 0.01433, best_val_f1 (macro) = 0.628, test_f1 (macro) = 0.581\n",
      "total time = 4.513, train time/epoch = 0.01444, best_val_f1 (macro) = 0.608, test_f1 (macro) = 0.574\n",
      "total time = 2.631, train time/epoch = 0.01475, best_val_f1 (macro) = 0.621, test_f1 (macro) = 0.590\n",
      "total time = 2.653, train time/epoch = 0.01451, best_val_f1 (macro) = 0.619, test_f1 (macro) = 0.578\n",
      "total time = 2.736, train time/epoch = 0.01443, best_val_f1 (macro) = 0.616, test_f1 (macro) = 0.583\n",
      "total time = 2.651, train time/epoch = 0.01430, best_val_f1 (macro) = 0.610, test_f1 (macro) = 0.586\n",
      "total time = 2.614, train time/epoch = 0.01438, best_val_f1 (macro) = 0.616, test_f1 (macro) = 0.586\n",
      "total time = 2.453, train time/epoch = 0.01437, best_val_f1 (macro) = 0.609, test_f1 (macro) = 0.579\n",
      "total time = 2.759, train time/epoch = 0.01474, best_val_f1 (macro) = 0.635, test_f1 (macro) = 0.586\n",
      "total time = 2.830, train time/epoch = 0.01441, best_val_f1 (macro) = 0.618, test_f1 (macro) = 0.583\n",
      "total time = 2.543, train time/epoch = 0.01430, best_val_f1 (macro) = 0.631, test_f1 (macro) = 0.583\n",
      "total time = 2.620, train time/epoch = 0.01433, best_val_f1 (macro) = 0.604, test_f1 (macro) = 0.580\n",
      "total time = 2.577, train time/epoch = 0.01433, best_val_f1 (macro) = 0.621, test_f1 (macro) = 0.585\n",
      "total time = 2.606, train time/epoch = 0.01445, best_val_f1 (macro) = 0.614, test_f1 (macro) = 0.590\n",
      "total time = 2.900, train time/epoch = 0.01439, best_val_f1 (macro) = 0.621, test_f1 (macro) = 0.569\n",
      "total time = 2.790, train time/epoch = 0.01476, best_val_f1 (macro) = 0.625, test_f1 (macro) = 0.582\n",
      "total time = 6.881, train time/epoch = 0.01447, best_val_f1 (macro) = 0.619, test_f1 (macro) = 0.547\n",
      "total time = 2.457, train time/epoch = 0.01440, best_val_f1 (macro) = 0.595, test_f1 (macro) = 0.559\n",
      "total time = 2.861, train time/epoch = 0.01435, best_val_f1 (macro) = 0.616, test_f1 (macro) = 0.578\n",
      "total time = 2.808, train time/epoch = 0.01459, best_val_f1 (macro) = 0.607, test_f1 (macro) = 0.575\n",
      "total time = 2.576, train time/epoch = 0.01436, best_val_f1 (macro) = 0.621, test_f1 (macro) = 0.591\n",
      "total time = 2.398, train time/epoch = 0.01446, best_val_f1 (macro) = 0.618, test_f1 (macro) = 0.570\n",
      "total time = 2.288, train time/epoch = 0.01442, best_val_f1 (macro) = 0.628, test_f1 (macro) = 0.586\n",
      "total time = 2.643, train time/epoch = 0.01432, best_val_f1 (macro) = 0.635, test_f1 (macro) = 0.581\n",
      "test macro-f1 (mean, std):  0.577873557022843 0.010912770780774378\n",
      "test macro-f1 (mean, std) after filter:  0.5792893040154402 0.007258946096023156\n",
      "\n",
      "start testing on DBLP dataset\n",
      "total time = 3.363, train time/epoch = 0.01946, best_val_f1 (macro) = 0.916, test_f1 (macro) = 0.912\n",
      "total time = 3.152, train time/epoch = 0.01952, best_val_f1 (macro) = 0.915, test_f1 (macro) = 0.909\n",
      "total time = 3.288, train time/epoch = 0.01960, best_val_f1 (macro) = 0.935, test_f1 (macro) = 0.931\n",
      "total time = 3.230, train time/epoch = 0.01949, best_val_f1 (macro) = 0.918, test_f1 (macro) = 0.919\n",
      "total time = 3.398, train time/epoch = 0.01961, best_val_f1 (macro) = 0.925, test_f1 (macro) = 0.910\n",
      "total time = 3.455, train time/epoch = 0.01992, best_val_f1 (macro) = 0.937, test_f1 (macro) = 0.913\n",
      "total time = 3.616, train time/epoch = 0.01955, best_val_f1 (macro) = 0.935, test_f1 (macro) = 0.903\n",
      "total time = 3.559, train time/epoch = 0.01942, best_val_f1 (macro) = 0.938, test_f1 (macro) = 0.921\n",
      "total time = 8.974, train time/epoch = 0.01958, best_val_f1 (macro) = 0.923, test_f1 (macro) = 0.908\n",
      "total time = 3.405, train time/epoch = 0.01940, best_val_f1 (macro) = 0.930, test_f1 (macro) = 0.920\n",
      "total time = 3.498, train time/epoch = 0.01931, best_val_f1 (macro) = 0.938, test_f1 (macro) = 0.920\n",
      "total time = 3.394, train time/epoch = 0.01954, best_val_f1 (macro) = 0.930, test_f1 (macro) = 0.911\n",
      "total time = 4.372, train time/epoch = 0.01986, best_val_f1 (macro) = 0.920, test_f1 (macro) = 0.884\n",
      "total time = 3.420, train time/epoch = 0.01984, best_val_f1 (macro) = 0.925, test_f1 (macro) = 0.906\n",
      "total time = 3.711, train time/epoch = 0.02028, best_val_f1 (macro) = 0.938, test_f1 (macro) = 0.912\n",
      "total time = 3.396, train time/epoch = 0.01971, best_val_f1 (macro) = 0.925, test_f1 (macro) = 0.912\n",
      "total time = 3.365, train time/epoch = 0.01959, best_val_f1 (macro) = 0.923, test_f1 (macro) = 0.912\n",
      "total time = 3.596, train time/epoch = 0.01949, best_val_f1 (macro) = 0.930, test_f1 (macro) = 0.898\n"
     ]
    },
    {
     "name": "stdout",
     "output_type": "stream",
     "text": [
      "total time = 3.435, train time/epoch = 0.01944, best_val_f1 (macro) = 0.925, test_f1 (macro) = 0.906\n",
      "total time = 3.355, train time/epoch = 0.01950, best_val_f1 (macro) = 0.933, test_f1 (macro) = 0.911\n",
      "total time = 3.574, train time/epoch = 0.02007, best_val_f1 (macro) = 0.930, test_f1 (macro) = 0.910\n",
      "total time = 3.647, train time/epoch = 0.01974, best_val_f1 (macro) = 0.913, test_f1 (macro) = 0.906\n",
      "total time = 3.356, train time/epoch = 0.01934, best_val_f1 (macro) = 0.923, test_f1 (macro) = 0.902\n",
      "total time = 3.468, train time/epoch = 0.01967, best_val_f1 (macro) = 0.923, test_f1 (macro) = 0.897\n",
      "total time = 3.452, train time/epoch = 0.01963, best_val_f1 (macro) = 0.933, test_f1 (macro) = 0.916\n",
      "total time = 3.496, train time/epoch = 0.02000, best_val_f1 (macro) = 0.925, test_f1 (macro) = 0.917\n",
      "total time = 3.438, train time/epoch = 0.01944, best_val_f1 (macro) = 0.935, test_f1 (macro) = 0.915\n",
      "total time = 3.470, train time/epoch = 0.01956, best_val_f1 (macro) = 0.930, test_f1 (macro) = 0.903\n",
      "total time = 3.467, train time/epoch = 0.01947, best_val_f1 (macro) = 0.933, test_f1 (macro) = 0.908\n",
      "total time = 3.623, train time/epoch = 0.01947, best_val_f1 (macro) = 0.937, test_f1 (macro) = 0.907\n",
      "test macro-f1 (mean, std):  0.9099775593817722 0.008500736141065996\n",
      "test macro-f1 (mean, std) after filter:  0.9103343434591545 0.004762438720049066\n"
     ]
    }
   ],
   "source": [
    "f1s = []\n",
    "datasets = ['ACM', 'IMDB', 'DBLP']\n",
    "for dataset in datasets:\n",
    "    args.data = dataset\n",
    "    if dataset == 'ACM':\n",
    "        args.dropout = 0.8\n",
    "        args.dropout2 = 0.2\n",
    "        args.target_node_type = 'paper'\n",
    "        print('\\nstart testing on ' + dataset + ' dataset')\n",
    "        f1s.append(main(args))\n",
    "    elif dataset == 'IMDB':\n",
    "        args.dropout = 0.8\n",
    "        args.dropout2 = 0.2\n",
    "        args.target_node_type = 'movie'\n",
    "        print('\\nstart testing on ' + dataset + ' dataset')\n",
    "        f1s.append(main(args))\n",
    "    elif dataset == 'DBLP':\n",
    "        args.dropout = 0\n",
    "        args.dropout2 = 0\n",
    "        args.target_node_type = 'author'\n",
    "        print('\\nstart testing on ' + dataset + ' dataset')\n",
    "        f1s.append(main(args))"
   ]
  },
  {
   "cell_type": "code",
   "execution_count": 4,
   "metadata": {},
   "outputs": [],
   "source": [
    "f1s = np.array(f1s)"
   ]
  },
  {
   "cell_type": "code",
   "execution_count": null,
   "metadata": {},
   "outputs": [],
   "source": []
  }
 ],
 "metadata": {
  "kernelspec": {
   "display_name": "Python 3",
   "language": "python",
   "name": "python3"
  },
  "language_info": {
   "codemirror_mode": {
    "name": "ipython",
    "version": 3
   },
   "file_extension": ".py",
   "mimetype": "text/x-python",
   "name": "python",
   "nbconvert_exporter": "python",
   "pygments_lexer": "ipython3",
   "version": "3.8.8"
  }
 },
 "nbformat": 4,
 "nbformat_minor": 4
}
