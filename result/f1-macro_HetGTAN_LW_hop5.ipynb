{
 "cells": [
  {
   "cell_type": "code",
   "execution_count": 1,
   "metadata": {},
   "outputs": [
    {
     "name": "stderr",
     "output_type": "stream",
     "text": [
      "Using backend: pytorch\n"
     ]
    }
   ],
   "source": [
    "root_dir = '..' # dir of the source code\n",
    "import sys\n",
    "sys.path.append(root_dir)\n",
    "from train import main\n",
    "import numpy as np"
   ]
  },
  {
   "cell_type": "code",
   "execution_count": 2,
   "metadata": {},
   "outputs": [],
   "source": [
    "class config:\n",
    "    data = 'ACM'\n",
    "    data_path = '../data/preprocessed/'\n",
    "    model = 'HetGTAN_LW'\n",
    "    target_node_type = 'paper'\n",
    "    n_hid = 64\n",
    "    dropout = 0.8\n",
    "    dropout2 = 0.2\n",
    "    learning_rate = 0.005\n",
    "    weight_decay = 5e-5\n",
    "    patience = 100\n",
    "    num_iter = 500\n",
    "    num_test = 30\n",
    "    hop = 5\n",
    "    filter_pct = 0.1 # remove the top and bottom filer_pct points before obtaining statistics of test accuracy\n",
    "    log_step = 1000 # training log step\n",
    "    layer_wise = True\n",
    "    average = 'macro' # 'f1 average: can choose either macro or micro.'\n",
    "\n",
    "args = config()"
   ]
  },
  {
   "cell_type": "code",
   "execution_count": 3,
   "metadata": {
    "scrolled": false
   },
   "outputs": [
    {
     "name": "stdout",
     "output_type": "stream",
     "text": [
      "\n",
      "start testing on ACM dataset\n",
      "total time = 13.368, train time/epoch = 0.03726, best_val_f1 (macro) = 0.940, test_f1 (macro) = 0.923\n",
      "total time = 8.829, train time/epoch = 0.03408, best_val_f1 (macro) = 0.927, test_f1 (macro) = 0.908\n",
      "total time = 7.293, train time/epoch = 0.03415, best_val_f1 (macro) = 0.930, test_f1 (macro) = 0.928\n",
      "total time = 7.276, train time/epoch = 0.03433, best_val_f1 (macro) = 0.933, test_f1 (macro) = 0.923\n",
      "total time = 5.747, train time/epoch = 0.03482, best_val_f1 (macro) = 0.930, test_f1 (macro) = 0.920\n",
      "total time = 12.996, train time/epoch = 0.03441, best_val_f1 (macro) = 0.930, test_f1 (macro) = 0.914\n",
      "total time = 10.100, train time/epoch = 0.03407, best_val_f1 (macro) = 0.930, test_f1 (macro) = 0.921\n",
      "total time = 6.677, train time/epoch = 0.03399, best_val_f1 (macro) = 0.930, test_f1 (macro) = 0.922\n",
      "total time = 4.973, train time/epoch = 0.03411, best_val_f1 (macro) = 0.924, test_f1 (macro) = 0.909\n",
      "total time = 11.342, train time/epoch = 0.03423, best_val_f1 (macro) = 0.934, test_f1 (macro) = 0.922\n",
      "total time = 8.102, train time/epoch = 0.03412, best_val_f1 (macro) = 0.930, test_f1 (macro) = 0.927\n",
      "total time = 4.821, train time/epoch = 0.03463, best_val_f1 (macro) = 0.930, test_f1 (macro) = 0.904\n",
      "total time = 15.269, train time/epoch = 0.03406, best_val_f1 (macro) = 0.930, test_f1 (macro) = 0.924\n",
      "total time = 8.061, train time/epoch = 0.03456, best_val_f1 (macro) = 0.927, test_f1 (macro) = 0.927\n",
      "total time = 6.628, train time/epoch = 0.03428, best_val_f1 (macro) = 0.930, test_f1 (macro) = 0.916\n",
      "total time = 8.095, train time/epoch = 0.03414, best_val_f1 (macro) = 0.934, test_f1 (macro) = 0.918\n",
      "total time = 7.015, train time/epoch = 0.03475, best_val_f1 (macro) = 0.927, test_f1 (macro) = 0.905\n",
      "total time = 4.981, train time/epoch = 0.03441, best_val_f1 (macro) = 0.926, test_f1 (macro) = 0.916\n",
      "total time = 4.977, train time/epoch = 0.03447, best_val_f1 (macro) = 0.933, test_f1 (macro) = 0.915\n",
      "total time = 5.218, train time/epoch = 0.03579, best_val_f1 (macro) = 0.923, test_f1 (macro) = 0.918\n",
      "total time = 10.917, train time/epoch = 0.03444, best_val_f1 (macro) = 0.934, test_f1 (macro) = 0.928\n",
      "total time = 15.938, train time/epoch = 0.03413, best_val_f1 (macro) = 0.930, test_f1 (macro) = 0.908\n",
      "total time = 5.050, train time/epoch = 0.03436, best_val_f1 (macro) = 0.927, test_f1 (macro) = 0.913\n",
      "total time = 11.774, train time/epoch = 0.03416, best_val_f1 (macro) = 0.934, test_f1 (macro) = 0.924\n",
      "total time = 14.180, train time/epoch = 0.03450, best_val_f1 (macro) = 0.934, test_f1 (macro) = 0.921\n",
      "total time = 6.386, train time/epoch = 0.03472, best_val_f1 (macro) = 0.930, test_f1 (macro) = 0.921\n",
      "total time = 9.220, train time/epoch = 0.03517, best_val_f1 (macro) = 0.934, test_f1 (macro) = 0.926\n",
      "total time = 6.985, train time/epoch = 0.03539, best_val_f1 (macro) = 0.930, test_f1 (macro) = 0.923\n",
      "total time = 6.709, train time/epoch = 0.03491, best_val_f1 (macro) = 0.927, test_f1 (macro) = 0.917\n",
      "total time = 14.562, train time/epoch = 0.03499, best_val_f1 (macro) = 0.933, test_f1 (macro) = 0.913\n",
      "test macro-f1 (mean, std):  0.9185114457729989 0.00679686657251631\n",
      "test macro-f1 (mean, std) after filter:  0.9190028063625553 0.005006510492694613\n",
      "\n",
      "start testing on IMDB dataset\n",
      "total time = 6.046, train time/epoch = 0.02934, best_val_f1 (macro) = 0.647, test_f1 (macro) = 0.607\n",
      "total time = 5.035, train time/epoch = 0.02944, best_val_f1 (macro) = 0.628, test_f1 (macro) = 0.581\n",
      "total time = 7.323, train time/epoch = 0.02989, best_val_f1 (macro) = 0.649, test_f1 (macro) = 0.606\n",
      "total time = 6.863, train time/epoch = 0.02946, best_val_f1 (macro) = 0.634, test_f1 (macro) = 0.600\n",
      "total time = 7.028, train time/epoch = 0.03054, best_val_f1 (macro) = 0.637, test_f1 (macro) = 0.607\n",
      "total time = 5.847, train time/epoch = 0.02960, best_val_f1 (macro) = 0.647, test_f1 (macro) = 0.620\n",
      "total time = 6.360, train time/epoch = 0.02991, best_val_f1 (macro) = 0.634, test_f1 (macro) = 0.610\n",
      "total time = 6.831, train time/epoch = 0.02976, best_val_f1 (macro) = 0.637, test_f1 (macro) = 0.603\n",
      "total time = 6.469, train time/epoch = 0.03035, best_val_f1 (macro) = 0.640, test_f1 (macro) = 0.612\n",
      "total time = 7.547, train time/epoch = 0.03056, best_val_f1 (macro) = 0.635, test_f1 (macro) = 0.604\n",
      "total time = 5.373, train time/epoch = 0.02998, best_val_f1 (macro) = 0.640, test_f1 (macro) = 0.608\n",
      "total time = 6.497, train time/epoch = 0.03009, best_val_f1 (macro) = 0.639, test_f1 (macro) = 0.610\n",
      "total time = 6.248, train time/epoch = 0.02995, best_val_f1 (macro) = 0.645, test_f1 (macro) = 0.614\n",
      "total time = 6.606, train time/epoch = 0.02981, best_val_f1 (macro) = 0.652, test_f1 (macro) = 0.609\n",
      "total time = 6.452, train time/epoch = 0.02948, best_val_f1 (macro) = 0.636, test_f1 (macro) = 0.611\n",
      "total time = 8.264, train time/epoch = 0.02964, best_val_f1 (macro) = 0.633, test_f1 (macro) = 0.592\n",
      "total time = 6.020, train time/epoch = 0.02960, best_val_f1 (macro) = 0.648, test_f1 (macro) = 0.616\n",
      "total time = 7.664, train time/epoch = 0.02938, best_val_f1 (macro) = 0.639, test_f1 (macro) = 0.591\n",
      "total time = 6.110, train time/epoch = 0.02970, best_val_f1 (macro) = 0.641, test_f1 (macro) = 0.617\n",
      "total time = 4.756, train time/epoch = 0.02970, best_val_f1 (macro) = 0.637, test_f1 (macro) = 0.617\n",
      "total time = 5.706, train time/epoch = 0.03024, best_val_f1 (macro) = 0.636, test_f1 (macro) = 0.608\n",
      "total time = 8.588, train time/epoch = 0.02992, best_val_f1 (macro) = 0.634, test_f1 (macro) = 0.598\n",
      "total time = 6.134, train time/epoch = 0.03003, best_val_f1 (macro) = 0.639, test_f1 (macro) = 0.624\n",
      "total time = 6.557, train time/epoch = 0.02956, best_val_f1 (macro) = 0.633, test_f1 (macro) = 0.605\n",
      "total time = 5.727, train time/epoch = 0.02979, best_val_f1 (macro) = 0.658, test_f1 (macro) = 0.614\n",
      "total time = 6.074, train time/epoch = 0.03035, best_val_f1 (macro) = 0.629, test_f1 (macro) = 0.606\n",
      "total time = 6.273, train time/epoch = 0.03052, best_val_f1 (macro) = 0.654, test_f1 (macro) = 0.612\n",
      "total time = 5.718, train time/epoch = 0.02952, best_val_f1 (macro) = 0.646, test_f1 (macro) = 0.612\n",
      "total time = 5.965, train time/epoch = 0.02979, best_val_f1 (macro) = 0.642, test_f1 (macro) = 0.618\n",
      "total time = 5.882, train time/epoch = 0.02954, best_val_f1 (macro) = 0.646, test_f1 (macro) = 0.616\n",
      "test macro-f1 (mean, std):  0.6082643988090616 0.009043878485212715\n",
      "test macro-f1 (mean, std) after filter:  0.6092379974109611 0.005146557636842957\n",
      "\n",
      "start testing on DBLP dataset\n",
      "total time = 10.008, train time/epoch = 0.05415, best_val_f1 (macro) = 0.960, test_f1 (macro) = 0.944\n",
      "total time = 9.488, train time/epoch = 0.05300, best_val_f1 (macro) = 0.940, test_f1 (macro) = 0.940\n",
      "total time = 10.134, train time/epoch = 0.05377, best_val_f1 (macro) = 0.958, test_f1 (macro) = 0.945\n",
      "total time = 11.401, train time/epoch = 0.05424, best_val_f1 (macro) = 0.963, test_f1 (macro) = 0.945\n",
      "total time = 9.669, train time/epoch = 0.05318, best_val_f1 (macro) = 0.955, test_f1 (macro) = 0.943\n",
      "total time = 8.917, train time/epoch = 0.05486, best_val_f1 (macro) = 0.843, test_f1 (macro) = 0.841\n",
      "total time = 10.035, train time/epoch = 0.05527, best_val_f1 (macro) = 0.958, test_f1 (macro) = 0.943\n",
      "total time = 10.781, train time/epoch = 0.05491, best_val_f1 (macro) = 0.960, test_f1 (macro) = 0.945\n",
      "total time = 10.651, train time/epoch = 0.05385, best_val_f1 (macro) = 0.958, test_f1 (macro) = 0.941\n",
      "total time = 9.979, train time/epoch = 0.05455, best_val_f1 (macro) = 0.955, test_f1 (macro) = 0.945\n",
      "total time = 11.126, train time/epoch = 0.05293, best_val_f1 (macro) = 0.960, test_f1 (macro) = 0.944\n",
      "total time = 10.595, train time/epoch = 0.05386, best_val_f1 (macro) = 0.960, test_f1 (macro) = 0.942\n",
      "total time = 9.844, train time/epoch = 0.05258, best_val_f1 (macro) = 0.953, test_f1 (macro) = 0.946\n",
      "total time = 9.566, train time/epoch = 0.05268, best_val_f1 (macro) = 0.955, test_f1 (macro) = 0.944\n",
      "total time = 12.571, train time/epoch = 0.05422, best_val_f1 (macro) = 0.960, test_f1 (macro) = 0.938\n",
      "total time = 9.880, train time/epoch = 0.05448, best_val_f1 (macro) = 0.960, test_f1 (macro) = 0.941\n",
      "total time = 10.089, train time/epoch = 0.05273, best_val_f1 (macro) = 0.960, test_f1 (macro) = 0.946\n",
      "total time = 11.205, train time/epoch = 0.05401, best_val_f1 (macro) = 0.958, test_f1 (macro) = 0.943\n"
     ]
    },
    {
     "name": "stdout",
     "output_type": "stream",
     "text": [
      "total time = 12.569, train time/epoch = 0.05390, best_val_f1 (macro) = 0.960, test_f1 (macro) = 0.939\n",
      "total time = 11.340, train time/epoch = 0.05360, best_val_f1 (macro) = 0.965, test_f1 (macro) = 0.943\n",
      "total time = 10.332, train time/epoch = 0.05399, best_val_f1 (macro) = 0.958, test_f1 (macro) = 0.946\n",
      "total time = 9.697, train time/epoch = 0.05348, best_val_f1 (macro) = 0.955, test_f1 (macro) = 0.945\n",
      "total time = 10.461, train time/epoch = 0.05291, best_val_f1 (macro) = 0.963, test_f1 (macro) = 0.947\n",
      "total time = 9.939, train time/epoch = 0.05316, best_val_f1 (macro) = 0.953, test_f1 (macro) = 0.944\n",
      "total time = 9.870, train time/epoch = 0.05279, best_val_f1 (macro) = 0.960, test_f1 (macro) = 0.948\n",
      "total time = 9.738, train time/epoch = 0.05332, best_val_f1 (macro) = 0.955, test_f1 (macro) = 0.946\n",
      "total time = 10.845, train time/epoch = 0.05306, best_val_f1 (macro) = 0.963, test_f1 (macro) = 0.944\n",
      "total time = 10.450, train time/epoch = 0.05284, best_val_f1 (macro) = 0.955, test_f1 (macro) = 0.947\n",
      "total time = 10.596, train time/epoch = 0.05276, best_val_f1 (macro) = 0.958, test_f1 (macro) = 0.943\n",
      "total time = 10.123, train time/epoch = 0.05299, best_val_f1 (macro) = 0.955, test_f1 (macro) = 0.945\n",
      "test macro-f1 (mean, std):  0.940489336359395 0.018670659011752008\n",
      "test macro-f1 (mean, std) after filter:  0.9439353998274879 0.0015881632395777368\n"
     ]
    }
   ],
   "source": [
    "f1s = []\n",
    "datasets = ['ACM', 'IMDB', 'DBLP']\n",
    "for dataset in datasets:\n",
    "    args.data = dataset\n",
    "    if dataset == 'ACM':\n",
    "        args.dropout = 0.8\n",
    "        args.dropout2 = 0.2\n",
    "        args.target_node_type = 'paper'\n",
    "        print('\\nstart testing on ' + dataset + ' dataset')\n",
    "        f1s.append(main(args))\n",
    "    elif dataset == 'IMDB':\n",
    "        args.dropout = 0.8\n",
    "        args.dropout2 = 0.2\n",
    "        args.target_node_type = 'movie'\n",
    "        print('\\nstart testing on ' + dataset + ' dataset')\n",
    "        f1s.append(main(args))\n",
    "    elif dataset == 'DBLP':\n",
    "        args.dropout = 0\n",
    "        args.dropout2 = 0\n",
    "        args.target_node_type = 'author'\n",
    "        print('\\nstart testing on ' + dataset + ' dataset')\n",
    "        f1s.append(main(args))"
   ]
  },
  {
   "cell_type": "code",
   "execution_count": 4,
   "metadata": {},
   "outputs": [],
   "source": [
    "f1s = np.array(f1s)"
   ]
  },
  {
   "cell_type": "code",
   "execution_count": null,
   "metadata": {},
   "outputs": [],
   "source": []
  }
 ],
 "metadata": {
  "kernelspec": {
   "display_name": "Python 3",
   "language": "python",
   "name": "python3"
  },
  "language_info": {
   "codemirror_mode": {
    "name": "ipython",
    "version": 3
   },
   "file_extension": ".py",
   "mimetype": "text/x-python",
   "name": "python",
   "nbconvert_exporter": "python",
   "pygments_lexer": "ipython3",
   "version": "3.8.8"
  }
 },
 "nbformat": 4,
 "nbformat_minor": 4
}
