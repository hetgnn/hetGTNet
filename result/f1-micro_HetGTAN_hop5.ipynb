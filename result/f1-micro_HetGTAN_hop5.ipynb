{
 "cells": [
  {
   "cell_type": "code",
   "execution_count": 1,
   "metadata": {},
   "outputs": [
    {
     "name": "stderr",
     "output_type": "stream",
     "text": [
      "Using backend: pytorch\n"
     ]
    }
   ],
   "source": [
    "root_dir = '..' # dir of the source code\n",
    "import sys\n",
    "sys.path.append(root_dir)\n",
    "from train import main\n",
    "import numpy as np"
   ]
  },
  {
   "cell_type": "code",
   "execution_count": 2,
   "metadata": {},
   "outputs": [],
   "source": [
    "class config:\n",
    "    data = 'ACM'\n",
    "    data_path = '../data/preprocessed/'\n",
    "    model = 'HetGTAN'\n",
    "    target_node_type = 'paper'\n",
    "    n_hid = 64\n",
    "    num_heads = 8\n",
    "    dropout = 0.8\n",
    "    dropout2 = 0.2\n",
    "    learning_rate = 0.005\n",
    "    weight_decay = 5e-5\n",
    "    patience = 100\n",
    "    num_iter = 500\n",
    "    num_test = 30\n",
    "    hop = 5\n",
    "    filter_pct = 0.1 # remove the top and bottom filer_pct points before obtaining statistics of test accuracy\n",
    "    log_step = 1000 # training log step\n",
    "    layer_wise = True\n",
    "    average = 'micro' # 'f1 average: can choose either macro or micro.'\n",
    "\n",
    "args = config()"
   ]
  },
  {
   "cell_type": "code",
   "execution_count": 3,
   "metadata": {
    "scrolled": false
   },
   "outputs": [
    {
     "name": "stdout",
     "output_type": "stream",
     "text": [
      "\n",
      "start testing on ACM dataset\n",
      "total time = 10.880, train time/epoch = 0.04039, best_val_f1 (micro) = 0.933, test_f1 (micro) = 0.916\n",
      "total time = 5.274, train time/epoch = 0.03636, best_val_f1 (micro) = 0.930, test_f1 (micro) = 0.924\n",
      "total time = 6.711, train time/epoch = 0.03613, best_val_f1 (micro) = 0.933, test_f1 (micro) = 0.927\n",
      "total time = 6.928, train time/epoch = 0.03604, best_val_f1 (micro) = 0.930, test_f1 (micro) = 0.930\n",
      "total time = 11.490, train time/epoch = 0.03624, best_val_f1 (micro) = 0.937, test_f1 (micro) = 0.917\n",
      "total time = 5.629, train time/epoch = 0.03629, best_val_f1 (micro) = 0.933, test_f1 (micro) = 0.923\n",
      "total time = 10.125, train time/epoch = 0.03614, best_val_f1 (micro) = 0.930, test_f1 (micro) = 0.914\n",
      "total time = 9.546, train time/epoch = 0.03629, best_val_f1 (micro) = 0.930, test_f1 (micro) = 0.916\n",
      "total time = 5.764, train time/epoch = 0.03615, best_val_f1 (micro) = 0.930, test_f1 (micro) = 0.919\n",
      "total time = 7.245, train time/epoch = 0.03681, best_val_f1 (micro) = 0.923, test_f1 (micro) = 0.919\n",
      "total time = 9.517, train time/epoch = 0.03660, best_val_f1 (micro) = 0.930, test_f1 (micro) = 0.925\n",
      "total time = 9.421, train time/epoch = 0.03635, best_val_f1 (micro) = 0.930, test_f1 (micro) = 0.924\n",
      "total time = 7.272, train time/epoch = 0.03609, best_val_f1 (micro) = 0.927, test_f1 (micro) = 0.919\n",
      "total time = 7.826, train time/epoch = 0.03595, best_val_f1 (micro) = 0.933, test_f1 (micro) = 0.916\n",
      "total time = 7.420, train time/epoch = 0.03612, best_val_f1 (micro) = 0.933, test_f1 (micro) = 0.922\n",
      "total time = 8.580, train time/epoch = 0.03628, best_val_f1 (micro) = 0.937, test_f1 (micro) = 0.926\n",
      "total time = 7.193, train time/epoch = 0.03639, best_val_f1 (micro) = 0.933, test_f1 (micro) = 0.927\n",
      "total time = 8.305, train time/epoch = 0.03607, best_val_f1 (micro) = 0.930, test_f1 (micro) = 0.909\n",
      "total time = 7.705, train time/epoch = 0.03611, best_val_f1 (micro) = 0.933, test_f1 (micro) = 0.922\n",
      "total time = 7.829, train time/epoch = 0.03600, best_val_f1 (micro) = 0.930, test_f1 (micro) = 0.929\n",
      "total time = 10.486, train time/epoch = 0.03625, best_val_f1 (micro) = 0.930, test_f1 (micro) = 0.917\n",
      "total time = 7.932, train time/epoch = 0.03608, best_val_f1 (micro) = 0.933, test_f1 (micro) = 0.930\n",
      "total time = 7.777, train time/epoch = 0.03603, best_val_f1 (micro) = 0.940, test_f1 (micro) = 0.926\n",
      "total time = 7.763, train time/epoch = 0.03614, best_val_f1 (micro) = 0.933, test_f1 (micro) = 0.927\n",
      "total time = 10.053, train time/epoch = 0.03606, best_val_f1 (micro) = 0.930, test_f1 (micro) = 0.922\n",
      "total time = 8.030, train time/epoch = 0.03609, best_val_f1 (micro) = 0.930, test_f1 (micro) = 0.925\n",
      "total time = 8.146, train time/epoch = 0.03587, best_val_f1 (micro) = 0.933, test_f1 (micro) = 0.921\n",
      "total time = 8.169, train time/epoch = 0.03610, best_val_f1 (micro) = 0.930, test_f1 (micro) = 0.919\n",
      "total time = 7.803, train time/epoch = 0.03629, best_val_f1 (micro) = 0.933, test_f1 (micro) = 0.929\n",
      "total time = 7.311, train time/epoch = 0.03597, best_val_f1 (micro) = 0.933, test_f1 (micro) = 0.918\n",
      "test micro-f1 (mean, std):  0.9218659826867585 0.005198291684757914\n",
      "test micro-f1 (mean, std) after filter:  0.9220770546115208 0.0038767528070801464\n",
      "\n",
      "start testing on IMDB dataset\n",
      "total time = 6.170, train time/epoch = 0.03058, best_val_f1 (micro) = 0.633, test_f1 (micro) = 0.612\n",
      "total time = 6.624, train time/epoch = 0.03210, best_val_f1 (micro) = 0.647, test_f1 (micro) = 0.609\n",
      "total time = 5.755, train time/epoch = 0.03152, best_val_f1 (micro) = 0.633, test_f1 (micro) = 0.597\n",
      "total time = 6.222, train time/epoch = 0.03144, best_val_f1 (micro) = 0.647, test_f1 (micro) = 0.610\n",
      "total time = 6.014, train time/epoch = 0.03145, best_val_f1 (micro) = 0.640, test_f1 (micro) = 0.604\n",
      "total time = 5.574, train time/epoch = 0.03173, best_val_f1 (micro) = 0.630, test_f1 (micro) = 0.601\n",
      "total time = 5.982, train time/epoch = 0.03198, best_val_f1 (micro) = 0.633, test_f1 (micro) = 0.620\n",
      "total time = 6.433, train time/epoch = 0.03163, best_val_f1 (micro) = 0.650, test_f1 (micro) = 0.615\n",
      "total time = 5.037, train time/epoch = 0.03154, best_val_f1 (micro) = 0.653, test_f1 (micro) = 0.601\n",
      "total time = 7.302, train time/epoch = 0.03156, best_val_f1 (micro) = 0.640, test_f1 (micro) = 0.597\n",
      "total time = 6.145, train time/epoch = 0.03172, best_val_f1 (micro) = 0.633, test_f1 (micro) = 0.613\n",
      "total time = 6.357, train time/epoch = 0.03207, best_val_f1 (micro) = 0.643, test_f1 (micro) = 0.618\n",
      "total time = 6.328, train time/epoch = 0.03187, best_val_f1 (micro) = 0.633, test_f1 (micro) = 0.617\n",
      "total time = 11.427, train time/epoch = 0.03158, best_val_f1 (micro) = 0.637, test_f1 (micro) = 0.592\n",
      "total time = 6.206, train time/epoch = 0.03146, best_val_f1 (micro) = 0.637, test_f1 (micro) = 0.611\n",
      "total time = 7.502, train time/epoch = 0.03082, best_val_f1 (micro) = 0.627, test_f1 (micro) = 0.607\n",
      "total time = 6.012, train time/epoch = 0.03035, best_val_f1 (micro) = 0.637, test_f1 (micro) = 0.610\n",
      "total time = 7.178, train time/epoch = 0.03048, best_val_f1 (micro) = 0.647, test_f1 (micro) = 0.595\n",
      "total time = 6.156, train time/epoch = 0.03045, best_val_f1 (micro) = 0.643, test_f1 (micro) = 0.613\n",
      "total time = 6.155, train time/epoch = 0.03092, best_val_f1 (micro) = 0.640, test_f1 (micro) = 0.610\n",
      "total time = 5.347, train time/epoch = 0.03040, best_val_f1 (micro) = 0.640, test_f1 (micro) = 0.607\n",
      "total time = 6.090, train time/epoch = 0.03026, best_val_f1 (micro) = 0.653, test_f1 (micro) = 0.617\n",
      "total time = 5.926, train time/epoch = 0.03027, best_val_f1 (micro) = 0.643, test_f1 (micro) = 0.610\n",
      "total time = 5.447, train time/epoch = 0.03062, best_val_f1 (micro) = 0.657, test_f1 (micro) = 0.613\n",
      "total time = 6.364, train time/epoch = 0.03043, best_val_f1 (micro) = 0.637, test_f1 (micro) = 0.614\n",
      "total time = 5.666, train time/epoch = 0.03053, best_val_f1 (micro) = 0.650, test_f1 (micro) = 0.612\n",
      "total time = 6.372, train time/epoch = 0.03043, best_val_f1 (micro) = 0.640, test_f1 (micro) = 0.614\n",
      "total time = 6.419, train time/epoch = 0.03052, best_val_f1 (micro) = 0.643, test_f1 (micro) = 0.616\n",
      "total time = 6.495, train time/epoch = 0.03052, best_val_f1 (micro) = 0.650, test_f1 (micro) = 0.604\n",
      "total time = 4.913, train time/epoch = 0.03113, best_val_f1 (micro) = 0.623, test_f1 (micro) = 0.607\n",
      "test micro-f1 (mean, std):  0.6089088272611927 0.007080790635636459\n",
      "test micro-f1 (mean, std) after filter:  0.6095024469820555 0.004961004627809332\n",
      "\n",
      "start testing on DBLP dataset\n",
      "total time = 10.429, train time/epoch = 0.05434, best_val_f1 (micro) = 0.960, test_f1 (micro) = 0.952\n",
      "total time = 10.558, train time/epoch = 0.05421, best_val_f1 (micro) = 0.963, test_f1 (micro) = 0.953\n",
      "total time = 12.376, train time/epoch = 0.05417, best_val_f1 (micro) = 0.963, test_f1 (micro) = 0.947\n",
      "total time = 10.649, train time/epoch = 0.05433, best_val_f1 (micro) = 0.950, test_f1 (micro) = 0.950\n",
      "total time = 10.720, train time/epoch = 0.05433, best_val_f1 (micro) = 0.958, test_f1 (micro) = 0.953\n",
      "total time = 9.866, train time/epoch = 0.05453, best_val_f1 (micro) = 0.955, test_f1 (micro) = 0.954\n",
      "total time = 9.916, train time/epoch = 0.05578, best_val_f1 (micro) = 0.960, test_f1 (micro) = 0.951\n",
      "total time = 12.068, train time/epoch = 0.05445, best_val_f1 (micro) = 0.953, test_f1 (micro) = 0.944\n",
      "total time = 10.037, train time/epoch = 0.05455, best_val_f1 (micro) = 0.953, test_f1 (micro) = 0.953\n",
      "total time = 9.635, train time/epoch = 0.05444, best_val_f1 (micro) = 0.955, test_f1 (micro) = 0.949\n",
      "total time = 9.238, train time/epoch = 0.05420, best_val_f1 (micro) = 0.953, test_f1 (micro) = 0.949\n",
      "total time = 10.934, train time/epoch = 0.05463, best_val_f1 (micro) = 0.963, test_f1 (micro) = 0.950\n",
      "total time = 10.230, train time/epoch = 0.05445, best_val_f1 (micro) = 0.960, test_f1 (micro) = 0.951\n",
      "total time = 10.056, train time/epoch = 0.05431, best_val_f1 (micro) = 0.960, test_f1 (micro) = 0.953\n",
      "total time = 10.573, train time/epoch = 0.05428, best_val_f1 (micro) = 0.963, test_f1 (micro) = 0.952\n",
      "total time = 10.520, train time/epoch = 0.05444, best_val_f1 (micro) = 0.968, test_f1 (micro) = 0.954\n",
      "total time = 10.900, train time/epoch = 0.05456, best_val_f1 (micro) = 0.958, test_f1 (micro) = 0.955\n",
      "total time = 10.522, train time/epoch = 0.05543, best_val_f1 (micro) = 0.955, test_f1 (micro) = 0.952\n"
     ]
    },
    {
     "name": "stdout",
     "output_type": "stream",
     "text": [
      "total time = 10.640, train time/epoch = 0.05574, best_val_f1 (micro) = 0.955, test_f1 (micro) = 0.953\n",
      "total time = 10.085, train time/epoch = 0.05602, best_val_f1 (micro) = 0.958, test_f1 (micro) = 0.953\n",
      "total time = 10.552, train time/epoch = 0.05559, best_val_f1 (micro) = 0.960, test_f1 (micro) = 0.954\n",
      "total time = 10.325, train time/epoch = 0.05558, best_val_f1 (micro) = 0.950, test_f1 (micro) = 0.951\n",
      "total time = 9.778, train time/epoch = 0.05593, best_val_f1 (micro) = 0.963, test_f1 (micro) = 0.953\n",
      "total time = 10.518, train time/epoch = 0.05588, best_val_f1 (micro) = 0.958, test_f1 (micro) = 0.950\n",
      "total time = 10.877, train time/epoch = 0.05573, best_val_f1 (micro) = 0.955, test_f1 (micro) = 0.949\n",
      "total time = 10.255, train time/epoch = 0.05561, best_val_f1 (micro) = 0.950, test_f1 (micro) = 0.951\n",
      "total time = 11.154, train time/epoch = 0.05568, best_val_f1 (micro) = 0.963, test_f1 (micro) = 0.946\n",
      "total time = 10.393, train time/epoch = 0.05556, best_val_f1 (micro) = 0.965, test_f1 (micro) = 0.952\n",
      "total time = 11.374, train time/epoch = 0.05600, best_val_f1 (micro) = 0.965, test_f1 (micro) = 0.951\n",
      "total time = 10.406, train time/epoch = 0.05565, best_val_f1 (micro) = 0.960, test_f1 (micro) = 0.952\n",
      "test micro-f1 (mean, std):  0.9512658966281647 0.002494200468473608\n",
      "test micro-f1 (mean, std) after filter:  0.9515371601913429 0.0015087986284992479\n"
     ]
    }
   ],
   "source": [
    "f1s = []\n",
    "datasets = ['ACM', 'IMDB', 'DBLP']\n",
    "for dataset in datasets:\n",
    "    args.data = dataset\n",
    "    if dataset == 'ACM':\n",
    "        args.dropout = 0.8\n",
    "        args.dropout2 = 0.2\n",
    "        args.target_node_type = 'paper'\n",
    "        print('\\nstart testing on ' + dataset + ' dataset')\n",
    "        f1s.append(main(args))\n",
    "    elif dataset == 'IMDB':\n",
    "        args.dropout = 0.8\n",
    "        args.dropout2 = 0.2\n",
    "        args.target_node_type = 'movie'\n",
    "        print('\\nstart testing on ' + dataset + ' dataset')\n",
    "        f1s.append(main(args))\n",
    "    elif dataset == 'DBLP':\n",
    "        args.dropout = 0\n",
    "        args.dropout2 = 0\n",
    "        args.target_node_type = 'author'\n",
    "        print('\\nstart testing on ' + dataset + ' dataset')\n",
    "        f1s.append(main(args))"
   ]
  },
  {
   "cell_type": "code",
   "execution_count": 4,
   "metadata": {},
   "outputs": [],
   "source": [
    "f1s = np.array(f1s)"
   ]
  },
  {
   "cell_type": "code",
   "execution_count": null,
   "metadata": {},
   "outputs": [],
   "source": []
  }
 ],
 "metadata": {
  "kernelspec": {
   "display_name": "Python 3",
   "language": "python",
   "name": "python3"
  },
  "language_info": {
   "codemirror_mode": {
    "name": "ipython",
    "version": 3
   },
   "file_extension": ".py",
   "mimetype": "text/x-python",
   "name": "python",
   "nbconvert_exporter": "python",
   "pygments_lexer": "ipython3",
   "version": "3.8.8"
  }
 },
 "nbformat": 4,
 "nbformat_minor": 4
}
