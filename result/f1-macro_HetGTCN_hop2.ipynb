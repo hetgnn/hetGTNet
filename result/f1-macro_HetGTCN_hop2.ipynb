{
 "cells": [
  {
   "cell_type": "code",
   "execution_count": 1,
   "metadata": {},
   "outputs": [
    {
     "name": "stderr",
     "output_type": "stream",
     "text": [
      "Using backend: pytorch\n"
     ]
    }
   ],
   "source": [
    "root_dir = '..' # dir of the source code\n",
    "import sys\n",
    "sys.path.append(root_dir)\n",
    "from train import main\n",
    "import numpy as np"
   ]
  },
  {
   "cell_type": "code",
   "execution_count": 2,
   "metadata": {},
   "outputs": [],
   "source": [
    "class config:\n",
    "    data = 'ACM'\n",
    "    data_path = '../data/preprocessed/'\n",
    "    model = 'HetGTCN'\n",
    "    target_node_type = 'paper'\n",
    "    n_hid = 64\n",
    "    dropout = 0.8\n",
    "    dropout2 = 0.6\n",
    "    learning_rate = 0.005\n",
    "    weight_decay = 1e-5\n",
    "    patience = 100\n",
    "    num_iter = 500\n",
    "    num_test = 30\n",
    "    hop = 2\n",
    "    filter_pct = 0.1 # remove the top and bottom filer_pct points before obtaining statistics of test accuracy\n",
    "    log_step = 1000 # training log step\n",
    "    layer_wise = True\n",
    "    average = 'macro' # 'f1 average: can choose either macro or micro.'\n",
    "\n",
    "args = config()"
   ]
  },
  {
   "cell_type": "code",
   "execution_count": 3,
   "metadata": {
    "scrolled": false
   },
   "outputs": [
    {
     "name": "stdout",
     "output_type": "stream",
     "text": [
      "\n",
      "start testing on ACM dataset\n",
      "total time = 6.488, train time/epoch = 0.02056, best_val_f1 (macro) = 0.930, test_f1 (macro) = 0.929\n",
      "total time = 7.574, train time/epoch = 0.01639, best_val_f1 (macro) = 0.933, test_f1 (macro) = 0.920\n",
      "total time = 6.698, train time/epoch = 0.01594, best_val_f1 (macro) = 0.933, test_f1 (macro) = 0.921\n",
      "total time = 6.231, train time/epoch = 0.01597, best_val_f1 (macro) = 0.937, test_f1 (macro) = 0.920\n",
      "total time = 6.241, train time/epoch = 0.01581, best_val_f1 (macro) = 0.933, test_f1 (macro) = 0.923\n",
      "total time = 8.149, train time/epoch = 0.01604, best_val_f1 (macro) = 0.930, test_f1 (macro) = 0.924\n",
      "total time = 6.179, train time/epoch = 0.01639, best_val_f1 (macro) = 0.937, test_f1 (macro) = 0.925\n",
      "total time = 3.702, train time/epoch = 0.01620, best_val_f1 (macro) = 0.930, test_f1 (macro) = 0.922\n",
      "total time = 5.286, train time/epoch = 0.01663, best_val_f1 (macro) = 0.933, test_f1 (macro) = 0.924\n",
      "total time = 3.885, train time/epoch = 0.01613, best_val_f1 (macro) = 0.930, test_f1 (macro) = 0.918\n",
      "total time = 2.926, train time/epoch = 0.01593, best_val_f1 (macro) = 0.933, test_f1 (macro) = 0.912\n",
      "total time = 5.022, train time/epoch = 0.01607, best_val_f1 (macro) = 0.927, test_f1 (macro) = 0.923\n",
      "total time = 9.986, train time/epoch = 0.01665, best_val_f1 (macro) = 0.933, test_f1 (macro) = 0.924\n",
      "total time = 3.702, train time/epoch = 0.01755, best_val_f1 (macro) = 0.930, test_f1 (macro) = 0.920\n",
      "total time = 7.377, train time/epoch = 0.01619, best_val_f1 (macro) = 0.933, test_f1 (macro) = 0.922\n",
      "total time = 8.591, train time/epoch = 0.01655, best_val_f1 (macro) = 0.933, test_f1 (macro) = 0.921\n",
      "total time = 2.852, train time/epoch = 0.01623, best_val_f1 (macro) = 0.930, test_f1 (macro) = 0.913\n",
      "total time = 4.030, train time/epoch = 0.01659, best_val_f1 (macro) = 0.937, test_f1 (macro) = 0.931\n",
      "total time = 4.176, train time/epoch = 0.01715, best_val_f1 (macro) = 0.933, test_f1 (macro) = 0.918\n",
      "total time = 3.169, train time/epoch = 0.01645, best_val_f1 (macro) = 0.927, test_f1 (macro) = 0.925\n",
      "total time = 6.627, train time/epoch = 0.01656, best_val_f1 (macro) = 0.933, test_f1 (macro) = 0.927\n",
      "total time = 6.382, train time/epoch = 0.01673, best_val_f1 (macro) = 0.930, test_f1 (macro) = 0.926\n",
      "total time = 6.340, train time/epoch = 0.01609, best_val_f1 (macro) = 0.933, test_f1 (macro) = 0.922\n",
      "total time = 6.349, train time/epoch = 0.01672, best_val_f1 (macro) = 0.933, test_f1 (macro) = 0.923\n",
      "total time = 2.683, train time/epoch = 0.01584, best_val_f1 (macro) = 0.927, test_f1 (macro) = 0.900\n",
      "total time = 5.136, train time/epoch = 0.01550, best_val_f1 (macro) = 0.930, test_f1 (macro) = 0.926\n",
      "total time = 4.797, train time/epoch = 0.01618, best_val_f1 (macro) = 0.933, test_f1 (macro) = 0.929\n",
      "total time = 3.570, train time/epoch = 0.01639, best_val_f1 (macro) = 0.933, test_f1 (macro) = 0.920\n",
      "total time = 6.150, train time/epoch = 0.01577, best_val_f1 (macro) = 0.933, test_f1 (macro) = 0.923\n",
      "total time = 4.987, train time/epoch = 0.01572, best_val_f1 (macro) = 0.930, test_f1 (macro) = 0.924\n",
      "test macro-f1 (mean, std):  0.9218426945917245 0.0057256714024541714\n",
      "test macro-f1 (mean, std) after filter:  0.9225916927219192 0.0023623411460283227\n",
      "\n",
      "start testing on IMDB dataset\n",
      "total time = 4.341, train time/epoch = 0.01564, best_val_f1 (macro) = 0.632, test_f1 (macro) = 0.609\n",
      "total time = 6.008, train time/epoch = 0.01568, best_val_f1 (macro) = 0.625, test_f1 (macro) = 0.592\n",
      "total time = 3.803, train time/epoch = 0.01621, best_val_f1 (macro) = 0.635, test_f1 (macro) = 0.599\n",
      "total time = 4.431, train time/epoch = 0.01609, best_val_f1 (macro) = 0.628, test_f1 (macro) = 0.603\n",
      "total time = 10.999, train time/epoch = 0.01609, best_val_f1 (macro) = 0.644, test_f1 (macro) = 0.594\n",
      "total time = 4.064, train time/epoch = 0.01565, best_val_f1 (macro) = 0.626, test_f1 (macro) = 0.595\n",
      "total time = 3.844, train time/epoch = 0.01571, best_val_f1 (macro) = 0.631, test_f1 (macro) = 0.599\n",
      "total time = 6.418, train time/epoch = 0.01616, best_val_f1 (macro) = 0.627, test_f1 (macro) = 0.599\n",
      "total time = 3.748, train time/epoch = 0.01610, best_val_f1 (macro) = 0.633, test_f1 (macro) = 0.606\n",
      "total time = 5.308, train time/epoch = 0.01593, best_val_f1 (macro) = 0.634, test_f1 (macro) = 0.599\n",
      "total time = 3.562, train time/epoch = 0.01580, best_val_f1 (macro) = 0.629, test_f1 (macro) = 0.611\n",
      "total time = 7.529, train time/epoch = 0.01615, best_val_f1 (macro) = 0.631, test_f1 (macro) = 0.602\n",
      "total time = 6.883, train time/epoch = 0.01618, best_val_f1 (macro) = 0.629, test_f1 (macro) = 0.598\n",
      "total time = 4.050, train time/epoch = 0.01657, best_val_f1 (macro) = 0.616, test_f1 (macro) = 0.584\n",
      "total time = 3.912, train time/epoch = 0.01625, best_val_f1 (macro) = 0.653, test_f1 (macro) = 0.606\n",
      "total time = 3.490, train time/epoch = 0.01568, best_val_f1 (macro) = 0.639, test_f1 (macro) = 0.608\n",
      "total time = 6.968, train time/epoch = 0.01643, best_val_f1 (macro) = 0.637, test_f1 (macro) = 0.601\n",
      "total time = 3.965, train time/epoch = 0.01585, best_val_f1 (macro) = 0.617, test_f1 (macro) = 0.604\n",
      "total time = 3.690, train time/epoch = 0.01572, best_val_f1 (macro) = 0.628, test_f1 (macro) = 0.593\n",
      "total time = 5.660, train time/epoch = 0.01595, best_val_f1 (macro) = 0.633, test_f1 (macro) = 0.603\n",
      "total time = 3.519, train time/epoch = 0.01588, best_val_f1 (macro) = 0.658, test_f1 (macro) = 0.600\n",
      "total time = 3.855, train time/epoch = 0.01580, best_val_f1 (macro) = 0.637, test_f1 (macro) = 0.605\n",
      "total time = 3.850, train time/epoch = 0.01583, best_val_f1 (macro) = 0.650, test_f1 (macro) = 0.610\n",
      "total time = 5.746, train time/epoch = 0.01595, best_val_f1 (macro) = 0.634, test_f1 (macro) = 0.600\n",
      "total time = 7.751, train time/epoch = 0.01605, best_val_f1 (macro) = 0.610, test_f1 (macro) = 0.587\n",
      "total time = 5.003, train time/epoch = 0.01591, best_val_f1 (macro) = 0.620, test_f1 (macro) = 0.609\n",
      "total time = 4.723, train time/epoch = 0.01615, best_val_f1 (macro) = 0.642, test_f1 (macro) = 0.609\n",
      "total time = 3.048, train time/epoch = 0.01620, best_val_f1 (macro) = 0.634, test_f1 (macro) = 0.594\n",
      "total time = 4.061, train time/epoch = 0.01601, best_val_f1 (macro) = 0.614, test_f1 (macro) = 0.582\n",
      "total time = 3.870, train time/epoch = 0.01581, best_val_f1 (macro) = 0.631, test_f1 (macro) = 0.605\n",
      "test macro-f1 (mean, std):  0.6002380721391631 0.00749658226968883\n",
      "test macro-f1 (mean, std) after filter:  0.6009977568547835 0.004937396361632808\n",
      "\n",
      "start testing on DBLP dataset\n",
      "total time = 13.792, train time/epoch = 0.02144, best_val_f1 (macro) = 0.945, test_f1 (macro) = 0.936\n",
      "total time = 15.572, train time/epoch = 0.02133, best_val_f1 (macro) = 0.945, test_f1 (macro) = 0.937\n",
      "total time = 17.528, train time/epoch = 0.02112, best_val_f1 (macro) = 0.940, test_f1 (macro) = 0.939\n",
      "total time = 17.569, train time/epoch = 0.02112, best_val_f1 (macro) = 0.950, test_f1 (macro) = 0.939\n",
      "total time = 17.079, train time/epoch = 0.02051, best_val_f1 (macro) = 0.952, test_f1 (macro) = 0.936\n",
      "total time = 17.595, train time/epoch = 0.02118, best_val_f1 (macro) = 0.942, test_f1 (macro) = 0.932\n",
      "total time = 17.627, train time/epoch = 0.02122, best_val_f1 (macro) = 0.947, test_f1 (macro) = 0.933\n",
      "total time = 15.916, train time/epoch = 0.02086, best_val_f1 (macro) = 0.950, test_f1 (macro) = 0.939\n",
      "total time = 17.473, train time/epoch = 0.02111, best_val_f1 (macro) = 0.945, test_f1 (macro) = 0.938\n",
      "total time = 16.118, train time/epoch = 0.02157, best_val_f1 (macro) = 0.942, test_f1 (macro) = 0.937\n",
      "total time = 11.148, train time/epoch = 0.02090, best_val_f1 (macro) = 0.940, test_f1 (macro) = 0.935\n",
      "total time = 17.435, train time/epoch = 0.02095, best_val_f1 (macro) = 0.943, test_f1 (macro) = 0.939\n",
      "total time = 17.661, train time/epoch = 0.02123, best_val_f1 (macro) = 0.950, test_f1 (macro) = 0.936\n",
      "total time = 17.491, train time/epoch = 0.02105, best_val_f1 (macro) = 0.942, test_f1 (macro) = 0.938\n",
      "total time = 17.458, train time/epoch = 0.02119, best_val_f1 (macro) = 0.950, test_f1 (macro) = 0.941\n",
      "total time = 17.700, train time/epoch = 0.02128, best_val_f1 (macro) = 0.948, test_f1 (macro) = 0.934\n",
      "total time = 14.445, train time/epoch = 0.02185, best_val_f1 (macro) = 0.953, test_f1 (macro) = 0.938\n",
      "total time = 15.131, train time/epoch = 0.02105, best_val_f1 (macro) = 0.948, test_f1 (macro) = 0.938\n"
     ]
    },
    {
     "name": "stdout",
     "output_type": "stream",
     "text": [
      "total time = 17.262, train time/epoch = 0.02074, best_val_f1 (macro) = 0.945, test_f1 (macro) = 0.935\n",
      "total time = 17.659, train time/epoch = 0.02125, best_val_f1 (macro) = 0.952, test_f1 (macro) = 0.941\n",
      "total time = 13.519, train time/epoch = 0.02091, best_val_f1 (macro) = 0.945, test_f1 (macro) = 0.939\n",
      "total time = 17.314, train time/epoch = 0.02108, best_val_f1 (macro) = 0.947, test_f1 (macro) = 0.938\n",
      "total time = 17.956, train time/epoch = 0.02157, best_val_f1 (macro) = 0.945, test_f1 (macro) = 0.937\n",
      "total time = 11.508, train time/epoch = 0.02092, best_val_f1 (macro) = 0.937, test_f1 (macro) = 0.931\n",
      "total time = 14.862, train time/epoch = 0.02116, best_val_f1 (macro) = 0.938, test_f1 (macro) = 0.931\n",
      "total time = 16.150, train time/epoch = 0.02126, best_val_f1 (macro) = 0.945, test_f1 (macro) = 0.934\n",
      "total time = 15.763, train time/epoch = 0.02083, best_val_f1 (macro) = 0.947, test_f1 (macro) = 0.940\n",
      "total time = 17.297, train time/epoch = 0.02122, best_val_f1 (macro) = 0.948, test_f1 (macro) = 0.932\n",
      "total time = 16.678, train time/epoch = 0.02134, best_val_f1 (macro) = 0.950, test_f1 (macro) = 0.939\n",
      "total time = 18.236, train time/epoch = 0.02191, best_val_f1 (macro) = 0.940, test_f1 (macro) = 0.937\n",
      "test macro-f1 (mean, std):  0.9365858817422003 0.0027771024419172147\n",
      "test macro-f1 (mean, std) after filter:  0.9367378693827249 0.001910790368351132\n"
     ]
    }
   ],
   "source": [
    "f1s = []\n",
    "datasets = ['ACM', 'IMDB', 'DBLP']\n",
    "for dataset in datasets:\n",
    "    args.data = dataset\n",
    "    if dataset == 'ACM':\n",
    "        args.target_node_type = 'paper'\n",
    "        print('\\nstart testing on ' + dataset + ' dataset')\n",
    "        f1s.append(main(args))\n",
    "    elif dataset == 'IMDB':\n",
    "        args.target_node_type = 'movie'\n",
    "        print('\\nstart testing on ' + dataset + ' dataset')\n",
    "        f1s.append(main(args))\n",
    "    elif dataset == 'DBLP':\n",
    "        args.target_node_type = 'author'\n",
    "        print('\\nstart testing on ' + dataset + ' dataset')\n",
    "        f1s.append(main(args))"
   ]
  },
  {
   "cell_type": "code",
   "execution_count": 4,
   "metadata": {},
   "outputs": [],
   "source": [
    "f1s = np.array(f1s)"
   ]
  },
  {
   "cell_type": "code",
   "execution_count": null,
   "metadata": {},
   "outputs": [],
   "source": []
  }
 ],
 "metadata": {
  "kernelspec": {
   "display_name": "Python 3",
   "language": "python",
   "name": "python3"
  },
  "language_info": {
   "codemirror_mode": {
    "name": "ipython",
    "version": 3
   },
   "file_extension": ".py",
   "mimetype": "text/x-python",
   "name": "python",
   "nbconvert_exporter": "python",
   "pygments_lexer": "ipython3",
   "version": "3.8.8"
  }
 },
 "nbformat": 4,
 "nbformat_minor": 4
}
