{
 "cells": [
  {
   "cell_type": "code",
   "execution_count": 1,
   "metadata": {},
   "outputs": [
    {
     "name": "stderr",
     "output_type": "stream",
     "text": [
      "Using backend: pytorch\n"
     ]
    }
   ],
   "source": [
    "root_dir = '..' # dir of the source code\n",
    "import sys\n",
    "sys.path.append(root_dir)\n",
    "from train import main\n",
    "import numpy as np"
   ]
  },
  {
   "cell_type": "code",
   "execution_count": 2,
   "metadata": {},
   "outputs": [],
   "source": [
    "class config:\n",
    "    data = 'ACM'\n",
    "    data_path = '../data/preprocessed/'\n",
    "    model = 'HetGTAN_mean'\n",
    "    target_node_type = 'paper'\n",
    "    n_hid = 64\n",
    "    dropout = 0.8\n",
    "    dropout2 = 0.2\n",
    "    learning_rate = 0.005\n",
    "    weight_decay = 5e-5\n",
    "    patience = 100\n",
    "    num_iter = 500\n",
    "    num_test = 30\n",
    "    hop = 5\n",
    "    filter_pct = 0.1 # remove the top and bottom filer_pct points before obtaining statistics of test accuracy\n",
    "    log_step = 1000 # training log step\n",
    "    layer_wise = True\n",
    "    average = 'macro' # 'f1 average: can choose either macro or micro.'\n",
    "\n",
    "args = config()"
   ]
  },
  {
   "cell_type": "code",
   "execution_count": 3,
   "metadata": {
    "scrolled": false
   },
   "outputs": [
    {
     "name": "stdout",
     "output_type": "stream",
     "text": [
      "\n",
      "start testing on ACM dataset\n",
      "total time = 5.633, train time/epoch = 0.03449, best_val_f1 (macro) = 0.923, test_f1 (macro) = 0.895\n",
      "total time = 8.267, train time/epoch = 0.02955, best_val_f1 (macro) = 0.930, test_f1 (macro) = 0.921\n",
      "total time = 9.762, train time/epoch = 0.02937, best_val_f1 (macro) = 0.930, test_f1 (macro) = 0.919\n",
      "total time = 12.013, train time/epoch = 0.02928, best_val_f1 (macro) = 0.933, test_f1 (macro) = 0.909\n",
      "total time = 7.533, train time/epoch = 0.03062, best_val_f1 (macro) = 0.930, test_f1 (macro) = 0.924\n",
      "total time = 6.364, train time/epoch = 0.03059, best_val_f1 (macro) = 0.937, test_f1 (macro) = 0.918\n",
      "total time = 4.586, train time/epoch = 0.03010, best_val_f1 (macro) = 0.930, test_f1 (macro) = 0.919\n",
      "total time = 8.970, train time/epoch = 0.03031, best_val_f1 (macro) = 0.933, test_f1 (macro) = 0.910\n",
      "total time = 6.113, train time/epoch = 0.02923, best_val_f1 (macro) = 0.933, test_f1 (macro) = 0.920\n",
      "total time = 6.246, train time/epoch = 0.02954, best_val_f1 (macro) = 0.930, test_f1 (macro) = 0.919\n",
      "total time = 4.285, train time/epoch = 0.02943, best_val_f1 (macro) = 0.930, test_f1 (macro) = 0.917\n",
      "total time = 5.695, train time/epoch = 0.02965, best_val_f1 (macro) = 0.927, test_f1 (macro) = 0.918\n",
      "total time = 5.581, train time/epoch = 0.02942, best_val_f1 (macro) = 0.934, test_f1 (macro) = 0.919\n",
      "total time = 6.685, train time/epoch = 0.02999, best_val_f1 (macro) = 0.927, test_f1 (macro) = 0.920\n",
      "total time = 5.761, train time/epoch = 0.02954, best_val_f1 (macro) = 0.930, test_f1 (macro) = 0.923\n",
      "total time = 6.429, train time/epoch = 0.02982, best_val_f1 (macro) = 0.927, test_f1 (macro) = 0.924\n",
      "total time = 7.438, train time/epoch = 0.03003, best_val_f1 (macro) = 0.924, test_f1 (macro) = 0.930\n",
      "total time = 4.240, train time/epoch = 0.02936, best_val_f1 (macro) = 0.923, test_f1 (macro) = 0.916\n",
      "total time = 6.408, train time/epoch = 0.02941, best_val_f1 (macro) = 0.930, test_f1 (macro) = 0.923\n",
      "total time = 6.525, train time/epoch = 0.02971, best_val_f1 (macro) = 0.930, test_f1 (macro) = 0.923\n",
      "total time = 5.423, train time/epoch = 0.02947, best_val_f1 (macro) = 0.927, test_f1 (macro) = 0.924\n",
      "total time = 5.429, train time/epoch = 0.02931, best_val_f1 (macro) = 0.927, test_f1 (macro) = 0.928\n",
      "total time = 6.828, train time/epoch = 0.03009, best_val_f1 (macro) = 0.927, test_f1 (macro) = 0.920\n",
      "total time = 9.753, train time/epoch = 0.02947, best_val_f1 (macro) = 0.940, test_f1 (macro) = 0.914\n",
      "total time = 6.111, train time/epoch = 0.02984, best_val_f1 (macro) = 0.930, test_f1 (macro) = 0.920\n",
      "total time = 6.306, train time/epoch = 0.02969, best_val_f1 (macro) = 0.934, test_f1 (macro) = 0.927\n",
      "total time = 11.668, train time/epoch = 0.02955, best_val_f1 (macro) = 0.937, test_f1 (macro) = 0.903\n",
      "total time = 5.805, train time/epoch = 0.02945, best_val_f1 (macro) = 0.933, test_f1 (macro) = 0.917\n",
      "total time = 4.681, train time/epoch = 0.03092, best_val_f1 (macro) = 0.930, test_f1 (macro) = 0.919\n",
      "total time = 4.272, train time/epoch = 0.02929, best_val_f1 (macro) = 0.930, test_f1 (macro) = 0.919\n",
      "test macro-f1 (mean, std):  0.918586905608091 0.007042829623215143\n",
      "test macro-f1 (mean, std) after filter:  0.9193933034867587 0.0031951520320337256\n",
      "\n",
      "start testing on IMDB dataset\n",
      "total time = 5.219, train time/epoch = 0.02454, best_val_f1 (macro) = 0.630, test_f1 (macro) = 0.595\n",
      "total time = 4.964, train time/epoch = 0.02393, best_val_f1 (macro) = 0.650, test_f1 (macro) = 0.614\n",
      "total time = 4.803, train time/epoch = 0.02340, best_val_f1 (macro) = 0.646, test_f1 (macro) = 0.622\n",
      "total time = 5.602, train time/epoch = 0.02360, best_val_f1 (macro) = 0.636, test_f1 (macro) = 0.591\n",
      "total time = 5.355, train time/epoch = 0.02341, best_val_f1 (macro) = 0.650, test_f1 (macro) = 0.609\n",
      "total time = 5.643, train time/epoch = 0.02377, best_val_f1 (macro) = 0.643, test_f1 (macro) = 0.598\n",
      "total time = 5.079, train time/epoch = 0.02491, best_val_f1 (macro) = 0.638, test_f1 (macro) = 0.609\n",
      "total time = 5.037, train time/epoch = 0.02336, best_val_f1 (macro) = 0.641, test_f1 (macro) = 0.598\n",
      "total time = 4.707, train time/epoch = 0.02316, best_val_f1 (macro) = 0.650, test_f1 (macro) = 0.615\n",
      "total time = 4.396, train time/epoch = 0.02322, best_val_f1 (macro) = 0.641, test_f1 (macro) = 0.606\n",
      "total time = 3.855, train time/epoch = 0.02388, best_val_f1 (macro) = 0.658, test_f1 (macro) = 0.605\n",
      "total time = 4.820, train time/epoch = 0.02335, best_val_f1 (macro) = 0.639, test_f1 (macro) = 0.620\n",
      "total time = 4.493, train time/epoch = 0.02336, best_val_f1 (macro) = 0.638, test_f1 (macro) = 0.611\n",
      "total time = 4.515, train time/epoch = 0.02328, best_val_f1 (macro) = 0.652, test_f1 (macro) = 0.614\n",
      "total time = 5.053, train time/epoch = 0.02320, best_val_f1 (macro) = 0.636, test_f1 (macro) = 0.610\n",
      "total time = 4.725, train time/epoch = 0.02317, best_val_f1 (macro) = 0.635, test_f1 (macro) = 0.622\n",
      "total time = 4.614, train time/epoch = 0.02319, best_val_f1 (macro) = 0.649, test_f1 (macro) = 0.612\n",
      "total time = 4.677, train time/epoch = 0.02339, best_val_f1 (macro) = 0.636, test_f1 (macro) = 0.596\n",
      "total time = 4.957, train time/epoch = 0.02344, best_val_f1 (macro) = 0.640, test_f1 (macro) = 0.609\n",
      "total time = 5.922, train time/epoch = 0.02323, best_val_f1 (macro) = 0.633, test_f1 (macro) = 0.602\n",
      "total time = 3.759, train time/epoch = 0.02356, best_val_f1 (macro) = 0.626, test_f1 (macro) = 0.582\n",
      "total time = 4.679, train time/epoch = 0.02419, best_val_f1 (macro) = 0.635, test_f1 (macro) = 0.612\n",
      "total time = 4.985, train time/epoch = 0.02322, best_val_f1 (macro) = 0.642, test_f1 (macro) = 0.615\n",
      "total time = 4.966, train time/epoch = 0.02361, best_val_f1 (macro) = 0.638, test_f1 (macro) = 0.617\n",
      "total time = 4.956, train time/epoch = 0.02354, best_val_f1 (macro) = 0.644, test_f1 (macro) = 0.612\n",
      "total time = 4.783, train time/epoch = 0.02340, best_val_f1 (macro) = 0.647, test_f1 (macro) = 0.608\n",
      "total time = 4.840, train time/epoch = 0.02345, best_val_f1 (macro) = 0.637, test_f1 (macro) = 0.617\n",
      "total time = 4.788, train time/epoch = 0.02316, best_val_f1 (macro) = 0.645, test_f1 (macro) = 0.620\n",
      "total time = 5.384, train time/epoch = 0.02341, best_val_f1 (macro) = 0.632, test_f1 (macro) = 0.598\n",
      "total time = 4.238, train time/epoch = 0.02319, best_val_f1 (macro) = 0.653, test_f1 (macro) = 0.613\n",
      "test macro-f1 (mean, std):  0.6083580724104388 0.009494336551574905\n",
      "test macro-f1 (mean, std) after filter:  0.60913343237517 0.0065118978616461164\n",
      "\n",
      "start testing on DBLP dataset\n",
      "total time = 9.157, train time/epoch = 0.04362, best_val_f1 (macro) = 0.955, test_f1 (macro) = 0.938\n",
      "total time = 7.774, train time/epoch = 0.04379, best_val_f1 (macro) = 0.958, test_f1 (macro) = 0.944\n",
      "total time = 8.388, train time/epoch = 0.04400, best_val_f1 (macro) = 0.958, test_f1 (macro) = 0.945\n",
      "total time = 8.982, train time/epoch = 0.04433, best_val_f1 (macro) = 0.955, test_f1 (macro) = 0.942\n",
      "total time = 8.280, train time/epoch = 0.04401, best_val_f1 (macro) = 0.960, test_f1 (macro) = 0.945\n",
      "total time = 9.111, train time/epoch = 0.04409, best_val_f1 (macro) = 0.955, test_f1 (macro) = 0.941\n",
      "total time = 8.077, train time/epoch = 0.04388, best_val_f1 (macro) = 0.955, test_f1 (macro) = 0.947\n",
      "total time = 7.731, train time/epoch = 0.04387, best_val_f1 (macro) = 0.958, test_f1 (macro) = 0.946\n",
      "total time = 8.511, train time/epoch = 0.04404, best_val_f1 (macro) = 0.958, test_f1 (macro) = 0.945\n",
      "total time = 8.223, train time/epoch = 0.04461, best_val_f1 (macro) = 0.958, test_f1 (macro) = 0.949\n",
      "total time = 8.710, train time/epoch = 0.04453, best_val_f1 (macro) = 0.965, test_f1 (macro) = 0.944\n",
      "total time = 8.409, train time/epoch = 0.04410, best_val_f1 (macro) = 0.963, test_f1 (macro) = 0.947\n",
      "total time = 8.606, train time/epoch = 0.04488, best_val_f1 (macro) = 0.960, test_f1 (macro) = 0.947\n",
      "total time = 8.011, train time/epoch = 0.04455, best_val_f1 (macro) = 0.958, test_f1 (macro) = 0.944\n",
      "total time = 8.809, train time/epoch = 0.04502, best_val_f1 (macro) = 0.955, test_f1 (macro) = 0.947\n",
      "total time = 8.556, train time/epoch = 0.04591, best_val_f1 (macro) = 0.955, test_f1 (macro) = 0.949\n",
      "total time = 8.056, train time/epoch = 0.04407, best_val_f1 (macro) = 0.955, test_f1 (macro) = 0.944\n",
      "total time = 8.086, train time/epoch = 0.04492, best_val_f1 (macro) = 0.948, test_f1 (macro) = 0.943\n"
     ]
    },
    {
     "name": "stdout",
     "output_type": "stream",
     "text": [
      "total time = 7.951, train time/epoch = 0.04454, best_val_f1 (macro) = 0.955, test_f1 (macro) = 0.944\n",
      "total time = 9.053, train time/epoch = 0.04708, best_val_f1 (macro) = 0.955, test_f1 (macro) = 0.942\n",
      "total time = 9.852, train time/epoch = 0.04480, best_val_f1 (macro) = 0.963, test_f1 (macro) = 0.940\n",
      "total time = 8.447, train time/epoch = 0.04540, best_val_f1 (macro) = 0.953, test_f1 (macro) = 0.942\n",
      "total time = 9.531, train time/epoch = 0.04464, best_val_f1 (macro) = 0.958, test_f1 (macro) = 0.942\n",
      "total time = 8.760, train time/epoch = 0.04441, best_val_f1 (macro) = 0.955, test_f1 (macro) = 0.944\n",
      "total time = 9.352, train time/epoch = 0.04467, best_val_f1 (macro) = 0.955, test_f1 (macro) = 0.941\n",
      "total time = 8.494, train time/epoch = 0.04418, best_val_f1 (macro) = 0.953, test_f1 (macro) = 0.945\n",
      "total time = 8.081, train time/epoch = 0.04385, best_val_f1 (macro) = 0.958, test_f1 (macro) = 0.943\n",
      "total time = 8.577, train time/epoch = 0.04395, best_val_f1 (macro) = 0.953, test_f1 (macro) = 0.945\n",
      "total time = 9.250, train time/epoch = 0.04451, best_val_f1 (macro) = 0.958, test_f1 (macro) = 0.940\n",
      "total time = 8.188, train time/epoch = 0.04474, best_val_f1 (macro) = 0.955, test_f1 (macro) = 0.946\n",
      "test macro-f1 (mean, std):  0.9439886679597084 0.002578998881359113\n",
      "test macro-f1 (mean, std) after filter:  0.9440335827815506 0.0017229126681097043\n"
     ]
    }
   ],
   "source": [
    "f1s = []\n",
    "datasets = ['ACM', 'IMDB', 'DBLP']\n",
    "for dataset in datasets:\n",
    "    args.data = dataset\n",
    "    if dataset == 'ACM':\n",
    "        args.dropout = 0.8\n",
    "        args.dropout2 = 0.2\n",
    "        args.target_node_type = 'paper'\n",
    "        print('\\nstart testing on ' + dataset + ' dataset')\n",
    "        f1s.append(main(args))\n",
    "    elif dataset == 'IMDB':\n",
    "        args.dropout = 0.8\n",
    "        args.dropout2 = 0.2\n",
    "        args.target_node_type = 'movie'\n",
    "        print('\\nstart testing on ' + dataset + ' dataset')\n",
    "        f1s.append(main(args))\n",
    "    elif dataset == 'DBLP':\n",
    "        args.dropout = 0\n",
    "        args.dropout2 = 0\n",
    "        args.target_node_type = 'author'\n",
    "        print('\\nstart testing on ' + dataset + ' dataset')\n",
    "        f1s.append(main(args))"
   ]
  },
  {
   "cell_type": "code",
   "execution_count": 4,
   "metadata": {},
   "outputs": [],
   "source": [
    "f1s = np.array(f1s)"
   ]
  },
  {
   "cell_type": "code",
   "execution_count": null,
   "metadata": {},
   "outputs": [],
   "source": []
  }
 ],
 "metadata": {
  "kernelspec": {
   "display_name": "Python 3",
   "language": "python",
   "name": "python3"
  },
  "language_info": {
   "codemirror_mode": {
    "name": "ipython",
    "version": 3
   },
   "file_extension": ".py",
   "mimetype": "text/x-python",
   "name": "python",
   "nbconvert_exporter": "python",
   "pygments_lexer": "ipython3",
   "version": "3.8.8"
  }
 },
 "nbformat": 4,
 "nbformat_minor": 4
}
