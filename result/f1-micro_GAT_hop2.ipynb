{
 "cells": [
  {
   "cell_type": "code",
   "execution_count": 1,
   "metadata": {},
   "outputs": [
    {
     "name": "stderr",
     "output_type": "stream",
     "text": [
      "Using backend: pytorch\n"
     ]
    }
   ],
   "source": [
    "root_dir = '..' # dir of the source code\n",
    "import sys\n",
    "sys.path.append(root_dir)\n",
    "from train_homo import main\n",
    "import numpy as np"
   ]
  },
  {
   "cell_type": "code",
   "execution_count": 2,
   "metadata": {},
   "outputs": [],
   "source": [
    "class config:\n",
    "    data = 'ACM'\n",
    "    data_path = '../data/preprocessed/'\n",
    "    model = 'GAT'\n",
    "    n_hid = 64\n",
    "    num_heads = 1\n",
    "    num_out_heads = 1\n",
    "    dropout = 0.8\n",
    "    dropout2 = 0.2\n",
    "    learning_rate = 0.005\n",
    "    weight_decay = 5e-5\n",
    "    patience = 100\n",
    "    num_iter = 500\n",
    "    num_test = 30\n",
    "    hop = 2\n",
    "    filter_pct = 0.1 # remove the top and bottom filer_pct points before obtaining statistics of test accuracy\n",
    "    log_step = 1000 # training log step\n",
    "    average = 'micro' # 'f1 average: can choose either macro or micro.'\n",
    "\n",
    "args = config()"
   ]
  },
  {
   "cell_type": "code",
   "execution_count": 3,
   "metadata": {
    "scrolled": false
   },
   "outputs": [
    {
     "name": "stdout",
     "output_type": "stream",
     "text": [
      "\n",
      "start testing on ACM dataset\n",
      "total time = 3.148, train time/epoch = 0.01762, best_val_f1 (micro) = 0.927, test_f1 (micro) = 0.915\n",
      "total time = 1.382, train time/epoch = 0.00604, best_val_f1 (micro) = 0.913, test_f1 (micro) = 0.918\n",
      "total time = 1.472, train time/epoch = 0.00610, best_val_f1 (micro) = 0.927, test_f1 (micro) = 0.924\n",
      "total time = 1.523, train time/epoch = 0.00606, best_val_f1 (micro) = 0.927, test_f1 (micro) = 0.920\n",
      "total time = 1.518, train time/epoch = 0.00605, best_val_f1 (micro) = 0.933, test_f1 (micro) = 0.914\n",
      "total time = 1.276, train time/epoch = 0.00606, best_val_f1 (micro) = 0.927, test_f1 (micro) = 0.919\n",
      "total time = 1.265, train time/epoch = 0.00616, best_val_f1 (micro) = 0.930, test_f1 (micro) = 0.893\n",
      "total time = 1.727, train time/epoch = 0.00615, best_val_f1 (micro) = 0.920, test_f1 (micro) = 0.912\n",
      "total time = 1.311, train time/epoch = 0.00612, best_val_f1 (micro) = 0.927, test_f1 (micro) = 0.907\n",
      "total time = 1.367, train time/epoch = 0.00612, best_val_f1 (micro) = 0.923, test_f1 (micro) = 0.902\n",
      "total time = 1.232, train time/epoch = 0.00605, best_val_f1 (micro) = 0.920, test_f1 (micro) = 0.914\n",
      "total time = 1.266, train time/epoch = 0.00617, best_val_f1 (micro) = 0.933, test_f1 (micro) = 0.922\n",
      "total time = 1.299, train time/epoch = 0.00610, best_val_f1 (micro) = 0.927, test_f1 (micro) = 0.911\n",
      "total time = 1.296, train time/epoch = 0.00601, best_val_f1 (micro) = 0.927, test_f1 (micro) = 0.903\n",
      "total time = 1.421, train time/epoch = 0.00602, best_val_f1 (micro) = 0.930, test_f1 (micro) = 0.900\n",
      "total time = 1.189, train time/epoch = 0.00623, best_val_f1 (micro) = 0.927, test_f1 (micro) = 0.853\n",
      "total time = 1.252, train time/epoch = 0.00611, best_val_f1 (micro) = 0.923, test_f1 (micro) = 0.904\n",
      "total time = 1.190, train time/epoch = 0.00610, best_val_f1 (micro) = 0.930, test_f1 (micro) = 0.917\n",
      "total time = 1.500, train time/epoch = 0.00614, best_val_f1 (micro) = 0.927, test_f1 (micro) = 0.912\n",
      "total time = 1.261, train time/epoch = 0.00589, best_val_f1 (micro) = 0.923, test_f1 (micro) = 0.910\n",
      "total time = 1.164, train time/epoch = 0.00590, best_val_f1 (micro) = 0.930, test_f1 (micro) = 0.879\n",
      "total time = 1.402, train time/epoch = 0.00584, best_val_f1 (micro) = 0.923, test_f1 (micro) = 0.912\n",
      "total time = 1.432, train time/epoch = 0.00581, best_val_f1 (micro) = 0.927, test_f1 (micro) = 0.918\n",
      "total time = 1.313, train time/epoch = 0.00585, best_val_f1 (micro) = 0.927, test_f1 (micro) = 0.912\n",
      "total time = 1.376, train time/epoch = 0.00584, best_val_f1 (micro) = 0.930, test_f1 (micro) = 0.919\n",
      "total time = 1.281, train time/epoch = 0.00581, best_val_f1 (micro) = 0.930, test_f1 (micro) = 0.926\n",
      "total time = 1.174, train time/epoch = 0.00589, best_val_f1 (micro) = 0.927, test_f1 (micro) = 0.913\n",
      "total time = 1.192, train time/epoch = 0.00586, best_val_f1 (micro) = 0.930, test_f1 (micro) = 0.924\n",
      "total time = 1.130, train time/epoch = 0.00602, best_val_f1 (micro) = 0.927, test_f1 (micro) = 0.921\n",
      "total time = 1.192, train time/epoch = 0.00592, best_val_f1 (micro) = 0.923, test_f1 (micro) = 0.886\n",
      "test micro-f1 (mean, std):  0.9093192262477292 0.015007203002911754\n",
      "test micro-f1 (mean, std) after filter:  0.9119910227637064 0.007215037960539358\n",
      "\n",
      "start testing on IMDB dataset\n",
      "total time = 2.983, train time/epoch = 0.00964, best_val_f1 (micro) = 0.613, test_f1 (micro) = 0.549\n",
      "total time = 1.662, train time/epoch = 0.00626, best_val_f1 (micro) = 0.623, test_f1 (micro) = 0.557\n",
      "total time = 1.453, train time/epoch = 0.00618, best_val_f1 (micro) = 0.613, test_f1 (micro) = 0.571\n",
      "total time = 1.651, train time/epoch = 0.00631, best_val_f1 (micro) = 0.613, test_f1 (micro) = 0.572\n",
      "total time = 1.254, train time/epoch = 0.00625, best_val_f1 (micro) = 0.620, test_f1 (micro) = 0.569\n",
      "total time = 2.966, train time/epoch = 0.00621, best_val_f1 (micro) = 0.607, test_f1 (micro) = 0.555\n",
      "total time = 1.379, train time/epoch = 0.00636, best_val_f1 (micro) = 0.617, test_f1 (micro) = 0.586\n",
      "total time = 1.336, train time/epoch = 0.00629, best_val_f1 (micro) = 0.610, test_f1 (micro) = 0.577\n",
      "total time = 1.234, train time/epoch = 0.00635, best_val_f1 (micro) = 0.647, test_f1 (micro) = 0.579\n",
      "total time = 1.308, train time/epoch = 0.00627, best_val_f1 (micro) = 0.593, test_f1 (micro) = 0.551\n",
      "total time = 1.236, train time/epoch = 0.00631, best_val_f1 (micro) = 0.633, test_f1 (micro) = 0.563\n",
      "total time = 1.347, train time/epoch = 0.00628, best_val_f1 (micro) = 0.623, test_f1 (micro) = 0.598\n",
      "total time = 1.267, train time/epoch = 0.00629, best_val_f1 (micro) = 0.607, test_f1 (micro) = 0.583\n",
      "total time = 1.642, train time/epoch = 0.00630, best_val_f1 (micro) = 0.627, test_f1 (micro) = 0.572\n",
      "total time = 1.425, train time/epoch = 0.00630, best_val_f1 (micro) = 0.607, test_f1 (micro) = 0.581\n",
      "total time = 1.616, train time/epoch = 0.00628, best_val_f1 (micro) = 0.613, test_f1 (micro) = 0.549\n",
      "total time = 1.518, train time/epoch = 0.00625, best_val_f1 (micro) = 0.620, test_f1 (micro) = 0.574\n",
      "total time = 1.288, train time/epoch = 0.00629, best_val_f1 (micro) = 0.620, test_f1 (micro) = 0.582\n",
      "total time = 1.634, train time/epoch = 0.00630, best_val_f1 (micro) = 0.610, test_f1 (micro) = 0.542\n",
      "total time = 3.393, train time/epoch = 0.00622, best_val_f1 (micro) = 0.617, test_f1 (micro) = 0.557\n",
      "total time = 1.288, train time/epoch = 0.00624, best_val_f1 (micro) = 0.633, test_f1 (micro) = 0.591\n",
      "total time = 1.267, train time/epoch = 0.00627, best_val_f1 (micro) = 0.627, test_f1 (micro) = 0.571\n",
      "total time = 1.341, train time/epoch = 0.00628, best_val_f1 (micro) = 0.613, test_f1 (micro) = 0.575\n",
      "total time = 1.249, train time/epoch = 0.00625, best_val_f1 (micro) = 0.607, test_f1 (micro) = 0.582\n",
      "total time = 1.401, train time/epoch = 0.00625, best_val_f1 (micro) = 0.633, test_f1 (micro) = 0.582\n",
      "total time = 1.661, train time/epoch = 0.00654, best_val_f1 (micro) = 0.633, test_f1 (micro) = 0.568\n",
      "total time = 2.987, train time/epoch = 0.00631, best_val_f1 (micro) = 0.607, test_f1 (micro) = 0.541\n",
      "total time = 1.233, train time/epoch = 0.00622, best_val_f1 (micro) = 0.620, test_f1 (micro) = 0.573\n",
      "total time = 1.346, train time/epoch = 0.00620, best_val_f1 (micro) = 0.623, test_f1 (micro) = 0.579\n",
      "total time = 2.074, train time/epoch = 0.00620, best_val_f1 (micro) = 0.613, test_f1 (micro) = 0.555\n",
      "test micro-f1 (mean, std):  0.5695486677542142 0.014367260928473959\n",
      "test micro-f1 (mean, std) after filter:  0.5700108754758021 0.010566050871029398\n",
      "\n",
      "start testing on DBLP dataset\n",
      "total time = 2.628, train time/epoch = 0.01247, best_val_f1 (micro) = 0.915, test_f1 (micro) = 0.913\n",
      "total time = 1.655, train time/epoch = 0.00714, best_val_f1 (micro) = 0.895, test_f1 (micro) = 0.903\n",
      "total time = 1.589, train time/epoch = 0.00708, best_val_f1 (micro) = 0.905, test_f1 (micro) = 0.909\n",
      "total time = 1.747, train time/epoch = 0.00717, best_val_f1 (micro) = 0.890, test_f1 (micro) = 0.888\n",
      "total time = 1.667, train time/epoch = 0.00717, best_val_f1 (micro) = 0.897, test_f1 (micro) = 0.909\n",
      "total time = 2.426, train time/epoch = 0.00712, best_val_f1 (micro) = 0.902, test_f1 (micro) = 0.893\n",
      "total time = 1.932, train time/epoch = 0.00707, best_val_f1 (micro) = 0.900, test_f1 (micro) = 0.893\n",
      "total time = 1.641, train time/epoch = 0.00712, best_val_f1 (micro) = 0.910, test_f1 (micro) = 0.908\n",
      "total time = 1.643, train time/epoch = 0.00712, best_val_f1 (micro) = 0.917, test_f1 (micro) = 0.928\n",
      "total time = 1.661, train time/epoch = 0.00714, best_val_f1 (micro) = 0.920, test_f1 (micro) = 0.908\n",
      "total time = 2.134, train time/epoch = 0.00709, best_val_f1 (micro) = 0.912, test_f1 (micro) = 0.904\n",
      "total time = 1.718, train time/epoch = 0.00713, best_val_f1 (micro) = 0.897, test_f1 (micro) = 0.908\n",
      "total time = 1.642, train time/epoch = 0.00713, best_val_f1 (micro) = 0.910, test_f1 (micro) = 0.914\n",
      "total time = 1.698, train time/epoch = 0.00712, best_val_f1 (micro) = 0.902, test_f1 (micro) = 0.893\n",
      "total time = 1.630, train time/epoch = 0.00713, best_val_f1 (micro) = 0.910, test_f1 (micro) = 0.913\n",
      "total time = 1.608, train time/epoch = 0.00715, best_val_f1 (micro) = 0.907, test_f1 (micro) = 0.901\n",
      "total time = 1.695, train time/epoch = 0.00722, best_val_f1 (micro) = 0.905, test_f1 (micro) = 0.893\n",
      "total time = 1.788, train time/epoch = 0.00714, best_val_f1 (micro) = 0.900, test_f1 (micro) = 0.905\n"
     ]
    },
    {
     "name": "stdout",
     "output_type": "stream",
     "text": [
      "total time = 1.711, train time/epoch = 0.00712, best_val_f1 (micro) = 0.938, test_f1 (micro) = 0.925\n",
      "total time = 1.628, train time/epoch = 0.00711, best_val_f1 (micro) = 0.897, test_f1 (micro) = 0.897\n",
      "total time = 1.795, train time/epoch = 0.00707, best_val_f1 (micro) = 0.900, test_f1 (micro) = 0.905\n",
      "total time = 1.597, train time/epoch = 0.00710, best_val_f1 (micro) = 0.905, test_f1 (micro) = 0.907\n",
      "total time = 1.621, train time/epoch = 0.00712, best_val_f1 (micro) = 0.925, test_f1 (micro) = 0.922\n",
      "total time = 1.694, train time/epoch = 0.00713, best_val_f1 (micro) = 0.927, test_f1 (micro) = 0.924\n",
      "total time = 1.665, train time/epoch = 0.00714, best_val_f1 (micro) = 0.932, test_f1 (micro) = 0.917\n",
      "total time = 1.595, train time/epoch = 0.00714, best_val_f1 (micro) = 0.915, test_f1 (micro) = 0.923\n",
      "total time = 1.625, train time/epoch = 0.00710, best_val_f1 (micro) = 0.905, test_f1 (micro) = 0.922\n",
      "total time = 1.666, train time/epoch = 0.00710, best_val_f1 (micro) = 0.907, test_f1 (micro) = 0.915\n",
      "total time = 1.602, train time/epoch = 0.00717, best_val_f1 (micro) = 0.890, test_f1 (micro) = 0.916\n",
      "total time = 1.823, train time/epoch = 0.00754, best_val_f1 (micro) = 0.907, test_f1 (micro) = 0.902\n",
      "test micro-f1 (mean, std):  0.9084937580212343 0.010729690562190627\n",
      "test micro-f1 (mean, std) after filter:  0.9085433438338583 0.008198980443914722\n"
     ]
    }
   ],
   "source": [
    "f1s = []\n",
    "datasets = ['ACM', 'IMDB', 'DBLP']\n",
    "for dataset in datasets:\n",
    "    args.data = dataset\n",
    "    if dataset == 'ACM':\n",
    "        args.dropout = 0.8\n",
    "        args.dropout2 = 0.2\n",
    "        print('\\nstart testing on ' + dataset + ' dataset')\n",
    "        f1s.append(main(args))\n",
    "    elif dataset == 'IMDB':\n",
    "        args.dropout = 0.8\n",
    "        args.dropout2 = 0.2\n",
    "        print('\\nstart testing on ' + dataset + ' dataset')\n",
    "        f1s.append(main(args))\n",
    "    elif dataset == 'DBLP':\n",
    "        args.dropout = 0\n",
    "        args.dropout2 = 0\n",
    "        print('\\nstart testing on ' + dataset + ' dataset')\n",
    "        f1s.append(main(args))"
   ]
  },
  {
   "cell_type": "code",
   "execution_count": 4,
   "metadata": {},
   "outputs": [],
   "source": [
    "f1s = np.array(f1s)"
   ]
  },
  {
   "cell_type": "code",
   "execution_count": null,
   "metadata": {},
   "outputs": [],
   "source": []
  }
 ],
 "metadata": {
  "kernelspec": {
   "display_name": "Python 3",
   "language": "python",
   "name": "python3"
  },
  "language_info": {
   "codemirror_mode": {
    "name": "ipython",
    "version": 3
   },
   "file_extension": ".py",
   "mimetype": "text/x-python",
   "name": "python",
   "nbconvert_exporter": "python",
   "pygments_lexer": "ipython3",
   "version": "3.8.8"
  }
 },
 "nbformat": 4,
 "nbformat_minor": 4
}
