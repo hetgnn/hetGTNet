{
 "cells": [
  {
   "cell_type": "code",
   "execution_count": 1,
   "metadata": {},
   "outputs": [
    {
     "name": "stderr",
     "output_type": "stream",
     "text": [
      "Using backend: pytorch\n"
     ]
    }
   ],
   "source": [
    "root_dir = '..' # dir of the source code\n",
    "import sys\n",
    "sys.path.append(root_dir)\n",
    "from train import main\n",
    "import numpy as np"
   ]
  },
  {
   "cell_type": "code",
   "execution_count": 2,
   "metadata": {},
   "outputs": [],
   "source": [
    "class config:\n",
    "    data = 'ACM'\n",
    "    data_path = '../data/preprocessed/'\n",
    "    model = 'HetGCN'\n",
    "    target_node_type = 'paper'\n",
    "    n_hid = 64\n",
    "    dropout = 0.5\n",
    "    learning_rate = 0.005\n",
    "    weight_decay = 0\n",
    "    patience = 100\n",
    "    num_iter = 500\n",
    "    num_test = 30\n",
    "    hop = 10\n",
    "    filter_pct = 0.1 # remove the top and bottom filer_pct points before obtaining statistics of test accuracy\n",
    "    log_step = 1000 # training log step\n",
    "    layer_wise = True\n",
    "    average = 'macro' # 'f1 average: can choose either macro or micro.'\n",
    "\n",
    "args = config()"
   ]
  },
  {
   "cell_type": "code",
   "execution_count": 3,
   "metadata": {
    "scrolled": false
   },
   "outputs": [
    {
     "name": "stdout",
     "output_type": "stream",
     "text": [
      "\n",
      "start testing on ACM dataset\n",
      "total time = 21.113, train time/epoch = 0.08404, best_val_f1 (macro) = 0.884, test_f1 (macro) = 0.845\n",
      "total time = 26.254, train time/epoch = 0.07988, best_val_f1 (macro) = 0.867, test_f1 (macro) = 0.852\n",
      "total time = 24.190, train time/epoch = 0.07816, best_val_f1 (macro) = 0.846, test_f1 (macro) = 0.857\n",
      "total time = 26.018, train time/epoch = 0.07724, best_val_f1 (macro) = 0.894, test_f1 (macro) = 0.872\n",
      "total time = 31.889, train time/epoch = 0.07735, best_val_f1 (macro) = 0.901, test_f1 (macro) = 0.861\n",
      "total time = 27.253, train time/epoch = 0.07724, best_val_f1 (macro) = 0.881, test_f1 (macro) = 0.848\n",
      "total time = 12.955, train time/epoch = 0.07763, best_val_f1 (macro) = 0.706, test_f1 (macro) = 0.641\n",
      "total time = 32.382, train time/epoch = 0.07849, best_val_f1 (macro) = 0.787, test_f1 (macro) = 0.820\n",
      "total time = 21.539, train time/epoch = 0.07860, best_val_f1 (macro) = 0.877, test_f1 (macro) = 0.855\n",
      "total time = 35.120, train time/epoch = 0.07794, best_val_f1 (macro) = 0.913, test_f1 (macro) = 0.871\n",
      "total time = 31.080, train time/epoch = 0.07740, best_val_f1 (macro) = 0.886, test_f1 (macro) = 0.866\n",
      "total time = 27.095, train time/epoch = 0.07695, best_val_f1 (macro) = 0.871, test_f1 (macro) = 0.843\n",
      "total time = 37.402, train time/epoch = 0.07641, best_val_f1 (macro) = 0.871, test_f1 (macro) = 0.868\n",
      "total time = 41.395, train time/epoch = 0.07742, best_val_f1 (macro) = 0.884, test_f1 (macro) = 0.861\n",
      "total time = 31.171, train time/epoch = 0.07888, best_val_f1 (macro) = 0.863, test_f1 (macro) = 0.852\n",
      "total time = 16.946, train time/epoch = 0.07772, best_val_f1 (macro) = 0.608, test_f1 (macro) = 0.610\n",
      "total time = 34.352, train time/epoch = 0.07830, best_val_f1 (macro) = 0.888, test_f1 (macro) = 0.873\n",
      "total time = 21.027, train time/epoch = 0.08010, best_val_f1 (macro) = 0.603, test_f1 (macro) = 0.573\n",
      "total time = 33.225, train time/epoch = 0.07911, best_val_f1 (macro) = 0.891, test_f1 (macro) = 0.878\n",
      "total time = 16.988, train time/epoch = 0.07926, best_val_f1 (macro) = 0.870, test_f1 (macro) = 0.835\n",
      "total time = 25.484, train time/epoch = 0.07865, best_val_f1 (macro) = 0.875, test_f1 (macro) = 0.870\n",
      "total time = 30.144, train time/epoch = 0.07967, best_val_f1 (macro) = 0.872, test_f1 (macro) = 0.864\n",
      "total time = 15.075, train time/epoch = 0.07893, best_val_f1 (macro) = 0.697, test_f1 (macro) = 0.650\n",
      "total time = 30.194, train time/epoch = 0.07912, best_val_f1 (macro) = 0.869, test_f1 (macro) = 0.844\n",
      "total time = 30.625, train time/epoch = 0.07770, best_val_f1 (macro) = 0.888, test_f1 (macro) = 0.856\n",
      "total time = 21.319, train time/epoch = 0.07790, best_val_f1 (macro) = 0.868, test_f1 (macro) = 0.859\n",
      "total time = 39.053, train time/epoch = 0.07865, best_val_f1 (macro) = 0.904, test_f1 (macro) = 0.871\n",
      "total time = 32.157, train time/epoch = 0.07846, best_val_f1 (macro) = 0.910, test_f1 (macro) = 0.870\n",
      "total time = 14.198, train time/epoch = 0.08092, best_val_f1 (macro) = 0.623, test_f1 (macro) = 0.513\n",
      "total time = 33.754, train time/epoch = 0.07862, best_val_f1 (macro) = 0.905, test_f1 (macro) = 0.876\n",
      "test macro-f1 (mean, std):  0.8151515971526732 0.10026864191299559\n",
      "test macro-f1 (mean, std) after filter:  0.838790232126558 0.05960318571985019\n",
      "\n",
      "start testing on IMDB dataset\n",
      "total time = 17.075, train time/epoch = 0.07672, best_val_f1 (macro) = 0.413, test_f1 (macro) = 0.380\n",
      "total time = 27.055, train time/epoch = 0.07646, best_val_f1 (macro) = 0.417, test_f1 (macro) = 0.390\n",
      "total time = 23.722, train time/epoch = 0.07548, best_val_f1 (macro) = 0.509, test_f1 (macro) = 0.482\n",
      "total time = 46.240, train time/epoch = 0.07605, best_val_f1 (macro) = 0.494, test_f1 (macro) = 0.464\n",
      "total time = 18.761, train time/epoch = 0.07587, best_val_f1 (macro) = 0.479, test_f1 (macro) = 0.424\n",
      "total time = 36.884, train time/epoch = 0.07780, best_val_f1 (macro) = 0.504, test_f1 (macro) = 0.494\n",
      "total time = 46.715, train time/epoch = 0.07618, best_val_f1 (macro) = 0.458, test_f1 (macro) = 0.384\n",
      "total time = 32.277, train time/epoch = 0.07592, best_val_f1 (macro) = 0.503, test_f1 (macro) = 0.476\n",
      "total time = 31.462, train time/epoch = 0.07597, best_val_f1 (macro) = 0.480, test_f1 (macro) = 0.454\n",
      "total time = 17.853, train time/epoch = 0.07587, best_val_f1 (macro) = 0.463, test_f1 (macro) = 0.416\n",
      "total time = 55.323, train time/epoch = 0.07743, best_val_f1 (macro) = 0.480, test_f1 (macro) = 0.447\n",
      "total time = 21.959, train time/epoch = 0.07762, best_val_f1 (macro) = 0.502, test_f1 (macro) = 0.485\n",
      "total time = 36.851, train time/epoch = 0.07618, best_val_f1 (macro) = 0.475, test_f1 (macro) = 0.451\n",
      "total time = 25.545, train time/epoch = 0.07620, best_val_f1 (macro) = 0.439, test_f1 (macro) = 0.378\n",
      "total time = 19.901, train time/epoch = 0.07620, best_val_f1 (macro) = 0.510, test_f1 (macro) = 0.483\n",
      "total time = 32.649, train time/epoch = 0.07563, best_val_f1 (macro) = 0.432, test_f1 (macro) = 0.384\n",
      "total time = 57.861, train time/epoch = 0.08098, best_val_f1 (macro) = 0.500, test_f1 (macro) = 0.441\n",
      "total time = 55.012, train time/epoch = 0.07700, best_val_f1 (macro) = 0.509, test_f1 (macro) = 0.485\n",
      "total time = 40.614, train time/epoch = 0.08284, best_val_f1 (macro) = 0.447, test_f1 (macro) = 0.469\n",
      "total time = 37.456, train time/epoch = 0.07980, best_val_f1 (macro) = 0.464, test_f1 (macro) = 0.446\n",
      "total time = 24.869, train time/epoch = 0.08365, best_val_f1 (macro) = 0.477, test_f1 (macro) = 0.426\n",
      "total time = 35.562, train time/epoch = 0.08573, best_val_f1 (macro) = 0.454, test_f1 (macro) = 0.387\n",
      "total time = 38.281, train time/epoch = 0.07726, best_val_f1 (macro) = 0.448, test_f1 (macro) = 0.391\n",
      "total time = 39.601, train time/epoch = 0.07668, best_val_f1 (macro) = 0.490, test_f1 (macro) = 0.455\n",
      "total time = 36.031, train time/epoch = 0.07669, best_val_f1 (macro) = 0.492, test_f1 (macro) = 0.471\n",
      "total time = 19.501, train time/epoch = 0.07665, best_val_f1 (macro) = 0.477, test_f1 (macro) = 0.437\n",
      "total time = 51.649, train time/epoch = 0.08386, best_val_f1 (macro) = 0.495, test_f1 (macro) = 0.480\n",
      "total time = 38.397, train time/epoch = 0.08948, best_val_f1 (macro) = 0.499, test_f1 (macro) = 0.444\n",
      "total time = 18.639, train time/epoch = 0.08401, best_val_f1 (macro) = 0.491, test_f1 (macro) = 0.458\n",
      "total time = 56.445, train time/epoch = 0.09123, best_val_f1 (macro) = 0.488, test_f1 (macro) = 0.451\n",
      "test macro-f1 (mean, std):  0.4411350853889127 0.03618831638493879\n",
      "test macro-f1 (mean, std) after filter:  0.4428101484023175 0.029995310642914764\n",
      "\n",
      "start testing on DBLP dataset\n",
      "total time = 39.099, train time/epoch = 0.14290, best_val_f1 (macro) = 0.875, test_f1 (macro) = 0.863\n",
      "total time = 41.985, train time/epoch = 0.14691, best_val_f1 (macro) = 0.878, test_f1 (macro) = 0.866\n",
      "total time = 43.670, train time/epoch = 0.14526, best_val_f1 (macro) = 0.886, test_f1 (macro) = 0.860\n",
      "total time = 41.875, train time/epoch = 0.14656, best_val_f1 (macro) = 0.898, test_f1 (macro) = 0.884\n",
      "total time = 48.248, train time/epoch = 0.14610, best_val_f1 (macro) = 0.880, test_f1 (macro) = 0.868\n",
      "total time = 46.001, train time/epoch = 0.15663, best_val_f1 (macro) = 0.810, test_f1 (macro) = 0.813\n",
      "total time = 43.663, train time/epoch = 0.14627, best_val_f1 (macro) = 0.855, test_f1 (macro) = 0.848\n",
      "total time = 42.745, train time/epoch = 0.15346, best_val_f1 (macro) = 0.904, test_f1 (macro) = 0.884\n",
      "total time = 58.533, train time/epoch = 0.14544, best_val_f1 (macro) = 0.948, test_f1 (macro) = 0.912\n",
      "total time = 43.959, train time/epoch = 0.14841, best_val_f1 (macro) = 0.913, test_f1 (macro) = 0.899\n",
      "total time = 43.516, train time/epoch = 0.14324, best_val_f1 (macro) = 0.805, test_f1 (macro) = 0.769\n",
      "total time = 50.938, train time/epoch = 0.14008, best_val_f1 (macro) = 0.928, test_f1 (macro) = 0.889\n",
      "total time = 44.997, train time/epoch = 0.13298, best_val_f1 (macro) = 0.938, test_f1 (macro) = 0.901\n",
      "total time = 50.669, train time/epoch = 0.13110, best_val_f1 (macro) = 0.856, test_f1 (macro) = 0.832\n",
      "total time = 48.132, train time/epoch = 0.13032, best_val_f1 (macro) = 0.915, test_f1 (macro) = 0.905\n",
      "total time = 42.609, train time/epoch = 0.13217, best_val_f1 (macro) = 0.836, test_f1 (macro) = 0.813\n",
      "total time = 36.702, train time/epoch = 0.13183, best_val_f1 (macro) = 0.812, test_f1 (macro) = 0.773\n"
     ]
    },
    {
     "name": "stdout",
     "output_type": "stream",
     "text": [
      "total time = 32.007, train time/epoch = 0.13141, best_val_f1 (macro) = 0.875, test_f1 (macro) = 0.858\n",
      "total time = 43.727, train time/epoch = 0.13037, best_val_f1 (macro) = 0.807, test_f1 (macro) = 0.799\n",
      "total time = 34.352, train time/epoch = 0.13167, best_val_f1 (macro) = 0.829, test_f1 (macro) = 0.804\n",
      "total time = 41.030, train time/epoch = 0.13079, best_val_f1 (macro) = 0.770, test_f1 (macro) = 0.763\n",
      "total time = 46.628, train time/epoch = 0.13150, best_val_f1 (macro) = 0.859, test_f1 (macro) = 0.827\n",
      "total time = 50.714, train time/epoch = 0.13165, best_val_f1 (macro) = 0.795, test_f1 (macro) = 0.762\n",
      "total time = 46.855, train time/epoch = 0.13054, best_val_f1 (macro) = 0.808, test_f1 (macro) = 0.754\n",
      "total time = 44.146, train time/epoch = 0.13149, best_val_f1 (macro) = 0.867, test_f1 (macro) = 0.835\n",
      "total time = 54.630, train time/epoch = 0.13053, best_val_f1 (macro) = 0.903, test_f1 (macro) = 0.888\n",
      "total time = 37.160, train time/epoch = 0.13132, best_val_f1 (macro) = 0.893, test_f1 (macro) = 0.877\n",
      "total time = 50.577, train time/epoch = 0.13184, best_val_f1 (macro) = 0.886, test_f1 (macro) = 0.848\n",
      "total time = 33.614, train time/epoch = 0.13089, best_val_f1 (macro) = 0.907, test_f1 (macro) = 0.889\n",
      "total time = 41.875, train time/epoch = 0.13122, best_val_f1 (macro) = 0.938, test_f1 (macro) = 0.913\n",
      "test macro-f1 (mean, std):  0.8465265084390284 0.04805148731759511\n",
      "test macro-f1 (mean, std) after filter:  0.8494366325593551 0.037832953939701416\n"
     ]
    }
   ],
   "source": [
    "f1s = []\n",
    "datasets = ['ACM', 'IMDB', 'DBLP']\n",
    "for dataset in datasets:\n",
    "    args.data = dataset\n",
    "    if dataset == 'ACM':\n",
    "        args.dropout = 0.5\n",
    "        args.target_node_type = 'paper'\n",
    "        print('\\nstart testing on ' + dataset + ' dataset')\n",
    "        f1s.append(main(args))\n",
    "    elif dataset == 'IMDB':\n",
    "        args.dropout = 0.5\n",
    "        args.target_node_type = 'movie'\n",
    "        print('\\nstart testing on ' + dataset + ' dataset')\n",
    "        f1s.append(main(args))\n",
    "    elif dataset == 'DBLP':\n",
    "        args.dropout = 0\n",
    "        args.target_node_type = 'author'\n",
    "        print('\\nstart testing on ' + dataset + ' dataset')\n",
    "        f1s.append(main(args))"
   ]
  },
  {
   "cell_type": "code",
   "execution_count": 4,
   "metadata": {},
   "outputs": [],
   "source": [
    "f1s = np.array(f1s)"
   ]
  },
  {
   "cell_type": "code",
   "execution_count": null,
   "metadata": {},
   "outputs": [],
   "source": []
  }
 ],
 "metadata": {
  "kernelspec": {
   "display_name": "Python 3",
   "language": "python",
   "name": "python3"
  },
  "language_info": {
   "codemirror_mode": {
    "name": "ipython",
    "version": 3
   },
   "file_extension": ".py",
   "mimetype": "text/x-python",
   "name": "python",
   "nbconvert_exporter": "python",
   "pygments_lexer": "ipython3",
   "version": "3.8.8"
  }
 },
 "nbformat": 4,
 "nbformat_minor": 4
}
