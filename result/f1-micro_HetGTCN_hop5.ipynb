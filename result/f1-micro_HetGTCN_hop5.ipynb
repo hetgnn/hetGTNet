{
 "cells": [
  {
   "cell_type": "code",
   "execution_count": 1,
   "metadata": {},
   "outputs": [
    {
     "name": "stderr",
     "output_type": "stream",
     "text": [
      "Using backend: pytorch\n"
     ]
    }
   ],
   "source": [
    "root_dir = '..' # dir of the source code\n",
    "import sys\n",
    "sys.path.append(root_dir)\n",
    "from train import main\n",
    "import numpy as np"
   ]
  },
  {
   "cell_type": "code",
   "execution_count": 2,
   "metadata": {},
   "outputs": [],
   "source": [
    "class config:\n",
    "    data = 'ACM'\n",
    "    data_path = '../data/preprocessed/'\n",
    "    model = 'HetGTCN'\n",
    "    target_node_type = 'paper'\n",
    "    n_hid = 64\n",
    "    dropout = 0.8\n",
    "    dropout2 = 0.6\n",
    "    learning_rate = 0.005\n",
    "    weight_decay = 5e-5\n",
    "    patience = 100\n",
    "    num_iter = 500\n",
    "    num_test = 30\n",
    "    hop = 5\n",
    "    filter_pct = 0.1 # remove the top and bottom filer_pct points before obtaining statistics of test accuracy\n",
    "    log_step = 1000 # training log step\n",
    "    layer_wise = True\n",
    "    average = 'micro' # 'f1 average: can choose either macro or micro.'\n",
    "\n",
    "args = config()"
   ]
  },
  {
   "cell_type": "code",
   "execution_count": 3,
   "metadata": {
    "scrolled": false
   },
   "outputs": [
    {
     "name": "stdout",
     "output_type": "stream",
     "text": [
      "\n",
      "start testing on ACM dataset\n",
      "total time = 11.554, train time/epoch = 0.04136, best_val_f1 (micro) = 0.933, test_f1 (micro) = 0.922\n",
      "total time = 7.436, train time/epoch = 0.03702, best_val_f1 (micro) = 0.927, test_f1 (micro) = 0.926\n",
      "total time = 7.410, train time/epoch = 0.03687, best_val_f1 (micro) = 0.923, test_f1 (micro) = 0.922\n",
      "total time = 8.738, train time/epoch = 0.03839, best_val_f1 (micro) = 0.933, test_f1 (micro) = 0.927\n",
      "total time = 10.480, train time/epoch = 0.03914, best_val_f1 (micro) = 0.930, test_f1 (micro) = 0.931\n",
      "total time = 10.706, train time/epoch = 0.03998, best_val_f1 (micro) = 0.933, test_f1 (micro) = 0.912\n",
      "total time = 6.193, train time/epoch = 0.03946, best_val_f1 (micro) = 0.923, test_f1 (micro) = 0.892\n",
      "total time = 9.870, train time/epoch = 0.03785, best_val_f1 (micro) = 0.930, test_f1 (micro) = 0.922\n",
      "total time = 6.145, train time/epoch = 0.03754, best_val_f1 (micro) = 0.930, test_f1 (micro) = 0.900\n",
      "total time = 6.028, train time/epoch = 0.03711, best_val_f1 (micro) = 0.933, test_f1 (micro) = 0.895\n",
      "total time = 8.102, train time/epoch = 0.03734, best_val_f1 (micro) = 0.930, test_f1 (micro) = 0.919\n",
      "total time = 9.835, train time/epoch = 0.03862, best_val_f1 (micro) = 0.930, test_f1 (micro) = 0.921\n",
      "total time = 10.588, train time/epoch = 0.03868, best_val_f1 (micro) = 0.930, test_f1 (micro) = 0.919\n",
      "total time = 8.211, train time/epoch = 0.03718, best_val_f1 (micro) = 0.930, test_f1 (micro) = 0.930\n",
      "total time = 7.938, train time/epoch = 0.03737, best_val_f1 (micro) = 0.927, test_f1 (micro) = 0.921\n",
      "total time = 7.245, train time/epoch = 0.03723, best_val_f1 (micro) = 0.930, test_f1 (micro) = 0.918\n",
      "total time = 8.837, train time/epoch = 0.03726, best_val_f1 (micro) = 0.933, test_f1 (micro) = 0.930\n",
      "total time = 6.580, train time/epoch = 0.03713, best_val_f1 (micro) = 0.933, test_f1 (micro) = 0.921\n",
      "total time = 11.400, train time/epoch = 0.03727, best_val_f1 (micro) = 0.933, test_f1 (micro) = 0.922\n",
      "total time = 7.675, train time/epoch = 0.03716, best_val_f1 (micro) = 0.930, test_f1 (micro) = 0.923\n",
      "total time = 7.246, train time/epoch = 0.03781, best_val_f1 (micro) = 0.933, test_f1 (micro) = 0.923\n",
      "total time = 10.622, train time/epoch = 0.03920, best_val_f1 (micro) = 0.933, test_f1 (micro) = 0.929\n",
      "total time = 9.490, train time/epoch = 0.03772, best_val_f1 (micro) = 0.930, test_f1 (micro) = 0.921\n",
      "total time = 10.418, train time/epoch = 0.03969, best_val_f1 (micro) = 0.933, test_f1 (micro) = 0.928\n",
      "total time = 10.417, train time/epoch = 0.03788, best_val_f1 (micro) = 0.933, test_f1 (micro) = 0.923\n",
      "total time = 6.160, train time/epoch = 0.03862, best_val_f1 (micro) = 0.937, test_f1 (micro) = 0.884\n",
      "total time = 6.387, train time/epoch = 0.03906, best_val_f1 (micro) = 0.937, test_f1 (micro) = 0.905\n",
      "total time = 15.340, train time/epoch = 0.03794, best_val_f1 (micro) = 0.937, test_f1 (micro) = 0.921\n",
      "total time = 9.205, train time/epoch = 0.03754, best_val_f1 (micro) = 0.930, test_f1 (micro) = 0.921\n",
      "total time = 6.878, train time/epoch = 0.03818, best_val_f1 (micro) = 0.930, test_f1 (micro) = 0.926\n",
      "test micro-f1 (mean, std):  0.9184995190766272 0.011449283735124082\n",
      "test micro-f1 (mean, std) after filter:  0.9205541305974138 0.006452914073318762\n",
      "\n",
      "start testing on IMDB dataset\n",
      "total time = 12.139, train time/epoch = 0.03689, best_val_f1 (micro) = 0.627, test_f1 (micro) = 0.600\n",
      "total time = 11.465, train time/epoch = 0.03780, best_val_f1 (micro) = 0.637, test_f1 (micro) = 0.605\n",
      "total time = 11.418, train time/epoch = 0.03623, best_val_f1 (micro) = 0.647, test_f1 (micro) = 0.608\n",
      "total time = 11.666, train time/epoch = 0.03641, best_val_f1 (micro) = 0.633, test_f1 (micro) = 0.600\n",
      "total time = 9.670, train time/epoch = 0.03771, best_val_f1 (micro) = 0.640, test_f1 (micro) = 0.605\n",
      "total time = 6.459, train time/epoch = 0.03712, best_val_f1 (micro) = 0.613, test_f1 (micro) = 0.579\n",
      "total time = 9.403, train time/epoch = 0.03975, best_val_f1 (micro) = 0.613, test_f1 (micro) = 0.600\n",
      "total time = 13.100, train time/epoch = 0.03779, best_val_f1 (micro) = 0.627, test_f1 (micro) = 0.593\n",
      "total time = 15.008, train time/epoch = 0.03658, best_val_f1 (micro) = 0.640, test_f1 (micro) = 0.601\n",
      "total time = 9.261, train time/epoch = 0.03630, best_val_f1 (micro) = 0.640, test_f1 (micro) = 0.603\n",
      "total time = 12.042, train time/epoch = 0.03672, best_val_f1 (micro) = 0.620, test_f1 (micro) = 0.599\n",
      "total time = 9.001, train time/epoch = 0.03655, best_val_f1 (micro) = 0.633, test_f1 (micro) = 0.600\n",
      "total time = 11.292, train time/epoch = 0.03643, best_val_f1 (micro) = 0.630, test_f1 (micro) = 0.607\n",
      "total time = 14.720, train time/epoch = 0.03622, best_val_f1 (micro) = 0.643, test_f1 (micro) = 0.604\n",
      "total time = 10.339, train time/epoch = 0.03731, best_val_f1 (micro) = 0.617, test_f1 (micro) = 0.604\n",
      "total time = 14.382, train time/epoch = 0.03718, best_val_f1 (micro) = 0.613, test_f1 (micro) = 0.593\n",
      "total time = 8.091, train time/epoch = 0.03699, best_val_f1 (micro) = 0.620, test_f1 (micro) = 0.590\n",
      "total time = 6.501, train time/epoch = 0.03740, best_val_f1 (micro) = 0.643, test_f1 (micro) = 0.593\n",
      "total time = 8.382, train time/epoch = 0.03711, best_val_f1 (micro) = 0.633, test_f1 (micro) = 0.603\n",
      "total time = 8.840, train time/epoch = 0.03681, best_val_f1 (micro) = 0.627, test_f1 (micro) = 0.605\n",
      "total time = 9.691, train time/epoch = 0.03652, best_val_f1 (micro) = 0.643, test_f1 (micro) = 0.606\n",
      "total time = 12.963, train time/epoch = 0.03632, best_val_f1 (micro) = 0.647, test_f1 (micro) = 0.605\n",
      "total time = 6.636, train time/epoch = 0.03625, best_val_f1 (micro) = 0.620, test_f1 (micro) = 0.574\n",
      "total time = 20.875, train time/epoch = 0.03619, best_val_f1 (micro) = 0.630, test_f1 (micro) = 0.602\n",
      "total time = 11.786, train time/epoch = 0.03655, best_val_f1 (micro) = 0.623, test_f1 (micro) = 0.589\n",
      "total time = 11.280, train time/epoch = 0.03608, best_val_f1 (micro) = 0.647, test_f1 (micro) = 0.608\n",
      "total time = 11.612, train time/epoch = 0.03678, best_val_f1 (micro) = 0.640, test_f1 (micro) = 0.600\n",
      "total time = 6.745, train time/epoch = 0.03625, best_val_f1 (micro) = 0.640, test_f1 (micro) = 0.586\n",
      "total time = 10.034, train time/epoch = 0.03609, best_val_f1 (micro) = 0.630, test_f1 (micro) = 0.602\n",
      "total time = 8.833, train time/epoch = 0.03630, best_val_f1 (micro) = 0.627, test_f1 (micro) = 0.603\n",
      "test micro-f1 (mean, std):  0.5988852637302882 0.00820574588597127\n",
      "test micro-f1 (mean, std) after filter:  0.6001336777234004 0.00483347252141822\n",
      "\n",
      "start testing on DBLP dataset\n",
      "total time = 20.959, train time/epoch = 0.05983, best_val_f1 (micro) = 0.950, test_f1 (micro) = 0.949\n",
      "total time = 29.985, train time/epoch = 0.06005, best_val_f1 (micro) = 0.945, test_f1 (micro) = 0.947\n",
      "total time = 21.605, train time/epoch = 0.06116, best_val_f1 (micro) = 0.940, test_f1 (micro) = 0.945\n",
      "total time = 31.588, train time/epoch = 0.06107, best_val_f1 (micro) = 0.950, test_f1 (micro) = 0.952\n",
      "total time = 21.123, train time/epoch = 0.06139, best_val_f1 (micro) = 0.945, test_f1 (micro) = 0.949\n",
      "total time = 19.924, train time/epoch = 0.06143, best_val_f1 (micro) = 0.943, test_f1 (micro) = 0.944\n",
      "total time = 36.288, train time/epoch = 0.06216, best_val_f1 (micro) = 0.948, test_f1 (micro) = 0.950\n",
      "total time = 25.250, train time/epoch = 0.06104, best_val_f1 (micro) = 0.953, test_f1 (micro) = 0.947\n",
      "total time = 24.049, train time/epoch = 0.06111, best_val_f1 (micro) = 0.943, test_f1 (micro) = 0.948\n",
      "total time = 26.593, train time/epoch = 0.06180, best_val_f1 (micro) = 0.945, test_f1 (micro) = 0.950\n",
      "total time = 20.116, train time/epoch = 0.06346, best_val_f1 (micro) = 0.945, test_f1 (micro) = 0.946\n",
      "total time = 18.561, train time/epoch = 0.06270, best_val_f1 (micro) = 0.945, test_f1 (micro) = 0.944\n",
      "total time = 35.714, train time/epoch = 0.06121, best_val_f1 (micro) = 0.950, test_f1 (micro) = 0.953\n",
      "total time = 24.969, train time/epoch = 0.06043, best_val_f1 (micro) = 0.948, test_f1 (micro) = 0.948\n",
      "total time = 23.331, train time/epoch = 0.05967, best_val_f1 (micro) = 0.945, test_f1 (micro) = 0.948\n",
      "total time = 19.477, train time/epoch = 0.06030, best_val_f1 (micro) = 0.943, test_f1 (micro) = 0.946\n",
      "total time = 21.234, train time/epoch = 0.06018, best_val_f1 (micro) = 0.948, test_f1 (micro) = 0.947\n"
     ]
    },
    {
     "name": "stdout",
     "output_type": "stream",
     "text": [
      "total time = 29.389, train time/epoch = 0.05975, best_val_f1 (micro) = 0.948, test_f1 (micro) = 0.948\n",
      "total time = 28.950, train time/epoch = 0.06000, best_val_f1 (micro) = 0.950, test_f1 (micro) = 0.951\n",
      "total time = 24.107, train time/epoch = 0.05955, best_val_f1 (micro) = 0.950, test_f1 (micro) = 0.948\n",
      "total time = 18.114, train time/epoch = 0.06031, best_val_f1 (micro) = 0.938, test_f1 (micro) = 0.946\n",
      "total time = 35.605, train time/epoch = 0.06068, best_val_f1 (micro) = 0.948, test_f1 (micro) = 0.950\n",
      "total time = 19.072, train time/epoch = 0.06106, best_val_f1 (micro) = 0.943, test_f1 (micro) = 0.945\n",
      "total time = 17.540, train time/epoch = 0.06053, best_val_f1 (micro) = 0.935, test_f1 (micro) = 0.939\n",
      "total time = 18.687, train time/epoch = 0.06006, best_val_f1 (micro) = 0.943, test_f1 (micro) = 0.945\n",
      "total time = 27.925, train time/epoch = 0.06107, best_val_f1 (micro) = 0.950, test_f1 (micro) = 0.949\n",
      "total time = 22.625, train time/epoch = 0.05991, best_val_f1 (micro) = 0.948, test_f1 (micro) = 0.946\n",
      "total time = 23.771, train time/epoch = 0.06010, best_val_f1 (micro) = 0.950, test_f1 (micro) = 0.948\n",
      "total time = 31.774, train time/epoch = 0.05969, best_val_f1 (micro) = 0.945, test_f1 (micro) = 0.951\n",
      "total time = 27.930, train time/epoch = 0.06862, best_val_f1 (micro) = 0.948, test_f1 (micro) = 0.953\n",
      "test micro-f1 (mean, std):  0.9477890561194725 0.002911791267793401\n",
      "test micro-f1 (mean, std) after filter:  0.9478765604946914 0.0017410707713129616\n"
     ]
    }
   ],
   "source": [
    "f1s = []\n",
    "datasets = ['ACM', 'IMDB', 'DBLP']\n",
    "for dataset in datasets:\n",
    "    args.data = dataset\n",
    "    if dataset == 'ACM':\n",
    "        args.target_node_type = 'paper'\n",
    "        print('\\nstart testing on ' + dataset + ' dataset')\n",
    "        f1s.append(main(args))\n",
    "    elif dataset == 'IMDB':\n",
    "        args.target_node_type = 'movie'\n",
    "        print('\\nstart testing on ' + dataset + ' dataset')\n",
    "        f1s.append(main(args))\n",
    "    elif dataset == 'DBLP':\n",
    "        args.target_node_type = 'author'\n",
    "        print('\\nstart testing on ' + dataset + ' dataset')\n",
    "        f1s.append(main(args))"
   ]
  },
  {
   "cell_type": "code",
   "execution_count": 4,
   "metadata": {},
   "outputs": [],
   "source": [
    "f1s = np.array(f1s)"
   ]
  },
  {
   "cell_type": "code",
   "execution_count": null,
   "metadata": {},
   "outputs": [],
   "source": []
  }
 ],
 "metadata": {
  "kernelspec": {
   "display_name": "Python 3",
   "language": "python",
   "name": "python3"
  },
  "language_info": {
   "codemirror_mode": {
    "name": "ipython",
    "version": 3
   },
   "file_extension": ".py",
   "mimetype": "text/x-python",
   "name": "python",
   "nbconvert_exporter": "python",
   "pygments_lexer": "ipython3",
   "version": "3.8.8"
  }
 },
 "nbformat": 4,
 "nbformat_minor": 4
}
