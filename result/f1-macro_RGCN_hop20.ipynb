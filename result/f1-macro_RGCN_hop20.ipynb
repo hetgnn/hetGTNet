{
 "cells": [
  {
   "cell_type": "code",
   "execution_count": 1,
   "metadata": {},
   "outputs": [
    {
     "name": "stderr",
     "output_type": "stream",
     "text": [
      "Using backend: pytorch\n"
     ]
    }
   ],
   "source": [
    "root_dir = '..' # dir of the source code\n",
    "import sys\n",
    "sys.path.append(root_dir)\n",
    "from train import main\n",
    "import numpy as np"
   ]
  },
  {
   "cell_type": "code",
   "execution_count": 2,
   "metadata": {},
   "outputs": [],
   "source": [
    "class config:\n",
    "    data = 'ACM'\n",
    "    data_path = '../data/preprocessed/'\n",
    "    model = 'RGCN'\n",
    "    n_hid = 64\n",
    "    dropout = 0.5\n",
    "    learning_rate = 0.005\n",
    "    weight_decay = 1e-5\n",
    "    patience = 100\n",
    "    num_iter = 500\n",
    "    num_test = 30\n",
    "    hop = 20\n",
    "    num_bases = 5 # num bases for RGCN\n",
    "    filter_pct = 0.1 # remove the top and bottom filer_pct points before obtaining statistics of test accuracy\n",
    "    log_step = 1000 # training log step\n",
    "    average = 'macro' # 'f1 average: can choose either macro or micro.'\n",
    "\n",
    "args = config()"
   ]
  },
  {
   "cell_type": "code",
   "execution_count": 3,
   "metadata": {
    "scrolled": false
   },
   "outputs": [
    {
     "name": "stdout",
     "output_type": "stream",
     "text": [
      "\n",
      "start testing on ACM dataset\n",
      "total time = 8.990, train time/epoch = 0.05727, best_val_f1 (macro) = 0.167, test_f1 (macro) = 0.131\n",
      "total time = 8.605, train time/epoch = 0.05139, best_val_f1 (macro) = 0.167, test_f1 (macro) = 0.131\n",
      "total time = 7.955, train time/epoch = 0.04787, best_val_f1 (macro) = 0.167, test_f1 (macro) = 0.131\n",
      "total time = 8.118, train time/epoch = 0.04844, best_val_f1 (macro) = 0.233, test_f1 (macro) = 0.190\n",
      "total time = 8.116, train time/epoch = 0.04747, best_val_f1 (macro) = 0.167, test_f1 (macro) = 0.119\n",
      "total time = 7.970, train time/epoch = 0.04795, best_val_f1 (macro) = 0.167, test_f1 (macro) = 0.131\n",
      "total time = 8.081, train time/epoch = 0.04863, best_val_f1 (macro) = 0.167, test_f1 (macro) = 0.117\n",
      "total time = 7.853, train time/epoch = 0.04728, best_val_f1 (macro) = 0.167, test_f1 (macro) = 0.131\n",
      "total time = 7.940, train time/epoch = 0.04776, best_val_f1 (macro) = 0.167, test_f1 (macro) = 0.235\n",
      "total time = 7.867, train time/epoch = 0.04736, best_val_f1 (macro) = 0.167, test_f1 (macro) = 0.117\n",
      "total time = 7.871, train time/epoch = 0.04743, best_val_f1 (macro) = 0.167, test_f1 (macro) = 0.131\n",
      "total time = 8.001, train time/epoch = 0.04735, best_val_f1 (macro) = 0.182, test_f1 (macro) = 0.147\n",
      "total time = 12.961, train time/epoch = 0.04699, best_val_f1 (macro) = 0.233, test_f1 (macro) = 0.282\n",
      "total time = 7.878, train time/epoch = 0.04743, best_val_f1 (macro) = 0.176, test_f1 (macro) = 0.149\n",
      "total time = 7.826, train time/epoch = 0.04711, best_val_f1 (macro) = 0.433, test_f1 (macro) = 0.405\n",
      "total time = 7.981, train time/epoch = 0.04718, best_val_f1 (macro) = 0.348, test_f1 (macro) = 0.376\n",
      "total time = 15.233, train time/epoch = 0.04686, best_val_f1 (macro) = 0.284, test_f1 (macro) = 0.295\n",
      "total time = 7.940, train time/epoch = 0.04690, best_val_f1 (macro) = 0.181, test_f1 (macro) = 0.243\n",
      "total time = 7.797, train time/epoch = 0.04693, best_val_f1 (macro) = 0.167, test_f1 (macro) = 0.131\n",
      "total time = 8.027, train time/epoch = 0.04701, best_val_f1 (macro) = 0.267, test_f1 (macro) = 0.238\n",
      "total time = 7.783, train time/epoch = 0.04697, best_val_f1 (macro) = 0.167, test_f1 (macro) = 0.235\n",
      "total time = 7.824, train time/epoch = 0.04717, best_val_f1 (macro) = 0.167, test_f1 (macro) = 0.131\n",
      "total time = 7.819, train time/epoch = 0.04716, best_val_f1 (macro) = 0.332, test_f1 (macro) = 0.266\n",
      "total time = 7.858, train time/epoch = 0.04687, best_val_f1 (macro) = 0.231, test_f1 (macro) = 0.195\n",
      "total time = 7.767, train time/epoch = 0.04678, best_val_f1 (macro) = 0.167, test_f1 (macro) = 0.117\n",
      "total time = 7.782, train time/epoch = 0.04683, best_val_f1 (macro) = 0.167, test_f1 (macro) = 0.117\n",
      "total time = 7.801, train time/epoch = 0.04708, best_val_f1 (macro) = 0.496, test_f1 (macro) = 0.414\n",
      "total time = 7.800, train time/epoch = 0.04702, best_val_f1 (macro) = 0.167, test_f1 (macro) = 0.131\n",
      "total time = 7.770, train time/epoch = 0.04685, best_val_f1 (macro) = 0.167, test_f1 (macro) = 0.131\n",
      "total time = 7.908, train time/epoch = 0.04765, best_val_f1 (macro) = 0.199, test_f1 (macro) = 0.169\n",
      "test macro-f1 (mean, std):  0.19110569061826194 0.08773391125750445\n",
      "test macro-f1 (mean, std) after filter:  0.17440589172141874 0.05693742987140402\n",
      "\n",
      "start testing on IMDB dataset\n",
      "total time = 7.899, train time/epoch = 0.04748, best_val_f1 (macro) = 0.167, test_f1 (macro) = 0.135\n",
      "total time = 7.853, train time/epoch = 0.04712, best_val_f1 (macro) = 0.167, test_f1 (macro) = 0.135\n",
      "total time = 7.855, train time/epoch = 0.04716, best_val_f1 (macro) = 0.169, test_f1 (macro) = 0.156\n",
      "total time = 7.887, train time/epoch = 0.04741, best_val_f1 (macro) = 0.167, test_f1 (macro) = 0.182\n",
      "total time = 7.868, train time/epoch = 0.04719, best_val_f1 (macro) = 0.167, test_f1 (macro) = 0.135\n",
      "total time = 7.863, train time/epoch = 0.04717, best_val_f1 (macro) = 0.167, test_f1 (macro) = 0.182\n",
      "total time = 7.927, train time/epoch = 0.04759, best_val_f1 (macro) = 0.167, test_f1 (macro) = 0.182\n",
      "total time = 7.899, train time/epoch = 0.04738, best_val_f1 (macro) = 0.167, test_f1 (macro) = 0.182\n",
      "total time = 8.002, train time/epoch = 0.04712, best_val_f1 (macro) = 0.185, test_f1 (macro) = 0.207\n",
      "total time = 7.864, train time/epoch = 0.04721, best_val_f1 (macro) = 0.167, test_f1 (macro) = 0.183\n",
      "total time = 7.905, train time/epoch = 0.04740, best_val_f1 (macro) = 0.167, test_f1 (macro) = 0.180\n",
      "total time = 7.899, train time/epoch = 0.04749, best_val_f1 (macro) = 0.167, test_f1 (macro) = 0.180\n",
      "total time = 7.895, train time/epoch = 0.04745, best_val_f1 (macro) = 0.167, test_f1 (macro) = 0.135\n",
      "total time = 8.123, train time/epoch = 0.04874, best_val_f1 (macro) = 0.167, test_f1 (macro) = 0.182\n",
      "total time = 8.002, train time/epoch = 0.04813, best_val_f1 (macro) = 0.167, test_f1 (macro) = 0.180\n",
      "total time = 7.932, train time/epoch = 0.04767, best_val_f1 (macro) = 0.167, test_f1 (macro) = 0.182\n",
      "total time = 7.938, train time/epoch = 0.04771, best_val_f1 (macro) = 0.167, test_f1 (macro) = 0.182\n",
      "total time = 7.962, train time/epoch = 0.04780, best_val_f1 (macro) = 0.174, test_f1 (macro) = 0.136\n",
      "total time = 8.029, train time/epoch = 0.04832, best_val_f1 (macro) = 0.167, test_f1 (macro) = 0.182\n",
      "total time = 7.937, train time/epoch = 0.04771, best_val_f1 (macro) = 0.167, test_f1 (macro) = 0.180\n",
      "total time = 8.042, train time/epoch = 0.04796, best_val_f1 (macro) = 0.183, test_f1 (macro) = 0.195\n",
      "total time = 7.970, train time/epoch = 0.04789, best_val_f1 (macro) = 0.167, test_f1 (macro) = 0.182\n",
      "total time = 7.993, train time/epoch = 0.04801, best_val_f1 (macro) = 0.167, test_f1 (macro) = 0.135\n",
      "total time = 8.020, train time/epoch = 0.04816, best_val_f1 (macro) = 0.167, test_f1 (macro) = 0.182\n",
      "total time = 8.022, train time/epoch = 0.04833, best_val_f1 (macro) = 0.189, test_f1 (macro) = 0.199\n",
      "total time = 8.008, train time/epoch = 0.04812, best_val_f1 (macro) = 0.167, test_f1 (macro) = 0.135\n",
      "total time = 8.063, train time/epoch = 0.04844, best_val_f1 (macro) = 0.167, test_f1 (macro) = 0.136\n",
      "total time = 8.543, train time/epoch = 0.04812, best_val_f1 (macro) = 0.180, test_f1 (macro) = 0.199\n",
      "total time = 7.976, train time/epoch = 0.04794, best_val_f1 (macro) = 0.167, test_f1 (macro) = 0.180\n",
      "total time = 7.992, train time/epoch = 0.04797, best_val_f1 (macro) = 0.167, test_f1 (macro) = 0.135\n",
      "test macro-f1 (mean, std):  0.16928835978707119 0.023718610487831974\n",
      "test macro-f1 (mean, std) after filter:  0.16952225150699207 0.020621291022417533\n",
      "\n",
      "start testing on DBLP dataset\n",
      "total time = 55.086, train time/epoch = 0.08262, best_val_f1 (macro) = 0.970, test_f1 (macro) = 0.929\n",
      "total time = 35.631, train time/epoch = 0.08231, best_val_f1 (macro) = 0.942, test_f1 (macro) = 0.934\n",
      "total time = 70.504, train time/epoch = 0.08222, best_val_f1 (macro) = 0.953, test_f1 (macro) = 0.935\n",
      "total time = 41.763, train time/epoch = 0.08242, best_val_f1 (macro) = 0.943, test_f1 (macro) = 0.922\n",
      "total time = 34.857, train time/epoch = 0.08251, best_val_f1 (macro) = 0.945, test_f1 (macro) = 0.917\n",
      "total time = 51.493, train time/epoch = 0.08246, best_val_f1 (macro) = 0.958, test_f1 (macro) = 0.938\n",
      "total time = 49.783, train time/epoch = 0.08343, best_val_f1 (macro) = 0.948, test_f1 (macro) = 0.930\n",
      "total time = 38.430, train time/epoch = 0.08348, best_val_f1 (macro) = 0.919, test_f1 (macro) = 0.904\n",
      "total time = 33.447, train time/epoch = 0.08596, best_val_f1 (macro) = 0.685, test_f1 (macro) = 0.700\n",
      "total time = 34.171, train time/epoch = 0.08271, best_val_f1 (macro) = 0.943, test_f1 (macro) = 0.922\n",
      "total time = 55.645, train time/epoch = 0.08793, best_val_f1 (macro) = 0.970, test_f1 (macro) = 0.930\n",
      "total time = 44.793, train time/epoch = 0.08317, best_val_f1 (macro) = 0.950, test_f1 (macro) = 0.924\n",
      "total time = 58.855, train time/epoch = 0.08664, best_val_f1 (macro) = 0.962, test_f1 (macro) = 0.937\n",
      "total time = 28.779, train time/epoch = 0.08353, best_val_f1 (macro) = 0.853, test_f1 (macro) = 0.824\n",
      "total time = 34.855, train time/epoch = 0.08430, best_val_f1 (macro) = 0.915, test_f1 (macro) = 0.890\n",
      "total time = 49.706, train time/epoch = 0.08474, best_val_f1 (macro) = 0.963, test_f1 (macro) = 0.923\n",
      "total time = 41.177, train time/epoch = 0.08470, best_val_f1 (macro) = 0.950, test_f1 (macro) = 0.929\n",
      "total time = 48.417, train time/epoch = 0.08551, best_val_f1 (macro) = 0.936, test_f1 (macro) = 0.913\n"
     ]
    },
    {
     "name": "stdout",
     "output_type": "stream",
     "text": [
      "total time = 40.920, train time/epoch = 0.08712, best_val_f1 (macro) = 0.931, test_f1 (macro) = 0.905\n",
      "total time = 38.359, train time/epoch = 0.08413, best_val_f1 (macro) = 0.938, test_f1 (macro) = 0.907\n",
      "total time = 73.478, train time/epoch = 0.08371, best_val_f1 (macro) = 0.958, test_f1 (macro) = 0.923\n",
      "total time = 60.535, train time/epoch = 0.08286, best_val_f1 (macro) = 0.962, test_f1 (macro) = 0.938\n",
      "total time = 59.407, train time/epoch = 0.08380, best_val_f1 (macro) = 0.960, test_f1 (macro) = 0.928\n",
      "total time = 48.107, train time/epoch = 0.08232, best_val_f1 (macro) = 0.960, test_f1 (macro) = 0.935\n",
      "total time = 40.016, train time/epoch = 0.08374, best_val_f1 (macro) = 0.955, test_f1 (macro) = 0.936\n",
      "total time = 49.103, train time/epoch = 0.08357, best_val_f1 (macro) = 0.936, test_f1 (macro) = 0.919\n",
      "total time = 26.333, train time/epoch = 0.08357, best_val_f1 (macro) = 0.840, test_f1 (macro) = 0.816\n",
      "total time = 39.528, train time/epoch = 0.08714, best_val_f1 (macro) = 0.946, test_f1 (macro) = 0.916\n",
      "total time = 54.654, train time/epoch = 0.08605, best_val_f1 (macro) = 0.943, test_f1 (macro) = 0.910\n",
      "total time = 40.227, train time/epoch = 0.08201, best_val_f1 (macro) = 0.943, test_f1 (macro) = 0.917\n",
      "test macro-f1 (mean, std):  0.908237660644182 0.04771152229189083\n",
      "test macro-f1 (mean, std) after filter:  0.92061830602447 0.01138672183782995\n"
     ]
    }
   ],
   "source": [
    "f1s = []\n",
    "datasets = ['ACM', 'IMDB', 'DBLP']\n",
    "for dataset in datasets:\n",
    "    args.data = dataset\n",
    "    if dataset == 'ACM':\n",
    "        args.dropout = 0.5\n",
    "        print('\\nstart testing on ' + dataset + ' dataset')\n",
    "        f1s.append(main(args))\n",
    "    elif dataset == 'IMDB':\n",
    "        args.dropout = 0.5\n",
    "        print('\\nstart testing on ' + dataset + ' dataset')\n",
    "        f1s.append(main(args))\n",
    "    elif dataset == 'DBLP':\n",
    "        args.dropout = 0\n",
    "        print('\\nstart testing on ' + dataset + ' dataset')\n",
    "        f1s.append(main(args))"
   ]
  },
  {
   "cell_type": "code",
   "execution_count": null,
   "metadata": {},
   "outputs": [],
   "source": []
  }
 ],
 "metadata": {
  "kernelspec": {
   "display_name": "Python 3",
   "language": "python",
   "name": "python3"
  },
  "language_info": {
   "codemirror_mode": {
    "name": "ipython",
    "version": 3
   },
   "file_extension": ".py",
   "mimetype": "text/x-python",
   "name": "python",
   "nbconvert_exporter": "python",
   "pygments_lexer": "ipython3",
   "version": "3.8.8"
  }
 },
 "nbformat": 4,
 "nbformat_minor": 4
}
