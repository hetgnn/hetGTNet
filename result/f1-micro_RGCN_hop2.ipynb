{
 "cells": [
  {
   "cell_type": "code",
   "execution_count": 1,
   "metadata": {},
   "outputs": [
    {
     "name": "stderr",
     "output_type": "stream",
     "text": [
      "Using backend: pytorch\n"
     ]
    }
   ],
   "source": [
    "root_dir = '..' # dir of the source code\n",
    "import sys\n",
    "sys.path.append(root_dir)\n",
    "from train import main\n",
    "import numpy as np"
   ]
  },
  {
   "cell_type": "code",
   "execution_count": 2,
   "metadata": {},
   "outputs": [],
   "source": [
    "class config:\n",
    "    data = 'ACM'\n",
    "    data_path = '../data/preprocessed/'\n",
    "    model = 'RGCN'\n",
    "    n_hid = 64\n",
    "    dropout = 0.5\n",
    "    learning_rate = 0.005\n",
    "    weight_decay = 1e-5\n",
    "    patience = 100\n",
    "    num_iter = 500\n",
    "    num_test = 30\n",
    "    hop = 2\n",
    "    num_bases = 5 # num bases for RGCN\n",
    "    filter_pct = 0.1 # remove the top and bottom filer_pct points before obtaining statistics of test accuracy\n",
    "    log_step = 1000 # training log step\n",
    "    average = 'micro' # 'f1 average: can choose either macro or micro.'\n",
    "\n",
    "args = config()"
   ]
  },
  {
   "cell_type": "code",
   "execution_count": 3,
   "metadata": {
    "scrolled": false
   },
   "outputs": [
    {
     "name": "stdout",
     "output_type": "stream",
     "text": [
      "\n",
      "start testing on ACM dataset\n",
      "total time = 5.096, train time/epoch = 0.02680, best_val_f1 (micro) = 0.920, test_f1 (micro) = 0.913\n",
      "total time = 4.140, train time/epoch = 0.02425, best_val_f1 (micro) = 0.927, test_f1 (micro) = 0.920\n",
      "total time = 4.483, train time/epoch = 0.02532, best_val_f1 (micro) = 0.927, test_f1 (micro) = 0.918\n",
      "total time = 4.149, train time/epoch = 0.02601, best_val_f1 (micro) = 0.923, test_f1 (micro) = 0.920\n",
      "total time = 4.467, train time/epoch = 0.02613, best_val_f1 (micro) = 0.920, test_f1 (micro) = 0.922\n",
      "total time = 4.521, train time/epoch = 0.02600, best_val_f1 (micro) = 0.923, test_f1 (micro) = 0.924\n",
      "total time = 4.784, train time/epoch = 0.02651, best_val_f1 (micro) = 0.917, test_f1 (micro) = 0.910\n",
      "total time = 4.504, train time/epoch = 0.02575, best_val_f1 (micro) = 0.923, test_f1 (micro) = 0.923\n",
      "total time = 4.347, train time/epoch = 0.02669, best_val_f1 (micro) = 0.913, test_f1 (micro) = 0.923\n",
      "total time = 4.161, train time/epoch = 0.02594, best_val_f1 (micro) = 0.920, test_f1 (micro) = 0.923\n",
      "total time = 3.996, train time/epoch = 0.02536, best_val_f1 (micro) = 0.923, test_f1 (micro) = 0.923\n",
      "total time = 4.427, train time/epoch = 0.02580, best_val_f1 (micro) = 0.927, test_f1 (micro) = 0.916\n",
      "total time = 4.132, train time/epoch = 0.02531, best_val_f1 (micro) = 0.920, test_f1 (micro) = 0.912\n",
      "total time = 5.040, train time/epoch = 0.02585, best_val_f1 (micro) = 0.923, test_f1 (micro) = 0.915\n",
      "total time = 4.296, train time/epoch = 0.02617, best_val_f1 (micro) = 0.920, test_f1 (micro) = 0.909\n",
      "total time = 4.589, train time/epoch = 0.02604, best_val_f1 (micro) = 0.920, test_f1 (micro) = 0.924\n",
      "total time = 4.456, train time/epoch = 0.02598, best_val_f1 (micro) = 0.930, test_f1 (micro) = 0.913\n",
      "total time = 4.420, train time/epoch = 0.02546, best_val_f1 (micro) = 0.930, test_f1 (micro) = 0.918\n",
      "total time = 4.372, train time/epoch = 0.02549, best_val_f1 (micro) = 0.923, test_f1 (micro) = 0.909\n",
      "total time = 4.473, train time/epoch = 0.02581, best_val_f1 (micro) = 0.923, test_f1 (micro) = 0.905\n",
      "total time = 4.334, train time/epoch = 0.02592, best_val_f1 (micro) = 0.920, test_f1 (micro) = 0.922\n",
      "total time = 4.839, train time/epoch = 0.02566, best_val_f1 (micro) = 0.917, test_f1 (micro) = 0.921\n",
      "total time = 4.333, train time/epoch = 0.02591, best_val_f1 (micro) = 0.927, test_f1 (micro) = 0.928\n",
      "total time = 4.370, train time/epoch = 0.02608, best_val_f1 (micro) = 0.923, test_f1 (micro) = 0.919\n",
      "total time = 4.332, train time/epoch = 0.02608, best_val_f1 (micro) = 0.917, test_f1 (micro) = 0.914\n",
      "total time = 5.087, train time/epoch = 0.02612, best_val_f1 (micro) = 0.923, test_f1 (micro) = 0.920\n",
      "total time = 4.129, train time/epoch = 0.02608, best_val_f1 (micro) = 0.923, test_f1 (micro) = 0.920\n",
      "total time = 4.561, train time/epoch = 0.02598, best_val_f1 (micro) = 0.923, test_f1 (micro) = 0.900\n",
      "total time = 4.128, train time/epoch = 0.02612, best_val_f1 (micro) = 0.927, test_f1 (micro) = 0.912\n",
      "total time = 4.517, train time/epoch = 0.02608, best_val_f1 (micro) = 0.920, test_f1 (micro) = 0.913\n",
      "test micro-f1 (mean, std):  0.9170033130276798 0.0062929650919607396\n",
      "test micro-f1 (mean, std) after filter:  0.9174949235866197 0.00447013196074902\n",
      "\n",
      "start testing on IMDB dataset\n",
      "total time = 9.133, train time/epoch = 0.02639, best_val_f1 (micro) = 0.610, test_f1 (micro) = 0.578\n",
      "total time = 7.295, train time/epoch = 0.02607, best_val_f1 (micro) = 0.630, test_f1 (micro) = 0.566\n",
      "total time = 4.169, train time/epoch = 0.02592, best_val_f1 (micro) = 0.620, test_f1 (micro) = 0.577\n",
      "total time = 4.402, train time/epoch = 0.02597, best_val_f1 (micro) = 0.627, test_f1 (micro) = 0.579\n",
      "total time = 4.063, train time/epoch = 0.02606, best_val_f1 (micro) = 0.623, test_f1 (micro) = 0.592\n",
      "total time = 6.713, train time/epoch = 0.02609, best_val_f1 (micro) = 0.627, test_f1 (micro) = 0.563\n",
      "total time = 4.257, train time/epoch = 0.02610, best_val_f1 (micro) = 0.623, test_f1 (micro) = 0.587\n",
      "total time = 4.261, train time/epoch = 0.02609, best_val_f1 (micro) = 0.633, test_f1 (micro) = 0.589\n",
      "total time = 4.270, train time/epoch = 0.02609, best_val_f1 (micro) = 0.630, test_f1 (micro) = 0.583\n",
      "total time = 4.110, train time/epoch = 0.02605, best_val_f1 (micro) = 0.620, test_f1 (micro) = 0.574\n",
      "total time = 7.374, train time/epoch = 0.02609, best_val_f1 (micro) = 0.607, test_f1 (micro) = 0.582\n",
      "total time = 6.891, train time/epoch = 0.02614, best_val_f1 (micro) = 0.610, test_f1 (micro) = 0.571\n",
      "total time = 4.200, train time/epoch = 0.02612, best_val_f1 (micro) = 0.623, test_f1 (micro) = 0.594\n",
      "total time = 4.068, train time/epoch = 0.02608, best_val_f1 (micro) = 0.620, test_f1 (micro) = 0.589\n",
      "total time = 4.298, train time/epoch = 0.02604, best_val_f1 (micro) = 0.643, test_f1 (micro) = 0.585\n",
      "total time = 4.003, train time/epoch = 0.02560, best_val_f1 (micro) = 0.607, test_f1 (micro) = 0.567\n",
      "total time = 4.288, train time/epoch = 0.02599, best_val_f1 (micro) = 0.627, test_f1 (micro) = 0.592\n",
      "total time = 4.273, train time/epoch = 0.02617, best_val_f1 (micro) = 0.627, test_f1 (micro) = 0.591\n",
      "total time = 4.405, train time/epoch = 0.02643, best_val_f1 (micro) = 0.607, test_f1 (micro) = 0.576\n",
      "total time = 4.169, train time/epoch = 0.02605, best_val_f1 (micro) = 0.613, test_f1 (micro) = 0.583\n",
      "total time = 3.964, train time/epoch = 0.02510, best_val_f1 (micro) = 0.607, test_f1 (micro) = 0.591\n",
      "total time = 3.945, train time/epoch = 0.02574, best_val_f1 (micro) = 0.617, test_f1 (micro) = 0.570\n",
      "total time = 4.285, train time/epoch = 0.02608, best_val_f1 (micro) = 0.627, test_f1 (micro) = 0.584\n",
      "total time = 5.421, train time/epoch = 0.02610, best_val_f1 (micro) = 0.623, test_f1 (micro) = 0.586\n",
      "total time = 4.204, train time/epoch = 0.02596, best_val_f1 (micro) = 0.620, test_f1 (micro) = 0.573\n",
      "total time = 4.138, train time/epoch = 0.02551, best_val_f1 (micro) = 0.617, test_f1 (micro) = 0.579\n",
      "total time = 4.038, train time/epoch = 0.02582, best_val_f1 (micro) = 0.637, test_f1 (micro) = 0.583\n",
      "total time = 6.520, train time/epoch = 0.02604, best_val_f1 (micro) = 0.630, test_f1 (micro) = 0.579\n",
      "total time = 4.110, train time/epoch = 0.02611, best_val_f1 (micro) = 0.617, test_f1 (micro) = 0.577\n",
      "total time = 4.100, train time/epoch = 0.02605, best_val_f1 (micro) = 0.617, test_f1 (micro) = 0.576\n",
      "test micro-f1 (mean, std):  0.5805238354177996 0.00822671918758421\n",
      "test micro-f1 (mean, std) after filter:  0.5809429943810042 0.006087918932431598\n",
      "\n",
      "start testing on DBLP dataset\n",
      "total time = 5.783, train time/epoch = 0.03390, best_val_f1 (micro) = 0.940, test_f1 (micro) = 0.940\n",
      "total time = 5.825, train time/epoch = 0.03353, best_val_f1 (micro) = 0.932, test_f1 (micro) = 0.924\n",
      "total time = 5.694, train time/epoch = 0.03330, best_val_f1 (micro) = 0.930, test_f1 (micro) = 0.923\n",
      "total time = 10.561, train time/epoch = 0.03343, best_val_f1 (micro) = 0.943, test_f1 (micro) = 0.929\n",
      "total time = 5.773, train time/epoch = 0.03376, best_val_f1 (micro) = 0.930, test_f1 (micro) = 0.941\n",
      "total time = 5.679, train time/epoch = 0.03265, best_val_f1 (micro) = 0.935, test_f1 (micro) = 0.938\n",
      "total time = 5.739, train time/epoch = 0.03273, best_val_f1 (micro) = 0.945, test_f1 (micro) = 0.943\n",
      "total time = 5.618, train time/epoch = 0.03316, best_val_f1 (micro) = 0.938, test_f1 (micro) = 0.929\n",
      "total time = 6.015, train time/epoch = 0.03311, best_val_f1 (micro) = 0.943, test_f1 (micro) = 0.935\n",
      "total time = 5.728, train time/epoch = 0.03322, best_val_f1 (micro) = 0.932, test_f1 (micro) = 0.935\n",
      "total time = 5.521, train time/epoch = 0.03346, best_val_f1 (micro) = 0.940, test_f1 (micro) = 0.952\n",
      "total time = 5.706, train time/epoch = 0.03396, best_val_f1 (micro) = 0.935, test_f1 (micro) = 0.940\n",
      "total time = 5.806, train time/epoch = 0.03342, best_val_f1 (micro) = 0.938, test_f1 (micro) = 0.943\n",
      "total time = 5.510, train time/epoch = 0.03347, best_val_f1 (micro) = 0.920, test_f1 (micro) = 0.926\n",
      "total time = 5.850, train time/epoch = 0.03342, best_val_f1 (micro) = 0.943, test_f1 (micro) = 0.936\n",
      "total time = 8.204, train time/epoch = 0.03334, best_val_f1 (micro) = 0.945, test_f1 (micro) = 0.934\n",
      "total time = 6.032, train time/epoch = 0.03356, best_val_f1 (micro) = 0.945, test_f1 (micro) = 0.933\n",
      "total time = 9.455, train time/epoch = 0.03334, best_val_f1 (micro) = 0.938, test_f1 (micro) = 0.928\n"
     ]
    },
    {
     "name": "stdout",
     "output_type": "stream",
     "text": [
      "total time = 6.202, train time/epoch = 0.03344, best_val_f1 (micro) = 0.938, test_f1 (micro) = 0.939\n",
      "total time = 5.438, train time/epoch = 0.03330, best_val_f1 (micro) = 0.938, test_f1 (micro) = 0.938\n",
      "total time = 5.785, train time/epoch = 0.03354, best_val_f1 (micro) = 0.940, test_f1 (micro) = 0.942\n",
      "total time = 9.563, train time/epoch = 0.03351, best_val_f1 (micro) = 0.938, test_f1 (micro) = 0.929\n",
      "total time = 5.751, train time/epoch = 0.03341, best_val_f1 (micro) = 0.915, test_f1 (micro) = 0.913\n",
      "total time = 6.855, train time/epoch = 0.03338, best_val_f1 (micro) = 0.927, test_f1 (micro) = 0.924\n",
      "total time = 5.561, train time/epoch = 0.03317, best_val_f1 (micro) = 0.930, test_f1 (micro) = 0.932\n",
      "total time = 5.932, train time/epoch = 0.03323, best_val_f1 (micro) = 0.932, test_f1 (micro) = 0.934\n",
      "total time = 5.690, train time/epoch = 0.03323, best_val_f1 (micro) = 0.943, test_f1 (micro) = 0.939\n",
      "total time = 5.711, train time/epoch = 0.03312, best_val_f1 (micro) = 0.940, test_f1 (micro) = 0.938\n",
      "total time = 6.217, train time/epoch = 0.03317, best_val_f1 (micro) = 0.932, test_f1 (micro) = 0.926\n",
      "total time = 5.704, train time/epoch = 0.03332, best_val_f1 (micro) = 0.945, test_f1 (micro) = 0.946\n",
      "test micro-f1 (mean, std):  0.9342667133356669 0.007930503712355288\n",
      "test micro-f1 (mean, std) after filter:  0.9344738070236844 0.005337986043255154\n"
     ]
    }
   ],
   "source": [
    "f1s = []\n",
    "datasets = ['ACM', 'IMDB', 'DBLP']\n",
    "for dataset in datasets:\n",
    "    args.data = dataset\n",
    "    if dataset == 'ACM':\n",
    "        args.dropout = 0.5\n",
    "        print('\\nstart testing on ' + dataset + ' dataset')\n",
    "        f1s.append(main(args))\n",
    "    elif dataset == 'IMDB':\n",
    "        args.dropout = 0.5\n",
    "        print('\\nstart testing on ' + dataset + ' dataset')\n",
    "        f1s.append(main(args))\n",
    "    elif dataset == 'DBLP':\n",
    "        args.dropout = 0\n",
    "        print('\\nstart testing on ' + dataset + ' dataset')\n",
    "        f1s.append(main(args))"
   ]
  },
  {
   "cell_type": "code",
   "execution_count": null,
   "metadata": {},
   "outputs": [],
   "source": []
  }
 ],
 "metadata": {
  "kernelspec": {
   "display_name": "Python 3",
   "language": "python",
   "name": "python3"
  },
  "language_info": {
   "codemirror_mode": {
    "name": "ipython",
    "version": 3
   },
   "file_extension": ".py",
   "mimetype": "text/x-python",
   "name": "python",
   "nbconvert_exporter": "python",
   "pygments_lexer": "ipython3",
   "version": "3.8.8"
  }
 },
 "nbformat": 4,
 "nbformat_minor": 4
}
