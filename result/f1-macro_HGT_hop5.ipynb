{
 "cells": [
  {
   "cell_type": "code",
   "execution_count": 1,
   "metadata": {},
   "outputs": [
    {
     "name": "stderr",
     "output_type": "stream",
     "text": [
      "Using backend: pytorch\n"
     ]
    }
   ],
   "source": [
    "root_dir = '..' # dir of the source code\n",
    "import sys\n",
    "sys.path.append(root_dir)\n",
    "from train import main\n",
    "import numpy as np"
   ]
  },
  {
   "cell_type": "code",
   "execution_count": 2,
   "metadata": {},
   "outputs": [],
   "source": [
    "class config:\n",
    "    data = 'ACM'\n",
    "    data_path = '../data/preprocessed/'\n",
    "    model = 'HGT'\n",
    "    target_node_type = 'paper'\n",
    "    n_hid = 64\n",
    "    num_heads = 4\n",
    "    learning_rate = 0.005\n",
    "    weight_decay = 5e-5\n",
    "    patience = 100\n",
    "    num_iter = 500\n",
    "    num_test = 30\n",
    "    hop = 5\n",
    "    filter_pct = 0.1 # remove the top and bottom filer_pct points before obtaining statistics of test accuracy\n",
    "    log_step = 1000 # training log step\n",
    "    average = 'macro' # 'f1 average: can choose either macro or micro.'\n",
    "\n",
    "args = config()"
   ]
  },
  {
   "cell_type": "code",
   "execution_count": 3,
   "metadata": {},
   "outputs": [
    {
     "name": "stdout",
     "output_type": "stream",
     "text": [
      "\n",
      "start testing on ACM dataset\n",
      "total time = 23.841, train time/epoch = 0.13178, best_val_f1 (macro) = 0.890, test_f1 (macro) = 0.869\n",
      "total time = 21.824, train time/epoch = 0.11941, best_val_f1 (macro) = 0.897, test_f1 (macro) = 0.878\n",
      "total time = 19.944, train time/epoch = 0.11801, best_val_f1 (macro) = 0.914, test_f1 (macro) = 0.904\n",
      "total time = 21.287, train time/epoch = 0.12223, best_val_f1 (macro) = 0.913, test_f1 (macro) = 0.865\n",
      "total time = 24.887, train time/epoch = 0.13295, best_val_f1 (macro) = 0.893, test_f1 (macro) = 0.881\n",
      "total time = 26.760, train time/epoch = 0.13078, best_val_f1 (macro) = 0.897, test_f1 (macro) = 0.883\n",
      "total time = 23.525, train time/epoch = 0.11601, best_val_f1 (macro) = 0.904, test_f1 (macro) = 0.889\n",
      "total time = 23.175, train time/epoch = 0.11546, best_val_f1 (macro) = 0.913, test_f1 (macro) = 0.877\n",
      "total time = 20.206, train time/epoch = 0.12320, best_val_f1 (macro) = 0.907, test_f1 (macro) = 0.863\n",
      "total time = 22.065, train time/epoch = 0.12388, best_val_f1 (macro) = 0.900, test_f1 (macro) = 0.874\n",
      "total time = 27.640, train time/epoch = 0.12628, best_val_f1 (macro) = 0.886, test_f1 (macro) = 0.857\n",
      "total time = 20.794, train time/epoch = 0.12454, best_val_f1 (macro) = 0.890, test_f1 (macro) = 0.861\n",
      "total time = 21.621, train time/epoch = 0.12053, best_val_f1 (macro) = 0.904, test_f1 (macro) = 0.892\n",
      "total time = 21.408, train time/epoch = 0.11848, best_val_f1 (macro) = 0.904, test_f1 (macro) = 0.883\n",
      "total time = 19.667, train time/epoch = 0.11748, best_val_f1 (macro) = 0.896, test_f1 (macro) = 0.858\n",
      "total time = 20.139, train time/epoch = 0.12192, best_val_f1 (macro) = 0.910, test_f1 (macro) = 0.862\n",
      "total time = 27.529, train time/epoch = 0.12131, best_val_f1 (macro) = 0.890, test_f1 (macro) = 0.865\n",
      "total time = 24.485, train time/epoch = 0.12324, best_val_f1 (macro) = 0.907, test_f1 (macro) = 0.873\n",
      "total time = 21.463, train time/epoch = 0.12162, best_val_f1 (macro) = 0.910, test_f1 (macro) = 0.894\n",
      "total time = 21.329, train time/epoch = 0.12653, best_val_f1 (macro) = 0.907, test_f1 (macro) = 0.902\n",
      "total time = 19.295, train time/epoch = 0.12202, best_val_f1 (macro) = 0.907, test_f1 (macro) = 0.870\n",
      "total time = 20.464, train time/epoch = 0.12309, best_val_f1 (macro) = 0.900, test_f1 (macro) = 0.885\n",
      "total time = 25.262, train time/epoch = 0.11938, best_val_f1 (macro) = 0.890, test_f1 (macro) = 0.864\n",
      "total time = 20.203, train time/epoch = 0.11299, best_val_f1 (macro) = 0.903, test_f1 (macro) = 0.860\n",
      "total time = 23.034, train time/epoch = 0.11428, best_val_f1 (macro) = 0.907, test_f1 (macro) = 0.862\n",
      "total time = 19.561, train time/epoch = 0.11175, best_val_f1 (macro) = 0.884, test_f1 (macro) = 0.879\n",
      "total time = 33.547, train time/epoch = 0.11309, best_val_f1 (macro) = 0.907, test_f1 (macro) = 0.877\n",
      "total time = 20.164, train time/epoch = 0.11298, best_val_f1 (macro) = 0.913, test_f1 (macro) = 0.890\n",
      "total time = 20.165, train time/epoch = 0.11196, best_val_f1 (macro) = 0.893, test_f1 (macro) = 0.872\n",
      "total time = 21.364, train time/epoch = 0.11414, best_val_f1 (macro) = 0.903, test_f1 (macro) = 0.867\n",
      "test macro-f1 (mean, std):  0.87524251026996 0.012786405849797075\n",
      "test macro-f1 (mean, std) after filter:  0.874313970538231 0.009454536656188017\n",
      "\n",
      "start testing on IMDB dataset\n",
      "total time = 23.100, train time/epoch = 0.11082, best_val_f1 (macro) = 0.581, test_f1 (macro) = 0.554\n",
      "total time = 20.096, train time/epoch = 0.11156, best_val_f1 (macro) = 0.583, test_f1 (macro) = 0.541\n",
      "total time = 29.530, train time/epoch = 0.11235, best_val_f1 (macro) = 0.569, test_f1 (macro) = 0.548\n",
      "total time = 22.501, train time/epoch = 0.11357, best_val_f1 (macro) = 0.602, test_f1 (macro) = 0.577\n",
      "total time = 26.613, train time/epoch = 0.11319, best_val_f1 (macro) = 0.606, test_f1 (macro) = 0.553\n",
      "total time = 22.687, train time/epoch = 0.11330, best_val_f1 (macro) = 0.592, test_f1 (macro) = 0.566\n",
      "total time = 22.908, train time/epoch = 0.11286, best_val_f1 (macro) = 0.617, test_f1 (macro) = 0.577\n",
      "total time = 21.663, train time/epoch = 0.11352, best_val_f1 (macro) = 0.607, test_f1 (macro) = 0.568\n",
      "total time = 27.365, train time/epoch = 0.11358, best_val_f1 (macro) = 0.612, test_f1 (macro) = 0.562\n",
      "total time = 21.126, train time/epoch = 0.11366, best_val_f1 (macro) = 0.574, test_f1 (macro) = 0.546\n",
      "total time = 26.592, train time/epoch = 0.11244, best_val_f1 (macro) = 0.580, test_f1 (macro) = 0.560\n",
      "total time = 25.781, train time/epoch = 0.11268, best_val_f1 (macro) = 0.602, test_f1 (macro) = 0.564\n",
      "total time = 24.712, train time/epoch = 0.11278, best_val_f1 (macro) = 0.600, test_f1 (macro) = 0.571\n",
      "total time = 24.823, train time/epoch = 0.11266, best_val_f1 (macro) = 0.605, test_f1 (macro) = 0.556\n",
      "total time = 31.738, train time/epoch = 0.11238, best_val_f1 (macro) = 0.587, test_f1 (macro) = 0.552\n",
      "total time = 23.659, train time/epoch = 0.11235, best_val_f1 (macro) = 0.598, test_f1 (macro) = 0.567\n",
      "total time = 25.662, train time/epoch = 0.11332, best_val_f1 (macro) = 0.614, test_f1 (macro) = 0.563\n",
      "total time = 25.455, train time/epoch = 0.11283, best_val_f1 (macro) = 0.605, test_f1 (macro) = 0.574\n",
      "total time = 21.374, train time/epoch = 0.11245, best_val_f1 (macro) = 0.602, test_f1 (macro) = 0.569\n",
      "total time = 20.348, train time/epoch = 0.11296, best_val_f1 (macro) = 0.601, test_f1 (macro) = 0.567\n",
      "total time = 20.857, train time/epoch = 0.11197, best_val_f1 (macro) = 0.608, test_f1 (macro) = 0.564\n",
      "total time = 20.668, train time/epoch = 0.11171, best_val_f1 (macro) = 0.581, test_f1 (macro) = 0.565\n",
      "total time = 21.936, train time/epoch = 0.11276, best_val_f1 (macro) = 0.605, test_f1 (macro) = 0.564\n",
      "total time = 22.324, train time/epoch = 0.11311, best_val_f1 (macro) = 0.600, test_f1 (macro) = 0.554\n",
      "total time = 29.487, train time/epoch = 0.11191, best_val_f1 (macro) = 0.618, test_f1 (macro) = 0.573\n",
      "total time = 22.423, train time/epoch = 0.11198, best_val_f1 (macro) = 0.614, test_f1 (macro) = 0.554\n",
      "total time = 22.541, train time/epoch = 0.11162, best_val_f1 (macro) = 0.590, test_f1 (macro) = 0.561\n",
      "total time = 20.083, train time/epoch = 0.11257, best_val_f1 (macro) = 0.605, test_f1 (macro) = 0.562\n",
      "total time = 24.799, train time/epoch = 0.11210, best_val_f1 (macro) = 0.590, test_f1 (macro) = 0.569\n",
      "total time = 25.360, train time/epoch = 0.11246, best_val_f1 (macro) = 0.617, test_f1 (macro) = 0.565\n",
      "test macro-f1 (mean, std):  0.5622617353013236 0.008742304619030647\n",
      "test macro-f1 (mean, std) after filter:  0.5626994609287082 0.0058505162892897936\n",
      "\n",
      "start testing on DBLP dataset\n",
      "total time = 93.041, train time/epoch = 0.17406, best_val_f1 (macro) = 0.947, test_f1 (macro) = 0.921\n",
      "total time = 52.246, train time/epoch = 0.17489, best_val_f1 (macro) = 0.940, test_f1 (macro) = 0.920\n",
      "total time = 31.408, train time/epoch = 0.17416, best_val_f1 (macro) = 0.935, test_f1 (macro) = 0.918\n",
      "total time = 56.655, train time/epoch = 0.17437, best_val_f1 (macro) = 0.935, test_f1 (macro) = 0.914\n",
      "total time = 31.793, train time/epoch = 0.17540, best_val_f1 (macro) = 0.935, test_f1 (macro) = 0.918\n",
      "total time = 31.492, train time/epoch = 0.17469, best_val_f1 (macro) = 0.925, test_f1 (macro) = 0.923\n",
      "total time = 31.480, train time/epoch = 0.17517, best_val_f1 (macro) = 0.935, test_f1 (macro) = 0.926\n",
      "total time = 33.547, train time/epoch = 0.17501, best_val_f1 (macro) = 0.920, test_f1 (macro) = 0.907\n",
      "total time = 33.387, train time/epoch = 0.17800, best_val_f1 (macro) = 0.940, test_f1 (macro) = 0.915\n",
      "total time = 55.034, train time/epoch = 0.17486, best_val_f1 (macro) = 0.940, test_f1 (macro) = 0.920\n",
      "total time = 31.032, train time/epoch = 0.17535, best_val_f1 (macro) = 0.933, test_f1 (macro) = 0.919\n",
      "total time = 32.859, train time/epoch = 0.17525, best_val_f1 (macro) = 0.920, test_f1 (macro) = 0.907\n",
      "total time = 33.504, train time/epoch = 0.17499, best_val_f1 (macro) = 0.942, test_f1 (macro) = 0.924\n",
      "total time = 66.571, train time/epoch = 0.17487, best_val_f1 (macro) = 0.935, test_f1 (macro) = 0.913\n",
      "total time = 35.089, train time/epoch = 0.17512, best_val_f1 (macro) = 0.920, test_f1 (macro) = 0.905\n",
      "total time = 33.197, train time/epoch = 0.17481, best_val_f1 (macro) = 0.947, test_f1 (macro) = 0.925\n",
      "total time = 32.708, train time/epoch = 0.17480, best_val_f1 (macro) = 0.910, test_f1 (macro) = 0.904\n"
     ]
    },
    {
     "name": "stdout",
     "output_type": "stream",
     "text": [
      "total time = 48.278, train time/epoch = 0.17447, best_val_f1 (macro) = 0.933, test_f1 (macro) = 0.914\n",
      "total time = 29.827, train time/epoch = 0.17531, best_val_f1 (macro) = 0.943, test_f1 (macro) = 0.919\n",
      "total time = 31.585, train time/epoch = 0.17562, best_val_f1 (macro) = 0.927, test_f1 (macro) = 0.907\n",
      "total time = 29.967, train time/epoch = 0.17480, best_val_f1 (macro) = 0.930, test_f1 (macro) = 0.911\n",
      "total time = 32.202, train time/epoch = 0.17497, best_val_f1 (macro) = 0.933, test_f1 (macro) = 0.924\n",
      "total time = 31.117, train time/epoch = 0.17571, best_val_f1 (macro) = 0.945, test_f1 (macro) = 0.922\n",
      "total time = 32.896, train time/epoch = 0.17444, best_val_f1 (macro) = 0.930, test_f1 (macro) = 0.906\n",
      "total time = 31.917, train time/epoch = 0.17454, best_val_f1 (macro) = 0.933, test_f1 (macro) = 0.923\n",
      "total time = 33.521, train time/epoch = 0.18171, best_val_f1 (macro) = 0.933, test_f1 (macro) = 0.915\n",
      "total time = 86.614, train time/epoch = 0.17579, best_val_f1 (macro) = 0.933, test_f1 (macro) = 0.920\n",
      "total time = 32.013, train time/epoch = 0.17528, best_val_f1 (macro) = 0.940, test_f1 (macro) = 0.915\n",
      "total time = 29.881, train time/epoch = 0.17485, best_val_f1 (macro) = 0.920, test_f1 (macro) = 0.910\n",
      "total time = 33.199, train time/epoch = 0.17473, best_val_f1 (macro) = 0.925, test_f1 (macro) = 0.905\n",
      "test macro-f1 (mean, std):  0.9156252558630785 0.0067177837882989545\n",
      "test macro-f1 (mean, std) after filter:  0.9158025557760198 0.005517393075829194\n"
     ]
    }
   ],
   "source": [
    "f1s = []\n",
    "datasets = ['ACM', 'IMDB', 'DBLP']\n",
    "for dataset in datasets:\n",
    "    args.data = dataset\n",
    "    if dataset == 'ACM':\n",
    "        args.target_node_type = 'paper'\n",
    "        print('\\nstart testing on ' + dataset + ' dataset')\n",
    "        f1s.append(main(args))\n",
    "    elif dataset == 'IMDB':\n",
    "        args.target_node_type = 'movie'\n",
    "        print('\\nstart testing on ' + dataset + ' dataset')\n",
    "        f1s.append(main(args))\n",
    "    elif dataset == 'DBLP':\n",
    "        args.target_node_type = 'author'\n",
    "        print('\\nstart testing on ' + dataset + ' dataset')\n",
    "        f1s.append(main(args))"
   ]
  },
  {
   "cell_type": "code",
   "execution_count": 4,
   "metadata": {},
   "outputs": [],
   "source": [
    "f1s = np.array(f1s)"
   ]
  },
  {
   "cell_type": "code",
   "execution_count": null,
   "metadata": {},
   "outputs": [],
   "source": []
  }
 ],
 "metadata": {
  "kernelspec": {
   "display_name": "Python 3",
   "language": "python",
   "name": "python3"
  },
  "language_info": {
   "codemirror_mode": {
    "name": "ipython",
    "version": 3
   },
   "file_extension": ".py",
   "mimetype": "text/x-python",
   "name": "python",
   "nbconvert_exporter": "python",
   "pygments_lexer": "ipython3",
   "version": "3.8.8"
  }
 },
 "nbformat": 4,
 "nbformat_minor": 4
}
